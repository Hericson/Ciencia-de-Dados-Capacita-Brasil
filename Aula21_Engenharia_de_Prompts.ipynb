{
  "cells": [
    {
      "cell_type": "markdown",
      "metadata": {
        "id": "wzKCXmbZ-foB"
      },
      "source": [
        "# **Engenharia de Prompt para Modelos de Linguagem**\n",
        "\n",
        "### **Introdução**\n",
        "A engenharia de prompt é uma técnica fundamental para interagir eficientemente com modelos de linguagem como o ChatGPT. A forma como um prompt é escrito pode influenciar diretamente a qualidade, precisão e relevância das respostas geradas.\n",
        "\n",
        "Nesta prática, vamos explorar diferentes estratégias para elaborar prompts eficazes. O objetivo é entender como pequenas variações na formulação do prompt podem impactar a resposta e aprender a otimizar prompts para diferentes finalidades.\n",
        "\n",
        "A atividade será registrada neste Google Colab, onde você documentará seus testes, análises e melhorias nos prompts.\n",
        "\n",
        "### **Objetivos**\n",
        " - Compreender os princípios básicos da engenharia de prompt  \n",
        " - Experimentar diferentes técnicas de prompting  \n",
        " - Avaliar a qualidade das respostas geradas  \n",
        " - Refinar prompts para otimizar os resultados  \n",
        "\n",
        "### **Sumário da Atividade**\n",
        "1. **Introdução à Engenharia de Prompt**  \n",
        "   - O que é um prompt?  \n",
        "   - Por que a engenharia de prompt é importante?  \n",
        "   - Exemplos básicos de prompts e suas respostas.  \n",
        "\n",
        "2. **Técnicas de Engenharia de Prompt**  \n",
        "   - **Zero-shot Prompting** (sem fornecer exemplos)  \n",
        "   - **Few-shot Prompting** (fornecendo exemplos para guiar o modelo)  \n",
        "   - **Role-playing** (fazendo o modelo assumir um papel específico)  \n",
        "   - **Chain-of-Thought (CoT)** (incentivando respostas passo a passo)  \n",
        "   - **Iteração e Refinamento de Prompts** (melhorando a formulação do prompt para obter respostas mais precisas)  \n",
        "\n",
        "3. **Explorando Técnicas Avançadas de Engenharia de Prompt**  \n",
        "   - **Self-Consistency Prompting** (geração de múltiplas respostas para maior confiabilidade)  \n",
        "   - **Instruction-Based Prompting** (uso de instruções estruturadas para obter melhores respostas)  \n",
        "   - **Multimodal Prompting** (uso combinado de texto e imagens, se aplicável)  \n",
        "   - **Prompt Chaining** (respostas encadeadas para construção progressiva de conhecimento)  \n",
        "   - **Contrastive Prompting** (comparação entre conceitos diferentes)  \n",
        "   - **Persona-Based Prompting** (fazendo o modelo responder como um personagem específico)  \n",
        "   - **Ethical or Bias-Aware Prompting** (consideração de aspectos éticos e vieses nas respostas)  \n",
        "\n",
        "\n",
        "4. **Desafio: Otimização de Prompt**  \n",
        "   - Início com um prompt ruim  \n",
        "   - Iteração para melhorar a clareza e a especificidade do prompt  \n",
        "   - Comparação dos resultados antes e depois  \n",
        "\n",
        "\n",
        "\n"
      ]
    },
    {
      "cell_type": "markdown",
      "metadata": {
        "id": "Gji6_L0a_lkD"
      },
      "source": [
        "# **Atividade 1 - Introdução à Engenharia de Prompt**\n",
        "\n",
        "### **O que é um Prompt?**\n",
        "Um **prompt** é um comando ou pergunta que enviamos a um modelo de linguagem para obter uma resposta. A qualidade do prompt afeta diretamente a precisão e utilidade da resposta.\n",
        "\n",
        "### **Por que a Engenharia de Prompt é Importante?**\n",
        "- Um prompt bem elaborado pode **melhorar significativamente** a qualidade das respostas.  \n",
        "- Pequenas mudanças na formulação podem gerar **respostas mais completas e coerentes**.  \n",
        "- Diferentes abordagens podem ser utilizadas para **controlar o comportamento do modelo**.  \n",
        "\n",
        "---\n",
        "\n",
        "## **Parte 1 - Testando Prompts Simples**\n",
        "Agora, vamos testar alguns prompts básicos para observar as diferenças nas respostas.\n",
        "\n",
        "1.  **Copie e cole os prompts abaixo no ChatGPT**  \n",
        "2. **Registre a resposta no Google Colab**  \n",
        "3. **Compare os resultados e reflita sobre as diferenças**  \n",
        "\n",
        "---\n",
        "\n",
        "### **Teste 1 - Prompt Simples**\n",
        "📌 **Prompt:**  \n",
        "```plaintext\n",
        "Explique o que é aprendizado de máquina.\n"
      ]
    },
    {
      "cell_type": "markdown",
      "metadata": {
        "id": "1sNGmXv0AtGy"
      },
      "source": [
        "\n",
        "📌 **Tarefa:**  \n",
        "- Cole o prompt no ChatGPT e registre a resposta aqui no Colab.  \n",
        "- Você acha que a resposta foi clara e completa?  \n",
        "- Como você poderia melhorar esse prompt?  \n",
        "\n",
        "\n",
        "\n",
        "\n"
      ]
    },
    {
      "cell_type": "markdown",
      "metadata": {
        "id": "6ewZiuEIBIiQ"
      },
      "source": [
        "\n",
        "✍️ **Resposta do GEMINI:**\n",
        "\n",
        "\n",
        "Aprendizado de Máquina (Machine Learning): Uma Introdução Abrangente\n",
        "\n",
        "O aprendizado de máquina (ML), também conhecido como \"machine learning\", é um ramo da inteligência artificial (IA) que se concentra no desenvolvimento de sistemas capazes de aprender e tomar decisões sem serem explicitamente programados para isso. Em vez de receberem instruções detalhadas sobre como executar uma tarefa, os algoritmos de ML são alimentados com grandes quantidades de dados e, a partir deles, identificam padrões, fazem previsões e melhoram seu desempenho ao longo do tempo.\n",
        "\n"
      ]
    },
    {
      "cell_type": "markdown",
      "metadata": {
        "id": "Jwt1woP2BLFv"
      },
      "source": [
        "✍️ **Análise:**\n",
        "\n",
        "Rafael: Resposta genérica, que faz sentido, mas que está bem resumida (coletado apenas a primeira parte da resposta)\n",
        "\n",
        "Luiza: Bem completa, demonstra o funcionamento, tipo de aprendizado, aplicações e futuro.\n",
        "\n",
        "De um modo geral, o modelo respondeu de acordo com o esperado."
      ]
    },
    {
      "cell_type": "markdown",
      "metadata": {
        "id": "nzhSpG8lBckm"
      },
      "source": [
        "---\n",
        "\n",
        "### **Teste 2 - Prompt Específico**\n",
        "📌 **Prompt:**  \n",
        "```plaintext\n",
        "Explique o que é aprendizado de máquina de forma simples, como se estivesse ensinando para uma criança de 10 anos.\n",
        "```\n",
        "📌 **Tarefa:**  \n",
        "- Compare essa resposta com a do Teste 1.  \n",
        "- Houve diferenças na explicação?  \n",
        "- A resposta ficou mais clara ou mais adequada para o público-alvo?  \n",
        "\n",
        "\n",
        "\n",
        "---"
      ]
    },
    {
      "cell_type": "markdown",
      "metadata": {
        "id": "KeIPxtgIBfK_"
      },
      "source": [
        "✍️ **Resposta do ChatGPT:**\n",
        "\n",
        "Aprendizado de máquina é como ensinar um computador a aprender sozinho, assim como você aprende com a experiência.\n",
        "\n",
        "Imagine que você tem um robô e quer que ele reconheça gatos e cachorros em fotos. Em vez de dizer exatamente como diferenciar os dois, você mostra muitas imagens de gatos e cachorros e diz quais são quais. O robô observa os exemplos e começa a entender padrões, como \"gatos geralmente têm bigodes finos\" ou \"cachorros costumam ter orelhas maiores\".\n",
        "\n",
        "Depois de aprender, se você mostrar uma nova foto que ele nunca viu antes, ele pode adivinhar se é um gato ou um cachorro com base no que aprendeu. Quanto mais ele pratica, melhor ele fica!\n",
        "\n",
        "Os computadores usam esse tipo de aprendizado para várias coisas, como sugerir vídeos no YouTube, entender o que você fala com a Alexa ou até ajudar médicos a descobrir doenças. É como um cérebro artificial que melhora com a experiência!"
      ]
    },
    {
      "cell_type": "markdown",
      "metadata": {
        "id": "FlrB4yOFBjev"
      },
      "source": [
        "✍️ **Análise:**\n",
        "\n",
        "Luiza: Bem explicativa e lúdica, usando contexto baseado no cotidiano da criança sem utilizar termos técnicos."
      ]
    },
    {
      "cell_type": "markdown",
      "metadata": {
        "id": "HvJdsYx7_yca"
      },
      "source": [
        "\n",
        "\n",
        "### **Teste 3 - Prompt com Contexto**\n",
        "📌 **Prompt:**  \n",
        "```plaintext\n",
        "Explique o que é aprendizado de máquina de forma simples, como se estivesse ensinando para uma criança de 10 anos. Use um exemplo prático e divertido.\n",
        "```\n",
        "📌 **Tarefa:**  \n",
        "- A adição de um exemplo mudou a resposta?  \n",
        "- O exemplo ajudou a tornar o conceito mais compreensível?  \n",
        "- Compare essa resposta com as anteriores.  \n",
        "\n",
        "\n",
        "---\n",
        "\n",
        "  \n",
        "\n"
      ]
    },
    {
      "cell_type": "markdown",
      "metadata": {
        "id": "9GoH-ttQCMHV"
      },
      "source": [
        "✍️ **Resposta do ChatGPT:**\n",
        "\n",
        "### Como o Robôzinho aprende?\n",
        "1. **Mostrando exemplos**: Você pega uma maçã, uma banana e uma laranja e mostra para ele. Para cada fruta, você diz: \"Isso é uma maçã\", \"Isso é uma banana\", \"Isso é uma laranja\". Isso é como dar dicas para ele.\n",
        "\n",
        "2. Praticando: Depois de ver várias frutas, o Robôzinho começa a notar padrões. Por exemplo, ele percebe que maçãs são geralmente vermelhas e redondas, bananas são compridas e amarelas, e laranjas são... bem, laranjas e redondas.\n",
        "\n",
        "3. Testando: Agora, você pega uma fruta nova (que ele nunca viu antes) e pergunta: \"O que é isso?\". Se ele aprendeu direitinho, ele vai dizer: \"Isso é uma maçã!\" ou \"Isso é uma banana!\". Se ele errar, você corrige, e ele aprende mais.\n",
        "Isso é aprendizado de máquina!\n",
        "O Robôzinho está usando dados (as frutas que você mostrou) para aprender a reconhecer padrões e tomar decisões (adivinhar qual fruta é qual). Quanto mais exemplos ele vê, melhor ele fica!\n",
        "\n",
        "4. E no mundo real?\n",
        "Isso acontece com computadores também! Eles podem aprender a reconhecer fotos de gatos, sugerir músicas que você pode gostar ou até ajudar carros a dirigirem sozinhos. Tudo isso porque eles \"treinam\" com muitos exemplos, assim como o Robôzinho fez com as frutas.\n"
      ]
    },
    {
      "cell_type": "markdown",
      "metadata": {
        "id": "jR7cQ9esCQsB"
      },
      "source": [
        "✍️ **Análise:**\n",
        "\n",
        "O modelo indicou um exemplo bem simples e lúdico para uma criança de 10 anos entender."
      ]
    },
    {
      "cell_type": "markdown",
      "metadata": {
        "id": "PiIwM0sgF5Ha"
      },
      "source": []
    },
    {
      "cell_type": "markdown",
      "metadata": {
        "id": "sSM3dy0VH8w5"
      },
      "source": [
        "\n",
        "# **Atividade 2 - Técnicas de Engenharia de Prompt**\n",
        "\n",
        "Na atividade anterior, exploramos como pequenas mudanças em um prompt podem impactar a resposta do modelo. Agora, vamos aprofundar esse conhecimento testando diferentes técnicas de engenharia de prompt.\n",
        "\n",
        "\n",
        "## 1. Zero-Shot Prompting (Sem Exemplos)\n",
        "No zero-shot prompting, o modelo recebe apenas a instrução, sem exemplos para guiar a resposta.\n",
        "\n",
        "### 📌 Exemplo 1\n",
        "**Prompt:**  \n",
        "```plaintext\n",
        "Explique o conceito de clustering em aprendizado de máquina.\n",
        "```\n"
      ]
    },
    {
      "cell_type": "markdown",
      "metadata": {
        "id": "iviGKbA4IxjG"
      },
      "source": [
        "✍️ **Resposta do ChatGPT:**\n",
        "\n",
        "O clustering (ou agrupamento) é uma técnica de aprendizado de máquina não supervisionado que organiza dados em grupos (ou clusters) com base em suas semelhanças. O objetivo é encontrar padrões ocultos nos dados sem que haja rótulos ou categorias pré-definidas.\n",
        "\n",
        "Como funciona?\n",
        "Imagine que você tem um monte de bolas de diferentes cores e tamanhos espalhadas pelo chão. Se você pedir para um robô organizá-las, mas sem dizer como, ele pode agrupá-las por cor, tamanho ou até outro critério que ele enc\n",
        "critério que ele encontrar. Isso é o clustering!\n"
      ]
    },
    {
      "cell_type": "markdown",
      "metadata": {
        "id": "s5OFXDU4I0GD"
      },
      "source": [
        "✍️ **Análise:**\n",
        "\n",
        "Rafael: Achou clara a resposta (dependendo do modelo, eles usam respostas parecidas o que pode indicar o uso de bases de conhecimento também parecidas)"
      ]
    },
    {
      "cell_type": "markdown",
      "metadata": {
        "id": "JUDOh6gxJFNS"
      },
      "source": [
        "### 📌 Exemplo 2\n",
        "**Prompt:**  \n",
        "```plaintext\n",
        "O que é um modelo de regressão linear? Explique de forma técnica.\n",
        "```\n"
      ]
    },
    {
      "cell_type": "markdown",
      "metadata": {
        "id": "MZZek3nSJIIQ"
      },
      "source": [
        "✍️ **Resposta do ChatGPT:**\n",
        "\n",
        "Um modelo de regressão linear é uma técnica estatística e de aprendizado de máquina usada para modelar a relação entre uma variável dependente (ou resposta) e uma ou mais variáveis independentes (ou preditivas). Ele assume que essa relação pode ser representada por uma função linear, ou seja, uma reta (no caso de uma única variável independente) ou um hiperplano (no caso de múltiplas variáveis independentes).\n"
      ]
    },
    {
      "cell_type": "markdown",
      "metadata": {
        "id": "_azY7-MuJKbO"
      },
      "source": [
        "✍️ **Análise:**\n",
        "\n",
        "Rafael: Achou bem detalhada e como foi pedido, ele respondeu de forma bem técnica\n",
        "\n",
        "Luiza: Achou sucinta"
      ]
    },
    {
      "cell_type": "markdown",
      "metadata": {
        "id": "EmNFg9LcJepg"
      },
      "source": [
        "\n",
        "## 2. Few-Shot Prompting (Com Exemplos)\n",
        "No few-shot prompting, fornecemos exemplos para orientar o modelo a gerar respostas mais alinhadas ao que queremos.\n",
        "\n",
        "### 📌 Exemplo 1\n",
        "**Prompt:**  \n",
        "```plaintext\n",
        "Aqui estão algumas definições técnicas de conceitos de aprendizado de máquina:\n",
        "\n",
        "1. Clustering: Técnica usada para agrupar dados similares sem supervisão. Exemplo: Agrupar clientes com base em seu comportamento de compra.\n",
        "2. Regressão Linear: Técnica que modela a relação entre variáveis preditoras e um alvo contínuo.\n",
        "\n",
        "Agora, explique o que é uma árvore de decisão.\n",
        "```\n"
      ]
    },
    {
      "cell_type": "markdown",
      "metadata": {
        "id": "LmsZ0VZCKDo0"
      },
      "source": [
        "✍️ **Resposta do ChatGPT:**\n",
        "\n",
        "\n",
        "Uma árvore de decisão é um algoritmo de aprendizado de máquina supervisionado usado para classificação e regressão. É uma estrutura hierárquica em forma de árvore que toma decisões com base em diferentes parâmetros.\n",
        "\n",
        "Árvore de decisão em aprendizado de máquina\n",
        "\n",
        "Componentes de uma árvore de decisão:\n",
        "\n",
        "Nó raiz: O nó superior que representa todo o conjunto de dados.\n",
        "\n",
        "Nós internos: Nós que representam pontos de decisão com base em diferentes atributos.\n",
        "\n",
        "Ramos: Conexões entre os nós que representam os resultados das decisões.\n",
        "\n",
        "Nós folha: Nós finais que representam os resultados finais ou previsões.\n",
        "\n",
        "\n"
      ]
    },
    {
      "cell_type": "markdown",
      "metadata": {
        "id": "BnI6zm-BKFus"
      },
      "source": [
        "✍️ **Análise:**\n",
        "\n",
        "Luiza: seguiu sim, sendo bem técnico como os exemplos inseridos"
      ]
    },
    {
      "cell_type": "markdown",
      "metadata": {
        "id": "Z53pAOQwJimj"
      },
      "source": [
        "### 📌 Exemplo 2\n",
        "**Prompt:**  \n",
        "```plaintext\n",
        "Aqui estão algumas respostas simplificadas para explicar conceitos de ciência de dados para iniciantes:\n",
        "\n",
        "1. Redes Neurais: Um modelo de aprendizado inspirado no cérebro humano, que aprende com exemplos.\n",
        "2. K-Means: Algoritmo de clustering que separa dados em grupos com base na proximidade dos pontos.\n",
        "\n",
        "Agora, explique o que é Random Forest de maneira simples.\n",
        "```\n",
        "\n",
        "\n",
        "---\n"
      ]
    },
    {
      "cell_type": "markdown",
      "metadata": {
        "id": "Tmy3nl2FJpMW"
      },
      "source": [
        "✍️ **Resposta do ChatGPT:**\n",
        "\n",
        "Random Forest é um modelo de aprendizado de máquina que funciona como uma floresta de árvores de decisão.\n",
        "Imagine que você quer decidir qual filme assistir. Em vez de perguntar a uma única pessoa (que pode errar), você pergunta a um grupo grande de amigos. Cada um dá sua opinião com base no que já assistiu e gostou. A resposta final será a mais votada.\n",
        "\n",
        "\n",
        "O Random Forest faz algo parecido: ele cria várias árvores de decisão, cada uma dando sua previsão. No final, ele combina os resultados para dar uma resposta mais precisa e confiável. Isso torna o modelo mais forte e menos propenso a erros do que usar apenas uma árvore de decisão.\n",
        "\n",
        "Ele é muito usado para prever preços, detectar fraudes e classificar imagens."
      ]
    },
    {
      "cell_type": "markdown",
      "metadata": {
        "id": "Gd4SsSDKJq1D"
      },
      "source": [
        "✍️ **Análise:**\n",
        "\n",
        "\n",
        "Rafael Pereira: Sim"
      ]
    },
    {
      "cell_type": "markdown",
      "metadata": {
        "id": "x5p4zTZPJ_Lg"
      },
      "source": [
        "## 3. Role-Playing (Mudando o Papel do Modelo)\n",
        "No role-playing prompting, instruímos o modelo a assumir um papel específico.\n",
        "\n",
        "### 📌 Exemplo 1\n",
        "**Prompt:**  \n",
        "```plaintext\n",
        "Você é um professor universitário de Ciência de Dados. Explique como funciona o algoritmo KNN para um aluno que está começando no assunto.\n",
        "```\n",
        "\n",
        "\n"
      ]
    },
    {
      "cell_type": "markdown",
      "metadata": {
        "id": "SePhPnlvLIpv"
      },
      "source": [
        "✍️ **Resposta do ChatGPT:**\n",
        "\n",
        "Algoritmo KNN: Uma Abordagem Intuitiva para Aprendizado de Máquina\n",
        "\n",
        "Olá! É ótimo que você esteja começando a se aventurar no mundo do aprendizado de máquina. O algoritmo KNN (K-Nearest Neighbors, ou K-Vizinhos Mais Próximos) é um dos mais intuitivos e fáceis de entender, sendo um excelente ponto de partida para sua jornada.\n",
        "\n",
        "Imagine o seguinte cenário:\n",
        "\n",
        "Você está em uma festa e conhece uma pessoa nova. Para tentar descobrir se ela é uma pessoa interessante para conversar, você observa as pessoas\n",
        "com quem ela está interagindo. Se ela estiver rodeada de pessoas que você considera legais, é bem provável que ela também seja legal, certo?\n",
        "O KNN funciona de maneira similar:\n",
        "\n",
        "Dado um conjunto de dados com exemplos já classificados (nossos \"vizinhos\"), o KNN busca os K exemplos mais próximos de um novo dado (a pessoa nova na festa) e atribui a ele a classe mais frequente entre esses vizinhos.\n"
      ]
    },
    {
      "cell_type": "markdown",
      "metadata": {
        "id": "vxTkioCFLMHV"
      },
      "source": [
        "✍️ **Análise:**\n",
        "\n",
        " Hericson: Super didático e muito bom para ensinar um aluno iniciante"
      ]
    },
    {
      "cell_type": "markdown",
      "metadata": {
        "id": "FwHbSkSOKy4M"
      },
      "source": [
        "### 📌 Exemplo 2\n",
        "**Prompt:**  \n",
        "```plaintext\n",
        "Você é um cientista de dados experiente sendo entrevistado por uma revista. Explique como funciona um modelo de regressão logística para um público que não tem conhecimento técnico.\n",
        "```\n",
        "  \n",
        "\n",
        "---"
      ]
    },
    {
      "cell_type": "markdown",
      "metadata": {
        "id": "VtuOiQnlK21C"
      },
      "source": [
        "✍️ **Resposta do ChatGPT:**\n",
        "\n",
        "Entrevistador: Sabemos que a inteligência artificial está transformando o mundo, mas muitos dos modelos usados ainda parecem um mistério para o público. Você poderia explicar, de forma simples, como funciona um modelo de regressão logística?\n",
        "\n",
        "Cientista de Dados: Claro! Pense na regressão logística como uma ferramenta que ajuda a tomar decisões de \"sim\" ou \"não\" com base em dados. Ela é usada para prever algo que só tem duas respostas possíveis, como:\n",
        "\n",
        "Um e-mail é spam ou não?\n",
        "\n",
        "Um paciente tem risco de doença ou não?\n",
        "\n",
        "Um cliente vai comprar um produto ou não?\n",
        "\n",
        "Entrevistador: E como ela faz isso?\n",
        "\n",
        "Cientista de Dados: Imagine que você é um técnico de basquete e quer prever se um jogador tem boas chances de acertar um arremesso. Você pode analisar dados como:\n",
        "\n",
        "A distância até a cesta\n",
        "\n",
        "A experiência do jogador\n",
        "\n",
        "O ângulo do arremesso\n",
        "\n",
        "Cada um desses fatores tem um peso diferente na decisão final.\n",
        "\n",
        "A regressão logística pega essas informações, calcula a probabilidade de o jogador acertar e dá um número entre 0 e 1. Se a probabilidade for alta (perto de 1), o modelo prevê que ele vai acertar. Se for baixa (perto de 0), o modelo prevê que ele vai errar.\n",
        "\n"
      ]
    },
    {
      "cell_type": "markdown",
      "metadata": {
        "id": "2bN2peR0K6yp"
      },
      "source": [
        "✍️ **Análise:**\n",
        "\n",
        "Com certeza"
      ]
    },
    {
      "cell_type": "markdown",
      "metadata": {
        "id": "vzB1wWvmLiFj"
      },
      "source": [
        "## 4. Chain-of-Thought (CoT) (Passo a Passo)\n",
        "No chain-of-thought prompting, pedimos ao modelo para explicar o raciocínio passo a passo.\n",
        "\n",
        "### 📌 Exemplo 1\n",
        "**Prompt:**  \n",
        "```plaintext\n",
        "Explique como funciona o algoritmo de K-Means passo a passo.\n",
        "```"
      ]
    },
    {
      "cell_type": "markdown",
      "metadata": {
        "id": "Wm57njoSL2IU"
      },
      "source": [
        "✍️ **Resposta do ChatGPT:**\n",
        "\n",
        "Escolher o número de clusters (K)\n",
        "\n",
        "O usuário define previamente a quantidade de grupos que deseja encontrar nos dados.\n",
        "Inicializar os centróides\n",
        "\n",
        "Escolhem-se aleatoriamente K pontos dentro do conjunto de dados como os centróides iniciais.\n",
        "Atribuir cada ponto de dados ao centróide mais próximo\n",
        "\n",
        "Para cada ponto do conjunto de dados, calcula-se a distância entre ele e cada centróide.\n",
        "O ponto é então atribuído ao cluster do centróide mais próximo.\n",
        "Recalcular os centróides\n"
      ]
    },
    {
      "cell_type": "markdown",
      "metadata": {
        "id": "AUtWfoCYL34J"
      },
      "source": [
        "✍️ **Análise:**\n",
        "\n",
        "Thiago: sim"
      ]
    },
    {
      "cell_type": "markdown",
      "metadata": {
        "id": "smPBvVNmLy_X"
      },
      "source": [
        "### 📌 Exemplo 2\n",
        "**Prompt:**  \n",
        "```plaintext\n",
        "Explique como funciona o algoritmo de busca binária, detalhando cada passo do processo.\n",
        "```"
      ]
    },
    {
      "cell_type": "markdown",
      "metadata": {
        "id": "S4B1CRxNLm2F"
      },
      "source": [
        "✍️ **Resposta do ChatGPT:**\n",
        "\n",
        "busca binária é um algoritmo eficiente para encontrar um elemento em uma lista ordenada. Em vez de verificar cada elemento um por um (como na busca linear), ela divide a lista ao meio repetidamente até encontrar o valor desejado (ou concluir que ele não está na lista)."
      ]
    },
    {
      "cell_type": "markdown",
      "metadata": {
        "id": "Um0l22-3LqLd"
      },
      "source": [
        "✍️ **Análise:**\n",
        "\n",
        "Rafael: Sim, resposta com passo a passo de implementação\n",
        "\n",
        "---"
      ]
    },
    {
      "cell_type": "markdown",
      "metadata": {
        "id": "cK99NlEnIt2f"
      },
      "source": [
        "\n",
        "\n",
        "\n",
        "## 5. Iteração e Refinamento de Prompts\n",
        "Agora que você testou várias técnicas, vamos experimentar como o refinamento do prompt pode impactar a resposta.\n",
        "\n",
        "### 📌 Exemplo 1\n",
        "**Prompt Inicial:**  \n",
        "```plaintext\n",
        "Explique o que é uma Rede Neural.\n",
        "```\n",
        "🔍 **Ajuste o prompt com qualquer técnica de sua escolha para torná-lo mais claro e específico.**  \n",
        "\n",
        "\n",
        "\n",
        "\n",
        "\n"
      ]
    },
    {
      "cell_type": "markdown",
      "metadata": {
        "id": "R-DzGLgCM2b1"
      },
      "source": [
        "✍️ **Prompt Melhorado:**\n",
        "\n",
        "Luiza: Diga especificamente o que é uma rede neural convolucional e dê um exemplo\n",
        "Rafael: Explique de forma simples e detalhada  o que é uma Rede Neural convolucional listando alguns exemplos praticos de como e porque ela é usada em problemas."
      ]
    },
    {
      "cell_type": "markdown",
      "metadata": {
        "id": "WNWz7WElM4NP"
      },
      "source": [
        "✍️ **Resposta do ChatGPT:**\n",
        "\n",
        "Uma rede neural é um modelo computacional inspirado no sistema nervoso humano, capaz de aprender e tomar decisões a partir de dados.\n",
        "\n",
        "Como funciona:\n",
        "\n",
        "Neurônios: A rede é composta por unidades básicas chamadas neurônios artificiais, que recebem entradas, processam informações e geram saídas.\n",
        "Camadas: Os neurônios são organizados em camadas: uma camada de entrada, camadas intermediárias (ocultas) e uma camada de saída.\n",
        "Conexões: Os neurônios são interligados por conexões, que possuem pesos associados. Esses pesos determinam a importância de cada conexão na decisão final da rede.\n",
        "Aprendizado: A rede aprende ajustando os pesos das conexões ao receber exemplos de dados e seus resultados esperados. Esse processo permite que a rede identifique padrões e generalize para novos dados.\n"
      ]
    },
    {
      "cell_type": "markdown",
      "metadata": {
        "id": "nm5jREeiM52o"
      },
      "source": [
        "✍️ **Análise:**\n",
        "\n",
        " Que a resposta foi mais guiada especificamente para CNN, demostrando exemplos práticos"
      ]
    },
    {
      "cell_type": "markdown",
      "metadata": {
        "id": "fYYlzDSdMZzS"
      },
      "source": [
        "### 📌 Exemplo 2\n",
        "**Prompt Inicial:**  \n",
        "```plaintext\n",
        "Como funciona o algoritmo Apriori?\n",
        "```\n",
        "🔍 **Ajuste o prompt com qualque técnica de sua escolha, lembrando para incluir um exemplo prático na resposta.**  \n",
        "\n"
      ]
    },
    {
      "cell_type": "markdown",
      "metadata": {
        "id": "F6Tmj77JMiSV"
      },
      "source": []
    },
    {
      "cell_type": "markdown",
      "metadata": {
        "id": "5ebnZjFZMcWW"
      },
      "source": [
        "✍️ **Prompt Melhorado:**\n",
        "\n",
        " (Escreva aqui um novo prompt)  \n"
      ]
    },
    {
      "cell_type": "markdown",
      "metadata": {
        "id": "ylHyVIBwMntV"
      },
      "source": [
        "✍️ **Resposta do ChatGPT:**\n",
        "\n",
        "(Cole a nova resposta gerada)"
      ]
    },
    {
      "cell_type": "markdown",
      "metadata": {
        "id": "z5ZubYVxMeC0"
      },
      "source": [
        "✍️ **Análise:**\n",
        "\n",
        " (O modelo gerou um exemplo relevante?)"
      ]
    },
    {
      "cell_type": "markdown",
      "metadata": {
        "id": "gi6fO3HVhBnp"
      },
      "source": [
        "# **Atividade 3 - Técnicas Avançadas de Engenharia de Prompt**\n",
        "\n",
        "Nesta atividade, você explorará técnicas avançadas de engenharia de prompt para obter respostas mais confiáveis, estruturadas e adaptadas a diferentes contextos.\n",
        "\n",
        "---\n",
        "\n",
        "## 1. Self-Consistency Prompting\n",
        "Em vez de gerar uma única resposta, o modelo pode ser instruído a gerar **múltiplas respostas** e escolher a mais consistente entre elas.\n",
        "\n",
        "### 📌 Exemplo 1\n",
        "**Prompt:**  \n",
        "```plaintext\n",
        "Responda à seguinte pergunta três vezes, usando abordagens diferentes. Depois, escolha a melhor resposta e explique por que ela é a mais adequada.\n",
        "\n",
        "Pergunta: Qual é a diferença entre aprendizado supervisionado e não supervisionado?\n",
        "```\n"
      ]
    },
    {
      "cell_type": "markdown",
      "metadata": {
        "id": "cLZkgyBKhEye"
      },
      "source": [
        "✍️ **Resposta do ChatGPT:**\n",
        "\n",
        "(Cole as três respostas geradas)  \n"
      ]
    },
    {
      "cell_type": "markdown",
      "metadata": {
        "id": "q7pwIBpBhGf3"
      },
      "source": [
        "✍️ **Análise:**\n",
        "\n",
        "(O modelo conseguiu identificar a melhor resposta? Houve variações interessantes?)  "
      ]
    },
    {
      "cell_type": "markdown",
      "metadata": {
        "id": "0oNQfr6HhPpM"
      },
      "source": [
        "### 📌 Exemplo 2\n",
        "**Prompt:**  \n",
        "```plaintext\n",
        "Explique a importância da normalização de dados. Gere três respostas diferentes e depois escolha a melhor.\n",
        "```\n"
      ]
    },
    {
      "cell_type": "markdown",
      "metadata": {
        "id": "i7SL9SRvhRxV"
      },
      "source": [
        "✍️ **Resposta do ChatGPT:**\n",
        "\n",
        "Resposta 1: Foco em Algoritmos Sensíveis à Escala\n",
        "A normalização de dados é crucial porque muitos algoritmos de machine learning e análise de dados são sensíveis à escala das features. Por exemplo, algoritmos como KNN (K-Nearest Neighbors), SVM (Support Vector Machines) e redes neurais dependem de cálculos de distância ou gradientes, que podem ser distorcidos se as features estiverem em escalas muito diferentes. A normalização garante que todas as features contribuam igualmente para o modelo\n",
        "\n",
        "Resposta 2: Foco em Interpretação e Comparação\n",
        "A normalização é importante porque permite a comparação justa entre diferentes features. Em um conjunto de dados, features como idade (0-100) e salário (0-100.000) têm escalas completamente diferentes, o que pode dificultar a interpretação dos dados e a comparação de sua influência no modelo. Ao normalizar os dados, todas as features são trazidas para uma escala comum, facilitando a análise e a interpretação dos resultados. \n",
        "\n",
        "Resposta 3: Foco em Desempenho Computacional\n",
        "A normalização de dados melhora o desempenho computacional de algoritmos iterativos, como gradient descent (usado em redes neurais e regressões). Quando os dados estão em escalas diferentes, o algoritmo pode demorar mais para convergir, pois os passos de atualização dos parâmetros são desbalanceados. A normalização acelera a convergência, reduzindo o tempo de treinamento e o consumo de recursos computacionais. Além disso, ela ajuda a evitar problemas\n"
      ]
    },
    {
      "cell_type": "markdown",
      "metadata": {
        "id": "J7eRnQg3hTP3"
      },
      "source": [
        "✍️ **Análise:**\n",
        "\n",
        "A Resposta 1 é a mais abrangente e direta, pois explica claramente a importância da normalização em relação ao impacto direto no desempenho de algoritmos de machine learning, que é uma das principais razões para se normalizar dados. Ela também menciona exemplos específicos de algoritmos, o que torna a explicação mais prática e aplicável.\n",
        "\n",
        "Portanto, a Resposta 1 é a melhor."
      ]
    },
    {
      "cell_type": "markdown",
      "metadata": {
        "id": "-7qj2MdXhdRz"
      },
      "source": [
        "## 2. Instruction-Based Prompting\n",
        "Aqui, fornecemos uma estrutura clara para a resposta do modelo.\n",
        "\n",
        "### 📌 Exemplo 1\n",
        "**Prompt:**  \n",
        "```plaintext\n",
        "Explique o que é um modelo de regressão logística seguindo estas etapas:\n",
        "\n",
        "1. Defina o conceito.\n",
        "2. Explique a matemática por trás dele.\n",
        "3. Dê um exemplo prático de uso.\n",
        "```\n"
      ]
    },
    {
      "cell_type": "markdown",
      "metadata": {
        "id": "TVQdtBX2hfR3"
      },
      "source": [
        "✍️ **Resposta do ChatGPT:**\n",
        "\n",
        "1. Conceito\n",
        "A Regressão Logística é um método estatístico usado para modelar a probabilidade de um resultado categórico (variável dependente) baseado em variáveis preditoras (independentes). O resultado é geralmente binário, como \"sim\" ou \"não\", \"verdadeiro\" ou \"falso\", mas pode ser estendido para múltiplas categorias.\n",
        "\n",
        "Exemplo: Prever se um cliente irá comprar um produto com base em sua idade, renda e histórico de compras.\n",
        "\n",
        "2. Matemática por Trás da Regressão Logística\n",
        "A Regressão Logística usa a função logística (ou sigmoide) para modelar a relação entre as variáveis preditoras e a probabilidade do resultado.\n",
        "\n",
        "3. Exemplo Prático: Previsão de Aprovação de Crédito\n",
        "   \n",
        "Problema: Uma instituição financeira deseja criar um modelo para prever se um cliente irá ou não pagar um empréstimo.\n",
        "\n"
      ]
    },
    {
      "cell_type": "markdown",
      "metadata": {
        "id": "zf-Lig6ahg1L"
      },
      "source": [
        "✍️ **Análise:**\n",
        "\n",
        "(O modelo seguiu a estrutura fornecida corretamente?)\n",
        "\n",
        "Sim"
      ]
    },
    {
      "cell_type": "markdown",
      "metadata": {
        "id": "b4xsHey9hoss"
      },
      "source": [
        "\n",
        "### 📌 Exemplo 2\n",
        "**Prompt:**  \n",
        "```plaintext\n",
        "Liste os principais desafios do aprendizado de máquina. Para cada desafio, explique por que ele é importante e como pode ser resolvido.\n",
        "```\n",
        "\n",
        "\n",
        "---"
      ]
    },
    {
      "cell_type": "markdown",
      "metadata": {
        "id": "C6Qz2scdhqgM"
      },
      "source": [
        "✍️ **Resposta do ChatGPT:**\n",
        "\n",
        "A área de Aprendizado de Máquina (Machine Learning) oferece diversas oportunidades e avanços, mas também enfrenta desafios significativos. Superar esses desafios é crucial para garantir o desenvolvimento e a aplicação eficazes dessa tecnologia.\n",
        "\n",
        "Qualidade e quantidade de dados:\n",
        "\n",
        "Importância: A qualidade dos dados é fundamental para o sucesso do aprendizado de máquina. Dados ruidosos, incompletos ou enviesados podem levar a modelos imprecisos e resultados enganosos\n",
        "\n",
        "A quantidade de dados também é importante, pois modelos complexos geralmente exigem grandes volumes de dados para um bom desempenho.\n",
        "Soluções: Coleta e limpeza de dados, técnicas de pré-processamento (como tratamento de valores ausentes e remoção de ruídos), aumento de dados (geração de novos dados a partir dos existentes) e uso de técnicas de validação cruzada para avaliar a qualidade dos dados.\n",
        "\n",
        "\n"
      ]
    },
    {
      "cell_type": "markdown",
      "metadata": {
        "id": "fVANIa4mhsAE"
      },
      "source": [
        "✍️ **Análise:**\n",
        "\n",
        "(O modelo seguiu a estrutura e cobriu os desafios de forma organizada?)\n",
        "\n",
        "Sim"
      ]
    },
    {
      "cell_type": "markdown",
      "metadata": {
        "id": "3w_WGJp5ii--"
      },
      "source": [
        "## 3. Prompt Chaining\n",
        "Aqui, usamos uma resposta anterior como entrada para um novo prompt.\n",
        "\n",
        "### 📌 Exemplo 1\n",
        "**Prompt 1:**  \n",
        "```plaintext\n",
        "Liste três desafios do aprendizado de máquina.\n",
        "```\n",
        "📌 **Prompt 2 (com base na resposta do primeiro):**  \n",
        "```plaintext\n",
        "Agora, explique possíveis soluções para cada um dos desafios listados anteriormente.\n",
        "```\n"
      ]
    },
    {
      "cell_type": "markdown",
      "metadata": {
        "id": "BMZ7Ck4nimEv"
      },
      "source": [
        "✍️ **Resposta do ChatGPT:** (Cole ambas as respostas)  \n",
        "\n",
        "Qualidade e Quantidade de Dados – Modelos precisam de dados limpos e suficientes para aprender corretamente. Solução: coleta e pré-processamento adequado dos dados.\n",
        "\n",
        "Overfitting (Sobreajuste) – O modelo aprende padrões específicos demais do treinamento e não generaliza bem. Solução: regularização, aumento de dados e validação cruzada.\n",
        "\n",
        "Explicabilidade e Interpretabilidade – Modelos complexos podem ser difíceis de entender. Solução: usar técnicas como SHAP e LIME para interpretar decisões.\n",
        "\n",
        "Qualidade e Quantidade de Dados\n",
        "\n",
        "Soluções:\n",
        "Coletar mais dados de fontes diversas para garantir representatividade.\n",
        "Realizar pré-processamento, como remoção de valores inconsistentes e tratamento de dados ausentes.\n",
        "Usar técnicas de aumento de dados (data augmentation) para enriquecer o conjunto de treinamento.\n",
        "Overfitting (Sobreajuste)\n",
        "\n",
        "Soluções:\n",
        "Aplicar regularização (L1/L2) para reduzir a complexidade do modelo.\n",
        "Utilizar validação cruzada para avaliar a generalização do modelo.\n",
        "Aumentar a quantidade e diversidade dos dados de treinamento.\n",
        "Implementar dropout em redes neurais para evitar dependência excessiva de certas conexões.\n",
        "Explicabilidade e Interpretabilidade\n",
        "\n",
        "Soluções:\n",
        "Utilizar modelos mais interpretáveis, como árvores de decisão e regressão linear, quando possível.\n",
        "Aplicar técnicas como SHAP e LIME para entender como as variáveis influenciam as previsões.\n",
        "Criar dashboards e visualizações que ajudem a interpretar as decisões do modelo.\n"
      ]
    },
    {
      "cell_type": "markdown",
      "metadata": {
        "id": "snvM7OLZinOs"
      },
      "source": [
        "✍️ **Análise:** (A técnica ajudou a criar uma resposta mais aprofundada?)\n",
        "\n",
        "Com certeza"
      ]
    },
    {
      "cell_type": "markdown",
      "metadata": {
        "id": "zyFy77H0igTW"
      },
      "source": [
        "\n",
        "### 📌 Exemplo 2\n",
        "**Prompt 1:**  \n",
        "```plaintext\n",
        "Explique o conceito de overfitting.\n",
        "```\n",
        "📌 **Prompt 2:**  \n",
        "```plaintext\n",
        "Agora, forneça um exemplo prático de overfitting em um problema de classificação.\n",
        "```\n",
        "\n",
        "\n",
        "---"
      ]
    },
    {
      "cell_type": "markdown",
      "metadata": {
        "id": "octKfEariuel"
      },
      "source": [
        "✍️ **Resposta do ChatGPT:** (Cole ambas as respostas)  \n",
        "\n",
        "Overfitting é um problema comum em aprendizado de máquina, no qual um modelo aprende tão bem os detalhes e ruídos dos dados de treinamento que perde a capacidade de generalizar para novos dados. Isso significa que o modelo tem um ótimo desempenho nos dados de treinamento, mas um desempenho ruim em dados desconhecidos.\n",
        "\n",
        "Como o Overfitting Acontece?\n",
        "O overfitting ocorre quando o modelo é muito complexo em relação à quantidade e qualidade dos dados. Isso pode acontecer quando:\n",
        "\n",
        "Vamos considerar um problema de classificação de e-mails como \"spam\" ou \"não spam\" usando um modelo de aprendizado de máquina.\n",
        "\n",
        "Cenário\n",
        "Temos um conjunto de dados com e-mails rotulados como spam ou não spam, e treinamos um modelo para classificá-los com base em características como:\n",
        "\n",
        "Número de palavras suspeitas (exemplo: \"ganhe dinheiro\", \"oferta grátis\").\n",
        "Presença de links ou anexos.\n",
        "Uso excessivo de letras maiúsculas.\n",
        "\n",
        "Overfitting na Prática\n",
        "Se usarmos um modelo muito complexo, como uma árvore de decisão profunda, ele pode aprender padrões muito específicos dos e-mails no conjunto de treinamento. Por exemplo, pode aprender que um e-mail é spam apenas porque contém uma palavra exata que apareceu nos exemplos de spam do treinamento.\n",
        "\n",
        "Isso significa que:\n",
        "✅ O modelo terá quase 100% de precisão no treinamento, pois ele memorizou detalhes específicos.\n",
        "\n",
        "❌ Mas ele terá baixo desempenho em novos e-mails, porque pode err\n"
      ]
    },
    {
      "cell_type": "markdown",
      "metadata": {
        "id": "25lX4LRKiwEC"
      },
      "source": [
        "✍️ **Análise:** (A segunda resposta ficou mais contextualizada graças à primeira?)\n",
        "\n",
        "Sim"
      ]
    },
    {
      "cell_type": "markdown",
      "metadata": {
        "id": "v96yMwxVizqH"
      },
      "source": [
        "\n",
        "## 4. Contrastive Prompting\n",
        "Aqui, pedimos que o modelo compare e contraste dois conceitos.\n",
        "\n",
        "### 📌 Exemplo 1\n",
        "**Prompt:**  \n",
        "```plaintext\n",
        "Compare aprendizado supervisionado e aprendizado não supervisionado. Liste as principais diferenças e semelhanças.\n",
        "```\n"
      ]
    },
    {
      "cell_type": "markdown",
      "metadata": {
        "id": "V1LHjLYsi1ec"
      },
      "source": [
        "✍️ **Resposta do ChatGPT:** (Cole a resposta gerada)  \n",
        "\n",
        "Aprendizado Supervisionado: Utiliza dados rotulados, ou seja, cada exemplo de treinamento inclui uma entrada (features) e uma saída correspondente (label). Por exemplo, em um problema de classificação de e-mails, os dados de treinamento teriam e-mails (entrada) e suas classificações como \"spam\" ou \"não spam\" (saída).\n",
        "\n",
        "Aprendizado Não Supervisionado: Trabalha com dados não rotulados, onde apenas as entradas (features) estão disponíveis. O objetivo é descobrir padrõ\n",
        "Objetivo:\n",
        "\n",
        "Aprendizado Supervisionado: O objetivo é aprender uma função que mapeie as entradas para as saídas com base nos exemplos rotulados. Isso é útil para tarefas como classificação (ex: identificar imagens) e regressão (ex: prever valores numéricos).\n",
        "\n",
        "Aprendizado Não Supervisionado: O objetivo é explorar os dados para encontrar padrões, agrupamentos ou reduções de dimensionalidade.\n"
      ]
    },
    {
      "cell_type": "markdown",
      "metadata": {
        "id": "RGBSiHrgi2ha"
      },
      "source": [
        "✍️ **Análise:** (A resposta destacou bem as diferenças e semelhanças?)"
      ]
    },
    {
      "cell_type": "markdown",
      "metadata": {
        "id": "co8-l8vYi40g"
      },
      "source": [
        "### 📌 Exemplo 2\n",
        "**Prompt:**  \n",
        "```plaintext\n",
        "Explique as diferenças entre regressão linear e regressão logística. Depois, cite um caso de uso para cada uma.\n",
        "```\n",
        "\n",
        "\n"
      ]
    },
    {
      "cell_type": "markdown",
      "metadata": {
        "id": "UC6VT3N-i7U8"
      },
      "source": [
        "✍️ **Resposta do ChatGPT:** (Cole a resposta gerada)  \n",
        "\n",
        "Diferenças entre Regressão Linear e Regressão Logística\n",
        "A regressão linear é um modelo estatístico usado para prever valores contínuos. Ela assume uma relação linear entre as variáveis independentes e a variável dependente, representada pela equação:\n",
        "\n",
        "y = mx + b,\n",
        "\n",
        "onde y é a variável dependente (resultado esperado), m é o coeficiente angular (peso da variável independente x), x é a variável independente, e b é o termo de interceptação.\n",
        "\n",
        "\n",
        "Já a regressão logística é um modelo usado para problemas d\n",
        "de classificação, onde a variável dependente assume valores discretos (como 0 ou 1). Em vez de prever um valor contínuo, ela calcula a probabilidade de um evento ocorrer usando a função sigmoide:\n",
        "\n",
        "f(x) = 1 / (1 + e^(-z)),\n",
        "\n",
        "onde z é uma combinação linear das variáveis de entrada. O resultado final é uma probabilidade entre 0 e 1, que pode ser interpretada como uma classe específica com base em um limiar (exemplo: se f(x) > 0.5, a classe é 1; caso contrário, é 0).\n"
      ]
    },
    {
      "cell_type": "markdown",
      "metadata": {
        "id": "6iqa1YBci91x"
      },
      "source": [
        "✍️ **Análise:** (O modelo apresentou comparações úteis e aplicáveis?)  \n",
        "\n",
        "Sim"
      ]
    },
    {
      "cell_type": "markdown",
      "metadata": {
        "id": "O_Yhpf3tjCaQ"
      },
      "source": [
        "## 5. Persona-Based Prompting\n",
        "O modelo assume um papel específico para gerar uma resposta mais alinhada ao contexto.\n",
        "\n",
        "### 📌 Exemplo 1\n",
        "**Prompt:**  \n",
        "```plaintext\n",
        "Você é um professor universitário explicando redes neurais convolucionais para alunos iniciantes. Explique o conceito de maneira didática.\n",
        "```\n"
      ]
    },
    {
      "cell_type": "markdown",
      "metadata": {
        "id": "oIPFGf-PjEk2"
      },
      "source": [
        "✍️ **Resposta do ChatGPT:** (Cole a resposta gerada)  \n",
        "\n",
        "Redes Neurais Convolucionais (CNNs) são um tipo de rede neural muito usada em tarefas de visão computacional, como reconhecimento de imagens e vídeos. Vamos entender o conceito passo a passo.\n",
        "\n",
        "O que é uma Rede Neural? Uma rede neural é um sistema de aprendizado inspirado no cérebro humano. Ela é formada por camadas de \"neurônios\", que são unidades de processamento que ajudam a rede a aprender padrões a partir de dados.\n"
      ]
    },
    {
      "cell_type": "markdown",
      "metadata": {
        "id": "mUxwM6z4jF7Y"
      },
      "source": [
        "✍️ **Análise:** (A resposta foi mais acessível e didática do que um prompt genérico?)  \n",
        "\n",
        "Sim"
      ]
    },
    {
      "cell_type": "markdown",
      "metadata": {
        "id": "BttM2r5cjIkt"
      },
      "source": [
        "### 📌 Exemplo 2\n",
        "**Prompt:**  \n",
        "```plaintext\n",
        "Você é um engenheiro de machine learning participando de uma entrevista de emprego. Explique o conceito de regularização em modelos de aprendizado de máquina.\n",
        "```\n",
        "\n"
      ]
    },
    {
      "cell_type": "markdown",
      "metadata": {
        "id": "09dPQem4jLF4"
      },
      "source": [
        "✍️ **Resposta do ChatGPT:** (Cole a resposta gerada)  \n",
        "\n"
      ]
    },
    {
      "cell_type": "markdown",
      "metadata": {
        "id": "RK3FhvpHjMbZ"
      },
      "source": [
        "✍️ **Análise:** (O tom da resposta mudou conforme o papel assumido?)  "
      ]
    },
    {
      "cell_type": "markdown",
      "metadata": {
        "id": "SnVqOwqhjV0A"
      },
      "source": [
        "## 6. Ethical or Bias-Aware Prompting\n",
        "Instruímos o modelo a considerar aspectos éticos e vieses.\n",
        "\n",
        "### 📌 Exemplo 1\n",
        "**Prompt:**  \n",
        "```plaintext\n",
        "Explique o uso da inteligência artificial na seleção de candidatos para emprego e analise os possíveis riscos de viés no processo.\n",
        "```\n"
      ]
    },
    {
      "cell_type": "markdown",
      "metadata": {
        "id": "rZafLSgVjYbM"
      },
      "source": [
        "✍️ **Resposta do ChatGPT:** (Cole a resposta gerada)  \n"
      ]
    },
    {
      "cell_type": "markdown",
      "metadata": {
        "id": "HaHCUkjhjZ8A"
      },
      "source": [
        "✍️ **Análise:** (O modelo abordou os aspectos éticos corretamente?)"
      ]
    },
    {
      "cell_type": "markdown",
      "metadata": {
        "id": "Pwcjdy2_Ps4y"
      },
      "source": [
        "\n",
        "\n",
        "\n",
        "### 📌 Exemplo 2\n",
        "**Prompt:**  \n",
        "```plaintext\n",
        "Descreva como modelos de linguagem podem refletir viés social e proponha estratégias para mitigar esse problema.\n",
        "```\n",
        "\n"
      ]
    },
    {
      "cell_type": "markdown",
      "metadata": {
        "id": "4sTJej03jy9y"
      },
      "source": [
        "✍️ **Resposta do ChatGPT:** (Cole a resposta gerada)  \n",
        "\n"
      ]
    },
    {
      "cell_type": "markdown",
      "metadata": {
        "id": "P1mYYAxaj0Hk"
      },
      "source": [
        "✍️ **Análise:** (A resposta trouxe soluções práticas para a mitigação de vieses?)  "
      ]
    },
    {
      "cell_type": "markdown",
      "metadata": {
        "id": "WxFHOmq6jlJr"
      },
      "source": [
        "# **Atividade 4 - Desafio de Otimização de Prompt**\n",
        "\n",
        "Nesta atividade, você enfrentará desafios de otimização de prompt. O objetivo é refinar comandos para obter respostas mais precisas, claras e úteis do modelo de linguagem.\n",
        "\n",
        "Para cada exercício:\n",
        "1. Comece testando o **prompt inicial** e registre a resposta.\n",
        "2. Analise os pontos fracos do prompt e como ele pode ser melhorado.\n",
        "3. Refine o prompt e registre a nova resposta.\n",
        "4. Compare os resultados e explique as melhorias.\n",
        "\n",
        "---\n",
        "\n",
        "## 1. Melhorando a Especificidade\n",
        "\n",
        "### 📌 Exemplo 1 - Prompt Inicial\n",
        "**Prompt:**  \n",
        "```plaintext\n",
        "Explique o que é aprendizado profundo.\n",
        "```\n"
      ]
    },
    {
      "cell_type": "markdown",
      "metadata": {
        "id": "VovexvlBju5m"
      },
      "source": [
        "✍️ **Resposta do ChatGPT:** (Cole a resposta aqui)  \n"
      ]
    },
    {
      "cell_type": "markdown",
      "metadata": {
        "id": "tc0abNCEj6D0"
      },
      "source": [
        "✍️ **Análise:** (A resposta foi genérica? O que poderia ser melhorado?)"
      ]
    },
    {
      "cell_type": "markdown",
      "metadata": {
        "id": "rJH8GOnkjo87"
      },
      "source": [
        "\n",
        "📌 **Prompt Melhorado:**  \n",
        "(Escreva um novo prompt mais específico)  \n",
        "\n",
        "\n",
        "\n"
      ]
    },
    {
      "cell_type": "markdown",
      "metadata": {
        "id": "J_CmuvE_j-JU"
      },
      "source": [
        "✍️ **Nova Resposta:** (Cole a resposta gerada)  \n"
      ]
    },
    {
      "cell_type": "markdown",
      "metadata": {
        "id": "mvsoDOK2j_Og"
      },
      "source": [
        "✍️ **Comparação:** (O que melhorou na nova resposta?)  "
      ]
    },
    {
      "cell_type": "markdown",
      "metadata": {
        "id": "SL_u9lzPkFP-"
      },
      "source": [
        "## 2. Adicionando Contexto\n",
        "\n",
        "### 📌 Exemplo 2 - Prompt Inicial\n",
        "**Prompt:**  \n",
        "```plaintext\n",
        "Fale sobre regularização em aprendizado de máquina.\n",
        "```\n"
      ]
    },
    {
      "cell_type": "markdown",
      "metadata": {
        "id": "J-DIFhSgkHwj"
      },
      "source": [
        "✍️ **Resposta do ChatGPT:** (Cole a resposta aqui)  \n",
        "\n",
        "\n"
      ]
    },
    {
      "cell_type": "markdown",
      "metadata": {
        "id": "-ljssrvVkKCU"
      },
      "source": [
        "✍️ **Análise:** (A resposta foi vaga? Como torná-la mais clara?)  \n",
        "\n"
      ]
    },
    {
      "cell_type": "markdown",
      "metadata": {
        "id": "-NvKLAOckLlq"
      },
      "source": [
        "📌 **Prompt Melhorado:**  \n",
        "(Escreva um novo prompt incluindo mais contexto)  \n",
        "\n"
      ]
    },
    {
      "cell_type": "markdown",
      "metadata": {
        "id": "o9moduigkM-m"
      },
      "source": [
        "✍️ **Nova Resposta:** (Cole a resposta gerada)  \n"
      ]
    },
    {
      "cell_type": "markdown",
      "metadata": {
        "id": "ROGkRGxNkOSc"
      },
      "source": [
        "✍️ **Comparação:** (A resposta ficou mais relevante e detalhada?)"
      ]
    },
    {
      "cell_type": "markdown",
      "metadata": {
        "id": "RzvwzKUfkTtZ"
      },
      "source": [
        "## 3. Pedindo um Exemplo Prático\n",
        "\n",
        "### 📌 Exemplo 3 - Prompt Inicial\n",
        "**Prompt:**  \n",
        "```plaintext\n",
        "Explique o conceito de redes neurais.\n",
        "```\n"
      ]
    },
    {
      "cell_type": "markdown",
      "metadata": {
        "id": "BzHuhH0YkWj2"
      },
      "source": [
        "✍️ **Resposta do ChatGPT:** (Cole a resposta aqui)  \n",
        "\n",
        "\n"
      ]
    },
    {
      "cell_type": "markdown",
      "metadata": {
        "id": "nQ0vM6qhkYP8"
      },
      "source": [
        "✍️ **Análise:** (A explicação foi abstrata? Um exemplo ajudaria?)  \n",
        "\n"
      ]
    },
    {
      "cell_type": "markdown",
      "metadata": {
        "id": "K-BOBEWNkZvP"
      },
      "source": [
        "📌 **Prompt Melhorado:**  \n",
        "(Escreva um novo prompt solicitando um exemplo)  \n",
        "\n"
      ]
    },
    {
      "cell_type": "markdown",
      "metadata": {
        "id": "e-flKFf9kbJb"
      },
      "source": [
        "✍️ **Nova Resposta:** (Cole a resposta gerada)  \n"
      ]
    },
    {
      "cell_type": "markdown",
      "metadata": {
        "id": "wJJ59NESkdBV"
      },
      "source": [
        "✍️ **Comparação:** (O exemplo ajudou na compreensão?)  "
      ]
    },
    {
      "cell_type": "markdown",
      "metadata": {
        "id": "5ghw_kyWkhu-"
      },
      "source": [
        "\n",
        "## 4. Refinando para Diferentes Públicos\n",
        "\n",
        "### 📌 Exemplo 4 - Prompt Inicial\n",
        "**Prompt:**  \n",
        "```plaintext\n",
        "Explique o que é aprendizado por reforço.\n",
        "```\n",
        "\n",
        "\n"
      ]
    },
    {
      "cell_type": "markdown",
      "metadata": {
        "id": "CI_ax3_fkmAm"
      },
      "source": [
        "✍️ **Resposta do ChatGPT:** (Cole a resposta aqui)  \n"
      ]
    },
    {
      "cell_type": "markdown",
      "metadata": {
        "id": "zbMkPBNikn90"
      },
      "source": [
        "✍️ **Análise:** (O nível de detalhamento foi adequado?)  \n",
        "\n"
      ]
    },
    {
      "cell_type": "markdown",
      "metadata": {
        "id": "dpnOE8Kwkpru"
      },
      "source": [
        "📌 **Prompt Melhorado para um público iniciante:**  \n",
        "(Escreva um novo prompt tornando a explicação mais acessível)  \n",
        "\n"
      ]
    },
    {
      "cell_type": "markdown",
      "metadata": {
        "id": "Hsb3gDkjkrfL"
      },
      "source": [
        "✍️ **Nova Resposta:** (Cole a resposta gerada)  \n"
      ]
    },
    {
      "cell_type": "markdown",
      "metadata": {
        "id": "NaO9peBqktJG"
      },
      "source": [
        "✍️ **Comparação:** (O modelo ajustou o tom da explicação?)  \n",
        "\n"
      ]
    },
    {
      "cell_type": "markdown",
      "metadata": {
        "id": "U46S-IWBku2U"
      },
      "source": [
        "📌 **Prompt Melhorado para um público técnico:**  \n",
        "(Escreva um novo prompt para um público mais avançado)  \n",
        "\n"
      ]
    },
    {
      "cell_type": "markdown",
      "metadata": {
        "id": "eny6ZsaokwJ6"
      },
      "source": [
        "✍️ **Nova Resposta:** (Cole a resposta gerada)  \n"
      ]
    },
    {
      "cell_type": "markdown",
      "metadata": {
        "id": "dHUQESyJkxkt"
      },
      "source": [
        "✍️ **Comparação:** (A resposta ficou mais técnica e aprofundada?)"
      ]
    },
    {
      "cell_type": "markdown",
      "metadata": {
        "id": "komjwJwOQmkM"
      },
      "source": [
        "\n",
        "\n",
        "\n",
        "## 5. Testando Diferentes Estruturas de Resposta\n",
        "\n",
        "### 📌 Exemplo 5 - Prompt Inicial\n",
        "**Prompt:**  \n",
        "```plaintext\n",
        "O que é um modelo de árvore de decisão?\n",
        "```\n",
        "\n",
        "\n",
        "\n",
        "\n"
      ]
    },
    {
      "cell_type": "markdown",
      "metadata": {
        "id": "AgtZj4BBk2f6"
      },
      "source": [
        "✍️ **Resposta do ChatGPT:** (Cole a resposta aqui)  \n"
      ]
    },
    {
      "cell_type": "markdown",
      "metadata": {
        "id": "2ezzPhIpk4ME"
      },
      "source": [
        "✍️ **Análise:** (A resposta foi detalhada o suficiente?)  \n",
        "\n"
      ]
    },
    {
      "cell_type": "markdown",
      "metadata": {
        "id": "wMfxtQJJk5kE"
      },
      "source": [
        "📌 **Prompt Melhorado pedindo uma resposta passo a passo:**  \n",
        "(Escreva um novo prompt estruturado)  \n"
      ]
    },
    {
      "cell_type": "markdown",
      "metadata": {
        "id": "A7x4KSaEk674"
      },
      "source": [
        "\n",
        "✍️ **Nova Resposta:** (Cole a resposta gerada)  \n"
      ]
    },
    {
      "cell_type": "markdown",
      "metadata": {
        "id": "em1lWnz7k8Fa"
      },
      "source": [
        "✍️ **Comparação:** (O modelo apresentou os passos corretamente?)  "
      ]
    }
  ],
  "metadata": {
    "colab": {
      "provenance": []
    },
    "kernelspec": {
      "display_name": "Python 3",
      "name": "python3"
    },
    "language_info": {
      "name": "python"
    }
  },
  "nbformat": 4,
  "nbformat_minor": 0
}
