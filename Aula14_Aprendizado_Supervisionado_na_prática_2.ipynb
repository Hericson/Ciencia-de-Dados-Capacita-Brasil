{
  "cells": [
    {
      "cell_type": "markdown",
      "id": "373b8b21",
      "metadata": {
        "id": "373b8b21"
      },
      "source": [
        "**negrito**![aula14capa.png](aula14capa.png)\n",
        "\n"
      ]
    },
    {
      "cell_type": "markdown",
      "id": "d013d3bf",
      "metadata": {
        "id": "d013d3bf"
      },
      "source": [
        "# Aula sobre Aprendizado Supervisionado"
      ]
    },
    {
      "cell_type": "markdown",
      "id": "6258d040",
      "metadata": {
        "id": "6258d040"
      },
      "source": [
        "## Introdução"
      ]
    },
    {
      "cell_type": "markdown",
      "id": "1cdf6f9d",
      "metadata": {
        "id": "1cdf6f9d"
      },
      "source": [
        "Nesta aula, vamos explorar o conceito de aprendizado supervisionado, um dos pilares da inteligência artificial e ciência de dados. O aprendizado supervisionado é um método de aprendizado de máquina onde um modelo é treinado utilizando dados rotulados, ou seja, cada entrada possui uma saída associada.\n",
        "\n",
        "### Objetivos:\n",
        "1. Entender os conceitos teóricos do aprendizado supervisionado.\n",
        "2. Conhecer os tipos de problemas: regressão e classificação.\n",
        "3. Implementar exemplos práticos de classificação e regressão utilizando Python.\n",
        "4. Trabalhar com datasets mais desafiadores e menos comuns, aprofundando as análises e interpretações.\n",
        "5. Discutir os desafios e limitações do aprendizado supervisionado.\n"
      ]
    },
    {
      "cell_type": "markdown",
      "id": "8563bf89",
      "metadata": {
        "id": "8563bf89"
      },
      "source": [
        "\n",
        "# Teoria: O que é Aprendizado Supervisionado?\n",
        "\n",
        "No aprendizado supervisionado, o modelo aprende uma função a partir de dados de treinamento que possuem rótulos. Esse processo é iterativo e ajusta os parâmetros do modelo para minimizar o erro entre as previsões do modelo e os rótulos reais.\n",
        "\n",
        "### Principais componentes:\n",
        "1. **Conjunto de Dados**:\n",
        "   - **Entradas (X)**: As características ou atributos usados para fazer a previsão.\n",
        "   - **Saídas (y)**: Os rótulos ou valores-alvo que o modelo deve aprender a prever.\n",
        "\n",
        "\n",
        "2. **Modelo**:\n",
        "   - O modelo é a representação matemática ou algorítmica que aprende a mapear as entradas para as saídas.\n",
        "\n",
        "\n",
        "3. **Função de Perda**:\n",
        "   - Mede o erro entre a previsão do modelo e o rótulo real.\n",
        "   - Exemplos:\n",
        "     - Erro Quadrático Médio (MSE) para regressão.\n",
        "     - Entropia Cruzada para classificação.\n",
        "\n",
        "\n",
        "4. **Otimização**:\n",
        "   - Processo de ajuste dos parâmetros do modelo para minimizar a função de perda.\n",
        "   - Algoritmos comuns: Gradiente Descendente e suas variantes.\n",
        "\n",
        "\n",
        "### Tipos de problemas:\n",
        "\n",
        "1. **Classificação**:\n",
        "   - Objetivo: Prever categorias discretas.\n",
        "   - Algoritmos populares:\n",
        "     - Regressão Logística.\n",
        "     - Árvores de Decisão.\n",
        "     - K -NN.\n",
        "     - Random Forest.\n",
        "     - Suport Vector Machines (SVM).\n",
        "\n",
        "\n",
        "2. **Regressão**:\n",
        "   - Objetivo: Prever valores contínuos.\n",
        "   - Algoritmos populares:\n",
        "     - Regressão Linear.\n",
        "     - Regressão Ridge.\n",
        "     - Gradient Boosting Regressor.\n",
        "\n",
        "\n",
        "### Vantagens do Aprendizado Supervisionado:\n",
        "\n",
        "1. Alta precisão quando os dados são bem rotulados.\n",
        "2. Modelos interpretáveis (em alguns casos, como Regressão Linear).\n",
        "3. Facilidade de avaliação por métricas específicas como acurácia, precisão e recall.\n",
        "\n",
        "\n",
        "### Limitações do Aprendizado Supervisionado:\n",
        "\n",
        "1. **Dependência de Dados Rotulados**:\n",
        "   - Rotular grandes conjuntos de dados pode ser caro e demorado.\n",
        "\n",
        "\n",
        "2. **Overfitting**:\n",
        "   - O modelo pode se ajustar muito bem aos dados de treinamento e ter dificuldade com novos dados.\n",
        "\n",
        "\n",
        "3. **Desequilíbrio de Classes**:\n",
        "   - Desempenho prejudicado se o conjunto de dados tiver classes desbalanceadas.\n",
        "\n",
        "\n",
        "4. **Generalização**:\n",
        "   - Desafios para generalizar bem em cenários do mundo real com dados desconhecidos.\n",
        "\n",
        "\n",
        "### Métricas de Avaliação\n",
        "\n",
        "\n",
        "#### 1. **Classificação**\n",
        "\n",
        "- **Acurácia**:\n",
        "  - Proporção de previsões corretas sobre o total de previsões.\n",
        "  - Fórmula:\n",
        "   \n",
        "    $\n",
        "    \\text{Acurácia} = \\frac{TP + TN}{TP + TN + FP + FN}\n",
        "    $\n",
        "\n",
        "\n",
        "- **Verdadeiro Positivo (TP)**:\n",
        "  - Casos em que o modelo previu corretamente a classe positiva.\n",
        "  - Exemplo: Em um teste de diagnóstico de doenças, o modelo identifica corretamente os pacientes doentes.\n",
        "\n",
        "\n",
        "- **Falso Positivo (FP)**:\n",
        "  - Casos em que o modelo previu a classe positiva, mas o rótulo real era negativo.\n",
        "  - Exemplo: O modelo detecta uma doença em um paciente saudável.\n",
        "\n",
        "\n",
        "- **Falso Negativo (FN)**:\n",
        "  - Casos em que o modelo previu a classe negativa, mas o rótulo real era positivo.\n",
        "  - Exemplo: O modelo não detecta a doença em um paciente doente.\n",
        "\n",
        "\n",
        "- **Verdadeiro Negativo (TN)**:\n",
        "  - Casos em que o modelo previu corretamente a classe negativa.\n",
        "  - Exemplo: O modelo detecta corretamente que um paciente saudável não tem a doença.\n",
        "\n",
        "\n",
        "- **Precisão (Precision)**:\n",
        "  - Proporção de verdadeiros positivos entre todas as previsões positivas.\n",
        "  - Fórmula:\n",
        "   \n",
        "    $\n",
        "    \\text{Precisão} = \\frac{TP}{TP + FP}\n",
        "    $\n",
        "\n",
        "\n",
        "- **Recall (Sensibilidade)**:\n",
        "  - Proporção de verdadeiros positivos capturados pelo modelo.\n",
        "  - Fórmula:\n",
        "   \n",
        "    $\n",
        "    \\text{Recall} = \\frac{TP}{TP + FN}\n",
        "    $\n",
        "\n",
        "\n",
        "- **F1-Score**:\n",
        "  - Média harmônica entre precisão e recall.\n",
        "  - Fórmula:\n",
        "   \n",
        "    $\n",
        "    \\text{F1} = 2 \\cdot \\frac{\\text{Precisão} \\cdot \\text{Recall}}{\\text{Precisão} + \\text{Recall}}\n",
        "    $\n",
        "\n",
        "\n",
        "- **Matriz de Confusão**:\n",
        "  - Tabela que mostra os resultados verdadeiros e previstos.\n",
        "  - Exemplo:\n",
        "   \n",
        "   ```\n",
        "    [[50, 10],\n",
        "     [ 5, 35]]\n",
        "    ```\n",
        "    - Verdadeiros Positivos (50), Verdadeiros Negativos (35), Falsos Positivos (10), Falsos Negativos (5).\n",
        "\n",
        "#### 2. **Regressão**\n",
        "- **Erro Médio Absoluto (MAE)**:\n",
        "  - Média dos erros absolutos.\n",
        "  - Características:\n",
        "   \n",
        "   1. Penaliza igualmente todos os erros, sejam pequenos ou grandes.\n",
        "   2. É mais robusto a outliers, já que grandes erros não recebem penalidades extras.\n",
        "   3. O MAE representa a magnitude média do erro em unidades absolutas do problema.\n",
        "   \n",
        "  - Quando usar:\n",
        "   \n",
        "   1. Quando você quer interpretar o erro médio de forma intuitiva (nas mesmas unidades dos dados).\n",
        "   2. Em problemas onde grandes outliers não devem ter impacto desproporcional.\n",
        "   \n",
        "  \n",
        "  - Fórmula:\n",
        "   \n",
        "    $\n",
        "    \\text{MAE} = \\frac{1}{n} \\sum_{i=1}^{n} |y_i - \\hat{y}_i|\n",
        "    $\n",
        "\n",
        "  \n",
        "   \n",
        "\n",
        "- **Erro Quadrático Médio (MSE)**:\n",
        "  - Média dos erros ao quadrado.\n",
        "  - Características:\n",
        "   \n",
        "   1. Penaliza erros grandes de forma mais severa (erros são elevados ao quadrado).\n",
        "   2. É mais sensível a outliers, porque grandes diferenças aumentam significativamente o valor do MSE.\n",
        "   3. Não é intuitivo em termos de unidades, já que o erro médio é elevado ao quadrado.\n",
        "   \n",
        "  - Quando usar:\n",
        "   \n",
        "   1. Quando você quer que grandes erros tenham mais impacto na avaliação (por exemplo, em sistemas críticos onde erros grandes são inaceitáveis).\n",
        "   2. Quando otimizar para erros menores em geral é mais importante do que penalizar pequenos desvios.\n",
        "   \n",
        "  \n",
        "  - Fórmula:\n",
        "   \n",
        "    $\n",
        "    \\text{MSE} = \\frac{1}{n} \\sum_{i=1}^{n} (y_i - \\hat{y}_i)^2\n",
        "    $\n",
        "\n",
        "\n",
        "\n",
        "- **R² Score (Coeficiente de Determinação)**:\n",
        "  - Mede a proporção da variância explicada pelo modelo.\n",
        "  - Fórmula:\n",
        "   \n",
        "    $\n",
        "    R^2 = 1 - \\frac{\\text{SS}_\\text{res}}{\\text{SS}_\\text{tot}}\n",
        "    $\n"
      ]
    },
    {
      "cell_type": "markdown",
      "id": "9ccca298",
      "metadata": {
        "id": "9ccca298"
      },
      "source": [
        "![aula14SSres_SStot.png](attachment:aula14SSres_SStot.png)"
      ]
    },
    {
      "cell_type": "markdown",
      "id": "f68b9d44",
      "metadata": {
        "id": "f68b9d44"
      },
      "source": [
        "### Etapas do processo de aprendizado:\n",
        "1. Coleta de dados.\n",
        "2. Pré-processamento e limpeza dos dados.\n",
        "3. Divisão do conjunto de dados (treinamento e teste).\n",
        "4. Escolha do modelo e métrica de avaliação.\n",
        "5. Treinamento e ajuste do modelo.\n",
        "6. Avaliação e interpretação dos resultados."
      ]
    },
    {
      "cell_type": "markdown",
      "id": "930323e6",
      "metadata": {
        "id": "930323e6"
      },
      "source": [
        "# Exemplo Prático: Classificação com o Dataset Wine Quality"
      ]
    },
    {
      "cell_type": "markdown",
      "id": "ccd64221",
      "metadata": {
        "id": "ccd64221"
      },
      "source": [
        "## Importação de Bibliotecas"
      ]
    },
    {
      "cell_type": "code",
      "execution_count": null,
      "id": "ab0efa07",
      "metadata": {
        "id": "ab0efa07"
      },
      "outputs": [],
      "source": [
        "import numpy as np\n",
        "import pandas as pd\n",
        "from sklearn.model_selection import train_test_split\n",
        "from sklearn.preprocessing import StandardScaler\n",
        "from sklearn.linear_model import LogisticRegression  # Importar o classificador Logistic Regression\n",
        "from sklearn.metrics import accuracy_score, classification_report, confusion_matrix\n",
        "import seaborn as sns\n",
        "import matplotlib.pyplot as plt\n",
        "\n",
        "from sklearn.datasets import fetch_openml"
      ]
    },
    {
      "cell_type": "markdown",
      "id": "2e684887",
      "metadata": {
        "id": "2e684887"
      },
      "source": [
        "# Conjunto de Dados: Wine Quality\n",
        "\n",
        "## Descrição\n",
        "O conjunto de dados **Wine Quality** contém informações físico-químicas de diferentes amostras de vinho branco, associadas a uma avaliação de qualidade feita por especialistas.\n",
        "\n",
        "---\n",
        "\n",
        "## Características (Colunas do Dataset)\n",
        "\n",
        "| Coluna                  | Descrição                                                | Tipo         |\n",
        "|-------------------------|--------------------------------------------------------|--------------|\n",
        "| `fixed acidity`         | Acidez fixa (g/L)                                       | Numérico     |\n",
        "| `volatile acidity`      | Acidez volátil (g/L)                                    | Numérico     |\n",
        "| `citric acid`           | Ácido cítrico (g/L)                                     | Numérico     |\n",
        "| `residual sugar`        | Açúcar residual (g/L)                                   | Numérico     |\n",
        "| `chlorides`             | Cloretos (g/L)                                          | Numérico     |\n",
        "| `free sulfur dioxide`   | Dióxido de enxofre livre (mg/L)                         | Numérico     |\n",
        "| `total sulfur dioxide`  | Dióxido de enxofre total (mg/L)                         | Numérico     |\n",
        "| `density`               | Densidade (g/cm³)                                       | Numérico     |\n",
        "| `pH`                    | pH do vinho                                             | Numérico     |\n",
        "| `sulphates`             | Sulfatos (g/L)                                          | Numérico     |\n",
        "| `alcohol`               | Teor alcoólico (%)                                      | Numérico     |\n",
        "| `quality`               | Qualidade do vinho (escore de 0 a 10, alvo)             | Categórico   |\n",
        "\n",
        "---\n",
        "\n",
        "## Resumo Estatístico\n",
        "\n",
        "| Estatística             | Valor               |\n",
        "|-------------------------|---------------------|\n",
        "| Número de amostras      | 4.898               |\n",
        "| Número de atributos     | 11 (físico-químicos)|\n",
        "| Valores de `quality`    | De 3 a 9            |\n",
        "| Média de `quality`      | Aproximadamente 5.88|\n",
        "\n",
        "---\n",
        "\n",
        "## Fonte\n",
        "Este conjunto de dados está disponível no [UCI Machine Learning Repository](https://archive.ics.uci.edu/ml/datasets/Wine+Quality).\n"
      ]
    },
    {
      "cell_type": "markdown",
      "id": "ee8a4a89",
      "metadata": {
        "id": "ee8a4a89"
      },
      "source": [
        "## Carregar Dataset"
      ]
    },
    {
      "cell_type": "code",
      "execution_count": null,
      "id": "cc13c1d1",
      "metadata": {
        "id": "cc13c1d1",
        "colab": {
          "base_uri": "https://localhost:8080/",
          "height": 463
        },
        "outputId": "fadee512-eac9-4b65-c9a8-28e12ac41751"
      },
      "outputs": [
        {
          "output_type": "stream",
          "name": "stderr",
          "text": [
            "/usr/local/lib/python3.10/dist-packages/sklearn/datasets/_openml.py:110: UserWarning: A network error occurred while downloading https://api.openml.org/api/v1/json/data/list/data_name/wine-quality-white/limit/2/data_version/1. Retrying...\n",
            "  warn(\n"
          ]
        },
        {
          "output_type": "error",
          "ename": "URLError",
          "evalue": "<urlopen error [Errno 110] Connection timed out>",
          "traceback": [
            "\u001b[0;31m---------------------------------------------------------------------------\u001b[0m",
            "\u001b[0;31mTimeoutError\u001b[0m                              Traceback (most recent call last)",
            "\u001b[0;32m/usr/lib/python3.10/urllib/request.py\u001b[0m in \u001b[0;36mdo_open\u001b[0;34m(self, http_class, req, **http_conn_args)\u001b[0m\n\u001b[1;32m   1347\u001b[0m             \u001b[0;32mtry\u001b[0m\u001b[0;34m:\u001b[0m\u001b[0;34m\u001b[0m\u001b[0;34m\u001b[0m\u001b[0m\n\u001b[0;32m-> 1348\u001b[0;31m                 h.request(req.get_method(), req.selector, req.data, headers,\n\u001b[0m\u001b[1;32m   1349\u001b[0m                           encode_chunked=req.has_header('Transfer-encoding'))\n",
            "\u001b[0;32m/usr/lib/python3.10/http/client.py\u001b[0m in \u001b[0;36mrequest\u001b[0;34m(self, method, url, body, headers, encode_chunked)\u001b[0m\n\u001b[1;32m   1282\u001b[0m         \u001b[0;34m\"\"\"Send a complete request to the server.\"\"\"\u001b[0m\u001b[0;34m\u001b[0m\u001b[0;34m\u001b[0m\u001b[0m\n\u001b[0;32m-> 1283\u001b[0;31m         \u001b[0mself\u001b[0m\u001b[0;34m.\u001b[0m\u001b[0m_send_request\u001b[0m\u001b[0;34m(\u001b[0m\u001b[0mmethod\u001b[0m\u001b[0;34m,\u001b[0m \u001b[0murl\u001b[0m\u001b[0;34m,\u001b[0m \u001b[0mbody\u001b[0m\u001b[0;34m,\u001b[0m \u001b[0mheaders\u001b[0m\u001b[0;34m,\u001b[0m \u001b[0mencode_chunked\u001b[0m\u001b[0;34m)\u001b[0m\u001b[0;34m\u001b[0m\u001b[0;34m\u001b[0m\u001b[0m\n\u001b[0m\u001b[1;32m   1284\u001b[0m \u001b[0;34m\u001b[0m\u001b[0m\n",
            "\u001b[0;32m/usr/lib/python3.10/http/client.py\u001b[0m in \u001b[0;36m_send_request\u001b[0;34m(self, method, url, body, headers, encode_chunked)\u001b[0m\n\u001b[1;32m   1328\u001b[0m             \u001b[0mbody\u001b[0m \u001b[0;34m=\u001b[0m \u001b[0m_encode\u001b[0m\u001b[0;34m(\u001b[0m\u001b[0mbody\u001b[0m\u001b[0;34m,\u001b[0m \u001b[0;34m'body'\u001b[0m\u001b[0;34m)\u001b[0m\u001b[0;34m\u001b[0m\u001b[0;34m\u001b[0m\u001b[0m\n\u001b[0;32m-> 1329\u001b[0;31m         \u001b[0mself\u001b[0m\u001b[0;34m.\u001b[0m\u001b[0mendheaders\u001b[0m\u001b[0;34m(\u001b[0m\u001b[0mbody\u001b[0m\u001b[0;34m,\u001b[0m \u001b[0mencode_chunked\u001b[0m\u001b[0;34m=\u001b[0m\u001b[0mencode_chunked\u001b[0m\u001b[0;34m)\u001b[0m\u001b[0;34m\u001b[0m\u001b[0;34m\u001b[0m\u001b[0m\n\u001b[0m\u001b[1;32m   1330\u001b[0m \u001b[0;34m\u001b[0m\u001b[0m\n",
            "\u001b[0;32m/usr/lib/python3.10/http/client.py\u001b[0m in \u001b[0;36mendheaders\u001b[0;34m(self, message_body, encode_chunked)\u001b[0m\n\u001b[1;32m   1277\u001b[0m             \u001b[0;32mraise\u001b[0m \u001b[0mCannotSendHeader\u001b[0m\u001b[0;34m(\u001b[0m\u001b[0;34m)\u001b[0m\u001b[0;34m\u001b[0m\u001b[0;34m\u001b[0m\u001b[0m\n\u001b[0;32m-> 1278\u001b[0;31m         \u001b[0mself\u001b[0m\u001b[0;34m.\u001b[0m\u001b[0m_send_output\u001b[0m\u001b[0;34m(\u001b[0m\u001b[0mmessage_body\u001b[0m\u001b[0;34m,\u001b[0m \u001b[0mencode_chunked\u001b[0m\u001b[0;34m=\u001b[0m\u001b[0mencode_chunked\u001b[0m\u001b[0;34m)\u001b[0m\u001b[0;34m\u001b[0m\u001b[0;34m\u001b[0m\u001b[0m\n\u001b[0m\u001b[1;32m   1279\u001b[0m \u001b[0;34m\u001b[0m\u001b[0m\n",
            "\u001b[0;32m/usr/lib/python3.10/http/client.py\u001b[0m in \u001b[0;36m_send_output\u001b[0;34m(self, message_body, encode_chunked)\u001b[0m\n\u001b[1;32m   1037\u001b[0m         \u001b[0;32mdel\u001b[0m \u001b[0mself\u001b[0m\u001b[0;34m.\u001b[0m\u001b[0m_buffer\u001b[0m\u001b[0;34m[\u001b[0m\u001b[0;34m:\u001b[0m\u001b[0;34m]\u001b[0m\u001b[0;34m\u001b[0m\u001b[0;34m\u001b[0m\u001b[0m\n\u001b[0;32m-> 1038\u001b[0;31m         \u001b[0mself\u001b[0m\u001b[0;34m.\u001b[0m\u001b[0msend\u001b[0m\u001b[0;34m(\u001b[0m\u001b[0mmsg\u001b[0m\u001b[0;34m)\u001b[0m\u001b[0;34m\u001b[0m\u001b[0;34m\u001b[0m\u001b[0m\n\u001b[0m\u001b[1;32m   1039\u001b[0m \u001b[0;34m\u001b[0m\u001b[0m\n",
            "\u001b[0;32m/usr/lib/python3.10/http/client.py\u001b[0m in \u001b[0;36msend\u001b[0;34m(self, data)\u001b[0m\n\u001b[1;32m    975\u001b[0m             \u001b[0;32mif\u001b[0m \u001b[0mself\u001b[0m\u001b[0;34m.\u001b[0m\u001b[0mauto_open\u001b[0m\u001b[0;34m:\u001b[0m\u001b[0;34m\u001b[0m\u001b[0;34m\u001b[0m\u001b[0m\n\u001b[0;32m--> 976\u001b[0;31m                 \u001b[0mself\u001b[0m\u001b[0;34m.\u001b[0m\u001b[0mconnect\u001b[0m\u001b[0;34m(\u001b[0m\u001b[0;34m)\u001b[0m\u001b[0;34m\u001b[0m\u001b[0;34m\u001b[0m\u001b[0m\n\u001b[0m\u001b[1;32m    977\u001b[0m             \u001b[0;32melse\u001b[0m\u001b[0;34m:\u001b[0m\u001b[0;34m\u001b[0m\u001b[0;34m\u001b[0m\u001b[0m\n",
            "\u001b[0;32m/usr/lib/python3.10/http/client.py\u001b[0m in \u001b[0;36mconnect\u001b[0;34m(self)\u001b[0m\n\u001b[1;32m   1447\u001b[0m \u001b[0;34m\u001b[0m\u001b[0m\n\u001b[0;32m-> 1448\u001b[0;31m             \u001b[0msuper\u001b[0m\u001b[0;34m(\u001b[0m\u001b[0;34m)\u001b[0m\u001b[0;34m.\u001b[0m\u001b[0mconnect\u001b[0m\u001b[0;34m(\u001b[0m\u001b[0;34m)\u001b[0m\u001b[0;34m\u001b[0m\u001b[0;34m\u001b[0m\u001b[0m\n\u001b[0m\u001b[1;32m   1449\u001b[0m \u001b[0;34m\u001b[0m\u001b[0m\n",
            "\u001b[0;32m/usr/lib/python3.10/http/client.py\u001b[0m in \u001b[0;36mconnect\u001b[0;34m(self)\u001b[0m\n\u001b[1;32m    941\u001b[0m         \u001b[0msys\u001b[0m\u001b[0;34m.\u001b[0m\u001b[0maudit\u001b[0m\u001b[0;34m(\u001b[0m\u001b[0;34m\"http.client.connect\"\u001b[0m\u001b[0;34m,\u001b[0m \u001b[0mself\u001b[0m\u001b[0;34m,\u001b[0m \u001b[0mself\u001b[0m\u001b[0;34m.\u001b[0m\u001b[0mhost\u001b[0m\u001b[0;34m,\u001b[0m \u001b[0mself\u001b[0m\u001b[0;34m.\u001b[0m\u001b[0mport\u001b[0m\u001b[0;34m)\u001b[0m\u001b[0;34m\u001b[0m\u001b[0;34m\u001b[0m\u001b[0m\n\u001b[0;32m--> 942\u001b[0;31m         self.sock = self._create_connection(\n\u001b[0m\u001b[1;32m    943\u001b[0m             (self.host,self.port), self.timeout, self.source_address)\n",
            "\u001b[0;32m/usr/lib/python3.10/socket.py\u001b[0m in \u001b[0;36mcreate_connection\u001b[0;34m(address, timeout, source_address)\u001b[0m\n\u001b[1;32m    844\u001b[0m         \u001b[0;32mtry\u001b[0m\u001b[0;34m:\u001b[0m\u001b[0;34m\u001b[0m\u001b[0;34m\u001b[0m\u001b[0m\n\u001b[0;32m--> 845\u001b[0;31m             \u001b[0;32mraise\u001b[0m \u001b[0merr\u001b[0m\u001b[0;34m\u001b[0m\u001b[0;34m\u001b[0m\u001b[0m\n\u001b[0m\u001b[1;32m    846\u001b[0m         \u001b[0;32mfinally\u001b[0m\u001b[0;34m:\u001b[0m\u001b[0;34m\u001b[0m\u001b[0;34m\u001b[0m\u001b[0m\n",
            "\u001b[0;32m/usr/lib/python3.10/socket.py\u001b[0m in \u001b[0;36mcreate_connection\u001b[0;34m(address, timeout, source_address)\u001b[0m\n\u001b[1;32m    832\u001b[0m                 \u001b[0msock\u001b[0m\u001b[0;34m.\u001b[0m\u001b[0mbind\u001b[0m\u001b[0;34m(\u001b[0m\u001b[0msource_address\u001b[0m\u001b[0;34m)\u001b[0m\u001b[0;34m\u001b[0m\u001b[0;34m\u001b[0m\u001b[0m\n\u001b[0;32m--> 833\u001b[0;31m             \u001b[0msock\u001b[0m\u001b[0;34m.\u001b[0m\u001b[0mconnect\u001b[0m\u001b[0;34m(\u001b[0m\u001b[0msa\u001b[0m\u001b[0;34m)\u001b[0m\u001b[0;34m\u001b[0m\u001b[0;34m\u001b[0m\u001b[0m\n\u001b[0m\u001b[1;32m    834\u001b[0m             \u001b[0;31m# Break explicitly a reference cycle\u001b[0m\u001b[0;34m\u001b[0m\u001b[0;34m\u001b[0m\u001b[0m\n",
            "\u001b[0;31mTimeoutError\u001b[0m: [Errno 110] Connection timed out",
            "\nDuring handling of the above exception, another exception occurred:\n",
            "\u001b[0;31mURLError\u001b[0m                                  Traceback (most recent call last)",
            "\u001b[0;32m<ipython-input-2-75c477738cf5>\u001b[0m in \u001b[0;36m<cell line: 3>\u001b[0;34m()\u001b[0m\n\u001b[1;32m      1\u001b[0m \u001b[0;32mfrom\u001b[0m \u001b[0msklearn\u001b[0m\u001b[0;34m.\u001b[0m\u001b[0mdatasets\u001b[0m \u001b[0;32mimport\u001b[0m \u001b[0mfetch_openml\u001b[0m\u001b[0;34m\u001b[0m\u001b[0;34m\u001b[0m\u001b[0m\n\u001b[1;32m      2\u001b[0m \u001b[0;34m\u001b[0m\u001b[0m\n\u001b[0;32m----> 3\u001b[0;31m \u001b[0mdata\u001b[0m \u001b[0;34m=\u001b[0m \u001b[0mfetch_openml\u001b[0m\u001b[0;34m(\u001b[0m\u001b[0mname\u001b[0m\u001b[0;34m=\u001b[0m\u001b[0;34m\"wine-quality-white\"\u001b[0m\u001b[0;34m,\u001b[0m \u001b[0mversion\u001b[0m\u001b[0;34m=\u001b[0m\u001b[0;36m1\u001b[0m\u001b[0;34m,\u001b[0m \u001b[0mas_frame\u001b[0m\u001b[0;34m=\u001b[0m\u001b[0;32mTrue\u001b[0m\u001b[0;34m)\u001b[0m\u001b[0;34m\u001b[0m\u001b[0;34m\u001b[0m\u001b[0m\n\u001b[0m\u001b[1;32m      4\u001b[0m \u001b[0;34m\u001b[0m\u001b[0m\n\u001b[1;32m      5\u001b[0m \u001b[0;31m# Extrair as características (variáveis preditoras) do dataset\u001b[0m\u001b[0;34m\u001b[0m\u001b[0;34m\u001b[0m\u001b[0m\n",
            "\u001b[0;32m/usr/local/lib/python3.10/dist-packages/sklearn/utils/_param_validation.py\u001b[0m in \u001b[0;36mwrapper\u001b[0;34m(*args, **kwargs)\u001b[0m\n\u001b[1;32m    214\u001b[0m                     )\n\u001b[1;32m    215\u001b[0m                 ):\n\u001b[0;32m--> 216\u001b[0;31m                     \u001b[0;32mreturn\u001b[0m \u001b[0mfunc\u001b[0m\u001b[0;34m(\u001b[0m\u001b[0;34m*\u001b[0m\u001b[0margs\u001b[0m\u001b[0;34m,\u001b[0m \u001b[0;34m**\u001b[0m\u001b[0mkwargs\u001b[0m\u001b[0;34m)\u001b[0m\u001b[0;34m\u001b[0m\u001b[0;34m\u001b[0m\u001b[0m\n\u001b[0m\u001b[1;32m    217\u001b[0m             \u001b[0;32mexcept\u001b[0m \u001b[0mInvalidParameterError\u001b[0m \u001b[0;32mas\u001b[0m \u001b[0me\u001b[0m\u001b[0;34m:\u001b[0m\u001b[0;34m\u001b[0m\u001b[0;34m\u001b[0m\u001b[0m\n\u001b[1;32m    218\u001b[0m                 \u001b[0;31m# When the function is just a wrapper around an estimator, we allow\u001b[0m\u001b[0;34m\u001b[0m\u001b[0;34m\u001b[0m\u001b[0m\n",
            "\u001b[0;32m/usr/local/lib/python3.10/dist-packages/sklearn/datasets/_openml.py\u001b[0m in \u001b[0;36mfetch_openml\u001b[0;34m(name, version, data_id, data_home, target_column, cache, return_X_y, as_frame, n_retries, delay, parser, read_csv_kwargs)\u001b[0m\n\u001b[1;32m   1009\u001b[0m                 \u001b[0;34m\"both.\"\u001b[0m\u001b[0;34m.\u001b[0m\u001b[0mformat\u001b[0m\u001b[0;34m(\u001b[0m\u001b[0mdata_id\u001b[0m\u001b[0;34m,\u001b[0m \u001b[0mname\u001b[0m\u001b[0;34m)\u001b[0m\u001b[0;34m\u001b[0m\u001b[0;34m\u001b[0m\u001b[0m\n\u001b[1;32m   1010\u001b[0m             )\n\u001b[0;32m-> 1011\u001b[0;31m         data_info = _get_data_info_by_name(\n\u001b[0m\u001b[1;32m   1012\u001b[0m             \u001b[0mname\u001b[0m\u001b[0;34m,\u001b[0m \u001b[0mversion\u001b[0m\u001b[0;34m,\u001b[0m \u001b[0mdata_home\u001b[0m\u001b[0;34m,\u001b[0m \u001b[0mn_retries\u001b[0m\u001b[0;34m=\u001b[0m\u001b[0mn_retries\u001b[0m\u001b[0;34m,\u001b[0m \u001b[0mdelay\u001b[0m\u001b[0;34m=\u001b[0m\u001b[0mdelay\u001b[0m\u001b[0;34m\u001b[0m\u001b[0;34m\u001b[0m\u001b[0m\n\u001b[1;32m   1013\u001b[0m         )\n",
            "\u001b[0;32m/usr/local/lib/python3.10/dist-packages/sklearn/datasets/_openml.py\u001b[0m in \u001b[0;36m_get_data_info_by_name\u001b[0;34m(name, version, data_home, n_retries, delay)\u001b[0m\n\u001b[1;32m    327\u001b[0m     \u001b[0murl\u001b[0m \u001b[0;34m=\u001b[0m \u001b[0;34m(\u001b[0m\u001b[0m_SEARCH_NAME\u001b[0m \u001b[0;34m+\u001b[0m \u001b[0;34m\"/data_version/{}\"\u001b[0m\u001b[0;34m)\u001b[0m\u001b[0;34m.\u001b[0m\u001b[0mformat\u001b[0m\u001b[0;34m(\u001b[0m\u001b[0mname\u001b[0m\u001b[0;34m,\u001b[0m \u001b[0mversion\u001b[0m\u001b[0;34m)\u001b[0m\u001b[0;34m\u001b[0m\u001b[0;34m\u001b[0m\u001b[0m\n\u001b[1;32m    328\u001b[0m     \u001b[0;32mtry\u001b[0m\u001b[0;34m:\u001b[0m\u001b[0;34m\u001b[0m\u001b[0;34m\u001b[0m\u001b[0m\n\u001b[0;32m--> 329\u001b[0;31m         json_data = _get_json_content_from_openml_api(\n\u001b[0m\u001b[1;32m    330\u001b[0m             \u001b[0murl\u001b[0m\u001b[0;34m,\u001b[0m\u001b[0;34m\u001b[0m\u001b[0;34m\u001b[0m\u001b[0m\n\u001b[1;32m    331\u001b[0m             \u001b[0merror_message\u001b[0m\u001b[0;34m=\u001b[0m\u001b[0;32mNone\u001b[0m\u001b[0;34m,\u001b[0m\u001b[0;34m\u001b[0m\u001b[0;34m\u001b[0m\u001b[0m\n",
            "\u001b[0;32m/usr/local/lib/python3.10/dist-packages/sklearn/datasets/_openml.py\u001b[0m in \u001b[0;36m_get_json_content_from_openml_api\u001b[0;34m(url, error_message, data_home, n_retries, delay)\u001b[0m\n\u001b[1;32m    244\u001b[0m \u001b[0;34m\u001b[0m\u001b[0m\n\u001b[1;32m    245\u001b[0m     \u001b[0;32mtry\u001b[0m\u001b[0;34m:\u001b[0m\u001b[0;34m\u001b[0m\u001b[0;34m\u001b[0m\u001b[0m\n\u001b[0;32m--> 246\u001b[0;31m         \u001b[0;32mreturn\u001b[0m \u001b[0m_load_json\u001b[0m\u001b[0;34m(\u001b[0m\u001b[0;34m)\u001b[0m\u001b[0;34m\u001b[0m\u001b[0;34m\u001b[0m\u001b[0m\n\u001b[0m\u001b[1;32m    247\u001b[0m     \u001b[0;32mexcept\u001b[0m \u001b[0mHTTPError\u001b[0m \u001b[0;32mas\u001b[0m \u001b[0merror\u001b[0m\u001b[0;34m:\u001b[0m\u001b[0;34m\u001b[0m\u001b[0;34m\u001b[0m\u001b[0m\n\u001b[1;32m    248\u001b[0m         \u001b[0;31m# 412 is an OpenML specific error code, indicating a generic error\u001b[0m\u001b[0;34m\u001b[0m\u001b[0;34m\u001b[0m\u001b[0m\n",
            "\u001b[0;32m/usr/local/lib/python3.10/dist-packages/sklearn/datasets/_openml.py\u001b[0m in \u001b[0;36mwrapper\u001b[0;34m(*args, **kw)\u001b[0m\n\u001b[1;32m     65\u001b[0m                 \u001b[0;32mreturn\u001b[0m \u001b[0mf\u001b[0m\u001b[0;34m(\u001b[0m\u001b[0;34m*\u001b[0m\u001b[0margs\u001b[0m\u001b[0;34m,\u001b[0m \u001b[0;34m**\u001b[0m\u001b[0mkw\u001b[0m\u001b[0;34m)\u001b[0m\u001b[0;34m\u001b[0m\u001b[0;34m\u001b[0m\u001b[0m\n\u001b[1;32m     66\u001b[0m             \u001b[0;32mtry\u001b[0m\u001b[0;34m:\u001b[0m\u001b[0;34m\u001b[0m\u001b[0;34m\u001b[0m\u001b[0m\n\u001b[0;32m---> 67\u001b[0;31m                 \u001b[0;32mreturn\u001b[0m \u001b[0mf\u001b[0m\u001b[0;34m(\u001b[0m\u001b[0;34m*\u001b[0m\u001b[0margs\u001b[0m\u001b[0;34m,\u001b[0m \u001b[0;34m**\u001b[0m\u001b[0mkw\u001b[0m\u001b[0;34m)\u001b[0m\u001b[0;34m\u001b[0m\u001b[0;34m\u001b[0m\u001b[0m\n\u001b[0m\u001b[1;32m     68\u001b[0m             \u001b[0;32mexcept\u001b[0m \u001b[0mURLError\u001b[0m\u001b[0;34m:\u001b[0m\u001b[0;34m\u001b[0m\u001b[0;34m\u001b[0m\u001b[0m\n\u001b[1;32m     69\u001b[0m                 \u001b[0;32mraise\u001b[0m\u001b[0;34m\u001b[0m\u001b[0;34m\u001b[0m\u001b[0m\n",
            "\u001b[0;32m/usr/local/lib/python3.10/dist-packages/sklearn/datasets/_openml.py\u001b[0m in \u001b[0;36m_load_json\u001b[0;34m()\u001b[0m\n\u001b[1;32m    239\u001b[0m     \u001b[0;32mdef\u001b[0m \u001b[0m_load_json\u001b[0m\u001b[0;34m(\u001b[0m\u001b[0;34m)\u001b[0m\u001b[0;34m:\u001b[0m\u001b[0;34m\u001b[0m\u001b[0;34m\u001b[0m\u001b[0m\n\u001b[1;32m    240\u001b[0m         with closing(\n\u001b[0;32m--> 241\u001b[0;31m             \u001b[0m_open_openml_url\u001b[0m\u001b[0;34m(\u001b[0m\u001b[0murl\u001b[0m\u001b[0;34m,\u001b[0m \u001b[0mdata_home\u001b[0m\u001b[0;34m,\u001b[0m \u001b[0mn_retries\u001b[0m\u001b[0;34m=\u001b[0m\u001b[0mn_retries\u001b[0m\u001b[0;34m,\u001b[0m \u001b[0mdelay\u001b[0m\u001b[0;34m=\u001b[0m\u001b[0mdelay\u001b[0m\u001b[0;34m)\u001b[0m\u001b[0;34m\u001b[0m\u001b[0;34m\u001b[0m\u001b[0m\n\u001b[0m\u001b[1;32m    242\u001b[0m         ) as response:\n\u001b[1;32m    243\u001b[0m             \u001b[0;32mreturn\u001b[0m \u001b[0mjson\u001b[0m\u001b[0;34m.\u001b[0m\u001b[0mloads\u001b[0m\u001b[0;34m(\u001b[0m\u001b[0mresponse\u001b[0m\u001b[0;34m.\u001b[0m\u001b[0mread\u001b[0m\u001b[0;34m(\u001b[0m\u001b[0;34m)\u001b[0m\u001b[0;34m.\u001b[0m\u001b[0mdecode\u001b[0m\u001b[0;34m(\u001b[0m\u001b[0;34m\"utf-8\"\u001b[0m\u001b[0;34m)\u001b[0m\u001b[0;34m)\u001b[0m\u001b[0;34m\u001b[0m\u001b[0;34m\u001b[0m\u001b[0m\n",
            "\u001b[0;32m/usr/local/lib/python3.10/dist-packages/sklearn/datasets/_openml.py\u001b[0m in \u001b[0;36m_open_openml_url\u001b[0;34m(openml_path, data_home, n_retries, delay)\u001b[0m\n\u001b[1;32m    171\u001b[0m             \u001b[0;32mwith\u001b[0m \u001b[0mTemporaryDirectory\u001b[0m\u001b[0;34m(\u001b[0m\u001b[0mdir\u001b[0m\u001b[0;34m=\u001b[0m\u001b[0mdir_name\u001b[0m\u001b[0;34m)\u001b[0m \u001b[0;32mas\u001b[0m \u001b[0mtmpdir\u001b[0m\u001b[0;34m:\u001b[0m\u001b[0;34m\u001b[0m\u001b[0;34m\u001b[0m\u001b[0m\n\u001b[1;32m    172\u001b[0m                 with closing(\n\u001b[0;32m--> 173\u001b[0;31m                     _retry_on_network_error(n_retries, delay, req.full_url)(urlopen)(\n\u001b[0m\u001b[1;32m    174\u001b[0m                         \u001b[0mreq\u001b[0m\u001b[0;34m\u001b[0m\u001b[0;34m\u001b[0m\u001b[0m\n\u001b[1;32m    175\u001b[0m                     )\n",
            "\u001b[0;32m/usr/local/lib/python3.10/dist-packages/sklearn/datasets/_openml.py\u001b[0m in \u001b[0;36mwrapper\u001b[0;34m(*args, **kwargs)\u001b[0m\n\u001b[1;32m    101\u001b[0m             \u001b[0;32mwhile\u001b[0m \u001b[0;32mTrue\u001b[0m\u001b[0;34m:\u001b[0m\u001b[0;34m\u001b[0m\u001b[0;34m\u001b[0m\u001b[0m\n\u001b[1;32m    102\u001b[0m                 \u001b[0;32mtry\u001b[0m\u001b[0;34m:\u001b[0m\u001b[0;34m\u001b[0m\u001b[0;34m\u001b[0m\u001b[0m\n\u001b[0;32m--> 103\u001b[0;31m                     \u001b[0;32mreturn\u001b[0m \u001b[0mf\u001b[0m\u001b[0;34m(\u001b[0m\u001b[0;34m*\u001b[0m\u001b[0margs\u001b[0m\u001b[0;34m,\u001b[0m \u001b[0;34m**\u001b[0m\u001b[0mkwargs\u001b[0m\u001b[0;34m)\u001b[0m\u001b[0;34m\u001b[0m\u001b[0;34m\u001b[0m\u001b[0m\n\u001b[0m\u001b[1;32m    104\u001b[0m                 \u001b[0;32mexcept\u001b[0m \u001b[0;34m(\u001b[0m\u001b[0mURLError\u001b[0m\u001b[0;34m,\u001b[0m \u001b[0mTimeoutError\u001b[0m\u001b[0;34m)\u001b[0m \u001b[0;32mas\u001b[0m \u001b[0me\u001b[0m\u001b[0;34m:\u001b[0m\u001b[0;34m\u001b[0m\u001b[0;34m\u001b[0m\u001b[0m\n\u001b[1;32m    105\u001b[0m                     \u001b[0;31m# 412 is a specific OpenML error code.\u001b[0m\u001b[0;34m\u001b[0m\u001b[0;34m\u001b[0m\u001b[0m\n",
            "\u001b[0;32m/usr/lib/python3.10/urllib/request.py\u001b[0m in \u001b[0;36murlopen\u001b[0;34m(url, data, timeout, cafile, capath, cadefault, context)\u001b[0m\n\u001b[1;32m    214\u001b[0m     \u001b[0;32melse\u001b[0m\u001b[0;34m:\u001b[0m\u001b[0;34m\u001b[0m\u001b[0;34m\u001b[0m\u001b[0m\n\u001b[1;32m    215\u001b[0m         \u001b[0mopener\u001b[0m \u001b[0;34m=\u001b[0m \u001b[0m_opener\u001b[0m\u001b[0;34m\u001b[0m\u001b[0;34m\u001b[0m\u001b[0m\n\u001b[0;32m--> 216\u001b[0;31m     \u001b[0;32mreturn\u001b[0m \u001b[0mopener\u001b[0m\u001b[0;34m.\u001b[0m\u001b[0mopen\u001b[0m\u001b[0;34m(\u001b[0m\u001b[0murl\u001b[0m\u001b[0;34m,\u001b[0m \u001b[0mdata\u001b[0m\u001b[0;34m,\u001b[0m \u001b[0mtimeout\u001b[0m\u001b[0;34m)\u001b[0m\u001b[0;34m\u001b[0m\u001b[0;34m\u001b[0m\u001b[0m\n\u001b[0m\u001b[1;32m    217\u001b[0m \u001b[0;34m\u001b[0m\u001b[0m\n\u001b[1;32m    218\u001b[0m \u001b[0;32mdef\u001b[0m \u001b[0minstall_opener\u001b[0m\u001b[0;34m(\u001b[0m\u001b[0mopener\u001b[0m\u001b[0;34m)\u001b[0m\u001b[0;34m:\u001b[0m\u001b[0;34m\u001b[0m\u001b[0;34m\u001b[0m\u001b[0m\n",
            "\u001b[0;32m/usr/lib/python3.10/urllib/request.py\u001b[0m in \u001b[0;36mopen\u001b[0;34m(self, fullurl, data, timeout)\u001b[0m\n\u001b[1;32m    517\u001b[0m \u001b[0;34m\u001b[0m\u001b[0m\n\u001b[1;32m    518\u001b[0m         \u001b[0msys\u001b[0m\u001b[0;34m.\u001b[0m\u001b[0maudit\u001b[0m\u001b[0;34m(\u001b[0m\u001b[0;34m'urllib.Request'\u001b[0m\u001b[0;34m,\u001b[0m \u001b[0mreq\u001b[0m\u001b[0;34m.\u001b[0m\u001b[0mfull_url\u001b[0m\u001b[0;34m,\u001b[0m \u001b[0mreq\u001b[0m\u001b[0;34m.\u001b[0m\u001b[0mdata\u001b[0m\u001b[0;34m,\u001b[0m \u001b[0mreq\u001b[0m\u001b[0;34m.\u001b[0m\u001b[0mheaders\u001b[0m\u001b[0;34m,\u001b[0m \u001b[0mreq\u001b[0m\u001b[0;34m.\u001b[0m\u001b[0mget_method\u001b[0m\u001b[0;34m(\u001b[0m\u001b[0;34m)\u001b[0m\u001b[0;34m)\u001b[0m\u001b[0;34m\u001b[0m\u001b[0;34m\u001b[0m\u001b[0m\n\u001b[0;32m--> 519\u001b[0;31m         \u001b[0mresponse\u001b[0m \u001b[0;34m=\u001b[0m \u001b[0mself\u001b[0m\u001b[0;34m.\u001b[0m\u001b[0m_open\u001b[0m\u001b[0;34m(\u001b[0m\u001b[0mreq\u001b[0m\u001b[0;34m,\u001b[0m \u001b[0mdata\u001b[0m\u001b[0;34m)\u001b[0m\u001b[0;34m\u001b[0m\u001b[0;34m\u001b[0m\u001b[0m\n\u001b[0m\u001b[1;32m    520\u001b[0m \u001b[0;34m\u001b[0m\u001b[0m\n\u001b[1;32m    521\u001b[0m         \u001b[0;31m# post-process response\u001b[0m\u001b[0;34m\u001b[0m\u001b[0;34m\u001b[0m\u001b[0m\n",
            "\u001b[0;32m/usr/lib/python3.10/urllib/request.py\u001b[0m in \u001b[0;36m_open\u001b[0;34m(self, req, data)\u001b[0m\n\u001b[1;32m    534\u001b[0m \u001b[0;34m\u001b[0m\u001b[0m\n\u001b[1;32m    535\u001b[0m         \u001b[0mprotocol\u001b[0m \u001b[0;34m=\u001b[0m \u001b[0mreq\u001b[0m\u001b[0;34m.\u001b[0m\u001b[0mtype\u001b[0m\u001b[0;34m\u001b[0m\u001b[0;34m\u001b[0m\u001b[0m\n\u001b[0;32m--> 536\u001b[0;31m         result = self._call_chain(self.handle_open, protocol, protocol +\n\u001b[0m\u001b[1;32m    537\u001b[0m                                   '_open', req)\n\u001b[1;32m    538\u001b[0m         \u001b[0;32mif\u001b[0m \u001b[0mresult\u001b[0m\u001b[0;34m:\u001b[0m\u001b[0;34m\u001b[0m\u001b[0;34m\u001b[0m\u001b[0m\n",
            "\u001b[0;32m/usr/lib/python3.10/urllib/request.py\u001b[0m in \u001b[0;36m_call_chain\u001b[0;34m(self, chain, kind, meth_name, *args)\u001b[0m\n\u001b[1;32m    494\u001b[0m         \u001b[0;32mfor\u001b[0m \u001b[0mhandler\u001b[0m \u001b[0;32min\u001b[0m \u001b[0mhandlers\u001b[0m\u001b[0;34m:\u001b[0m\u001b[0;34m\u001b[0m\u001b[0;34m\u001b[0m\u001b[0m\n\u001b[1;32m    495\u001b[0m             \u001b[0mfunc\u001b[0m \u001b[0;34m=\u001b[0m \u001b[0mgetattr\u001b[0m\u001b[0;34m(\u001b[0m\u001b[0mhandler\u001b[0m\u001b[0;34m,\u001b[0m \u001b[0mmeth_name\u001b[0m\u001b[0;34m)\u001b[0m\u001b[0;34m\u001b[0m\u001b[0;34m\u001b[0m\u001b[0m\n\u001b[0;32m--> 496\u001b[0;31m             \u001b[0mresult\u001b[0m \u001b[0;34m=\u001b[0m \u001b[0mfunc\u001b[0m\u001b[0;34m(\u001b[0m\u001b[0;34m*\u001b[0m\u001b[0margs\u001b[0m\u001b[0;34m)\u001b[0m\u001b[0;34m\u001b[0m\u001b[0;34m\u001b[0m\u001b[0m\n\u001b[0m\u001b[1;32m    497\u001b[0m             \u001b[0;32mif\u001b[0m \u001b[0mresult\u001b[0m \u001b[0;32mis\u001b[0m \u001b[0;32mnot\u001b[0m \u001b[0;32mNone\u001b[0m\u001b[0;34m:\u001b[0m\u001b[0;34m\u001b[0m\u001b[0;34m\u001b[0m\u001b[0m\n\u001b[1;32m    498\u001b[0m                 \u001b[0;32mreturn\u001b[0m \u001b[0mresult\u001b[0m\u001b[0;34m\u001b[0m\u001b[0;34m\u001b[0m\u001b[0m\n",
            "\u001b[0;32m/usr/lib/python3.10/urllib/request.py\u001b[0m in \u001b[0;36mhttps_open\u001b[0;34m(self, req)\u001b[0m\n\u001b[1;32m   1389\u001b[0m \u001b[0;34m\u001b[0m\u001b[0m\n\u001b[1;32m   1390\u001b[0m         \u001b[0;32mdef\u001b[0m \u001b[0mhttps_open\u001b[0m\u001b[0;34m(\u001b[0m\u001b[0mself\u001b[0m\u001b[0;34m,\u001b[0m \u001b[0mreq\u001b[0m\u001b[0;34m)\u001b[0m\u001b[0;34m:\u001b[0m\u001b[0;34m\u001b[0m\u001b[0;34m\u001b[0m\u001b[0m\n\u001b[0;32m-> 1391\u001b[0;31m             return self.do_open(http.client.HTTPSConnection, req,\n\u001b[0m\u001b[1;32m   1392\u001b[0m                 context=self._context, check_hostname=self._check_hostname)\n\u001b[1;32m   1393\u001b[0m \u001b[0;34m\u001b[0m\u001b[0m\n",
            "\u001b[0;32m/usr/lib/python3.10/urllib/request.py\u001b[0m in \u001b[0;36mdo_open\u001b[0;34m(self, http_class, req, **http_conn_args)\u001b[0m\n\u001b[1;32m   1349\u001b[0m                           encode_chunked=req.has_header('Transfer-encoding'))\n\u001b[1;32m   1350\u001b[0m             \u001b[0;32mexcept\u001b[0m \u001b[0mOSError\u001b[0m \u001b[0;32mas\u001b[0m \u001b[0merr\u001b[0m\u001b[0;34m:\u001b[0m \u001b[0;31m# timeout error\u001b[0m\u001b[0;34m\u001b[0m\u001b[0;34m\u001b[0m\u001b[0m\n\u001b[0;32m-> 1351\u001b[0;31m                 \u001b[0;32mraise\u001b[0m \u001b[0mURLError\u001b[0m\u001b[0;34m(\u001b[0m\u001b[0merr\u001b[0m\u001b[0;34m)\u001b[0m\u001b[0;34m\u001b[0m\u001b[0;34m\u001b[0m\u001b[0m\n\u001b[0m\u001b[1;32m   1352\u001b[0m             \u001b[0mr\u001b[0m \u001b[0;34m=\u001b[0m \u001b[0mh\u001b[0m\u001b[0;34m.\u001b[0m\u001b[0mgetresponse\u001b[0m\u001b[0;34m(\u001b[0m\u001b[0;34m)\u001b[0m\u001b[0;34m\u001b[0m\u001b[0;34m\u001b[0m\u001b[0m\n\u001b[1;32m   1353\u001b[0m         \u001b[0;32mexcept\u001b[0m\u001b[0;34m:\u001b[0m\u001b[0;34m\u001b[0m\u001b[0;34m\u001b[0m\u001b[0m\n",
            "\u001b[0;31mURLError\u001b[0m: <urlopen error [Errno 110] Connection timed out>"
          ]
        }
      ],
      "source": [
        "from sklearn.datasets import fetch_openml\n",
        "\n",
        "data = fetch_openml(name=\"wine-quality-white\", version=1, as_frame=True)\n",
        "\n",
        "# Extrair as características (variáveis preditoras) do dataset\n",
        "# - data.data: retorna todas as colunas exceto a variável alvo\n",
        "X = data.data\n",
        "\n",
        "# Extrair a variável alvo (target) e converter os valores para o tipo inteiro\n",
        "# - data.target: retorna a variável alvo\n",
        "# - astype(int): converte os valores para inteiros, caso estejam em outro formato\n",
        "y = data.target.astype(int)\n"
      ]
    },
    {
      "cell_type": "markdown",
      "id": "f2d2f1e9",
      "metadata": {
        "id": "f2d2f1e9"
      },
      "source": [
        "## Divisão dos dados em treino e teste"
      ]
    },
    {
      "cell_type": "code",
      "execution_count": null,
      "id": "28209700",
      "metadata": {
        "id": "28209700"
      },
      "outputs": [],
      "source": [
        "\n",
        "X_train, X_test, y_train, y_test = train_test_split(X, y, test_size=0.3, random_state=42)\n"
      ]
    },
    {
      "cell_type": "markdown",
      "id": "517a96b8",
      "metadata": {
        "id": "517a96b8"
      },
      "source": [
        "## Padronização dos dados"
      ]
    },
    {
      "cell_type": "code",
      "execution_count": null,
      "id": "b1de2fd3",
      "metadata": {
        "id": "b1de2fd3"
      },
      "outputs": [],
      "source": [
        "\n",
        "scaler = StandardScaler()\n",
        "# Ajustar o scaler aos dados de treinamento e transformar (padronizar)\n",
        "# - fit_transform: ajusta o scaler (calcula média e desvio padrão) e aplica a transformação aos dados\n",
        "X_train = scaler.fit_transform(X_train)\n",
        "\n",
        "# Aplicar a transformação aos dados de teste com os parâmetros calculados no treinamento\n",
        "# - transform: utiliza a média e o desvio padrão do conjunto de treinamento para padronizar os dados de teste\n",
        "X_test = scaler.transform(X_test)\n"
      ]
    },
    {
      "cell_type": "markdown",
      "id": "4b5f4ce8",
      "metadata": {
        "id": "4b5f4ce8"
      },
      "source": [
        "## Treinamento do modelo de classificação - Regressão Logística"
      ]
    },
    {
      "cell_type": "code",
      "execution_count": null,
      "id": "36c1b2a6",
      "metadata": {
        "id": "36c1b2a6",
        "outputId": "430606ac-a28e-49ab-ca4e-59b28b498414"
      },
      "outputs": [
        {
          "data": {
            "text/plain": [
              "LogisticRegression(max_iter=5000, random_state=42)"
            ]
          },
          "execution_count": 27,
          "metadata": {},
          "output_type": "execute_result"
        }
      ],
      "source": [
        "\n",
        "logreg = LogisticRegression(random_state=42, max_iter=5000, solver='lbfgs')  # Inicializar a Regressão Logística\n",
        "\n",
        "logreg.fit(X_train, y_train)\n"
      ]
    },
    {
      "cell_type": "markdown",
      "id": "211e5bb8",
      "metadata": {
        "id": "211e5bb8"
      },
      "source": [
        "#### Parâmetros Utilizados:\n",
        "\n",
        "- random_state=42:\n",
        "Garante a reprodutibilidade dos resultados ao fixar a semente do gerador aleatório.\n",
        "\n",
        "- max_iter=5000:\n",
        "Define o número máximo de iterações para o algoritmo de otimização. Isso é útil para garantir que o modelo converja, especialmente em conjuntos de dados complexos ou grandes.\n",
        "\n",
        "- solver='lbfgs':\n",
        "Define o algoritmo de otimização utilizado para ajustar os coeficientes do modelo.\n",
        "O lbfgs (Limited-memory BFGS) é um algoritmo eficiente e adequado para problemas com muitas classes."
      ]
    },
    {
      "cell_type": "markdown",
      "id": "226c8c02",
      "metadata": {
        "id": "226c8c02"
      },
      "source": [
        "## Avaliação do modelo"
      ]
    },
    {
      "cell_type": "code",
      "execution_count": null,
      "id": "ab41ef7d",
      "metadata": {
        "id": "ab41ef7d",
        "outputId": "d4353e6e-03cd-4e46-cf76-406ca5392517"
      },
      "outputs": [
        {
          "name": "stdout",
          "output_type": "stream",
          "text": [
            "Acurácia: 0.5408163265306123\n",
            "Relatório de Classificação:\n",
            "               precision    recall  f1-score   support\n",
            "\n",
            "           1       0.00      0.00      0.00         7\n",
            "           2       0.50      0.03      0.05        40\n",
            "           3       0.58      0.55      0.56       426\n",
            "           4       0.53      0.74      0.62       668\n",
            "           5       0.51      0.23      0.31       280\n",
            "           6       0.00      0.00      0.00        49\n",
            "           7       0.00      0.00      0.00         0\n",
            "\n",
            "    accuracy                           0.54      1470\n",
            "   macro avg       0.30      0.22      0.22      1470\n",
            "weighted avg       0.52      0.54      0.51      1470\n",
            "\n"
          ]
        },
        {
          "name": "stderr",
          "output_type": "stream",
          "text": [
            "C:\\Users\\baj00\\anaconda3\\lib\\site-packages\\sklearn\\metrics\\_classification.py:1248: UndefinedMetricWarning: Precision and F-score are ill-defined and being set to 0.0 in labels with no predicted samples. Use `zero_division` parameter to control this behavior.\n",
            "  _warn_prf(average, modifier, msg_start, len(result))\n",
            "C:\\Users\\baj00\\anaconda3\\lib\\site-packages\\sklearn\\metrics\\_classification.py:1248: UndefinedMetricWarning: Recall and F-score are ill-defined and being set to 0.0 in labels with no true samples. Use `zero_division` parameter to control this behavior.\n",
            "  _warn_prf(average, modifier, msg_start, len(result))\n",
            "C:\\Users\\baj00\\anaconda3\\lib\\site-packages\\sklearn\\metrics\\_classification.py:1248: UndefinedMetricWarning: Precision and F-score are ill-defined and being set to 0.0 in labels with no predicted samples. Use `zero_division` parameter to control this behavior.\n",
            "  _warn_prf(average, modifier, msg_start, len(result))\n",
            "C:\\Users\\baj00\\anaconda3\\lib\\site-packages\\sklearn\\metrics\\_classification.py:1248: UndefinedMetricWarning: Recall and F-score are ill-defined and being set to 0.0 in labels with no true samples. Use `zero_division` parameter to control this behavior.\n",
            "  _warn_prf(average, modifier, msg_start, len(result))\n",
            "C:\\Users\\baj00\\anaconda3\\lib\\site-packages\\sklearn\\metrics\\_classification.py:1248: UndefinedMetricWarning: Precision and F-score are ill-defined and being set to 0.0 in labels with no predicted samples. Use `zero_division` parameter to control this behavior.\n",
            "  _warn_prf(average, modifier, msg_start, len(result))\n",
            "C:\\Users\\baj00\\anaconda3\\lib\\site-packages\\sklearn\\metrics\\_classification.py:1248: UndefinedMetricWarning: Recall and F-score are ill-defined and being set to 0.0 in labels with no true samples. Use `zero_division` parameter to control this behavior.\n",
            "  _warn_prf(average, modifier, msg_start, len(result))\n"
          ]
        }
      ],
      "source": [
        "\n",
        "y_pred = logreg.predict(X_test)\n",
        "print(\"Acurácia:\", accuracy_score(y_test, y_pred))\n",
        "print(\"Relatório de Classificação:\\n\", classification_report(y_test, y_pred))\n"
      ]
    },
    {
      "cell_type": "markdown",
      "id": "09519e7a",
      "metadata": {
        "id": "09519e7a"
      },
      "source": [
        "## Matriz de Confusão"
      ]
    },
    {
      "cell_type": "code",
      "execution_count": null,
      "id": "749bfdb6",
      "metadata": {
        "scrolled": false,
        "id": "749bfdb6",
        "outputId": "b0ac8ec2-9830-42a5-8c7c-83dfffe1a09b"
      },
      "outputs": [
        {
          "data": {
            "image/png": "[encoded data removed]",
            "text/plain": [
              "<Figure size 432x288 with 2 Axes>"
            ]
          },
          "metadata": {
            "needs_background": "light"
          },
          "output_type": "display_data"
        }
      ],
      "source": [
        "\n",
        "conf_matrix = confusion_matrix(y_test, y_pred_logreg)\n",
        "sns.heatmap(conf_matrix, annot=True, fmt=\"d\", cmap=\"Blues\", xticklabels=np.unique(y), yticklabels=np.unique(y))\n",
        "plt.title(\"Matriz de Confusão\")\n",
        "plt.xlabel(\"Previsto\")\n",
        "plt.ylabel(\"Real\")\n",
        "plt.show()\n"
      ]
    },
    {
      "cell_type": "markdown",
      "id": "e8057de0",
      "metadata": {
        "id": "e8057de0"
      },
      "source": [
        "### Análise da Matriz de Confusão\n",
        "\n",
        "#### O que é uma matriz de confusão?\n",
        "A matriz de confusão é uma tabela que resume o desempenho de um classificador comparando os rótulos reais com as previsões do modelo. Ela permite visualizar quais classes foram classificadas corretamente e quais foram confundidas.\n",
        "\n",
        "---\n",
        "\n",
        "### Interpretação da Matriz de Confusão\n",
        "#### Estrutura da Matriz\n",
        "- **Linhas**: Representam as classes reais (rótulos originais dos dados).\n",
        "- **Colunas**: Representam as classes previstas (previsões feitas pelo modelo).\n",
        "- **Diagonal Principal**: Valores corretamente classificados pelo modelo (previsões corretas).\n",
        "- **Fora da Diagonal Principal**: Valores incorretamente classificados (erros de classificação).\n",
        "\n",
        "---\n",
        "\n",
        "## Observações da Matriz\n",
        "1. **Classes Presentes**:\n",
        "   - A matriz mostra que há **7 classes** no total, numeradas de 1 a 7.\n",
        "\n",
        "2. **Diagonal Principal**:\n",
        "   - A diagonal principal contém os seguintes valores: [0, 1, 235, 496, 63, 0, 0].\n",
        "   - Esses números representam as previsões corretas feitas pelo modelo para cada classe.\n",
        "\n",
        "3. **Erros de Classificação**:\n",
        "   - Os valores fora da diagonal principal representam os erros de classificação.\n",
        "   - Por exemplo:\n",
        "     - **126 instâncias** da classe real `4` foram classificadas erroneamente como `3`.\n",
        "     - **45 instâncias** da classe real `4` foram classificadas como `5`.\n",
        "\n",
        "---\n",
        "\n",
        "3. **Classes com Maior Erro**:\n",
        "   - Classe `5` possui **195** casos que foram previstos com `4`\n",
        "   - Classe `4` tem muitos erros, com **126** instâncias previstas como `3`.\n",
        "   - Classe `3` também apresenta erros significativos, com **188** instâncias previstas como `4`.\n",
        "\n",
        "---\n",
        "\n",
        "## Conclusão\n",
        "A matriz de confusão mostra que o modelo apresenta um desempenho razoável, mas com erros consideráveis entre classes adjacentes (ex.: classe `3`,`4`.`6`). Para melhorar, algumas sugestões são:\n",
        "\n",
        "- Ajustar hiperparâmetros do modelo.\n",
        "- Balancear as classes no conjunto de dados.\n",
        "- Explorar diferentes classificadores.\n"
      ]
    },
    {
      "cell_type": "markdown",
      "id": "a8104b7b",
      "metadata": {
        "id": "a8104b7b"
      },
      "source": [
        "# Exemplo Dataset Iris com Árvore de Decisão"
      ]
    },
    {
      "cell_type": "code",
      "execution_count": null,
      "id": "24db86f3",
      "metadata": {
        "scrolled": true,
        "id": "24db86f3",
        "outputId": "103f77e2-c383-474c-8f07-2bdece7b1fc3"
      },
      "outputs": [
        {
          "name": "stdout",
          "output_type": "stream",
          "text": [
            "Acurácia: 0.9333333333333333\n",
            "\n",
            "Relatório de Classificação:\n",
            "               precision    recall  f1-score   support\n",
            "\n",
            "      setosa       1.00      1.00      1.00        15\n",
            "  versicolor       1.00      0.80      0.89        15\n",
            "   virginica       0.83      1.00      0.91        15\n",
            "\n",
            "    accuracy                           0.93        45\n",
            "   macro avg       0.94      0.93      0.93        45\n",
            "weighted avg       0.94      0.93      0.93        45\n",
            "\n"
          ]
        },
        {
          "data": {
            "image/png": "[encoded data removed]",
            "text/plain": [
              "<Figure size 432x288 with 2 Axes>"
            ]
          },
          "metadata": {
            "needs_background": "light"
          },
          "output_type": "display_data"
        },
        {
          "name": "stdout",
          "output_type": "stream",
          "text": [
            "Árvore de Decisão:\n",
            "\n",
            "|--- petal length (cm) <= 2.45\n",
            "|   |--- class: 0\n",
            "|--- petal length (cm) >  2.45\n",
            "|   |--- petal width (cm) <= 1.55\n",
            "|   |   |--- petal length (cm) <= 4.95\n",
            "|   |   |   |--- class: 1\n",
            "|   |   |--- petal length (cm) >  4.95\n",
            "|   |   |   |--- class: 2\n",
            "|   |--- petal width (cm) >  1.55\n",
            "|   |   |--- petal width (cm) <= 1.70\n",
            "|   |   |   |--- sepal width (cm) <= 2.85\n",
            "|   |   |   |   |--- class: 1\n",
            "|   |   |   |--- sepal width (cm) >  2.85\n",
            "|   |   |   |   |--- class: 2\n",
            "|   |   |--- petal width (cm) >  1.70\n",
            "|   |   |   |--- petal length (cm) <= 4.85\n",
            "|   |   |   |   |--- sepal width (cm) <= 3.00\n",
            "|   |   |   |   |   |--- class: 2\n",
            "|   |   |   |   |--- sepal width (cm) >  3.00\n",
            "|   |   |   |   |   |--- class: 1\n",
            "|   |   |   |--- petal length (cm) >  4.85\n",
            "|   |   |   |   |--- class: 2\n",
            "\n",
            "\n",
            "Novos dados: [[5.1 3.5 1.4 0.2]\n",
            " [6.7 3.1 4.7 1.5]\n",
            " [7.2 3.6 6.1 2.5]]\n",
            "Previsões: ['setosa', 'versicolor', 'virginica']\n"
          ]
        }
      ],
      "source": [
        "import numpy as np\n",
        "import pandas as pd\n",
        "from sklearn.datasets import load_iris\n",
        "from sklearn.model_selection import train_test_split\n",
        "from sklearn.tree import DecisionTreeClassifier, export_text\n",
        "from sklearn.metrics import accuracy_score, classification_report, confusion_matrix\n",
        "import matplotlib.pyplot as plt\n",
        "import seaborn as sns\n",
        "\n",
        "# 1. Carregar o dataset\n",
        "iris = load_iris()\n",
        "X = iris.data\n",
        "y = iris.target\n",
        "\n",
        "# Criar um DataFrame para melhor visualização\n",
        "iris_df = pd.DataFrame(X, columns=iris.feature_names)\n",
        "iris_df['target'] = y\n",
        "\n",
        "# 2. Dividir o dataset em treino e teste\n",
        "X_train, X_test, y_train, y_test = train_test_split(X, y, test_size=0.3, random_state=42, stratify=y)\n",
        "\n",
        "# O parâmetro 'stratify' do método train_test_split no scikit-learn é usado para garantir que a proporção das classes\n",
        "# no conjunto de treino e teste seja a mesma da distribuição original dos dados.\n",
        "# Isso é especialmente importante em problemas de classificação, onde o desbalanceamento entre as classes\n",
        "# pode afetar a avaliação do modelo.\n",
        "\n",
        "\n",
        "# 3. Treinar o modelo\n",
        "clf = DecisionTreeClassifier(random_state=42)\n",
        "clf.fit(X_train, y_train)\n",
        "\n",
        "# 4. Fazer previsões\n",
        "y_pred = clf.predict(X_test)\n",
        "\n",
        "# 5. Avaliar o modelo\n",
        "accuracy = accuracy_score(y_test, y_pred)\n",
        "print(\"Acurácia:\", accuracy)\n",
        "print(\"\\nRelatório de Classificação:\\n\", classification_report(y_test, y_pred, target_names=iris.target_names))\n",
        "\n",
        "# Matriz de Confusão\n",
        "conf_matrix = confusion_matrix(y_test, y_pred)\n",
        "sns.heatmap(conf_matrix, annot=True, fmt='d', cmap='Blues', xticklabels=iris.target_names, yticklabels=iris.target_names)\n",
        "plt.xlabel('Previsão')\n",
        "plt.ylabel('Verdadeiro')\n",
        "plt.title('Matriz de Confusão')\n",
        "plt.show()\n",
        "\n",
        "# 6. Visualizar a árvore de decisão\n",
        "print(\"Árvore de Decisão:\\n\")\n",
        "print(export_text(clf, feature_names=iris.feature_names))\n",
        "\n",
        "# 7. Fazer previsões em novos dados\n",
        "novos_dados = np.array([[5.1, 3.5, 1.4, 0.2], [6.7, 3.1, 4.7, 1.5], [7.2, 3.6, 6.1, 2.5]])\n",
        "predicoes = clf.predict(novos_dados)\n",
        "predicoes_labels = [iris.target_names[label] for label in predicoes]\n",
        "\n",
        "print(\"\\nNovos dados:\", novos_dados)\n",
        "print(\"Previsões:\", predicoes_labels)\n"
      ]
    },
    {
      "cell_type": "markdown",
      "id": "cde7ee16",
      "metadata": {
        "id": "cde7ee16"
      },
      "source": [
        "\n",
        "As árvores de decisão funcionam bem em problemas com mais de duas classes, incluindo problemas de classificação com três classes, como no caso do dataset Iris. Aqui está o porquê:\n",
        "\n",
        "1. Divisões Hierárquicas Multiclasse\n",
        "\n",
        "Árvores de decisão conseguem lidar com problemas de múltiplas classes ao realizar divisões binárias sucessivas baseadas nos critérios de impureza, como Gini ou Entropia.\n",
        "Cada divisão no nó considera todas as classes e tenta separar os dados da forma mais pura possível em relação às classes presentes.\n",
        "\n",
        "\n",
        "2. Critérios de Separação\n",
        "\n",
        "Os critérios de impureza, como Gini e Entropia, são projetados para lidar com várias classes simultaneamente. Eles avaliam a distribuição de probabilidades entre as classes em cada nó.\n",
        "No caso do Iris, cada nó é avaliado para maximizar a separação das três classes (setosa, versicolor, virginica).\n",
        "\n",
        "\n",
        "3. Simetria no Dataset Iris\n",
        "\n",
        "O dataset Iris é bem equilibrado (50 amostras por classe), o que facilita o aprendizado da árvore de decisão. Árvores de decisão podem ter problemas em datasets com classes desbalanceadas, mas isso não ocorre aqui.\n",
        "\n",
        "\n",
        "4. Interpretação Multiclasse\n",
        "\n",
        "Árvores de decisão fornecem previsões diretas para problemas multiclasse:\n",
        "Em cada folha, a árvore armazena a classe mais provável ou distribuições de probabilidade para todas as classes.\n",
        "Isso permite lidar com três ou mais classes de maneira natural.\n",
        "\n",
        "5. Exemplo Prático no Iris\n",
        "\n",
        "Para o Iris, a árvore identifica as classes baseando-se em características como o comprimento e largura das pétalas e sépalas. Essas características têm separações claras que facilitam a tarefa de classificação:\n",
        "\n",
        "- Setosa pode ser separada com base em apenas um atributo, como o comprimento da pétala.\n",
        "Para diferenciar versicolor e virginica, a árvore encontra combinações de outras características.\n",
        "\n",
        "6. Desempenho\n",
        "\n",
        "Em datasets pequenos como o Iris, árvores de decisão frequentemente alcançam resultados comparáveis ou superiores a outros métodos simples de classificação.\n",
        "No exemplo acima, o modelo apresentou alta precisão, mesmo com três classes.\n",
        "\n",
        "\n",
        "**Limitações e Cenários Difíceis**\n",
        "\n",
        "Embora as árvores de decisão sejam adequadas para problemas multiclasse como o Iris, algumas limitações podem surgir:\n",
        "\n",
        "- Overfitting: Árvores de decisão podem se ajustar demais aos dados de treino, especialmente com muitos atributos ou dados ruidosos. Fraco desempenho em classes desbalanceadas: Se uma classe tiver muito mais exemplos que as outras, a árvore pode favorecer essa classe. Esses problemas podem ser mitigados com técnicas como poda, Random Forests, ou ajustando hiperparâmetros.\n",
        "\n"
      ]
    }
  ],
  "metadata": {
    "kernelspec": {
      "display_name": "Python 3 (ipykernel)",
      "language": "python",
      "name": "python3"
    },
    "language_info": {
      "codemirror_mode": {
        "name": "ipython",
        "version": 3
      },
      "file_extension": ".py",
      "mimetype": "text/x-python",
      "name": "python",
      "nbconvert_exporter": "python",
      "pygments_lexer": "ipython3",
      "version": "3.9.7"
    },
    "colab": {
      "provenance": []
    }
  },
  "nbformat": 4,
  "nbformat_minor": 5
}