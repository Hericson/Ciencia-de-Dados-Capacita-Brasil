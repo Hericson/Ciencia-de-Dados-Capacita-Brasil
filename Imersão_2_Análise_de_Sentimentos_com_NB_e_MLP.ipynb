{
  "cells": [
    {
      "cell_type": "code",
      "execution_count": 108,
      "id": "0be81915",
      "metadata": {
        "id": "0be81915"
      },
      "outputs": [
        {
          "name": "stdout",
          "output_type": "stream",
          "text": [
            "Requirement already satisfied: kagglehub in /home/hericson/anaconda3/envs/my_projects/lib/python3.9/site-packages (0.3.9)\n",
            "Requirement already satisfied: pyyaml in /home/hericson/anaconda3/envs/my_projects/lib/python3.9/site-packages (from kagglehub) (6.0)\n",
            "Requirement already satisfied: tqdm in /home/hericson/anaconda3/envs/my_projects/lib/python3.9/site-packages (from kagglehub) (4.65.0)\n",
            "Requirement already satisfied: packaging in /home/hericson/anaconda3/envs/my_projects/lib/python3.9/site-packages (from kagglehub) (23.1)\n",
            "Requirement already satisfied: requests in /home/hericson/anaconda3/envs/my_projects/lib/python3.9/site-packages (from kagglehub) (2.31.0)\n",
            "Requirement already satisfied: idna<4,>=2.5 in /home/hericson/anaconda3/envs/my_projects/lib/python3.9/site-packages (from requests->kagglehub) (3.4)\n",
            "Requirement already satisfied: urllib3<3,>=1.21.1 in /home/hericson/anaconda3/envs/my_projects/lib/python3.9/site-packages (from requests->kagglehub) (1.26.16)\n",
            "Requirement already satisfied: certifi>=2017.4.17 in /home/hericson/anaconda3/envs/my_projects/lib/python3.9/site-packages (from requests->kagglehub) (2023.5.7)\n",
            "Requirement already satisfied: charset-normalizer<4,>=2 in /home/hericson/anaconda3/envs/my_projects/lib/python3.9/site-packages (from requests->kagglehub) (3.1.0)\n"
          ]
        }
      ],
      "source": [
        "!pip install kagglehub"
      ]
    },
    {
      "cell_type": "code",
      "execution_count": 109,
      "id": "2d75a3b0",
      "metadata": {
        "id": "2d75a3b0"
      },
      "outputs": [
        {
          "name": "stdout",
          "output_type": "stream",
          "text": [
            "Warning: Looks like you're using an outdated `kagglehub` version (installed: 0.3.9), please consider upgrading to the latest version (0.3.10).\n",
            "Dataset salvo em: /home/hericson/.cache/kagglehub/datasets/fredericods/ptbr-sentiment-analysis-datasets/versions/1\n"
          ]
        }
      ],
      "source": [
        "import kagglehub\n",
        "path = kagglehub.dataset_download(\"fredericods/ptbr-sentiment-analysis-datasets\")\n",
        "print(f\"Dataset salvo em: {path}\")"
      ]
    },
    {
      "cell_type": "markdown",
      "id": "012c7617",
      "metadata": {
        "id": "012c7617"
      },
      "source": [
        "![imersao02_visaoarquivo.png](./figuras/imersao02_visaoarquivo.png)"
      ]
    },
    {
      "cell_type": "markdown",
      "id": "a0f05c7d",
      "metadata": {
        "id": "a0f05c7d"
      },
      "source": [
        "### Qual Escolha adequada??"
      ]
    },
    {
      "cell_type": "markdown",
      "id": "b577115f",
      "metadata": {
        "id": "b577115f"
      },
      "source": [
        "![imersao02_objetivoescolha.png](./figuras/imersao02_objetivoescolha.png)"
      ]
    },
    {
      "cell_type": "markdown",
      "id": "047d736b",
      "metadata": {
        "id": "047d736b"
      },
      "source": [
        "### Vamos trabalhar com o utcl_apps"
      ]
    },
    {
      "cell_type": "code",
      "execution_count": 110,
      "id": "f2175a99",
      "metadata": {
        "id": "f2175a99",
        "outputId": "16a40d54-72e2-4a56-9aed-c7ecdb961715"
      },
      "outputs": [
        {
          "name": "stderr",
          "output_type": "stream",
          "text": [
            "[nltk_data] Downloading package punkt to /home/hericson/nltk_data...\n",
            "[nltk_data]   Package punkt is already up-to-date!\n",
            "[nltk_data] Downloading package stopwords to\n",
            "[nltk_data]     /home/hericson/nltk_data...\n",
            "[nltk_data]   Package stopwords is already up-to-date!\n",
            "[nltk_data] Downloading package rslp to /home/hericson/nltk_data...\n",
            "[nltk_data]   Package rslp is already up-to-date!\n"
          ]
        },
        {
          "data": {
            "text/plain": [
              "True"
            ]
          },
          "execution_count": 110,
          "metadata": {},
          "output_type": "execute_result"
        }
      ],
      "source": [
        "## Passo 1: Importar bibliotecas\n",
        "import pandas as pd\n",
        "import nltk\n",
        "import string\n",
        "import joblib\n",
        "import re\n",
        "from sklearn.feature_extraction.text import CountVectorizer\n",
        "from sklearn.model_selection import train_test_split\n",
        "from sklearn.naive_bayes import MultinomialNB\n",
        "from sklearn.neural_network import MLPClassifier\n",
        "from sklearn.pipeline import Pipeline\n",
        "from nltk.corpus import stopwords\n",
        "from nltk.tokenize import word_tokenize\n",
        "from nltk.stem import RSLPStemmer\n",
        "\n",
        "nltk.download('punkt')\n",
        "nltk.download('stopwords')\n",
        "nltk.download('rslp')\n"
      ]
    },
    {
      "cell_type": "code",
      "execution_count": 111,
      "id": "8cf104fe",
      "metadata": {
        "id": "8cf104fe",
        "outputId": "5d51a00a-0f74-401b-9716-dbfdc0e9d70d",
        "scrolled": false
      },
      "outputs": [
        {
          "data": {
            "text/html": [
              "<div>\n",
              "<style scoped>\n",
              "    .dataframe tbody tr th:only-of-type {\n",
              "        vertical-align: middle;\n",
              "    }\n",
              "\n",
              "    .dataframe tbody tr th {\n",
              "        vertical-align: top;\n",
              "    }\n",
              "\n",
              "    .dataframe thead th {\n",
              "        text-align: right;\n",
              "    }\n",
              "</style>\n",
              "<table border=\"1\" class=\"dataframe\">\n",
              "  <thead>\n",
              "    <tr style=\"text-align: right;\">\n",
              "      <th></th>\n",
              "      <th>original_index</th>\n",
              "      <th>review_text</th>\n",
              "      <th>review_text_processed</th>\n",
              "      <th>review_text_tokenized</th>\n",
              "      <th>polarity</th>\n",
              "      <th>rating</th>\n",
              "      <th>kfold_polarity</th>\n",
              "      <th>kfold_rating</th>\n",
              "    </tr>\n",
              "  </thead>\n",
              "  <tbody>\n",
              "    <tr>\n",
              "      <th>0</th>\n",
              "      <td>2483729</td>\n",
              "      <td>eu curtindo muito</td>\n",
              "      <td>eu curtindo muito</td>\n",
              "      <td>['eu', 'curtindo', 'muito']</td>\n",
              "      <td>1.0</td>\n",
              "      <td>5.0</td>\n",
              "      <td>1</td>\n",
              "      <td>1</td>\n",
              "    </tr>\n",
              "    <tr>\n",
              "      <th>1</th>\n",
              "      <td>2865805</td>\n",
              "      <td>Aplicativo absurdamente caro e o valor para se...</td>\n",
              "      <td>aplicativo absurdamente caro e o valor para se...</td>\n",
              "      <td>['aplicativo', 'absurdamente', 'caro', 'valor'...</td>\n",
              "      <td>0.0</td>\n",
              "      <td>1.0</td>\n",
              "      <td>1</td>\n",
              "      <td>1</td>\n",
              "    </tr>\n",
              "    <tr>\n",
              "      <th>2</th>\n",
              "      <td>2734161</td>\n",
              "      <td>Não é mais tão simples com o novo layout</td>\n",
              "      <td>nao e mais tao simples com o novo layout</td>\n",
              "      <td>['nao', 'mais', 'tao', 'simples', 'com', 'novo...</td>\n",
              "      <td>1.0</td>\n",
              "      <td>4.0</td>\n",
              "      <td>1</td>\n",
              "      <td>1</td>\n",
              "    </tr>\n",
              "    <tr>\n",
              "      <th>3</th>\n",
              "      <td>2066362</td>\n",
              "      <td>Estava com um problema para acessar, porém con...</td>\n",
              "      <td>estava com um problema para acessar, porem con...</td>\n",
              "      <td>['estava', 'com', 'um', 'problema', 'para', 'a...</td>\n",
              "      <td>1.0</td>\n",
              "      <td>5.0</td>\n",
              "      <td>1</td>\n",
              "      <td>1</td>\n",
              "    </tr>\n",
              "    <tr>\n",
              "      <th>4</th>\n",
              "      <td>2521806</td>\n",
              "      <td>Eu gostei muito do jogo tenho no celular da mi...</td>\n",
              "      <td>eu gostei muito do jogo tenho no celular da mi...</td>\n",
              "      <td>['eu', 'gostei', 'muito', 'do', 'jogo', 'tenho...</td>\n",
              "      <td>1.0</td>\n",
              "      <td>5.0</td>\n",
              "      <td>1</td>\n",
              "      <td>1</td>\n",
              "    </tr>\n",
              "  </tbody>\n",
              "</table>\n",
              "</div>"
            ],
            "text/plain": [
              "   original_index                                        review_text  \\\n",
              "0         2483729                                  eu curtindo muito   \n",
              "1         2865805  Aplicativo absurdamente caro e o valor para se...   \n",
              "2         2734161           Não é mais tão simples com o novo layout   \n",
              "3         2066362  Estava com um problema para acessar, porém con...   \n",
              "4         2521806  Eu gostei muito do jogo tenho no celular da mi...   \n",
              "\n",
              "                               review_text_processed  \\\n",
              "0                                  eu curtindo muito   \n",
              "1  aplicativo absurdamente caro e o valor para se...   \n",
              "2           nao e mais tao simples com o novo layout   \n",
              "3  estava com um problema para acessar, porem con...   \n",
              "4  eu gostei muito do jogo tenho no celular da mi...   \n",
              "\n",
              "                               review_text_tokenized  polarity  rating  \\\n",
              "0                        ['eu', 'curtindo', 'muito']       1.0     5.0   \n",
              "1  ['aplicativo', 'absurdamente', 'caro', 'valor'...       0.0     1.0   \n",
              "2  ['nao', 'mais', 'tao', 'simples', 'com', 'novo...       1.0     4.0   \n",
              "3  ['estava', 'com', 'um', 'problema', 'para', 'a...       1.0     5.0   \n",
              "4  ['eu', 'gostei', 'muito', 'do', 'jogo', 'tenho...       1.0     5.0   \n",
              "\n",
              "   kfold_polarity  kfold_rating  \n",
              "0               1             1  \n",
              "1               1             1  \n",
              "2               1             1  \n",
              "3               1             1  \n",
              "4               1             1  "
            ]
          },
          "execution_count": 111,
          "metadata": {},
          "output_type": "execute_result"
        }
      ],
      "source": [
        "## Passo 2: Carregar os dados\n",
        "# Certifique-se que o arquivo utcl_apps.csv esteja na mesma pasta do script\n",
        "df = pd.read_csv('datasets/utlc_apps.csv')\n",
        "df.head()"
      ]
    },
    {
      "cell_type": "markdown",
      "id": "35e2640a",
      "metadata": {
        "id": "35e2640a"
      },
      "source": [
        "![imersao02_colunasutcl.png](./figuras/imersao02_colunasutcl.png)"
      ]
    },
    {
      "cell_type": "code",
      "execution_count": 112,
      "id": "ff186ae6",
      "metadata": {
        "id": "ff186ae6",
        "outputId": "aba9eb3b-17b2-4d7a-a588-750b31d43217",
        "scrolled": true
      },
      "outputs": [
        {
          "name": "stdout",
          "output_type": "stream",
          "text": [
            "Distribuição das classes:\n",
            "polarity\n",
            "1.0    750744\n",
            "0.0    218114\n",
            "Name: count, dtype: int64\n"
          ]
        }
      ],
      "source": [
        "# Conferir classes\n",
        "print(\"Distribuição das classes:\")\n",
        "print(df['polarity'].value_counts())"
      ]
    },
    {
      "cell_type": "markdown",
      "id": "b0d87d9b",
      "metadata": {
        "id": "b0d87d9b"
      },
      "source": [
        "![imersao02_escolhacolunas.png](./figuras/imersao02_escolhacolunas.png)"
      ]
    },
    {
      "cell_type": "code",
      "execution_count": 113,
      "id": "24f54c2d",
      "metadata": {
        "id": "24f54c2d"
      },
      "outputs": [],
      "source": [
        "# Manter apenas colunas essenciais\n",
        "df = df[['review_text', 'polarity']]"
      ]
    },
    {
      "cell_type": "code",
      "execution_count": 114,
      "id": "26a8aa3a",
      "metadata": {
        "id": "26a8aa3a"
      },
      "outputs": [],
      "source": [
        "# Remover registros nulos (caso existam)\n",
        "df = df.dropna()"
      ]
    },
    {
      "cell_type": "code",
      "execution_count": 115,
      "id": "f83fbd9f",
      "metadata": {
        "id": "f83fbd9f"
      },
      "outputs": [],
      "source": [
        "# Remover duplicados\n",
        "df = df.drop_duplicates()"
      ]
    },
    {
      "cell_type": "code",
      "execution_count": 116,
      "id": "b1c98881",
      "metadata": {
        "id": "b1c98881"
      },
      "outputs": [],
      "source": [
        "# Função de limpeza de texto avançada\n",
        "def clean_text(text):\n",
        "    text = str(text).lower() ## Substituir para minúsculo\n",
        "    text = re.sub(r'http\\S+', '', text)  # Remove URLs\n",
        "    text = re.sub(r'[^\\w\\s]', '', text)  # Remove pontuação\n",
        "    text = re.sub(r'\\d+', '', text)  # Remove números\n",
        "    #Isso remove números que são palavras sozinhas (como \"123456\"), mas mantém \"nota 10\" ou \"5 estrelas\".\n",
        "    text = re.sub(r'\\\\b\\\\d+\\\\b', '', text)\n",
        "\n",
        "\n",
        "    return text\n",
        "\n",
        "df['review_text'] = df['review_text'].apply(clean_text)"
      ]
    },
    {
      "cell_type": "markdown",
      "id": "16d5fd36",
      "metadata": {
        "id": "16d5fd36"
      },
      "source": [
        "#### Remover ou não números? Depende do contexto!\n",
        "\n",
        "➕ Argumentos a favor da remoção\n",
        "\n",
        "- Ruído técnico: Muitos números em textos são irrelevantes, como códigos de pedido, números de protocolo, datas e IDs. Esses números geralmente não carregam sentimento. Exemplo: \"Comprei dia 23/12 e recebi no dia 30\" → aqui os números não agregam sentimento.\n",
        "\n",
        "- Modelos mais simples: Remover números pode simplificar o vocabulário do modelo, reduzindo a dimensionalidade no vetor de palavras (menos termos únicos).\n",
        "\n",
        "➖ Argumentos contra a remoção\n",
        "\n",
        "- Números com significado emocional: Em casos como avaliações e notas (exemplo: \"nota 10\", \"dou 5 estrelas\"), o número transmite diretamente o sentimento do usuário.\n",
        "\n",
        "- Expressões comuns: \"100% recomendado\", \"app nota 1000\" — são claras indicações de sentimento positivo.\n",
        "\n",
        "Contexto específico: Em reviews de produtos técnicos (hardware, eletrônicos), números podem indicar características relevantes (\"bateria dura 8 horas\").\n"
      ]
    },
    {
      "cell_type": "markdown",
      "id": "81310096",
      "metadata": {
        "id": "81310096"
      },
      "source": [
        "✅ Vamos manter os números!\n",
        "\n",
        "Em reviews de apps, é muito comum que usuários usem números para expressar sentimentos (notas, avaliações diretas).\n",
        "\n",
        "**Em vez de remover números, você pode tratá-los como palavras, ou até criar uma feature adicional (\"contém nota numérica\").**"
      ]
    },
    {
      "cell_type": "markdown",
      "id": "49f8a00c",
      "metadata": {
        "id": "49f8a00c"
      },
      "source": [
        "![imersao02_numerosregras.png](./figuras/imersao02_numerosregras.png)"
      ]
    },
    {
      "cell_type": "code",
      "execution_count": 117,
      "id": "c3f026a2",
      "metadata": {
        "id": "c3f026a2"
      },
      "outputs": [],
      "source": [
        "# Função de limpeza de texto avançada\n",
        "def clean_text(text):\n",
        "    text = str(text).lower()\n",
        "    text = re.sub(r'http\\S+', '', text)  # Remove URLs\n",
        "    text = re.sub(r'[^\\w\\s]', '', text)  # Remove apenas caracteres especiais (mas mantém números e letras)\n",
        "    return text\n",
        "\n",
        "df['review_text'] = df['review_text'].apply(clean_text)"
      ]
    },
    {
      "cell_type": "code",
      "execution_count": 118,
      "id": "f49dc6bd",
      "metadata": {},
      "outputs": [
        {
          "data": {
            "text/html": [
              "<div>\n",
              "<style scoped>\n",
              "    .dataframe tbody tr th:only-of-type {\n",
              "        vertical-align: middle;\n",
              "    }\n",
              "\n",
              "    .dataframe tbody tr th {\n",
              "        vertical-align: top;\n",
              "    }\n",
              "\n",
              "    .dataframe thead th {\n",
              "        text-align: right;\n",
              "    }\n",
              "</style>\n",
              "<table border=\"1\" class=\"dataframe\">\n",
              "  <thead>\n",
              "    <tr style=\"text-align: right;\">\n",
              "      <th></th>\n",
              "      <th>review_text</th>\n",
              "      <th>polarity</th>\n",
              "    </tr>\n",
              "  </thead>\n",
              "  <tbody>\n",
              "    <tr>\n",
              "      <th>1039528</th>\n",
              "      <td>banido injustamente</td>\n",
              "      <td>0.0</td>\n",
              "    </tr>\n",
              "    <tr>\n",
              "      <th>1039531</th>\n",
              "      <td>mt bom o app assim dá pra ficar por dentro da ...</td>\n",
              "      <td>1.0</td>\n",
              "    </tr>\n",
              "    <tr>\n",
              "      <th>1039532</th>\n",
              "      <td>ele é ok</td>\n",
              "      <td>0.0</td>\n",
              "    </tr>\n",
              "    <tr>\n",
              "      <th>1039533</th>\n",
              "      <td>excelente aplicativo para treinar os conhecime...</td>\n",
              "      <td>1.0</td>\n",
              "    </tr>\n",
              "    <tr>\n",
              "      <th>1039534</th>\n",
              "      <td>adoro o line</td>\n",
              "      <td>1.0</td>\n",
              "    </tr>\n",
              "  </tbody>\n",
              "</table>\n",
              "</div>"
            ],
            "text/plain": [
              "                                               review_text  polarity\n",
              "1039528                                banido injustamente       0.0\n",
              "1039531  mt bom o app assim dá pra ficar por dentro da ...       1.0\n",
              "1039532                                           ele é ok       0.0\n",
              "1039533  excelente aplicativo para treinar os conhecime...       1.0\n",
              "1039534                                       adoro o line       1.0"
            ]
          },
          "execution_count": 118,
          "metadata": {},
          "output_type": "execute_result"
        }
      ],
      "source": [
        "df.tail()"
      ]
    },
    {
      "cell_type": "code",
      "execution_count": 119,
      "id": "4042a766",
      "metadata": {
        "id": "4042a766"
      },
      "outputs": [],
      "source": [
        "# Configurar stopwords e stemming\n",
        "stop_words = set(stopwords.words('portuguese'))\n",
        "stemmer = RSLPStemmer()"
      ]
    },
    {
      "cell_type": "code",
      "execution_count": 120,
      "id": "55c22c4d",
      "metadata": {
        "id": "55c22c4d"
      },
      "outputs": [],
      "source": [
        "# Pipeline completo de pré-processamento\n",
        "def preprocess_text(text):\n",
        "    tokens = word_tokenize(text)\n",
        "    # tokens = [stemmer.stem(word) for word in tokens if word not in stop_words and word not in string.punctuation]\n",
        "    return ' '.join(tokens)\n",
        "\n",
        "df['review_text'] = df['review_text'].apply(preprocess_text)"
      ]
    },
    {
      "cell_type": "code",
      "execution_count": 121,
      "id": "daac5586",
      "metadata": {
        "id": "daac5586"
      },
      "outputs": [],
      "source": [
        "# Salvar o dataframe tratado para análise e treino futuro\n",
        "df.to_csv('datasets/processed_utcl_apps.csv', index=False)"
      ]
    },
    {
      "cell_type": "code",
      "execution_count": 122,
      "id": "46132f74",
      "metadata": {},
      "outputs": [
        {
          "data": {
            "text/html": [
              "<div>\n",
              "<style scoped>\n",
              "    .dataframe tbody tr th:only-of-type {\n",
              "        vertical-align: middle;\n",
              "    }\n",
              "\n",
              "    .dataframe tbody tr th {\n",
              "        vertical-align: top;\n",
              "    }\n",
              "\n",
              "    .dataframe thead th {\n",
              "        text-align: right;\n",
              "    }\n",
              "</style>\n",
              "<table border=\"1\" class=\"dataframe\">\n",
              "  <thead>\n",
              "    <tr style=\"text-align: right;\">\n",
              "      <th></th>\n",
              "      <th>review_text</th>\n",
              "      <th>polarity</th>\n",
              "    </tr>\n",
              "  </thead>\n",
              "  <tbody>\n",
              "    <tr>\n",
              "      <th>0</th>\n",
              "      <td>eu curtindo muito</td>\n",
              "      <td>1.0</td>\n",
              "    </tr>\n",
              "    <tr>\n",
              "      <th>1</th>\n",
              "      <td>aplicativo absurdamente caro e o valor para se...</td>\n",
              "      <td>0.0</td>\n",
              "    </tr>\n",
              "    <tr>\n",
              "      <th>2</th>\n",
              "      <td>não é mais tão simples com o novo layout</td>\n",
              "      <td>1.0</td>\n",
              "    </tr>\n",
              "    <tr>\n",
              "      <th>3</th>\n",
              "      <td>estava com um problema para acessar porém cons...</td>\n",
              "      <td>1.0</td>\n",
              "    </tr>\n",
              "    <tr>\n",
              "      <th>4</th>\n",
              "      <td>eu gostei muito do jogo tenho no celular da mi...</td>\n",
              "      <td>1.0</td>\n",
              "    </tr>\n",
              "  </tbody>\n",
              "</table>\n",
              "</div>"
            ],
            "text/plain": [
              "                                         review_text  polarity\n",
              "0                                  eu curtindo muito       1.0\n",
              "1  aplicativo absurdamente caro e o valor para se...       0.0\n",
              "2           não é mais tão simples com o novo layout       1.0\n",
              "3  estava com um problema para acessar porém cons...       1.0\n",
              "4  eu gostei muito do jogo tenho no celular da mi...       1.0"
            ]
          },
          "execution_count": 122,
          "metadata": {},
          "output_type": "execute_result"
        }
      ],
      "source": [
        "df.head()"
      ]
    },
    {
      "cell_type": "code",
      "execution_count": 123,
      "id": "117b9314",
      "metadata": {
        "id": "117b9314",
        "outputId": "32cc56c6-ea7b-40f7-8b64-3824079469f7"
      },
      "outputs": [
        {
          "name": "stdout",
          "output_type": "stream",
          "text": [
            "\n",
            "Resumo dos dados após o tratamento:\n",
            "polarity\n",
            "1.0    538926\n",
            "0.0    207642\n",
            "Name: count, dtype: int64\n",
            "\n",
            "Exemplo de dados tratados:\n",
            "                                         review_text  polarity\n",
            "0                                  eu curtindo muito       1.0\n",
            "1  aplicativo absurdamente caro e o valor para se...       0.0\n",
            "2           não é mais tão simples com o novo layout       1.0\n",
            "3  estava com um problema para acessar porém cons...       1.0\n",
            "4  eu gostei muito do jogo tenho no celular da mi...       1.0\n",
            "\n",
            "Dataset tratado salvo como 'processed_utcl_apps.csv'\n"
          ]
        }
      ],
      "source": [
        "print(\"\\nResumo dos dados após o tratamento:\")\n",
        "print(df['polarity'].value_counts())\n",
        "\n",
        "print(\"\\nExemplo de dados tratados:\")\n",
        "print(df.head())\n",
        "\n",
        "print(\"\\nDataset tratado salvo como 'processed_utcl_apps.csv'\")"
      ]
    },
    {
      "cell_type": "markdown",
      "id": "15a2b9df",
      "metadata": {
        "id": "15a2b9df"
      },
      "source": [
        "### Treinamento e Avaliação de Modelos para Análise de Sentimentos (Apps)"
      ]
    },
    {
      "cell_type": "code",
      "execution_count": 124,
      "id": "9cc531f9",
      "metadata": {
        "id": "9cc531f9",
        "outputId": "f2e9f68d-242d-436a-9a40-09601b30b1bc"
      },
      "outputs": [
        {
          "name": "stdout",
          "output_type": "stream",
          "text": [
            "Tamanho total do dataset: (746568, 2)\n",
            "Amostra dos dados após limpeza:\n",
            "                                         review_text  polarity\n",
            "0                                  eu curtindo muito       1.0\n",
            "1  aplicativo absurdamente caro e o valor para se...       0.0\n",
            "2           não é mais tão simples com o novo layout       1.0\n",
            "3  estava com um problema para acessar porém cons...       1.0\n",
            "4  eu gostei muito do jogo tenho no celular da mi...       1.0\n"
          ]
        }
      ],
      "source": [
        "print(\"Tamanho total do dataset:\", df.shape)\n",
        "print(\"Amostra dos dados após limpeza:\")\n",
        "print(df.head())\n",
        "\n",
        "if df.shape[0] == 0:\n",
        "    raise ValueError(\"Erro: O dataset está completamente vazio após o pré-processamento!\")"
      ]
    },
    {
      "cell_type": "code",
      "execution_count": 125,
      "id": "9bad95ed",
      "metadata": {
        "id": "9bad95ed"
      },
      "outputs": [],
      "source": [
        "import pandas as pd\n",
        "import joblib\n",
        "from sklearn.feature_extraction.text import CountVectorizer\n",
        "from sklearn.model_selection import train_test_split\n",
        "from sklearn.naive_bayes import MultinomialNB\n",
        "from sklearn.neural_network import MLPClassifier\n",
        "from sklearn.pipeline import Pipeline\n",
        "from sklearn.metrics import classification_report"
      ]
    },
    {
      "cell_type": "code",
      "execution_count": 126,
      "id": "628dae6a",
      "metadata": {
        "id": "628dae6a"
      },
      "outputs": [],
      "source": [
        "# Carregar dataset pré-processado\n",
        "df = pd.read_csv('datasets/processed_utcl_apps.csv')"
      ]
    },
    {
      "cell_type": "markdown",
      "id": "88409593",
      "metadata": {
        "id": "88409593"
      },
      "source": [
        "#### *Garantir que todos os textos são strings válidas e remover entradas vazias.*"
      ]
    },
    {
      "cell_type": "code",
      "execution_count": 127,
      "id": "3e8750e9",
      "metadata": {
        "id": "3e8750e9",
        "outputId": "6039d053-cfff-4b8f-ff58-734c4df537da"
      },
      "outputs": [
        {
          "name": "stdout",
          "output_type": "stream",
          "text": [
            "review_text    0\n",
            "polarity       0\n",
            "dtype: int64\n",
            "Empty DataFrame\n",
            "Columns: [review_text, polarity]\n",
            "Index: []\n"
          ]
        }
      ],
      "source": [
        "# Remover valores NaN ocultos\n",
        "df = df.dropna(subset=['review_text'])\n",
        "\n",
        "# Garantir que todas as entradas são strings\n",
        "df['review_text'] = df['review_text'].astype(str)\n",
        "\n",
        "# Remover espaços em branco e linhas vazias\n",
        "df['review_text'] = df['review_text'].str.strip()\n",
        "df = df[df['review_text'] != \"\"] ## Filtrar linhas que possuem texto\n",
        "\n",
        "# Se review_text for uma lista de tokens, converter para string novamente\n",
        "df['review_text'] = df['review_text'].apply(lambda x: ' '.join(x) if isinstance(x, list) else x)\n",
        "\n",
        "# Conferir que não há mais NaN ou valores estranhos\n",
        "print(df.isna().sum())  # Deve mostrar 0 para review_text\n",
        "print(df[df['review_text'].apply(lambda x: not isinstance(x, str))])  # Deve estar vazio\n",
        "\n",
        "# Agora podemos treinar sem erro\n"
      ]
    },
    {
      "cell_type": "code",
      "execution_count": 128,
      "id": "bf7217cc",
      "metadata": {
        "id": "bf7217cc"
      },
      "outputs": [],
      "source": [
        "# Separar entrada (X) e rótulo (y)\n",
        "X = df['review_text']\n",
        "y = df['polarity']"
      ]
    },
    {
      "cell_type": "code",
      "execution_count": 129,
      "id": "37c153cf",
      "metadata": {},
      "outputs": [
        {
          "data": {
            "text/plain": [
              "0                                         eu curtindo muito\n",
              "1         aplicativo absurdamente caro e o valor para se...\n",
              "2                  não é mais tão simples com o novo layout\n",
              "3         estava com um problema para acessar porém cons...\n",
              "4         eu gostei muito do jogo tenho no celular da mi...\n",
              "                                ...                        \n",
              "746563                                  banido injustamente\n",
              "746564    mt bom o app assim dá pra ficar por dentro da ...\n",
              "746565                                             ele é ok\n",
              "746566    excelente aplicativo para treinar os conhecime...\n",
              "746567                                         adoro o line\n",
              "Name: review_text, Length: 746232, dtype: object"
            ]
          },
          "execution_count": 129,
          "metadata": {},
          "output_type": "execute_result"
        }
      ],
      "source": [
        "X "
      ]
    },
    {
      "cell_type": "code",
      "execution_count": 130,
      "id": "7fecc909",
      "metadata": {
        "id": "7fecc909"
      },
      "outputs": [],
      "source": [
        "# Dividir em treino e teste\n",
        "X_train, X_test, y_train, y_test = train_test_split(X, y, test_size=0.3, random_state=42)"
      ]
    },
    {
      "cell_type": "markdown",
      "id": "c8a09360",
      "metadata": {
        "id": "c8a09360"
      },
      "source": [
        "Agora que os dados estão pré-processados, escolhemos dois modelos para análise de sentimentos:\n",
        "\n",
        "- Naive Bayes e Rede Neural MLP.\n",
        "\n",
        "Ambos têm características distintas que ajudam a entender o impacto de técnicas diferentes na classificação de texto."
      ]
    },
    {
      "cell_type": "markdown",
      "id": "c63af055",
      "metadata": {
        "id": "c63af055"
      },
      "source": [
        "#### Modelo 1: Naive Bayes (MultinomialNB)"
      ]
    },
    {
      "cell_type": "markdown",
      "id": "d7e757b1",
      "metadata": {
        "id": "d7e757b1"
      },
      "source": [
        "Por que escolhemos?\n",
        "\n",
        "- É rápido e eficiente para classificação de texto.\n",
        "\n",
        "- Baseia-se na probabilidade das palavras estarem associadas a cada classe (positivo, negativo).\n",
        "\n",
        "- Funciona bem mesmo com poucos dados, já que assume independência entre palavras (embora essa seja uma simplificação forte)."
      ]
    },
    {
      "cell_type": "code",
      "execution_count": 131,
      "id": "718cb345",
      "metadata": {},
      "outputs": [],
      "source": [
        "from sklearn.preprocessing import MaxAbsScaler"
      ]
    },
    {
      "cell_type": "code",
      "execution_count": 132,
      "id": "ad5906f8",
      "metadata": {
        "id": "ad5906f8",
        "outputId": "e6e641e8-5590-42df-a9df-4225879b8f70",
        "scrolled": true
      },
      "outputs": [
        {
          "name": "stdout",
          "output_type": "stream",
          "text": [
            "\n",
            "Treinando modelo Naive Bayes...\n",
            "\n",
            "Relatório de Classificação - Naive Bayes\n",
            "              precision    recall  f1-score   support\n",
            "\n",
            "         0.0       0.89      0.05      0.10     62398\n",
            "         1.0       0.73      1.00      0.84    161472\n",
            "\n",
            "    accuracy                           0.73    223870\n",
            "   macro avg       0.81      0.52      0.47    223870\n",
            "weighted avg       0.78      0.73      0.64    223870\n",
            "\n"
          ]
        },
        {
          "data": {
            "text/plain": [
              "['nb_model_apps.pkl']"
            ]
          },
          "execution_count": 132,
          "metadata": {},
          "output_type": "execute_result"
        }
      ],
      "source": [
        "# Modelo 1: Naive Bayes\n",
        "print(\"\\nTreinando modelo Naive Bayes...\")\n",
        "nb_pipeline = Pipeline([\n",
        "    ('vectorizer', CountVectorizer(max_features=100)),\n",
        "    ('scaler', MaxAbsScaler()),\n",
        "    ('classifier', MultinomialNB())\n",
        "])\n",
        "\n",
        "nb_pipeline.fit(X_train, y_train)\n",
        "\n",
        "nb_predictions = nb_pipeline.predict(X_test)\n",
        "\n",
        "print(\"\\nRelatório de Classificação - Naive Bayes\")\n",
        "print(classification_report(y_test, nb_predictions))\n",
        "\n",
        "# Salvar modelo\n",
        "joblib.dump(nb_pipeline, 'nb_model_apps.pkl')"
      ]
    },
    {
      "cell_type": "code",
      "execution_count": 133,
      "id": "22f51350",
      "metadata": {},
      "outputs": [
        {
          "data": {
            "text/plain": [
              "array(['agora', 'ainda', 'amei', 'ao', 'aplicativo', 'app', 'as',\n",
              "       'atualização', 'até', 'baixar', 'bem', 'bom', 'celular', 'com',\n",
              "       'como', 'consigo', 'conta', 'da', 'de', 'depois', 'dia', 'do',\n",
              "       'dos', 'ele', 'em', 'erro', 'esse', 'esta', 'estou', 'estrelas',\n",
              "       'está', 'eu', 'excelente', 'favor', 'fazer', 'fica', 'foi',\n",
              "       'funciona', 'fácil', 'gostei', 'gosto', 'hora', 'isso', 'ja',\n",
              "       'jogo', 'já', 'legal', 'mais', 'mas', 'me', 'melhor', 'mesmo',\n",
              "       'meu', 'minha', 'muito', 'na', 'nada', 'nao', 'nem', 'no', 'não',\n",
              "       'os', 'ou', 'para', 'parabéns', 'pelo', 'pois', 'por', 'porque',\n",
              "       'pq', 'pra', 'problema', 'quando', 'que', 'quem', 'recomendo',\n",
              "       'ruim', 'se', 'sem', 'sempre', 'ser', 'so', 'super', 'só', 'ta',\n",
              "       'tem', 'tempo', 'tenho', 'ter', 'todos', 'trava', 'tudo', 'um',\n",
              "       'uma', 'usar', 'vc', 'ver', 'vezes', 'vou', 'ótimo'], dtype=object)"
            ]
          },
          "execution_count": 133,
          "metadata": {},
          "output_type": "execute_result"
        }
      ],
      "source": [
        "nb_pipeline.named_steps['vectorizer'].get_feature_names_out()"
      ]
    },
    {
      "cell_type": "markdown",
      "id": "d8dc70be",
      "metadata": {
        "id": "d8dc70be"
      },
      "source": [
        "1) Explicação das Métricas\n",
        "\n",
        "**Precision (Precisão): Mede quantas das predições positivas estão corretas.**\n",
        "\n",
        "*Interpretação dos valores:\n",
        "\n",
        "0.79 para a classe 0.0 (Negativo) significa que 79% das avaliações que o modelo classificou como \"Negativo\" realmente são negativas.\n",
        "0.91 para a classe 1.0 (Positivo) significa que 91% das avaliações que o modelo classificou como \"Positivo\" realmente são positivas.\n",
        "\n",
        "O modelo tem maior precisão para identificar avaliações positivas, mas ainda tem uma boa precisão para avaliações negativas.\n",
        "\n",
        "**Recall (Revocação ou Sensibilidade): Mede quantos dos exemplos reais de uma classe foram corretamente classificados.**\n",
        "\n",
        "*Interpretação dos valores:\n",
        "\n",
        "0.78 para a classe 0.0 (Negativo) → O modelo consegue capturar 78% dos comentários realmente negativos.\n",
        "0.92 para a classe 1.0 (Positivo) → O modelo consegue capturar 92% dos comentários realmente positivos.\n",
        "\n",
        "O modelo está mais eficiente para identificar avaliações positivas do que negativas, pois captura mais exemplos corretos da classe positiva.\n",
        "\n",
        "**F1-score (Média Harmônica de Precision e Recall): É uma média ponderada de Precision e Recall, útil para balancear modelos.**\n",
        "\n",
        "0.78 para avaliações negativas e 0.92 para positivas significa que o modelo tem um desempenho melhor na classificação de avaliações positivas.\n",
        "\n",
        "A F1-score de 0.92 para positivos indica um modelo bem treinado para essa classe, mas a F1-score de 0.78 para negativos sugere que ele pode estar confundindo algumas avaliações negativas.\n",
        "\n",
        "**Support (Suporte): Mostra quantas amostras reais existem para cada classe.**\n",
        "\n",
        "- 62.035 exemplos negativos.\n",
        "- 161.786 exemplos positivos.\n",
        "\n",
        "Há mais do que o dobro de avaliações positivas do que negativas. Isso pode estar influenciando o modelo a ser mais preciso na classe positiva.\n",
        "\n",
        "2) Interpretação dos Agregados (Médias)\n",
        "\n",
        "**Accuracy (Acurácia): Mede quantas predições o modelo acertou no total.**\n",
        "\n",
        "88% de acurácia → O modelo está certo em 88% das avaliações. O modelo tem um ótimo desempenho geral!\n",
        "\n",
        "**Macro Avg (Média Macro): Tira a média simples entre as classes:**\n",
        "\n",
        "Aqui, a macro média é 0.85, o que significa que o modelo tem um bom equilíbrio, mas pode melhorar para a classe negativa.\n",
        "\n",
        "**Weighted Avg (Média Ponderada): Leva em consideração o suporte (quantidade de exemplos por classe).**\n",
        "\n",
        "Como há mais exemplos positivos, esse valor fica mais próximo dos resultados da classe positiva.\n",
        "\n",
        "A Weighted Avg de 0.88 reflete o desempenho real do modelo, já que a classe positiva tem muito mais exemplos."
      ]
    },
    {
      "cell_type": "markdown",
      "id": "ba3d0388",
      "metadata": {
        "id": "ba3d0388"
      },
      "source": [
        "**Resumo Final:**\n",
        "\n",
        "1) O modelo funciona muito bem com 88% de acurácia geral.\n",
        "\n",
        "2) Ele é muito bom para identificar avaliações positivas (F1-score de 0.92).\n",
        "\n",
        "3) Ele tem um pouco mais de dificuldade com avaliações negativas (F1-score de 0.78).\n",
        "\n",
        "4) Isso pode ser causado pelo desbalanceamento dos dados (muito mais positivos do que negativos).\n"
      ]
    },
    {
      "cell_type": "markdown",
      "id": "1c862b9e",
      "metadata": {
        "id": "1c862b9e"
      },
      "source": [
        "**O que podemos melhorar?**\n",
        "\n",
        "- Equilibrar as classes: Podemos tentar técnicas como undersampling (remover positivos) ou oversampling (aumentar negativos) para balancear melhor o treino.\n",
        "\n",
        "- Testar outro modelo: Naive Bayes é rápido."
      ]
    },
    {
      "cell_type": "markdown",
      "id": "da122a88",
      "metadata": {
        "id": "da122a88"
      },
      "source": [
        "---"
      ]
    },
    {
      "cell_type": "markdown",
      "id": "0a21a311",
      "metadata": {
        "id": "0a21a311"
      },
      "source": [
        "#### Modelo 2: Rede Neural MLP (Multilayer Perceptron)\n"
      ]
    },
    {
      "cell_type": "markdown",
      "id": "0a99b150",
      "metadata": {
        "id": "0a99b150"
      },
      "source": [
        "Por que escolhemos?\n",
        "\n",
        "- Pode capturar padrões mais complexos do que Naive Bayes.\n",
        "\n",
        "- Melhor adaptação a dados ruidosos, pois aprende representações internas dos textos.\n",
        "\n",
        "- Treinamento mais demorado, mas pode ter maior precisão se bem ajustado."
      ]
    },
    {
      "cell_type": "code",
      "execution_count": null,
      "id": "c489ae6a",
      "metadata": {
        "id": "c489ae6a",
        "outputId": "938b487e-aaec-486e-ec00-f543a29551c6"
      },
      "outputs": [
        {
          "name": "stdout",
          "output_type": "stream",
          "text": [
            "\n",
            "Treinando modelo MLP (Rede Neural)...\n"
          ]
        }
      ],
      "source": [
        "# Modelo 2: Rede Neural MLP\n",
        "print(\"\\nTreinando modelo MLP (Rede Neural)...\")\n",
        "mlp_pipeline = Pipeline([\n",
        "    ('vectorizer', CountVectorizer()),  # Vetorização do texto\n",
        "    ('classifier', MLPClassifier(max_iter=50, hidden_layer_sizes=(50,)))  # MLP com uma camada oculta de 50 neurônios\n",
        "])\n",
        "\n",
        "mlp_pipeline.fit(X_train, y_train)  # Treina o modelo\n",
        "mlp_predictions = mlp_pipeline.predict(X_test)  # Faz predições\n",
        "\n",
        "print(\"\\nRelatório de Classificação - MLP\")\n",
        "print(classification_report(y_test, mlp_predictions))  # Exibe métricas\n",
        "\n",
        "# Salvar modelo\n",
        "joblib.dump(mlp_pipeline, 'mlp_model_apps.pkl')\n"
      ]
    },
    {
      "cell_type": "markdown",
      "id": "5ce2d9be",
      "metadata": {
        "id": "5ce2d9be"
      },
      "source": [
        "#### Comparação entre os dois modelos"
      ]
    },
    {
      "cell_type": "markdown",
      "id": "4ddf12bf",
      "metadata": {
        "id": "4ddf12bf"
      },
      "source": [
        "![imersao2-comparacaomodelos.png](./figuras/imersao2-comparacaomodelos.png)"
      ]
    },
    {
      "cell_type": "markdown",
      "id": "a3dc18b6",
      "metadata": {
        "id": "a3dc18b6"
      },
      "source": [
        "- Se o seu objetivo for rapidez e facilidade de uso, Naive Bayes pode ser melhor.\n",
        "\n",
        "- Se quiser um modelo mais robusto e flexível, a Rede Neural MLP pode dar melhores resultados."
      ]
    },
    {
      "cell_type": "markdown",
      "id": "0d5ec00c",
      "metadata": {
        "id": "0d5ec00c"
      },
      "source": [
        "### Testando os dois modelos"
      ]
    },
    {
      "cell_type": "code",
      "execution_count": null,
      "id": "d8731f51",
      "metadata": {
        "id": "d8731f51"
      },
      "outputs": [],
      "source": [
        "# Código para realizar predição a partir do teclado\n",
        "def fazer_predicao(modelo):\n",
        "    print(\"\\nDigite um comentário para análise de sentimento:\")\n",
        "    comentario = input()\n",
        "    sentimento = modelo.predict([comentario])[0]  # Faz a predição do sentimento\n",
        "    print(f\"\\nO sentimento previsto é: {sentimento}\")"
      ]
    },
    {
      "cell_type": "code",
      "execution_count": null,
      "id": "077113e0",
      "metadata": {
        "id": "077113e0"
      },
      "outputs": [],
      "source": [
        "# Carregar e testar predição MODELO NB\n",
        "print(\"\\nTestando predição com Naive Bayes\")\n",
        "modelo_nb = joblib.load('nb_model_apps.pkl')  # Carrega modelo salvo\n",
        "fazer_predicao(modelo_nb)"
      ]
    },
    {
      "cell_type": "code",
      "execution_count": null,
      "id": "2656c665",
      "metadata": {
        "id": "2656c665"
      },
      "outputs": [],
      "source": [
        "# Carregar e testar predição MODELO MLP\n",
        "print(\"\\nTestando predição com MLP\")\n",
        "modelo_mlp = joblib.load('mlp_model_apps.pkl')  # Carrega modelo salvo\n",
        "fazer_predicao(modelo_mlp)"
      ]
    }
  ],
  "metadata": {
    "colab": {
      "provenance": []
    },
    "kernelspec": {
      "display_name": "my_projects",
      "language": "python",
      "name": "python3"
    },
    "language_info": {
      "codemirror_mode": {
        "name": "ipython",
        "version": 3
      },
      "file_extension": ".py",
      "mimetype": "text/x-python",
      "name": "python",
      "nbconvert_exporter": "python",
      "pygments_lexer": "ipython3",
      "version": "3.9.16"
    }
  },
  "nbformat": 4,
  "nbformat_minor": 5
}
