{
  "cells": [
    {
      "cell_type": "markdown",
      "id": "442a9498",
      "metadata": {
        "id": "442a9498"
      },
      "source": [
        "![aula18_capa.png](./figuras/aula18_capa.png)"
      ]
    },
    {
      "cell_type": "code",
      "execution_count": 35,
      "id": "ba151d70",
      "metadata": {
        "id": "ba151d70"
      },
      "outputs": [],
      "source": [
        "# !pip install nltk\n",
        "# !pip install gensim"
      ]
    },
    {
      "cell_type": "markdown",
      "id": "fe2e299f",
      "metadata": {
        "id": "fe2e299f"
      },
      "source": [
        "## Modelos de Representação de Palavras\n",
        "\n",
        "### 1. Word2Vec\n",
        "- **Definição**: Algoritmo que representa palavras como vetores em um espaço contínuo.\n",
        "- **Estratégias**:\n",
        "  - CBOW (Continuous Bag of Words): Prediz a palavra com base no contexto.\n",
        "  - Skip-gram: Prediz o contexto com base na palavra central.\n"
      ]
    },
    {
      "cell_type": "markdown",
      "id": "1b95c848",
      "metadata": {
        "id": "1b95c848"
      },
      "source": [
        "**Frase de Exemplo**\n",
        "\n",
        "Frase: ```O gato gosta de peixe```"
      ]
    },
    {
      "cell_type": "markdown",
      "id": "43ab3ce0",
      "metadata": {
        "id": "43ab3ce0"
      },
      "source": [
        "![aula18_cbow_skip.png](./figuras/aula18_cbow_skip.png)"
      ]
    },
    {
      "cell_type": "markdown",
      "id": "3126e0b8",
      "metadata": {
        "id": "3126e0b8"
      },
      "source": [
        "- CBOW: Mais eficiente em dados pequenos. Foca no contexto para prever a palavra central.\n",
        "\n",
        "- Skip-Gram: Funciona melhor em grandes conjuntos de dados. Captura relações semânticas mais complexas ao prever o contexto usando a palavra central."
      ]
    },
    {
      "cell_type": "code",
      "execution_count": 78,
      "id": "19f74dec",
      "metadata": {
        "colab": {
          "base_uri": "https://localhost:8080/"
        },
        "id": "19f74dec",
        "outputId": "204de849-6d4f-4524-c9d5-7f1c5a73af53",
        "scrolled": true
      },
      "outputs": [
        {
          "name": "stdout",
          "output_type": "stream",
          "text": [
            "Vetor da palavra 'gato': [ 0.005486   -0.016719    0.01571279  0.0170703  -0.01917363  0.00489247\n",
            "  0.01981355 -0.01533167 -0.01393766 -0.01547715  0.01679156 -0.00136368\n",
            "  0.01828782 -0.01632169  0.00748585  0.0052674   0.00148326  0.00465364\n",
            " -0.01494053 -0.01871921  0.00470619  0.01229782  0.01597603  0.01147583\n",
            " -0.00155757  0.01661253 -0.01867324  0.00680927  0.00053412  0.00771772\n",
            "  0.01477519 -0.01345498  0.01116832 -0.0190494  -0.00160906 -0.01737562\n",
            " -0.01019605  0.01858218 -0.00371495  0.00582818  0.01814796  0.01787519\n",
            " -0.01642123 -0.00602607  0.01977482  0.01020862 -0.00317671 -0.01738286\n",
            "  0.00592334 -0.01335371]\n"
          ]
        }
      ],
      "source": [
        "from gensim.models import Word2Vec\n",
        "\n",
        "# Exemplo de treinamento com Word2Vec\n",
        "sentences = [[\"gato\", \"adora\", \"peixe\"], [\"cachorro\", \"late\", \"para\", \"gatinho\"],  [\"rei\", \"governa\", \"reino\"],\n",
        "    [\"mulher\", \"vive\", \"no\", \"reino\"],\n",
        "    [\"homem\", \"ajuda\", \"no\", \"governo\"]]\n",
        "\n",
        "# Modelo CBOW (sg=0)\n",
        "model = Word2Vec(sentences, vector_size=50, window=3, min_count=1, sg=0, workers=4)\n",
        "\n",
        "# Modelo Skip-Gram (sg=1)\n",
        "#model = Word2Vec(sentences, vector_size=50, window=3, min_count=1,sg=1, workers=4)\n",
        "\n",
        "# Acessar vetor de uma palavra\n",
        "vector = model.wv[\"late\"]\n",
        "print(\"Vetor da palavra 'gato':\", vector)"
      ]
    },
    {
      "cell_type": "markdown",
      "id": "dc6d510d",
      "metadata": {
        "id": "dc6d510d"
      },
      "source": [
        "1.1 Treinamento com Parâmetros Personalizados\n"
      ]
    },
    {
      "cell_type": "code",
      "execution_count": 79,
      "id": "178fc52d",
      "metadata": {
        "colab": {
          "base_uri": "https://localhost:8080/"
        },
        "id": "178fc52d",
        "outputId": "0860da31-5b6e-46da-dada-17c70b1d21e0"
      },
      "outputs": [
        {
          "name": "stdout",
          "output_type": "stream",
          "text": [
            "Vetor da palavra 'gato': [-0.00066461 -0.00012106  0.01007604  0.01772279 -0.02013941 -0.01504357\n",
            "  0.01445466  0.01845654 -0.01282796 -0.00928387  0.01625643 -0.0037476\n",
            " -0.00769118  0.01316633 -0.00972467 -0.00321594  0.00959073  0.00473818\n",
            " -0.01993998 -0.02050222  0.01448102  0.01044507  0.01710199  0.0029958\n",
            "  0.01260991 -0.00619475 -0.00097859  0.01376643 -0.0161076  -0.00798778\n",
            " -0.01502496 -0.00327962  0.01809991 -0.01688035 -0.00644165 -0.004882\n",
            "  0.01832774 -0.01367588 -0.00164272 -0.01047571 -0.01772742  0.00929226\n",
            " -0.01705362 -0.01042047  0.00356706  0.00087586 -0.01482099  0.01721099\n",
            "  0.00981849  0.01833477]\n"
          ]
        }
      ],
      "source": [
        "# Construir o vocabulário\n",
        "model.build_vocab(sentences)\n",
        "\n",
        "# Treinar o modelo\n",
        "model.train(sentences, total_examples=model.corpus_count, epochs=1000)\n",
        "\n",
        "# Acessar vetor de uma palavra\n",
        "vector = model.wv[\"gato\"]\n",
        "print(\"Vetor da palavra 'gato':\", vector)"
      ]
    },
    {
      "cell_type": "markdown",
      "id": "600f5266",
      "metadata": {
        "id": "600f5266"
      },
      "source": [
        "1.2. Busca de Palavras Semelhantes\n",
        "Utilizar a função most_similar() para encontrar palavras com significado similar."
      ]
    },
    {
      "cell_type": "code",
      "execution_count": 80,
      "id": "dacd360c",
      "metadata": {
        "colab": {
          "base_uri": "https://localhost:8080/"
        },
        "id": "dacd360c",
        "outputId": "d20cee2b-7d17-4528-d887-2afb83aa8434"
      },
      "outputs": [
        {
          "name": "stdout",
          "output_type": "stream",
          "text": [
            "Palavras semelhantes a 'gato': [('ajuda', 0.30082690715789795), ('vive', 0.2511043846607208), ('homem', 0.24055106937885284), ('reino', 0.20823067426681519), ('peixe', 0.1972850263118744)]\n"
          ]
        }
      ],
      "source": [
        "similar_words = model.wv.most_similar(\"gato\", topn=5)\n",
        "print(\"Palavras semelhantes a 'gato':\", similar_words)"
      ]
    },
    {
      "cell_type": "markdown",
      "id": "54224c72",
      "metadata": {
        "id": "54224c72"
      },
      "source": [
        "1.3. Operações Aritméticas no Espaço de Palavras"
      ]
    },
    {
      "cell_type": "code",
      "execution_count": 81,
      "id": "3acb8e3e",
      "metadata": {
        "colab": {
          "base_uri": "https://localhost:8080/"
        },
        "id": "3acb8e3e",
        "outputId": "ebc5439c-6cdc-4340-8f4e-3bae813bb790"
      },
      "outputs": [
        {
          "name": "stdout",
          "output_type": "stream",
          "text": [
            "Resultado da analogia (Rei - Homem + Mulher): [('governa', 0.37330472469329834)]\n"
          ]
        }
      ],
      "source": [
        "# Exemplo de analogia: Rei - Homem + Mulher = ?\n",
        "analogia = model.wv.most_similar(positive=[\"rei\", \"mulher\"], negative=[\"homem\"], topn=1)\n",
        "print(\"Resultado da analogia (Rei - Homem + Mulher):\", analogia)"
      ]
    },
    {
      "cell_type": "markdown",
      "id": "ea968f0c",
      "metadata": {
        "id": "ea968f0c"
      },
      "source": [
        "1.4. Salvando e Carregando Modelos"
      ]
    },
    {
      "cell_type": "code",
      "execution_count": 82,
      "id": "b4671035",
      "metadata": {
        "colab": {
          "base_uri": "https://localhost:8080/"
        },
        "id": "b4671035",
        "outputId": "30e8d1a1-45b4-41f3-8c19-44d22ec74eda"
      },
      "outputs": [
        {
          "name": "stdout",
          "output_type": "stream",
          "text": [
            "Vetor da palavra 'gato' no modelo carregado: [-0.00066461 -0.00012106  0.01007604  0.01772279 -0.02013941 -0.01504357\n",
            "  0.01445466  0.01845654 -0.01282796 -0.00928387  0.01625643 -0.0037476\n",
            " -0.00769118  0.01316633 -0.00972467 -0.00321594  0.00959073  0.00473818\n",
            " -0.01993998 -0.02050222  0.01448102  0.01044507  0.01710199  0.0029958\n",
            "  0.01260991 -0.00619475 -0.00097859  0.01376643 -0.0161076  -0.00798778\n",
            " -0.01502496 -0.00327962  0.01809991 -0.01688035 -0.00644165 -0.004882\n",
            "  0.01832774 -0.01367588 -0.00164272 -0.01047571 -0.01772742  0.00929226\n",
            " -0.01705362 -0.01042047  0.00356706  0.00087586 -0.01482099  0.01721099\n",
            "  0.00981849  0.01833477]\n"
          ]
        }
      ],
      "source": [
        "# Salvar o modelo\n",
        "model.save(\"word2vec.model\")\n",
        "\n",
        "# Carregar o modelo\n",
        "loaded_model = Word2Vec.load(\"word2vec.model\")\n",
        "print(\"Vetor da palavra 'gato' no modelo carregado:\", loaded_model.wv[\"gato\"])\n"
      ]
    },
    {
      "cell_type": "markdown",
      "id": "620d9fa3",
      "metadata": {
        "id": "620d9fa3"
      },
      "source": [
        "1.5. O Vocabulário do Modelo\n",
        "\n",
        "Explorar o vocabulário gerado e estatísticas do modelo."
      ]
    },
    {
      "cell_type": "code",
      "execution_count": 83,
      "id": "692ba064",
      "metadata": {
        "colab": {
          "base_uri": "https://localhost:8080/"
        },
        "id": "692ba064",
        "outputId": "7e21ee87-1037-4b6d-c31a-eaf347ce72df"
      },
      "outputs": [
        {
          "name": "stdout",
          "output_type": "stream",
          "text": [
            "Tamanho do vocabulário: 16\n",
            "Palavras no vocabulário: ['no', 'reino', 'ajuda', 'governo', 'homem', 'vive', 'mulher', 'governa', 'rei', 'gatinho']\n"
          ]
        }
      ],
      "source": [
        "# Lista de palavras no vocabulário\n",
        "vocab = list(model.wv.key_to_index.keys())\n",
        "print(\"Tamanho do vocabulário:\", len(vocab))\n",
        "print(\"Palavras no vocabulário:\", vocab[:10])\n"
      ]
    },
    {
      "cell_type": "markdown",
      "id": "04a9820f",
      "metadata": {},
      "source": [
        "blz, beleza, belez, bleza (independentes)\n",
        "(agrupar em uma única palavra): 'beleza'\n",
        "\n",
        "'beleza': {'blz', 'beleza', 'belez', 'bleza'}"
      ]
    },
    {
      "cell_type": "markdown",
      "id": "cf665171",
      "metadata": {
        "id": "cf665171"
      },
      "source": [
        "1.6. Similaridade entre Palavras\n",
        "\n",
        "Medir a similaridade semântica entre duas palavras."
      ]
    },
    {
      "cell_type": "code",
      "execution_count": 89,
      "id": "10f7e588",
      "metadata": {
        "colab": {
          "base_uri": "https://localhost:8080/"
        },
        "id": "10f7e588",
        "outputId": "8ebc061e-7759-4895-d865-d1d4b73e0e27"
      },
      "outputs": [
        {
          "name": "stdout",
          "output_type": "stream",
          "text": [
            "Similaridade entre 'gato' e 'cachorro': 0.12971388\n",
            "Similaridade entre 'gato' e 'gatinho': 0.07045418\n"
          ]
        }
      ],
      "source": [
        "similarity = model.wv.similarity(\"rei\", \"reino\")\n",
        "print(\"Similaridade entre 'gato' e 'cachorro':\", similarity)\n",
        "\n",
        "similarity = model.wv.similarity(\"gato\", \"gatinho\")\n",
        "print(\"Similaridade entre 'gato' e 'gatinho':\", similarity)"
      ]
    },
    {
      "cell_type": "markdown",
      "id": "d2a9d389",
      "metadata": {
        "id": "d2a9d389"
      },
      "source": [
        "1.7. Análise de Outliers"
      ]
    },
    {
      "cell_type": "code",
      "execution_count": 91,
      "id": "711a8649",
      "metadata": {
        "colab": {
          "base_uri": "https://localhost:8080/"
        },
        "id": "711a8649",
        "outputId": "c5f10f46-ba72-45b6-babe-c7d11541c9a3"
      },
      "outputs": [
        {
          "name": "stdout",
          "output_type": "stream",
          "text": [
            "Palavra fora do contexto: cachorro\n"
          ]
        }
      ],
      "source": [
        "outlier = model.wv.doesnt_match([\"gato\", \"cachorro\", \"peixe\", \"banana\"])\n",
        "print(\"Palavra fora do contexto:\", outlier)"
      ]
    },
    {
      "cell_type": "markdown",
      "id": "cc71d8ec",
      "metadata": {
        "id": "cc71d8ec"
      },
      "source": [
        "1.8. Preprocessamento de Dados\n",
        "\n",
        "Incluir a etapa de preprocessamento das sentenças antes do treinamento."
      ]
    },
    {
      "cell_type": "code",
      "execution_count": 93,
      "id": "929f2db7",
      "metadata": {
        "colab": {
          "base_uri": "https://localhost:8080/"
        },
        "id": "929f2db7",
        "outputId": "216256bf-24f8-40a0-b9db-1a1d903f83aa"
      },
      "outputs": [
        {
          "name": "stdout",
          "output_type": "stream",
          "text": [
            "Sentenças processadas: [['gato', 'adora', 'peixe', 'fresco'], ['cachorros', 'animais', 'leais'], ['aluna', 'tirou', 'boa', 'nota']]\n"
          ]
        },
        {
          "name": "stderr",
          "output_type": "stream",
          "text": [
            "[nltk_data] Downloading package stopwords to\n",
            "[nltk_data]     /home/hericson/nltk_data...\n",
            "[nltk_data]   Package stopwords is already up-to-date!\n",
            "[nltk_data] Downloading package punkt to /home/hericson/nltk_data...\n",
            "[nltk_data]   Package punkt is already up-to-date!\n",
            "[nltk_data] Downloading package punkt_tab to\n",
            "[nltk_data]     /home/hericson/nltk_data...\n",
            "[nltk_data]   Package punkt_tab is already up-to-date!\n"
          ]
        }
      ],
      "source": [
        "import re\n",
        "from nltk.corpus import stopwords\n",
        "from nltk.tokenize import word_tokenize\n",
        "import nltk\n",
        "\n",
        "# Baixar stopwords e tokenizer do NLTK\n",
        "nltk.download('stopwords')\n",
        "nltk.download('punkt')\n",
        "nltk.download('punkt_tab')\n",
        "\n",
        "# Lista de stopwords em português\n",
        "stop_words = set(stopwords.words(\"portuguese\"))\n",
        "\n",
        "def preprocess_text(text):\n",
        "    # Transformar em minúsculas\n",
        "    text = text.lower()\n",
        "    # Remover caracteres especiais e números\n",
        "    text = re.sub(r\"[^a-záéíóúãõâêîôûç\\s]\", \"\", text)\n",
        "    # Tokenizar o texto\n",
        "    tokens = word_tokenize(text)\n",
        "    # Remover stopwords\n",
        "    filtered_tokens = [word for word in tokens if word not in stop_words]\n",
        "    return filtered_tokens\n",
        "\n",
        "# Exemplo de uso\n",
        "sentences = [\"O gato adora peixe fresco!\", \"Cachorros são animais muito leais.\", \"A aluna tirou boa nota\"]\n",
        "processed_sentences = [preprocess_text(sentence) for sentence in sentences]\n",
        "print(\"Sentenças processadas:\", processed_sentences)\n"
      ]
    },
    {
      "cell_type": "markdown",
      "id": "b7aef4ab",
      "metadata": {
        "id": "b7aef4ab"
      },
      "source": [
        "1.9. Transfer Learning com Word2Vec\n",
        "\n",
        "Usar modelos pré-treinados para expandir a análise."
      ]
    },
    {
      "cell_type": "code",
      "execution_count": 45,
      "id": "cdc43014",
      "metadata": {
        "colab": {
          "base_uri": "https://localhost:8080/",
          "height": 339
        },
        "id": "cdc43014",
        "outputId": "c507b5c2-9f5a-4c24-b990-c0920003f79b"
      },
      "outputs": [
        {
          "name": "stdout",
          "output_type": "stream",
          "text": [
            "Vetor da palavra 'hombre': [-0.11572266 -0.11523438  0.18359375  0.38671875 -0.03710938  0.18847656\n",
            " -0.328125    0.1484375   0.02233887  0.09375     0.18066406 -0.40039062\n",
            " -0.23730469 -0.07373047  0.08740234  0.36132812  0.10644531  0.53125\n",
            "  0.29882812 -0.12988281 -0.08984375  0.11865234  0.22558594  0.07421875\n",
            " -0.00946045 -0.359375   -0.44921875 -0.21972656 -0.01434326 -0.00227356\n",
            "  0.30664062  0.31054688  0.18457031  0.19042969 -0.03491211  0.37304688\n",
            "  0.12890625  0.09814453  0.16210938 -0.06347656  0.07470703 -0.30859375\n",
            "  0.421875    0.20703125  0.06738281 -0.04541016 -0.10986328 -0.01269531\n",
            " -0.125       0.2890625  -0.26757812  0.19921875  0.15429688 -0.13671875\n",
            "  0.08447266  0.19042969 -0.00280762  0.07275391  0.07763672  0.14941406\n",
            " -0.0546875   0.125      -0.19628906 -0.012146   -0.14550781 -0.04541016\n",
            " -0.08886719 -0.27148438  0.12695312  0.09472656  0.359375    0.33007812\n",
            " -0.25        0.11914062 -0.07080078  0.19628906  0.11230469  0.23730469\n",
            " -0.30664062 -0.15234375  0.10351562  0.13476562 -0.359375   -0.58984375\n",
            " -0.03149414  0.3125     -0.14648438  0.41210938  0.3828125  -0.00361633\n",
            " -0.15917969  0.05444336 -0.01745605  0.25390625  0.01263428 -0.02062988\n",
            "  0.12695312  0.22460938  0.13183594 -0.36132812 -0.41015625 -0.05883789\n",
            "  0.12988281 -0.07763672  0.00854492 -0.25585938  0.18652344  0.19042969\n",
            " -0.18261719  0.234375    0.06445312 -0.16894531  0.00897217 -0.03710938\n",
            "  0.00616455  0.13183594 -0.01940918  0.06835938  0.125      -0.12597656\n",
            "  0.06445312 -0.09472656 -0.25       -0.18847656  0.25976562 -0.04077148\n",
            " -0.11621094 -0.05053711  0.09472656 -0.12402344 -0.5        -0.2890625\n",
            " -0.00346375  0.10791016 -0.07177734 -0.00279236 -0.29101562  0.13085938\n",
            "  0.27734375  0.10839844  0.16796875 -0.15332031  0.03125    -0.12109375\n",
            "  0.07324219  0.13964844 -0.12109375  0.07226562  0.16894531 -0.00219727\n",
            "  0.34765625 -0.35546875 -0.2578125  -0.02258301 -0.38671875  0.12402344\n",
            " -0.09912109  0.23339844 -0.0402832  -0.24121094  0.06445312  0.06445312\n",
            "  0.4453125   0.06347656 -0.33398438 -0.20703125  0.29296875  0.14648438\n",
            " -0.203125    0.22070312  0.02294922 -0.19335938  0.26757812 -0.14453125\n",
            " -0.11328125  0.21289062 -0.12304688 -0.04541016  0.21386719 -0.04345703\n",
            " -0.13476562 -0.22949219  0.07373047  0.04296875 -0.30078125 -0.05126953\n",
            " -0.04052734 -0.16308594 -0.1484375   0.10791016  0.15625     0.13183594\n",
            " -0.07714844  0.14453125  0.24707031  0.07080078 -0.2890625   0.22460938\n",
            " -0.25390625  0.22265625 -0.17578125  0.02172852 -0.05688477  0.02758789\n",
            "  0.08105469 -0.08300781  0.01080322 -0.10839844 -0.25195312  0.05883789\n",
            " -0.16601562  0.04077148 -0.06982422 -0.140625   -0.36914062  0.31054688\n",
            " -0.28320312 -0.16308594 -0.47265625  0.25390625 -0.14453125  0.13378906\n",
            "  0.00476074  0.18945312  0.38671875  0.11816406  0.28320312  0.01794434\n",
            "  0.05175781  0.13769531 -0.00570679 -0.29296875 -0.10693359  0.16113281\n",
            "  0.22558594  0.09277344  0.10839844 -0.07275391  0.06835938 -0.06982422\n",
            "  0.28320312  0.14941406 -0.00130463  0.11962891  0.04907227 -0.19335938\n",
            " -0.203125    0.21191406 -0.03540039  0.16503906 -0.05029297  0.21386719\n",
            "  0.04956055  0.34765625  0.28320312  0.02490234 -0.05981445 -0.36132812\n",
            " -0.10644531 -0.17675781  0.19921875  0.01092529  0.3359375  -0.09863281\n",
            "  0.1796875   0.04101562 -0.04882812 -0.04589844 -0.33984375  0.08398438\n",
            " -0.234375    0.1640625   0.05297852 -0.08251953 -0.04296875  0.125\n",
            " -0.05834961  0.02502441 -0.23632812  0.39648438  0.09960938 -0.0390625\n",
            "  0.08935547 -0.17285156  0.00164795 -0.33398438 -0.34960938 -0.04931641\n",
            " -0.13964844 -0.00111389  0.16503906  0.17382812 -0.0291748  -0.02246094\n",
            "  0.19726562  0.20996094  0.05761719 -0.09570312  0.00741577  0.31445312]\n"
          ]
        }
      ],
      "source": [
        "from gensim.models import KeyedVectors\n",
        "\n",
        "# Carregar um modelo pré-treinado (como o Word2Vec do Google News)\n",
        "# baixar em https://drive.usercontent.google.com/download?id=0B7XkCwpI5KDYNlNUTTlSS21pQmM&export=download&authuser=0\n",
        "\n",
        "pretrained_model = KeyedVectors.load_word2vec_format(\"datasets/GoogleNews-vectors-negative300.bin.gz\", binary=True)\n",
        "print(\"Vetor da palavra 'hombre':\", pretrained_model[\"hombre\"])"
      ]
    },
    {
      "cell_type": "code",
      "execution_count": 107,
      "id": "8353d1d5",
      "metadata": {
        "id": "8353d1d5",
        "scrolled": false
      },
      "outputs": [
        {
          "name": "stdout",
          "output_type": "stream",
          "text": [
            "Palavras semelhantes a 'hombre': [('strawberries', 0.7941855192184448), ('blueberry', 0.7661275863647461), ('berry', 0.7010524272918701), ('tomato', 0.6888598203659058), ('peaches', 0.6870250701904297)]\n"
          ]
        }
      ],
      "source": [
        "similar_words2 = pretrained_model.most_similar(\"strawberry\", topn=5)\n",
        "print(\"Palavras semelhantes a 'hombre':\", similar_words2)"
      ]
    },
    {
      "cell_type": "markdown",
      "id": "abd2e2fb",
      "metadata": {
        "id": "abd2e2fb"
      },
      "source": [
        "---"
      ]
    },
    {
      "cell_type": "markdown",
      "id": "e5647af6",
      "metadata": {
        "id": "e5647af6"
      },
      "source": [
        "### 2.GloVe"
      ]
    },
    {
      "cell_type": "markdown",
      "id": "dd24312c",
      "metadata": {
        "id": "dd24312c"
      },
      "source": [
        "O **GloVe (Global Vectors for Word Representation)** é um modelo de aprendizado que gera representações vetoriais para palavras com base em uma matriz de coocorrência de palavras em um grande corpus de texto.\n",
        "\n",
        "Entendendo a Coocorrência:\n",
        "\n",
        "Frase:\n",
        "\n",
        "```O gato gosta de peixe```\n",
        "\n",
        "![aula18_coocorr%C3%AAncia.png](./figuras/aula18_coocorr%C3%AAncia.png)"
      ]
    },
    {
      "cell_type": "markdown",
      "id": "6b9edcfb",
      "metadata": {
        "id": "6b9edcfb"
      },
      "source": [
        "O GloVe utiliza essa matriz de coocorrência para aprender vetores densos para cada palavra. Ele tenta ajustar os vetores para que as relações semânticas sejam capturadas, como:\n",
        "\n",
        "Vetor(\"gato\") deve estar mais próximo de Vetor(\"peixe\") do que de Vetor(\"carro\").\n",
        "\n",
        "Vetores podem ser combinados para capturar analogias, como:\n",
        "\n",
        "- Vetor(\"rei\") −> Vetor(\"homem\") + Vetor(\"mulher\") ≈ Vetor(\"rainha\")\n",
        "\n"
      ]
    },
    {
      "cell_type": "markdown",
      "id": "8270360e",
      "metadata": {
        "id": "8270360e"
      },
      "source": [
        "### 2.1. Baixar e Carregar o Modelo GloVe\n",
        "\n",
        "Vamos baixar um modelo GloVe pré-treinado e o convertendo para um formato compatível com a biblioteca `gensim`."
      ]
    },
    {
      "cell_type": "code",
      "execution_count": 138,
      "id": "282ffd01",
      "metadata": {
        "colab": {
          "base_uri": "https://localhost:8080/",
          "height": 428
        },
        "id": "282ffd01",
        "outputId": "89bc1751-36ac-450c-93f5-a7713682e934"
      },
      "outputs": [
        {
          "name": "stderr",
          "output_type": "stream",
          "text": [
            "/tmp/ipykernel_93588/2686739773.py:9: DeprecationWarning: Call to deprecated `glove2word2vec` (KeyedVectors.load_word2vec_format(.., binary=False, no_header=True) loads GLoVE text vectors.).\n",
            "  glove2word2vec(glove_file, word2vec_output_file)\n"
          ]
        }
      ],
      "source": [
        "from gensim.scripts.glove2word2vec import glove2word2vec\n",
        "from gensim.models import KeyedVectors\n",
        "\n",
        "# Converter o formato GloVe para Word2Vec\n",
        "# baixar em : http://nlp.stanford.edu/data/glove.6B.zip\n",
        "glove_url = \"http://nlp.stanford.edu/data/glove.6B.zip\"\n",
        "glove_file = \"datasets/glove.6B (2)/glove.6B.100d.txt\"\n",
        "word2vec_output_file = \"datasets/glove.6B.100d.word2vec.txt\"\n",
        "glove2word2vec(glove_file, word2vec_output_file)\n",
        "\n",
        "# Carregar o modelo\n",
        "model = KeyedVectors.load_word2vec_format(word2vec_output_file, binary=False)"
      ]
    },
    {
      "cell_type": "markdown",
      "id": "b175b993",
      "metadata": {
        "id": "b175b993"
      },
      "source": [
        "### 2.1 Encontrar Palavras Semelhantes"
      ]
    },
    {
      "cell_type": "code",
      "execution_count": 110,
      "id": "a0e07255",
      "metadata": {
        "id": "a0e07255"
      },
      "outputs": [
        {
          "name": "stdout",
          "output_type": "stream",
          "text": [
            "Palavras semelhantes a 'king': [('boyfriend', 0.9419270157814026), ('fiancee', 0.8946628570556641), ('fiance', 0.8751725554466248)]\n"
          ]
        }
      ],
      "source": [
        "# Encontrar palavras semelhantes\n",
        "similar_words = model.most_similar(\"girlfriend\", topn=3)\n",
        "print(\"Palavras semelhantes a 'king':\", similar_words)"
      ]
    },
    {
      "cell_type": "markdown",
      "id": "f9792712",
      "metadata": {
        "id": "f9792712"
      },
      "source": [
        "### 2.2 Calcular Similaridade entre Palavras"
      ]
    },
    {
      "cell_type": "code",
      "execution_count": 115,
      "id": "130186fa",
      "metadata": {
        "id": "130186fa",
        "scrolled": true
      },
      "outputs": [
        {
          "name": "stdout",
          "output_type": "stream",
          "text": [
            "Similaridade entre 'woman' e 'man': 0.6746013\n"
          ]
        }
      ],
      "source": [
        "# Similaridade entre palavras\n",
        "similarity = model.similarity(\"big\", \"large\")\n",
        "print(\"Similaridade entre 'woman' e 'man':\", similarity)"
      ]
    },
    {
      "cell_type": "markdown",
      "id": "e45d09ce",
      "metadata": {
        "id": "e45d09ce"
      },
      "source": [
        "### 2.3 Operações de Vetores"
      ]
    },
    {
      "cell_type": "code",
      "execution_count": 125,
      "id": "0e78f4c4",
      "metadata": {
        "id": "0e78f4c4"
      },
      "outputs": [
        {
          "name": "stdout",
          "output_type": "stream",
          "text": [
            "Resultado da analogia (King - Man + Woman): [('horses', 0.6599798202514648)]\n"
          ]
        }
      ],
      "source": [
        "analogia = model.most_similar(positive=[\"horse\", \"farm\"], negative=[\"fruit\"], topn=1)\n",
        "print(\"Resultado da analogia (King - Man + Woman):\", analogia)"
      ]
    },
    {
      "cell_type": "code",
      "execution_count": 123,
      "id": "727259b6",
      "metadata": {},
      "outputs": [
        {
          "data": {
            "text/plain": [
              "[('flowers', 0.8246087431907654),\n",
              " ('red', 0.8242772221565247),\n",
              " ('tree', 0.8163017630577087),\n",
              " ('yellow', 0.8078889846801758),\n",
              " ('purple', 0.7923315167427063),\n",
              " ('blue', 0.7852816581726074),\n",
              " ('pink', 0.782580554485321),\n",
              " ('white', 0.7795533537864685),\n",
              " ('wood', 0.7765533328056335),\n",
              " ('bright', 0.7696632742881775)]"
            ]
          },
          "execution_count": 123,
          "metadata": {},
          "output_type": "execute_result"
        }
      ],
      "source": [
        "analogia = model.most_similar(positive=[\"flower\", \"green\"])\n",
        "analogia"
      ]
    },
    {
      "cell_type": "markdown",
      "id": "72e2f8a7",
      "metadata": {
        "id": "72e2f8a7"
      },
      "source": [
        "### 2.4 Palavras Fora do Contexto"
      ]
    },
    {
      "cell_type": "code",
      "execution_count": 128,
      "id": "0a529f02",
      "metadata": {
        "id": "0a529f02"
      },
      "outputs": [
        {
          "name": "stdout",
          "output_type": "stream",
          "text": [
            "Palavra fora do contexto: small\n"
          ]
        }
      ],
      "source": [
        "# Identificar palavra fora do contexto\n",
        "outlier = model.doesnt_match([\"blue\", \"green\", \"yellow\", \"small\"])\n",
        "print(\"Palavra fora do contexto:\", outlier)"
      ]
    },
    {
      "cell_type": "markdown",
      "id": "7e5df926",
      "metadata": {
        "id": "7e5df926"
      },
      "source": [
        "### 2.5 Função para Representar Sentenças como Vetores"
      ]
    },
    {
      "cell_type": "code",
      "execution_count": 52,
      "id": "ad082a6a",
      "metadata": {
        "id": "ad082a6a"
      },
      "outputs": [],
      "source": [
        "import numpy as np\n",
        "\n",
        "def sentence_to_vector(sentence, model):\n",
        "    words = sentence.lower().split()\n",
        "    vectors = [model[word] for word in words if word in model]\n",
        "    if vectors:\n",
        "        return np.mean(vectors, axis=0)\n",
        "    else:\n",
        "        return np.zeros(model.vector_size)"
      ]
    },
    {
      "cell_type": "markdown",
      "id": "40d73031",
      "metadata": {
        "id": "40d73031"
      },
      "source": [
        "### 2.6 Comparação de Sentenças"
      ]
    },
    {
      "cell_type": "code",
      "execution_count": 129,
      "id": "6087f501",
      "metadata": {
        "id": "6087f501"
      },
      "outputs": [
        {
          "name": "stdout",
          "output_type": "stream",
          "text": [
            "Similaridade entre as sentenças: 0.9657\n"
          ]
        }
      ],
      "source": [
        "# Sentenças de exemplo\n",
        "sentence1 = \"The king is strong\"\n",
        "sentence2 = \"The queen is powerful\"\n",
        "\n",
        "# Calcular os vetores\n",
        "vector1 = sentence_to_vector(sentence1, model)\n",
        "vector2 = sentence_to_vector(sentence2, model)\n",
        "\n",
        "# Similaridade entre sentenças\n",
        "from numpy.linalg import norm\n",
        "similarity = np.dot(vector1, vector2) / (norm(vector1) * norm(vector2))\n",
        "print(f\"Similaridade entre as sentenças: {similarity:.4f}\")"
      ]
    },
    {
      "cell_type": "markdown",
      "id": "18de7551",
      "metadata": {
        "id": "18de7551"
      },
      "source": [
        "**Obs: experimente usar outros modelos GloVe (100, 200 ou 300 dimensões) para verificar como a dimensionalidade impacta os resultados!**"
      ]
    },
    {
      "cell_type": "markdown",
      "id": "5fa3e67c",
      "metadata": {
        "id": "5fa3e67c"
      },
      "source": [
        "---"
      ]
    },
    {
      "cell_type": "markdown",
      "id": "8c9dd271",
      "metadata": {
        "id": "8c9dd271"
      },
      "source": [
        "### 3.  Aplicação prática de Redes Neurais Recorrentes (RNN) com Long Short-Term Memory (LSTM) para análise de sentimentos"
      ]
    },
    {
      "cell_type": "markdown",
      "id": "d3e9cae6",
      "metadata": {
        "id": "d3e9cae6"
      },
      "source": [
        "### 3.1 Importando as bibliotecas"
      ]
    },
    {
      "cell_type": "code",
      "execution_count": 54,
      "id": "726d8566",
      "metadata": {
        "id": "726d8566"
      },
      "outputs": [],
      "source": [
        "#pip install tensorflow"
      ]
    },
    {
      "cell_type": "code",
      "execution_count": 131,
      "id": "25af34b0",
      "metadata": {
        "id": "25af34b0"
      },
      "outputs": [
        {
          "name": "stderr",
          "output_type": "stream",
          "text": [
            "[nltk_data] Downloading package stopwords to\n",
            "[nltk_data]     /home/hericson/nltk_data...\n",
            "[nltk_data]   Package stopwords is already up-to-date!\n"
          ]
        },
        {
          "data": {
            "text/plain": [
              "True"
            ]
          },
          "execution_count": 131,
          "metadata": {},
          "output_type": "execute_result"
        }
      ],
      "source": [
        "import numpy as np\n",
        "from tensorflow.keras.models import Sequential\n",
        "from tensorflow.keras.layers import Embedding, LSTM, Dense, Dropout, SimpleRNN\n",
        "from tensorflow.keras.preprocessing.text import Tokenizer\n",
        "from tensorflow.keras.preprocessing.sequence import pad_sequences\n",
        "from sklearn.model_selection import train_test_split\n",
        "from nltk.corpus import stopwords\n",
        "import nltk\n",
        "import os\n",
        "import tarfile\n",
        "import re\n",
        "\n",
        "from sklearn.metrics import confusion_matrix, ConfusionMatrixDisplay\n",
        "import matplotlib.pyplot as plt\n",
        "# Baixar stopwords\n",
        "nltk.download('stopwords')"
      ]
    },
    {
      "cell_type": "markdown",
      "id": "a56bdd1c",
      "metadata": {
        "id": "a56bdd1c"
      },
      "source": [
        "### 3.2 Preparando o dataset\n",
        "\n",
        "https://ai.stanford.edu/~amaas/data/sentiment/\n",
        "\n",
        "Andrew L. Maas, Raymond E. Daly, Peter T. Pham, Dan Huang, Andrew Y. Ng, and Christopher Potts. (2011). Learning Word Vectors for Sentiment Analysis. The 49th Annual Meeting of the Association for Computational Linguistics (ACL 2011)."
      ]
    },
    {
      "cell_type": "markdown",
      "id": "126e1c61",
      "metadata": {
        "id": "126e1c61"
      },
      "source": [
        "Este é um conjunto de dados para classificação binária de sentimentos, contendo substancialmente mais dados do que conjuntos de dados de referência anteriores. Fornecemos um conjunto de 25.000 resenhas de filmes altamente polarizadas para treinamento e 25.000 para teste. Há também dados adicionais não rotulados disponíveis para uso. São fornecidos os formatos de texto bruto e de \"bag of words\" já processados."
      ]
    },
    {
      "cell_type": "code",
      "execution_count": 133,
      "id": "770a6329",
      "metadata": {
        "id": "770a6329",
        "scrolled": true
      },
      "outputs": [
        {
          "name": "stdout",
          "output_type": "stream",
          "text": [
            "This is a story about Shin-ae, who moves to Milyang from Seoul with her young son Jun to start over after the accidental death of her husband. Her husband was born here, and she is opening up a piano school, but also has ambitions to own some land with the insurance money she received from the death. If that is what the film was about, it probably would have been like a Hollywood film, with her falling for some local guy and being happy with her son in their new home. But, this is not Hollywood. Her son gets kidnapped and murdered, ostensibly because it is known she has cash from the settlement. The grief process, attempts at moving on, attempts to clear her conscience of guilt, are all done admirably, and the lead actress is superb. The only caveat, and it has to be stated, is that this is a depressing film. You have to know that going in. You want Shin-ae to go through her grief and find some measure of happiness. Again, this is not Hollywood, it is Korea and in Korean cinema, especially drama, they pull no punches. Life is what happens to you. Great acting, but sometimes a tough film to watch, due to the goings on. If you stay, you'll be rewarded. Do that.\n",
            "1\n"
          ]
        }
      ],
      "source": [
        "# Caminhos para os dados\n",
        "# Baixar em: https://ai.stanford.edu/~amaas/data/sentiment/\n",
        "train_pos_dir = \"datasets/aclImdb_v1/aclImdb/train/pos\"\n",
        "train_neg_dir = \"datasets/aclImdb_v1/aclImdb/train/neg\"\n",
        "\n",
        "# Função para carregar textos e rótulos\n",
        "def load_imdb_data(pos_dir, neg_dir):\n",
        "    texts, labels = [], []\n",
        "    for file in os.listdir(pos_dir):\n",
        "        with open(os.path.join(pos_dir, file), encoding=\"utf-8\") as f:\n",
        "            texts.append(f.read())\n",
        "            labels.append(1)  # 1 para avaliações positivas\n",
        "    for file in os.listdir(neg_dir):\n",
        "        with open(os.path.join(neg_dir, file), encoding=\"utf-8\") as f:\n",
        "            texts.append(f.read())\n",
        "            labels.append(0)  # 0 para avaliações negativas\n",
        "    return texts, labels\n",
        "\n",
        "# Carregar os dados\n",
        "texts, labels = load_imdb_data(train_pos_dir, train_neg_dir)\n",
        "print(texts[0])\n",
        "print(labels[0])"
      ]
    },
    {
      "cell_type": "code",
      "execution_count": 137,
      "id": "948e07db",
      "metadata": {},
      "outputs": [
        {
          "data": {
            "text/plain": [
              "(\"mahatma Gandhi, the father of the nation in his quest for India's freedom struggle ignored his own family and son, this movie is about his son Hiralal who feels neglected because of mahatma Gandhi's service to the society. The movie starts off in South Africa where Mahatma Gandhi works as a barrister and fighting the cause of India's freedom against the British. Hirarala arrives in South Africa to help his dad who is a barrister, since gandhi was involved in the freedom struggle, he wanted his wife and children to join in too as a service to the society and as a result hirarlal does not get a chance to complete his education and fails his exams, he gets married to his love gulab (bhoomika Chawla) against his father's wishes. Hiralal has ambitions to travel to england and become a barrister just like his dad but his own dad refuses to grant him a scholarship offered to his family by a businessman and instead gives it away to another person saying that the scholarship should not be limited to his family and should be open to the most deserving student living in colony. This angers hiralal and the rift between father and son increases, hirarlal hates his father for neglecting him and blames him for being uneducated and unemployed. Hiralal struggles to make ends meet and lands up on the streets through failed business attempts and in huge debt, he loses his wife and children. Akshaye Khanna has give a stellar performance as Hiralal gandhi.. all kudos to him, the direction and the script is fantastic, the picturization is excellent. overall an Excellent movie and a must see. I give it a 10/10\",\n",
              " 1)"
            ]
          },
          "execution_count": 137,
          "metadata": {},
          "output_type": "execute_result"
        }
      ],
      "source": [
        "texts[100], labels[100]"
      ]
    },
    {
      "cell_type": "markdown",
      "id": "5d0d3d28",
      "metadata": {
        "id": "5d0d3d28"
      },
      "source": [
        "#### Dividindo os dados\n",
        "\n",
        "Dividimos os dados em conjuntos de treinamento e teste."
      ]
    },
    {
      "cell_type": "code",
      "execution_count": 139,
      "id": "2127d782",
      "metadata": {
        "id": "2127d782"
      },
      "outputs": [],
      "source": [
        "# Dividir em conjunto de treino e teste\n",
        "texts_train, texts_test, labels_train, labels_test = train_test_split(\n",
        "    texts, labels, test_size=0.3, random_state=42\n",
        ")"
      ]
    },
    {
      "cell_type": "markdown",
      "id": "8e9008ba",
      "metadata": {
        "id": "8e9008ba"
      },
      "source": [
        "### 3.3 Pré-processamento de Texto\n",
        "\n",
        "Remover stopwords, tokenizar e criar sequências de entrada."
      ]
    },
    {
      "cell_type": "code",
      "execution_count": 140,
      "id": "ca5fc9c5",
      "metadata": {
        "id": "ca5fc9c5"
      },
      "outputs": [
        {
          "name": "stderr",
          "output_type": "stream",
          "text": [
            "[nltk_data] Downloading package stopwords to\n",
            "[nltk_data]     /home/hericson/nltk_data...\n",
            "[nltk_data]   Package stopwords is already up-to-date!\n"
          ]
        }
      ],
      "source": [
        "\n",
        "nltk.download(\"stopwords\")\n",
        "\n",
        "# Remover stopwords e limpar o texto\n",
        "stop_words = set(stopwords.words(\"english\"))  # Dataset IMDB está em inglês\n",
        "\n",
        "def preprocess_text(text):\n",
        "    text = text.lower()\n",
        "    text = re.sub(r\"[^a-z\\s]\", \"\", text)  # Remover caracteres especiais\n",
        "    words = text.split()\n",
        "    words = [word for word in words if word not in stop_words]\n",
        "    return \" \".join(words)\n",
        "\n",
        "# Pré-processar os textos\n",
        "texts_train = [preprocess_text(text) for text in texts_train]\n",
        "texts_test = [preprocess_text(text) for text in texts_test]\n"
      ]
    },
    {
      "cell_type": "markdown",
      "id": "007a2851",
      "metadata": {
        "id": "007a2851"
      },
      "source": [
        "### 3.4 Tokenização e Sequencialização"
      ]
    },
    {
      "cell_type": "code",
      "execution_count": 145,
      "id": "3e7c8c60",
      "metadata": {
        "id": "3e7c8c60"
      },
      "outputs": [],
      "source": [
        "# Tokenizar os textos\n",
        "tokenizer = Tokenizer(num_words=5000)\n",
        "tokenizer.fit_on_texts(texts_train)\n",
        "\n",
        "# Converter os textos para sequências\n",
        "X_train = tokenizer.texts_to_sequences(texts_train)\n",
        "X_test = tokenizer.texts_to_sequences(texts_test)\n",
        "\n",
        "# # Padronizar os comprimentos das sequências\n",
        "max_len = 100  # Ajuste baseado no dataset\n",
        "X_train = pad_sequences(X_train, maxlen=max_len, padding=\"post\")\n",
        "X_test = pad_sequences(X_test, maxlen=max_len, padding=\"post\")\n",
        "\n",
        "# Converter rótulos para arrays NumPy\n",
        "y_train = np.array(labels_train)\n",
        "y_test = np.array(labels_test)\n"
      ]
    },
    {
      "cell_type": "code",
      "execution_count": 148,
      "id": "dfe5cb4e",
      "metadata": {},
      "outputs": [
        {
          "data": {
            "text/plain": [
              "array([[ 545,   45,  360, ...,    0,    0,    0],\n",
              "       [  55, 1440,  525, ...,    0,    0,    0],\n",
              "       [ 839,  252,  845, ...,  112, 4421,   74],\n",
              "       ...,\n",
              "       [   7,   41,  299, ...,    0,    0,    0],\n",
              "       [1277,   84,  272, ...,    0,    0,    0],\n",
              "       [1969, 1828,  587, ...,   30,   53,  233]], dtype=int32)"
            ]
          },
          "execution_count": 148,
          "metadata": {},
          "output_type": "execute_result"
        }
      ],
      "source": [
        "X_train"
      ]
    },
    {
      "cell_type": "markdown",
      "id": "ecd89941",
      "metadata": {},
      "source": [
        "### Predição em um novo review?\n",
        "\n",
        "rev = \"Que filme legal, gostei demais, ótimos atores\"\n",
        "\n",
        "#### Objetivo?\n",
        "\n",
        "Prever se o review é bom ou ruim\n",
        "\n",
        "# Qual a primeira etapa?\n",
        "\n",
        "1 - Pré-processar - remover stopwords, remover caracteres inválidos, números\n",
        "\n",
        "2 - Tokenizar (Separar as palavras relevantes em tokens)\n",
        "\n",
        "3 - Codificar o texto em formato numérico\n",
        "\n",
        "4 - Realizar Predições"
      ]
    },
    {
      "cell_type": "code",
      "execution_count": 168,
      "id": "373fc7a4",
      "metadata": {},
      "outputs": [
        {
          "data": {
            "text/plain": [
              "array([[917,   3, 328, 180,   0,   0,   0,   0,   0,   0,   0,   0,   0,\n",
              "          0,   0,   0,   0,   0,   0,   0,   0,   0,   0,   0,   0,   0,\n",
              "          0,   0,   0,   0,   0,   0,   0,   0,   0,   0,   0,   0,   0,\n",
              "          0,   0,   0,   0,   0,   0,   0,   0,   0,   0,   0,   0,   0,\n",
              "          0,   0,   0,   0,   0,   0,   0,   0,   0,   0,   0,   0,   0,\n",
              "          0,   0,   0,   0,   0,   0,   0,   0,   0,   0,   0,   0,   0,\n",
              "          0,   0,   0,   0,   0,   0,   0,   0,   0,   0,   0,   0,   0,\n",
              "          0,   0,   0,   0,   0,   0,   0,   0,   0]], dtype=int32)"
            ]
          },
          "execution_count": 168,
          "metadata": {},
          "output_type": "execute_result"
        }
      ],
      "source": [
        "new_reviews = [\"An incredible film, I loved the ending\"]\n",
        "new_reviews = [preprocess_text(review) for review in new_reviews]\n",
        "new_sequences = tokenizer.texts_to_sequences(new_reviews)\n",
        "new_X = pad_sequences(new_sequences, maxlen=max_len, padding=\"post\")\n",
        "new_X\n",
        "\n"
      ]
    },
    {
      "cell_type": "code",
      "execution_count": 169,
      "id": "e6beb8e2",
      "metadata": {},
      "outputs": [
        {
          "name": "stdout",
          "output_type": "stream",
          "text": [
            "\u001b[1m1/1\u001b[0m \u001b[32m━━━━━━━━━━━━━━━━━━━━\u001b[0m\u001b[37m\u001b[0m \u001b[1m0s\u001b[0m 43ms/step\n",
            "\u001b[1m1/1\u001b[0m \u001b[32m━━━━━━━━━━━━━━━━━━━━\u001b[0m\u001b[37m\u001b[0m \u001b[1m0s\u001b[0m 53ms/step\n"
          ]
        },
        {
          "data": {
            "text/plain": [
              "(array([[0]], dtype=int32), array([[0.47223896]], dtype=float32))"
            ]
          },
          "execution_count": 169,
          "metadata": {},
          "output_type": "execute_result"
        }
      ],
      "source": [
        "y_pred = (modelRNN.predict(new_X) > 0.5).astype(\"int32\"), modelRNN.predict(new_X)  # Converte previsões para 0 ou 1\n",
        "y_pred\n"
      ]
    },
    {
      "cell_type": "markdown",
      "id": "ec5700b0",
      "metadata": {
        "id": "ec5700b0"
      },
      "source": [
        "### 3.5 Construindo o Modelo com RNN e Treinando"
      ]
    },
    {
      "cell_type": "code",
      "execution_count": 149,
      "id": "65671589",
      "metadata": {
        "id": "65671589"
      },
      "outputs": [
        {
          "name": "stdout",
          "output_type": "stream",
          "text": [
            "Epoch 1/10\n",
            "\u001b[1m547/547\u001b[0m \u001b[32m━━━━━━━━━━━━━━━━━━━━\u001b[0m\u001b[37m\u001b[0m \u001b[1m16s\u001b[0m 26ms/step - accuracy: 0.5002 - loss: 0.7350 - val_accuracy: 0.5109 - val_loss: 0.6955\n",
            "Epoch 2/10\n",
            "\u001b[1m547/547\u001b[0m \u001b[32m━━━━━━━━━━━━━━━━━━━━\u001b[0m\u001b[37m\u001b[0m \u001b[1m14s\u001b[0m 26ms/step - accuracy: 0.5056 - loss: 0.7164 - val_accuracy: 0.5008 - val_loss: 0.6935\n",
            "Epoch 3/10\n",
            "\u001b[1m547/547\u001b[0m \u001b[32m━━━━━━━━━━━━━━━━━━━━\u001b[0m\u001b[37m\u001b[0m \u001b[1m16s\u001b[0m 29ms/step - accuracy: 0.5050 - loss: 0.6997 - val_accuracy: 0.5037 - val_loss: 0.6930\n",
            "Epoch 4/10\n",
            "\u001b[1m547/547\u001b[0m \u001b[32m━━━━━━━━━━━━━━━━━━━━\u001b[0m\u001b[37m\u001b[0m \u001b[1m15s\u001b[0m 28ms/step - accuracy: 0.5048 - loss: 0.6971 - val_accuracy: 0.4983 - val_loss: 0.6949\n",
            "Epoch 5/10\n",
            "\u001b[1m547/547\u001b[0m \u001b[32m━━━━━━━━━━━━━━━━━━━━\u001b[0m\u001b[37m\u001b[0m \u001b[1m16s\u001b[0m 29ms/step - accuracy: 0.5052 - loss: 0.6964 - val_accuracy: 0.5013 - val_loss: 0.6952\n",
            "Epoch 6/10\n",
            "\u001b[1m547/547\u001b[0m \u001b[32m━━━━━━━━━━━━━━━━━━━━\u001b[0m\u001b[37m\u001b[0m \u001b[1m16s\u001b[0m 29ms/step - accuracy: 0.5000 - loss: 0.6973 - val_accuracy: 0.5023 - val_loss: 0.6956\n",
            "Epoch 7/10\n",
            "\u001b[1m547/547\u001b[0m \u001b[32m━━━━━━━━━━━━━━━━━━━━\u001b[0m\u001b[37m\u001b[0m \u001b[1m15s\u001b[0m 28ms/step - accuracy: 0.5069 - loss: 0.6969 - val_accuracy: 0.4888 - val_loss: 0.6951\n",
            "Epoch 8/10\n",
            "\u001b[1m547/547\u001b[0m \u001b[32m━━━━━━━━━━━━━━━━━━━━\u001b[0m\u001b[37m\u001b[0m \u001b[1m15s\u001b[0m 28ms/step - accuracy: 0.5137 - loss: 0.6957 - val_accuracy: 0.5203 - val_loss: 0.6924\n",
            "Epoch 9/10\n",
            "\u001b[1m547/547\u001b[0m \u001b[32m━━━━━━━━━━━━━━━━━━━━\u001b[0m\u001b[37m\u001b[0m \u001b[1m15s\u001b[0m 27ms/step - accuracy: 0.5172 - loss: 0.6932 - val_accuracy: 0.5131 - val_loss: 0.6931\n",
            "Epoch 10/10\n",
            "\u001b[1m547/547\u001b[0m \u001b[32m━━━━━━━━━━━━━━━━━━━━\u001b[0m\u001b[37m\u001b[0m \u001b[1m15s\u001b[0m 26ms/step - accuracy: 0.5166 - loss: 0.6937 - val_accuracy: 0.5205 - val_loss: 0.6910\n",
            "\u001b[1m235/235\u001b[0m \u001b[32m━━━━━━━━━━━━━━━━━━━━\u001b[0m\u001b[37m\u001b[0m \u001b[1m2s\u001b[0m 8ms/step - accuracy: 0.5156 - loss: 0.6915\n",
            "Loss: 0.6910, Accuracy: 0.5205\n",
            "\u001b[1m1/1\u001b[0m \u001b[32m━━━━━━━━━━━━━━━━━━━━\u001b[0m\u001b[37m\u001b[0m \u001b[1m0s\u001b[0m 178ms/step\n",
            "Review: movie fantastic loved | Sentiment: Negative\n",
            "Review: hated film terrible | Sentiment: Negative\n"
          ]
        }
      ],
      "source": [
        "# Criar o modelo\n",
        "modelRNN = Sequential([\n",
        "    Embedding(input_dim=5000, output_dim=64),  # Camada de Embedding\n",
        "    SimpleRNN(128, return_sequences=False),  # Camada RNN\n",
        "    Dropout(0.5),  # Regularização\n",
        "    Dense(1, activation=\"sigmoid\")  # Camada de saída para classificação binária\n",
        "])\n",
        "\n",
        "# Compilar o modelo\n",
        "modelRNN.compile(optimizer=\"adam\", loss=\"binary_crossentropy\", metrics=[\"accuracy\"])\n",
        "\n",
        "\n",
        "modelRNN.fit(X_train, y_train,epochs=10,batch_size=32,validation_data=(X_test, y_test),verbose=1)\n",
        "\n",
        "\n",
        "# Avaliar no conjunto de teste\n",
        "loss, accuracy = modelRNN.evaluate(X_test, y_test)\n",
        "print(f\"Loss: {loss:.4f}, Accuracy: {accuracy:.4f}\")\n",
        "\n",
        "# Fazer previsões em novas frases\n",
        "new_reviews = [\"The movie was fantastic! I loved it.\", \"I hated the film. It was terrible.\"]\n",
        "new_reviews = [preprocess_text(review) for review in new_reviews]\n",
        "new_sequences = tokenizer.texts_to_sequences(new_reviews)\n",
        "new_X = pad_sequences(new_sequences, maxlen=max_len, padding=\"post\")\n",
        "\n",
        "# Previsões\n",
        "predictions = modelRNN.predict(new_X)\n",
        "for review, pred in zip(new_reviews, predictions):\n",
        "    sentiment = \"Positive\" if pred > 0.5 else \"Negative\"\n",
        "    print(f\"Review: {review} | Sentiment: {sentiment}\")\n",
        "\n",
        "\n"
      ]
    },
    {
      "cell_type": "code",
      "execution_count": 61,
      "id": "f0dc38b2",
      "metadata": {
        "id": "f0dc38b2"
      },
      "outputs": [
        {
          "name": "stdout",
          "output_type": "stream",
          "text": [
            "\u001b[1m235/235\u001b[0m \u001b[32m━━━━━━━━━━━━━━━━━━━━\u001b[0m\u001b[37m\u001b[0m \u001b[1m1s\u001b[0m 5ms/step\n"
          ]
        },
        {
          "data": {
            "image/png": "[encoded data removed]",
            "text/plain": [
              "<Figure size 640x480 with 2 Axes>"
            ]
          },
          "metadata": {},
          "output_type": "display_data"
        }
      ],
      "source": [
        "# Fazer previsões no conjunto de teste\n",
        "y_pred = (modelRNN.predict(X_test) > 0.5).astype(\"int32\")  # Converte previsões para 0 ou 1\n",
        "\n",
        "# Gerar a matriz de confusão\n",
        "cm = confusion_matrix(y_test, y_pred)\n",
        "\n",
        "# Exibir a matriz de confusão\n",
        "disp = ConfusionMatrixDisplay(confusion_matrix=cm, display_labels=[\"Negative\", \"Positive\"])\n",
        "disp.plot(cmap=plt.cm.Blues)\n",
        "plt.title(\"Matriz de Confusão\")\n",
        "plt.show()"
      ]
    },
    {
      "cell_type": "markdown",
      "id": "db761996",
      "metadata": {
        "id": "db761996"
      },
      "source": [
        "### 3.6 Construindo o Modelo com LSTM e Treinando\n",
        "\n",
        "Criar uma arquitetura LSTM para análise de sentimentos."
      ]
    },
    {
      "cell_type": "code",
      "execution_count": 62,
      "id": "155465ee",
      "metadata": {
        "id": "155465ee",
        "scrolled": true
      },
      "outputs": [
        {
          "name": "stdout",
          "output_type": "stream",
          "text": [
            "Epoch 1/10\n",
            "\u001b[1m547/547\u001b[0m \u001b[32m━━━━━━━━━━━━━━━━━━━━\u001b[0m\u001b[37m\u001b[0m \u001b[1m25s\u001b[0m 43ms/step - accuracy: 0.5446 - loss: 0.6829 - val_accuracy: 0.5847 - val_loss: 0.6682\n",
            "Epoch 2/10\n",
            "\u001b[1m547/547\u001b[0m \u001b[32m━━━━━━━━━━━━━━━━━━━━\u001b[0m\u001b[37m\u001b[0m \u001b[1m27s\u001b[0m 50ms/step - accuracy: 0.6811 - loss: 0.6192 - val_accuracy: 0.5320 - val_loss: 0.6970\n",
            "Epoch 3/10\n",
            "\u001b[1m547/547\u001b[0m \u001b[32m━━━━━━━━━━━━━━━━━━━━\u001b[0m\u001b[37m\u001b[0m \u001b[1m24s\u001b[0m 44ms/step - accuracy: 0.6783 - loss: 0.5760 - val_accuracy: 0.8300 - val_loss: 0.4130\n",
            "Epoch 4/10\n",
            "\u001b[1m547/547\u001b[0m \u001b[32m━━━━━━━━━━━━━━━━━━━━\u001b[0m\u001b[37m\u001b[0m \u001b[1m26s\u001b[0m 47ms/step - accuracy: 0.8612 - loss: 0.3521 - val_accuracy: 0.8583 - val_loss: 0.3415\n",
            "Epoch 5/10\n",
            "\u001b[1m547/547\u001b[0m \u001b[32m━━━━━━━━━━━━━━━━━━━━\u001b[0m\u001b[37m\u001b[0m \u001b[1m26s\u001b[0m 48ms/step - accuracy: 0.8985 - loss: 0.2781 - val_accuracy: 0.8629 - val_loss: 0.3380\n",
            "Epoch 6/10\n",
            "\u001b[1m547/547\u001b[0m \u001b[32m━━━━━━━━━━━━━━━━━━━━\u001b[0m\u001b[37m\u001b[0m \u001b[1m24s\u001b[0m 43ms/step - accuracy: 0.9328 - loss: 0.1995 - val_accuracy: 0.8624 - val_loss: 0.3505\n",
            "Epoch 7/10\n",
            "\u001b[1m547/547\u001b[0m \u001b[32m━━━━━━━━━━━━━━━━━━━━\u001b[0m\u001b[37m\u001b[0m \u001b[1m23s\u001b[0m 43ms/step - accuracy: 0.9471 - loss: 0.1692 - val_accuracy: 0.8604 - val_loss: 0.3910\n",
            "Epoch 8/10\n",
            "\u001b[1m547/547\u001b[0m \u001b[32m━━━━━━━━━━━━━━━━━━━━\u001b[0m\u001b[37m\u001b[0m \u001b[1m24s\u001b[0m 43ms/step - accuracy: 0.9638 - loss: 0.1314 - val_accuracy: 0.8597 - val_loss: 0.4651\n",
            "Epoch 9/10\n",
            "\u001b[1m547/547\u001b[0m \u001b[32m━━━━━━━━━━━━━━━━━━━━\u001b[0m\u001b[37m\u001b[0m \u001b[1m24s\u001b[0m 44ms/step - accuracy: 0.9719 - loss: 0.1102 - val_accuracy: 0.8559 - val_loss: 0.4439\n",
            "Epoch 10/10\n",
            "\u001b[1m547/547\u001b[0m \u001b[32m━━━━━━━━━━━━━━━━━━━━\u001b[0m\u001b[37m\u001b[0m \u001b[1m25s\u001b[0m 46ms/step - accuracy: 0.9780 - loss: 0.0866 - val_accuracy: 0.8561 - val_loss: 0.4714\n"
          ]
        },
        {
          "data": {
            "text/plain": [
              "<keras.src.callbacks.history.History at 0x7f115024b9d0>"
            ]
          },
          "execution_count": 62,
          "metadata": {},
          "output_type": "execute_result"
        }
      ],
      "source": [
        "\n",
        "# Criar o modelo\n",
        "model = Sequential([\n",
        "    Embedding(input_dim=5000, output_dim=64),\n",
        "    LSTM(128, return_sequences=False),\n",
        "    Dropout(0.5),\n",
        "    Dense(1, activation=\"sigmoid\")\n",
        "])\n",
        "\n",
        "# Compilar o modelo\n",
        "model.compile(optimizer=\"adam\", loss=\"binary_crossentropy\", metrics=[\"accuracy\"])\n",
        "\n",
        "# Treinar o modelo\n",
        "model.fit(X_train, y_train, epochs=10, batch_size=32, validation_data=(X_test, y_test))\n",
        "\n"
      ]
    },
    {
      "cell_type": "markdown",
      "id": "d26b723b",
      "metadata": {
        "id": "d26b723b"
      },
      "source": [
        "### 3.6 Avaliando o modelo e realizando testes"
      ]
    },
    {
      "cell_type": "code",
      "execution_count": 63,
      "id": "d980e563",
      "metadata": {
        "id": "d980e563",
        "scrolled": true
      },
      "outputs": [
        {
          "name": "stdout",
          "output_type": "stream",
          "text": [
            "\u001b[1m235/235\u001b[0m \u001b[32m━━━━━━━━━━━━━━━━━━━━\u001b[0m\u001b[37m\u001b[0m \u001b[1m4s\u001b[0m 15ms/step - accuracy: 0.8493 - loss: 0.5014\n",
            "Loss: 0.4714, Accuracy: 0.8561\n",
            "\u001b[1m1/1\u001b[0m \u001b[32m━━━━━━━━━━━━━━━━━━━━\u001b[0m\u001b[37m\u001b[0m \u001b[1m0s\u001b[0m 237ms/step\n",
            "Review: movie fantastic loved | Sentiment: Positive\n",
            "Review: hated film terrible | Sentiment: Negative\n"
          ]
        }
      ],
      "source": [
        "# Avaliar no conjunto de teste\n",
        "loss, accuracy = model.evaluate(X_test, y_test)\n",
        "print(f\"Loss: {loss:.4f}, Accuracy: {accuracy:.4f}\")\n",
        "\n",
        "# Testar o modelo em novas avaliações\n",
        "new_reviews = [\"The movie was fantastic! I loved it.\", \"I hated the film. It was terrible.\"]\n",
        "new_reviews = [preprocess_text(review) for review in new_reviews]\n",
        "new_sequences = tokenizer.texts_to_sequences(new_reviews)\n",
        "new_X = pad_sequences(new_sequences, maxlen=max_len, padding=\"post\")\n",
        "\n",
        "# Fazer previsões\n",
        "predictions = model.predict(new_X)\n",
        "for review, pred in zip(new_reviews, predictions):\n",
        "    sentiment = \"Positive\" if pred > 0.5 else \"Negative\"\n",
        "    print(f\"Review: {review} | Sentiment: {sentiment}\")\n"
      ]
    },
    {
      "cell_type": "code",
      "execution_count": 64,
      "id": "2cd07554",
      "metadata": {
        "id": "2cd07554"
      },
      "outputs": [
        {
          "name": "stdout",
          "output_type": "stream",
          "text": [
            "\u001b[1m235/235\u001b[0m \u001b[32m━━━━━━━━━━━━━━━━━━━━\u001b[0m\u001b[37m\u001b[0m \u001b[1m4s\u001b[0m 14ms/step\n"
          ]
        },
        {
          "data": {
            "image/png": "[encoded data removed]",
            "text/plain": [
              "<Figure size 640x480 with 2 Axes>"
            ]
          },
          "metadata": {},
          "output_type": "display_data"
        }
      ],
      "source": [
        "# Fazer previsões no conjunto de teste\n",
        "y_pred = (model.predict(X_test) > 0.5).astype(\"int32\")  # Converte previsões para 0 ou 1\n",
        "\n",
        "# Gerar a matriz de confusão\n",
        "cm = confusion_matrix(y_test, y_pred)\n",
        "\n",
        "# Exibir a matriz de confusão\n",
        "disp = ConfusionMatrixDisplay(confusion_matrix=cm, display_labels=[\"Negative\", \"Positive\"])\n",
        "disp.plot(cmap=plt.cm.Blues)\n",
        "plt.title(\"Matriz de Confusão\")\n",
        "plt.show()"
      ]
    },
    {
      "cell_type": "markdown",
      "id": "179bcf88",
      "metadata": {
        "id": "179bcf88"
      },
      "source": [
        "---"
      ]
    },
    {
      "cell_type": "markdown",
      "id": "b2fb97e5",
      "metadata": {
        "id": "b2fb97e5"
      },
      "source": [
        "## Por que LSTM tende a ser melhor do que RNN simples no problema de análise de sentimentos com o dataset IMDB?\n",
        "\n",
        "## 1. Problemas das RNNs Simples\n",
        "As **RNNs simples** sofrem com algumas limitações fundamentais:\n",
        "\n",
        "### 1.1 Gradiente Desaparecendo ou Explodindo\n",
        "- RNNs usam a propagação do gradiente para ajustar os pesos em cada iteração.\n",
        "- Em sequências longas, os gradientes podem se tornar muito pequenos (**desaparecer**) ou muito grandes (**explodir**), o que dificulta o aprendizado eficiente.\n",
        "- Isso faz com que RNNs tenham dificuldades em capturar dependências de longo prazo entre palavras.\n",
        "\n",
        "### 1.2 Memória de Curto Prazo\n",
        "- As RNNs simples têm dificuldade para lembrar informações de etapas muito anteriores na sequência.\n",
        "- Por exemplo, em uma frase longa, uma RNN simples pode esquecer informações importantes do início da frase que influenciam o sentimento geral.\n",
        "\n",
        "---\n",
        "\n",
        "## 2. Vantagens do LSTM\n",
        "Os LSTMs foram projetados para resolver os problemas mencionados acima, e isso os torna mais eficazes em tarefas como análise de sentimentos, especialmente com o dataset IMDB, que possui textos longos e complexos.\n",
        "\n",
        "### 2.1 Estrutura Interna do LSTM\n",
        "O LSTM introduz três tipos de **portas** que controlam o fluxo de informações:\n",
        "\n",
        "1. **Porta de Esquecimento**: Decide quais informações devem ser descartadas da memória.\n",
        "2. **Porta de Entrada**: Determina quais novas informações devem ser armazenadas na memória.\n",
        "3. **Porta de Saída**: Decide quais informações da memória serão usadas para calcular a saída.\n",
        "\n",
        "Essas portas permitem que o LSTM:\n",
        "- Retenha informações importantes por longos períodos.\n",
        "- Esqueça informações irrelevantes de forma controlada.\n",
        "\n",
        "### 2.2 Captura de Dependências de Longo Prazo\n",
        "- O LSTM consegue aprender dependências de palavras que estão distantes na sequência.\n",
        "- Por exemplo, na frase:\n",
        "  > \"Embora o início tenha sido lento, o filme foi incrível e emocionante no final.\"\n",
        "  - O sentimento positivo (\"incrível e emocionante\") depende da parte final da frase, mas uma RNN simples pode esquecer o início e fazer uma classificação incorreta.\n",
        "\n",
        "### 2.3 Robustez para Textos Longos\n",
        "- O dataset IMDB contém resenhas de filmes que podem ser bastante longas.\n",
        "- O LSTM consegue processar essas sequências maiores sem perder a conexão semântica entre as palavras.\n",
        "\n",
        "---\n",
        "\n",
        "## 3. Resultados Práticos no Dataset IMDB\n",
        "\n",
        "### 3.1 Precisão Maior\n",
        "Estudos mostram que modelos baseados em LSTM frequentemente superam RNNs simples no dataset IMDB, com diferenças significativas de precisão. Isso ocorre porque os LSTMs:\n",
        "- Classificam corretamente textos longos com nuances complexas de sentimentos.\n",
        "- Fazem uso eficiente de informações distribuídas ao longo da sequência.\n",
        "\n",
        "### 3.2 Menor Overfitting\n",
        "- Com técnicas como **Dropout**, os LSTMs conseguem generalizar melhor em conjuntos de teste.\n",
        "- As RNNs simples tendem a memorizar padrões locais e sofrem mais com overfitting.\n",
        "\n",
        "---\n",
        "\n",
        "## 4. Quando Usar LSTM ao Invés de RNN\n",
        "Use LSTM nos seguintes casos:\n",
        "- Sequências longas (ex.: análises de sentimentos, traduções automáticas, séries temporais).\n",
        "- Dependências de longo prazo entre elementos da sequência.\n",
        "- Tarefas onde a ordem e o contexto das palavras são cruciais para o entendimento.\n",
        "\n",
        "RNNs simples podem ser suficientes para:\n",
        "- Sequências curtas com padrões locais simples.\n",
        "- Cenários onde o custo computacional é uma preocupação.\n",
        "\n",
        "---\n",
        "\n",
        "## Resumo\n",
        "- O LSTM resolve problemas de curto prazo e gradientes desaparecendo em RNNs simples.\n",
        "- Sua estrutura de portas é especialmente útil para capturar dependências de longo prazo em textos, como os do dataset IMDB.\n",
        "- Em problemas de análise de sentimentos com textos longos e complexos, os LSTMs são mais robustos, eficazes e produzem melhores resultados do que RNNs simples.\n"
      ]
    },
    {
      "cell_type": "markdown",
      "id": "e38b06b2",
      "metadata": {
        "id": "e38b06b2"
      },
      "source": [
        "---"
      ]
    }
  ],
  "metadata": {
    "colab": {
      "provenance": []
    },
    "kernelspec": {
      "display_name": "my_projects",
      "language": "python",
      "name": "python3"
    },
    "language_info": {
      "codemirror_mode": {
        "name": "ipython",
        "version": 3
      },
      "file_extension": ".py",
      "mimetype": "text/x-python",
      "name": "python",
      "nbconvert_exporter": "python",
      "pygments_lexer": "ipython3",
      "version": "3.9.16"
    }
  },
  "nbformat": 4,
  "nbformat_minor": 5
}
