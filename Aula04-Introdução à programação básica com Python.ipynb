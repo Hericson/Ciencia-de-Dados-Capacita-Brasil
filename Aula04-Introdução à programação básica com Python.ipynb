{
 "cells": [
  {
   "cell_type": "markdown",
   "id": "1c9b4dd2",
   "metadata": {
    "id": "1c9b4dd2"
   },
   "source": [
    "![aula04_capa.png](./figuras/aula04_capa.png)"
   ]
  },
  {
   "cell_type": "markdown",
   "id": "ec8519cf",
   "metadata": {
    "id": "ec8519cf"
   },
   "source": [
    "# Vamos estudar agora a sintaxe da linguagem Python"
   ]
  },
  {
   "cell_type": "markdown",
   "id": "c8bdb5ca",
   "metadata": {
    "id": "c8bdb5ca"
   },
   "source": [
    "## 1.Comentários"
   ]
  },
  {
   "cell_type": "code",
   "execution_count": 16,
   "id": "f012c35c",
   "metadata": {
    "colab": {
     "base_uri": "https://localhost:8080/",
     "height": 53
    },
    "executionInfo": {
     "elapsed": 345,
     "status": "ok",
     "timestamp": 1730822000168,
     "user": {
      "displayName": "Alyson Bezerra",
      "userId": "16159016313530675501"
     },
     "user_tz": 180
    },
    "id": "f012c35c",
    "outputId": "3ea537bb-2b31-4665-e0b4-f96a68aa4ceb"
   },
   "outputs": [
    {
     "data": {
      "text/plain": [
       "'\\nComentário de múltiplias linhas\\n\\nO método a seguir recebe como parâmetros as variáveis a,b\\nEsse processa a soma de a e b dados como entrada\\nA saída é um número inteiro.\\n'"
      ]
     },
     "execution_count": 16,
     "metadata": {},
     "output_type": "execute_result"
    }
   ],
   "source": [
    "# Comentário de uma única linha\n",
    "\n",
    "# A variável a representa a temperatura de uma mistura no processo de produção de uma peça\n",
    "a = 23.5\n",
    "\n",
    "\n",
    "'''\n",
    "Comentário de múltiplias linhas\n",
    "\n",
    "O método a seguir recebe como parâmetros as variáveis a,b\n",
    "Esse processa a soma de a e b dados como entrada\n",
    "A saída é um número inteiro.\n",
    "'''"
   ]
  },
  {
   "cell_type": "markdown",
   "id": "7b2700d4",
   "metadata": {
    "id": "7b2700d4"
   },
   "source": [
    "# 2.Input e Print\n",
    "***"
   ]
  },
  {
   "cell_type": "markdown",
   "id": "0bc5b914",
   "metadata": {
    "id": "0bc5b914"
   },
   "source": [
    "A função **input()** espera que o usuário digite alguma coisa para armazenar em alguma variável\n",
    "\n",
    "A função **input()** sempre retorna uma string, se a gente quer que o usuário digite um número precisamos converter essas string para um tipo inteiro com a função **int()**\n",
    "\n",
    "Para imprimir vários elementos em uma única linha usamos a função **split** para quebrar nos espaços em brancos ou virgula ou qualquer caractere definido na função. Depois só converter de string para o tipo certo da variável"
   ]
  },
  {
   "cell_type": "code",
   "execution_count": 19,
   "id": "0c62e2d6",
   "metadata": {
    "id": "0c62e2d6"
   },
   "outputs": [
    {
     "name": "stdout",
     "output_type": "stream",
     "text": [
      "O nome digitado pelo usuário foi Hericson\n",
      "Hericson tem 30 anos e nasceu em 1994\n",
      "Hericson tem 30 anos e a sua temperatura na chegada foi 24.5\n"
     ]
    }
   ],
   "source": [
    "# Usuário irá digitar o nome e o nome será armazenado na variável nome\n",
    "nome = input(\"Insira seu nome:\")\n",
    "print(f\"O nome digitado pelo usuário foi {nome}\")\n",
    "\n",
    "# Usuário irá digitar a idade e o valor será armazenado na variável age em forma número inteiro\n",
    "idade = int(input(\"Insira sua idade:\\n\")) # coerção / casting explícito\n",
    "\n",
    "# Usuário irá digitar a temperatura e o valor será armazenado na variável temperatura em forma número ponto flutuante\n",
    "#(float)\n",
    "\n",
    "temperatura = float(input(\"Informe a Temperatura\"))\n",
    "\n",
    "# Imprime o nome, a idade e o ano de nascimento da pessoa considerando estar em 2024\n",
    "print(nome, \"tem\", idade, \"anos e nasceu em\", 2024-idade)\n",
    "\n",
    "print(f\"{nome} tem {idade} anos e a sua temperatura na chegada foi {temperatura}\")"
   ]
  },
  {
   "cell_type": "code",
   "execution_count": 20,
   "id": "b17b2ff2",
   "metadata": {},
   "outputs": [
    {
     "name": "stdout",
     "output_type": "stream",
     "text": [
      "Hericson tem 30 anos e nasceu em 1994\n"
     ]
    }
   ],
   "source": [
    "print(f\"{nome} tem {idade} anos e nasceu em {2024-idade}\")"
   ]
  },
  {
   "cell_type": "code",
   "execution_count": null,
   "id": "9e3105a4",
   "metadata": {},
   "outputs": [],
   "source": [
    "data_science = 10\n",
    "\n",
    "x = 0\n",
    "y = 0\n",
    "z = 0\n",
    "\n",
    "x = y = z = 0\n",
    "\n",
    "x = 10\n",
    "x = 'oi'"
   ]
  },
  {
   "cell_type": "markdown",
   "id": "55b71ec8",
   "metadata": {
    "id": "55b71ec8"
   },
   "source": [
    "# 3. Variáveis"
   ]
  },
  {
   "cell_type": "markdown",
   "id": "d11a9ea2",
   "metadata": {
    "id": "d11a9ea2"
   },
   "source": [
    "O sinal de $=$ é um sinal de atribuição\n",
    "\n",
    "Podemos criar quantas variáveis quiser\n",
    "\n",
    "$x = y = z = 0$, todas as variaveis vão zerar\n",
    "\n",
    "No python não precisa especificar o tipo de variável como em outras linguagens.\n",
    "\n",
    "Python tudo é objeto\n",
    "\n",
    "Em python o valor não é atribuido a variável, sim a variável é atribuido ao valor, já que tudo no python é objetos, a variável irá apontar para a referência do objeto na memória, logo o objeto é criado na memória e depois o variavel é atribuido a ele, podemos pensar nas variáveis como **Rótulos** que será atribuido a um valor, por exemplo, o objeto 23 vou inserir o rotulo idade nele, logo 23 tem um rótulo chamado idade, por isso python consegue atribuir rotulos a funções e etc...\n",
    "\n",
    "```\n",
    "idade = 23\n",
    "imprimir = print\n",
    "imprimir(\"Oi eu sou a função print!\")\n",
    "```"
   ]
  },
  {
   "cell_type": "code",
   "execution_count": null,
   "id": "edb0c69c",
   "metadata": {},
   "outputs": [],
   "source": [
    "# data_science_course (snake case)\n",
    "# dataScienceCourse = (camel case)\n",
    "\n",
    "método = 10\n"
   ]
  },
  {
   "cell_type": "markdown",
   "id": "c766dff0",
   "metadata": {
    "id": "c766dff0"
   },
   "source": [
    "***\n",
    "### 3.1 Regras de nomeclatura de variáveis\n",
    "***"
   ]
  },
  {
   "cell_type": "markdown",
   "id": "854a95ab",
   "metadata": {
    "id": "854a95ab"
   },
   "source": [
    "1. Não posso escrever nome da variável com espaço\n",
    "\n",
    "2. Não posso usar caracteres especiais para criar variáveis, por exemplo ```#,!,,$,%,&,...```\n",
    "\n",
    "3. Pode usar acentos e **ç** nas variáveis, porém não é uma boa prática\n",
    "\n",
    "4. Crie variáveis e códigos sempre em ingles, boas práticas\n",
    "\n",
    "5. Pode-se usar underline **_** no nome das variáveis, snake, boa prática, porém se quiser usar camelCase também pode\n",
    "\n",
    "6. Não se pode nomear variáves com nomes chaves da linguagem, por exemplo, **class**, **while**, **for**...\n",
    "\n",
    "7. Não use nomes como **int**, **float**, **print**, **sum** e etc... , não é uma boa prática"
   ]
  },
  {
   "cell_type": "markdown",
   "id": "0f02033a",
   "metadata": {
    "id": "0f02033a"
   },
   "source": [
    "***\n",
    "### 3.2 Tipos de Variáveis no Python\n",
    "***"
   ]
  },
  {
   "cell_type": "code",
   "execution_count": 23,
   "id": "a0fce55c",
   "metadata": {
    "id": "a0fce55c"
   },
   "outputs": [
    {
     "name": "stdout",
     "output_type": "stream",
     "text": [
      "<class 'int'>\n",
      "<class 'int'>\n",
      "<class 'float'>\n",
      "<class 'float'>\n",
      "<class 'str'>\n",
      "<class 'str'>\n",
      "<class 'bool'>\n",
      "<class 'bool'>\n"
     ]
    }
   ],
   "source": [
    "# Vamos criar o rótulo idade para o objeto 23 da classe int\n",
    "idade = 23\n",
    "# Vamos criar o rótulo temperatura para o objeto 36.5 da classe float\n",
    "temperatura = 36.5\n",
    "# Vamos criar o rótulo texto para o objeto \"Boa noite\" da classe str\n",
    "texto = \"Boa noite\"\n",
    "# Vamos criar o rótulo conectado para o objeto True da classe bool\n",
    "conectado = True\n",
    "\n",
    "print(type(23))\n",
    "print(type(idade))\n",
    "print(type(36.5))\n",
    "print(type(temperatura))\n",
    "print(type(\"Boa noite\"))\n",
    "print(type(texto))\n",
    "print(type(True))\n",
    "print(type(conectado))"
   ]
  },
  {
   "cell_type": "code",
   "execution_count": 24,
   "id": "a580aa8a",
   "metadata": {
    "id": "a580aa8a"
   },
   "outputs": [
    {
     "name": "stdout",
     "output_type": "stream",
     "text": [
      "Oi eu sou o print do número 100\n",
      "<class 'builtin_function_or_method'>\n",
      "Boa noite!\n"
     ]
    }
   ],
   "source": [
    "# Vamos rotular a função print (Função como Rótulo)\n",
    "imprimir = print\n",
    "imprimir (f\"Oi eu sou o print do número {100}\")\n",
    "print(type(imprimir))\n",
    "\n",
    "imprimir(\"Boa noite!\")"
   ]
  },
  {
   "cell_type": "code",
   "execution_count": 27,
   "id": "81d0b4bd",
   "metadata": {},
   "outputs": [
    {
     "name": "stdout",
     "output_type": "stream",
     "text": [
      "ciência de dados\n"
     ]
    }
   ],
   "source": [
    "imprimir('ciência de dados')"
   ]
  },
  {
   "cell_type": "code",
   "execution_count": 5,
   "id": "798740d1",
   "metadata": {
    "id": "798740d1"
   },
   "outputs": [
    {
     "name": "stdout",
     "output_type": "stream",
     "text": [
      "[1, 2, 3, 4]\n"
     ]
    }
   ],
   "source": [
    "# Vamos criar o rótulo list1 para o objeto da classe list\n",
    "list1 = [1, 2, 3, 4]\n",
    "print(list1)"
   ]
  },
  {
   "cell_type": "code",
   "execution_count": 6,
   "id": "1c03e62e",
   "metadata": {
    "id": "1c03e62e"
   },
   "outputs": [
    {
     "name": "stdout",
     "output_type": "stream",
     "text": [
      "[1, 2, 3, 4]\n",
      "[1, 2, 3, 4]\n"
     ]
    }
   ],
   "source": [
    "# Vamos criar um novo rotulo para o mesmo objeto da classe list\n",
    "list2 = list1\n",
    "print(list2)\n",
    "print(list1)"
   ]
  },
  {
   "cell_type": "code",
   "execution_count": 28,
   "id": "6f53fd9f",
   "metadata": {
    "id": "6f53fd9f"
   },
   "outputs": [
    {
     "name": "stdout",
     "output_type": "stream",
     "text": [
      "[10, 2, 4, 4]\n",
      "[10, 2, 3, 4]\n"
     ]
    }
   ],
   "source": [
    "# Vamos modificar o valor da list2 e isso modificará o valor da list1 automaticamente\n",
    "# Pois ambos os rótulos estão referenciando o mesmo objeto na memória\n",
    "list2[0] = 10\n",
    "print(list2)\n",
    "print(list1)"
   ]
  },
  {
   "cell_type": "code",
   "execution_count": 29,
   "id": "28f9cb25",
   "metadata": {
    "id": "28f9cb25"
   },
   "outputs": [
    {
     "name": "stdout",
     "output_type": "stream",
     "text": [
      "[10, 2, 3, 4]\n",
      "[10, 2, 4, 4]\n"
     ]
    }
   ],
   "source": [
    "# Para que isso não aconteça temos que fazer uma cópia do objeto\n",
    "list2 = list1.copy()\n",
    "list2[2] = 4\n",
    "print(list1)\n",
    "print(list2)"
   ]
  },
  {
   "cell_type": "code",
   "execution_count": 32,
   "id": "0308630b",
   "metadata": {
    "id": "0308630b"
   },
   "outputs": [
    {
     "name": "stdout",
     "output_type": "stream",
     "text": [
      "Pegando o primeiro caracter do texto: B\n",
      "Pegando o último caracter do texto: e\n",
      "Pegando o penúltimo caractere do texto: t\n"
     ]
    }
   ],
   "source": [
    "# Para strings temos a mesma ideia do acesso de elementos de uma lista\n",
    "texto = \"Boa noite\"\n",
    "print(f\"Pegando o primeiro caracter do texto: {texto[0]}\")\n",
    "\n",
    "print(f\"Pegando o último caracter do texto: {texto[-1]}\")\n",
    "\n",
    "print(f\"Pegando o penúltimo caractere do texto: {texto[-2]}\")\n",
    "\n"
   ]
  },
  {
   "cell_type": "markdown",
   "id": "402de880",
   "metadata": {
    "id": "402de880"
   },
   "source": [
    "***\n",
    "### 3.3 Comparações\n",
    "***"
   ]
  },
  {
   "cell_type": "markdown",
   "id": "6cd5ef79",
   "metadata": {
    "id": "6cd5ef79"
   },
   "source": [
    "Variáveis booleanas são variáveis que possuem dois valores constantes, **false** que significa falso e **true** que significa verdadeiro\n",
    "\n",
    "Em binario ou linguagem de máquina são considerado os valores **1** para true e **0** para false\n",
    "\n",
    "Usados para verificar se determinadas condições do meu programa são verdadeiras ou falsas\n",
    "\n",
    "A função **bool()** pega um determinado valor passado como parâmetro e ele retorna se o valor é **True** ou **False**\n",
    "\n",
    "Verdadeiro é todo valor que o python não considera como vazio, valores vazios são: **None**, **False**, **[]**, **{}**, **()**, **”**, , **0** e **0.0**\n",
    "\n",
    "**Operadores de comparação**:\n",
    "\n",
    "  - $<$: Menor\n",
    "  - $>$: Maior\n",
    "  - $<=$: Menor ou igual\n",
    "  - $>=$: Maior ou igual\n",
    "  - $==$: Igual\n",
    "  - $!=$: Diferente"
   ]
  },
  {
   "cell_type": "code",
   "execution_count": 34,
   "id": "53bc6fde",
   "metadata": {
    "id": "53bc6fde"
   },
   "outputs": [
    {
     "name": "stdout",
     "output_type": "stream",
     "text": [
      "20 > 15 : True\n",
      "20 == 15 : False\n",
      "20 != 15 : True\n"
     ]
    }
   ],
   "source": [
    "numero1 = int(input(\"Insira o primeiro número: \"))\n",
    "numero2 = int(input(\"Insira o segundo número: \"))\n",
    "\n",
    "testeMaior = numero1 > numero2\n",
    "print(numero1, \">\", numero2, \":\", testeMaior)\n",
    "\n",
    "print(numero1, \"==\", numero2, \":\", numero1 == numero2)\n",
    "\n",
    "print(numero1, \"!=\", numero2, \":\", numero1 != numero2)"
   ]
  },
  {
   "cell_type": "markdown",
   "id": "303de798",
   "metadata": {
    "id": "303de798"
   },
   "source": [
    "***\n",
    "### 3.4 Strings\n",
    "***"
   ]
  },
  {
   "cell_type": "markdown",
   "id": "80768a79",
   "metadata": {
    "id": "80768a79"
   },
   "source": [
    "String vem entre \"aspas duplas\" ou 'aspas simples'\n",
    "\n",
    "Se for inserir uma string dentro de outra use string diferente por exemplo: \"aspas duplas com 'aspas simples'\" e vise versa\n",
    "\n",
    "String é uma lista de caracteres: victor = 'v'+'i'+'c'+'t'+'o'+'r'\n",
    "\n",
    "String é uma tupla, ela é imutavel, você não pode fazer: \"Victor\"[1] = 'a'\n",
    "\n",
    "Quase tudo que faço com uma tupla consigo fazer com strings"
   ]
  },
  {
   "cell_type": "code",
   "execution_count": 37,
   "id": "1d54dad3",
   "metadata": {
    "id": "1d54dad3"
   },
   "outputs": [
    {
     "name": "stdout",
     "output_type": "stream",
     "text": [
      "Hoje irei ao Curso\n",
      "Hoje irei ao Curso\n",
      "Eu vi o aquele gol 3 vezes\n",
      "6\n",
      "\n",
      "Boa noite!\n",
      "\n",
      "Gostaria de solicitar.......\n",
      "\n",
      "\n",
      "Att,\n",
      "\n",
      "\n"
     ]
    }
   ],
   "source": [
    "# Concatenar strings\n",
    "string1 = \"Hoje irei ao \"\n",
    "string2 = \"Curso\"\n",
    "print(string1 + string2)\n",
    "\n",
    "print(f\"{string1}{string2}\")\n",
    "\n",
    "# Para inserir um número em uma string use a função str(valor)\n",
    "a = 3\n",
    "print(\"Eu vi o aquele gol \" + str(a) + \" vezes\")\n",
    "\n",
    "# O len() devolve o número de caracteres que a frase possui\n",
    "print(len(\"Victor\"))\n",
    "\n",
    "# Uma string pode considerar como o texto completo usando aspas triplas\n",
    "minhaString = '''\n",
    "Boa noite!\n",
    "\n",
    "Gostaria de solicitar.......\n",
    "\n",
    "\n",
    "Att,\n",
    "\n",
    "'''\n",
    "\n",
    "print(minhaString)"
   ]
  },
  {
   "cell_type": "markdown",
   "id": "984b3a4d",
   "metadata": {
    "id": "984b3a4d"
   },
   "source": [
    "# 4. Estrutura de Dados"
   ]
  },
  {
   "cell_type": "markdown",
   "id": "5331bcfa",
   "metadata": {
    "id": "5331bcfa"
   },
   "source": [
    "***\n",
    "### 4.1 Listas\n",
    "***"
   ]
  },
  {
   "cell_type": "markdown",
   "id": "34f39661",
   "metadata": {
    "id": "34f39661"
   },
   "source": [
    "Para criar uma lista é só colocar a sequência de elementos entre colchetes []\n",
    "\n",
    "A função print consegue imprimir uma lista\n",
    "\n",
    "A lista pode misturar números inteiros, reais, strings, outras listas e etc\n",
    "\n",
    "Indices negativos conta a lista de trás para frente, o indice 0 é o primeiro elemento da lista e o -1 é o ultimo elemento\n",
    "\n",
    "**Técnica slice**: permite que você percorra elementos de uma lista criando outra lista a partir desses elementos\n",
    "\n",
    "  - Se tentar percorrer uma lista na qual o $x > y$ retornará uma lista vazia\n",
    "    \n",
    "  - Duplo slice percorre de um elemento tal até um elemento tal com passos tal -> ```lista[::]```\n",
    "    \n",
    "  - Você pode atribuir o retorno do slice ou a sub-lista criada para uma variável\n",
    "\n",
    "Para obter um elemento de uma lista dentro de outra é só achar o indice da lista interna e inserir o indice do elemento\n",
    "\n",
    "Podemos somar duas lista, isso irá adicionar os elementos da segunda lista na primeira\n",
    "\n",
    "Vale lembrar que a lista começa no 0"
   ]
  },
  {
   "cell_type": "code",
   "execution_count": 39,
   "id": "6a07685a",
   "metadata": {
    "id": "6a07685a"
   },
   "outputs": [
    {
     "name": "stdout",
     "output_type": "stream",
     "text": [
      "[1, 2, 3, 4, 5]\n",
      "[]\n",
      "['José', 'Maria']\n"
     ]
    }
   ],
   "source": [
    "# Cria a lista\n",
    "lista = [1, 2, 3, 4, 5]\n",
    "nomes = []\n",
    "\n",
    "print(lista)\n",
    "print(nomes)\n",
    "\n",
    "# Add elemento ao final da lista\n",
    "nome = input(\"Digite um nome para ser adicionado na lista:\\n\")\n",
    "nomes.append(nome)\n",
    "\n",
    "nomes.append('Maria')\n",
    "\n",
    "print(nomes)"
   ]
  },
  {
   "cell_type": "code",
   "execution_count": 40,
   "id": "7b9d4053",
   "metadata": {
    "id": "7b9d4053"
   },
   "outputs": [
    {
     "name": "stdout",
     "output_type": "stream",
     "text": [
      "3\n",
      "JoséMaria\n"
     ]
    }
   ],
   "source": [
    "# \"Soma\" o primeiro e o segundo elemento da lista\n",
    "print(lista[0]+lista[1])\n",
    "print(nomes[0]+nomes[1])"
   ]
  },
  {
   "cell_type": "code",
   "execution_count": 43,
   "id": "8c0ea756",
   "metadata": {},
   "outputs": [
    {
     "data": {
      "text/plain": [
       "'windows_exe_pdf'"
      ]
     },
     "execution_count": 43,
     "metadata": {},
     "output_type": "execute_result"
    }
   ],
   "source": [
    "aplicativos = 'windows.exe.pdf' #Modificcar o '.' por um '_'ArithmeticError\n",
    "aplicativos.replace('.', '_')"
   ]
  },
  {
   "cell_type": "code",
   "execution_count": null,
   "id": "899b606a",
   "metadata": {
    "id": "899b606a"
   },
   "outputs": [
    {
     "name": "stdout",
     "output_type": "stream",
     "text": [
      "Mizzizzipi\n",
      "['uva']\n",
      "['maçã', 'banana', 'laranja', 'manga']\n",
      "['maçã', 'laranja', 'banana']\n",
      "['maçã', 'laranja']\n",
      "laranja\n",
      "['maçã']\n",
      "1\n",
      "2\n",
      "[]\n"
     ]
    }
   ],
   "source": [
    "# Funções sobre listas\n",
    "\n",
    "# replace: é um método utilizado para substituir partes de uma string por outra.\n",
    "print('Mississipi'.replace('ss', 'zz'))\n",
    "\n",
    "frutas = []\n",
    "\n",
    "frutas.insert(1, \"uva\")  # Insere \"uva\" na posição 1\n",
    "print(frutas)\n",
    "\n",
    "frutas = [\"maçã\", \"banana\"]\n",
    "outras_frutas = [\"laranja\", \"manga\"]\n",
    "\n",
    "frutas.extend(outras_frutas) # Junta as listas em uma só\n",
    "print(frutas)\n",
    "\n",
    "frutas = [\"maçã\", \"banana\", \"laranja\", \"banana\"]\n",
    "frutas.remove(\"banana\") # Remove a primeira ocorrência de um item na lista.\n",
    "print(frutas)\n",
    "\n",
    "frutas = [\"maçã\", \"banana\", \"laranja\"]\n",
    "frutas.pop(1)  # Remove o item no índice 1 ('banana')\n",
    "print(frutas)\n",
    "\n",
    "# Sem índice, remove o último elemento\n",
    "ultimo = frutas.pop()\n",
    "print(ultimo)\n",
    "print(frutas)\n",
    "\n",
    "frutas = [\"maçã\", \"banana\", \"laranja\"]\n",
    "indice = frutas.index(\"banana\") # Retorna o índice da primeira ocorrência de um item na lista.\n",
    "print(indice)\n",
    "\n",
    "frutas = [\"maçã\", \"banana\", \"laranja\", \"banana\"]\n",
    "contagem = frutas.count(\"banana\") # Conta o número de ocorrências de um item na lista.\n",
    "print(contagem)\n",
    "\n",
    "frutas = [\"maçã\", \"banana\", \"laranja\"]\n",
    "frutas.clear() # Remove todos os elementos da lista, deixando-a vazia.\n",
    "print(frutas)"
   ]
  },
  {
   "cell_type": "code",
   "execution_count": 45,
   "id": "3497874a",
   "metadata": {},
   "outputs": [
    {
     "data": {
      "text/plain": [
       "[1, 2, 3, 4, 5]"
      ]
     },
     "execution_count": 45,
     "metadata": {},
     "output_type": "execute_result"
    }
   ],
   "source": [
    "lista"
   ]
  },
  {
   "cell_type": "code",
   "execution_count": 46,
   "id": "f33a10ab",
   "metadata": {
    "id": "f33a10ab"
   },
   "outputs": [
    {
     "name": "stdout",
     "output_type": "stream",
     "text": [
      "[1, 2, 3]\n",
      "[1, 3]\n",
      "[1, 2, 3]\n",
      "[4, 5]\n"
     ]
    }
   ],
   "source": [
    "# Percorre a lista do primeiro elemento até o terceiro\n",
    "print(lista[0:3])\n",
    "\n",
    "# Percorre a lista do primeiro elemento até o quarto de dois em dois\n",
    "print(lista[0:4:2])\n",
    "\n",
    "# Percorre do inicio da lista até o elemento 3\n",
    "print(lista[:3])\n",
    "\n",
    "# Percorre do elemento 3 até o final da lista\n",
    "print(lista[3:])"
   ]
  },
  {
   "cell_type": "code",
   "execution_count": 51,
   "id": "5e68ed3b",
   "metadata": {
    "id": "5e68ed3b"
   },
   "outputs": [
    {
     "name": "stdout",
     "output_type": "stream",
     "text": [
      "[[[1, 2], [3, 4]], [5, 6]]\n",
      "[1, 2]\n",
      "1\n"
     ]
    }
   ],
   "source": [
    "# Cria a lista de listas\n",
    "lista = [[[1,2],[3,4]],[5,6]]\n",
    "\n",
    "# Imprime a lista de listas\n",
    "print(lista)\n",
    "\n",
    "# Imprime a lista com indice 0 dentro da lista com indice 0 dentro da lista principal\n",
    "print(lista[0][0])\n",
    "\n",
    "# Imprime o elemento dentro da lista com indice 0 ..\n",
    "print(lista[0][0][0])"
   ]
  },
  {
   "cell_type": "code",
   "execution_count": 53,
   "id": "9eaaccd2",
   "metadata": {
    "id": "9eaaccd2"
   },
   "outputs": [
    {
     "name": "stdout",
     "output_type": "stream",
     "text": [
      "1 2 3\n",
      "1 2\n"
     ]
    }
   ],
   "source": [
    "# Desempacotamento\n",
    "x, y, z = [1, 2, 3]\n",
    "print(x, y, z)\n",
    "\n",
    "# Descartando o 3º elemento com _\n",
    "x, y, _ = [1, 2, 3]\n",
    "print(x, y)"
   ]
  },
  {
   "cell_type": "markdown",
   "id": "647bd6a7",
   "metadata": {
    "id": "647bd6a7"
   },
   "source": [
    "***\n",
    "### 4.2 Tuplas\n",
    "***"
   ]
  },
  {
   "cell_type": "markdown",
   "id": "f9a559c1",
   "metadata": {
    "id": "f9a559c1"
   },
   "source": [
    "Tuplas em Python são estruturas de dados semelhantes a listas, mas com uma diferença fundamental: são imutáveis. Isso significa que, uma vez criada, a tupla não pode ser alterada (não é possível adicionar, remover ou modificar elementos). Essa imutabilidade faz das tuplas uma escolha ideal para dados que não devem ser modificados, como coordenadas, configurações e dados constantes."
   ]
  },
  {
   "cell_type": "code",
   "execution_count": 54,
   "id": "36d0f4fc",
   "metadata": {
    "id": "36d0f4fc"
   },
   "outputs": [
    {
     "name": "stdout",
     "output_type": "stream",
     "text": [
      "(1, 2, 3, 4)\n",
      "(5, 6, 7)\n",
      "banana\n",
      "10\n",
      "20\n",
      "(1, 2, 3, 4, 5)\n",
      "('a', 'b', 'a', 'b', 'a', 'b')\n",
      "3\n",
      "2\n"
     ]
    }
   ],
   "source": [
    "# Criando uma tupla\n",
    "tupla = (1, 2, 3, 4)\n",
    "print(tupla)\n",
    "\n",
    "# Tupla sem parênteses\n",
    "tupla = 5, 6, 7\n",
    "print(tupla)\n",
    "\n",
    "# Os elementos de uma tupla são acessados por índices, assim como em listas.\n",
    "tupla = ('maçã', 'banana', 'laranja')\n",
    "print(tupla[1])\n",
    "\n",
    "# Tuplas são muito úteis para \"desempacotar\" valores em múltiplas variáveis de forma prática.\n",
    "coordenadas = (10, 20)\n",
    "x, y = coordenadas\n",
    "print(x)\n",
    "print(y)\n",
    "\n",
    "# Concatenação\n",
    "tupla1 = (1, 2, 3)\n",
    "tupla2 = (4, 5)\n",
    "tupla3 = tupla1 + tupla2\n",
    "print(tupla3)\n",
    "\n",
    "# Podemos repetir os elementos da tupla usando o operador *\n",
    "tupla = ('a', 'b') * 3\n",
    "print(tupla)  # Saída: ('a', 'b', 'a', 'b', 'a', 'b')\n",
    "\n",
    "# Conta quantas vezes um valor específico aparece na tupla.\n",
    "tupla = (1, 2, 2, 3, 2, 4)\n",
    "print(tupla.count(2))\n",
    "\n",
    "# Retorna o índice da primeira ocorrência de um valor específico.\n",
    "tupla = (10, 20, 30, 40)\n",
    "print(tupla.index(30))  # Saída: 2"
   ]
  },
  {
   "cell_type": "markdown",
   "id": "56f6b366",
   "metadata": {
    "id": "56f6b366"
   },
   "source": [
    "***\n",
    "### 4.3 Dicionários\n",
    "***"
   ]
  },
  {
   "cell_type": "markdown",
   "id": "56406ccc",
   "metadata": {
    "id": "56406ccc"
   },
   "source": [
    "Dicionario é uma lista com chave e valor, segue a mesma lógica dos dicionarios da vida real, temos um termo que é a chave e o seu significado que é o valor"
   ]
  },
  {
   "cell_type": "code",
   "execution_count": 56,
   "id": "51713a5a",
   "metadata": {
    "id": "51713a5a"
   },
   "outputs": [
    {
     "name": "stdout",
     "output_type": "stream",
     "text": [
      "Pedro\n",
      "99283945\n",
      "pedro@gmail.com\n",
      "{'nome': 'Pedro Morais', 'telefone': 99283945, 'email': 'pedro@gmail.com', 'nova_chave': 'novo valor'}\n",
      "Função tal\n",
      "3.1416\n",
      "(1, 2, 3, 4)\n",
      "{'nome': 'Pedro Morais', 'telefone': 99283945, 'email': 'pedro@gmail.com', 'nova_chave': 'novo valor'}\n",
      "11\n"
     ]
    }
   ],
   "source": [
    "# Inicializar um dicionario vazio\n",
    "contato = {}\n",
    "\n",
    "# Inizializar um dicionario com valores definidos\n",
    "contato = {'nome': 'Pedro', 'telefone': 99283945, 'email': 'pedro@gmail.com'}\n",
    "\n",
    "# Pegar o valor de uma determinada chave\n",
    "print(contato['nome'])\n",
    "print(contato['telefone'])\n",
    "print(contato['email'])\n",
    "\n",
    "\n",
    "# Adicionar/editar uma chave e valor dentro de um dicionario\n",
    "contato['nova_chave'] = 'novo valor'\n",
    "contato['nome'] = 'Pedro Morais'\n",
    "print(contato)\n",
    "\n",
    "\n",
    "\n",
    "# Dicionarios com parâmetros de tipos diferentes\n",
    "pi = None\n",
    "\n",
    "dictionary = {'name': 'Função tal',\n",
    "              pi: 3.1416,\n",
    "              'tuple_key': (1, 2, 3, 4),\n",
    "              'contato': contato,\n",
    "              'function': lambda x: x+1 #função anonima que simula f(x) = x + 1\n",
    "             }\n",
    "\n",
    "# Imprimir os valores inseridos dentro dessas chaves\n",
    "print(dictionary['name'])\n",
    "print(dictionary[pi])\n",
    "print(dictionary['tuple_key'])\n",
    "print(dictionary['contato'])\n",
    "print(dictionary['function'] (10))"
   ]
  },
  {
   "cell_type": "markdown",
   "id": "4e5e0a4f",
   "metadata": {
    "id": "4e5e0a4f"
   },
   "source": [
    "### 4.4 Usando Listas com dicionários"
   ]
  },
  {
   "cell_type": "code",
   "execution_count": 57,
   "id": "b342ecd2",
   "metadata": {
    "id": "b342ecd2"
   },
   "outputs": [
    {
     "name": "stdout",
     "output_type": "stream",
     "text": [
      "[{'nome': 'Alice', 'idade': 20, 'nota': 8.5}, {'nome': 'Bruno', 'idade': 22, 'nota': 7.0}, {'nome': 'Carla', 'idade': 19, 'nota': 9.0}, {'nome': 'Daniel', 'idade': 21, 'nota': 6.5}]\n",
      "[{'nome': 'Alice', 'idade': 20, 'nota': 8.5}, {'nome': 'Bruno', 'idade': 22, 'nota': 7.0}, {'nome': 'Carla', 'idade': 19, 'nota': 9.0}, {'nome': 'Daniel', 'idade': 21, 'nota': 6.5}, {'nome': 'Eduardo', 'idade': 23, 'nota': 7.5}]\n",
      "[{'nome': 'Alice', 'idade': 20, 'nota': 8.5}, {'nome': 'Bruno', 'idade': 22, 'nota': 7.0}, {'nome': 'Carla', 'idade': 19, 'nota': 9.0}, {'nome': 'Daniel', 'idade': 21, 'nota': 6.5}]\n",
      "[{'nome': 'Bruno', 'idade': 22, 'nota': 7.0}, {'nome': 'Carla', 'idade': 19, 'nota': 9.0}, {'nome': 'Daniel', 'idade': 21, 'nota': 6.5}]\n"
     ]
    }
   ],
   "source": [
    "# Lista de dicionários, onde cada dicionário representa um aluno\n",
    "alunos = [\n",
    "    {\"nome\": \"Alice\", \"idade\": 20, \"nota\": 8.5},\n",
    "    {\"nome\": \"Bruno\", \"idade\": 22, \"nota\": 7.0},\n",
    "    {\"nome\": \"Carla\", \"idade\": 19, \"nota\": 9.0},\n",
    "    {\"nome\": \"Daniel\", \"idade\": 21, \"nota\": 6.5}\n",
    "]\n",
    "\n",
    "print(alunos)\n",
    "\n",
    "#Adicionando um Novo Dicionário (ALuno) à Lista\n",
    "novo_aluno = {\"nome\": \"Eduardo\", \"idade\": 23, \"nota\": 7.5}\n",
    "alunos.append(novo_aluno)\n",
    "print(alunos)\n",
    "\n",
    "#Removendo último Dicionário (ALuno) da Lista\n",
    "alunos.pop()\n",
    "print(alunos)\n",
    "\n",
    "#Removendo primeiro Dicionário (ALuno) da Lista\n",
    "alunos.pop(0)\n",
    "print(alunos)\n"
   ]
  },
  {
   "cell_type": "markdown",
   "id": "0388d870",
   "metadata": {
    "id": "0388d870"
   },
   "source": [
    "***\n",
    "### 4.5 Sets (Conjuntos)\n",
    "***"
   ]
  },
  {
   "cell_type": "markdown",
   "id": "171c7c9a",
   "metadata": {
    "id": "171c7c9a"
   },
   "source": [
    "Conjuntos (ou sets) em Python são estruturas de dados que armazenam valores únicos e não ordenados. Eles são úteis para operações de conjuntos matemáticos como união, interseção e diferença, e também para remover duplicatas de uma coleção de dados.\n",
    "\n",
    "Conjuntos suportam várias operações úteis, principalmente para comparações e filtragem de dados."
   ]
  },
  {
   "cell_type": "code",
   "execution_count": 58,
   "id": "05962642",
   "metadata": {
    "id": "05962642"
   },
   "outputs": [
    {
     "name": "stdout",
     "output_type": "stream",
     "text": [
      "{1, 2, 3, 4}\n",
      "{3, 4, 5, 6}\n",
      "{1, 2, 3, 4}\n",
      "{1, 3, 4}\n",
      "{1, 2, 3, 4, 5}\n",
      "{3}\n",
      "{1, 2}\n",
      "{1, 2, 4, 5}\n",
      "True\n"
     ]
    }
   ],
   "source": [
    "# Criando conjuntos\n",
    "conjunto1 = {1, 2, 3, 4, 4 } # Elementos únicos\n",
    "conjunto2 = set([3, 4, 5, 6])\n",
    "print(conjunto1)\n",
    "print(conjunto2)\n",
    "\n",
    "# Adicionar: Podemos adicionar elementos com o método add().\n",
    "conjunto = {1, 2, 3}\n",
    "conjunto.add(4)\n",
    "print(conjunto)\n",
    "\n",
    "# Remover: Remover elementos com remove() (gera erro se o item não existe) ou discard() (não gera erro).\n",
    "conjunto.remove(2)\n",
    "print(conjunto)\n",
    "\n",
    "conjunto.discard(5)  # Não gera erro, mesmo que 5 não esteja no conjunto\n",
    "\n",
    "# União (| ou union()): Combina todos os elementos de dois conjuntos.\n",
    "conjunto1 = {1, 2, 3}\n",
    "conjunto2 = {3, 4, 5}\n",
    "print(conjunto1 | conjunto2)\n",
    "\n",
    "# Interseção (& ou intersection()): Retorna apenas os elementos presentes em ambos os conjuntos.\n",
    "print(conjunto1 & conjunto2)\n",
    "\n",
    "# Diferença (- ou difference()): Retorna os elementos que estão em um conjunto, mas não no outro.\n",
    "print(conjunto1 - conjunto2)\n",
    "\n",
    "# Diferença Simétrica (^ ou symmetric_difference()): Retorna os elementos que estão em um conjunto ou no outro, mas não em ambos.\n",
    "print(conjunto1 ^ conjunto2)\n",
    "\n",
    "# Subconjunto (issubset()): Verifica se um conjunto é subconjunto de outro (todos os elementos de um conjunto estão no outro).\n",
    "conjunto_a = {1, 2}\n",
    "conjunto_b = {1, 2, 3, 4}\n",
    "print(conjunto_a.issubset(conjunto_b))\n"
   ]
  },
  {
   "cell_type": "markdown",
   "id": "b7ab55d7",
   "metadata": {
    "id": "b7ab55d7"
   },
   "source": [
    "***\n",
    "### 4.6 Sets (Conjuntos) com Listas\n",
    "***"
   ]
  },
  {
   "cell_type": "code",
   "execution_count": 59,
   "id": "2a5a91c0",
   "metadata": {
    "id": "2a5a91c0"
   },
   "outputs": [
    {
     "name": "stdout",
     "output_type": "stream",
     "text": [
      "{1, 2, 3, 4, 5}\n",
      "{3, 4}\n",
      "{1, 2, 5, 6}\n"
     ]
    }
   ],
   "source": [
    "# Remover Duplicatas de uma Lista:\n",
    "lista = [1, 2, 2, 3, 4, 4, 5]\n",
    "conjunto_unico = set(lista)\n",
    "print(conjunto_unico)  # Saída: {1, 2, 3, 4, 5}\n",
    "\n",
    "# Filtrar Elementos Comuns entre Listas:\n",
    "lista1 = [1, 2, 3, 4]\n",
    "lista2 = [3, 4, 5, 6]\n",
    "comuns = set(lista1) & set(lista2)\n",
    "print(comuns)\n",
    "\n",
    "# Encontrar Elementos Exclusivos de Cada Conjunto:\n",
    "conjunto1 = {1, 2, 3, 4}\n",
    "conjunto2 = {3, 4, 5, 6}\n",
    "exclusivos = conjunto1 ^ conjunto2\n",
    "print(exclusivos)"
   ]
  },
  {
   "cell_type": "markdown",
   "id": "0f5c8345",
   "metadata": {
    "id": "0f5c8345"
   },
   "source": [
    "# 5. Controle de Fluxo e Condicionais\n"
   ]
  },
  {
   "cell_type": "markdown",
   "id": "19998f30",
   "metadata": {
    "id": "19998f30"
   },
   "source": [
    "O controle de fluxo e o uso de condicionais são fundamentais na programação em Python, pois permitem que o programa tome decisões e execute instruções de maneira dinâmica, com base em condições específicas. Essencialmente, essas estruturas dão \"inteligência\" ao código, permitindo que ele se adapte a diferentes cenários de execução."
   ]
  },
  {
   "cell_type": "markdown",
   "id": "d2c10c24",
   "metadata": {
    "id": "d2c10c24"
   },
   "source": [
    "***\n",
    "### 5.1 Estruturas Condicionais (if, elif, else)\n",
    "***"
   ]
  },
  {
   "cell_type": "code",
   "execution_count": 61,
   "id": "f1ea9fb4",
   "metadata": {
    "id": "f1ea9fb4"
   },
   "outputs": [
    {
     "name": "stdout",
     "output_type": "stream",
     "text": [
      "O número 10 é positivo.\n",
      "Você é um adulto.\n"
     ]
    }
   ],
   "source": [
    "#Estrutura básica do comando if | elif | else\n",
    "\n",
    "# verificar se um número é positivo, negativo ou zero:\n",
    "numero = int(input(\"Digite um número: \"))\n",
    "\n",
    "if numero > 0:\n",
    "    print(f\"O número {numero} é positivo.\")\n",
    "elif numero < 0:\n",
    "    print(f\"O número {numero} é negativo.\")\n",
    "else:\n",
    "    print(\"O número é zero.\")\n",
    "\n",
    "# Classificação de Idade\n",
    "\n",
    "idade = int(input(\"Digite sua idade: \"))\n",
    "\n",
    "if idade < 12:\n",
    "    print(\"Você é uma criança.\")\n",
    "elif idade < 18:\n",
    "    print(\"Você é um adolescente.\")\n",
    "elif idade < 60:\n",
    "    print(\"Você é um adulto.\")\n",
    "else:\n",
    "    print(\"Você é um idoso.\")\n"
   ]
  },
  {
   "cell_type": "markdown",
   "id": "614e7b18",
   "metadata": {
    "id": "614e7b18"
   },
   "source": [
    "***\n",
    "### 5.2 Estruturas de Repetição (for e while)\n",
    "***"
   ]
  },
  {
   "cell_type": "code",
   "execution_count": 66,
   "id": "23abf656",
   "metadata": {
    "id": "23abf656"
   },
   "outputs": [
    {
     "name": "stdout",
     "output_type": "stream",
     "text": [
      "A soma dos números é 15.\n",
      "5\n",
      "4\n",
      "3\n",
      "2\n",
      "1\n",
      "0\n",
      "-1\n",
      "Contagem regressiva concluída!\n"
     ]
    }
   ],
   "source": [
    "# Somar elementos de uma lista\n",
    "numeros = [1, 2, 3, 4, 5]\n",
    "soma = 0\n",
    "\n",
    "for numero in numeros:\n",
    "    soma += numero\n",
    "\n",
    "print(f\"A soma dos números é {soma}.\")\n",
    "\n",
    "#Exibir uma contagem regressiva\n",
    "\n",
    "import time as time #biblioteca que trabalha com tempo\n",
    "\n",
    "for i in range(5, -2, -1):\n",
    "    print(i)\n",
    "    time.sleep(1) # função que aguarda 1 seg para continuar a execução do código\n",
    "print(\"Contagem regressiva concluída!\")"
   ]
  },
  {
   "cell_type": "code",
   "execution_count": 67,
   "id": "34693dee",
   "metadata": {
    "id": "34693dee"
   },
   "outputs": [
    {
     "name": "stdout",
     "output_type": "stream",
     "text": [
      "Senha incorreta. Tente novamente.\n",
      "Senha incorreta. Tente novamente.\n",
      "Acesso concedido!\n"
     ]
    }
   ],
   "source": [
    "# Loop while para validar entrada do usuário\n",
    "senha = \"python123\"\n",
    "tentativa = \"\"\n",
    "\n",
    "while tentativa != senha:\n",
    "    tentativa = input(\"Digite a senha: \")\n",
    "    if tentativa == senha:\n",
    "        print(\"Acesso concedido!\")\n",
    "    else:\n",
    "        print(\"Senha incorreta. Tente novamente.\")"
   ]
  },
  {
   "cell_type": "code",
   "execution_count": 69,
   "id": "5f7062b0",
   "metadata": {},
   "outputs": [
    {
     "name": "stdout",
     "output_type": "stream",
     "text": [
      "O contador é 1\n",
      "O contador é 2\n",
      "O contador é 3\n",
      "O contador é 4\n",
      "O contador é 5\n",
      "O contador é 6\n",
      "O contador é 7\n",
      "O contador é 8\n",
      "O contador é 9\n",
      "O contador é 10\n"
     ]
    }
   ],
   "source": [
    "#gerar um código para contar até 10 usando while\n",
    "\n",
    "count = 0\n",
    "\n",
    "while count < 10:\n",
    "    count+=1 # count = count +1\n",
    "    print(f\"O contador é {count}\")"
   ]
  },
  {
   "cell_type": "code",
   "execution_count": 70,
   "id": "e404aa69",
   "metadata": {
    "id": "e404aa69"
   },
   "outputs": [
    {
     "name": "stdout",
     "output_type": "stream",
     "text": [
      "Contador: 0\n",
      "Contador: 1\n",
      "Contador: 2\n",
      "Contador: 3\n",
      "Contador: 4\n"
     ]
    }
   ],
   "source": [
    "# Loop while com condição de parada\n",
    "contador = 0\n",
    "while contador < 5:\n",
    "    print(\"Contador:\", contador)\n",
    "    contador += 1"
   ]
  },
  {
   "cell_type": "code",
   "execution_count": 71,
   "id": "94adde2d",
   "metadata": {},
   "outputs": [
    {
     "data": {
      "text/plain": [
       "range(0, 10)"
      ]
     },
     "execution_count": 71,
     "metadata": {},
     "output_type": "execute_result"
    }
   ],
   "source": [
    "# lista = [1,5,7,8,4,5,4,4,5,6,7,8,1,23,64,8,1,5,6,5]\n",
    "\n",
    "range(10)"
   ]
  },
  {
   "cell_type": "code",
   "execution_count": 78,
   "id": "18e07261",
   "metadata": {
    "id": "18e07261"
   },
   "outputs": [
    {
     "name": "stdout",
     "output_type": "stream",
     "text": [
      "0\n",
      "1\n",
      "2\n",
      "3\n",
      "4\n",
      "\n",
      "\n",
      "1 Não passei pelo continue\n",
      "3 Não passei pelo continue\n",
      "5 Não passei pelo continue\n",
      "7 Não passei pelo continue\n",
      "9 Não passei pelo continue\n"
     ]
    }
   ],
   "source": [
    "# Usando break e continue para controle avançado\n",
    "for numero in range(10):\n",
    "    if numero == 5:\n",
    "        break  # Interrompe o loop quando numero for igual a 5\n",
    "    print(numero)\n",
    "\n",
    "print(\"\\n\")\n",
    "\n",
    "for numero in range(10):\n",
    "    if numero % 2 == 0:\n",
    "        continue  # Pula números pares\n",
    "    # print(numero)\n",
    "    print(f'{numero} Não passei pelo continue')"
   ]
  },
  {
   "cell_type": "markdown",
   "id": "8ec8578b",
   "metadata": {
    "id": "8ec8578b"
   },
   "source": [
    "# 6. Funções e Módulos"
   ]
  },
  {
   "cell_type": "markdown",
   "id": "cffcfe00",
   "metadata": {
    "id": "cffcfe00"
   },
   "source": [
    "Função é alguma funcionalidade com nome bem definido que contém um trecho de código que você pode pedir para ele ser executado sempre que quiser, sem precisar rescrever o código\n",
    "\n",
    "\n",
    "É como se fosse um bloco de código reutilizavel\n",
    "\n",
    "\n",
    "* Como criar uma função:\n",
    "\n",
    "```py\n",
    "def nome_da_funcao(argumento01, argumento02, ...):\n",
    "    # Código da função\n",
    "    return alguma_coisa\n",
    "```\n",
    "\n",
    "* Declarar a função:\n",
    "\n",
    "```py\n",
    "alguma_coisa = nome_da_funcao(argumento01, argumento02)\n",
    "```\n",
    "\n",
    "O **def** declara que estaremos construindo uma função na qual temos o nome da função e seus argumentos que serão passados para função\n",
    "\n",
    "\n",
    "O **return** é opcional caso sua função retorne algo, ela pode somente imprimir algo não precisando do return, as funções podem retornar vários valores de uma vez, retornando uma tupla ou valores unicos se atribuido para a mesma quantidade de variaveis que retornou\n",
    "\n",
    "\n",
    "As funções devem ser definidas antes de ser executadas\n",
    "\n",
    "\n",
    "Para sair de uma função em uma determinada ocasião você pode declarar o return sem nenhum retorno, só para sair da função\n",
    "\n",
    "\n",
    "**Nomeclaturas**: Não de o nome da função para nome de variaveis\n",
    "\n",
    "Um função pode ter **tipagem estática**:\n",
    "\n",
    "```py\n",
    "def nome_da_funcao(argumento01: tipo, argumento02: tipo, ...) -> tipo:\n",
    "    # Código da função\n",
    "    return alguma_coisa\n",
    "```"
   ]
  },
  {
   "cell_type": "code",
   "execution_count": 84,
   "id": "c6e17baa",
   "metadata": {
    "id": "c6e17baa"
   },
   "outputs": [
    {
     "name": "stdout",
     "output_type": "stream",
     "text": [
      "9\n"
     ]
    }
   ],
   "source": [
    "# Define a função de operações matematicas e retorna duas operações:soma e multiplicação entre dois números\n",
    "def math_operation(number1, number2):\n",
    "    return number1+number2, number1*number2\n",
    "\n",
    "def math_operation_new(number1, number2):\n",
    "    values_dict = {'soma': number1+number2, 'mult': number1*number2}\n",
    "    return values_dict\n",
    "\n",
    "# Armazena os dois resultados das operações em uma tupla\n",
    "result = math_operation(3, 3)\n",
    "\n",
    "# Imprime os resultados em uma tupla\n",
    "print(result[1])\n",
    "\n"
   ]
  },
  {
   "cell_type": "code",
   "execution_count": 87,
   "id": "2f99059e",
   "metadata": {},
   "outputs": [
    {
     "data": {
      "text/plain": [
       "9"
      ]
     },
     "execution_count": 87,
     "metadata": {},
     "output_type": "execute_result"
    }
   ],
   "source": [
    "result = math_operation_new(3, 3)\n",
    "result['mult']"
   ]
  },
  {
   "cell_type": "code",
   "execution_count": 83,
   "id": "433e4add",
   "metadata": {},
   "outputs": [
    {
     "data": {
      "text/plain": [
       "9"
      ]
     },
     "execution_count": 83,
     "metadata": {},
     "output_type": "execute_result"
    }
   ],
   "source": [
    "result[1]"
   ]
  },
  {
   "cell_type": "code",
   "execution_count": 88,
   "id": "6224384a",
   "metadata": {
    "id": "6224384a"
   },
   "outputs": [
    {
     "name": "stdout",
     "output_type": "stream",
     "text": [
      "Boa noite\n",
      " para os alunos e alunas\n"
     ]
    }
   ],
   "source": [
    "def imprimir_na_tela(mensagem): # procedimento -> não há retorno para esse subalgoritmo\n",
    "    print(mensagem)\n",
    "\n",
    "imprimir_na_tela(\"Boa noite\\n para os alunos e alunas\")"
   ]
  },
  {
   "cell_type": "markdown",
   "id": "e77bed79",
   "metadata": {
    "id": "e77bed79"
   },
   "source": [
    "### 6.1 Escopo"
   ]
  },
  {
   "cell_type": "markdown",
   "id": "a1c4b8d8",
   "metadata": {
    "id": "a1c4b8d8"
   },
   "source": [
    "Ao inserir uma variável dentro de uma função você está passando um copia dela para a função, tudo que você fizer na função não altera a variavel principal fora dela.\n",
    "\n",
    "Essa copia é uma variável local da função, fora dela essa variável não existe, por isso normalmente retornamos ela e guardamos em alguma variável fora da função\n",
    "\n",
    "Qualquer variável criada dentro da função será uma variável local da função\n",
    "\n",
    "Se quisermos uma variável global que seja vista fora de qualquer função, independente se a variavel está definida antes ou depois da função temos que usar a tag global antes da variável, porém temos que definir a variável antes de declarar a função\n",
    "\n",
    "É uma boa prática de programação sempre que tiver muitas funções criar uma função principal chamada main() e executar ela no final do arquivo"
   ]
  },
  {
   "cell_type": "code",
   "execution_count": null,
   "id": "730d9d89",
   "metadata": {
    "id": "730d9d89"
   },
   "outputs": [
    {
     "name": "stdout",
     "output_type": "stream",
     "text": [
      "x = 4\n",
      "y = 0\n"
     ]
    }
   ],
   "source": [
    "# Valores que serão incrementados na função\n",
    "x = 0\n",
    "y = 0 \n",
    "\n",
    "# Função de incremento passando x globalmente e y localmente\n",
    "def increment(y):\n",
    "    global x\n",
    "\n",
    "    x += 1\n",
    "    y += 1\n",
    "\n",
    "# Incrementando o valor de x e y 4 vezes\n",
    "increment(y)\n",
    "increment(y)\n",
    "increment(y)\n",
    "increment(y)\n",
    "\n",
    "# Imprimindo o x incrementado e o y não muda pois é uma variável local da função\n",
    "print(\"x =\", x)\n",
    "print(\"y =\", y)\n"
   ]
  },
  {
   "cell_type": "markdown",
   "id": "f836a52f",
   "metadata": {
    "id": "f836a52f"
   },
   "source": [
    "### 6.2 Argumentos"
   ]
  },
  {
   "cell_type": "markdown",
   "id": "8e5e8c1e",
   "metadata": {
    "id": "8e5e8c1e"
   },
   "source": [
    "No python podemos inserir vários argumentos em uma função sem saber o número de argumentos utilizando o operador * no argumento\n",
    "\n",
    "```py\n",
    "def soma(*args):\n",
    "    # Implementação\n",
    "    \n",
    "soma(1,2,3,4,5,...)\n",
    "```\n",
    "\n",
    "Podemos também passar em forma de dicionario:\n",
    "\n",
    "```py\n",
    "def pessoas(**kwargs):\n",
    "    for key in kwargs:\n",
    "        print(\"%s\" % kwargs[key], end=\", \")\n",
    "    \n",
    "pessoas(p1=\"João\", p2=\"Pedro\", p3=\"Maria\")\n",
    "```\n",
    "\n",
    "\n",
    "Com isso o python vai pegar todos os argumentos passados na função e transformar em uma tupla chamada numeros\n",
    "\n",
    "Porém o *numeros tem que ser o ultimo argumento da função, por exemplo, não pode:\n",
    "\n",
    "```py\n",
    "# Não pode\n",
    "def soma(*numeros, numero):\n",
    "    # Implementação\n",
    "```\n",
    "\n",
    "Podemos deixar valores pré definidos no argumento da função caso o usuário não passe nada\n",
    "\n",
    "```py\n",
    "def media(p1, p2, p3, peso1 = 1, peso2 = 2, peso3 = 3):\n",
    "    # Implementação\n",
    "```\n",
    "\n",
    "Os argumentos definidos também tem que ser no final, não pode ter uma argumento definido no meio dos argumentos não definidos"
   ]
  },
  {
   "cell_type": "code",
   "execution_count": 90,
   "id": "84d83327",
   "metadata": {
    "id": "84d83327"
   },
   "outputs": [],
   "source": [
    "# Função que retorna o maior número da lista de números passados\n",
    "def maior_numero(*numeros):\n",
    "    maior = numeros[0]\n",
    "    for numero in numeros:\n",
    "        if numero > maior:\n",
    "            maior = numero\n",
    "    return maior\n",
    "\n",
    "def maior_da_lista(lista_numeros):\n",
    "    maior = lista_numeros[0]\n",
    "    for numero in lista_numeros:\n",
    "        if numero > maior:\n",
    "            maior = numero\n",
    "    return maior\n",
    "\n",
    "def soma(*valores):\n",
    "    soma_total = 0\n",
    "    for valor in valores:\n",
    "        soma_total = soma_total + valor\n",
    "    return soma_total"
   ]
  },
  {
   "cell_type": "code",
   "execution_count": 91,
   "id": "2764299e",
   "metadata": {
    "id": "2764299e"
   },
   "outputs": [
    {
     "name": "stdout",
     "output_type": "stream",
     "text": [
      "10\n",
      "98\n",
      "6\n"
     ]
    }
   ],
   "source": [
    "print(maior_numero(1,2,5,4,7,8,10,4,5,6,1))\n",
    "print(maior_da_lista([1,2,3,5,78,98,1]))\n",
    "print(soma(1,2,3))"
   ]
  },
  {
   "cell_type": "code",
   "execution_count": 93,
   "id": "ebebe52e",
   "metadata": {
    "id": "ebebe52e"
   },
   "outputs": [
    {
     "name": "stdout",
     "output_type": "stream",
     "text": [
      "João, Pedro, Maria, José, Jonas, "
     ]
    }
   ],
   "source": [
    "# Função que recebe um dicionario de dados\n",
    "def pessoas(**kwargs):\n",
    "    for key in kwargs:\n",
    "        print(f'{kwargs[key]}', end=', ')\n",
    "\n",
    "pessoas(p1=\"João\", p2=\"Pedro\", p3=\"Maria\", p4=\"José\", p10= \"Jonas\")"
   ]
  },
  {
   "cell_type": "markdown",
   "id": "dbf50e70",
   "metadata": {
    "id": "dbf50e70"
   },
   "source": [
    "***\n",
    "#### 6.2.1 Argumento somente posicionais ou nomeados\n",
    "***\n",
    "\n",
    "Obriga a pessoa a passar os argumentos da função somente posicionais, um exemplo é os coversores de tipo:\n",
    "\n",
    "```\n",
    "int(\"10\")\n",
    "float(\"24.3\")\n",
    "```\n",
    "\n",
    "Eles não permitem que você passe parâmetros nomeados como abaixo:\n",
    "\n",
    "```\n",
    "int(x=\"10\")\n",
    "float(x=\"24.3\")\n",
    "```\n",
    "\n",
    "Eles te obrigam a passar o argumento posicional.\n",
    "\n",
    "A partir da versão 3.8 podemos criar funções com argumentos somente posicionais, é só passar o `/` nos argumentos, tudo que tiver antes da `/` será somente posicional.\n",
    "\n",
    "Da mesma forma podemos fazer com parâmetros nomeados passando o `*` nos argumentos, tudo que tiver depois do `*` será obrigatoriamente parâmetro nomeado."
   ]
  },
  {
   "cell_type": "code",
   "execution_count": null,
   "id": "ea446f8d",
   "metadata": {
    "id": "ea446f8d"
   },
   "outputs": [
    {
     "name": "stdout",
     "output_type": "stream",
     "text": [
      "70\n",
      "70\n",
      "100\n"
     ]
    }
   ],
   "source": [
    "def soma_posicional(x: int, y: int, /, z: int = 10, *, w: int) -> int:\n",
    "    \"\"\"\n",
    "    Recebe dois argumentos posicionais do tipo inteiro e um argumento nomeado e retorna\n",
    "    a soma desses valores.\n",
    "    \"\"\"\n",
    "    return x + y + z + w\n",
    "\n",
    "print(soma_posicional(10, 20, w=30))\n",
    "print(soma_posicional(10, 20, w=10, z=30 ))\n",
    "print(soma_posicional(10, 20, 30, w=40))"
   ]
  },
  {
   "cell_type": "code",
   "execution_count": 96,
   "id": "547be27a",
   "metadata": {
    "id": "547be27a"
   },
   "outputs": [
    {
     "name": "stdout",
     "output_type": "stream",
     "text": [
      "70\n"
     ]
    }
   ],
   "source": [
    "print(soma_posicional(10, 20, z=30, w=10)) # erro causado pelos argumentos x,y serem apenas posicionais"
   ]
  },
  {
   "cell_type": "markdown",
   "id": "f5edbf95",
   "metadata": {
    "id": "f5edbf95"
   },
   "source": [
    "#### Exemplo em uma função bem conhecida"
   ]
  },
  {
   "cell_type": "code",
   "execution_count": 97,
   "id": "2faf3ff6",
   "metadata": {
    "id": "2faf3ff6"
   },
   "outputs": [
    {
     "name": "stdout",
     "output_type": "stream",
     "text": [
      "[{'nome': 'Samuel', 'idade': 10}, {'nome': 'Junior', 'idade': 11}, {'nome': 'Kaio', 'idade': 15}, {'nome': 'Maria', 'idade': 22}, {'nome': 'Pedro', 'idade': 33}]\n",
      "[{'nome': 'Pedro', 'idade': 33}, {'nome': 'Maria', 'idade': 22}, {'nome': 'Kaio', 'idade': 15}, {'nome': 'Junior', 'idade': 11}, {'nome': 'Samuel', 'idade': 10}]\n"
     ]
    }
   ],
   "source": [
    "# Uma lista de dicionários(usuários)\n",
    "usuarios = [\n",
    "    {\"nome\": \"Samuel\", \"idade\": 10},\n",
    "    {\"nome\": \"Pedro\", \"idade\": 33},\n",
    "    {\"nome\": \"Maria\", \"idade\": 22},\n",
    "    {\"nome\": \"Junior\", \"idade\": 11},\n",
    "    {\"nome\": \"Kaio\", \"idade\": 15},\n",
    "]\n",
    "\n",
    "def get_idade(obj):\n",
    "    return obj['idade']\n",
    "\n",
    "# usuários ordenados pela idade (ascendente)\n",
    "print(sorted(usuarios, key=get_idade))\n",
    "\n",
    "# usuários ordenados pela idade (decrescente)\n",
    "print(sorted(usuarios, key=get_idade, reverse=True))"
   ]
  },
  {
   "cell_type": "markdown",
   "id": "6146da24",
   "metadata": {
    "id": "6146da24"
   },
   "source": [
    "### 6.3 Módulos"
   ]
  },
  {
   "cell_type": "markdown",
   "id": "4e88d548",
   "metadata": {
    "id": "4e88d548"
   },
   "source": [
    "Um módulo em Python é um arquivo que contém definições e instruções em Python, como funções, classes e variáveis, que podem ser reutilizadas em outros códigos. Python possui uma biblioteca padrão rica com vários módulos integrados que facilitam o desenvolvimento."
   ]
  },
  {
   "cell_type": "code",
   "execution_count": 98,
   "id": "de813a37",
   "metadata": {
    "id": "de813a37"
   },
   "outputs": [
    {
     "name": "stdout",
     "output_type": "stream",
     "text": [
      "4.0\n"
     ]
    }
   ],
   "source": [
    "import math\n",
    "\n",
    "# Usando a função sqrt do módulo math\n",
    "raiz_quadrada = math.sqrt(16)\n",
    "print(raiz_quadrada)  # Saída: 4.0\n",
    "\n",
    "#Nesse exemplo, o módulo math é importado, e suas funções são acessadas usando math.nome_da_funcao.\n",
    "#Isso organiza o código e evita conflitos com funções de outros módulos."
   ]
  },
  {
   "cell_type": "code",
   "execution_count": 99,
   "id": "909503bb",
   "metadata": {
    "id": "909503bb"
   },
   "outputs": [
    {
     "name": "stdout",
     "output_type": "stream",
     "text": [
      "5.0\n",
      "3.141592653589793\n"
     ]
    }
   ],
   "source": [
    "# Podemos importar apenas funções específicas de um módulo usando from ... import.\n",
    "# Isso permite que usemos as funções diretamente, sem precisar prefixar o nome do módulo.\n",
    "\n",
    "from math import sqrt, pi\n",
    "\n",
    "# Agora podemos usar sqrt e pi diretamente\n",
    "raiz_quadrada = sqrt(25)\n",
    "print(raiz_quadrada)  # Saída: 5.0\n",
    "print(pi)             # Saída: 3.141592653589793"
   ]
  },
  {
   "cell_type": "code",
   "execution_count": 100,
   "id": "e6875aef",
   "metadata": {
    "id": "e6875aef"
   },
   "outputs": [
    {
     "name": "stdout",
     "output_type": "stream",
     "text": [
      "[1 2 3 4]\n"
     ]
    }
   ],
   "source": [
    "# Podemos renomear um módulo ou função no momento da importação, usando as.\n",
    "# Isso é útil quando o nome do módulo é longo ou para evitar conflitos de nomes.\n",
    "\n",
    "import numpy as np\n",
    "\n",
    "# Agora podemos usar 'np' em vez de 'numpy'\n",
    "array = np.array([1, 2, 3, 4])\n",
    "print(array)"
   ]
  },
  {
   "cell_type": "code",
   "execution_count": 101,
   "id": "7acbcc17",
   "metadata": {
    "id": "7acbcc17"
   },
   "outputs": [
    {
     "name": "stdout",
     "output_type": "stream",
     "text": [
      "0.0\n",
      "1.0\n"
     ]
    }
   ],
   "source": [
    "# Podemos importar todas as funções e variáveis de um módulo usando o asterisco *.\n",
    "# Isso é feito com from nome_do_modulo import *.\n",
    "# No entanto, esse método não é recomendado para projetos maiores, pois pode gerar\n",
    "# conflitos de nome e prejudicar a legibilidade do código.\n",
    "\n",
    "from math import *\n",
    "\n",
    "print(sin(0))    # Saída: 0.0\n",
    "print(cos(0))    # Saída: 1.0"
   ]
  },
  {
   "cell_type": "code",
   "execution_count": null,
   "id": "4dd44b69",
   "metadata": {
    "id": "4dd44b69"
   },
   "outputs": [],
   "source": [
    "# Além dos módulos da biblioteca padrão, também podemos importar módulos criados pelo usuário.\n",
    "# Por exemplo, se você tiver um arquivo meu_modulo.py com uma função chamada soma, poderá importá-lo em outro script:\n",
    "\n",
    "# Função definida no módulo criado pelo usuário em um arquivo meu_modulo.py\n",
    "def soma(a, b):\n",
    "    return a + b\n",
    "\n",
    "# código em outro arquivo outro_arquivo.py\n",
    "import meu_modulo\n",
    "\n",
    "resultado = meu_modulo.soma(5, 3)\n",
    "print(resultado)  # Saída: 8\n"
   ]
  },
  {
   "cell_type": "code",
   "execution_count": null,
   "id": "3b1bbb98",
   "metadata": {
    "id": "3b1bbb98"
   },
   "outputs": [],
   "source": [
    "# Para instalar e usar bibliotecas externas, usamos o pip, que é o gerenciador de pacotes padrão do Python.\n",
    "# Por exemplo, para instalar a biblioteca requests:\n",
    "\n",
    "pip install requests\n"
   ]
  },
  {
   "cell_type": "code",
   "execution_count": null,
   "id": "6ff3b7ec",
   "metadata": {
    "id": "6ff3b7ec"
   },
   "outputs": [],
   "source": [
    "# Após a instalação, podemos importar e usar a biblioteca normalmente:\n",
    "import requests\n",
    "\n",
    "resposta = requests.get(\"https://api.github.com\")\n",
    "print(resposta.status_code)  # Saída: 200"
   ]
  },
  {
   "cell_type": "markdown",
   "id": "473a6693",
   "metadata": {
    "id": "473a6693"
   },
   "source": [
    "# 7. Bibliotecas Básicas Pandas e Numpy"
   ]
  },
  {
   "cell_type": "markdown",
   "id": "003647c0",
   "metadata": {
    "id": "003647c0"
   },
   "source": [
    "As bibliotecas pandas e numpy são fundamentais para a ciência de dados em Python. Elas oferecem funcionalidades essenciais para manipulação de dados e computação numérica, tornando o processamento de grandes volumes de dados mais eficiente e simplificado. Abaixo, veremos a importância de cada biblioteca e exemplos de uso organizados."
   ]
  },
  {
   "cell_type": "markdown",
   "id": "73f0c41f",
   "metadata": {
    "id": "73f0c41f"
   },
   "source": [
    "### 7.1 Pandas"
   ]
  },
  {
   "cell_type": "markdown",
   "id": "3feaf6e7",
   "metadata": {
    "id": "3feaf6e7"
   },
   "source": [
    "pandas é uma biblioteca especializada em manipulação e análise de dados tabulares, como arquivos CSV e Excel. Ela fornece duas principais estruturas de dados: Series (para dados unidimensionais) e DataFrame (para dados bidimensionais), que facilitam o armazenamento, a manipulação e a análise de dados de maneira estruturada. Com pandas, podemos realizar operações complexas de filtragem, agregação e limpeza de dados com uma sintaxe intuitiva e eficiente."
   ]
  },
  {
   "cell_type": "code",
   "execution_count": 102,
   "id": "ab5b1652",
   "metadata": {
    "id": "ab5b1652"
   },
   "outputs": [
    {
     "name": "stdout",
     "output_type": "stream",
     "text": [
      "    Nome  Idade  Nota\n",
      "0  Alice     25   8.5\n",
      "1  Bruno     30   7.2\n",
      "2  Carla     22   9.1\n",
      "    Nome  Idade  Nota\n",
      "0  Alice     25   8.5\n",
      "1  Bruno     30   7.2\n",
      "2  Carla     22   9.1\n",
      "0    Alice\n",
      "1    Bruno\n",
      "2    Carla\n",
      "dtype: object\n"
     ]
    }
   ],
   "source": [
    "# Criando um DataFrame a partir de um dicionário\n",
    "\n",
    "import pandas as pd\n",
    "\n",
    "#Dicionário com dados de um aluno(a)\n",
    "dados = {\n",
    "    \"Nome\": [\"Alice\", \"Bruno\", \"Carla\"],\n",
    "    \"Idade\": [25, 30, 22],\n",
    "    \"Nota\": [8.5, 7.2, 9.1]\n",
    "}\n",
    "\n",
    "df = pd.DataFrame(dados)\n",
    "print(df)\n",
    "\n",
    "\n",
    "# Criando Series individuais para cada coluna\n",
    "nomes = pd.Series([\"Alice\", \"Bruno\", \"Carla\"])\n",
    "idades = pd.Series([25, 30, 22])\n",
    "notas = pd.Series([8.5, 7.2, 9.1])\n",
    "\n",
    "# Criando um DataFrame a partir das Series\n",
    "df_alunos = pd.DataFrame({\n",
    "    \"Nome\": nomes,\n",
    "    \"Idade\": idades,\n",
    "    \"Nota\": notas\n",
    "})\n",
    "\n",
    "print(df_alunos)\n",
    "\n",
    "print(nomes) # cada nome associado com indíce\n"
   ]
  },
  {
   "cell_type": "code",
   "execution_count": 103,
   "id": "91985c6d",
   "metadata": {},
   "outputs": [
    {
     "data": {
      "text/html": [
       "<div>\n",
       "<style scoped>\n",
       "    .dataframe tbody tr th:only-of-type {\n",
       "        vertical-align: middle;\n",
       "    }\n",
       "\n",
       "    .dataframe tbody tr th {\n",
       "        vertical-align: top;\n",
       "    }\n",
       "\n",
       "    .dataframe thead th {\n",
       "        text-align: right;\n",
       "    }\n",
       "</style>\n",
       "<table border=\"1\" class=\"dataframe\">\n",
       "  <thead>\n",
       "    <tr style=\"text-align: right;\">\n",
       "      <th></th>\n",
       "      <th>Nome</th>\n",
       "      <th>Idade</th>\n",
       "      <th>Nota</th>\n",
       "    </tr>\n",
       "  </thead>\n",
       "  <tbody>\n",
       "    <tr>\n",
       "      <th>0</th>\n",
       "      <td>Alice</td>\n",
       "      <td>25</td>\n",
       "      <td>8.5</td>\n",
       "    </tr>\n",
       "    <tr>\n",
       "      <th>1</th>\n",
       "      <td>Bruno</td>\n",
       "      <td>30</td>\n",
       "      <td>7.2</td>\n",
       "    </tr>\n",
       "    <tr>\n",
       "      <th>2</th>\n",
       "      <td>Carla</td>\n",
       "      <td>22</td>\n",
       "      <td>9.1</td>\n",
       "    </tr>\n",
       "  </tbody>\n",
       "</table>\n",
       "</div>"
      ],
      "text/plain": [
       "    Nome  Idade  Nota\n",
       "0  Alice     25   8.5\n",
       "1  Bruno     30   7.2\n",
       "2  Carla     22   9.1"
      ]
     },
     "execution_count": 103,
     "metadata": {},
     "output_type": "execute_result"
    }
   ],
   "source": [
    "df_alunos"
   ]
  },
  {
   "cell_type": "code",
   "execution_count": null,
   "id": "b57f5b16",
   "metadata": {
    "id": "b57f5b16"
   },
   "outputs": [],
   "source": [
    "# Leitura de um arquivo CSV\n",
    "df = pd.read_csv(\"datasets/dados_exemplo.csv\")\n",
    "print(df.head())  # Mostra as primeiras 5 linhas"
   ]
  },
  {
   "cell_type": "code",
   "execution_count": 107,
   "id": "cda09ec4",
   "metadata": {},
   "outputs": [
    {
     "data": {
      "text/html": [
       "<div>\n",
       "<style scoped>\n",
       "    .dataframe tbody tr th:only-of-type {\n",
       "        vertical-align: middle;\n",
       "    }\n",
       "\n",
       "    .dataframe tbody tr th {\n",
       "        vertical-align: top;\n",
       "    }\n",
       "\n",
       "    .dataframe thead th {\n",
       "        text-align: right;\n",
       "    }\n",
       "</style>\n",
       "<table border=\"1\" class=\"dataframe\">\n",
       "  <thead>\n",
       "    <tr style=\"text-align: right;\">\n",
       "      <th></th>\n",
       "      <th>Nome</th>\n",
       "      <th>Idade</th>\n",
       "      <th>Nota</th>\n",
       "    </tr>\n",
       "  </thead>\n",
       "  <tbody>\n",
       "    <tr>\n",
       "      <th>0</th>\n",
       "      <td>Alice</td>\n",
       "      <td>25</td>\n",
       "      <td>8.5</td>\n",
       "    </tr>\n",
       "    <tr>\n",
       "      <th>2</th>\n",
       "      <td>Carla</td>\n",
       "      <td>22</td>\n",
       "      <td>9.1</td>\n",
       "    </tr>\n",
       "  </tbody>\n",
       "</table>\n",
       "</div>"
      ],
      "text/plain": [
       "    Nome  Idade  Nota\n",
       "0  Alice     25   8.5\n",
       "2  Carla     22   9.1"
      ]
     },
     "execution_count": 107,
     "metadata": {},
     "output_type": "execute_result"
    }
   ],
   "source": [
    "mask_approved = df_alunos['Nota'] > 8\n",
    "\n",
    "df_alunos[mask_approved]"
   ]
  },
  {
   "cell_type": "code",
   "execution_count": null,
   "id": "b10d35d0",
   "metadata": {
    "id": "b10d35d0"
   },
   "outputs": [],
   "source": [
    "# Filtrar dados com base em uma condição, como selecionar alunos com nota maior que 8.\n",
    "\n",
    "#dataframe com os dados filtrados\n",
    "aprovados = df[df[\"Nota\"] > 8]\n",
    "print(aprovados)"
   ]
  },
  {
   "cell_type": "code",
   "execution_count": 108,
   "id": "a1f6f06f",
   "metadata": {
    "id": "a1f6f06f"
   },
   "outputs": [
    {
     "name": "stdout",
     "output_type": "stream",
     "text": [
      "Idade\n",
      "22    9.1\n",
      "25    8.5\n",
      "30    7.2\n",
      "Name: Nota, dtype: float64\n"
     ]
    }
   ],
   "source": [
    "# Agrupar por uma coluna e calcular a média das notas, por exemplo.\n",
    "\n",
    "media_idade = df.groupby(\"Idade\")[\"Nota\"].mean()\n",
    "print(media_idade)"
   ]
  },
  {
   "cell_type": "code",
   "execution_count": 109,
   "id": "410190c6",
   "metadata": {
    "id": "410190c6"
   },
   "outputs": [
    {
     "name": "stdout",
     "output_type": "stream",
     "text": [
      "    Nome  Idade  Nota\n",
      "0  Alice     25   8.5\n",
      "1  Bruno     30   7.2\n",
      "2  Carla     22   9.1\n"
     ]
    }
   ],
   "source": [
    "#Preencher dados ausentes com valores específicos ou com a média da coluna.\n",
    "# Eduarda recebeu uma nota a partir da média\n",
    "\n",
    "df[\"Nota\"].fillna(df[\"Nota\"].mean(), inplace=True)\n",
    "\n",
    "print(df)"
   ]
  },
  {
   "cell_type": "code",
   "execution_count": 110,
   "id": "2e9ef148",
   "metadata": {
    "id": "2e9ef148"
   },
   "outputs": [
    {
     "name": "stdout",
     "output_type": "stream",
     "text": [
      "           Idade      Nota\n",
      "count   3.000000  3.000000\n",
      "mean   25.666667  8.266667\n",
      "std     4.041452  0.971253\n",
      "min    22.000000  7.200000\n",
      "25%    23.500000  7.850000\n",
      "50%    25.000000  8.500000\n",
      "75%    27.500000  8.800000\n",
      "max    30.000000  9.100000\n"
     ]
    }
   ],
   "source": [
    "# Obter uma visão geral rápida dos dados, como média, mediana e desvio padrão.\n",
    "print(df.describe())"
   ]
  },
  {
   "cell_type": "markdown",
   "id": "22fbe45f",
   "metadata": {
    "id": "22fbe45f"
   },
   "source": [
    "### 7.2 Numpy"
   ]
  },
  {
   "cell_type": "markdown",
   "id": "2744fcfd",
   "metadata": {
    "id": "2744fcfd"
   },
   "source": [
    "numpy é uma biblioteca para computação numérica em Python. Ela é otimizada para manipulação de arrays multidimensionais e permite realizar operações matemáticas e estatísticas de maneira muito eficiente. numpy é a base de outras bibliotecas de ciência de dados, incluindo pandas, que usa os arrays do numpy para armazenamento de dados."
   ]
  },
  {
   "cell_type": "code",
   "execution_count": 111,
   "id": "7e0d1c7a",
   "metadata": {
    "id": "7e0d1c7a"
   },
   "outputs": [
    {
     "name": "stdout",
     "output_type": "stream",
     "text": [
      "[1 2 3 4]\n",
      "[[1 2]\n",
      " [3 4]]\n"
     ]
    }
   ],
   "source": [
    "# Criando um array unidimensional (vetor) e um array bidimensional (matriz).\n",
    "\n",
    "import numpy as np\n",
    "\n",
    "vetor = np.array([1, 2, 3, 4])\n",
    "matriz = np.array([[1, 2], [3, 4]])\n",
    "print(vetor)\n",
    "print(matriz)"
   ]
  },
  {
   "cell_type": "code",
   "execution_count": 112,
   "id": "60921a32",
   "metadata": {
    "id": "60921a32"
   },
   "outputs": [
    {
     "name": "stdout",
     "output_type": "stream",
     "text": [
      "[3 4 5 6]\n",
      "[ 3  6  9 12]\n",
      "[1.         1.41421356 1.73205081 2.        ]\n"
     ]
    }
   ],
   "source": [
    "# Realizar operações como soma, multiplicação e exponenciação em todos os elementos do array.\n",
    "\n",
    "vetor = np.array([1, 2, 3, 4])\n",
    "print(vetor + 2)        # Soma 2 a cada elemento\n",
    "print(vetor * 3)        # Multiplica cada elemento por 3\n",
    "print(np.sqrt(vetor))   # Raiz quadrada de cada elemento"
   ]
  },
  {
   "cell_type": "code",
   "execution_count": 113,
   "id": "c0156c80",
   "metadata": {
    "id": "c0156c80"
   },
   "outputs": [
    {
     "name": "stdout",
     "output_type": "stream",
     "text": [
      "Média: 3.0\n",
      "Mediana: 3.0\n",
      "Desvio Padrão: 1.4142135623730951\n"
     ]
    }
   ],
   "source": [
    "# Cálculo de média, mediana, variância e desvio padrão de um array.\n",
    "\n",
    "dados = np.array([1, 2, 3, 4, 5])\n",
    "print(\"Média:\", np.mean(dados))\n",
    "print(\"Mediana:\", np.median(dados))\n",
    "print(\"Desvio Padrão:\", np.std(dados))"
   ]
  },
  {
   "cell_type": "code",
   "execution_count": 114,
   "id": "45717208",
   "metadata": {
    "id": "45717208"
   },
   "outputs": [
    {
     "name": "stdout",
     "output_type": "stream",
     "text": [
      "[0.43975364 0.36002841 0.0234164  0.24170746 0.21279201]\n",
      "[ 0.2439147   0.51250456 -0.11433023 -0.08940991 -0.56542192]\n"
     ]
    }
   ],
   "source": [
    "#Geração de dados aleatórios para simulações, como amostras normais ou uniformes.\n",
    "\n",
    "aleatorios = np.random.rand(5)       # Array com 5 números aleatórios entre 0 e 1\n",
    "normais = np.random.randn(5)         # Array com 5 números aleatórios de uma distribuição normal\n",
    "print(aleatorios)\n",
    "print(normais)"
   ]
  },
  {
   "cell_type": "code",
   "execution_count": 115,
   "id": "44c49375",
   "metadata": {
    "id": "44c49375"
   },
   "outputs": [
    {
     "name": "stdout",
     "output_type": "stream",
     "text": [
      "[1 2 3]\n",
      "[2 5 8]\n"
     ]
    }
   ],
   "source": [
    "# Manipulação de partes específicas de um array, semelhante ao uso de slices em listas.\n",
    "\n",
    "matriz = np.array([[1, 2, 3], [4, 5, 6], [7, 8, 9]])\n",
    "print(matriz[0, :])  # Primeira linha\n",
    "print(matriz[:, 1])  # Segunda coluna"
   ]
  },
  {
   "cell_type": "code",
   "execution_count": 116,
   "id": "a601946a",
   "metadata": {
    "id": "a601946a"
   },
   "outputs": [
    {
     "name": "stdout",
     "output_type": "stream",
     "text": [
      "[5 7 9]\n",
      "[ 4 10 18]\n",
      "32\n"
     ]
    }
   ],
   "source": [
    "# Operações entre arrays de mesmo tamanho, elemento a elemento, e produto de matriz.\n",
    "\n",
    "a = np.array([1, 2, 3])\n",
    "b = np.array([4, 5, 6])\n",
    "\n",
    "print(a + b)               # Soma elemento a elemento\n",
    "print(a * b)               # Multiplicação elemento a elemento\n",
    "print(np.dot(a, b))        # Produto escalar entre vetores"
   ]
  },
  {
   "cell_type": "markdown",
   "id": "acede53d",
   "metadata": {
    "id": "acede53d"
   },
   "source": [
    "### 7.3 Numpy & Pandas"
   ]
  },
  {
   "cell_type": "markdown",
   "id": "8a724284",
   "metadata": {
    "id": "8a724284"
   },
   "source": [
    "pandas e numpy trabalham muito bem juntos. Por exemplo, podemos usar numpy para criar dados simulados e carregá-los em um DataFrame pandas para análise."
   ]
  },
  {
   "cell_type": "code",
   "execution_count": 117,
   "id": "0fa597bb",
   "metadata": {
    "id": "0fa597bb"
   },
   "outputs": [
    {
     "name": "stdout",
     "output_type": "stream",
     "text": [
      "Média das Notas: 7.108652067104911\n",
      "   Idade      Nota\n",
      "0     25  7.297760\n",
      "1     40  8.490898\n",
      "2     31  7.110077\n",
      "3     34  9.815991\n",
      "4     58  7.910073\n",
      "5     39  6.732021\n",
      "6     54  3.754019\n",
      "7     45  9.075538\n",
      "8     40  8.246817\n",
      "9     48  2.653327\n",
      "Dados salvos em 'dados_simulados.csv'\n"
     ]
    }
   ],
   "source": [
    "import numpy as np\n",
    "import pandas as pd\n",
    "\n",
    "# Criando dados simulados com numpy\n",
    "idades = np.random.randint(18, 60, size=10)\n",
    "notas = np.random.normal(loc=7.0, scale=1.5, size=10)\n",
    "\n",
    "# Criando um DataFrame com pandas\n",
    "df = pd.DataFrame({\"Idade\": idades, \"Nota\": notas})\n",
    "\n",
    "# Calculando a média das notas e exibindo o DataFrame\n",
    "print(\"Média das Notas:\", np.mean(df[\"Nota\"]))\n",
    "print(df)\n",
    "\n",
    "# Salvando o DataFrame em um arquivo CSV\n",
    "df.to_csv(\"datasets/dados_simulados.csv\", index=False)\n",
    "print(\"Dados salvos em 'dados_simulados.csv'\")"
   ]
  },
  {
   "cell_type": "code",
   "execution_count": 118,
   "id": "ca487dba",
   "metadata": {},
   "outputs": [
    {
     "data": {
      "text/html": [
       "<div>\n",
       "<style scoped>\n",
       "    .dataframe tbody tr th:only-of-type {\n",
       "        vertical-align: middle;\n",
       "    }\n",
       "\n",
       "    .dataframe tbody tr th {\n",
       "        vertical-align: top;\n",
       "    }\n",
       "\n",
       "    .dataframe thead th {\n",
       "        text-align: right;\n",
       "    }\n",
       "</style>\n",
       "<table border=\"1\" class=\"dataframe\">\n",
       "  <thead>\n",
       "    <tr style=\"text-align: right;\">\n",
       "      <th></th>\n",
       "      <th>Idade</th>\n",
       "      <th>Nota</th>\n",
       "    </tr>\n",
       "  </thead>\n",
       "  <tbody>\n",
       "    <tr>\n",
       "      <th>0</th>\n",
       "      <td>25</td>\n",
       "      <td>7.297760</td>\n",
       "    </tr>\n",
       "    <tr>\n",
       "      <th>1</th>\n",
       "      <td>40</td>\n",
       "      <td>8.490898</td>\n",
       "    </tr>\n",
       "    <tr>\n",
       "      <th>2</th>\n",
       "      <td>31</td>\n",
       "      <td>7.110077</td>\n",
       "    </tr>\n",
       "    <tr>\n",
       "      <th>3</th>\n",
       "      <td>34</td>\n",
       "      <td>9.815991</td>\n",
       "    </tr>\n",
       "    <tr>\n",
       "      <th>4</th>\n",
       "      <td>58</td>\n",
       "      <td>7.910073</td>\n",
       "    </tr>\n",
       "    <tr>\n",
       "      <th>5</th>\n",
       "      <td>39</td>\n",
       "      <td>6.732021</td>\n",
       "    </tr>\n",
       "    <tr>\n",
       "      <th>6</th>\n",
       "      <td>54</td>\n",
       "      <td>3.754019</td>\n",
       "    </tr>\n",
       "    <tr>\n",
       "      <th>7</th>\n",
       "      <td>45</td>\n",
       "      <td>9.075538</td>\n",
       "    </tr>\n",
       "    <tr>\n",
       "      <th>8</th>\n",
       "      <td>40</td>\n",
       "      <td>8.246817</td>\n",
       "    </tr>\n",
       "    <tr>\n",
       "      <th>9</th>\n",
       "      <td>48</td>\n",
       "      <td>2.653327</td>\n",
       "    </tr>\n",
       "  </tbody>\n",
       "</table>\n",
       "</div>"
      ],
      "text/plain": [
       "   Idade      Nota\n",
       "0     25  7.297760\n",
       "1     40  8.490898\n",
       "2     31  7.110077\n",
       "3     34  9.815991\n",
       "4     58  7.910073\n",
       "5     39  6.732021\n",
       "6     54  3.754019\n",
       "7     45  9.075538\n",
       "8     40  8.246817\n",
       "9     48  2.653327"
      ]
     },
     "execution_count": 118,
     "metadata": {},
     "output_type": "execute_result"
    }
   ],
   "source": [
    "df"
   ]
  },
  {
   "cell_type": "markdown",
   "id": "15dc4878",
   "metadata": {
    "id": "15dc4878"
   },
   "source": [
    "### Resumo\n",
    "- pandas: Focado na manipulação de dados estruturados e tabulares, permitindo leitura, limpeza e análise de dados.\n",
    "- numpy: Focado em computação numérica com arrays e operações matemáticas rápidas e eficientes.\n",
    "\n",
    "Juntas, essas bibliotecas são o alicerce para qualquer trabalho de análise e ciência de dados em Python, otimizando o processamento e análise de grandes volumes de dados."
   ]
  }
 ],
 "metadata": {
  "colab": {
   "provenance": []
  },
  "kernelspec": {
   "display_name": "my_projects",
   "language": "python",
   "name": "python3"
  },
  "language_info": {
   "codemirror_mode": {
    "name": "ipython",
    "version": 3
   },
   "file_extension": ".py",
   "mimetype": "text/x-python",
   "name": "python",
   "nbconvert_exporter": "python",
   "pygments_lexer": "ipython3",
   "version": "3.9.16"
  }
 },
 "nbformat": 4,
 "nbformat_minor": 5
}
