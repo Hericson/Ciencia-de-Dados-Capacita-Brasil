{
 "cells": [
  {
   "cell_type": "markdown",
   "id": "c05cb24b",
   "metadata": {
    "id": "c05cb24b"
   },
   "source": [
    "![aula06capa.png](./figuras/aula06capa.png)"
   ]
  },
  {
   "cell_type": "markdown",
   "id": "7b808fdf",
   "metadata": {
    "id": "7b808fdf"
   },
   "source": [
    "## 1. Introdução às Bibliotecas"
   ]
  },
  {
   "cell_type": "markdown",
   "id": "6ed2853b",
   "metadata": {
    "id": "6ed2853b"
   },
   "source": [
    "Contextualizar numpy e pandas no ecossistema Python para ciência de dados, abordando suas principais diferenças e quando usar cada uma."
   ]
  },
  {
   "cell_type": "markdown",
   "id": "1de06727",
   "metadata": {
    "id": "1de06727"
   },
   "source": [
    "- numpy: Focado em operações com arrays e cálculos numéricos de alto desempenho.\n",
    "\n",
    "- pandas: Voltado para manipulação e análise de dados, especialmente estruturados em formato de tabela."
   ]
  },
  {
   "cell_type": "code",
   "execution_count": 1,
   "id": "525c924a",
   "metadata": {
    "id": "525c924a"
   },
   "outputs": [],
   "source": [
    "import numpy as np\n",
    "import pandas as pd"
   ]
  },
  {
   "cell_type": "markdown",
   "id": "b2ee268b",
   "metadata": {
    "id": "b2ee268b"
   },
   "source": [
    "## 2. Fundamentos do numpy"
   ]
  },
  {
   "cell_type": "code",
   "execution_count": 2,
   "id": "286a35b4",
   "metadata": {
    "colab": {
     "base_uri": "https://localhost:8080/",
     "height": 36
    },
    "executionInfo": {
     "elapsed": 303,
     "status": "ok",
     "timestamp": 1732019033237,
     "user": {
      "displayName": "Ricardo Normando Ferreira De Paula",
      "userId": "09816079611744283478"
     },
     "user_tz": 180
    },
    "id": "286a35b4",
    "outputId": "ddc169ac-6566-412e-f099-986141232099"
   },
   "outputs": [
    {
     "data": {
      "text/plain": [
       "'1.25.0'"
      ]
     },
     "execution_count": 2,
     "metadata": {},
     "output_type": "execute_result"
    }
   ],
   "source": [
    "np.__version__ # Versão da biblioteca"
   ]
  },
  {
   "cell_type": "code",
   "execution_count": 3,
   "id": "kDaXPccrYS7J",
   "metadata": {
    "colab": {
     "base_uri": "https://localhost:8080/",
     "height": 36
    },
    "executionInfo": {
     "elapsed": 295,
     "status": "ok",
     "timestamp": 1732019053665,
     "user": {
      "displayName": "Ricardo Normando Ferreira De Paula",
      "userId": "09816079611744283478"
     },
     "user_tz": 180
    },
    "id": "kDaXPccrYS7J",
    "outputId": "ec89d4fb-6b39-48b6-ee48-8a9ef6b33a6d"
   },
   "outputs": [
    {
     "data": {
      "text/plain": [
       "'2.0.1'"
      ]
     },
     "execution_count": 3,
     "metadata": {},
     "output_type": "execute_result"
    }
   ],
   "source": [
    "pd.__version__"
   ]
  },
  {
   "cell_type": "markdown",
   "id": "9337b3af",
   "metadata": {
    "id": "9337b3af"
   },
   "source": [
    "### 2.1 Criando Arrays a partir de Listas em Python\n",
    "\n",
    "Primeiro, podemos usar `np.array` para criar arrays a partir de listas em Python:"
   ]
  },
  {
   "cell_type": "code",
   "execution_count": 101,
   "id": "ca58a53f",
   "metadata": {
    "colab": {
     "base_uri": "https://localhost:8080/"
    },
    "executionInfo": {
     "elapsed": 298,
     "status": "ok",
     "timestamp": 1732019067639,
     "user": {
      "displayName": "Ricardo Normando Ferreira De Paula",
      "userId": "09816079611744283478"
     },
     "user_tz": 180
    },
    "id": "ca58a53f",
    "outputId": "7ccb7ed4-bb18-43c4-c055-c3af73fe72b3"
   },
   "outputs": [
    {
     "data": {
      "text/plain": [
       "array([1, 4, 2, 5, 3])"
      ]
     },
     "execution_count": 101,
     "metadata": {},
     "output_type": "execute_result"
    }
   ],
   "source": [
    "# integer array:\n",
    "np.array([1, 4, 2, 5, 3])"
   ]
  },
  {
   "cell_type": "markdown",
   "id": "0e0d16f6",
   "metadata": {
    "id": "0e0d16f6"
   },
   "source": [
    "Lembre-se de que, ao contrário das listas em Python, o NumPy é restrito a arrays que contêm todos os elementos do mesmo tipo.\n",
    "Se os tipos não forem compatíveis, o NumPy fará o *upcast* se possível (aqui, inteiros são convertidos para ponto flutuante):"
   ]
  },
  {
   "cell_type": "code",
   "execution_count": 103,
   "id": "7c6860ca",
   "metadata": {
    "colab": {
     "base_uri": "https://localhost:8080/"
    },
    "executionInfo": {
     "elapsed": 296,
     "status": "ok",
     "timestamp": 1732019086229,
     "user": {
      "displayName": "Ricardo Normando Ferreira De Paula",
      "userId": "09816079611744283478"
     },
     "user_tz": 180
    },
    "id": "7c6860ca",
    "outputId": "8f333a4a-16f3-4510-d91d-888de3b1db43"
   },
   "outputs": [
    {
     "data": {
      "text/plain": [
       "array([3.14, 4.  , 2.  , 3.  ])"
      ]
     },
     "execution_count": 103,
     "metadata": {},
     "output_type": "execute_result"
    }
   ],
   "source": [
    "np.array([3.14, 4, 2, 3])"
   ]
  },
  {
   "cell_type": "markdown",
   "id": "9872a1c8",
   "metadata": {
    "id": "9872a1c8"
   },
   "source": [
    "Se quisermos definir explicitamente o tipo de dado do array resultante, podemos usar o parâmetro ``dtype``:\n"
   ]
  },
  {
   "cell_type": "code",
   "execution_count": 104,
   "id": "d536d5e3",
   "metadata": {
    "colab": {
     "base_uri": "https://localhost:8080/"
    },
    "executionInfo": {
     "elapsed": 304,
     "status": "ok",
     "timestamp": 1732019098815,
     "user": {
      "displayName": "Ricardo Normando Ferreira De Paula",
      "userId": "09816079611744283478"
     },
     "user_tz": 180
    },
    "id": "d536d5e3",
    "outputId": "3d020e88-5d44-41f5-953a-6c05d95a64f0"
   },
   "outputs": [
    {
     "data": {
      "text/plain": [
       "array([1., 2., 3., 4.], dtype=float32)"
      ]
     },
     "execution_count": 104,
     "metadata": {},
     "output_type": "execute_result"
    }
   ],
   "source": [
    "np.array([1, 2, 3, 4], dtype='float32')"
   ]
  },
  {
   "cell_type": "markdown",
   "id": "9f75c5c4",
   "metadata": {
    "id": "9f75c5c4"
   },
   "source": [
    "Por fim, ao contrário das listas em Python, os arrays do NumPy podem ser explicitamente multidimensionais; aqui está uma maneira de inicializar um array multidimensional usando uma lista de listas:"
   ]
  },
  {
   "cell_type": "code",
   "execution_count": 105,
   "id": "a030ebdd",
   "metadata": {
    "colab": {
     "base_uri": "https://localhost:8080/"
    },
    "executionInfo": {
     "elapsed": 301,
     "status": "ok",
     "timestamp": 1732019496678,
     "user": {
      "displayName": "Ricardo Normando Ferreira De Paula",
      "userId": "09816079611744283478"
     },
     "user_tz": 180
    },
    "id": "a030ebdd",
    "outputId": "1a16b9b3-5a5f-4dd4-9d15-23513313809b"
   },
   "outputs": [
    {
     "name": "stdout",
     "output_type": "stream",
     "text": [
      "Array 1D: [1 2 3 4]\n",
      "Array 2D: [[1 2 3]\n",
      " [4 5 6]]\n",
      "Array 3D: [[1 2 3]\n",
      " [4 5 6]\n",
      " [7 8 9]]\n"
     ]
    }
   ],
   "source": [
    "# Criando arrays unidimensionais e multidimensionais\n",
    "array_1d = np.array([1, 2, 3, 4])\n",
    "array_2d = np.array([[1, 2, 3], [4, 5, 6]])\n",
    "array_3d = np.array([[1, 2, 3], [4, 5, 6], [7, 8, 9]])\n",
    "print(\"Array 1D:\", array_1d)\n",
    "print(\"Array 2D:\", array_2d)\n",
    "print(\"Array 3D:\", array_3d)"
   ]
  },
  {
   "cell_type": "code",
   "execution_count": 106,
   "id": "f095e75c",
   "metadata": {
    "colab": {
     "base_uri": "https://localhost:8080/"
    },
    "executionInfo": {
     "elapsed": 293,
     "status": "ok",
     "timestamp": 1732019523449,
     "user": {
      "displayName": "Ricardo Normando Ferreira De Paula",
      "userId": "09816079611744283478"
     },
     "user_tz": 180
    },
    "id": "f095e75c",
    "outputId": "4246ed72-4300-449c-b0ed-ed64e5364528"
   },
   "outputs": [
    {
     "data": {
      "text/plain": [
       "array([[2, 3, 4],\n",
       "       [4, 5, 6],\n",
       "       [6, 7, 8]])"
      ]
     },
     "execution_count": 106,
     "metadata": {},
     "output_type": "execute_result"
    }
   ],
   "source": [
    "# listas aninhadas resultam em arrays multidimensionais\n",
    "np.array([range(i, i + 3) for i in [2, 4, 6]])"
   ]
  },
  {
   "cell_type": "markdown",
   "id": "435d0e83",
   "metadata": {
    "id": "435d0e83"
   },
   "source": [
    "As listas internas são tratadas como linhas do array bidimensional resultante."
   ]
  },
  {
   "cell_type": "markdown",
   "id": "f4f27eda",
   "metadata": {
    "id": "f4f27eda"
   },
   "source": [
    "### 2.2 Criando Arrays do Zero\n",
    "\n",
    "Especialmente para arrays maiores, é mais eficiente criar arrays do zero usando rotinas integradas no NumPy.\n",
    "Aqui estão alguns exemplos:\n"
   ]
  },
  {
   "cell_type": "code",
   "execution_count": 110,
   "id": "9ba63646",
   "metadata": {},
   "outputs": [
    {
     "data": {
      "text/plain": [
       "array([0, 0, 0, 0, 0, 0, 0, 0, 0, 0, 0, 0, 0, 0, 0], dtype=int8)"
      ]
     },
     "execution_count": 110,
     "metadata": {},
     "output_type": "execute_result"
    }
   ],
   "source": [
    "alunos = np.zeros(15, dtype=np.int8)\n",
    "alunos"
   ]
  },
  {
   "cell_type": "code",
   "execution_count": 9,
   "id": "8346aab2",
   "metadata": {
    "colab": {
     "base_uri": "https://localhost:8080/"
    },
    "executionInfo": {
     "elapsed": 282,
     "status": "ok",
     "timestamp": 1732019670768,
     "user": {
      "displayName": "Ricardo Normando Ferreira De Paula",
      "userId": "09816079611744283478"
     },
     "user_tz": 180
    },
    "id": "8346aab2",
    "outputId": "423719f4-65fd-4205-e8e4-23f55ff22e8d"
   },
   "outputs": [
    {
     "data": {
      "text/plain": [
       "array([0, 0, 0, 0, 0, 0, 0, 0, 0, 0])"
      ]
     },
     "execution_count": 9,
     "metadata": {},
     "output_type": "execute_result"
    }
   ],
   "source": [
    "# Criar um array de inteiros de comprimento 10 preenchido com zeros\n",
    "np.zeros(10, dtype=int)"
   ]
  },
  {
   "cell_type": "code",
   "execution_count": 114,
   "id": "4cd54368",
   "metadata": {
    "colab": {
     "base_uri": "https://localhost:8080/"
    },
    "executionInfo": {
     "elapsed": 255,
     "status": "ok",
     "timestamp": 1732019680058,
     "user": {
      "displayName": "Ricardo Normando Ferreira De Paula",
      "userId": "09816079611744283478"
     },
     "user_tz": 180
    },
    "id": "4cd54368",
    "outputId": "5a55db12-31a6-465b-b2eb-298cdf5b25b4"
   },
   "outputs": [
    {
     "data": {
      "text/plain": [
       "array([[1, 1, 1, 1, 1],\n",
       "       [1, 1, 1, 1, 1],\n",
       "       [1, 1, 1, 1, 1]], dtype=int8)"
      ]
     },
     "execution_count": 114,
     "metadata": {},
     "output_type": "execute_result"
    }
   ],
   "source": [
    "# Criar um array de ponto flutuante 3x5 preenchido com uns\n",
    "vetor_uns = np.ones((3, 5), dtype=np.int8)\n",
    "vetor_uns"
   ]
  },
  {
   "cell_type": "code",
   "execution_count": 115,
   "id": "d6cee349",
   "metadata": {},
   "outputs": [
    {
     "data": {
      "text/plain": [
       "array([[10, 10, 10, 10, 10],\n",
       "       [10, 10, 10, 10, 10],\n",
       "       [10, 10, 10, 10, 10]], dtype=int8)"
      ]
     },
     "execution_count": 115,
     "metadata": {},
     "output_type": "execute_result"
    }
   ],
   "source": [
    "10 * vetor_uns"
   ]
  },
  {
   "cell_type": "code",
   "execution_count": 11,
   "id": "e29af6e6",
   "metadata": {
    "colab": {
     "base_uri": "https://localhost:8080/"
    },
    "executionInfo": {
     "elapsed": 301,
     "status": "ok",
     "timestamp": 1732019695093,
     "user": {
      "displayName": "Ricardo Normando Ferreira De Paula",
      "userId": "09816079611744283478"
     },
     "user_tz": 180
    },
    "id": "e29af6e6",
    "outputId": "2d64a7e0-b7a3-4bfd-dd46-84e39a342d7a"
   },
   "outputs": [
    {
     "data": {
      "text/plain": [
       "array([[3.14, 3.14, 3.14, 3.14, 3.14],\n",
       "       [3.14, 3.14, 3.14, 3.14, 3.14],\n",
       "       [3.14, 3.14, 3.14, 3.14, 3.14]])"
      ]
     },
     "execution_count": 11,
     "metadata": {},
     "output_type": "execute_result"
    }
   ],
   "source": [
    "# Criar um array 3x5 preenchido com 3.14\n",
    "np.full((3, 5), 3.14)"
   ]
  },
  {
   "cell_type": "code",
   "execution_count": 116,
   "id": "d41c6326",
   "metadata": {},
   "outputs": [
    {
     "data": {
      "text/plain": [
       "array([[10, 10, 10, 10, 10],\n",
       "       [10, 10, 10, 10, 10],\n",
       "       [10, 10, 10, 10, 10]])"
      ]
     },
     "execution_count": 116,
     "metadata": {},
     "output_type": "execute_result"
    }
   ],
   "source": [
    "# Criar um array 3x5 preenchido com 3.14\n",
    "np.full((3, 5), 10)"
   ]
  },
  {
   "cell_type": "code",
   "execution_count": 117,
   "id": "c802fafe",
   "metadata": {
    "colab": {
     "base_uri": "https://localhost:8080/"
    },
    "executionInfo": {
     "elapsed": 291,
     "status": "ok",
     "timestamp": 1732019890936,
     "user": {
      "displayName": "Ricardo Normando Ferreira De Paula",
      "userId": "09816079611744283478"
     },
     "user_tz": 180
    },
    "id": "c802fafe",
    "outputId": "5573963d-1588-402c-a1cf-a7460616f1da"
   },
   "outputs": [
    {
     "data": {
      "text/plain": [
       "array([ 0,  2,  4,  6,  8, 10, 12, 14, 16, 18])"
      ]
     },
     "execution_count": 117,
     "metadata": {},
     "output_type": "execute_result"
    }
   ],
   "source": [
    "# Criar um array preenchido com uma sequência linear. Começando em 0, terminando em 20, com passo de 2\n",
    "# (isso é similar à função range())\n",
    "np.arange(start=0,stop=20,step=2)"
   ]
  },
  {
   "cell_type": "code",
   "execution_count": 119,
   "id": "2fc3ec07",
   "metadata": {},
   "outputs": [
    {
     "data": {
      "text/plain": [
       "array([  1,   4,   7,  10,  13,  16,  19,  22,  25,  28,  31,  34,  37,\n",
       "        40,  43,  46,  49,  52,  55,  58,  61,  64,  67,  70,  73,  76,\n",
       "        79,  82,  85,  88,  91,  94,  97, 100])"
      ]
     },
     "execution_count": 119,
     "metadata": {},
     "output_type": "execute_result"
    }
   ],
   "source": [
    "np.arange(start=1,stop=101,step=3)"
   ]
  },
  {
   "cell_type": "code",
   "execution_count": 122,
   "id": "e097860f",
   "metadata": {
    "colab": {
     "base_uri": "https://localhost:8080/"
    },
    "executionInfo": {
     "elapsed": 304,
     "status": "ok",
     "timestamp": 1732019896208,
     "user": {
      "displayName": "Ricardo Normando Ferreira De Paula",
      "userId": "09816079611744283478"
     },
     "user_tz": 180
    },
    "id": "e097860f",
    "outputId": "10e2a74b-96a4-4003-974c-d7b873df6982"
   },
   "outputs": [
    {
     "data": {
      "text/plain": [
       "array([0.        , 0.01010101, 0.02020202, 0.03030303, 0.04040404,\n",
       "       0.05050505, 0.06060606, 0.07070707, 0.08080808, 0.09090909,\n",
       "       0.1010101 , 0.11111111, 0.12121212, 0.13131313, 0.14141414,\n",
       "       0.15151515, 0.16161616, 0.17171717, 0.18181818, 0.19191919,\n",
       "       0.2020202 , 0.21212121, 0.22222222, 0.23232323, 0.24242424,\n",
       "       0.25252525, 0.26262626, 0.27272727, 0.28282828, 0.29292929,\n",
       "       0.3030303 , 0.31313131, 0.32323232, 0.33333333, 0.34343434,\n",
       "       0.35353535, 0.36363636, 0.37373737, 0.38383838, 0.39393939,\n",
       "       0.4040404 , 0.41414141, 0.42424242, 0.43434343, 0.44444444,\n",
       "       0.45454545, 0.46464646, 0.47474747, 0.48484848, 0.49494949,\n",
       "       0.50505051, 0.51515152, 0.52525253, 0.53535354, 0.54545455,\n",
       "       0.55555556, 0.56565657, 0.57575758, 0.58585859, 0.5959596 ,\n",
       "       0.60606061, 0.61616162, 0.62626263, 0.63636364, 0.64646465,\n",
       "       0.65656566, 0.66666667, 0.67676768, 0.68686869, 0.6969697 ,\n",
       "       0.70707071, 0.71717172, 0.72727273, 0.73737374, 0.74747475,\n",
       "       0.75757576, 0.76767677, 0.77777778, 0.78787879, 0.7979798 ,\n",
       "       0.80808081, 0.81818182, 0.82828283, 0.83838384, 0.84848485,\n",
       "       0.85858586, 0.86868687, 0.87878788, 0.88888889, 0.8989899 ,\n",
       "       0.90909091, 0.91919192, 0.92929293, 0.93939394, 0.94949495,\n",
       "       0.95959596, 0.96969697, 0.97979798, 0.98989899, 1.        ])"
      ]
     },
     "execution_count": 122,
     "metadata": {},
     "output_type": "execute_result"
    }
   ],
   "source": [
    "# Criar um array com cinco valores espaçados uniformemente entre 0 e 1\n",
    "np.linspace(start=0, stop=1, num=100)"
   ]
  },
  {
   "cell_type": "code",
   "execution_count": 14,
   "id": "1319c15b",
   "metadata": {
    "colab": {
     "base_uri": "https://localhost:8080/"
    },
    "executionInfo": {
     "elapsed": 293,
     "status": "ok",
     "timestamp": 1732019911657,
     "user": {
      "displayName": "Ricardo Normando Ferreira De Paula",
      "userId": "09816079611744283478"
     },
     "user_tz": 180
    },
    "id": "1319c15b",
    "outputId": "16781d1f-a409-4bb1-91a6-bd1011d98c60"
   },
   "outputs": [
    {
     "data": {
      "text/plain": [
       "array([[0.80696857, 0.38008283, 0.80943045],\n",
       "       [0.2250345 , 0.28882507, 0.39807221],\n",
       "       [0.16185956, 0.70585788, 0.36362484]])"
      ]
     },
     "execution_count": 14,
     "metadata": {},
     "output_type": "execute_result"
    }
   ],
   "source": [
    "# Criar um array 3x3 de valores aleatórios distribuídos uniformemente entre 0 e 1\n",
    "np.random.random((3, 3))"
   ]
  },
  {
   "cell_type": "code",
   "execution_count": 15,
   "id": "46739c0a",
   "metadata": {
    "colab": {
     "base_uri": "https://localhost:8080/"
    },
    "executionInfo": {
     "elapsed": 303,
     "status": "ok",
     "timestamp": 1732019936858,
     "user": {
      "displayName": "Ricardo Normando Ferreira De Paula",
      "userId": "09816079611744283478"
     },
     "user_tz": 180
    },
    "id": "46739c0a",
    "outputId": "0f661c71-1c57-446f-f4f6-15815301eac7"
   },
   "outputs": [
    {
     "data": {
      "text/plain": [
       "array([[ 0.16653666, -1.34372202, -1.19066537],\n",
       "       [-0.69104825,  0.69425436,  0.43035604],\n",
       "       [-0.27930449,  0.8681903 ,  1.18740791]])"
      ]
     },
     "execution_count": 15,
     "metadata": {},
     "output_type": "execute_result"
    }
   ],
   "source": [
    "# Criar um array 3x3 de valores aleatórios distribuídos normalmente\n",
    "# com média 0 e desvio padrão 1\n",
    "np.random.normal(0, 1, (3, 3))"
   ]
  },
  {
   "cell_type": "code",
   "execution_count": 16,
   "id": "1c0d88c9",
   "metadata": {
    "colab": {
     "base_uri": "https://localhost:8080/"
    },
    "executionInfo": {
     "elapsed": 663,
     "status": "ok",
     "timestamp": 1732021956526,
     "user": {
      "displayName": "Ricardo Normando Ferreira De Paula",
      "userId": "09816079611744283478"
     },
     "user_tz": 180
    },
    "id": "1c0d88c9",
    "outputId": "2ca08910-73d4-40f0-e133-2e370e454537"
   },
   "outputs": [
    {
     "data": {
      "text/plain": [
       "array([[8, 8, 0],\n",
       "       [8, 4, 8],\n",
       "       [1, 2, 5]])"
      ]
     },
     "execution_count": 16,
     "metadata": {},
     "output_type": "execute_result"
    }
   ],
   "source": [
    "# Criar um array 3x3 de inteiros aleatórios no intervalo [0, 10)\n",
    "np.random.randint(0, 10, (3, 3))"
   ]
  },
  {
   "cell_type": "code",
   "execution_count": 123,
   "id": "67612c14",
   "metadata": {},
   "outputs": [
    {
     "data": {
      "text/plain": [
       "array([[0, 2, 7, 2, 9],\n",
       "       [2, 3, 3, 2, 3],\n",
       "       [4, 1, 2, 9, 1]])"
      ]
     },
     "execution_count": 123,
     "metadata": {},
     "output_type": "execute_result"
    }
   ],
   "source": [
    "np.random.randint(0, 10, (3, 5))"
   ]
  },
  {
   "cell_type": "code",
   "execution_count": 128,
   "id": "6c8f9337",
   "metadata": {
    "colab": {
     "base_uri": "https://localhost:8080/"
    },
    "executionInfo": {
     "elapsed": 267,
     "status": "ok",
     "timestamp": 1732021963670,
     "user": {
      "displayName": "Ricardo Normando Ferreira De Paula",
      "userId": "09816079611744283478"
     },
     "user_tz": 180
    },
    "id": "6c8f9337",
    "outputId": "0520c800-3663-4cb4-fae3-5ce49fa37685"
   },
   "outputs": [
    {
     "data": {
      "text/plain": [
       "array([[1, 0, 0, 0, 0],\n",
       "       [0, 1, 0, 0, 0],\n",
       "       [0, 0, 1, 0, 0],\n",
       "       [0, 0, 0, 1, 0],\n",
       "       [0, 0, 0, 0, 1]], dtype=int8)"
      ]
     },
     "execution_count": 128,
     "metadata": {},
     "output_type": "execute_result"
    }
   ],
   "source": [
    "# Criar uma matriz identidade  3x3\n",
    "np.eye(5, dtype=np.int8)"
   ]
  },
  {
   "cell_type": "markdown",
   "id": "d2d68b59",
   "metadata": {
    "id": "d2d68b59"
   },
   "source": [
    "### 2.3 Tipos de Dados Padrão do NumPy\n",
    "\n",
    "Arrays do NumPy contêm valores de um único tipo, então é importante ter um conhecimento detalhado desses tipos e suas limitações.\n",
    "Como o NumPy é construído em C, os tipos serão familiares para usuários de C, Fortran e outras linguagens relacionadas.\n",
    "\n",
    "Os tipos de dados padrão do NumPy estão listados na tabela a seguir.\n",
    "Observe que, ao construir um array, eles podem ser especificados usando uma string:\n",
    "\n",
    "```python\n",
    "np.zeros(10, dtype='int16')\n",
    "\n",
    "Ou usando o objeto associado do NumPy:\n",
    "\n",
    "np.zeros(10, dtype=np.int16)\n",
    "\n",
    "\n"
   ]
  },
  {
   "cell_type": "markdown",
   "id": "dfbd784e",
   "metadata": {
    "id": "dfbd784e"
   },
   "source": [
    "| Tipo de dado   | Descrição |\n",
    "|--------------- |-----------|\n",
    "| `bool_`        | Booleano (Verdadeiro ou Falso) armazenado como um byte |\n",
    "| `int_`         | Tipo de inteiro padrão (igual ao `long` em C; normalmente `int64` ou `int32`) |\n",
    "| `intc`         | Idêntico ao `int` em C (normalmente `int32` ou `int64`) |\n",
    "| `intp`         | Inteiro usado para indexação (igual a `ssize_t` em C; normalmente `int32` ou `int64`) |\n",
    "| `int8`         | Byte (-128 a 127) |\n",
    "| `int16`        | Inteiro (-32768 a 32767) |\n",
    "| `int32`        | Inteiro (-2147483648 a 2147483647) |\n",
    "| `int64`        | Inteiro (-9223372036854775808 a 9223372036854775807) |\n",
    "| `uint8`        | Inteiro sem sinal (0 a 255) |\n",
    "| `uint16`       | Inteiro sem sinal (0 a 65535) |\n",
    "| `uint32`       | Inteiro sem sinal (0 a 4294967295) |\n",
    "| `uint64`       | Inteiro sem sinal (0 a 18446744073709551615) |\n",
    "| `float_`       | Abreviação para `float64`. |\n",
    "| `float16`      | Float de meia precisão: bit de sinal, 5 bits para o expoente, 10 bits para a mantissa |\n",
    "| `float32`      | Float de precisão simples: bit de sinal, 8 bits para o expoente, 23 bits para a mantissa |\n",
    "| `float64`      | Float de precisão dupla: bit de sinal, 11 bits para o expoente, 52 bits para a mantissa |\n",
    "| `complex_`     | Abreviação para `complex128`. |\n",
    "| `complex64`    | Número complexo, representado por dois floats de 32 bits |\n",
    "| `complex128`   | Número complexo, representado por dois floats de 64 bits |\n"
   ]
  },
  {
   "cell_type": "markdown",
   "id": "4fdb8e8e",
   "metadata": {
    "id": "4fdb8e8e"
   },
   "source": [
    "### 2.4 Conceitos Básicos de Arrays do NumPy\n"
   ]
  },
  {
   "cell_type": "markdown",
   "id": "3fdfcbb0",
   "metadata": {
    "id": "3fdfcbb0"
   },
   "source": [
    "A manipulação de dados em Python é quase sinônimo de manipulação de arrays do NumPy: até mesmo o Pandas é construído em torno dos arrays do NumPy.\n",
    "\n",
    "Aqui, abordaremos algumas categorias de manipulações básicas de arrays:\n",
    "\n",
    "- Atributos de arrays: Determinando o tamanho, forma, consumo de memória e tipos de dados dos arrays\n",
    "- Indexação de arrays: Obtendo e definindo o valor de elementos individuais do array\n",
    "- Fatiamento de arrays: Obtendo e definindo subarrays menores dentro de um array maior\n",
    "- Remodelagem de arrays: Alterando a forma de um array existente\n",
    "- Junção e divisão de arrays: Combinando vários arrays em um, e dividindo um array em muitos\n"
   ]
  },
  {
   "cell_type": "markdown",
   "id": "b8a05e8d",
   "metadata": {
    "id": "b8a05e8d"
   },
   "source": [
    "Primeiro, vamos discutir alguns atributos úteis de arrays. Começaremos definindo três arrays aleatórios: um unidimensional, um bidimensional e um tridimensional. Usaremos o gerador de números aleatórios do NumPy, que será inicializado com um valor definido para garantir que os mesmos arrays aleatórios sejam gerados cada vez que este código for executado:\n"
   ]
  },
  {
   "cell_type": "code",
   "execution_count": 151,
   "id": "9cf6729a",
   "metadata": {
    "id": "9cf6729a"
   },
   "outputs": [
    {
     "name": "stdout",
     "output_type": "stream",
     "text": [
      "x1:\n",
      " [9 4 0 1 9 0]\n",
      "x2:\n",
      " [[1 8 9 0]\n",
      " [8 6 4 3]\n",
      " [0 4 6 8]]\n",
      "x3:\n",
      " [[[1 8 4 1 3]\n",
      "  [6 5 3 9 6]\n",
      "  [9 1 9 4 2]\n",
      "  [6 7 8 8 9]]\n",
      "\n",
      " [[2 0 6 7 8]\n",
      "  [1 7 1 4 0]\n",
      "  [8 5 4 7 8]\n",
      "  [8 2 6 2 8]]\n",
      "\n",
      " [[8 6 6 5 6]\n",
      "  [0 0 6 9 1]\n",
      "  [8 9 1 2 8]\n",
      "  [9 9 5 0 2]]]\n"
     ]
    }
   ],
   "source": [
    "import numpy as np\n",
    "np.random.seed(10)  # função para \"pseudo\"-aleatoriedade\n",
    "\n",
    "x1 = np.random.randint(10, size=6)  # array 1D\n",
    "x2 = np.random.randint(10, size=(3, 4))  # array 2D\n",
    "x3 = np.random.randint(10, size=(3, 4, 5))  # array 3D - define o formato do array com 3 \"blocos\" de 4 linhas e 5 colunas.\n",
    "\n",
    "print(\"x1:\\n\",x1)\n",
    "print(\"x2:\\n\",x2)\n",
    "print(\"x3:\\n\",x3)"
   ]
  },
  {
   "cell_type": "markdown",
   "id": "a2bc8001",
   "metadata": {
    "id": "a2bc8001"
   },
   "source": [
    "Cada array possui os atributos `ndim` (o número de dimensões), `shape` (o tamanho de cada dimensão) e `size` (o tamanho total do array):"
   ]
  },
  {
   "cell_type": "code",
   "execution_count": 152,
   "id": "930ae2c8",
   "metadata": {
    "id": "930ae2c8"
   },
   "outputs": [
    {
     "name": "stdout",
     "output_type": "stream",
     "text": [
      "x3 ndim:  3\n",
      "x3 shape: (3, 4, 5)\n",
      "x3 size:  60\n"
     ]
    }
   ],
   "source": [
    "print(\"x3 ndim: \", x3.ndim)\n",
    "print(\"x3 shape:\", x3.shape)\n",
    "print(\"x3 size: \", x3.size)"
   ]
  },
  {
   "cell_type": "code",
   "execution_count": 153,
   "id": "26867493",
   "metadata": {},
   "outputs": [
    {
     "name": "stdout",
     "output_type": "stream",
     "text": [
      "x3 ndim:  2\n",
      "x3 shape: (3, 4)\n",
      "x3 size:  12\n"
     ]
    }
   ],
   "source": [
    "print(\"x3 ndim: \", x2.ndim)\n",
    "print(\"x3 shape:\", x2.shape)\n",
    "print(\"x3 size: \", x2.size)"
   ]
  },
  {
   "cell_type": "markdown",
   "id": "41633dbd",
   "metadata": {
    "id": "41633dbd"
   },
   "source": [
    "Outro atributo útil é o `dtype`, o tipo de dado do array; Outros atributos incluem `itemsize`, que lista o tamanho (em bytes) de cada elemento do array, e `nbytes`, que lista o tamanho total (em bytes) do array:"
   ]
  },
  {
   "cell_type": "code",
   "execution_count": 154,
   "id": "bed32a2b",
   "metadata": {
    "id": "bed32a2b"
   },
   "outputs": [
    {
     "name": "stdout",
     "output_type": "stream",
     "text": [
      "dtype: int64\n",
      "itemsize: 8 bytes\n",
      "nbytes: 480 bytes\n"
     ]
    }
   ],
   "source": [
    "print(\"dtype:\", x3.dtype)\n",
    "print(\"itemsize:\", x3.itemsize, \"bytes\")\n",
    "print(\"nbytes:\", x3.nbytes, \"bytes\")"
   ]
  },
  {
   "cell_type": "code",
   "execution_count": 156,
   "id": "58f0c66b",
   "metadata": {},
   "outputs": [
    {
     "data": {
      "text/plain": [
       "array([[[8, 8, 6, 1, 0],\n",
       "        [2, 5, 8, 9, 1],\n",
       "        [1, 1, 0, 4, 1],\n",
       "        [1, 7, 3, 9, 2]],\n",
       "\n",
       "       [[0, 2, 3, 0, 8],\n",
       "        [2, 2, 2, 9, 5],\n",
       "        [5, 9, 0, 0, 3],\n",
       "        [0, 7, 8, 4, 6]],\n",
       "\n",
       "       [[5, 1, 3, 1, 6],\n",
       "        [9, 0, 6, 8, 9],\n",
       "        [6, 2, 5, 0, 5],\n",
       "        [2, 8, 3, 1, 0]]], dtype=int8)"
      ]
     },
     "execution_count": 156,
     "metadata": {},
     "output_type": "execute_result"
    }
   ],
   "source": [
    "x4 = np.random.randint(10, size=(3, 4, 5), dtype=np.int8)  # array 3D - define o formato do array com 3 \"blocos\" de 4 linhas e 5 colunas.\n",
    "x4"
   ]
  },
  {
   "cell_type": "code",
   "execution_count": 157,
   "id": "496448ee",
   "metadata": {},
   "outputs": [
    {
     "name": "stdout",
     "output_type": "stream",
     "text": [
      "dtype: int8\n",
      "itemsize: 1 bytes\n",
      "nbytes: 60 bytes\n"
     ]
    }
   ],
   "source": [
    "print(\"dtype:\", x4.dtype)\n",
    "print(\"itemsize:\", x4.itemsize, \"bytes\")\n",
    "print(\"nbytes:\", x4.nbytes, \"bytes\")"
   ]
  },
  {
   "cell_type": "markdown",
   "id": "1fd14367",
   "metadata": {
    "id": "1fd14367"
   },
   "source": [
    "### 2.5 Indexação de Arrays: Acessando Elementos Individuais"
   ]
  },
  {
   "cell_type": "markdown",
   "id": "93e33aa2",
   "metadata": {
    "id": "93e33aa2"
   },
   "source": [
    "Se você está familiarizado com a indexação padrão de listas em Python, a indexação no NumPy parecerá bastante familiar.\n",
    "Em um array unidimensional, o $i^{th}$ valor (contando a partir de zero) pode ser acessado especificando o índice desejado entre colchetes, assim como nas listas em Python:\n"
   ]
  },
  {
   "cell_type": "code",
   "execution_count": 165,
   "id": "4fc879e6",
   "metadata": {
    "id": "4fc879e6"
   },
   "outputs": [
    {
     "name": "stdout",
     "output_type": "stream",
     "text": [
      "[9 4 0 1 9 0]\n",
      "Elemento da primeira posição: 9\n",
      "Elemento da última posição: 0\n",
      "Elemento da antepenúltima posição: 1\n"
     ]
    }
   ],
   "source": [
    "print(x1)\n",
    "print(f'Elemento da primeira posição: {x1[0]}')\n",
    "print(f'Elemento da última posição: {x1[-1]}')\n",
    "print(f'Elemento da antepenúltima posição: {x1[-3]}')"
   ]
  },
  {
   "cell_type": "markdown",
   "id": "62023c09",
   "metadata": {
    "id": "62023c09"
   },
   "source": [
    "Para indexar a partir do final do array, você pode usar índices negativos:\n"
   ]
  },
  {
   "cell_type": "code",
   "execution_count": 166,
   "id": "bce36912",
   "metadata": {
    "id": "bce36912"
   },
   "outputs": [
    {
     "name": "stdout",
     "output_type": "stream",
     "text": [
      "0\n",
      "4\n"
     ]
    }
   ],
   "source": [
    "print(x1[-1])\n",
    "print(x1[-5])"
   ]
  },
  {
   "cell_type": "markdown",
   "id": "b80274a5",
   "metadata": {
    "id": "b80274a5"
   },
   "source": [
    "Em um array multidimensional, os elementos podem ser acessados usando uma tupla de índices separada por vírgulas:\n"
   ]
  },
  {
   "cell_type": "code",
   "execution_count": 170,
   "id": "30754813",
   "metadata": {
    "id": "30754813"
   },
   "outputs": [
    {
     "name": "stdout",
     "output_type": "stream",
     "text": [
      "[[1 8 9 0]\n",
      " [8 6 4 3]\n",
      " [0 4 6 8]]\n",
      "1\n",
      "0\n",
      "8\n",
      "4\n"
     ]
    }
   ],
   "source": [
    "print(x2)\n",
    "print(x2[0, 0])\n",
    "print(x2[0, 3])\n",
    "print(x2[-1, -1]) #última linha e última coluna\n",
    "\n",
    "print(x2[1,2]) #última linha e última coluna"
   ]
  },
  {
   "cell_type": "markdown",
   "id": "443f708d",
   "metadata": {
    "id": "443f708d"
   },
   "source": [
    "Os valores também podem ser modificados usando qualquer uma das notações de índice mencionadas acima:"
   ]
  },
  {
   "cell_type": "code",
   "execution_count": 171,
   "id": "14909016",
   "metadata": {
    "id": "14909016"
   },
   "outputs": [
    {
     "name": "stdout",
     "output_type": "stream",
     "text": [
      "[[12  8  9  0]\n",
      " [ 8  6  4  3]\n",
      " [ 0  4  6  8]]\n"
     ]
    }
   ],
   "source": [
    "x2[0, 0] = 12\n",
    "print(x2)"
   ]
  },
  {
   "cell_type": "code",
   "execution_count": 177,
   "id": "2d918b04",
   "metadata": {},
   "outputs": [
    {
     "data": {
      "text/plain": [
       "array([3, 4, 0, 1, 9, 0])"
      ]
     },
     "execution_count": 177,
     "metadata": {},
     "output_type": "execute_result"
    }
   ],
   "source": [
    "# x2[inicio:fim:passo]\n",
    "x1\n",
    "\n"
   ]
  },
  {
   "cell_type": "code",
   "execution_count": 179,
   "id": "e1fb71e9",
   "metadata": {},
   "outputs": [
    {
     "data": {
      "text/plain": [
       "array([0, 1])"
      ]
     },
     "execution_count": 179,
     "metadata": {},
     "output_type": "execute_result"
    }
   ],
   "source": [
    "sub_x1 = x1[2:4]\n",
    "sub_x1"
   ]
  },
  {
   "cell_type": "code",
   "execution_count": 180,
   "id": "2ed2c68c",
   "metadata": {},
   "outputs": [
    {
     "data": {
      "text/plain": [
       "array([4, 0, 1, 9])"
      ]
     },
     "execution_count": 180,
     "metadata": {},
     "output_type": "execute_result"
    }
   ],
   "source": [
    "sub_x1 = x1[1:5]\n",
    "sub_x1"
   ]
  },
  {
   "cell_type": "code",
   "execution_count": 187,
   "id": "936849b8",
   "metadata": {},
   "outputs": [
    {
     "data": {
      "text/plain": [
       "array([3, 4, 0, 1, 9, 0])"
      ]
     },
     "execution_count": 187,
     "metadata": {},
     "output_type": "execute_result"
    }
   ],
   "source": [
    "x1"
   ]
  },
  {
   "cell_type": "code",
   "execution_count": 186,
   "id": "753f4591",
   "metadata": {},
   "outputs": [
    {
     "data": {
      "text/plain": [
       "array([0, 9, 1, 0, 4, 3])"
      ]
     },
     "execution_count": 186,
     "metadata": {},
     "output_type": "execute_result"
    }
   ],
   "source": [
    "x1[::-1]"
   ]
  },
  {
   "cell_type": "code",
   "execution_count": 191,
   "id": "e8a64076",
   "metadata": {},
   "outputs": [
    {
     "data": {
      "text/plain": [
       "array([9, 4, 3, 1, 0, 0])"
      ]
     },
     "execution_count": 191,
     "metadata": {},
     "output_type": "execute_result"
    }
   ],
   "source": [
    "numeros_ordenados = np.sort(x1)\n",
    "numeros_ordenados[::-1]"
   ]
  },
  {
   "cell_type": "markdown",
   "id": "f2880260",
   "metadata": {
    "id": "f2880260"
   },
   "source": [
    "Lembre-se de que, ao contrário das listas em Python, os arrays do NumPy têm um tipo fixo.\n",
    "Isso significa, por exemplo, que se você tentar inserir um valor de ponto flutuante em um array de inteiros, o valor será truncado \"silenciosamente\". Não seja pego de surpresa por esse comportamento!\n"
   ]
  },
  {
   "cell_type": "code",
   "execution_count": 172,
   "id": "a8db3b59",
   "metadata": {
    "id": "a8db3b59"
   },
   "outputs": [
    {
     "name": "stdout",
     "output_type": "stream",
     "text": [
      "Valor anterior: [9 4 0 1 9 0]\n",
      "Valor após alteração: [3 4 0 1 9 0]\n"
     ]
    }
   ],
   "source": [
    "print(\"Valor anterior:\", x1)\n",
    "x1[0] = 3.14159  # this will be truncated!\n",
    "print(\"Valor após alteração:\", x1)"
   ]
  },
  {
   "cell_type": "markdown",
   "id": "041f8b00",
   "metadata": {
    "id": "041f8b00"
   },
   "source": [
    "### 2.6 \"Slicing\" de Arrays: Acessando Subarrays"
   ]
  },
  {
   "cell_type": "markdown",
   "id": "fc184766",
   "metadata": {
    "id": "fc184766"
   },
   "source": [
    "Assim como podemos usar colchetes para acessar elementos individuais de um array, também podemos usá-los para acessar subarrays com a notação de *fatiamento*, marcada pelo caractere dois pontos (`:`).\n",
    "A sintaxe de fatiamento do NumPy segue a das listas padrão do Python; para acessar uma fatia de um array `x`, use:\n",
    "``` python\n",
    "x[inicio:fim:passo]\n",
    "```\n",
    "\n",
    "Se algum desses parâmetros não for especificado, eles assumem os valores padrão `inicio=0`, `fim=`*`tamanho da dimensão`*, `passo=1`.\n",
    "Vamos explorar o acesso a subarrays em uma dimensão e em múltiplas dimensões.\n"
   ]
  },
  {
   "cell_type": "code",
   "execution_count": 173,
   "id": "c273f52d",
   "metadata": {
    "id": "c273f52d"
   },
   "outputs": [
    {
     "name": "stdout",
     "output_type": "stream",
     "text": [
      "[0 1 2 3 4 5 6 7 8 9]\n",
      "[0 1 2 3 4]\n",
      "[5 6 7 8 9]\n",
      "[4 5 6]\n",
      "[0 2 4 6 8]\n",
      "[1 3 5 7 9]\n"
     ]
    }
   ],
   "source": [
    "x = np.arange(10)\n",
    "print(x)\n",
    "\n",
    "print(x[:5])  # primeiros 5 elementos\n",
    "print(x[5:]) # elementos após o índice 5 (incluindo)\n",
    "print(x[4:7])  # sub-array central\n",
    "print(x[::2]) # inicio ao fim de 2 em 2\n",
    "print(x[1::2])  # iniciando no indíce 1 e passando de 2 em 2"
   ]
  },
  {
   "cell_type": "markdown",
   "id": "89ff353b",
   "metadata": {
    "id": "89ff353b"
   },
   "source": [
    "Um caso potencialmente confuso ocorre quando o valor de `passo` é negativo.\n",
    "Nesse caso, os valores padrão de `inicio` e `fim` são invertidos.\n",
    "Essa é uma maneira conveniente de inverter um array:\n"
   ]
  },
  {
   "cell_type": "code",
   "execution_count": 193,
   "id": "093e123d",
   "metadata": {
    "id": "093e123d"
   },
   "outputs": [
    {
     "name": "stdout",
     "output_type": "stream",
     "text": [
      "[9 8 7 6 5 4 3 2 1 0]\n",
      "[5 3 1]\n"
     ]
    }
   ],
   "source": [
    "print(x[::-1])  # invertendo todo os elementos\n",
    "print(x[5::-2])  # invertido a cada dois elementos a partir do índice 5"
   ]
  },
  {
   "cell_type": "code",
   "execution_count": 195,
   "id": "ee471ca6",
   "metadata": {
    "id": "ee471ca6"
   },
   "outputs": [
    {
     "name": "stdout",
     "output_type": "stream",
     "text": [
      "[[12  8  9  0]\n",
      " [ 8  6  4  3]\n",
      " [ 0  4  6  8]]\n",
      "------\n",
      "[[12  8  9]\n",
      " [ 8  6  4]]\n",
      "------\n",
      "[[12  9]\n",
      " [ 8  4]\n",
      " [ 0  6]]\n",
      "------\n",
      "[[ 8  6  4  0]\n",
      " [ 3  4  6  8]\n",
      " [ 0  9  8 12]]\n"
     ]
    }
   ],
   "source": [
    "print(x2)\n",
    "print(\"------\")\n",
    "print(x2[:2, :3]) #apenas duas linhas e 3 colunas\n",
    "print(\"------\")\n",
    "print(x2[::, ::2])  # todas as linhas, a cada duas colunas\n",
    "print(\"------\")\n",
    "print(x2[::-1, ::-1]) # revertendo os elementos"
   ]
  },
  {
   "cell_type": "code",
   "execution_count": 197,
   "id": "b9054cde",
   "metadata": {},
   "outputs": [
    {
     "data": {
      "text/plain": [
       "array([[12,  8,  9,  0],\n",
       "       [ 8,  6,  4,  3],\n",
       "       [ 0,  4,  6,  8]])"
      ]
     },
     "execution_count": 197,
     "metadata": {},
     "output_type": "execute_result"
    }
   ],
   "source": [
    "x2"
   ]
  },
  {
   "cell_type": "code",
   "execution_count": 199,
   "id": "29de8d19",
   "metadata": {},
   "outputs": [
    {
     "data": {
      "text/plain": [
       "array([12,  8])"
      ]
     },
     "execution_count": 199,
     "metadata": {},
     "output_type": "execute_result"
    }
   ],
   "source": [
    "# x2[row, col]\n",
    "x2[:2, 0]"
   ]
  },
  {
   "cell_type": "code",
   "execution_count": 200,
   "id": "28b2b3bb",
   "metadata": {},
   "outputs": [
    {
     "data": {
      "text/plain": [
       "array([8, 6, 4, 3])"
      ]
     },
     "execution_count": 200,
     "metadata": {},
     "output_type": "execute_result"
    }
   ],
   "source": [
    "x2[1, :]"
   ]
  },
  {
   "cell_type": "markdown",
   "id": "74ddd472",
   "metadata": {
    "id": "74ddd472"
   },
   "source": [
    "#### Acessando linhas e colunas de um array\n",
    "\n",
    "Uma rotina comumente necessária é o acesso a linhas ou colunas individuais de um array.\n",
    "Isso pode ser feito combinando indexação e fatiamento, usando uma fatia vazia marcada por um único dois pontos (`:`):\n"
   ]
  },
  {
   "cell_type": "code",
   "execution_count": 29,
   "id": "f7091cf9",
   "metadata": {
    "id": "f7091cf9"
   },
   "outputs": [
    {
     "name": "stdout",
     "output_type": "stream",
     "text": [
      "[[12  5  2  4]\n",
      " [ 7  6  8  8]\n",
      " [ 1  6  7  7]]\n",
      "------------\n",
      "[12  7  1]\n",
      "------------\n",
      "[12  5  2  4]\n",
      "------------\n",
      "[12  5  2  4]\n"
     ]
    }
   ],
   "source": [
    "print(x2)\n",
    "print('------------')\n",
    "print(x2[:, 0])  # primeira coluna de x2\n",
    "print('------------')\n",
    "print(x2[0, :])  # primeira linha de x2\n",
    "print('------------')\n",
    "print(x2[0])  # igual a x2[0, :] -> primeira linha de x2"
   ]
  },
  {
   "cell_type": "markdown",
   "id": "a7fb95e9",
   "metadata": {
    "id": "a7fb95e9"
   },
   "source": [
    "#### Subarrays como visualizações sem cópia\n",
    "\n",
    "Uma coisa importante – e extremamente útil – a saber sobre o fatiamento de arrays é que ele retorna *visualizações* em vez de *cópias* dos dados do array.\n",
    "Esta é uma área em que o fatiamento de arrays no NumPy difere do fatiamento de listas em Python: em listas, as fatias serão cópias.\n",
    "Considere nosso array bidimensional anterior:\n"
   ]
  },
  {
   "cell_type": "code",
   "execution_count": 201,
   "id": "799fd5b0",
   "metadata": {
    "id": "799fd5b0"
   },
   "outputs": [
    {
     "name": "stdout",
     "output_type": "stream",
     "text": [
      "[[12  8  9  0]\n",
      " [ 8  6  4  3]\n",
      " [ 0  4  6  8]]\n"
     ]
    }
   ],
   "source": [
    "print(x2)"
   ]
  },
  {
   "cell_type": "markdown",
   "id": "80d997e7",
   "metadata": {
    "id": "80d997e7"
   },
   "source": [
    "Vamos extrair um subarray $2 \\times 2$ deste:"
   ]
  },
  {
   "cell_type": "code",
   "execution_count": 202,
   "id": "446fc811",
   "metadata": {
    "id": "446fc811"
   },
   "outputs": [
    {
     "name": "stdout",
     "output_type": "stream",
     "text": [
      "[[12  8]\n",
      " [ 8  6]]\n"
     ]
    }
   ],
   "source": [
    "x2_sub = x2[:2, :2]\n",
    "print(x2_sub)"
   ]
  },
  {
   "cell_type": "markdown",
   "id": "72796c09",
   "metadata": {
    "id": "72796c09"
   },
   "source": [
    "Agora, se modificarmos este subarray, veremos que o array original é alterado! Observe:"
   ]
  },
  {
   "cell_type": "code",
   "execution_count": 203,
   "id": "818d0c45",
   "metadata": {
    "id": "818d0c45"
   },
   "outputs": [
    {
     "name": "stdout",
     "output_type": "stream",
     "text": [
      "[[99  8]\n",
      " [ 8  6]]\n",
      "------------\n",
      "[[99  8  9  0]\n",
      " [ 8  6  4  3]\n",
      " [ 0  4  6  8]]\n"
     ]
    }
   ],
   "source": [
    "x2_sub[0, 0] = 99\n",
    "print(x2_sub)\n",
    "\n",
    "print(\"------------\")\n",
    "\n",
    "print(x2)"
   ]
  },
  {
   "cell_type": "markdown",
   "id": "a03616f2",
   "metadata": {
    "id": "a03616f2"
   },
   "source": [
    "Esse comportamento padrão é, na verdade, bastante útil: ele significa que, ao trabalharmos com grandes conjuntos de dados, podemos acessar e processar partes desses conjuntos sem a necessidade de copiar o buffer de dados subjacente.\n"
   ]
  },
  {
   "cell_type": "markdown",
   "id": "ba3ad277",
   "metadata": {
    "id": "ba3ad277"
   },
   "source": [
    "#### Criando cópias de arrays\n",
    "\n",
    "Apesar das boas funcionalidades das visualizações de arrays, às vezes é útil copiar explicitamente os dados dentro de um array ou subarray. Isso pode ser feito facilmente com o método `copy()`:\n"
   ]
  },
  {
   "cell_type": "code",
   "execution_count": 204,
   "id": "74bdee3a",
   "metadata": {
    "id": "74bdee3a"
   },
   "outputs": [
    {
     "name": "stdout",
     "output_type": "stream",
     "text": [
      "[[99  8]\n",
      " [ 8  6]]\n",
      "-----------\n",
      "[[42  8]\n",
      " [ 8  6]]\n",
      "-----------\n",
      "[[99  8  9  0]\n",
      " [ 8  6  4  3]\n",
      " [ 0  4  6  8]]\n"
     ]
    }
   ],
   "source": [
    "x2_sub_copy = x2[:2, :2].copy()\n",
    "print(x2_sub_copy)\n",
    "\n",
    "print(\"-----------\")\n",
    "\n",
    "x2_sub_copy[0, 0] = 42\n",
    "print(x2_sub_copy)\n",
    "\n",
    "print(\"-----------\")\n",
    "print(x2)"
   ]
  },
  {
   "cell_type": "markdown",
   "id": "0e28c23e",
   "metadata": {
    "id": "0e28c23e"
   },
   "source": [
    "### 2.7 Praticando com o numpy"
   ]
  },
  {
   "cell_type": "markdown",
   "id": "baed8503",
   "metadata": {
    "id": "baed8503"
   },
   "source": [
    "Imagine que você tem dados de temperaturas diárias (em graus Celsius) para uma semana, registrados em três cidades. Queremos:\n",
    "\n",
    "1. Calcular a temperatura média de cada cidade.\n",
    "2. Identificar o dia mais quente da semana em cada cidade.\n",
    "3. Encontrar a cidade que teve a temperatura média mais alta na semana."
   ]
  },
  {
   "cell_type": "markdown",
   "id": "c63275ab",
   "metadata": {
    "id": "c63275ab"
   },
   "source": [
    "Passo 1: Criar os Dados com numpy"
   ]
  },
  {
   "cell_type": "markdown",
   "id": "35d73a8f",
   "metadata": {
    "id": "35d73a8f"
   },
   "source": [
    "Primeiro, vamos gerar uma matriz numpy onde cada linha representa uma cidade e cada coluna, um dia da semana (7 dias)."
   ]
  },
  {
   "cell_type": "code",
   "execution_count": 205,
   "id": "133895be",
   "metadata": {
    "id": "133895be"
   },
   "outputs": [
    {
     "name": "stdout",
     "output_type": "stream",
     "text": [
      "Temperaturas semanais (linhas = cidades, colunas = dias da semana):\n",
      " [[18 33 28 26 31 28 26]\n",
      " [32 34 20 26 16 26 15]\n",
      " [20 24 23 20 26 26 22]]\n"
     ]
    }
   ],
   "source": [
    "import numpy as np\n",
    "\n",
    "# Criando um array com temperaturas aleatórias entre 15 e 35 para 3 cidades ao longo de 7 dias\n",
    "temperaturas = np.random.randint(15, 35, size=(3, 7))\n",
    "print(\"Temperaturas semanais (linhas = cidades, colunas = dias da semana):\\n\", temperaturas)\n"
   ]
  },
  {
   "cell_type": "code",
   "execution_count": 207,
   "id": "e73d2802",
   "metadata": {},
   "outputs": [
    {
     "data": {
      "text/plain": [
       "(24.761904761904763, 5.218143821639132)"
      ]
     },
     "execution_count": 207,
     "metadata": {},
     "output_type": "execute_result"
    }
   ],
   "source": [
    "np.mean(temperaturas), np.std(temperaturas)"
   ]
  },
  {
   "cell_type": "code",
   "execution_count": 212,
   "id": "296ac019",
   "metadata": {},
   "outputs": [],
   "source": [
    "media_temperaturas = np.mean(temperaturas, axis=0)"
   ]
  },
  {
   "cell_type": "markdown",
   "id": "80f89b03",
   "metadata": {
    "id": "80f89b03"
   },
   "source": [
    "Passo 2: Calcular a Temperatura Média de Cada Cidade"
   ]
  },
  {
   "cell_type": "code",
   "execution_count": 223,
   "id": "0303034a",
   "metadata": {
    "id": "0303034a"
   },
   "outputs": [
    {
     "name": "stdout",
     "output_type": "stream",
     "text": [
      "Temperatura média semanal por cidade: [27.14285714 24.14285714 23.        ]\n",
      "Temperatura média diária nas cidades: [23.33333333 30.33333333 23.66666667 24.         24.33333333 26.66666667\n",
      " 21.        ]\n"
     ]
    }
   ],
   "source": [
    "# Calculando a média de temperatura para cada cidade (média ao longo das colunas)\n",
    "media_temperaturas = np.mean(temperaturas, axis=1)\n",
    "# Calcula a média ao longo das colunas (axis=1), ou seja, a média de cada linha, que representa cada cidade.\n",
    "print(\"Temperatura média semanal por cidade:\", media_temperaturas)\n",
    "\n",
    "# se quissemos a média por dia de cada cidade (axis=0)  # Média ao longo das linhas (colunas)\n",
    "media_diaria_cidades = np.mean(temperaturas, axis=0)\n",
    "print(\"Temperatura média diária nas cidades:\", media_diaria_cidades)"
   ]
  },
  {
   "cell_type": "markdown",
   "id": "d1bc467c",
   "metadata": {
    "id": "d1bc467c"
   },
   "source": [
    "Passo 3: Identificar o Dia Mais Quente da Semana em Cada Cidade"
   ]
  },
  {
   "cell_type": "code",
   "execution_count": 226,
   "id": "0ab9f7c7",
   "metadata": {
    "id": "0ab9f7c7"
   },
   "outputs": [
    {
     "name": "stdout",
     "output_type": "stream",
     "text": [
      "Dia mais quente da semana em cada cidade: [1 1 4]\n"
     ]
    }
   ],
   "source": [
    "# Identificando o dia mais quente da semana para cada cidade\n",
    "dia_mais_quente_cada_cidade = np.argmax(temperaturas, axis=1)\n",
    "print(\"Dia mais quente da semana em cada cidade:\", dia_mais_quente_cada_cidade)"
   ]
  },
  {
   "cell_type": "markdown",
   "id": "bebeffaf",
   "metadata": {
    "id": "bebeffaf"
   },
   "source": [
    "Passo 4: Encontrar a Cidade com a Maior Temperatura Média Semanal"
   ]
  },
  {
   "cell_type": "code",
   "execution_count": 225,
   "id": "741e9036",
   "metadata": {},
   "outputs": [
    {
     "data": {
      "text/plain": [
       "array([27.14285714, 24.14285714, 23.        ])"
      ]
     },
     "execution_count": 225,
     "metadata": {},
     "output_type": "execute_result"
    }
   ],
   "source": [
    "media_temperaturas"
   ]
  },
  {
   "cell_type": "code",
   "execution_count": 228,
   "id": "64924a1a",
   "metadata": {},
   "outputs": [
    {
     "data": {
      "text/plain": [
       "0"
      ]
     },
     "execution_count": 228,
     "metadata": {},
     "output_type": "execute_result"
    }
   ],
   "source": [
    "np.argmax(media_temperaturas)"
   ]
  },
  {
   "cell_type": "code",
   "execution_count": 229,
   "id": "28a04d87",
   "metadata": {
    "id": "28a04d87",
    "scrolled": true
   },
   "outputs": [
    {
     "name": "stdout",
     "output_type": "stream",
     "text": [
      "Cidade com a maior temperatura média semanal: 0\n"
     ]
    }
   ],
   "source": [
    "cidade_maior_temp_media = np.argmax(media_temperaturas)\n",
    "print(\"Cidade com a maior temperatura média semanal:\", cidade_maior_temp_media)"
   ]
  },
  {
   "cell_type": "markdown",
   "id": "4571c2e6",
   "metadata": {
    "id": "4571c2e6"
   },
   "source": [
    "## 3. Fundamentos do pandas"
   ]
  },
  {
   "cell_type": "code",
   "execution_count": 38,
   "id": "aa656935",
   "metadata": {
    "id": "aa656935"
   },
   "outputs": [
    {
     "data": {
      "text/plain": [
       "'2.0.1'"
      ]
     },
     "execution_count": 38,
     "metadata": {},
     "output_type": "execute_result"
    }
   ],
   "source": [
    "import pandas\n",
    "pandas.__version__"
   ]
  },
  {
   "cell_type": "markdown",
   "id": "52066f48",
   "metadata": {
    "id": "52066f48"
   },
   "source": [
    "Assim como geralmente importamos o NumPy com o alias `np`, vamos importar o Pandas com o alias `pd`:"
   ]
  },
  {
   "cell_type": "code",
   "execution_count": 39,
   "id": "6d5b40a7",
   "metadata": {
    "id": "6d5b40a7"
   },
   "outputs": [],
   "source": [
    "import pandas as pd"
   ]
  },
  {
   "cell_type": "markdown",
   "id": "adb21ab8",
   "metadata": {
    "id": "adb21ab8"
   },
   "source": [
    "### 3.1 Introdução aos Objetos do Pandas"
   ]
  },
  {
   "cell_type": "markdown",
   "id": "b3325708",
   "metadata": {
    "id": "b3325708"
   },
   "source": [
    "No nível mais básico, os objetos do Pandas podem ser considerados versões aprimoradas dos arrays estruturados do NumPy, nos quais as linhas e colunas são identificadas com rótulos, em vez de índices inteiros simples. O Pandas fornece uma série de ferramentas, métodos e funcionalidades úteis em cima das estruturas de dados básicas, mas praticamente tudo que abordaremos exigirá uma compreensão dessas estruturas. Portanto, antes de prosseguirmos, vamos introduzir as três estruturas de dados fundamentais do Pandas: `Series`, `DataFrame` e `Index`."
   ]
  },
  {
   "cell_type": "markdown",
   "id": "6b64fc91",
   "metadata": {
    "id": "6b64fc91"
   },
   "source": [
    "#### O Objeto Series do Pandas\n",
    "\n",
    "Uma `Series` do Pandas é um array unidimensional de dados indexados.\n",
    "Pode ser criada a partir de uma lista ou array da seguinte forma:"
   ]
  },
  {
   "cell_type": "code",
   "execution_count": 230,
   "id": "4a39008e",
   "metadata": {
    "id": "4a39008e",
    "scrolled": true
   },
   "outputs": [
    {
     "data": {
      "text/plain": [
       "0    0.25\n",
       "1    0.50\n",
       "2    0.75\n",
       "3    1.00\n",
       "dtype: float64"
      ]
     },
     "execution_count": 230,
     "metadata": {},
     "output_type": "execute_result"
    }
   ],
   "source": [
    "data = pd.Series([0.25, 0.5, 0.75, 1.0])\n",
    "data"
   ]
  },
  {
   "cell_type": "markdown",
   "id": "e255e9bf",
   "metadata": {
    "id": "e255e9bf"
   },
   "source": [
    "A `Series` engloba tanto uma sequência de valores quanto uma sequência de índices, que podemos acessar com os atributos `values` e `index`.\n",
    "Os `values` são simplesmente um array familiar do NumPy:"
   ]
  },
  {
   "cell_type": "code",
   "execution_count": 231,
   "id": "2aa66c5a",
   "metadata": {
    "id": "2aa66c5a"
   },
   "outputs": [
    {
     "data": {
      "text/plain": [
       "array([0.25, 0.5 , 0.75, 1.  ])"
      ]
     },
     "execution_count": 231,
     "metadata": {},
     "output_type": "execute_result"
    }
   ],
   "source": [
    "data.values"
   ]
  },
  {
   "cell_type": "markdown",
   "id": "1d96a8ba",
   "metadata": {
    "id": "1d96a8ba"
   },
   "source": [
    "O índice é um objeto semelhante a um array do tipo `pd.Index`."
   ]
  },
  {
   "cell_type": "code",
   "execution_count": 232,
   "id": "86de8a1e",
   "metadata": {
    "id": "86de8a1e"
   },
   "outputs": [
    {
     "data": {
      "text/plain": [
       "RangeIndex(start=0, stop=4, step=1)"
      ]
     },
     "execution_count": 232,
     "metadata": {},
     "output_type": "execute_result"
    }
   ],
   "source": [
    "data.index"
   ]
  },
  {
   "cell_type": "markdown",
   "id": "e94cd313",
   "metadata": {
    "id": "e94cd313"
   },
   "source": [
    "Assim como em um array do NumPy, os dados podem ser acessados pelo índice associado usando a notação de colchetes do Python:"
   ]
  },
  {
   "cell_type": "code",
   "execution_count": 234,
   "id": "3e68325a",
   "metadata": {
    "id": "3e68325a"
   },
   "outputs": [
    {
     "name": "stdout",
     "output_type": "stream",
     "text": [
      "0.5\n",
      "1    0.50\n",
      "2    0.75\n",
      "dtype: float64\n"
     ]
    }
   ],
   "source": [
    "print(data[1])\n",
    "print(data[1:3])"
   ]
  },
  {
   "cell_type": "markdown",
   "id": "682c4672",
   "metadata": {
    "id": "682c4672"
   },
   "source": [
    "Como veremos, a `Series` do Pandas é muito mais geral e flexível do que o array unidimensional do NumPy que ela emula."
   ]
  },
  {
   "cell_type": "markdown",
   "id": "35a3dbf9",
   "metadata": {
    "id": "35a3dbf9"
   },
   "source": [
    "### 3.2 `Series` como um array generalizado do NumPy."
   ]
  },
  {
   "cell_type": "markdown",
   "id": "b900afd2",
   "metadata": {
    "id": "b900afd2"
   },
   "source": [
    "Pode parecer que o objeto `Series` é basicamente intercambiável com um array unidimensional do NumPy. A diferença essencial é a presença do índice: enquanto o array do NumPy possui um índice inteiro definido implicitamente para acessar os valores, a `Series` do Pandas possui um índice explicitamente definido associado aos valores.\n",
    "\n",
    "Essa definição explícita de índice confere ao objeto `Series` capacidades adicionais. Por exemplo, o índice não precisa ser um inteiro; ele pode consistir em valores de qualquer tipo desejado. Por exemplo, se quisermos, podemos usar strings como índice:\n"
   ]
  },
  {
   "cell_type": "code",
   "execution_count": 238,
   "id": "6e078df3",
   "metadata": {
    "id": "6e078df3"
   },
   "outputs": [
    {
     "name": "stdout",
     "output_type": "stream",
     "text": [
      "joana      0.25\n",
      "huan       0.50\n",
      "eduardo    0.75\n",
      "tais       1.00\n",
      "dtype: float64\n",
      "---------------\n",
      "0.75\n"
     ]
    }
   ],
   "source": [
    "data = pd.Series([0.25, 0.5, 0.75, 1.0],\n",
    "                 index=['joana', 'huan', 'eduardo', 'tais'])\n",
    "print(data)\n",
    "print(\"---------------\")\n",
    "print(data['eduardo'])"
   ]
  },
  {
   "cell_type": "code",
   "execution_count": 239,
   "id": "82d38726",
   "metadata": {
    "id": "82d38726",
    "scrolled": true
   },
   "outputs": [
    {
     "name": "stdout",
     "output_type": "stream",
     "text": [
      "2    0.25\n",
      "5    0.50\n",
      "3    0.75\n",
      "7    1.00\n",
      "dtype: float64\n",
      "---------------\n",
      "0.25\n"
     ]
    }
   ],
   "source": [
    "data = pd.Series([0.25, 0.5, 0.75, 1.0],\n",
    "                 index=[2, 5, 3, 7])\n",
    "print(data)\n",
    "print(\"---------------\")\n",
    "print(data[2])"
   ]
  },
  {
   "cell_type": "markdown",
   "id": "c47f71e2",
   "metadata": {
    "id": "c47f71e2"
   },
   "source": [
    "### 3.3 `Series` como um dicionário especializado\n",
    "\n",
    "Dessa forma, você pode pensar em uma `Series` do Pandas como uma especialização de um dicionário do Python.\n",
    "Um dicionário é uma estrutura que mapeia chaves arbitrárias para um conjunto de valores arbitrários, enquanto uma `Series` é uma estrutura que mapeia chaves tipadas para um conjunto de valores tipados.\n",
    "Essa tipagem é importante: assim como o código compilado e específico para tipos de um array do NumPy o torna mais eficiente que uma lista do Python para certas operações, a informação de tipo de uma `Series` do Pandas a torna muito mais eficiente que dicionários do Python para determinadas operações.\n",
    "\n",
    "A analogia da `Series` como um dicionário pode ser ainda mais clara ao construir um objeto `Series` diretamente a partir de um dicionário do Python:\n"
   ]
  },
  {
   "cell_type": "code",
   "execution_count": 240,
   "id": "4ac3f4cf",
   "metadata": {
    "id": "4ac3f4cf"
   },
   "outputs": [
    {
     "name": "stdout",
     "output_type": "stream",
     "text": [
      "California    38332521\n",
      "Texas         26448193\n",
      "New York      19651127\n",
      "Florida       19552860\n",
      "Illinois      12882135\n",
      "dtype: int64\n",
      "----------\n",
      "38332521\n",
      "----------\n",
      "California    38332521\n",
      "Texas         26448193\n",
      "New York      19651127\n",
      "Florida       19552860\n",
      "dtype: int64\n"
     ]
    }
   ],
   "source": [
    "populacao_dicionario = {'California': 38332521,\n",
    "                   'Texas': 26448193,\n",
    "                   'New York': 19651127,\n",
    "                   'Florida': 19552860,\n",
    "                   'Illinois': 12882135}\n",
    "\n",
    "\n",
    "populacao = pd.Series(populacao_dicionario)\n",
    "print(populacao)\n",
    "print('----------')\n",
    "print(populacao['California'])\n",
    "print('----------')\n",
    "print(populacao['California':'Florida'])"
   ]
  },
  {
   "cell_type": "markdown",
   "id": "66b212ce",
   "metadata": {
    "id": "66b212ce"
   },
   "source": [
    "#### Construindo objetos `Series`\n",
    "\n",
    "Já vimos algumas maneiras de construir uma `Series` do Pandas do zero; todas elas são alguma versão do seguinte:\n",
    "\n",
    "```python\n",
    ">>> pd.Series(data, index=index)\n",
    "```\n",
    "onde `index` é um argumento opcional, e `data` pode ser uma de várias entidades.\n",
    "\n",
    "Por exemplo, `data` pode ser uma lista ou um array do NumPy, caso em que `index` é padronizado para uma sequência de inteiros:\n",
    "\n"
   ]
  },
  {
   "cell_type": "code",
   "execution_count": 241,
   "id": "eb3a74c2",
   "metadata": {
    "id": "eb3a74c2"
   },
   "outputs": [
    {
     "name": "stdout",
     "output_type": "stream",
     "text": [
      "0    2\n",
      "1    4\n",
      "2    6\n",
      "dtype: int64\n"
     ]
    }
   ],
   "source": [
    "print(pd.Series([2, 4, 6]))"
   ]
  },
  {
   "cell_type": "markdown",
   "id": "30c1a6d2",
   "metadata": {
    "id": "30c1a6d2"
   },
   "source": [
    "`data` pode ser um valor escalar, que é repetido para preencher o índice especificado:\n"
   ]
  },
  {
   "cell_type": "code",
   "execution_count": 242,
   "id": "247a9f1a",
   "metadata": {
    "id": "247a9f1a"
   },
   "outputs": [
    {
     "name": "stdout",
     "output_type": "stream",
     "text": [
      "100    5\n",
      "200    5\n",
      "300    5\n",
      "dtype: int64\n"
     ]
    }
   ],
   "source": [
    "print(pd.Series(5, index=[100, 200, 300]))"
   ]
  },
  {
   "cell_type": "markdown",
   "id": "69a4acee",
   "metadata": {
    "id": "69a4acee"
   },
   "source": [
    "`data` pode ser um dicionário, em que `index` é padronizado para as chaves do dicionário em ordem crescente:"
   ]
  },
  {
   "cell_type": "code",
   "execution_count": 243,
   "id": "1d100638",
   "metadata": {
    "id": "1d100638"
   },
   "outputs": [
    {
     "data": {
      "text/plain": [
       "2    a\n",
       "1    b\n",
       "3    c\n",
       "dtype: object"
      ]
     },
     "execution_count": 243,
     "metadata": {},
     "output_type": "execute_result"
    }
   ],
   "source": [
    "pd.Series({2:'a', 1:'b', 3:'c'})"
   ]
  },
  {
   "cell_type": "markdown",
   "id": "5ff31aaa",
   "metadata": {
    "id": "5ff31aaa"
   },
   "source": [
    "Em cada caso, o índice pode ser definido explicitamente se um resultado diferente for preferido:"
   ]
  },
  {
   "cell_type": "code",
   "execution_count": 244,
   "id": "127dc78a",
   "metadata": {
    "id": "127dc78a"
   },
   "outputs": [
    {
     "data": {
      "text/plain": [
       "3    c\n",
       "2    a\n",
       "dtype: object"
      ]
     },
     "execution_count": 244,
     "metadata": {},
     "output_type": "execute_result"
    }
   ],
   "source": [
    "pd.Series({2:'a', 1:'b', 3:'c'}, index=[3, 2])"
   ]
  },
  {
   "cell_type": "markdown",
   "id": "3c8efb7e",
   "metadata": {
    "id": "3c8efb7e"
   },
   "source": [
    "Observe que, nesse caso, a `Series` é preenchida apenas com as chaves explicitamente identificadas."
   ]
  },
  {
   "cell_type": "markdown",
   "id": "df8f932d",
   "metadata": {
    "id": "df8f932d"
   },
   "source": [
    "### 3.4 O Objeto DataFrame do Pandas\n",
    "\n",
    "A próxima estrutura fundamental no Pandas é o `DataFrame`.\n",
    "Assim como o objeto `Series` discutido na seção anterior, o `DataFrame` pode ser visto tanto como uma generalização de um array do NumPy quanto como uma especialização de um dicionário do Python.\n",
    "Agora vamos examinar cada uma dessas perspectivas."
   ]
  },
  {
   "cell_type": "markdown",
   "id": "c10ae629",
   "metadata": {
    "id": "c10ae629"
   },
   "source": [
    "#### DataFrame como uma generalização do array do NumPy\n",
    "\n",
    "Se uma `Series` é um análogo de um array unidimensional com índices flexíveis, um `DataFrame` é um análogo de um array bidimensional com índices de linha flexíveis e nomes de coluna flexíveis.\n",
    "Assim como você pode pensar em um array bidimensional como uma sequência ordenada de colunas unidimensionais alinhadas, você pode pensar em um `DataFrame` como uma sequência de objetos `Series` alinhados.\n",
    "Aqui, \"alinhados\" significa que eles compartilham o mesmo índice.\n",
    "\n",
    "Para demonstrar isso, vamos primeiro construir uma nova `Series` listando a área de cada um dos cinco estados discutidos na seção anterior:\n"
   ]
  },
  {
   "cell_type": "code",
   "execution_count": 247,
   "id": "a00cd890",
   "metadata": {
    "id": "a00cd890"
   },
   "outputs": [
    {
     "name": "stdout",
     "output_type": "stream",
     "text": [
      "California    423967\n",
      "Texas         695662\n",
      "New York      141297\n",
      "Florida       170312\n",
      "Illinois      149995\n",
      "dtype: int64\n"
     ]
    }
   ],
   "source": [
    "area_dict = {'California': 423967, 'Texas': 695662, 'New York': 141297,\n",
    "             'Florida': 170312, 'Illinois': 149995}\n",
    "\n",
    "area = pd.Series(area_dict)\n",
    "print(area)"
   ]
  },
  {
   "cell_type": "code",
   "execution_count": 248,
   "id": "aeca9a9f",
   "metadata": {},
   "outputs": [
    {
     "data": {
      "text/plain": [
       "California    38332521\n",
       "Texas         26448193\n",
       "New York      19651127\n",
       "Florida       19552860\n",
       "Illinois      12882135\n",
       "dtype: int64"
      ]
     },
     "execution_count": 248,
     "metadata": {},
     "output_type": "execute_result"
    }
   ],
   "source": [
    "populacao"
   ]
  },
  {
   "cell_type": "markdown",
   "id": "28d280e7",
   "metadata": {
    "id": "28d280e7"
   },
   "source": [
    "Agora que temos isso, junto com a `Series` de `populacao` da seção anterior, podemos usar um dicionário para construir um único objeto bidimensional contendo essas informações:\n"
   ]
  },
  {
   "cell_type": "code",
   "execution_count": 249,
   "id": "193a33ff",
   "metadata": {
    "id": "193a33ff"
   },
   "outputs": [
    {
     "data": {
      "text/html": [
       "<div>\n",
       "<style scoped>\n",
       "    .dataframe tbody tr th:only-of-type {\n",
       "        vertical-align: middle;\n",
       "    }\n",
       "\n",
       "    .dataframe tbody tr th {\n",
       "        vertical-align: top;\n",
       "    }\n",
       "\n",
       "    .dataframe thead th {\n",
       "        text-align: right;\n",
       "    }\n",
       "</style>\n",
       "<table border=\"1\" class=\"dataframe\">\n",
       "  <thead>\n",
       "    <tr style=\"text-align: right;\">\n",
       "      <th></th>\n",
       "      <th>populacao</th>\n",
       "      <th>area</th>\n",
       "    </tr>\n",
       "  </thead>\n",
       "  <tbody>\n",
       "    <tr>\n",
       "      <th>California</th>\n",
       "      <td>38332521</td>\n",
       "      <td>423967</td>\n",
       "    </tr>\n",
       "    <tr>\n",
       "      <th>Texas</th>\n",
       "      <td>26448193</td>\n",
       "      <td>695662</td>\n",
       "    </tr>\n",
       "    <tr>\n",
       "      <th>New York</th>\n",
       "      <td>19651127</td>\n",
       "      <td>141297</td>\n",
       "    </tr>\n",
       "    <tr>\n",
       "      <th>Florida</th>\n",
       "      <td>19552860</td>\n",
       "      <td>170312</td>\n",
       "    </tr>\n",
       "    <tr>\n",
       "      <th>Illinois</th>\n",
       "      <td>12882135</td>\n",
       "      <td>149995</td>\n",
       "    </tr>\n",
       "  </tbody>\n",
       "</table>\n",
       "</div>"
      ],
      "text/plain": [
       "            populacao    area\n",
       "California   38332521  423967\n",
       "Texas        26448193  695662\n",
       "New York     19651127  141297\n",
       "Florida      19552860  170312\n",
       "Illinois     12882135  149995"
      ]
     },
     "execution_count": 249,
     "metadata": {},
     "output_type": "execute_result"
    }
   ],
   "source": [
    "estados = pd.DataFrame({'populacao': populacao,\n",
    "                       'area': area})\n",
    "estados"
   ]
  },
  {
   "cell_type": "code",
   "execution_count": 253,
   "id": "0a2f7bcc",
   "metadata": {},
   "outputs": [
    {
     "data": {
      "text/plain": [
       "California    38332521\n",
       "Texas         26448193\n",
       "New York      19651127\n",
       "Florida       19552860\n",
       "Illinois      12882135\n",
       "Name: populacao, dtype: int64"
      ]
     },
     "execution_count": 253,
     "metadata": {},
     "output_type": "execute_result"
    }
   ],
   "source": [
    "estados['populacao']"
   ]
  },
  {
   "cell_type": "markdown",
   "id": "7a4117ac",
   "metadata": {
    "id": "7a4117ac"
   },
   "source": [
    "Assim como o objeto `Series`, o `DataFrame` possui um atributo `index` que permite acesso aos rótulos do índice:"
   ]
  },
  {
   "cell_type": "code",
   "execution_count": 53,
   "id": "afd2de43",
   "metadata": {
    "id": "afd2de43"
   },
   "outputs": [
    {
     "data": {
      "text/plain": [
       "Index(['California', 'Texas', 'New York', 'Florida', 'Illinois'], dtype='object')"
      ]
     },
     "execution_count": 53,
     "metadata": {},
     "output_type": "execute_result"
    }
   ],
   "source": [
    "estados.index"
   ]
  },
  {
   "cell_type": "markdown",
   "id": "c527a36e",
   "metadata": {
    "id": "c527a36e"
   },
   "source": [
    "Além disso, o `DataFrame` possui um atributo `columns`, que é um objeto `Index` que contém os rótulos das colunas:"
   ]
  },
  {
   "cell_type": "code",
   "execution_count": 54,
   "id": "e0170aeb",
   "metadata": {
    "id": "e0170aeb"
   },
   "outputs": [
    {
     "data": {
      "text/plain": [
       "Index(['populacao', 'area'], dtype='object')"
      ]
     },
     "execution_count": 54,
     "metadata": {},
     "output_type": "execute_result"
    }
   ],
   "source": [
    "estados.columns"
   ]
  },
  {
   "cell_type": "markdown",
   "id": "66efd1a2",
   "metadata": {
    "id": "66efd1a2"
   },
   "source": [
    "Assim, o `DataFrame` pode ser visto como uma generalização de um array bidimensional do NumPy, onde tanto as linhas quanto as colunas possuem um índice generalizado para acessar os dados."
   ]
  },
  {
   "cell_type": "markdown",
   "id": "f92566e1",
   "metadata": {
    "id": "f92566e1"
   },
   "source": [
    "### 3.5 DataFrame como um dicionário especializado\n",
    "\n",
    "Da mesma forma, também podemos pensar em um `DataFrame` como uma especialização de um dicionário.\n",
    "Enquanto um dicionário mapeia uma chave para um valor, um `DataFrame` mapeia o nome de uma coluna para uma `Series` de dados dessa coluna.\n",
    "Por exemplo, solicitar o atributo `'area'` retorna o objeto `Series` contendo as áreas que vimos anteriormente:\n"
   ]
  },
  {
   "cell_type": "code",
   "execution_count": 55,
   "id": "8b7ff75e",
   "metadata": {
    "id": "8b7ff75e",
    "scrolled": true
   },
   "outputs": [
    {
     "data": {
      "text/plain": [
       "California    423967\n",
       "Texas         695662\n",
       "New York      141297\n",
       "Florida       170312\n",
       "Illinois      149995\n",
       "Name: area, dtype: int64"
      ]
     },
     "execution_count": 55,
     "metadata": {},
     "output_type": "execute_result"
    }
   ],
   "source": [
    "estados['area']"
   ]
  },
  {
   "cell_type": "markdown",
   "id": "9719c95d",
   "metadata": {
    "id": "9719c95d"
   },
   "source": [
    "Observe o potencial ponto de confusão aqui: em um array bidimensional do NumPy, `data[0]` retornará a primeira linha. Para um `DataFrame`, `data['col0']` retornará a primeira coluna. Por isso, é provavelmente melhor pensar em `DataFrames` como dicionários generalizados em vez de arrays generalizados, embora ambas as formas de interpretar a situação possam ser úteis."
   ]
  },
  {
   "cell_type": "markdown",
   "id": "041c50f0",
   "metadata": {
    "id": "041c50f0"
   },
   "source": [
    "#### Construindo objetos DataFrame\n",
    "\n",
    "Um `DataFrame` do Pandas pode ser construído de várias maneiras. Veja alguns exemplos.\n"
   ]
  },
  {
   "cell_type": "markdown",
   "id": "f987c684",
   "metadata": {
    "id": "f987c684"
   },
   "source": [
    "#### A partir de um único objeto Series\n",
    "\n",
    "Um `DataFrame` é uma coleção de objetos `Series`, e um `DataFrame` de coluna única pode ser construído a partir de um único `Series`:\n"
   ]
  },
  {
   "cell_type": "code",
   "execution_count": 255,
   "id": "9e88260b",
   "metadata": {
    "id": "9e88260b"
   },
   "outputs": [
    {
     "data": {
      "text/html": [
       "<div>\n",
       "<style scoped>\n",
       "    .dataframe tbody tr th:only-of-type {\n",
       "        vertical-align: middle;\n",
       "    }\n",
       "\n",
       "    .dataframe tbody tr th {\n",
       "        vertical-align: top;\n",
       "    }\n",
       "\n",
       "    .dataframe thead th {\n",
       "        text-align: right;\n",
       "    }\n",
       "</style>\n",
       "<table border=\"1\" class=\"dataframe\">\n",
       "  <thead>\n",
       "    <tr style=\"text-align: right;\">\n",
       "      <th></th>\n",
       "      <th>pop</th>\n",
       "    </tr>\n",
       "  </thead>\n",
       "  <tbody>\n",
       "    <tr>\n",
       "      <th>California</th>\n",
       "      <td>38332521</td>\n",
       "    </tr>\n",
       "    <tr>\n",
       "      <th>Texas</th>\n",
       "      <td>26448193</td>\n",
       "    </tr>\n",
       "    <tr>\n",
       "      <th>New York</th>\n",
       "      <td>19651127</td>\n",
       "    </tr>\n",
       "    <tr>\n",
       "      <th>Florida</th>\n",
       "      <td>19552860</td>\n",
       "    </tr>\n",
       "    <tr>\n",
       "      <th>Illinois</th>\n",
       "      <td>12882135</td>\n",
       "    </tr>\n",
       "  </tbody>\n",
       "</table>\n",
       "</div>"
      ],
      "text/plain": [
       "                 pop\n",
       "California  38332521\n",
       "Texas       26448193\n",
       "New York    19651127\n",
       "Florida     19552860\n",
       "Illinois    12882135"
      ]
     },
     "execution_count": 255,
     "metadata": {},
     "output_type": "execute_result"
    }
   ],
   "source": [
    "df = pd.DataFrame(populacao, columns=['pop'])\n",
    "df"
   ]
  },
  {
   "cell_type": "code",
   "execution_count": 256,
   "id": "62090059",
   "metadata": {},
   "outputs": [
    {
     "name": "stdout",
     "output_type": "stream",
     "text": [
      "<class 'pandas.core.frame.DataFrame'>\n",
      "Index: 5 entries, California to Illinois\n",
      "Data columns (total 1 columns):\n",
      " #   Column  Non-Null Count  Dtype\n",
      "---  ------  --------------  -----\n",
      " 0   pop     5 non-null      int64\n",
      "dtypes: int64(1)\n",
      "memory usage: 252.0+ bytes\n"
     ]
    }
   ],
   "source": [
    "df.info()"
   ]
  },
  {
   "cell_type": "code",
   "execution_count": 258,
   "id": "84a3b868",
   "metadata": {},
   "outputs": [
    {
     "data": {
      "text/html": [
       "<div>\n",
       "<style scoped>\n",
       "    .dataframe tbody tr th:only-of-type {\n",
       "        vertical-align: middle;\n",
       "    }\n",
       "\n",
       "    .dataframe tbody tr th {\n",
       "        vertical-align: top;\n",
       "    }\n",
       "\n",
       "    .dataframe thead th {\n",
       "        text-align: right;\n",
       "    }\n",
       "</style>\n",
       "<table border=\"1\" class=\"dataframe\">\n",
       "  <thead>\n",
       "    <tr style=\"text-align: right;\">\n",
       "      <th></th>\n",
       "      <th>pop</th>\n",
       "    </tr>\n",
       "  </thead>\n",
       "  <tbody>\n",
       "    <tr>\n",
       "      <th>count</th>\n",
       "      <td>5.000000e+00</td>\n",
       "    </tr>\n",
       "    <tr>\n",
       "      <th>mean</th>\n",
       "      <td>2.337337e+07</td>\n",
       "    </tr>\n",
       "    <tr>\n",
       "      <th>std</th>\n",
       "      <td>9.640386e+06</td>\n",
       "    </tr>\n",
       "    <tr>\n",
       "      <th>min</th>\n",
       "      <td>1.288214e+07</td>\n",
       "    </tr>\n",
       "    <tr>\n",
       "      <th>25%</th>\n",
       "      <td>1.955286e+07</td>\n",
       "    </tr>\n",
       "    <tr>\n",
       "      <th>50%</th>\n",
       "      <td>1.965113e+07</td>\n",
       "    </tr>\n",
       "    <tr>\n",
       "      <th>75%</th>\n",
       "      <td>2.644819e+07</td>\n",
       "    </tr>\n",
       "    <tr>\n",
       "      <th>max</th>\n",
       "      <td>3.833252e+07</td>\n",
       "    </tr>\n",
       "  </tbody>\n",
       "</table>\n",
       "</div>"
      ],
      "text/plain": [
       "                pop\n",
       "count  5.000000e+00\n",
       "mean   2.337337e+07\n",
       "std    9.640386e+06\n",
       "min    1.288214e+07\n",
       "25%    1.955286e+07\n",
       "50%    1.965113e+07\n",
       "75%    2.644819e+07\n",
       "max    3.833252e+07"
      ]
     },
     "execution_count": 258,
     "metadata": {},
     "output_type": "execute_result"
    }
   ],
   "source": [
    "df.describe()"
   ]
  },
  {
   "cell_type": "markdown",
   "id": "9bac3aab",
   "metadata": {
    "id": "9bac3aab"
   },
   "source": [
    "#### A partir de uma lista de dicionários\n",
    "\n",
    "Qualquer lista de dicionários pode ser transformada em um `DataFrame`. Usaremos uma simples compreensão de lista para criar alguns dados:\n"
   ]
  },
  {
   "cell_type": "code",
   "execution_count": 261,
   "id": "1ed923e0",
   "metadata": {
    "id": "1ed923e0"
   },
   "outputs": [
    {
     "data": {
      "text/html": [
       "<div>\n",
       "<style scoped>\n",
       "    .dataframe tbody tr th:only-of-type {\n",
       "        vertical-align: middle;\n",
       "    }\n",
       "\n",
       "    .dataframe tbody tr th {\n",
       "        vertical-align: top;\n",
       "    }\n",
       "\n",
       "    .dataframe thead th {\n",
       "        text-align: right;\n",
       "    }\n",
       "</style>\n",
       "<table border=\"1\" class=\"dataframe\">\n",
       "  <thead>\n",
       "    <tr style=\"text-align: right;\">\n",
       "      <th></th>\n",
       "      <th>a</th>\n",
       "      <th>b</th>\n",
       "    </tr>\n",
       "  </thead>\n",
       "  <tbody>\n",
       "    <tr>\n",
       "      <th>0</th>\n",
       "      <td>0</td>\n",
       "      <td>0</td>\n",
       "    </tr>\n",
       "    <tr>\n",
       "      <th>1</th>\n",
       "      <td>1</td>\n",
       "      <td>2</td>\n",
       "    </tr>\n",
       "    <tr>\n",
       "      <th>2</th>\n",
       "      <td>2</td>\n",
       "      <td>4</td>\n",
       "    </tr>\n",
       "  </tbody>\n",
       "</table>\n",
       "</div>"
      ],
      "text/plain": [
       "   a  b\n",
       "0  0  0\n",
       "1  1  2\n",
       "2  2  4"
      ]
     },
     "execution_count": 261,
     "metadata": {},
     "output_type": "execute_result"
    }
   ],
   "source": [
    "data = [{'a': i, 'b': 2 * i}\n",
    "        for i in range(3)]\n",
    "pd.DataFrame(data)"
   ]
  },
  {
   "cell_type": "code",
   "execution_count": 260,
   "id": "0e940ffa",
   "metadata": {},
   "outputs": [
    {
     "data": {
      "text/plain": [
       "[{'a': 0, 'b': 0}, {'a': 1, 'b': 2}, {'a': 2, 'b': 4}]"
      ]
     },
     "execution_count": 260,
     "metadata": {},
     "output_type": "execute_result"
    }
   ],
   "source": [
    "data"
   ]
  },
  {
   "cell_type": "markdown",
   "id": "d83b15c7",
   "metadata": {
    "id": "d83b15c7"
   },
   "source": [
    "Mesmo que algumas chaves no dicionário estejam ausentes, o Pandas preencherá essas posições com valores `NaN` (ou seja, \"not a number\"):\n"
   ]
  },
  {
   "cell_type": "code",
   "execution_count": 262,
   "id": "3e0b00ca",
   "metadata": {
    "id": "3e0b00ca"
   },
   "outputs": [
    {
     "data": {
      "text/html": [
       "<div>\n",
       "<style scoped>\n",
       "    .dataframe tbody tr th:only-of-type {\n",
       "        vertical-align: middle;\n",
       "    }\n",
       "\n",
       "    .dataframe tbody tr th {\n",
       "        vertical-align: top;\n",
       "    }\n",
       "\n",
       "    .dataframe thead th {\n",
       "        text-align: right;\n",
       "    }\n",
       "</style>\n",
       "<table border=\"1\" class=\"dataframe\">\n",
       "  <thead>\n",
       "    <tr style=\"text-align: right;\">\n",
       "      <th></th>\n",
       "      <th>a</th>\n",
       "      <th>b</th>\n",
       "      <th>c</th>\n",
       "    </tr>\n",
       "  </thead>\n",
       "  <tbody>\n",
       "    <tr>\n",
       "      <th>0</th>\n",
       "      <td>1.0</td>\n",
       "      <td>2</td>\n",
       "      <td>NaN</td>\n",
       "    </tr>\n",
       "    <tr>\n",
       "      <th>1</th>\n",
       "      <td>NaN</td>\n",
       "      <td>3</td>\n",
       "      <td>4.0</td>\n",
       "    </tr>\n",
       "  </tbody>\n",
       "</table>\n",
       "</div>"
      ],
      "text/plain": [
       "     a  b    c\n",
       "0  1.0  2  NaN\n",
       "1  NaN  3  4.0"
      ]
     },
     "execution_count": 262,
     "metadata": {},
     "output_type": "execute_result"
    }
   ],
   "source": [
    "pd.DataFrame([{'a': 1, 'b': 2}, {'b': 3, 'c': 4}])"
   ]
  },
  {
   "cell_type": "markdown",
   "id": "de2f69a1",
   "metadata": {
    "id": "de2f69a1"
   },
   "source": [
    "#### A partir de um dicionário de objetos Series\n",
    "\n",
    "Como vimos anteriormente, um `DataFrame` também pode ser construído a partir de um dicionário de objetos `Series`:\n"
   ]
  },
  {
   "cell_type": "code",
   "execution_count": 263,
   "id": "954c56e1",
   "metadata": {
    "id": "954c56e1"
   },
   "outputs": [
    {
     "data": {
      "text/html": [
       "<div>\n",
       "<style scoped>\n",
       "    .dataframe tbody tr th:only-of-type {\n",
       "        vertical-align: middle;\n",
       "    }\n",
       "\n",
       "    .dataframe tbody tr th {\n",
       "        vertical-align: top;\n",
       "    }\n",
       "\n",
       "    .dataframe thead th {\n",
       "        text-align: right;\n",
       "    }\n",
       "</style>\n",
       "<table border=\"1\" class=\"dataframe\">\n",
       "  <thead>\n",
       "    <tr style=\"text-align: right;\">\n",
       "      <th></th>\n",
       "      <th>populacao</th>\n",
       "      <th>area</th>\n",
       "    </tr>\n",
       "  </thead>\n",
       "  <tbody>\n",
       "    <tr>\n",
       "      <th>California</th>\n",
       "      <td>38332521</td>\n",
       "      <td>423967</td>\n",
       "    </tr>\n",
       "    <tr>\n",
       "      <th>Texas</th>\n",
       "      <td>26448193</td>\n",
       "      <td>695662</td>\n",
       "    </tr>\n",
       "    <tr>\n",
       "      <th>New York</th>\n",
       "      <td>19651127</td>\n",
       "      <td>141297</td>\n",
       "    </tr>\n",
       "    <tr>\n",
       "      <th>Florida</th>\n",
       "      <td>19552860</td>\n",
       "      <td>170312</td>\n",
       "    </tr>\n",
       "    <tr>\n",
       "      <th>Illinois</th>\n",
       "      <td>12882135</td>\n",
       "      <td>149995</td>\n",
       "    </tr>\n",
       "  </tbody>\n",
       "</table>\n",
       "</div>"
      ],
      "text/plain": [
       "            populacao    area\n",
       "California   38332521  423967\n",
       "Texas        26448193  695662\n",
       "New York     19651127  141297\n",
       "Florida      19552860  170312\n",
       "Illinois     12882135  149995"
      ]
     },
     "execution_count": 263,
     "metadata": {},
     "output_type": "execute_result"
    }
   ],
   "source": [
    "pd.DataFrame({'populacao': populacao,\n",
    "              'area': area})"
   ]
  },
  {
   "cell_type": "markdown",
   "id": "0872f0f1",
   "metadata": {
    "id": "0872f0f1"
   },
   "source": [
    "#### A partir de um array bidimensional do NumPy\n",
    "\n",
    "Dado um array bidimensional de dados, podemos criar um `DataFrame` com nomes de colunas e de índice especificados. Se omitidos, um índice inteiro será usado para cada um:\n"
   ]
  },
  {
   "cell_type": "code",
   "execution_count": 267,
   "id": "28b4dbb2",
   "metadata": {
    "id": "28b4dbb2"
   },
   "outputs": [
    {
     "data": {
      "text/html": [
       "<div>\n",
       "<style scoped>\n",
       "    .dataframe tbody tr th:only-of-type {\n",
       "        vertical-align: middle;\n",
       "    }\n",
       "\n",
       "    .dataframe tbody tr th {\n",
       "        vertical-align: top;\n",
       "    }\n",
       "\n",
       "    .dataframe thead th {\n",
       "        text-align: right;\n",
       "    }\n",
       "</style>\n",
       "<table border=\"1\" class=\"dataframe\">\n",
       "  <thead>\n",
       "    <tr style=\"text-align: right;\">\n",
       "      <th></th>\n",
       "      <th>foo</th>\n",
       "      <th>bar</th>\n",
       "    </tr>\n",
       "  </thead>\n",
       "  <tbody>\n",
       "    <tr>\n",
       "      <th>idx1</th>\n",
       "      <td>0.744603</td>\n",
       "      <td>0.469785</td>\n",
       "    </tr>\n",
       "    <tr>\n",
       "      <th>idx2</th>\n",
       "      <td>0.598256</td>\n",
       "      <td>0.147620</td>\n",
       "    </tr>\n",
       "    <tr>\n",
       "      <th>idx3</th>\n",
       "      <td>0.184035</td>\n",
       "      <td>0.645072</td>\n",
       "    </tr>\n",
       "  </tbody>\n",
       "</table>\n",
       "</div>"
      ],
      "text/plain": [
       "           foo       bar\n",
       "idx1  0.744603  0.469785\n",
       "idx2  0.598256  0.147620\n",
       "idx3  0.184035  0.645072"
      ]
     },
     "execution_count": 267,
     "metadata": {},
     "output_type": "execute_result"
    }
   ],
   "source": [
    "df = pd.DataFrame(np.random.rand(3, 2),\n",
    "             columns=['foo', 'bar'],\n",
    "             index=['idx1', 'idx2', 'idx3'])\n",
    "df"
   ]
  },
  {
   "cell_type": "code",
   "execution_count": 271,
   "id": "00f31cf1",
   "metadata": {},
   "outputs": [
    {
     "data": {
      "text/plain": [
       "foo    0.744603\n",
       "bar    0.469785\n",
       "Name: idx1, dtype: float64"
      ]
     },
     "execution_count": 271,
     "metadata": {},
     "output_type": "execute_result"
    }
   ],
   "source": [
    "df.loc['idx1']"
   ]
  },
  {
   "cell_type": "markdown",
   "id": "49b43c4a",
   "metadata": {
    "id": "49b43c4a"
   },
   "source": [
    "### 3.6 O Objeto Index do Pandas\n",
    "\n",
    "Vimos que tanto os objetos `Series` quanto `DataFrame` contêm um *índice* explícito que permite referenciar e modificar dados.\n",
    "Esse objeto `Index` é uma estrutura interessante por si só e pode ser visto tanto como um *array imutável* quanto como um *conjunto ordenado* (tecnicamente, um multi-conjunto, já que objetos `Index` podem conter valores repetidos).\n",
    "Essas perspectivas têm algumas consequências interessantes nas operações disponíveis em objetos `Index`.\n",
    "Como exemplo simples, vamos construir um `Index` a partir de uma lista de inteiros:\n"
   ]
  },
  {
   "cell_type": "code",
   "execution_count": 61,
   "id": "b1739da0",
   "metadata": {
    "id": "b1739da0"
   },
   "outputs": [
    {
     "data": {
      "text/plain": [
       "Index([2, 3, 5, 7, 11], dtype='int64')"
      ]
     },
     "execution_count": 61,
     "metadata": {},
     "output_type": "execute_result"
    }
   ],
   "source": [
    "ind = pd.Index([2, 3, 5, 7, 11])\n",
    "ind"
   ]
  },
  {
   "cell_type": "markdown",
   "id": "bc95879d",
   "metadata": {
    "id": "bc95879d"
   },
   "source": [
    "#### Index como um array imutável\n",
    "\n",
    "O `Index`, em muitos aspectos, opera como um array.\n",
    "Por exemplo, podemos usar a notação de indexação padrão do Python para recuperar valores ou fatias:\n"
   ]
  },
  {
   "cell_type": "code",
   "execution_count": 272,
   "id": "af16ddf4",
   "metadata": {
    "id": "af16ddf4",
    "scrolled": true
   },
   "outputs": [
    {
     "name": "stdout",
     "output_type": "stream",
     "text": [
      "3\n",
      "------\n",
      "Index([2, 5, 11], dtype='int64')\n"
     ]
    }
   ],
   "source": [
    "print(ind[1])\n",
    "print(\"------\")\n",
    "print(ind[::2])"
   ]
  },
  {
   "cell_type": "markdown",
   "id": "b04978fd",
   "metadata": {
    "id": "b04978fd"
   },
   "source": [
    "Objetos `Index` também possuem muitos dos atributos familiares dos arrays do NumPy:"
   ]
  },
  {
   "cell_type": "code",
   "execution_count": 63,
   "id": "0126919c",
   "metadata": {
    "id": "0126919c",
    "scrolled": true
   },
   "outputs": [
    {
     "name": "stdout",
     "output_type": "stream",
     "text": [
      "5 (5,) 1 int64\n"
     ]
    }
   ],
   "source": [
    "print(ind.size, ind.shape, ind.ndim, ind.dtype)"
   ]
  },
  {
   "cell_type": "markdown",
   "id": "86bb7bfb",
   "metadata": {
    "id": "86bb7bfb"
   },
   "source": [
    "Uma diferença entre objetos `Index` e arrays do NumPy é que os índices são imutáveis – ou seja, eles não podem ser modificados pelos meios normais:\n"
   ]
  },
  {
   "cell_type": "code",
   "execution_count": 273,
   "id": "04431ae3",
   "metadata": {
    "id": "04431ae3"
   },
   "outputs": [
    {
     "ename": "TypeError",
     "evalue": "Index does not support mutable operations",
     "output_type": "error",
     "traceback": [
      "\u001b[0;31m---------------------------------------------------------------------------\u001b[0m",
      "\u001b[0;31mTypeError\u001b[0m                                 Traceback (most recent call last)",
      "Cell \u001b[0;32mIn[273], line 1\u001b[0m\n\u001b[0;32m----> 1\u001b[0m \u001b[43mind\u001b[49m\u001b[43m[\u001b[49m\u001b[38;5;241;43m1\u001b[39;49m\u001b[43m]\u001b[49m \u001b[38;5;241m=\u001b[39m \u001b[38;5;241m0\u001b[39m\n",
      "File \u001b[0;32m~/anaconda3/envs/my_projects/lib/python3.9/site-packages/pandas/core/indexes/base.py:5156\u001b[0m, in \u001b[0;36mIndex.__setitem__\u001b[0;34m(self, key, value)\u001b[0m\n\u001b[1;32m   5154\u001b[0m \u001b[38;5;129m@final\u001b[39m\n\u001b[1;32m   5155\u001b[0m \u001b[38;5;28;01mdef\u001b[39;00m \u001b[38;5;21m__setitem__\u001b[39m(\u001b[38;5;28mself\u001b[39m, key, value):\n\u001b[0;32m-> 5156\u001b[0m     \u001b[38;5;28;01mraise\u001b[39;00m \u001b[38;5;167;01mTypeError\u001b[39;00m(\u001b[38;5;124m\"\u001b[39m\u001b[38;5;124mIndex does not support mutable operations\u001b[39m\u001b[38;5;124m\"\u001b[39m)\n",
      "\u001b[0;31mTypeError\u001b[0m: Index does not support mutable operations"
     ]
    }
   ],
   "source": [
    "ind[1] = 0"
   ]
  },
  {
   "cell_type": "markdown",
   "id": "397bb73f",
   "metadata": {
    "id": "397bb73f"
   },
   "source": [
    "#### Index como conjunto ordenado\n"
   ]
  },
  {
   "cell_type": "markdown",
   "id": "c7ada9b9",
   "metadata": {
    "id": "c7ada9b9"
   },
   "source": [
    "Os objetos do Pandas são projetados para facilitar operações como junções entre conjuntos de dados, que dependem de muitos aspectos da aritmética de conjuntos.\n",
    "O objeto `Index` segue muitas das convenções usadas pela estrutura de dados `set` embutida do Python, permitindo que uniões, interseções, diferenças e outras combinações sejam computadas de uma maneira familiar:\n"
   ]
  },
  {
   "cell_type": "code",
   "execution_count": 276,
   "id": "8a140db8",
   "metadata": {
    "id": "8a140db8",
    "scrolled": true
   },
   "outputs": [
    {
     "name": "stdout",
     "output_type": "stream",
     "text": [
      "Index([3, 5, 7], dtype='int64')\n",
      "Index([1, 2, 3, 5, 7, 9, 11], dtype='int64')\n",
      "Index([1, 9], dtype='int64')\n"
     ]
    }
   ],
   "source": [
    "indA = pd.Index([1, 3, 5, 7, 9])\n",
    "indB = pd.Index([2, 3, 5, 7, 11])\n",
    "\n",
    "print(indA.intersection(indB)) # interseção\n",
    "print(indA.union(indB)) # união\n",
    "print(indA.difference(indB)) # diferença simétrica A-B ou B-A"
   ]
  },
  {
   "cell_type": "markdown",
   "id": "f2a5f371",
   "metadata": {
    "id": "f2a5f371"
   },
   "source": [
    "### 3.7 Seleção de Dados em DataFrame\n",
    "\n",
    "Lembre-se de que um `DataFrame` age de várias maneiras como um array bidimensional ou estruturado e, de outras formas, como um dicionário de estruturas `Series` que compartilham o mesmo índice.\n",
    "Essas analogias podem ser úteis para manter em mente enquanto exploramos a seleção de dados dentro dessa estrutura.\n"
   ]
  },
  {
   "cell_type": "markdown",
   "id": "c176b03c",
   "metadata": {
    "id": "c176b03c"
   },
   "source": [
    "#### DataFrame como um dicionário\n",
    "\n",
    "A primeira analogia que vamos considerar é o `DataFrame` como um dicionário de objetos `Series` relacionados.\n",
    "Vamos retornar ao nosso exemplo de áreas e populações dos estados:\n"
   ]
  },
  {
   "cell_type": "code",
   "execution_count": 66,
   "id": "b8fafe52",
   "metadata": {
    "id": "b8fafe52"
   },
   "outputs": [
    {
     "data": {
      "text/html": [
       "<div>\n",
       "<style scoped>\n",
       "    .dataframe tbody tr th:only-of-type {\n",
       "        vertical-align: middle;\n",
       "    }\n",
       "\n",
       "    .dataframe tbody tr th {\n",
       "        vertical-align: top;\n",
       "    }\n",
       "\n",
       "    .dataframe thead th {\n",
       "        text-align: right;\n",
       "    }\n",
       "</style>\n",
       "<table border=\"1\" class=\"dataframe\">\n",
       "  <thead>\n",
       "    <tr style=\"text-align: right;\">\n",
       "      <th></th>\n",
       "      <th>area</th>\n",
       "      <th>pop</th>\n",
       "    </tr>\n",
       "  </thead>\n",
       "  <tbody>\n",
       "    <tr>\n",
       "      <th>California</th>\n",
       "      <td>423967</td>\n",
       "      <td>38332521</td>\n",
       "    </tr>\n",
       "    <tr>\n",
       "      <th>Texas</th>\n",
       "      <td>695662</td>\n",
       "      <td>26448193</td>\n",
       "    </tr>\n",
       "    <tr>\n",
       "      <th>New York</th>\n",
       "      <td>141297</td>\n",
       "      <td>19651127</td>\n",
       "    </tr>\n",
       "    <tr>\n",
       "      <th>Florida</th>\n",
       "      <td>170312</td>\n",
       "      <td>19552860</td>\n",
       "    </tr>\n",
       "    <tr>\n",
       "      <th>Illinois</th>\n",
       "      <td>149995</td>\n",
       "      <td>12882135</td>\n",
       "    </tr>\n",
       "  </tbody>\n",
       "</table>\n",
       "</div>"
      ],
      "text/plain": [
       "              area       pop\n",
       "California  423967  38332521\n",
       "Texas       695662  26448193\n",
       "New York    141297  19651127\n",
       "Florida     170312  19552860\n",
       "Illinois    149995  12882135"
      ]
     },
     "execution_count": 66,
     "metadata": {},
     "output_type": "execute_result"
    }
   ],
   "source": [
    "area = pd.Series({'California': 423967, 'Texas': 695662,\n",
    "                  'New York': 141297, 'Florida': 170312,\n",
    "                  'Illinois': 149995})\n",
    "pop = pd.Series({'California': 38332521, 'Texas': 26448193,\n",
    "                 'New York': 19651127, 'Florida': 19552860,\n",
    "                 'Illinois': 12882135})\n",
    "data = pd.DataFrame({'area':area, 'pop':pop})\n",
    "data"
   ]
  },
  {
   "cell_type": "markdown",
   "id": "d7918006",
   "metadata": {
    "id": "d7918006"
   },
   "source": [
    "As `Series` individuais que compõem as colunas do `DataFrame` podem ser acessadas por meio de indexação no estilo de dicionário usando o nome da coluna:"
   ]
  },
  {
   "cell_type": "code",
   "execution_count": 67,
   "id": "e51701d8",
   "metadata": {
    "id": "e51701d8",
    "scrolled": true
   },
   "outputs": [
    {
     "data": {
      "text/plain": [
       "California    423967\n",
       "Texas         695662\n",
       "New York      141297\n",
       "Florida       170312\n",
       "Illinois      149995\n",
       "Name: area, dtype: int64"
      ]
     },
     "execution_count": 67,
     "metadata": {},
     "output_type": "execute_result"
    }
   ],
   "source": [
    "data['area']"
   ]
  },
  {
   "cell_type": "markdown",
   "id": "44b45883",
   "metadata": {
    "id": "44b45883"
   },
   "source": [
    "De forma equivalente, podemos usar o acesso no estilo de atributo com nomes de coluna que são strings:"
   ]
  },
  {
   "cell_type": "code",
   "execution_count": 68,
   "id": "86bfafef",
   "metadata": {
    "id": "86bfafef"
   },
   "outputs": [
    {
     "data": {
      "text/plain": [
       "California    423967\n",
       "Texas         695662\n",
       "New York      141297\n",
       "Florida       170312\n",
       "Illinois      149995\n",
       "Name: area, dtype: int64"
      ]
     },
     "execution_count": 68,
     "metadata": {},
     "output_type": "execute_result"
    }
   ],
   "source": [
    "data.area"
   ]
  },
  {
   "cell_type": "markdown",
   "id": "cc5a107c",
   "metadata": {
    "id": "cc5a107c"
   },
   "source": [
    "Esse acesso de coluna no estilo de atributo acessa exatamente o mesmo objeto que o acesso no estilo de dicionário:\n"
   ]
  },
  {
   "cell_type": "code",
   "execution_count": 69,
   "id": "99b2b229",
   "metadata": {
    "id": "99b2b229"
   },
   "outputs": [
    {
     "data": {
      "text/plain": [
       "True"
      ]
     },
     "execution_count": 69,
     "metadata": {},
     "output_type": "execute_result"
    }
   ],
   "source": [
    "data.area is data['area']"
   ]
  },
  {
   "cell_type": "markdown",
   "id": "29608f45",
   "metadata": {
    "id": "29608f45"
   },
   "source": [
    "Embora essa seja uma forma abreviada útil, tenha em mente que ela não funciona para todos os casos!\n",
    "Por exemplo, se os nomes das colunas não forem strings ou se os nomes das colunas entrarem em conflito com métodos do `DataFrame`, esse acesso no estilo de atributo não será possível.\n",
    "Por exemplo, o `DataFrame` possui um método `pop()`, então `data.pop` apontará para esse método em vez da coluna `\"pop\"`:"
   ]
  },
  {
   "cell_type": "code",
   "execution_count": 70,
   "id": "d87c2a42",
   "metadata": {
    "id": "d87c2a42"
   },
   "outputs": [
    {
     "data": {
      "text/plain": [
       "False"
      ]
     },
     "execution_count": 70,
     "metadata": {},
     "output_type": "execute_result"
    }
   ],
   "source": [
    "data.pop is data['pop']"
   ]
  },
  {
   "cell_type": "markdown",
   "id": "c8a0fa6e",
   "metadata": {
    "id": "c8a0fa6e"
   },
   "source": [
    "Em particular, você deve evitar a tentação de tentar atribuir colunas via atributo (ou seja, use `data['pop'] = z` em vez de `data.pop = z`).\n",
    "\n",
    "Assim como nos objetos `Series` discutidos anteriormente, essa sintaxe no estilo de dicionário também pode ser usada para modificar o objeto, neste caso, adicionando uma nova coluna:\n"
   ]
  },
  {
   "cell_type": "code",
   "execution_count": 71,
   "id": "968a7b72",
   "metadata": {
    "id": "968a7b72"
   },
   "outputs": [
    {
     "data": {
      "text/html": [
       "<div>\n",
       "<style scoped>\n",
       "    .dataframe tbody tr th:only-of-type {\n",
       "        vertical-align: middle;\n",
       "    }\n",
       "\n",
       "    .dataframe tbody tr th {\n",
       "        vertical-align: top;\n",
       "    }\n",
       "\n",
       "    .dataframe thead th {\n",
       "        text-align: right;\n",
       "    }\n",
       "</style>\n",
       "<table border=\"1\" class=\"dataframe\">\n",
       "  <thead>\n",
       "    <tr style=\"text-align: right;\">\n",
       "      <th></th>\n",
       "      <th>area</th>\n",
       "      <th>pop</th>\n",
       "      <th>densidade</th>\n",
       "    </tr>\n",
       "  </thead>\n",
       "  <tbody>\n",
       "    <tr>\n",
       "      <th>California</th>\n",
       "      <td>423967</td>\n",
       "      <td>38332521</td>\n",
       "      <td>90.413926</td>\n",
       "    </tr>\n",
       "    <tr>\n",
       "      <th>Texas</th>\n",
       "      <td>695662</td>\n",
       "      <td>26448193</td>\n",
       "      <td>38.018740</td>\n",
       "    </tr>\n",
       "    <tr>\n",
       "      <th>New York</th>\n",
       "      <td>141297</td>\n",
       "      <td>19651127</td>\n",
       "      <td>139.076746</td>\n",
       "    </tr>\n",
       "    <tr>\n",
       "      <th>Florida</th>\n",
       "      <td>170312</td>\n",
       "      <td>19552860</td>\n",
       "      <td>114.806121</td>\n",
       "    </tr>\n",
       "    <tr>\n",
       "      <th>Illinois</th>\n",
       "      <td>149995</td>\n",
       "      <td>12882135</td>\n",
       "      <td>85.883763</td>\n",
       "    </tr>\n",
       "  </tbody>\n",
       "</table>\n",
       "</div>"
      ],
      "text/plain": [
       "              area       pop   densidade\n",
       "California  423967  38332521   90.413926\n",
       "Texas       695662  26448193   38.018740\n",
       "New York    141297  19651127  139.076746\n",
       "Florida     170312  19552860  114.806121\n",
       "Illinois    149995  12882135   85.883763"
      ]
     },
     "execution_count": 71,
     "metadata": {},
     "output_type": "execute_result"
    }
   ],
   "source": [
    "data['densidade'] = data['pop'] / data['area']\n",
    "data"
   ]
  },
  {
   "cell_type": "code",
   "execution_count": 72,
   "id": "555e9770",
   "metadata": {
    "id": "555e9770"
   },
   "outputs": [
    {
     "data": {
      "text/plain": [
       "array([[4.23967000e+05, 3.83325210e+07, 9.04139261e+01],\n",
       "       [6.95662000e+05, 2.64481930e+07, 3.80187404e+01],\n",
       "       [1.41297000e+05, 1.96511270e+07, 1.39076746e+02],\n",
       "       [1.70312000e+05, 1.95528600e+07, 1.14806121e+02],\n",
       "       [1.49995000e+05, 1.28821350e+07, 8.58837628e+01]])"
      ]
     },
     "execution_count": 72,
     "metadata": {},
     "output_type": "execute_result"
    }
   ],
   "source": [
    "data.values"
   ]
  },
  {
   "cell_type": "code",
   "execution_count": 73,
   "id": "aa492d82",
   "metadata": {
    "id": "aa492d82"
   },
   "outputs": [
    {
     "data": {
      "text/html": [
       "<div>\n",
       "<style scoped>\n",
       "    .dataframe tbody tr th:only-of-type {\n",
       "        vertical-align: middle;\n",
       "    }\n",
       "\n",
       "    .dataframe tbody tr th {\n",
       "        vertical-align: top;\n",
       "    }\n",
       "\n",
       "    .dataframe thead th {\n",
       "        text-align: right;\n",
       "    }\n",
       "</style>\n",
       "<table border=\"1\" class=\"dataframe\">\n",
       "  <thead>\n",
       "    <tr style=\"text-align: right;\">\n",
       "      <th></th>\n",
       "      <th>California</th>\n",
       "      <th>Texas</th>\n",
       "      <th>New York</th>\n",
       "      <th>Florida</th>\n",
       "      <th>Illinois</th>\n",
       "    </tr>\n",
       "  </thead>\n",
       "  <tbody>\n",
       "    <tr>\n",
       "      <th>area</th>\n",
       "      <td>4.239670e+05</td>\n",
       "      <td>6.956620e+05</td>\n",
       "      <td>1.412970e+05</td>\n",
       "      <td>1.703120e+05</td>\n",
       "      <td>1.499950e+05</td>\n",
       "    </tr>\n",
       "    <tr>\n",
       "      <th>pop</th>\n",
       "      <td>3.833252e+07</td>\n",
       "      <td>2.644819e+07</td>\n",
       "      <td>1.965113e+07</td>\n",
       "      <td>1.955286e+07</td>\n",
       "      <td>1.288214e+07</td>\n",
       "    </tr>\n",
       "    <tr>\n",
       "      <th>densidade</th>\n",
       "      <td>9.041393e+01</td>\n",
       "      <td>3.801874e+01</td>\n",
       "      <td>1.390767e+02</td>\n",
       "      <td>1.148061e+02</td>\n",
       "      <td>8.588376e+01</td>\n",
       "    </tr>\n",
       "  </tbody>\n",
       "</table>\n",
       "</div>"
      ],
      "text/plain": [
       "             California         Texas      New York       Florida   \n",
       "area       4.239670e+05  6.956620e+05  1.412970e+05  1.703120e+05  \\\n",
       "pop        3.833252e+07  2.644819e+07  1.965113e+07  1.955286e+07   \n",
       "densidade  9.041393e+01  3.801874e+01  1.390767e+02  1.148061e+02   \n",
       "\n",
       "               Illinois  \n",
       "area       1.499950e+05  \n",
       "pop        1.288214e+07  \n",
       "densidade  8.588376e+01  "
      ]
     },
     "execution_count": 73,
     "metadata": {},
     "output_type": "execute_result"
    }
   ],
   "source": [
    "data.T"
   ]
  },
  {
   "cell_type": "markdown",
   "id": "ab89b1a8",
   "metadata": {
    "id": "ab89b1a8"
   },
   "source": [
    "### 3.8 Filtragem de Dados\n",
    "Filtrando linhas com base em uma condição\n",
    "\n",
    "Suponha que temos um DataFrame com uma coluna idade e queremos selecionar apenas as linhas onde a idade é maior que 18."
   ]
  },
  {
   "cell_type": "code",
   "execution_count": 74,
   "id": "9e11ded4",
   "metadata": {
    "id": "9e11ded4"
   },
   "outputs": [
    {
     "name": "stdout",
     "output_type": "stream",
     "text": [
      "    nome  idade\n",
      "1  Bruno     21\n",
      "3  Diana     25\n"
     ]
    }
   ],
   "source": [
    "import pandas as pd\n",
    "\n",
    "# Exemplo de DataFrame\n",
    "data = {'nome': ['Ana', 'Bruno', 'Carlos', 'Diana'],\n",
    "        'idade': [17, 21, 16, 25]}\n",
    "df = pd.DataFrame(data)\n",
    "\n",
    "# Filtrar onde idade > 18\n",
    "df_maior_18 = df[df['idade'] > 18]\n",
    "print(df_maior_18)"
   ]
  },
  {
   "cell_type": "markdown",
   "id": "3b4d4554",
   "metadata": {
    "id": "3b4d4554"
   },
   "source": [
    "Filtrando com base em várias condições\n",
    "\n",
    "Se quisermos selecionar apenas as linhas onde a idade é maior que 18 e o nome começa com a letra \"B\"."
   ]
  },
  {
   "cell_type": "code",
   "execution_count": 75,
   "id": "4c23b2ea",
   "metadata": {
    "id": "4c23b2ea"
   },
   "outputs": [
    {
     "name": "stdout",
     "output_type": "stream",
     "text": [
      "    nome  idade\n",
      "1  Bruno     21\n"
     ]
    }
   ],
   "source": [
    "# Condições múltiplas\n",
    "df_filtrado = df[(df['idade'] > 18) & (df['nome'].str.startswith('B'))]\n",
    "print(df_filtrado)\n"
   ]
  },
  {
   "cell_type": "markdown",
   "id": "cb784162",
   "metadata": {
    "id": "cb784162"
   },
   "source": [
    "Filtrando com base em valores específicos de uma coluna\n",
    "\n",
    "Para selecionar apenas as linhas onde a coluna nome contém valores específicos (por exemplo, 'Ana' ou 'Diana')."
   ]
  },
  {
   "cell_type": "code",
   "execution_count": 76,
   "id": "3fdfe209",
   "metadata": {
    "id": "3fdfe209"
   },
   "outputs": [
    {
     "name": "stdout",
     "output_type": "stream",
     "text": [
      "    nome  idade\n",
      "0    Ana     17\n",
      "3  Diana     25\n"
     ]
    }
   ],
   "source": [
    "# Filtrar onde nome é 'Ana' ou 'Diana'\n",
    "df_filtrado_nomes = df[df['nome'].isin(['Ana', 'Diana'])]\n",
    "print(df_filtrado_nomes)"
   ]
  },
  {
   "cell_type": "markdown",
   "id": "aad2a066",
   "metadata": {
    "id": "aad2a066"
   },
   "source": [
    "Filtrando linhas com valores nulos (ou não nulos)\n",
    "\n",
    "Para selecionar linhas onde a coluna idade possui valores nulos."
   ]
  },
  {
   "cell_type": "code",
   "execution_count": 77,
   "id": "832fe964",
   "metadata": {
    "id": "832fe964"
   },
   "outputs": [
    {
     "name": "stdout",
     "output_type": "stream",
     "text": [
      "    nome  idade\n",
      "1  Bruno    NaN\n"
     ]
    }
   ],
   "source": [
    "# Adicionando valores nulos para o exemplo\n",
    "df.loc[1, 'idade'] = None\n",
    "\n",
    "# Filtrar linhas com valores nulos em 'idade'\n",
    "df_com_nulos = df[df['idade'].isnull()]\n",
    "print(df_com_nulos)"
   ]
  },
  {
   "cell_type": "markdown",
   "id": "859f09a5",
   "metadata": {
    "id": "859f09a5"
   },
   "source": [
    "Filtrando com base em uma faixa de valores\n",
    "\n",
    "Para selecionar linhas onde a coluna idade está entre 18 e 25."
   ]
  },
  {
   "cell_type": "code",
   "execution_count": 78,
   "id": "4686bf0a",
   "metadata": {
    "id": "4686bf0a"
   },
   "outputs": [
    {
     "name": "stdout",
     "output_type": "stream",
     "text": [
      "    nome  idade\n",
      "3  Diana   25.0\n"
     ]
    }
   ],
   "source": [
    "# Filtrar onde idade está entre 18 e 25\n",
    "df_faixa_idade = df[df['idade'].between(18, 25)]\n",
    "print(df_faixa_idade)\n"
   ]
  },
  {
   "cell_type": "markdown",
   "id": "ba8f4032",
   "metadata": {
    "id": "ba8f4032"
   },
   "source": [
    "Filtrando com base em uma expressão complexa\n",
    "\n",
    "Para filtrar linhas onde o comprimento do nome é maior que 4 e a idade é menor que 20."
   ]
  },
  {
   "cell_type": "code",
   "execution_count": 79,
   "id": "de509a7b",
   "metadata": {
    "id": "de509a7b"
   },
   "outputs": [
    {
     "name": "stdout",
     "output_type": "stream",
     "text": [
      "     nome  idade\n",
      "2  Carlos   16.0\n"
     ]
    }
   ],
   "source": [
    "# Filtrar com expressão complexa\n",
    "df_expressao = df[(df['nome'].str.len() > 4) & (df['idade'] < 20)]\n",
    "print(df_expressao)"
   ]
  },
  {
   "cell_type": "markdown",
   "id": "9a69b85f",
   "metadata": {
    "id": "9a69b85f"
   },
   "source": [
    "### 3.9 Operando com Valores Nulos\n",
    "\n",
    "Como vimos, o Pandas trata `None` e `NaN` como essencialmente intercambiáveis para indicar valores ausentes ou nulos.\n",
    "Para facilitar essa convenção, existem vários métodos úteis para detectar, remover e substituir valores nulos nas estruturas de dados do Pandas.\n",
    "Eles são:\n",
    "\n",
    "- `isnull()`: Gera uma máscara booleana indicando valores ausentes\n",
    "- `notnull()`: Oposto de `isnull()`\n",
    "- `dropna()`: Retorna uma versão filtrada dos dados\n",
    "- `fillna()`: Retorna uma cópia dos dados com valores ausentes preenchidos ou imputados\n",
    "\n",
    "Concluiremos esta seção com uma breve exploração e demonstração dessas rotinas.\n"
   ]
  },
  {
   "cell_type": "markdown",
   "id": "603f22e3",
   "metadata": {
    "id": "603f22e3"
   },
   "source": [
    "#### Detectando valores nulos\n",
    "\n",
    "As estruturas de dados do Pandas possuem dois métodos úteis para detectar dados nulos: `isnull()` e `notnull()`.\n",
    "Qualquer um deles retornará uma máscara booleana sobre os dados. Por exemplo:\n"
   ]
  },
  {
   "cell_type": "code",
   "execution_count": 80,
   "id": "f77dfeb6",
   "metadata": {
    "id": "f77dfeb6",
    "scrolled": true
   },
   "outputs": [
    {
     "name": "stdout",
     "output_type": "stream",
     "text": [
      "0    False\n",
      "1     True\n",
      "2    False\n",
      "3     True\n",
      "dtype: bool\n",
      "-----------\n",
      "0        1\n",
      "2    hello\n",
      "dtype: object\n"
     ]
    }
   ],
   "source": [
    "data = pd.Series([1, np.nan, 'hello', None])\n",
    "print(data.isnull())\n",
    "print('-----------')\n",
    "print(data[data.notnull()]) # filtrar o que não é nulo"
   ]
  },
  {
   "cell_type": "markdown",
   "id": "d69853d6",
   "metadata": {
    "id": "d69853d6"
   },
   "source": [
    "#### Removendo valores nulos\n",
    "\n",
    "Além da criação de máscaras usada anteriormente, existem métodos convenientes, `dropna()`\n",
    "(que remove valores NA) e `fillna()` (que preenche valores NA). Para uma `Series`,\n",
    "o resultado é direto:\n"
   ]
  },
  {
   "cell_type": "code",
   "execution_count": 81,
   "id": "da2f7d6a",
   "metadata": {
    "id": "da2f7d6a"
   },
   "outputs": [
    {
     "data": {
      "text/plain": [
       "0        1\n",
       "2    hello\n",
       "dtype: object"
      ]
     },
     "execution_count": 81,
     "metadata": {},
     "output_type": "execute_result"
    }
   ],
   "source": [
    "data.dropna()"
   ]
  },
  {
   "cell_type": "markdown",
   "id": "3cee3dd4",
   "metadata": {
    "id": "3cee3dd4"
   },
   "source": [
    "Para um `DataFrame`, há mais opções.\n",
    "Considere o seguinte `DataFrame`:\n"
   ]
  },
  {
   "cell_type": "code",
   "execution_count": 82,
   "id": "35b625ae",
   "metadata": {
    "id": "35b625ae"
   },
   "outputs": [
    {
     "data": {
      "text/html": [
       "<div>\n",
       "<style scoped>\n",
       "    .dataframe tbody tr th:only-of-type {\n",
       "        vertical-align: middle;\n",
       "    }\n",
       "\n",
       "    .dataframe tbody tr th {\n",
       "        vertical-align: top;\n",
       "    }\n",
       "\n",
       "    .dataframe thead th {\n",
       "        text-align: right;\n",
       "    }\n",
       "</style>\n",
       "<table border=\"1\" class=\"dataframe\">\n",
       "  <thead>\n",
       "    <tr style=\"text-align: right;\">\n",
       "      <th></th>\n",
       "      <th>0</th>\n",
       "      <th>1</th>\n",
       "      <th>2</th>\n",
       "    </tr>\n",
       "  </thead>\n",
       "  <tbody>\n",
       "    <tr>\n",
       "      <th>0</th>\n",
       "      <td>1.0</td>\n",
       "      <td>NaN</td>\n",
       "      <td>2</td>\n",
       "    </tr>\n",
       "    <tr>\n",
       "      <th>1</th>\n",
       "      <td>2.0</td>\n",
       "      <td>3.0</td>\n",
       "      <td>5</td>\n",
       "    </tr>\n",
       "    <tr>\n",
       "      <th>2</th>\n",
       "      <td>NaN</td>\n",
       "      <td>4.0</td>\n",
       "      <td>6</td>\n",
       "    </tr>\n",
       "  </tbody>\n",
       "</table>\n",
       "</div>"
      ],
      "text/plain": [
       "     0    1  2\n",
       "0  1.0  NaN  2\n",
       "1  2.0  3.0  5\n",
       "2  NaN  4.0  6"
      ]
     },
     "execution_count": 82,
     "metadata": {},
     "output_type": "execute_result"
    }
   ],
   "source": [
    "df = pd.DataFrame([[1,      np.nan, 2],\n",
    "                   [2,      3,      5],\n",
    "                   [np.nan, 4,      6]])\n",
    "df"
   ]
  },
  {
   "cell_type": "markdown",
   "id": "83094f35",
   "metadata": {
    "id": "83094f35"
   },
   "source": [
    "Não podemos remover valores individuais de um `DataFrame`; só podemos remover linhas ou colunas inteiras.\n",
    "Dependendo da aplicação, você pode querer uma ou outra opção, então `dropna()` oferece várias opções para um `DataFrame`.\n",
    "\n",
    "Por padrão, `dropna()` removerá todas as linhas em que *qualquer* valor nulo esteja presente:\n"
   ]
  },
  {
   "cell_type": "code",
   "execution_count": 83,
   "id": "6a153da6",
   "metadata": {
    "id": "6a153da6"
   },
   "outputs": [
    {
     "data": {
      "text/html": [
       "<div>\n",
       "<style scoped>\n",
       "    .dataframe tbody tr th:only-of-type {\n",
       "        vertical-align: middle;\n",
       "    }\n",
       "\n",
       "    .dataframe tbody tr th {\n",
       "        vertical-align: top;\n",
       "    }\n",
       "\n",
       "    .dataframe thead th {\n",
       "        text-align: right;\n",
       "    }\n",
       "</style>\n",
       "<table border=\"1\" class=\"dataframe\">\n",
       "  <thead>\n",
       "    <tr style=\"text-align: right;\">\n",
       "      <th></th>\n",
       "      <th>0</th>\n",
       "      <th>1</th>\n",
       "      <th>2</th>\n",
       "    </tr>\n",
       "  </thead>\n",
       "  <tbody>\n",
       "    <tr>\n",
       "      <th>1</th>\n",
       "      <td>2.0</td>\n",
       "      <td>3.0</td>\n",
       "      <td>5</td>\n",
       "    </tr>\n",
       "  </tbody>\n",
       "</table>\n",
       "</div>"
      ],
      "text/plain": [
       "     0    1  2\n",
       "1  2.0  3.0  5"
      ]
     },
     "execution_count": 83,
     "metadata": {},
     "output_type": "execute_result"
    }
   ],
   "source": [
    "df.dropna()"
   ]
  },
  {
   "cell_type": "markdown",
   "id": "bfb2e244",
   "metadata": {
    "id": "bfb2e244"
   },
   "source": [
    "Alternativamente, você pode remover valores NA ao longo de um eixo diferente; `axis=1` remove todas as colunas que contêm um valor nulo:"
   ]
  },
  {
   "cell_type": "code",
   "execution_count": 84,
   "id": "7ee0669f",
   "metadata": {
    "id": "7ee0669f"
   },
   "outputs": [
    {
     "data": {
      "text/html": [
       "<div>\n",
       "<style scoped>\n",
       "    .dataframe tbody tr th:only-of-type {\n",
       "        vertical-align: middle;\n",
       "    }\n",
       "\n",
       "    .dataframe tbody tr th {\n",
       "        vertical-align: top;\n",
       "    }\n",
       "\n",
       "    .dataframe thead th {\n",
       "        text-align: right;\n",
       "    }\n",
       "</style>\n",
       "<table border=\"1\" class=\"dataframe\">\n",
       "  <thead>\n",
       "    <tr style=\"text-align: right;\">\n",
       "      <th></th>\n",
       "      <th>2</th>\n",
       "    </tr>\n",
       "  </thead>\n",
       "  <tbody>\n",
       "    <tr>\n",
       "      <th>0</th>\n",
       "      <td>2</td>\n",
       "    </tr>\n",
       "    <tr>\n",
       "      <th>1</th>\n",
       "      <td>5</td>\n",
       "    </tr>\n",
       "    <tr>\n",
       "      <th>2</th>\n",
       "      <td>6</td>\n",
       "    </tr>\n",
       "  </tbody>\n",
       "</table>\n",
       "</div>"
      ],
      "text/plain": [
       "   2\n",
       "0  2\n",
       "1  5\n",
       "2  6"
      ]
     },
     "execution_count": 84,
     "metadata": {},
     "output_type": "execute_result"
    }
   ],
   "source": [
    "df.dropna(axis='columns')"
   ]
  },
  {
   "cell_type": "markdown",
   "id": "2fdb97bd",
   "metadata": {
    "id": "2fdb97bd"
   },
   "source": [
    "Mas isso também remove alguns dados válidos; você pode estar mais interessado em remover linhas ou colunas com *todos* os valores NA ou a maioria deles.\n",
    "Isso pode ser especificado por meio dos parâmetros `how` ou `thresh`, que permitem um controle mais preciso do número de valores nulos permitidos.\n",
    "\n",
    "O padrão é `how='any'`, de modo que qualquer linha ou coluna (dependendo do parâmetro `axis`) contendo um valor nulo será removida.\n",
    "Você também pode especificar `how='all'`, o que removerá apenas linhas/colunas que contenham *todos* os valores nulos:\n"
   ]
  },
  {
   "cell_type": "code",
   "execution_count": 85,
   "id": "cd78aae7",
   "metadata": {
    "id": "cd78aae7"
   },
   "outputs": [
    {
     "data": {
      "text/html": [
       "<div>\n",
       "<style scoped>\n",
       "    .dataframe tbody tr th:only-of-type {\n",
       "        vertical-align: middle;\n",
       "    }\n",
       "\n",
       "    .dataframe tbody tr th {\n",
       "        vertical-align: top;\n",
       "    }\n",
       "\n",
       "    .dataframe thead th {\n",
       "        text-align: right;\n",
       "    }\n",
       "</style>\n",
       "<table border=\"1\" class=\"dataframe\">\n",
       "  <thead>\n",
       "    <tr style=\"text-align: right;\">\n",
       "      <th></th>\n",
       "      <th>0</th>\n",
       "      <th>1</th>\n",
       "      <th>2</th>\n",
       "      <th>3</th>\n",
       "    </tr>\n",
       "  </thead>\n",
       "  <tbody>\n",
       "    <tr>\n",
       "      <th>0</th>\n",
       "      <td>1.0</td>\n",
       "      <td>NaN</td>\n",
       "      <td>2</td>\n",
       "      <td>NaN</td>\n",
       "    </tr>\n",
       "    <tr>\n",
       "      <th>1</th>\n",
       "      <td>2.0</td>\n",
       "      <td>3.0</td>\n",
       "      <td>5</td>\n",
       "      <td>NaN</td>\n",
       "    </tr>\n",
       "    <tr>\n",
       "      <th>2</th>\n",
       "      <td>NaN</td>\n",
       "      <td>4.0</td>\n",
       "      <td>6</td>\n",
       "      <td>NaN</td>\n",
       "    </tr>\n",
       "  </tbody>\n",
       "</table>\n",
       "</div>"
      ],
      "text/plain": [
       "     0    1  2   3\n",
       "0  1.0  NaN  2 NaN\n",
       "1  2.0  3.0  5 NaN\n",
       "2  NaN  4.0  6 NaN"
      ]
     },
     "execution_count": 85,
     "metadata": {},
     "output_type": "execute_result"
    }
   ],
   "source": [
    "df[3] = np.nan\n",
    "df"
   ]
  },
  {
   "cell_type": "code",
   "execution_count": 86,
   "id": "8591fa53",
   "metadata": {
    "id": "8591fa53"
   },
   "outputs": [
    {
     "data": {
      "text/html": [
       "<div>\n",
       "<style scoped>\n",
       "    .dataframe tbody tr th:only-of-type {\n",
       "        vertical-align: middle;\n",
       "    }\n",
       "\n",
       "    .dataframe tbody tr th {\n",
       "        vertical-align: top;\n",
       "    }\n",
       "\n",
       "    .dataframe thead th {\n",
       "        text-align: right;\n",
       "    }\n",
       "</style>\n",
       "<table border=\"1\" class=\"dataframe\">\n",
       "  <thead>\n",
       "    <tr style=\"text-align: right;\">\n",
       "      <th></th>\n",
       "      <th>0</th>\n",
       "      <th>1</th>\n",
       "      <th>2</th>\n",
       "    </tr>\n",
       "  </thead>\n",
       "  <tbody>\n",
       "    <tr>\n",
       "      <th>0</th>\n",
       "      <td>1.0</td>\n",
       "      <td>NaN</td>\n",
       "      <td>2</td>\n",
       "    </tr>\n",
       "    <tr>\n",
       "      <th>1</th>\n",
       "      <td>2.0</td>\n",
       "      <td>3.0</td>\n",
       "      <td>5</td>\n",
       "    </tr>\n",
       "    <tr>\n",
       "      <th>2</th>\n",
       "      <td>NaN</td>\n",
       "      <td>4.0</td>\n",
       "      <td>6</td>\n",
       "    </tr>\n",
       "  </tbody>\n",
       "</table>\n",
       "</div>"
      ],
      "text/plain": [
       "     0    1  2\n",
       "0  1.0  NaN  2\n",
       "1  2.0  3.0  5\n",
       "2  NaN  4.0  6"
      ]
     },
     "execution_count": 86,
     "metadata": {},
     "output_type": "execute_result"
    }
   ],
   "source": [
    "df.dropna(axis='columns', how='all')"
   ]
  },
  {
   "cell_type": "markdown",
   "id": "3fefd72c",
   "metadata": {
    "id": "3fefd72c"
   },
   "source": [
    "Para um controle mais detalhado, o parâmetro `thresh` permite especificar um número mínimo de valores não nulos para que a linha/coluna seja mantida:\n"
   ]
  },
  {
   "cell_type": "code",
   "execution_count": 87,
   "id": "2ea6e8ae",
   "metadata": {
    "id": "2ea6e8ae"
   },
   "outputs": [
    {
     "data": {
      "text/html": [
       "<div>\n",
       "<style scoped>\n",
       "    .dataframe tbody tr th:only-of-type {\n",
       "        vertical-align: middle;\n",
       "    }\n",
       "\n",
       "    .dataframe tbody tr th {\n",
       "        vertical-align: top;\n",
       "    }\n",
       "\n",
       "    .dataframe thead th {\n",
       "        text-align: right;\n",
       "    }\n",
       "</style>\n",
       "<table border=\"1\" class=\"dataframe\">\n",
       "  <thead>\n",
       "    <tr style=\"text-align: right;\">\n",
       "      <th></th>\n",
       "      <th>0</th>\n",
       "      <th>1</th>\n",
       "      <th>2</th>\n",
       "      <th>3</th>\n",
       "    </tr>\n",
       "  </thead>\n",
       "  <tbody>\n",
       "    <tr>\n",
       "      <th>1</th>\n",
       "      <td>2.0</td>\n",
       "      <td>3.0</td>\n",
       "      <td>5</td>\n",
       "      <td>NaN</td>\n",
       "    </tr>\n",
       "  </tbody>\n",
       "</table>\n",
       "</div>"
      ],
      "text/plain": [
       "     0    1  2   3\n",
       "1  2.0  3.0  5 NaN"
      ]
     },
     "execution_count": 87,
     "metadata": {},
     "output_type": "execute_result"
    }
   ],
   "source": [
    "df.dropna(axis='rows', thresh=3)"
   ]
  },
  {
   "cell_type": "markdown",
   "id": "6e399ffb",
   "metadata": {
    "id": "6e399ffb"
   },
   "source": [
    "Aqui, a primeira e a última linha foram removidas, pois contêm apenas dois valores não nulos."
   ]
  },
  {
   "cell_type": "markdown",
   "id": "906379e4",
   "metadata": {
    "id": "906379e4"
   },
   "source": [
    "#### Preenchendo valores nulos\n",
    "\n",
    "Às vezes, em vez de remover valores NA, você prefere substituí-los por um valor válido.\n",
    "Esse valor pode ser um único número, como zero, ou algum tipo de imputação ou interpolação a partir dos valores válidos.\n",
    "Você poderia fazer isso diretamente usando o método `isnull()` como uma máscara, mas como essa é uma operação comum, o Pandas fornece o método `fillna()`, que retorna uma cópia do array com os valores nulos substituídos.\n",
    "\n",
    "Considere a seguinte `Series`:\n"
   ]
  },
  {
   "cell_type": "code",
   "execution_count": 88,
   "id": "078bf8eb",
   "metadata": {
    "id": "078bf8eb"
   },
   "outputs": [
    {
     "data": {
      "text/plain": [
       "a    1.0\n",
       "b    NaN\n",
       "c    2.0\n",
       "d    NaN\n",
       "e    3.0\n",
       "dtype: float64"
      ]
     },
     "execution_count": 88,
     "metadata": {},
     "output_type": "execute_result"
    }
   ],
   "source": [
    "data = pd.Series([1, np.nan, 2, None, 3], index=list('abcde'))\n",
    "data"
   ]
  },
  {
   "cell_type": "markdown",
   "id": "034e1ab9",
   "metadata": {
    "id": "034e1ab9"
   },
   "source": [
    "Podemos preencher entradas NA com um único valor, como zero:"
   ]
  },
  {
   "cell_type": "code",
   "execution_count": 89,
   "id": "3954d815",
   "metadata": {
    "id": "3954d815"
   },
   "outputs": [
    {
     "data": {
      "text/plain": [
       "a    1.0\n",
       "b    0.0\n",
       "c    2.0\n",
       "d    0.0\n",
       "e    3.0\n",
       "dtype: float64"
      ]
     },
     "execution_count": 89,
     "metadata": {},
     "output_type": "execute_result"
    }
   ],
   "source": [
    "data.fillna(0)"
   ]
  },
  {
   "cell_type": "markdown",
   "id": "211284fc",
   "metadata": {
    "id": "211284fc"
   },
   "source": [
    "Podemos especificar um preenchimento para frente (forward-fill) para propagar o valor anterior adiante:"
   ]
  },
  {
   "cell_type": "code",
   "execution_count": 90,
   "id": "e91f18aa",
   "metadata": {
    "id": "e91f18aa"
   },
   "outputs": [
    {
     "data": {
      "text/plain": [
       "a    1.0\n",
       "b    1.0\n",
       "c    2.0\n",
       "d    2.0\n",
       "e    3.0\n",
       "dtype: float64"
      ]
     },
     "execution_count": 90,
     "metadata": {},
     "output_type": "execute_result"
    }
   ],
   "source": [
    "# forward-fill\n",
    "data.fillna(method='ffill')"
   ]
  },
  {
   "cell_type": "markdown",
   "id": "15da0a23",
   "metadata": {
    "id": "15da0a23"
   },
   "source": [
    "Ou podemos especificar um preenchimento para trás (back-fill) para propagar os próximos valores para trás:"
   ]
  },
  {
   "cell_type": "code",
   "execution_count": 91,
   "id": "47eda75f",
   "metadata": {
    "id": "47eda75f"
   },
   "outputs": [
    {
     "data": {
      "text/plain": [
       "a    1.0\n",
       "b    2.0\n",
       "c    2.0\n",
       "d    3.0\n",
       "e    3.0\n",
       "dtype: float64"
      ]
     },
     "execution_count": 91,
     "metadata": {},
     "output_type": "execute_result"
    }
   ],
   "source": [
    "# back-fill\n",
    "data.fillna(method='bfill')"
   ]
  },
  {
   "cell_type": "markdown",
   "id": "68de4db1",
   "metadata": {
    "id": "68de4db1"
   },
   "source": [
    "Para `DataFrames`, as opções são semelhantes, mas também podemos especificar um `axis` ao longo do qual o preenchimento ocorrerá:"
   ]
  },
  {
   "cell_type": "code",
   "execution_count": 92,
   "id": "9f99d78d",
   "metadata": {
    "id": "9f99d78d"
   },
   "outputs": [
    {
     "data": {
      "text/html": [
       "<div>\n",
       "<style scoped>\n",
       "    .dataframe tbody tr th:only-of-type {\n",
       "        vertical-align: middle;\n",
       "    }\n",
       "\n",
       "    .dataframe tbody tr th {\n",
       "        vertical-align: top;\n",
       "    }\n",
       "\n",
       "    .dataframe thead th {\n",
       "        text-align: right;\n",
       "    }\n",
       "</style>\n",
       "<table border=\"1\" class=\"dataframe\">\n",
       "  <thead>\n",
       "    <tr style=\"text-align: right;\">\n",
       "      <th></th>\n",
       "      <th>0</th>\n",
       "      <th>1</th>\n",
       "      <th>2</th>\n",
       "      <th>3</th>\n",
       "    </tr>\n",
       "  </thead>\n",
       "  <tbody>\n",
       "    <tr>\n",
       "      <th>0</th>\n",
       "      <td>1.0</td>\n",
       "      <td>NaN</td>\n",
       "      <td>2</td>\n",
       "      <td>NaN</td>\n",
       "    </tr>\n",
       "    <tr>\n",
       "      <th>1</th>\n",
       "      <td>2.0</td>\n",
       "      <td>3.0</td>\n",
       "      <td>5</td>\n",
       "      <td>NaN</td>\n",
       "    </tr>\n",
       "    <tr>\n",
       "      <th>2</th>\n",
       "      <td>NaN</td>\n",
       "      <td>4.0</td>\n",
       "      <td>6</td>\n",
       "      <td>NaN</td>\n",
       "    </tr>\n",
       "  </tbody>\n",
       "</table>\n",
       "</div>"
      ],
      "text/plain": [
       "     0    1  2   3\n",
       "0  1.0  NaN  2 NaN\n",
       "1  2.0  3.0  5 NaN\n",
       "2  NaN  4.0  6 NaN"
      ]
     },
     "execution_count": 92,
     "metadata": {},
     "output_type": "execute_result"
    }
   ],
   "source": [
    "df"
   ]
  },
  {
   "cell_type": "code",
   "execution_count": 93,
   "id": "5a4f9f15",
   "metadata": {
    "id": "5a4f9f15"
   },
   "outputs": [
    {
     "data": {
      "text/html": [
       "<div>\n",
       "<style scoped>\n",
       "    .dataframe tbody tr th:only-of-type {\n",
       "        vertical-align: middle;\n",
       "    }\n",
       "\n",
       "    .dataframe tbody tr th {\n",
       "        vertical-align: top;\n",
       "    }\n",
       "\n",
       "    .dataframe thead th {\n",
       "        text-align: right;\n",
       "    }\n",
       "</style>\n",
       "<table border=\"1\" class=\"dataframe\">\n",
       "  <thead>\n",
       "    <tr style=\"text-align: right;\">\n",
       "      <th></th>\n",
       "      <th>0</th>\n",
       "      <th>1</th>\n",
       "      <th>2</th>\n",
       "      <th>3</th>\n",
       "    </tr>\n",
       "  </thead>\n",
       "  <tbody>\n",
       "    <tr>\n",
       "      <th>0</th>\n",
       "      <td>1.0</td>\n",
       "      <td>1.0</td>\n",
       "      <td>2.0</td>\n",
       "      <td>2.0</td>\n",
       "    </tr>\n",
       "    <tr>\n",
       "      <th>1</th>\n",
       "      <td>2.0</td>\n",
       "      <td>3.0</td>\n",
       "      <td>5.0</td>\n",
       "      <td>5.0</td>\n",
       "    </tr>\n",
       "    <tr>\n",
       "      <th>2</th>\n",
       "      <td>NaN</td>\n",
       "      <td>4.0</td>\n",
       "      <td>6.0</td>\n",
       "      <td>6.0</td>\n",
       "    </tr>\n",
       "  </tbody>\n",
       "</table>\n",
       "</div>"
      ],
      "text/plain": [
       "     0    1    2    3\n",
       "0  1.0  1.0  2.0  2.0\n",
       "1  2.0  3.0  5.0  5.0\n",
       "2  NaN  4.0  6.0  6.0"
      ]
     },
     "execution_count": 93,
     "metadata": {},
     "output_type": "execute_result"
    }
   ],
   "source": [
    "df.fillna(method='ffill', axis=1)"
   ]
  },
  {
   "cell_type": "markdown",
   "id": "446c517f",
   "metadata": {
    "id": "446c517f"
   },
   "source": [
    "### 4 Leitura em arquivo"
   ]
  },
  {
   "cell_type": "code",
   "execution_count": 97,
   "id": "0e5f9b44",
   "metadata": {
    "id": "0e5f9b44"
   },
   "outputs": [
    {
     "name": "stdout",
     "output_type": "stream",
     "text": [
      "      Name  Age         City\n",
      "0    Alice   24     New York\n",
      "1      Bob   27  Los Angeles\n",
      "2  Charlie   22      Chicago\n",
      "3    David   32      Houston\n",
      "-------------\n",
      "      Name  Age         City\n",
      "0    Alice   24     New York\n",
      "1      Bob   27  Los Angeles\n",
      "2  Charlie   22      Chicago\n",
      "3    David   32      Houston\n"
     ]
    }
   ],
   "source": [
    "import pandas as pd\n",
    "\n",
    "# Leitura do arquivo CSV\n",
    "df_csv = pd.read_csv('datasets/sample_data.csv')\n",
    "print(df_csv)\n",
    "\n",
    "\n",
    "print('-------------')\n",
    "\n",
    "# Leitura do arquivo Excel\n",
    "df_excel = pd.read_excel('datasets/sample_data.xlsx')\n",
    "print(df_excel)\n"
   ]
  },
  {
   "cell_type": "markdown",
   "id": "713388c9",
   "metadata": {
    "id": "713388c9"
   },
   "source": [
    "### 5. Escrita em arquivo"
   ]
  },
  {
   "cell_type": "code",
   "execution_count": 98,
   "id": "842d0273",
   "metadata": {
    "id": "842d0273"
   },
   "outputs": [
    {
     "name": "stdout",
     "output_type": "stream",
     "text": [
      "DataFrame do arquivo:\n",
      "      Name  Age         City\n",
      "0    Alice   24     New York\n",
      "1      Bob   27  Los Angeles\n",
      "2  Charlie   22      Chicago\n",
      "3    David   32      Houston\n",
      "\n",
      "DataFrame Filtrado (idade > 25):\n",
      "    Name  Age         City\n",
      "1    Bob   27  Los Angeles\n",
      "3  David   32      Houston\n",
      "\n",
      "DataFrame com Idades Modificadas:\n",
      "      Name  Age         City\n",
      "0    Alice   25     New York\n",
      "1      Bob   28  Los Angeles\n",
      "2  Charlie   23      Chicago\n",
      "3    David   33      Houston\n"
     ]
    }
   ],
   "source": [
    "\n",
    "df = pd.read_csv('datasets/sample_data.csv')  # Para CSV\n",
    "# df = pd.read_excel('caminho_do_arquivo.xlsx')  # Para Excel\n",
    "\n",
    "# Apresentar dataframe do arquivo\n",
    "print(\"DataFrame do arquivo:\")\n",
    "print(df)\n",
    "\n",
    "# selecionar os dados onde a idade é maior que 25\n",
    "filtered_df = df[df['Age'] > 25]\n",
    "print(\"\\nDataFrame Filtrado (idade > 25):\")\n",
    "print(filtered_df)\n",
    "\n",
    "# Modificar o DataFrame, por exemplo, adicionar 1 para a coluna age(idade)\n",
    "df['Age'] = df['Age'] + 1\n",
    "print(\"\\nDataFrame com Idades Modificadas:\")\n",
    "print(df)\n",
    "\n",
    "# Salvar o DataFrame modificado em um novo arquivo\n",
    "df.to_csv('datasets/nova_data_modificado.csv', index=False)\n",
    "#df.to_excel('novo_arquivo_modificado.xlsx', index=False)"
   ]
  }
 ],
 "metadata": {
  "colab": {
   "provenance": []
  },
  "kernelspec": {
   "display_name": "my_projects",
   "language": "python",
   "name": "python3"
  },
  "language_info": {
   "codemirror_mode": {
    "name": "ipython",
    "version": 3
   },
   "file_extension": ".py",
   "mimetype": "text/x-python",
   "name": "python",
   "nbconvert_exporter": "python",
   "pygments_lexer": "ipython3",
   "version": "3.9.16"
  }
 },
 "nbformat": 4,
 "nbformat_minor": 5
}
