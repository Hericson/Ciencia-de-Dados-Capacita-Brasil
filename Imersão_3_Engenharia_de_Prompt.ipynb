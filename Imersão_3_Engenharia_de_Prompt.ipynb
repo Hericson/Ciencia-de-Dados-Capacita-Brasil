{
  "cells": [
    {
      "cell_type": "markdown",
      "metadata": {
        "id": "x8XpJCqaCRAn"
      },
      "source": [
        "# **Atividade Prática: Engenharia de Prompt para Geração Automática de Resumos**\n",
        "\n",
        "**Objetivo:**  \n",
        "Avaliar como diferentes formulações de prompts influenciam na qualidade dos resumos gerados por modelos abertos.  \n",
        "\n"
      ]
    },
    {
      "cell_type": "markdown",
      "metadata": {
        "id": "xLZpYfdYCW2J"
      },
      "source": [
        "## **1. Instalação das Dependências**"
      ]
    },
    {
      "cell_type": "code",
      "execution_count": 35,
      "metadata": {
        "colab": {
          "base_uri": "https://localhost:8080/"
        },
        "id": "kI-fzSElCVq_",
        "outputId": "3dc4fec1-4379-4408-cbeb-670be0ebca36"
      },
      "outputs": [
        {
          "name": "stderr",
          "output_type": "stream",
          "text": [
            "huggingface/tokenizers: The current process just got forked, after parallelism has already been used. Disabling parallelism to avoid deadlocks...\n",
            "To disable this warning, you can either:\n",
            "\t- Avoid using `tokenizers` before the fork if possible\n",
            "\t- Explicitly set the environment variable TOKENIZERS_PARALLELISM=(true | false)\n"
          ]
        },
        {
          "name": "stdout",
          "output_type": "stream",
          "text": [
            "Requirement already satisfied: transformers in /home/hericson/anaconda3/envs/my_projects/lib/python3.9/site-packages (4.49.0)\n",
            "Requirement already satisfied: sentencepiece in /home/hericson/anaconda3/envs/my_projects/lib/python3.9/site-packages (0.2.0)\n",
            "Requirement already satisfied: rouge in /home/hericson/anaconda3/envs/my_projects/lib/python3.9/site-packages (1.0.1)\n",
            "Requirement already satisfied: nltk in /home/hericson/anaconda3/envs/my_projects/lib/python3.9/site-packages (3.9.1)\n",
            "Requirement already satisfied: filelock in /home/hericson/anaconda3/envs/my_projects/lib/python3.9/site-packages (from transformers) (3.16.1)\n",
            "Requirement already satisfied: tokenizers<0.22,>=0.21 in /home/hericson/anaconda3/envs/my_projects/lib/python3.9/site-packages (from transformers) (0.21.1)\n",
            "Requirement already satisfied: tqdm>=4.27 in /home/hericson/anaconda3/envs/my_projects/lib/python3.9/site-packages (from transformers) (4.65.0)\n",
            "Requirement already satisfied: safetensors>=0.4.1 in /home/hericson/anaconda3/envs/my_projects/lib/python3.9/site-packages (from transformers) (0.5.3)\n",
            "Requirement already satisfied: packaging>=20.0 in /home/hericson/anaconda3/envs/my_projects/lib/python3.9/site-packages (from transformers) (23.1)\n",
            "Requirement already satisfied: numpy>=1.17 in /home/hericson/anaconda3/envs/my_projects/lib/python3.9/site-packages (from transformers) (1.26.4)\n",
            "Requirement already satisfied: huggingface-hub<1.0,>=0.26.0 in /home/hericson/anaconda3/envs/my_projects/lib/python3.9/site-packages (from transformers) (0.29.3)\n",
            "Requirement already satisfied: requests in /home/hericson/anaconda3/envs/my_projects/lib/python3.9/site-packages (from transformers) (2.31.0)\n",
            "Requirement already satisfied: regex!=2019.12.17 in /home/hericson/anaconda3/envs/my_projects/lib/python3.9/site-packages (from transformers) (2024.11.6)\n",
            "Requirement already satisfied: pyyaml>=5.1 in /home/hericson/anaconda3/envs/my_projects/lib/python3.9/site-packages (from transformers) (6.0)\n",
            "Requirement already satisfied: six in /home/hericson/anaconda3/envs/my_projects/lib/python3.9/site-packages (from rouge) (1.16.0)\n",
            "Requirement already satisfied: joblib in /home/hericson/anaconda3/envs/my_projects/lib/python3.9/site-packages (from nltk) (1.2.0)\n",
            "Requirement already satisfied: click in /home/hericson/anaconda3/envs/my_projects/lib/python3.9/site-packages (from nltk) (8.1.3)\n",
            "Requirement already satisfied: typing-extensions>=3.7.4.3 in /home/hericson/anaconda3/envs/my_projects/lib/python3.9/site-packages (from huggingface-hub<1.0,>=0.26.0->transformers) (4.12.2)\n",
            "Requirement already satisfied: fsspec>=2023.5.0 in /home/hericson/anaconda3/envs/my_projects/lib/python3.9/site-packages (from huggingface-hub<1.0,>=0.26.0->transformers) (2024.10.0)\n",
            "Requirement already satisfied: charset-normalizer<4,>=2 in /home/hericson/anaconda3/envs/my_projects/lib/python3.9/site-packages (from requests->transformers) (3.1.0)\n",
            "Requirement already satisfied: urllib3<3,>=1.21.1 in /home/hericson/anaconda3/envs/my_projects/lib/python3.9/site-packages (from requests->transformers) (1.26.16)\n",
            "Requirement already satisfied: idna<4,>=2.5 in /home/hericson/anaconda3/envs/my_projects/lib/python3.9/site-packages (from requests->transformers) (3.4)\n",
            "Requirement already satisfied: certifi>=2017.4.17 in /home/hericson/anaconda3/envs/my_projects/lib/python3.9/site-packages (from requests->transformers) (2023.5.7)\n"
          ]
        }
      ],
      "source": [
        "!pip install transformers sentencepiece rouge nltk"
      ]
    },
    {
      "cell_type": "code",
      "execution_count": 36,
      "metadata": {
        "colab": {
          "base_uri": "https://localhost:8080/"
        },
        "id": "vlLteU5-CaBV",
        "outputId": "f7339620-08f4-4926-a5e8-b4ba891267d6"
      },
      "outputs": [
        {
          "name": "stderr",
          "output_type": "stream",
          "text": [
            "[nltk_data] Downloading package punkt to /home/hericson/nltk_data...\n",
            "[nltk_data]   Package punkt is already up-to-date!\n"
          ]
        },
        {
          "data": {
            "text/plain": [
              "True"
            ]
          },
          "execution_count": 36,
          "metadata": {},
          "output_type": "execute_result"
        }
      ],
      "source": [
        "import nltk\n",
        "from rouge import Rouge\n",
        "from transformers import pipeline\n",
        "from nltk.translate.bleu_score import sentence_bleu\n",
        "\n",
        "nltk.download('punkt')"
      ]
    },
    {
      "cell_type": "markdown",
      "metadata": {
        "id": "o5_0jqVlCezx"
      },
      "source": [
        "## **2. Preparação do Modelo Gratuito**\n",
        "\n",
        "Utilizaremos o **modelo BART** da Meta (Facebook):"
      ]
    },
    {
      "cell_type": "code",
      "execution_count": 37,
      "metadata": {
        "colab": {
          "base_uri": "https://localhost:8080/",
          "height": 358,
          "referenced_widgets": [
            "59e0e43a560e41438b3112dd078b5fb9",
            "354a78deb7364bea900c8889b1638c85",
            "7696f222ce36421b9b8146fceb92638f",
            "2ee36916a2c74cf48b9a803ba759ee2d",
            "f7ce904489404e42bb94cded4c01d1ba",
            "6eee81fc749e4cad8083ed465e90874c",
            "f9acbf044e564ac78708aa39b8a66960",
            "d11ae72a2cfa46848efb23c1c2e963a1",
            "8a6bfe9667bb4761a5d5f4c9bc13a668",
            "4efa7c6201684d69a75f6786312a372a",
            "9996a40a88c24669aec084a804d03fb4",
            "13dc34098e9d434f98981b513fe71d85",
            "ef024e1917b246c2b891835f4dd4926e",
            "9bd86386ed5c4282a220f22711df61b9",
            "e7bca594c73e4708ba018c4e8e2444a2",
            "f6898bc33c1e4243979555297e14b6c1",
            "4dbe3d524fb742a5be398034b60c85f5",
            "e4453c828e144ff08d33d324f816c3a7",
            "7aeb08f3105140aa9a4f817519538d76",
            "6e086163b74442529c9f51328dafc6aa",
            "576bbe98dd404e1ea04cd0d1043f0a20",
            "c814485b9cbe4dc59db40336e88aed7c",
            "5920329df44648c19f5cbae6204e2709",
            "c64b65b65ac745ae8de24abe4aa5e148",
            "dc53d44ce7564b2f8a96e9f10468bdc1",
            "0c0c158967094684bac239bcbe610b65",
            "1008049ed54b434da47349cafe588b78",
            "fa9916b67bc6403881a0ba2d478c38e0",
            "bc88b2b74f1c4f4db4de96cc8f1a6086",
            "65cfa863237e45379efe283111aff253",
            "d6927e4383634800adea0e645e267d1c",
            "ace82652f2574f048e9ce2be8307f190",
            "555e22febc94425baee64d1ee9e0c8a7",
            "dfa4f7c219d94c8491b8185cf74252a9",
            "96f4011cb7db41779bc4b7c5faf5f687",
            "ca26ff0962e14e9298eaa6fe4f3f731f",
            "9d73c90076964056aa46b7e8c4e5fd8f",
            "b4084ac70b2a433d903d44f422422bf2",
            "d80a91639236458d8df373a9790b457a",
            "98c348b59d0e4752b3b56c89e31dfc33",
            "11fe9d723df048398cf0859e765ab77b",
            "7d84a8c4aa0b47529f30f616754aa169",
            "e419af8f8a5f4431ac0e89a4a026cf83",
            "fead1fb166ed401b9d1917a0039ca44e",
            "8224b4a1788a47fea32d50e7c9b5fd31",
            "c539d51580f34bd5af1a9669339e0662",
            "d8c4572f11f341698659ef3c2ad098bc",
            "ee471f3f74fd4b38acbc5dcd45bd581e",
            "c47449b45fb94beca7da4498b3d4aeda",
            "2b3bfd3a685e40459a77bad7ee6561b8",
            "8d4ae3c721884694a3e8706ccdb01579",
            "ed440886b1be40d89bcc9a996ac62212",
            "25238e9ff51349119d0df648d44c2e5e",
            "3d09347dd6e6428b8703e13e305921fa",
            "35c6e2628bd14a979fdb6aa5f9b5bf52",
            "4dc1a239db0a45d288a2d25b85c22767",
            "8fbcca1df97b4bc39ccca9266c4d9608",
            "fb4c709b78d94ad684e081c54ed75ee6",
            "054f5eb9c11440169c6c30ba672c55f3",
            "f706f24098d34c428521bcce56004d7e",
            "4221579343e840bea7b578904e17cfa1",
            "12115b01b6e44b05a8bce32baddf6097",
            "4f1e4a9f69534630946a2ec6f92189bf",
            "903b4158ba084545a6c77e637bdb7b53",
            "e4725729c6a9494e9c9cefd7e9087e4a",
            "0eb52084dc4248f49499f8486a78a1a9"
          ]
        },
        "id": "oFEDDB-bCjzL",
        "outputId": "ec08ebcc-c7d4-4cdc-acab-ee77145b6929"
      },
      "outputs": [
        {
          "name": "stderr",
          "output_type": "stream",
          "text": [
            "Device set to use cpu\n"
          ]
        }
      ],
      "source": [
        "# Pipeline para sumarização automática\n",
        "summarizer = pipeline(\"summarization\", model=\"facebook/bart-large-cnn\")"
      ]
    },
    {
      "cell_type": "markdown",
      "metadata": {
        "id": "8jEcItkcCovQ"
      },
      "source": [
        "## **3. Texto a ser Resumido**"
      ]
    },
    {
      "cell_type": "code",
      "execution_count": 67,
      "metadata": {
        "id": "DrU2CvjsCsK0"
      },
      "outputs": [],
      "source": [
        "texto_original = \"\"\"\n",
        "Marte é o quarto planeta a partir do Sol, o segundo menor do Sistema Solar, atrás apenas de Mercúrio. Batizado em homenagem a divindade romana da guerra, muitas vezes é descrito como o \"Planeta Vermelho\", porque o óxido de ferro predominante em sua superfície lhe dá uma aparência avermelhada.Marte é um planeta rochoso com uma atmosfera fina, com características de superfície que lembram tanto as crateras de impacto da Lua quanto vulcões, vales, desertos e calotas polares da Terra.\n",
        "\"\"\""
      ]
    },
    {
      "cell_type": "markdown",
      "metadata": {
        "id": "tIXqEfrLC13P"
      },
      "source": [
        "## **4. Definição de Prompts Alternativos**\n",
        "\n",
        "Apesar do modelo open-source não usar prompt explícito igual GPT, podemos simular a influência do \"prompt\" adicionando instruções explícitas ao texto original.  \n",
        "\n"
      ]
    },
    {
      "cell_type": "markdown",
      "metadata": {
        "id": "Zv0im-O8DFvC"
      },
      "source": [
        "### Prompt 1 (Instrução direta no início):"
      ]
    },
    {
      "cell_type": "code",
      "execution_count": 68,
      "metadata": {
        "id": "LORclXorC4xd"
      },
      "outputs": [],
      "source": [
        "prompt1 = \"Resuma o texto de forma clara e objetiva: \" + texto_original"
      ]
    },
    {
      "cell_type": "markdown",
      "metadata": {
        "id": "sWchoXVTC96L"
      },
      "source": [
        "### Prompt 2 (Prompt detalhado e contextualizado):\n",
        "\n"
      ]
    },
    {
      "cell_type": "code",
      "execution_count": 69,
      "metadata": {
        "id": "4S4HHbd1C-QR"
      },
      "outputs": [],
      "source": [
        "prompt2 = \"Como especialista em resumos técnicos, produza um resumo curto e preciso contendo apenas as informações principais do seguinte texto: \" + texto_original"
      ]
    },
    {
      "cell_type": "markdown",
      "metadata": {
        "id": "Zmhehj3jDIY5"
      },
      "source": [
        "\n",
        "## **5. Geração dos Resumos com BART**\n"
      ]
    },
    {
      "cell_type": "code",
      "execution_count": 70,
      "metadata": {
        "colab": {
          "base_uri": "https://localhost:8080/"
        },
        "id": "3QdrzuQkDKyX",
        "outputId": "5f7ac973-3fd5-4278-e8c5-d55bd8a972d1"
      },
      "outputs": [
        {
          "name": "stdout",
          "output_type": "stream",
          "text": [
            "Resumo com Prompt 1:\n",
            " Marte é o quarto planeta a partir do Sol, o segundo menor do Sistema Solar. Batizado em homenagem a divindade romana da guerra, muitas vezes é descrito como o \"Planeta Vermelho\"\n",
            "\n",
            "Resumo com Prompt 2:\n",
            " Marte é o quarto planeta a partir do Sol, o segundo menor do Sistema Solar, atrás apenas de Mercúrio. Batizado em homenagem a divindade romana da guerra, muitas vezes é descrito como o \"Planeta Vermelho\"\n"
          ]
        }
      ],
      "source": [
        "def gerar_resumo(prompt):\n",
        "    resumo = summarizer(prompt, max_length=130, min_length=30, do_sample=False)\n",
        "    return resumo[0]['summary_text']\n",
        "\n",
        "resumo1 = gerar_resumo(prompt1)\n",
        "resumo2 = gerar_resumo(prompt2)\n",
        "\n",
        "print(\"Resumo com Prompt 1:\\n\", resumo1)\n",
        "print(\"\\nResumo com Prompt 2:\\n\", resumo2)"
      ]
    },
    {
      "cell_type": "markdown",
      "metadata": {
        "id": "v1mc42JXDOc1"
      },
      "source": [
        "## **6. Avaliação Quantitativa com Métricas ROUGE e BLEU**\n",
        "\n",
        "Insira um resumo de referência para comparação (criado por você):"
      ]
    },
    {
      "cell_type": "code",
      "execution_count": 71,
      "metadata": {
        "id": "chyMiU2VDUOW"
      },
      "outputs": [],
      "source": [
        "resumo_referencia = \"\"\"\n",
        "Marte é o quarto e segundo menor planeta do sistema solar. Foi batizado em homenagem a uma divindade romana da guerra. Sendo um planeta rochoso e com uma atmosfera fina, Marte apresenta características na sua superfície similares a da Lua e da Terra.\n",
        "\"\"\""
      ]
    },
    {
      "cell_type": "markdown",
      "metadata": {
        "id": "XLThnUkNDbux"
      },
      "source": [
        "**Cálculo das métricas:**"
      ]
    },
    {
      "cell_type": "code",
      "execution_count": 43,
      "metadata": {
        "colab": {
          "base_uri": "https://localhost:8080/"
        },
        "id": "oxyeE8rtM8h1",
        "outputId": "ab9123a6-5a52-4085-e5f6-1932019cab20"
      },
      "outputs": [
        {
          "name": "stderr",
          "output_type": "stream",
          "text": [
            "[nltk_data] Downloading package punkt_tab to\n",
            "[nltk_data]     /home/hericson/nltk_data...\n",
            "[nltk_data]   Package punkt_tab is already up-to-date!\n"
          ]
        },
        {
          "data": {
            "text/plain": [
              "True"
            ]
          },
          "execution_count": 43,
          "metadata": {},
          "output_type": "execute_result"
        }
      ],
      "source": [
        "nltk.download('punkt_tab')"
      ]
    },
    {
      "cell_type": "code",
      "execution_count": 72,
      "metadata": {
        "colab": {
          "base_uri": "https://localhost:8080/"
        },
        "id": "q4EM8KC3DePJ",
        "outputId": "d160029f-1715-469a-db6e-b27653462392"
      },
      "outputs": [
        {
          "name": "stdout",
          "output_type": "stream",
          "text": [
            "Resultados ROUGE - Prompt 1: {'rouge-1': {'r': 0.3888888888888889, 'p': 0.5384615384615384, 'f': 0.4516128983558793}, 'rouge-2': {'r': 0.18604651162790697, 'p': 0.26666666666666666, 'f': 0.21917807735034728}, 'rouge-l': {'r': 0.3611111111111111, 'p': 0.5, 'f': 0.41935483383975025}}\n",
            "\n",
            "Resultados ROUGE - Prompt 2: {'rouge-1': {'r': 0.3888888888888889, 'p': 0.4666666666666667, 'f': 0.42424241928374656}, 'rouge-2': {'r': 0.18604651162790697, 'p': 0.23529411764705882, 'f': 0.20779220286051622}, 'rouge-l': {'r': 0.3611111111111111, 'p': 0.43333333333333335, 'f': 0.39393938898071623}}\n",
            "\n",
            "BLEU Prompt 1: 0.208971500270483\n",
            "BLEU Prompt 2: 0.188789354888571\n"
          ]
        }
      ],
      "source": [
        "rouge = Rouge()\n",
        "\n",
        "# Métricas ROUGE\n",
        "scores_rouge1 = rouge.get_scores(resumo1, resumo_referencia)[0]\n",
        "scores_rouge2 = rouge.get_scores(resumo2, resumo_referencia)[0]\n",
        "\n",
        "print(\"Resultados ROUGE - Prompt 1:\", scores_rouge1)\n",
        "print(\"\\nResultados ROUGE - Prompt 2:\", scores_rouge2)\n",
        "\n",
        "# Métrica BLEU\n",
        "ref_tokens = [nltk.word_tokenize(resumo_referencia.lower())]\n",
        "\n",
        "bleu1 = sentence_bleu(ref_tokens, nltk.word_tokenize(resumo1.lower()))\n",
        "bleu2 = sentence_bleu(ref_tokens, nltk.word_tokenize(resumo2.lower()))\n",
        "\n",
        "print(\"\\nBLEU Prompt 1:\", bleu1)\n",
        "print(\"BLEU Prompt 2:\", bleu2)"
      ]
    },
    {
      "cell_type": "markdown",
      "metadata": {
        "id": "4M9ByMt-NwFk"
      },
      "source": [
        "### **Métricas que avaliam a semântica do texto e não somente N-grama, como as anteriores**"
      ]
    },
    {
      "cell_type": "code",
      "execution_count": 45,
      "metadata": {
        "id": "Ur4PD0PIN_9a"
      },
      "outputs": [
        {
          "name": "stderr",
          "output_type": "stream",
          "text": [
            "huggingface/tokenizers: The current process just got forked, after parallelism has already been used. Disabling parallelism to avoid deadlocks...\n",
            "To disable this warning, you can either:\n",
            "\t- Avoid using `tokenizers` before the fork if possible\n",
            "\t- Explicitly set the environment variable TOKENIZERS_PARALLELISM=(true | false)\n"
          ]
        },
        {
          "name": "stdout",
          "output_type": "stream",
          "text": [
            "Requirement already satisfied: sentence-transformers in /home/hericson/anaconda3/envs/my_projects/lib/python3.9/site-packages (3.4.1)\n",
            "Requirement already satisfied: huggingface-hub>=0.20.0 in /home/hericson/anaconda3/envs/my_projects/lib/python3.9/site-packages (from sentence-transformers) (0.29.3)\n",
            "Requirement already satisfied: scikit-learn in /home/hericson/anaconda3/envs/my_projects/lib/python3.9/site-packages (from sentence-transformers) (1.6.1)\n",
            "Requirement already satisfied: transformers<5.0.0,>=4.41.0 in /home/hericson/anaconda3/envs/my_projects/lib/python3.9/site-packages (from sentence-transformers) (4.49.0)\n",
            "Requirement already satisfied: torch>=1.11.0 in /home/hericson/anaconda3/envs/my_projects/lib/python3.9/site-packages (from sentence-transformers) (2.5.1)\n",
            "Requirement already satisfied: scipy in /home/hericson/anaconda3/envs/my_projects/lib/python3.9/site-packages (from sentence-transformers) (1.10.1)\n",
            "Requirement already satisfied: tqdm in /home/hericson/anaconda3/envs/my_projects/lib/python3.9/site-packages (from sentence-transformers) (4.65.0)\n",
            "Requirement already satisfied: Pillow in /home/hericson/anaconda3/envs/my_projects/lib/python3.9/site-packages (from sentence-transformers) (9.5.0)\n",
            "Requirement already satisfied: fsspec>=2023.5.0 in /home/hericson/anaconda3/envs/my_projects/lib/python3.9/site-packages (from huggingface-hub>=0.20.0->sentence-transformers) (2024.10.0)\n",
            "Requirement already satisfied: requests in /home/hericson/anaconda3/envs/my_projects/lib/python3.9/site-packages (from huggingface-hub>=0.20.0->sentence-transformers) (2.31.0)\n",
            "Requirement already satisfied: filelock in /home/hericson/anaconda3/envs/my_projects/lib/python3.9/site-packages (from huggingface-hub>=0.20.0->sentence-transformers) (3.16.1)\n",
            "Requirement already satisfied: packaging>=20.9 in /home/hericson/anaconda3/envs/my_projects/lib/python3.9/site-packages (from huggingface-hub>=0.20.0->sentence-transformers) (23.1)\n",
            "Requirement already satisfied: typing-extensions>=3.7.4.3 in /home/hericson/anaconda3/envs/my_projects/lib/python3.9/site-packages (from huggingface-hub>=0.20.0->sentence-transformers) (4.12.2)\n",
            "Requirement already satisfied: pyyaml>=5.1 in /home/hericson/anaconda3/envs/my_projects/lib/python3.9/site-packages (from huggingface-hub>=0.20.0->sentence-transformers) (6.0)\n",
            "Requirement already satisfied: nvidia-cuda-nvrtc-cu12==12.4.127 in /home/hericson/anaconda3/envs/my_projects/lib/python3.9/site-packages (from torch>=1.11.0->sentence-transformers) (12.4.127)\n",
            "Requirement already satisfied: nvidia-curand-cu12==10.3.5.147 in /home/hericson/anaconda3/envs/my_projects/lib/python3.9/site-packages (from torch>=1.11.0->sentence-transformers) (10.3.5.147)\n",
            "Requirement already satisfied: jinja2 in /home/hericson/anaconda3/envs/my_projects/lib/python3.9/site-packages (from torch>=1.11.0->sentence-transformers) (3.1.2)\n",
            "Requirement already satisfied: nvidia-nvtx-cu12==12.4.127 in /home/hericson/anaconda3/envs/my_projects/lib/python3.9/site-packages (from torch>=1.11.0->sentence-transformers) (12.4.127)\n",
            "Requirement already satisfied: nvidia-nvjitlink-cu12==12.4.127 in /home/hericson/anaconda3/envs/my_projects/lib/python3.9/site-packages (from torch>=1.11.0->sentence-transformers) (12.4.127)\n",
            "Requirement already satisfied: nvidia-nccl-cu12==2.21.5 in /home/hericson/anaconda3/envs/my_projects/lib/python3.9/site-packages (from torch>=1.11.0->sentence-transformers) (2.21.5)\n",
            "Requirement already satisfied: nvidia-cublas-cu12==12.4.5.8 in /home/hericson/anaconda3/envs/my_projects/lib/python3.9/site-packages (from torch>=1.11.0->sentence-transformers) (12.4.5.8)\n",
            "Requirement already satisfied: networkx in /home/hericson/anaconda3/envs/my_projects/lib/python3.9/site-packages (from torch>=1.11.0->sentence-transformers) (3.2.1)\n",
            "Requirement already satisfied: nvidia-cuda-cupti-cu12==12.4.127 in /home/hericson/anaconda3/envs/my_projects/lib/python3.9/site-packages (from torch>=1.11.0->sentence-transformers) (12.4.127)\n",
            "Requirement already satisfied: triton==3.1.0 in /home/hericson/anaconda3/envs/my_projects/lib/python3.9/site-packages (from torch>=1.11.0->sentence-transformers) (3.1.0)\n",
            "Requirement already satisfied: nvidia-cusolver-cu12==11.6.1.9 in /home/hericson/anaconda3/envs/my_projects/lib/python3.9/site-packages (from torch>=1.11.0->sentence-transformers) (11.6.1.9)\n",
            "Requirement already satisfied: nvidia-cufft-cu12==11.2.1.3 in /home/hericson/anaconda3/envs/my_projects/lib/python3.9/site-packages (from torch>=1.11.0->sentence-transformers) (11.2.1.3)\n",
            "Requirement already satisfied: nvidia-cuda-runtime-cu12==12.4.127 in /home/hericson/anaconda3/envs/my_projects/lib/python3.9/site-packages (from torch>=1.11.0->sentence-transformers) (12.4.127)\n",
            "Requirement already satisfied: sympy==1.13.1 in /home/hericson/anaconda3/envs/my_projects/lib/python3.9/site-packages (from torch>=1.11.0->sentence-transformers) (1.13.1)\n",
            "Requirement already satisfied: nvidia-cusparse-cu12==12.3.1.170 in /home/hericson/anaconda3/envs/my_projects/lib/python3.9/site-packages (from torch>=1.11.0->sentence-transformers) (12.3.1.170)\n",
            "Requirement already satisfied: nvidia-cudnn-cu12==9.1.0.70 in /home/hericson/anaconda3/envs/my_projects/lib/python3.9/site-packages (from torch>=1.11.0->sentence-transformers) (9.1.0.70)\n",
            "Requirement already satisfied: mpmath<1.4,>=1.1.0 in /home/hericson/anaconda3/envs/my_projects/lib/python3.9/site-packages (from sympy==1.13.1->torch>=1.11.0->sentence-transformers) (1.3.0)\n",
            "Requirement already satisfied: regex!=2019.12.17 in /home/hericson/anaconda3/envs/my_projects/lib/python3.9/site-packages (from transformers<5.0.0,>=4.41.0->sentence-transformers) (2024.11.6)\n",
            "Requirement already satisfied: tokenizers<0.22,>=0.21 in /home/hericson/anaconda3/envs/my_projects/lib/python3.9/site-packages (from transformers<5.0.0,>=4.41.0->sentence-transformers) (0.21.1)\n",
            "Requirement already satisfied: safetensors>=0.4.1 in /home/hericson/anaconda3/envs/my_projects/lib/python3.9/site-packages (from transformers<5.0.0,>=4.41.0->sentence-transformers) (0.5.3)\n",
            "Requirement already satisfied: numpy>=1.17 in /home/hericson/anaconda3/envs/my_projects/lib/python3.9/site-packages (from transformers<5.0.0,>=4.41.0->sentence-transformers) (1.26.4)\n",
            "Requirement already satisfied: threadpoolctl>=3.1.0 in /home/hericson/anaconda3/envs/my_projects/lib/python3.9/site-packages (from scikit-learn->sentence-transformers) (3.1.0)\n",
            "Requirement already satisfied: joblib>=1.2.0 in /home/hericson/anaconda3/envs/my_projects/lib/python3.9/site-packages (from scikit-learn->sentence-transformers) (1.2.0)\n",
            "Requirement already satisfied: MarkupSafe>=2.0 in /home/hericson/anaconda3/envs/my_projects/lib/python3.9/site-packages (from jinja2->torch>=1.11.0->sentence-transformers) (2.1.3)\n",
            "Requirement already satisfied: urllib3<3,>=1.21.1 in /home/hericson/anaconda3/envs/my_projects/lib/python3.9/site-packages (from requests->huggingface-hub>=0.20.0->sentence-transformers) (1.26.16)\n",
            "Requirement already satisfied: idna<4,>=2.5 in /home/hericson/anaconda3/envs/my_projects/lib/python3.9/site-packages (from requests->huggingface-hub>=0.20.0->sentence-transformers) (3.4)\n",
            "Requirement already satisfied: certifi>=2017.4.17 in /home/hericson/anaconda3/envs/my_projects/lib/python3.9/site-packages (from requests->huggingface-hub>=0.20.0->sentence-transformers) (2023.5.7)\n",
            "Requirement already satisfied: charset-normalizer<4,>=2 in /home/hericson/anaconda3/envs/my_projects/lib/python3.9/site-packages (from requests->huggingface-hub>=0.20.0->sentence-transformers) (3.1.0)\n"
          ]
        }
      ],
      "source": [
        "!pip install sentence-transformers"
      ]
    },
    {
      "cell_type": "code",
      "execution_count": 46,
      "metadata": {
        "id": "2NZpPqUoNu7I"
      },
      "outputs": [],
      "source": [
        "from sentence_transformers import SentenceTransformer, util\n",
        "import numpy as np\n",
        "\n",
        "modelo_embedding = \"sentence-transformers/all-MiniLM-L6-v2\"\n",
        "from sentence_transformers import SentenceTransformer\n",
        "model_embedding = SentenceTransformer(modelo_embedding)"
      ]
    },
    {
      "cell_type": "code",
      "execution_count": 75,
      "metadata": {
        "id": "Tfn1PYpON9cD"
      },
      "outputs": [],
      "source": [
        "def similaridade_cosine(texto_gerado, texto_referencia):\n",
        "    emb1 = model_embedding.encode(texto_gerado)\n",
        "    emb2 = model_embedding.encode(texto_referencia)\n",
        "    similaridade = np.dot(emb1, emb2) / (np.linalg.norm(emb1) * np.linalg.norm(emb2))\n",
        "    return similaridade"
      ]
    },
    {
      "cell_type": "code",
      "execution_count": 76,
      "metadata": {
        "id": "6CWZ-H9pOD8O"
      },
      "outputs": [
        {
          "name": "stdout",
          "output_type": "stream",
          "text": [
            "Similaridade Semântica (Prompt 1): 0.90742743\n",
            "Similaridade Semântica (Prompt 2): 0.89968586\n"
          ]
        }
      ],
      "source": [
        "similaridade_prompt1 = similaridade_cosine(resumo1, resumo_referencia)\n",
        "similaridade_prompt2 = similaridade_cosine(resumo2, resumo_referencia)\n",
        "\n",
        "print(\"Similaridade Semântica (Prompt 1):\", similaridade_prompt1)\n",
        "print(\"Similaridade Semântica (Prompt 2):\", similaridade_prompt2)"
      ]
    },
    {
      "cell_type": "markdown",
      "metadata": {
        "id": "Mm-36obvDjbk"
      },
      "source": [
        "## **7. Desafio Adicional: Avaliar com Métricas Complementares**"
      ]
    },
    {
      "cell_type": "markdown",
      "metadata": {
        "id": "aekFdZ9VDlwr"
      },
      "source": [
        "Exemplo simples: avaliar a concisão dos resumos (quantidade de palavras):"
      ]
    },
    {
      "cell_type": "code",
      "execution_count": 77,
      "metadata": {
        "colab": {
          "base_uri": "https://localhost:8080/"
        },
        "id": "UnZJpaS9Dnhl",
        "outputId": "b3b2e138-9f1c-4b5f-8f73-9fb0d0ae3f30"
      },
      "outputs": [
        {
          "name": "stdout",
          "output_type": "stream",
          "text": [
            "\n",
            "Palavras no Resumo 1: 36\n",
            "Palavras no Resumo 2: 41\n"
          ]
        }
      ],
      "source": [
        "def contar_palavras(texto):\n",
        "    return len(nltk.word_tokenize(texto))\n",
        "\n",
        "print(\"\\nPalavras no Resumo 1:\", contar_palavras(resumo1))\n",
        "print(\"Palavras no Resumo 2:\", contar_palavras(resumo2))"
      ]
    },
    {
      "cell_type": "markdown",
      "metadata": {
        "id": "HAPuSskxDuXZ"
      },
      "source": [
        "## **8. Comparação de Outros Modelos Gratuitos (Opcional)**"
      ]
    },
    {
      "cell_type": "markdown",
      "metadata": {
        "id": "JTaEVJOaDxQR"
      },
      "source": [
        "Você pode repetir os passos acima usando outros modelos abertos:\n",
        "\n",
        "Exemplos:\n",
        "\n",
        "- **google/pegasus-xsum**\n",
        "- **t5-base** (requer prompts específicos)"
      ]
    },
    {
      "cell_type": "code",
      "execution_count": 79,
      "metadata": {
        "colab": {
          "base_uri": "https://localhost:8080/",
          "height": 404,
          "referenced_widgets": [
            "bf8fdc2435404186a6dcc782349ad2da",
            "1518716761e047108c1a9de94303f5f5",
            "c8f305027bee489f8e882e035b91f792",
            "5517a46914574fea96c1499f8c0b5756",
            "e31f06154ae24a64a4e56c6837a9e3a7",
            "681cc37c67e643f09428fe494f4ef1b6",
            "021ad45402a24b18b5bf252865c2f98c",
            "278bfadbf0d84ab084a66c903fe379e1",
            "dd4efb19cead4d86a0051850b0a713af",
            "6f670bded1b74ed7982c7b15bb148e4d",
            "fad7d923dc984fc2ba98c10a2e4f1177",
            "a8bafc93406e4758b8eebe690c1f2dcf",
            "8b2d8f9c5a154959ac4aac3d0843d064",
            "fa651f6699d64d289fac9739bc1a4939",
            "ffc2f024b20045fc9c6f6172248789f8",
            "d6c8581bbde54a4f8ea101d7c152d7ec",
            "6e9ec358178748ab8f5db39109307914",
            "b050c9215c16443ea9372cf9a5a7bac2",
            "24829be352cd43c5b69c0ac5df91de08",
            "0c9f592a3aac4cacbc888671798cc828",
            "2fb4b1415cb64157825a2f675c016e17",
            "5838ef7f38164e6786834e80aa8a6d28",
            "bf50d83f23a249698bf3f0b0c89e8352",
            "fabe327b73404abf80d475d18ae46402",
            "74c4e918652245a2a7c91967ae5cf7ab",
            "d03de677cd6848b989c93db9e7ec2751",
            "1b6afb7c02f04c06afe084ec4d9aecaa",
            "97d4832361d449e08ea0778ca654a16c",
            "34d0496da017421cb6df6422440814f5",
            "08632ca0d05348eb8dd0e747d2d502c5",
            "acda796737614572b75e93cfaae4a6a2",
            "265dd543d9c3428298fcc384c003faaf",
            "b73d91ad9e8545fbba6751dab2492ad1",
            "1c57e19d3e7d409dba8026320a409c15",
            "c792934ec0ee425f87e6cb2515de6dcd",
            "66a44e9123384068987177df16a4c62a",
            "4d3c928efaf84007b717a5ed2943189d",
            "821795eb89ce49bea46329032bfbbc29",
            "ca126d88b64f40b4bded7b4b7b5f388e",
            "4376ce633aa14908843cff2aed4428e5",
            "6045818047d94814819101ea141a4ede",
            "ab60a741517447429f1bba3328718a87",
            "70b5f7e74b9c4b4697f1dde63cda48d9",
            "4b0784d8751e49d2ae9faa56e6626ad9",
            "b64faafe41064750acba5708e17056dc",
            "f3ba629cb3214a19854c2b3b8e6dd190",
            "cba5f3ebbbd74162a7fe3d9d1d549f71",
            "199982183d2c4b63874f9bebda8d1966",
            "4d20984f430043a0aabe8a4aff4a2236",
            "875352ae93db4811ac5b31800b0fd26e",
            "a8efe0294c4148d1980e41a234813cb2",
            "cf7a43b8ef0d42999710b0a39d97fd7e",
            "70721cf3b9bb4fb587b64527ad2ac250",
            "9c08b522c38a4f7f901506c823288b2c",
            "79f751a6a9094170bdf6726569e8a320",
            "94cd40d6926c4434800498dd1e2b7971",
            "07e058a8701e4a7e86f6839a6aa638e5",
            "73b4455b28c24e189c2cfeb1703654ff",
            "e797425df87547f8878ed801f900c927",
            "301e6960fb60448d87b82fb99bfedac0",
            "5a49b65d7887406b8d08144aa64fe279",
            "fac41ce7fe0c4af690feb0cc5884c70f",
            "d36959ff7c594defb0201410d89a57e1",
            "25c611fdac874ffaaaa1344858a66793",
            "c38b389a95db43b68c2326816e3ca78e",
            "c4cf219b254f4cb0804b16b1b64382cb",
            "716a2dd69d4941c1b8f104631eb2e0a1",
            "23e9bb0728284e759c3a2ad3c835b6dc",
            "b228e6ef93ec483aa7d2b3b32771b562",
            "5571a0baaa674ac29a259167076d52af",
            "2f51140da494436ea6c9ac3f8623b474",
            "9748a50718bd474da9647ac62f0c4d27",
            "7da0d3177b124de29b72cdfa57e4924b",
            "b9c579813dd145a283b8c65df6df43e4",
            "e70d8ac003e842c38471d92505be6485",
            "26d9b19b56524c90ba5e23bdb063ff24",
            "097482d229b24116b281c14a99670b77",
            "5e6c7c91b0ab4577b935b1b51bc103dc",
            "13832130900d432aa509a17239ca57eb",
            "f14c74a717364134b7309ac7c6ffda67",
            "6de4ba31d30e4175abbf5a628bddce27",
            "178e59a197804327b09bc499fd4abaff",
            "0e949936e1a54fe6b71bbdcd03f96881",
            "f51a709891f74093a716ab663396d951",
            "a2bf37bbb7c942c1b0a034b2d28ca845",
            "4de505c715d34874a4e4ee6f6478138a",
            "33ad4a9d144746eca5a0519db8eb1f50",
            "c780856b404943eea2877cbee27a24ca"
          ]
        },
        "id": "eEqI9SFlD28g",
        "outputId": "49bf43d8-d875-443d-971e-49349710c698"
      },
      "outputs": [
        {
          "name": "stderr",
          "output_type": "stream",
          "text": [
            "Some weights of PegasusForConditionalGeneration were not initialized from the model checkpoint at google/pegasus-xsum and are newly initialized: ['model.decoder.embed_positions.weight', 'model.encoder.embed_positions.weight']\n",
            "You should probably TRAIN this model on a down-stream task to be able to use it for predictions and inference.\n",
            "Device set to use cpu\n"
          ]
        },
        {
          "name": "stdout",
          "output_type": "stream",
          "text": [
            "Resumo com Pegasus:\n",
            " Marte é o quarto planeta a partir do Sol, o segundo menor do Sistema Solar. Batizado em homenagem a divindade romana da guerra, muitas vezes é descrito como o \"Planeta Vermelho\"\n"
          ]
        }
      ],
      "source": [
        "# Exemplo com outro modelo aberto:\n",
        "summarizer_pegasus = pipeline(\"summarization\", model=\"google/pegasus-xsum\")\n",
        "resumo_pegasus = summarizer(prompt1, max_length=150)[0]['summary_text']\n",
        "print(\"Resumo com Pegasus:\\n\", resumo_pegasus)"
      ]
    },
    {
      "cell_type": "code",
      "execution_count": 81,
      "metadata": {},
      "outputs": [
        {
          "data": {
            "text/plain": [
              "'Resuma o texto de forma clara e objetiva: \\nMarte é o quarto planeta a partir do Sol, o segundo menor do Sistema Solar, atrás apenas de Mercúrio. Batizado em homenagem a divindade romana da guerra, muitas vezes é descrito como o \"Planeta Vermelho\", porque o óxido de ferro predominante em sua superfície lhe dá uma aparência avermelhada.Marte é um planeta rochoso com uma atmosfera fina, com características de superfície que lembram tanto as crateras de impacto da Lua quanto vulcões, vales, desertos e calotas polares da Terra.\\n'"
            ]
          },
          "execution_count": 81,
          "metadata": {},
          "output_type": "execute_result"
        }
      ],
      "source": [
        "prompt1"
      ]
    },
    {
      "cell_type": "code",
      "execution_count": 80,
      "metadata": {},
      "outputs": [
        {
          "name": "stdout",
          "output_type": "stream",
          "text": [
            "Resumo com Pegasus:\n",
            " Marte é o quarto planeta a partir do Sol, o segundo menor do Sistema Solar, atrás apenas de Mercúrio. Batizado em homenagem a divindade romana da guerra, muitas vezes é descrito como o \"Planeta Vermelho\"\n"
          ]
        }
      ],
      "source": [
        "resumo_pegasus = summarizer(prompt2, max_length=150)[0]['summary_text']\n",
        "print(\"Resumo com Pegasus:\\n\", resumo_pegasus)"
      ]
    },
    {
      "cell_type": "markdown",
      "metadata": {
        "id": "cBB2TRIkD-Nd"
      },
      "source": [
        "Depois compare métricas (ROUGE e BLEU) com as obtidas anteriormente."
      ]
    },
    {
      "cell_type": "code",
      "execution_count": 82,
      "metadata": {},
      "outputs": [
        {
          "name": "stdout",
          "output_type": "stream",
          "text": [
            "Similaridade Semântica (pegasus) (Prompt 1): 0.89968586\n"
          ]
        }
      ],
      "source": [
        "similaridade_prompt1 = similaridade_cosine(resumo_pegasus, resumo_referencia)\n",
        "\n",
        "print(\"Similaridade Semântica (pegasus) (Prompt 1):\", similaridade_prompt1)"
      ]
    },
    {
      "cell_type": "markdown",
      "metadata": {
        "id": "nNfrgavHCG6B"
      },
      "source": [
        "---\n",
        "\n",
        "## **Conclusão da atividade**\n",
        "\n",
        "Ao final, analise e responda:\n",
        "\n",
        "- Qual prompt gerou o melhor resultado?\n",
        "- Houve influência significativa da estrutura do prompt no resultado?\n",
        "- Como os modelos avaliados se comparam?\n",
        "\n",
        "\n"
      ]
    },
    {
      "cell_type": "markdown",
      "metadata": {
        "id": "iSfFETr-LZ9_"
      },
      "source": [
        "# **Atividade Prática adicional: Engenharia de Prompt para geração automática de Relatórios Técnicos**\n",
        "\n",
        "**Objetivo:**  \n",
        "Avaliar como diferentes prompts influenciam a qualidade de relatórios técnicos gerados automaticamente por modelos gratuitos (como o BART), utilizando métricas quantitativas (ROUGE, BLEU) para comparação objetiva.  \n",
        "\n",
        "---\n",
        "\n",
        "## **1. Instalação das dependências**"
      ]
    },
    {
      "cell_type": "code",
      "execution_count": 51,
      "metadata": {
        "colab": {
          "base_uri": "https://localhost:8080/"
        },
        "id": "yXlU9gRNLeb_",
        "outputId": "8d8a003c-3008-46cb-d86f-a1986f12b89f"
      },
      "outputs": [
        {
          "name": "stderr",
          "output_type": "stream",
          "text": [
            "huggingface/tokenizers: The current process just got forked, after parallelism has already been used. Disabling parallelism to avoid deadlocks...\n",
            "To disable this warning, you can either:\n",
            "\t- Avoid using `tokenizers` before the fork if possible\n",
            "\t- Explicitly set the environment variable TOKENIZERS_PARALLELISM=(true | false)\n"
          ]
        },
        {
          "name": "stdout",
          "output_type": "stream",
          "text": [
            "Requirement already satisfied: transformers in /home/hericson/anaconda3/envs/my_projects/lib/python3.9/site-packages (4.49.0)\n",
            "Requirement already satisfied: rouge in /home/hericson/anaconda3/envs/my_projects/lib/python3.9/site-packages (1.0.1)\n",
            "Requirement already satisfied: nltk in /home/hericson/anaconda3/envs/my_projects/lib/python3.9/site-packages (3.9.1)\n",
            "Requirement already satisfied: requests in /home/hericson/anaconda3/envs/my_projects/lib/python3.9/site-packages (from transformers) (2.31.0)\n",
            "Requirement already satisfied: filelock in /home/hericson/anaconda3/envs/my_projects/lib/python3.9/site-packages (from transformers) (3.16.1)\n",
            "Requirement already satisfied: pyyaml>=5.1 in /home/hericson/anaconda3/envs/my_projects/lib/python3.9/site-packages (from transformers) (6.0)\n",
            "Requirement already satisfied: packaging>=20.0 in /home/hericson/anaconda3/envs/my_projects/lib/python3.9/site-packages (from transformers) (23.1)\n",
            "Requirement already satisfied: tokenizers<0.22,>=0.21 in /home/hericson/anaconda3/envs/my_projects/lib/python3.9/site-packages (from transformers) (0.21.1)\n",
            "Requirement already satisfied: tqdm>=4.27 in /home/hericson/anaconda3/envs/my_projects/lib/python3.9/site-packages (from transformers) (4.65.0)\n",
            "Requirement already satisfied: numpy>=1.17 in /home/hericson/anaconda3/envs/my_projects/lib/python3.9/site-packages (from transformers) (1.26.4)\n",
            "Requirement already satisfied: regex!=2019.12.17 in /home/hericson/anaconda3/envs/my_projects/lib/python3.9/site-packages (from transformers) (2024.11.6)\n",
            "Requirement already satisfied: huggingface-hub<1.0,>=0.26.0 in /home/hericson/anaconda3/envs/my_projects/lib/python3.9/site-packages (from transformers) (0.29.3)\n",
            "Requirement already satisfied: safetensors>=0.4.1 in /home/hericson/anaconda3/envs/my_projects/lib/python3.9/site-packages (from transformers) (0.5.3)\n",
            "Requirement already satisfied: six in /home/hericson/anaconda3/envs/my_projects/lib/python3.9/site-packages (from rouge) (1.16.0)\n",
            "Requirement already satisfied: click in /home/hericson/anaconda3/envs/my_projects/lib/python3.9/site-packages (from nltk) (8.1.3)\n",
            "Requirement already satisfied: joblib in /home/hericson/anaconda3/envs/my_projects/lib/python3.9/site-packages (from nltk) (1.2.0)\n",
            "Requirement already satisfied: fsspec>=2023.5.0 in /home/hericson/anaconda3/envs/my_projects/lib/python3.9/site-packages (from huggingface-hub<1.0,>=0.26.0->transformers) (2024.10.0)\n",
            "Requirement already satisfied: typing-extensions>=3.7.4.3 in /home/hericson/anaconda3/envs/my_projects/lib/python3.9/site-packages (from huggingface-hub<1.0,>=0.26.0->transformers) (4.12.2)\n",
            "Requirement already satisfied: urllib3<3,>=1.21.1 in /home/hericson/anaconda3/envs/my_projects/lib/python3.9/site-packages (from requests->transformers) (1.26.16)\n",
            "Requirement already satisfied: certifi>=2017.4.17 in /home/hericson/anaconda3/envs/my_projects/lib/python3.9/site-packages (from requests->transformers) (2023.5.7)\n",
            "Requirement already satisfied: charset-normalizer<4,>=2 in /home/hericson/anaconda3/envs/my_projects/lib/python3.9/site-packages (from requests->transformers) (3.1.0)\n",
            "Requirement already satisfied: idna<4,>=2.5 in /home/hericson/anaconda3/envs/my_projects/lib/python3.9/site-packages (from requests->transformers) (3.4)\n"
          ]
        },
        {
          "name": "stderr",
          "output_type": "stream",
          "text": [
            "[nltk_data] Downloading package punkt to /home/hericson/nltk_data...\n",
            "[nltk_data]   Package punkt is already up-to-date!\n"
          ]
        },
        {
          "data": {
            "text/plain": [
              "True"
            ]
          },
          "execution_count": 51,
          "metadata": {},
          "output_type": "execute_result"
        }
      ],
      "source": [
        "!pip install transformers rouge nltk\n",
        "\n",
        "import nltk\n",
        "from transformers import pipeline\n",
        "from rouge import Rouge\n",
        "from nltk.translate.bleu_score import sentence_bleu\n",
        "\n",
        "nltk.download('punkt')"
      ]
    },
    {
      "cell_type": "markdown",
      "metadata": {
        "id": "0WgzxTw0Lj0v"
      },
      "source": [
        "## **2. Carregar Modelo Gratuito (BART)**\n",
        "\n",
        "\n"
      ]
    },
    {
      "cell_type": "code",
      "execution_count": null,
      "metadata": {
        "id": "3H-gVjicLl-A"
      },
      "outputs": [
        {
          "name": "stderr",
          "output_type": "stream",
          "text": [
            "Device set to use cpu\n"
          ]
        }
      ],
      "source": [
        "generator = pipeline(\"text2text-generation\", model=\"facebook/bart-large-cnn\")"
      ]
    },
    {
      "cell_type": "markdown",
      "metadata": {
        "id": "C6T6UIhpLp4h"
      },
      "source": [
        "## **3. Texto-base para o relatório técnico**\n",
        "\n",
        "Insira aqui o texto base (fictício ou real) sobre o qual será gerado o relatório:"
      ]
    },
    {
      "cell_type": "code",
      "execution_count": 104,
      "metadata": {
        "id": "nie9cB_8LrZt"
      },
      "outputs": [],
      "source": [
        "texto_original = \"\"\"\n",
        "A órbita de Marte ao redor do Sol é extremamente elíptica. E porque a distância entre o Sol e Marte varia, a temperatura varia desde -125 graus Celsius no inverno Marciano até 22 graus Celsius no verão Marciano. A atmosfera Marciana é composta de mais de 95% de dióxido de carbono. Ventos solares dispersam a fina e fraca atmosfera porque Marte tem campos gravitacional e magnético muito fracos. Nos pólos Marcianos encontram-se capas de gelo polar que diminuem de tamanho durante a primavera e verão Marcianos. A partir de dados coletados pelas sondas Viking 1 e 2, sabemos que a superfície Marciana é coberta por muitas rochas e solo rico em uma argila carregada de ferro. A presença de ferro explica a aparência vermelha do planeta. Marte contém terras altas que ocorrem no hemisfério Sul e são compostas por material mais velho, endurecido, e com mais crateras. Marte também contém terras baixas que são encontradas no hemisfério Norte. \n",
        "\"\"\""
      ]
    },
    {
      "cell_type": "markdown",
      "metadata": {
        "id": "y4ryVpj2Lyw3"
      },
      "source": [
        "## **4. Desenvolvimento dos Prompts para Geração**"
      ]
    },
    {
      "cell_type": "markdown",
      "metadata": {
        "id": "HkqLhZc2L06R"
      },
      "source": [
        "**Prompt 1 (Direto e simples)**"
      ]
    },
    {
      "cell_type": "code",
      "execution_count": 105,
      "metadata": {
        "id": "zvtVW8AvLyZD"
      },
      "outputs": [],
      "source": [
        "prompt1 = f\"\"\"\n",
        "Gere um relatório técnico curto e objetivo baseado no texto abaixo:\n",
        "\n",
        "{texto_original}\n",
        "\n",
        "Relatório técnico:\n",
        "\"\"\"\n"
      ]
    },
    {
      "cell_type": "markdown",
      "metadata": {
        "id": "9XjIPIFhMC02"
      },
      "source": [
        "**Prompt 2 (Contextualizado e detalhado)**"
      ]
    },
    {
      "cell_type": "code",
      "execution_count": 106,
      "metadata": {
        "id": "foKKgLz_MFC-"
      },
      "outputs": [],
      "source": [
        "prompt2 = f\"\"\"\n",
        "Você é um engenheiro especialista responsável pela elaboração de relatórios técnicos precisos e detalhados, a partir do texto abaixo, escreva um breve relatório técnico destacando claramente objetivo, metodologia, principais resultados e conclusões:\n",
        "\n",
        "{texto_original}\n",
        "\n",
        "Relatório técnico:\n",
        "\"\"\""
      ]
    },
    {
      "cell_type": "code",
      "execution_count": 107,
      "metadata": {},
      "outputs": [
        {
          "data": {
            "text/plain": [
              "'\\nVocê é um engenheiro especialista responsável pela elaboração de relatórios técnicos precisos e detalhados, a partir do texto abaixo, escreva um breve relatório técnico destacando claramente objetivo, metodologia, principais resultados e conclusões:\\n\\n\\nA órbita de Marte ao redor do Sol é extremamente elíptica. E porque a distância entre o Sol e Marte varia, a temperatura varia desde -125 graus Celsius no inverno Marciano até 22 graus Celsius no verão Marciano. A atmosfera Marciana é composta de mais de 95% de dióxido de carbono. Ventos solares dispersam a fina e fraca atmosfera porque Marte tem campos gravitacional e magnético muito fracos. Nos pólos Marcianos encontram-se capas de gelo polar que diminuem de tamanho durante a primavera e verão Marcianos. A partir de dados coletados pelas sondas Viking 1 e 2, sabemos que a superfície Marciana é coberta por muitas rochas e solo rico em uma argila carregada de ferro. A presença de ferro explica a aparência vermelha do planeta. Marte contém terras altas que ocorrem no hemisfério Sul e são compostas por material mais velho, endurecido, e com mais crateras. Marte também contém terras baixas que são encontradas no hemisfério Norte. \\n\\n\\nRelatório técnico:\\n'"
            ]
          },
          "execution_count": 107,
          "metadata": {},
          "output_type": "execute_result"
        }
      ],
      "source": [
        "prompt2"
      ]
    },
    {
      "cell_type": "markdown",
      "metadata": {
        "id": "ujQzl-33MI5W"
      },
      "source": [
        "## **4. Gerar Relatórios Técnicos com os prompts**"
      ]
    },
    {
      "cell_type": "code",
      "execution_count": 117,
      "metadata": {
        "id": "8QJB9bSZMNUn"
      },
      "outputs": [
        {
          "name": "stdout",
          "output_type": "stream",
          "text": [
            "Relatório (Prompt 1):\n",
            " A atmosfera Marciana é composta de mais de 95% de dióxido de carbono. Ventos solares dispersam a fina e fraca atmosFERa porque Marte tem campos gravitacional e magnético fracos. Nos pólos Marcianos encontram-se capas de gelo polar that diminuem de tamanho durante a primavera e verão.\n",
            "\n",
            "Relatório (Prompt 2):\n",
            " Você é um engenheiro especialista responsável pela elaboração de relatórios técnicos. Escreva um breve relatório técnico destacando claramente objetivo, metodologia, principais resultados e conclusões: A órbita de Marte ao redor do Sol é extremamente elíptica.\n"
          ]
        }
      ],
      "source": [
        "def gerar_relatorio(prompt):\n",
        "    resultado = generator(prompt, max_length=250, do_sample=False)\n",
        "    return resultado[0]['generated_text']\n",
        "\n",
        "relatorio1 = gerar_relatorio(prompt1)\n",
        "relatorio2 = gerar_relatorio(prompt2)\n",
        "\n",
        "print(\"Relatório (Prompt 1):\\n\", relatorio1)\n",
        "print(\"\\nRelatório (Prompt 2):\\n\", relatorio2)\n"
      ]
    },
    {
      "cell_type": "markdown",
      "metadata": {
        "id": "8cKLscFrMPlR"
      },
      "source": [
        "\n",
        "## **4. Avaliação quantitativa dos resultados (ROUGE e BLEU)**"
      ]
    },
    {
      "cell_type": "markdown",
      "metadata": {
        "id": "pmlxCW8LMSHz"
      },
      "source": [
        "### **Defina primeiro um relatório técnico de referência (feito manualmente):**"
      ]
    },
    {
      "cell_type": "code",
      "execution_count": 109,
      "metadata": {
        "id": "KT4AeoBCMXLz"
      },
      "outputs": [],
      "source": [
        "relatorio_referencia = \"\"\"\n",
        "Este relatório técnico apresenta uma análise das características físicas e atmosféricas do planeta Marte, com base em dados coletados por diversas missões espaciais, incluindo as sondas Viking 1 e 2. O objetivo é fornecer uma visão geral das condições que moldam o ambiente marciano.\"\"\""
      ]
    },
    {
      "cell_type": "markdown",
      "metadata": {
        "id": "5kbiPKzbMUBZ"
      },
      "source": [
        "\n",
        "**Métricas:**\n"
      ]
    },
    {
      "cell_type": "code",
      "execution_count": 110,
      "metadata": {
        "id": "UIcXkpPHMdR9"
      },
      "outputs": [
        {
          "name": "stdout",
          "output_type": "stream",
          "text": [
            "ROUGE - Prompt 1: {'rouge-1': {'r': 0.04878048780487805, 'p': 0.05263157894736842, 'f': 0.050632906399615936}, 'rouge-2': {'r': 0.0, 'p': 0.0, 'f': 0.0}, 'rouge-l': {'r': 0.04878048780487805, 'p': 0.05263157894736842, 'f': 0.050632906399615936}}\n",
            "ROUGE - Prompt 2: {'rouge-1': {'r': 0.12195121951219512, 'p': 0.15625, 'f': 0.13698629644586244}, 'rouge-2': {'r': 0.023255813953488372, 'p': 0.029411764705882353, 'f': 0.025974021042335226}, 'rouge-l': {'r': 0.12195121951219512, 'p': 0.15625, 'f': 0.13698629644586244}}\n",
            "\n",
            "BLEU Prompt 1: 1.0\n",
            "BLEU Prompt 2: 1.0\n"
          ]
        }
      ],
      "source": [
        "from rouge import Rouge\n",
        "from nltk.tokenize import word_tokenize\n",
        "\n",
        "rouge = Rouge()\n",
        "\n",
        "# Avaliação com ROUGE\n",
        "rouge_relatorio1 = rouge.get_scores(relatorio1, relatorio_referencia)[0]\n",
        "rouge_relatorio2 = rouge.get_scores(relatorio2, relatorio_referencia)[0]\n",
        "\n",
        "print(\"ROUGE - Prompt 1:\", rouge_relatorio1)\n",
        "print(\"ROUGE - Prompt 2:\", rouge_relatorio2)\n",
        "\n",
        "# Avaliação com BLEU\n",
        "bleu_prompt1 = sentence_bleu([word_tokenize(relatorio1.lower())], word_tokenize(relatorio1.lower()))\n",
        "bleu_prompt2 = sentence_bleu([word_tokenize(relatorio2.lower())], word_tokenize(relatorio2.lower()))\n",
        "\n",
        "print(\"\\nBLEU Prompt 1:\", bleu_prompt1)\n",
        "print(\"BLEU Prompt 2:\", bleu_prompt2)"
      ]
    },
    {
      "cell_type": "markdown",
      "metadata": {
        "id": "zdDYs0mrOMzt"
      },
      "source": [
        "#### **Metricas semânticas**"
      ]
    },
    {
      "cell_type": "code",
      "execution_count": 111,
      "metadata": {
        "id": "ab0YuXkJOMHd"
      },
      "outputs": [],
      "source": [
        "from sentence_transformers import SentenceTransformer, util\n",
        "import numpy as np\n",
        "\n",
        "modelo_embedding = \"sentence-transformers/all-MiniLM-L6-v2\"\n",
        "from sentence_transformers import SentenceTransformer\n",
        "model_embedding = SentenceTransformer(modelo_embedding)"
      ]
    },
    {
      "cell_type": "code",
      "execution_count": null,
      "metadata": {
        "id": "rGqejk_IOYwL"
      },
      "outputs": [],
      "source": [
        "def similaridade_cosine(texto_gerado, texto_referencia):\n",
        "    emb1 = model_embedding.encode(texto_gerado)\n",
        "    emb2 = model_embedding.encode(texto_referencia)\n",
        "    similaridade = np.dot(emb1, emb2) / (np.linalg.norm(emb1) * np.linalg.norm(emb2))\n",
        "    return similaridade"
      ]
    },
    {
      "cell_type": "code",
      "execution_count": 113,
      "metadata": {
        "id": "YCT4mUvZOaul"
      },
      "outputs": [
        {
          "name": "stdout",
          "output_type": "stream",
          "text": [
            "Similaridade Semântica (Prompt 1): 0.4257745\n",
            "Similaridade Semântica (Prompt 2): 0.49457496\n"
          ]
        }
      ],
      "source": [
        "similaridade_prompt1 = similaridade_cosine(relatorio1, relatorio_referencia)\n",
        "similaridade_prompt2 = similaridade_cosine(relatorio2, relatorio_referencia)\n",
        "\n",
        "print(\"Similaridade Semântica (Prompt 1):\", similaridade_prompt1)\n",
        "print(\"Similaridade Semântica (Prompt 2):\", similaridade_prompt2)\n"
      ]
    },
    {
      "cell_type": "markdown",
      "metadata": {
        "id": "bN2yLGIGMjd5"
      },
      "source": [
        "## **4. Desafio adicional (opcional): outras métricas**\n",
        "\n",
        "Você pode utilizar métricas adicionais:\n",
        "\n",
        "- Avaliação da concisão (contagem de palavras)\n",
        "- Avaliação qualitativa subjetiva (clareza técnica)\n",
        "\n",
        "Exemplo: contagem simples de palavras:"
      ]
    },
    {
      "cell_type": "code",
      "execution_count": 116,
      "metadata": {
        "id": "pZAD_G5lMlrt"
      },
      "outputs": [
        {
          "name": "stdout",
          "output_type": "stream",
          "text": [
            "\n",
            "Número de palavras Relatório 1: 50\n",
            "Número de palavras Relatório 2: 40\n"
          ]
        }
      ],
      "source": [
        "def contar_palavras(texto):\n",
        "    return len(word_tokenize(texto))\n",
        "\n",
        "print(\"\\nNúmero de palavras Relatório 1:\", contar_palavras(relatorio1))\n",
        "print(\"Número de palavras Relatório 2:\", contar_palavras(relatorio2))\n"
      ]
    },
    {
      "cell_type": "markdown",
      "metadata": {
        "id": "lJbdElgZMpo6"
      },
      "source": [
        "## **5. Comparação de diferentes modelos (Opcional)**\n",
        "\n",
        "Você pode também comparar com modelos como T5 ou Pegasus para geração:"
      ]
    },
    {
      "cell_type": "code",
      "execution_count": 118,
      "metadata": {
        "id": "4OvTaG_6MrmT"
      },
      "outputs": [
        {
          "name": "stderr",
          "output_type": "stream",
          "text": [
            "Device set to use cpu\n"
          ]
        },
        {
          "name": "stdout",
          "output_type": "stream",
          "text": [
            "\n",
            "Relatório Técnico (T5):\n",
            " A atmosfera Marciana é composta de mais de 95% de dióxido de carbono. Ventos solares dispersam a fina e fraca atmosFERa porque Marte tem campos gravitacional e magnético fracos. Nos pólos Marcianos encontram-se capas de gelo polar that diminuem de tamanho durante a primavera e verão.\n"
          ]
        }
      ],
      "source": [
        "generator_t5 = pipeline(\"text2text-generation\", model=\"google/flan-t5-base\")\n",
        "\n",
        "# Exemplo com prompt1 usando T5\n",
        "relatorio_t5 = generator(prompt1, max_length=250, do_sample=False)[0]['generated_text']\n",
        "print(\"\\nRelatório Técnico (T5):\\n\", relatorio_t5)\n"
      ]
    },
    {
      "cell_type": "code",
      "execution_count": 119,
      "metadata": {},
      "outputs": [
        {
          "name": "stdout",
          "output_type": "stream",
          "text": [
            "Similaridade Semântica (Prompt 1): 1.0000001\n"
          ]
        }
      ],
      "source": [
        "similaridade_prompt1 = similaridade_cosine(relatorio1, relatorio_t5)\n",
        "\n",
        "print(\"Similaridade Semântica (Prompt 1):\", similaridade_prompt1)\n"
      ]
    },
    {
      "cell_type": "markdown",
      "metadata": {
        "id": "tu7DtiqhMucf"
      },
      "source": [
        "Faça nova avaliação (ROUGE e BLEU) para comparação quantitativa entre modelos."
      ]
    },
    {
      "cell_type": "markdown",
      "metadata": {
        "id": "c1mpsFqyLKLJ"
      },
      "source": [
        "\n",
        "## **Conclusão da atividade**\n",
        "\n",
        "Analise e responda:\n",
        "\n",
        "- Qual prompt apresentou melhor desempenho nas métricas usadas?\n",
        "- As métricas quantitativas foram suficientes para avaliar a qualidade técnica dos relatórios gerados?\n",
        "- Que tipo de prompt se mostrou mais eficaz na tarefa técnica?\n",
        "\n"
      ]
    }
  ],
  "metadata": {
    "colab": {
      "provenance": []
    },
    "kernelspec": {
      "display_name": "my_projects",
      "language": "python",
      "name": "python3"
    },
    "language_info": {
      "codemirror_mode": {
        "name": "ipython",
        "version": 3
      },
      "file_extension": ".py",
      "mimetype": "text/x-python",
      "name": "python",
      "nbconvert_exporter": "python",
      "pygments_lexer": "ipython3",
      "version": "3.9.16"
    },
    "widgets": {
      "application/vnd.jupyter.widget-state+json": {
        "021ad45402a24b18b5bf252865c2f98c": {
          "model_module": "@jupyter-widgets/controls",
          "model_module_version": "1.5.0",
          "model_name": "DescriptionStyleModel",
          "state": {
            "_model_module": "@jupyter-widgets/controls",
            "_model_module_version": "1.5.0",
            "_model_name": "DescriptionStyleModel",
            "_view_count": null,
            "_view_module": "@jupyter-widgets/base",
            "_view_module_version": "1.2.0",
            "_view_name": "StyleView",
            "description_width": ""
          }
        },
        "054f5eb9c11440169c6c30ba672c55f3": {
          "model_module": "@jupyter-widgets/controls",
          "model_module_version": "1.5.0",
          "model_name": "HTMLModel",
          "state": {
            "_dom_classes": [],
            "_model_module": "@jupyter-widgets/controls",
            "_model_module_version": "1.5.0",
            "_model_name": "HTMLModel",
            "_view_count": null,
            "_view_module": "@jupyter-widgets/controls",
            "_view_module_version": "1.5.0",
            "_view_name": "HTMLView",
            "description": "",
            "description_tooltip": null,
            "layout": "IPY_MODEL_e4725729c6a9494e9c9cefd7e9087e4a",
            "placeholder": "​",
            "style": "IPY_MODEL_0eb52084dc4248f49499f8486a78a1a9",
            "value": " 1.36M/1.36M [00:00&lt;00:00, 4.68MB/s]"
          }
        },
        "07e058a8701e4a7e86f6839a6aa638e5": {
          "model_module": "@jupyter-widgets/controls",
          "model_module_version": "1.5.0",
          "model_name": "HTMLModel",
          "state": {
            "_dom_classes": [],
            "_model_module": "@jupyter-widgets/controls",
            "_model_module_version": "1.5.0",
            "_model_name": "HTMLModel",
            "_view_count": null,
            "_view_module": "@jupyter-widgets/controls",
            "_view_module_version": "1.5.0",
            "_view_name": "HTMLView",
            "description": "",
            "description_tooltip": null,
            "layout": "IPY_MODEL_5a49b65d7887406b8d08144aa64fe279",
            "placeholder": "​",
            "style": "IPY_MODEL_fac41ce7fe0c4af690feb0cc5884c70f",
            "value": "spiece.model: 100%"
          }
        },
        "08632ca0d05348eb8dd0e747d2d502c5": {
          "model_module": "@jupyter-widgets/base",
          "model_module_version": "1.2.0",
          "model_name": "LayoutModel",
          "state": {
            "_model_module": "@jupyter-widgets/base",
            "_model_module_version": "1.2.0",
            "_model_name": "LayoutModel",
            "_view_count": null,
            "_view_module": "@jupyter-widgets/base",
            "_view_module_version": "1.2.0",
            "_view_name": "LayoutView",
            "align_content": null,
            "align_items": null,
            "align_self": null,
            "border": null,
            "bottom": null,
            "display": null,
            "flex": null,
            "flex_flow": null,
            "grid_area": null,
            "grid_auto_columns": null,
            "grid_auto_flow": null,
            "grid_auto_rows": null,
            "grid_column": null,
            "grid_gap": null,
            "grid_row": null,
            "grid_template_areas": null,
            "grid_template_columns": null,
            "grid_template_rows": null,
            "height": null,
            "justify_content": null,
            "justify_items": null,
            "left": null,
            "margin": null,
            "max_height": null,
            "max_width": null,
            "min_height": null,
            "min_width": null,
            "object_fit": null,
            "object_position": null,
            "order": null,
            "overflow": null,
            "overflow_x": null,
            "overflow_y": null,
            "padding": null,
            "right": null,
            "top": null,
            "visibility": null,
            "width": null
          }
        },
        "097482d229b24116b281c14a99670b77": {
          "model_module": "@jupyter-widgets/controls",
          "model_module_version": "1.5.0",
          "model_name": "DescriptionStyleModel",
          "state": {
            "_model_module": "@jupyter-widgets/controls",
            "_model_module_version": "1.5.0",
            "_model_name": "DescriptionStyleModel",
            "_view_count": null,
            "_view_module": "@jupyter-widgets/base",
            "_view_module_version": "1.2.0",
            "_view_name": "StyleView",
            "description_width": ""
          }
        },
        "0c0c158967094684bac239bcbe610b65": {
          "model_module": "@jupyter-widgets/controls",
          "model_module_version": "1.5.0",
          "model_name": "HTMLModel",
          "state": {
            "_dom_classes": [],
            "_model_module": "@jupyter-widgets/controls",
            "_model_module_version": "1.5.0",
            "_model_name": "HTMLModel",
            "_view_count": null,
            "_view_module": "@jupyter-widgets/controls",
            "_view_module_version": "1.5.0",
            "_view_name": "HTMLView",
            "description": "",
            "description_tooltip": null,
            "layout": "IPY_MODEL_ace82652f2574f048e9ce2be8307f190",
            "placeholder": "​",
            "style": "IPY_MODEL_555e22febc94425baee64d1ee9e0c8a7",
            "value": " 363/363 [00:00&lt;00:00, 28.5kB/s]"
          }
        },
        "0c9f592a3aac4cacbc888671798cc828": {
          "model_module": "@jupyter-widgets/controls",
          "model_module_version": "1.5.0",
          "model_name": "ProgressStyleModel",
          "state": {
            "_model_module": "@jupyter-widgets/controls",
            "_model_module_version": "1.5.0",
            "_model_name": "ProgressStyleModel",
            "_view_count": null,
            "_view_module": "@jupyter-widgets/base",
            "_view_module_version": "1.2.0",
            "_view_name": "StyleView",
            "bar_color": null,
            "description_width": ""
          }
        },
        "0e949936e1a54fe6b71bbdcd03f96881": {
          "model_module": "@jupyter-widgets/base",
          "model_module_version": "1.2.0",
          "model_name": "LayoutModel",
          "state": {
            "_model_module": "@jupyter-widgets/base",
            "_model_module_version": "1.2.0",
            "_model_name": "LayoutModel",
            "_view_count": null,
            "_view_module": "@jupyter-widgets/base",
            "_view_module_version": "1.2.0",
            "_view_name": "LayoutView",
            "align_content": null,
            "align_items": null,
            "align_self": null,
            "border": null,
            "bottom": null,
            "display": null,
            "flex": null,
            "flex_flow": null,
            "grid_area": null,
            "grid_auto_columns": null,
            "grid_auto_flow": null,
            "grid_auto_rows": null,
            "grid_column": null,
            "grid_gap": null,
            "grid_row": null,
            "grid_template_areas": null,
            "grid_template_columns": null,
            "grid_template_rows": null,
            "height": null,
            "justify_content": null,
            "justify_items": null,
            "left": null,
            "margin": null,
            "max_height": null,
            "max_width": null,
            "min_height": null,
            "min_width": null,
            "object_fit": null,
            "object_position": null,
            "order": null,
            "overflow": null,
            "overflow_x": null,
            "overflow_y": null,
            "padding": null,
            "right": null,
            "top": null,
            "visibility": null,
            "width": null
          }
        },
        "0eb52084dc4248f49499f8486a78a1a9": {
          "model_module": "@jupyter-widgets/controls",
          "model_module_version": "1.5.0",
          "model_name": "DescriptionStyleModel",
          "state": {
            "_model_module": "@jupyter-widgets/controls",
            "_model_module_version": "1.5.0",
            "_model_name": "DescriptionStyleModel",
            "_view_count": null,
            "_view_module": "@jupyter-widgets/base",
            "_view_module_version": "1.2.0",
            "_view_name": "StyleView",
            "description_width": ""
          }
        },
        "1008049ed54b434da47349cafe588b78": {
          "model_module": "@jupyter-widgets/base",
          "model_module_version": "1.2.0",
          "model_name": "LayoutModel",
          "state": {
            "_model_module": "@jupyter-widgets/base",
            "_model_module_version": "1.2.0",
            "_model_name": "LayoutModel",
            "_view_count": null,
            "_view_module": "@jupyter-widgets/base",
            "_view_module_version": "1.2.0",
            "_view_name": "LayoutView",
            "align_content": null,
            "align_items": null,
            "align_self": null,
            "border": null,
            "bottom": null,
            "display": null,
            "flex": null,
            "flex_flow": null,
            "grid_area": null,
            "grid_auto_columns": null,
            "grid_auto_flow": null,
            "grid_auto_rows": null,
            "grid_column": null,
            "grid_gap": null,
            "grid_row": null,
            "grid_template_areas": null,
            "grid_template_columns": null,
            "grid_template_rows": null,
            "height": null,
            "justify_content": null,
            "justify_items": null,
            "left": null,
            "margin": null,
            "max_height": null,
            "max_width": null,
            "min_height": null,
            "min_width": null,
            "object_fit": null,
            "object_position": null,
            "order": null,
            "overflow": null,
            "overflow_x": null,
            "overflow_y": null,
            "padding": null,
            "right": null,
            "top": null,
            "visibility": null,
            "width": null
          }
        },
        "11fe9d723df048398cf0859e765ab77b": {
          "model_module": "@jupyter-widgets/base",
          "model_module_version": "1.2.0",
          "model_name": "LayoutModel",
          "state": {
            "_model_module": "@jupyter-widgets/base",
            "_model_module_version": "1.2.0",
            "_model_name": "LayoutModel",
            "_view_count": null,
            "_view_module": "@jupyter-widgets/base",
            "_view_module_version": "1.2.0",
            "_view_name": "LayoutView",
            "align_content": null,
            "align_items": null,
            "align_self": null,
            "border": null,
            "bottom": null,
            "display": null,
            "flex": null,
            "flex_flow": null,
            "grid_area": null,
            "grid_auto_columns": null,
            "grid_auto_flow": null,
            "grid_auto_rows": null,
            "grid_column": null,
            "grid_gap": null,
            "grid_row": null,
            "grid_template_areas": null,
            "grid_template_columns": null,
            "grid_template_rows": null,
            "height": null,
            "justify_content": null,
            "justify_items": null,
            "left": null,
            "margin": null,
            "max_height": null,
            "max_width": null,
            "min_height": null,
            "min_width": null,
            "object_fit": null,
            "object_position": null,
            "order": null,
            "overflow": null,
            "overflow_x": null,
            "overflow_y": null,
            "padding": null,
            "right": null,
            "top": null,
            "visibility": null,
            "width": null
          }
        },
        "12115b01b6e44b05a8bce32baddf6097": {
          "model_module": "@jupyter-widgets/controls",
          "model_module_version": "1.5.0",
          "model_name": "DescriptionStyleModel",
          "state": {
            "_model_module": "@jupyter-widgets/controls",
            "_model_module_version": "1.5.0",
            "_model_name": "DescriptionStyleModel",
            "_view_count": null,
            "_view_module": "@jupyter-widgets/base",
            "_view_module_version": "1.2.0",
            "_view_name": "StyleView",
            "description_width": ""
          }
        },
        "13832130900d432aa509a17239ca57eb": {
          "model_module": "@jupyter-widgets/controls",
          "model_module_version": "1.5.0",
          "model_name": "HTMLModel",
          "state": {
            "_dom_classes": [],
            "_model_module": "@jupyter-widgets/controls",
            "_model_module_version": "1.5.0",
            "_model_name": "HTMLModel",
            "_view_count": null,
            "_view_module": "@jupyter-widgets/controls",
            "_view_module_version": "1.5.0",
            "_view_name": "HTMLView",
            "description": "",
            "description_tooltip": null,
            "layout": "IPY_MODEL_0e949936e1a54fe6b71bbdcd03f96881",
            "placeholder": "​",
            "style": "IPY_MODEL_f51a709891f74093a716ab663396d951",
            "value": "special_tokens_map.json: 100%"
          }
        },
        "13dc34098e9d434f98981b513fe71d85": {
          "model_module": "@jupyter-widgets/controls",
          "model_module_version": "1.5.0",
          "model_name": "HBoxModel",
          "state": {
            "_dom_classes": [],
            "_model_module": "@jupyter-widgets/controls",
            "_model_module_version": "1.5.0",
            "_model_name": "HBoxModel",
            "_view_count": null,
            "_view_module": "@jupyter-widgets/controls",
            "_view_module_version": "1.5.0",
            "_view_name": "HBoxView",
            "box_style": "",
            "children": [
              "IPY_MODEL_ef024e1917b246c2b891835f4dd4926e",
              "IPY_MODEL_9bd86386ed5c4282a220f22711df61b9",
              "IPY_MODEL_e7bca594c73e4708ba018c4e8e2444a2"
            ],
            "layout": "IPY_MODEL_f6898bc33c1e4243979555297e14b6c1"
          }
        },
        "1518716761e047108c1a9de94303f5f5": {
          "model_module": "@jupyter-widgets/controls",
          "model_module_version": "1.5.0",
          "model_name": "HTMLModel",
          "state": {
            "_dom_classes": [],
            "_model_module": "@jupyter-widgets/controls",
            "_model_module_version": "1.5.0",
            "_model_name": "HTMLModel",
            "_view_count": null,
            "_view_module": "@jupyter-widgets/controls",
            "_view_module_version": "1.5.0",
            "_view_name": "HTMLView",
            "description": "",
            "description_tooltip": null,
            "layout": "IPY_MODEL_681cc37c67e643f09428fe494f4ef1b6",
            "placeholder": "​",
            "style": "IPY_MODEL_021ad45402a24b18b5bf252865c2f98c",
            "value": "config.json: 100%"
          }
        },
        "178e59a197804327b09bc499fd4abaff": {
          "model_module": "@jupyter-widgets/base",
          "model_module_version": "1.2.0",
          "model_name": "LayoutModel",
          "state": {
            "_model_module": "@jupyter-widgets/base",
            "_model_module_version": "1.2.0",
            "_model_name": "LayoutModel",
            "_view_count": null,
            "_view_module": "@jupyter-widgets/base",
            "_view_module_version": "1.2.0",
            "_view_name": "LayoutView",
            "align_content": null,
            "align_items": null,
            "align_self": null,
            "border": null,
            "bottom": null,
            "display": null,
            "flex": null,
            "flex_flow": null,
            "grid_area": null,
            "grid_auto_columns": null,
            "grid_auto_flow": null,
            "grid_auto_rows": null,
            "grid_column": null,
            "grid_gap": null,
            "grid_row": null,
            "grid_template_areas": null,
            "grid_template_columns": null,
            "grid_template_rows": null,
            "height": null,
            "justify_content": null,
            "justify_items": null,
            "left": null,
            "margin": null,
            "max_height": null,
            "max_width": null,
            "min_height": null,
            "min_width": null,
            "object_fit": null,
            "object_position": null,
            "order": null,
            "overflow": null,
            "overflow_x": null,
            "overflow_y": null,
            "padding": null,
            "right": null,
            "top": null,
            "visibility": null,
            "width": null
          }
        },
        "199982183d2c4b63874f9bebda8d1966": {
          "model_module": "@jupyter-widgets/controls",
          "model_module_version": "1.5.0",
          "model_name": "HTMLModel",
          "state": {
            "_dom_classes": [],
            "_model_module": "@jupyter-widgets/controls",
            "_model_module_version": "1.5.0",
            "_model_name": "HTMLModel",
            "_view_count": null,
            "_view_module": "@jupyter-widgets/controls",
            "_view_module_version": "1.5.0",
            "_view_name": "HTMLView",
            "description": "",
            "description_tooltip": null,
            "layout": "IPY_MODEL_9c08b522c38a4f7f901506c823288b2c",
            "placeholder": "​",
            "style": "IPY_MODEL_79f751a6a9094170bdf6726569e8a320",
            "value": " 87.0/87.0 [00:00&lt;00:00, 1.63kB/s]"
          }
        },
        "1b6afb7c02f04c06afe084ec4d9aecaa": {
          "model_module": "@jupyter-widgets/base",
          "model_module_version": "1.2.0",
          "model_name": "LayoutModel",
          "state": {
            "_model_module": "@jupyter-widgets/base",
            "_model_module_version": "1.2.0",
            "_model_name": "LayoutModel",
            "_view_count": null,
            "_view_module": "@jupyter-widgets/base",
            "_view_module_version": "1.2.0",
            "_view_name": "LayoutView",
            "align_content": null,
            "align_items": null,
            "align_self": null,
            "border": null,
            "bottom": null,
            "display": null,
            "flex": null,
            "flex_flow": null,
            "grid_area": null,
            "grid_auto_columns": null,
            "grid_auto_flow": null,
            "grid_auto_rows": null,
            "grid_column": null,
            "grid_gap": null,
            "grid_row": null,
            "grid_template_areas": null,
            "grid_template_columns": null,
            "grid_template_rows": null,
            "height": null,
            "justify_content": null,
            "justify_items": null,
            "left": null,
            "margin": null,
            "max_height": null,
            "max_width": null,
            "min_height": null,
            "min_width": null,
            "object_fit": null,
            "object_position": null,
            "order": null,
            "overflow": null,
            "overflow_x": null,
            "overflow_y": null,
            "padding": null,
            "right": null,
            "top": null,
            "visibility": null,
            "width": null
          }
        },
        "1c57e19d3e7d409dba8026320a409c15": {
          "model_module": "@jupyter-widgets/controls",
          "model_module_version": "1.5.0",
          "model_name": "HBoxModel",
          "state": {
            "_dom_classes": [],
            "_model_module": "@jupyter-widgets/controls",
            "_model_module_version": "1.5.0",
            "_model_name": "HBoxModel",
            "_view_count": null,
            "_view_module": "@jupyter-widgets/controls",
            "_view_module_version": "1.5.0",
            "_view_name": "HBoxView",
            "box_style": "",
            "children": [
              "IPY_MODEL_c792934ec0ee425f87e6cb2515de6dcd",
              "IPY_MODEL_66a44e9123384068987177df16a4c62a",
              "IPY_MODEL_4d3c928efaf84007b717a5ed2943189d"
            ],
            "layout": "IPY_MODEL_821795eb89ce49bea46329032bfbbc29"
          }
        },
        "23e9bb0728284e759c3a2ad3c835b6dc": {
          "model_module": "@jupyter-widgets/controls",
          "model_module_version": "1.5.0",
          "model_name": "HTMLModel",
          "state": {
            "_dom_classes": [],
            "_model_module": "@jupyter-widgets/controls",
            "_model_module_version": "1.5.0",
            "_model_name": "HTMLModel",
            "_view_count": null,
            "_view_module": "@jupyter-widgets/controls",
            "_view_module_version": "1.5.0",
            "_view_name": "HTMLView",
            "description": "",
            "description_tooltip": null,
            "layout": "IPY_MODEL_9748a50718bd474da9647ac62f0c4d27",
            "placeholder": "​",
            "style": "IPY_MODEL_7da0d3177b124de29b72cdfa57e4924b",
            "value": "tokenizer.json: 100%"
          }
        },
        "24829be352cd43c5b69c0ac5df91de08": {
          "model_module": "@jupyter-widgets/base",
          "model_module_version": "1.2.0",
          "model_name": "LayoutModel",
          "state": {
            "_model_module": "@jupyter-widgets/base",
            "_model_module_version": "1.2.0",
            "_model_name": "LayoutModel",
            "_view_count": null,
            "_view_module": "@jupyter-widgets/base",
            "_view_module_version": "1.2.0",
            "_view_name": "LayoutView",
            "align_content": null,
            "align_items": null,
            "align_self": null,
            "border": null,
            "bottom": null,
            "display": null,
            "flex": null,
            "flex_flow": null,
            "grid_area": null,
            "grid_auto_columns": null,
            "grid_auto_flow": null,
            "grid_auto_rows": null,
            "grid_column": null,
            "grid_gap": null,
            "grid_row": null,
            "grid_template_areas": null,
            "grid_template_columns": null,
            "grid_template_rows": null,
            "height": null,
            "justify_content": null,
            "justify_items": null,
            "left": null,
            "margin": null,
            "max_height": null,
            "max_width": null,
            "min_height": null,
            "min_width": null,
            "object_fit": null,
            "object_position": null,
            "order": null,
            "overflow": null,
            "overflow_x": null,
            "overflow_y": null,
            "padding": null,
            "right": null,
            "top": null,
            "visibility": null,
            "width": null
          }
        },
        "25238e9ff51349119d0df648d44c2e5e": {
          "model_module": "@jupyter-widgets/controls",
          "model_module_version": "1.5.0",
          "model_name": "ProgressStyleModel",
          "state": {
            "_model_module": "@jupyter-widgets/controls",
            "_model_module_version": "1.5.0",
            "_model_name": "ProgressStyleModel",
            "_view_count": null,
            "_view_module": "@jupyter-widgets/base",
            "_view_module_version": "1.2.0",
            "_view_name": "StyleView",
            "bar_color": null,
            "description_width": ""
          }
        },
        "25c611fdac874ffaaaa1344858a66793": {
          "model_module": "@jupyter-widgets/controls",
          "model_module_version": "1.5.0",
          "model_name": "ProgressStyleModel",
          "state": {
            "_model_module": "@jupyter-widgets/controls",
            "_model_module_version": "1.5.0",
            "_model_name": "ProgressStyleModel",
            "_view_count": null,
            "_view_module": "@jupyter-widgets/base",
            "_view_module_version": "1.2.0",
            "_view_name": "StyleView",
            "bar_color": null,
            "description_width": ""
          }
        },
        "265dd543d9c3428298fcc384c003faaf": {
          "model_module": "@jupyter-widgets/base",
          "model_module_version": "1.2.0",
          "model_name": "LayoutModel",
          "state": {
            "_model_module": "@jupyter-widgets/base",
            "_model_module_version": "1.2.0",
            "_model_name": "LayoutModel",
            "_view_count": null,
            "_view_module": "@jupyter-widgets/base",
            "_view_module_version": "1.2.0",
            "_view_name": "LayoutView",
            "align_content": null,
            "align_items": null,
            "align_self": null,
            "border": null,
            "bottom": null,
            "display": null,
            "flex": null,
            "flex_flow": null,
            "grid_area": null,
            "grid_auto_columns": null,
            "grid_auto_flow": null,
            "grid_auto_rows": null,
            "grid_column": null,
            "grid_gap": null,
            "grid_row": null,
            "grid_template_areas": null,
            "grid_template_columns": null,
            "grid_template_rows": null,
            "height": null,
            "justify_content": null,
            "justify_items": null,
            "left": null,
            "margin": null,
            "max_height": null,
            "max_width": null,
            "min_height": null,
            "min_width": null,
            "object_fit": null,
            "object_position": null,
            "order": null,
            "overflow": null,
            "overflow_x": null,
            "overflow_y": null,
            "padding": null,
            "right": null,
            "top": null,
            "visibility": null,
            "width": null
          }
        },
        "26d9b19b56524c90ba5e23bdb063ff24": {
          "model_module": "@jupyter-widgets/base",
          "model_module_version": "1.2.0",
          "model_name": "LayoutModel",
          "state": {
            "_model_module": "@jupyter-widgets/base",
            "_model_module_version": "1.2.0",
            "_model_name": "LayoutModel",
            "_view_count": null,
            "_view_module": "@jupyter-widgets/base",
            "_view_module_version": "1.2.0",
            "_view_name": "LayoutView",
            "align_content": null,
            "align_items": null,
            "align_self": null,
            "border": null,
            "bottom": null,
            "display": null,
            "flex": null,
            "flex_flow": null,
            "grid_area": null,
            "grid_auto_columns": null,
            "grid_auto_flow": null,
            "grid_auto_rows": null,
            "grid_column": null,
            "grid_gap": null,
            "grid_row": null,
            "grid_template_areas": null,
            "grid_template_columns": null,
            "grid_template_rows": null,
            "height": null,
            "justify_content": null,
            "justify_items": null,
            "left": null,
            "margin": null,
            "max_height": null,
            "max_width": null,
            "min_height": null,
            "min_width": null,
            "object_fit": null,
            "object_position": null,
            "order": null,
            "overflow": null,
            "overflow_x": null,
            "overflow_y": null,
            "padding": null,
            "right": null,
            "top": null,
            "visibility": null,
            "width": null
          }
        },
        "278bfadbf0d84ab084a66c903fe379e1": {
          "model_module": "@jupyter-widgets/base",
          "model_module_version": "1.2.0",
          "model_name": "LayoutModel",
          "state": {
            "_model_module": "@jupyter-widgets/base",
            "_model_module_version": "1.2.0",
            "_model_name": "LayoutModel",
            "_view_count": null,
            "_view_module": "@jupyter-widgets/base",
            "_view_module_version": "1.2.0",
            "_view_name": "LayoutView",
            "align_content": null,
            "align_items": null,
            "align_self": null,
            "border": null,
            "bottom": null,
            "display": null,
            "flex": null,
            "flex_flow": null,
            "grid_area": null,
            "grid_auto_columns": null,
            "grid_auto_flow": null,
            "grid_auto_rows": null,
            "grid_column": null,
            "grid_gap": null,
            "grid_row": null,
            "grid_template_areas": null,
            "grid_template_columns": null,
            "grid_template_rows": null,
            "height": null,
            "justify_content": null,
            "justify_items": null,
            "left": null,
            "margin": null,
            "max_height": null,
            "max_width": null,
            "min_height": null,
            "min_width": null,
            "object_fit": null,
            "object_position": null,
            "order": null,
            "overflow": null,
            "overflow_x": null,
            "overflow_y": null,
            "padding": null,
            "right": null,
            "top": null,
            "visibility": null,
            "width": null
          }
        },
        "2b3bfd3a685e40459a77bad7ee6561b8": {
          "model_module": "@jupyter-widgets/base",
          "model_module_version": "1.2.0",
          "model_name": "LayoutModel",
          "state": {
            "_model_module": "@jupyter-widgets/base",
            "_model_module_version": "1.2.0",
            "_model_name": "LayoutModel",
            "_view_count": null,
            "_view_module": "@jupyter-widgets/base",
            "_view_module_version": "1.2.0",
            "_view_name": "LayoutView",
            "align_content": null,
            "align_items": null,
            "align_self": null,
            "border": null,
            "bottom": null,
            "display": null,
            "flex": null,
            "flex_flow": null,
            "grid_area": null,
            "grid_auto_columns": null,
            "grid_auto_flow": null,
            "grid_auto_rows": null,
            "grid_column": null,
            "grid_gap": null,
            "grid_row": null,
            "grid_template_areas": null,
            "grid_template_columns": null,
            "grid_template_rows": null,
            "height": null,
            "justify_content": null,
            "justify_items": null,
            "left": null,
            "margin": null,
            "max_height": null,
            "max_width": null,
            "min_height": null,
            "min_width": null,
            "object_fit": null,
            "object_position": null,
            "order": null,
            "overflow": null,
            "overflow_x": null,
            "overflow_y": null,
            "padding": null,
            "right": null,
            "top": null,
            "visibility": null,
            "width": null
          }
        },
        "2ee36916a2c74cf48b9a803ba759ee2d": {
          "model_module": "@jupyter-widgets/controls",
          "model_module_version": "1.5.0",
          "model_name": "HTMLModel",
          "state": {
            "_dom_classes": [],
            "_model_module": "@jupyter-widgets/controls",
            "_model_module_version": "1.5.0",
            "_model_name": "HTMLModel",
            "_view_count": null,
            "_view_module": "@jupyter-widgets/controls",
            "_view_module_version": "1.5.0",
            "_view_name": "HTMLView",
            "description": "",
            "description_tooltip": null,
            "layout": "IPY_MODEL_4efa7c6201684d69a75f6786312a372a",
            "placeholder": "​",
            "style": "IPY_MODEL_9996a40a88c24669aec084a804d03fb4",
            "value": " 1.58k/1.58k [00:00&lt;00:00, 94.8kB/s]"
          }
        },
        "2f51140da494436ea6c9ac3f8623b474": {
          "model_module": "@jupyter-widgets/base",
          "model_module_version": "1.2.0",
          "model_name": "LayoutModel",
          "state": {
            "_model_module": "@jupyter-widgets/base",
            "_model_module_version": "1.2.0",
            "_model_name": "LayoutModel",
            "_view_count": null,
            "_view_module": "@jupyter-widgets/base",
            "_view_module_version": "1.2.0",
            "_view_name": "LayoutView",
            "align_content": null,
            "align_items": null,
            "align_self": null,
            "border": null,
            "bottom": null,
            "display": null,
            "flex": null,
            "flex_flow": null,
            "grid_area": null,
            "grid_auto_columns": null,
            "grid_auto_flow": null,
            "grid_auto_rows": null,
            "grid_column": null,
            "grid_gap": null,
            "grid_row": null,
            "grid_template_areas": null,
            "grid_template_columns": null,
            "grid_template_rows": null,
            "height": null,
            "justify_content": null,
            "justify_items": null,
            "left": null,
            "margin": null,
            "max_height": null,
            "max_width": null,
            "min_height": null,
            "min_width": null,
            "object_fit": null,
            "object_position": null,
            "order": null,
            "overflow": null,
            "overflow_x": null,
            "overflow_y": null,
            "padding": null,
            "right": null,
            "top": null,
            "visibility": null,
            "width": null
          }
        },
        "2fb4b1415cb64157825a2f675c016e17": {
          "model_module": "@jupyter-widgets/base",
          "model_module_version": "1.2.0",
          "model_name": "LayoutModel",
          "state": {
            "_model_module": "@jupyter-widgets/base",
            "_model_module_version": "1.2.0",
            "_model_name": "LayoutModel",
            "_view_count": null,
            "_view_module": "@jupyter-widgets/base",
            "_view_module_version": "1.2.0",
            "_view_name": "LayoutView",
            "align_content": null,
            "align_items": null,
            "align_self": null,
            "border": null,
            "bottom": null,
            "display": null,
            "flex": null,
            "flex_flow": null,
            "grid_area": null,
            "grid_auto_columns": null,
            "grid_auto_flow": null,
            "grid_auto_rows": null,
            "grid_column": null,
            "grid_gap": null,
            "grid_row": null,
            "grid_template_areas": null,
            "grid_template_columns": null,
            "grid_template_rows": null,
            "height": null,
            "justify_content": null,
            "justify_items": null,
            "left": null,
            "margin": null,
            "max_height": null,
            "max_width": null,
            "min_height": null,
            "min_width": null,
            "object_fit": null,
            "object_position": null,
            "order": null,
            "overflow": null,
            "overflow_x": null,
            "overflow_y": null,
            "padding": null,
            "right": null,
            "top": null,
            "visibility": null,
            "width": null
          }
        },
        "301e6960fb60448d87b82fb99bfedac0": {
          "model_module": "@jupyter-widgets/base",
          "model_module_version": "1.2.0",
          "model_name": "LayoutModel",
          "state": {
            "_model_module": "@jupyter-widgets/base",
            "_model_module_version": "1.2.0",
            "_model_name": "LayoutModel",
            "_view_count": null,
            "_view_module": "@jupyter-widgets/base",
            "_view_module_version": "1.2.0",
            "_view_name": "LayoutView",
            "align_content": null,
            "align_items": null,
            "align_self": null,
            "border": null,
            "bottom": null,
            "display": null,
            "flex": null,
            "flex_flow": null,
            "grid_area": null,
            "grid_auto_columns": null,
            "grid_auto_flow": null,
            "grid_auto_rows": null,
            "grid_column": null,
            "grid_gap": null,
            "grid_row": null,
            "grid_template_areas": null,
            "grid_template_columns": null,
            "grid_template_rows": null,
            "height": null,
            "justify_content": null,
            "justify_items": null,
            "left": null,
            "margin": null,
            "max_height": null,
            "max_width": null,
            "min_height": null,
            "min_width": null,
            "object_fit": null,
            "object_position": null,
            "order": null,
            "overflow": null,
            "overflow_x": null,
            "overflow_y": null,
            "padding": null,
            "right": null,
            "top": null,
            "visibility": null,
            "width": null
          }
        },
        "33ad4a9d144746eca5a0519db8eb1f50": {
          "model_module": "@jupyter-widgets/base",
          "model_module_version": "1.2.0",
          "model_name": "LayoutModel",
          "state": {
            "_model_module": "@jupyter-widgets/base",
            "_model_module_version": "1.2.0",
            "_model_name": "LayoutModel",
            "_view_count": null,
            "_view_module": "@jupyter-widgets/base",
            "_view_module_version": "1.2.0",
            "_view_name": "LayoutView",
            "align_content": null,
            "align_items": null,
            "align_self": null,
            "border": null,
            "bottom": null,
            "display": null,
            "flex": null,
            "flex_flow": null,
            "grid_area": null,
            "grid_auto_columns": null,
            "grid_auto_flow": null,
            "grid_auto_rows": null,
            "grid_column": null,
            "grid_gap": null,
            "grid_row": null,
            "grid_template_areas": null,
            "grid_template_columns": null,
            "grid_template_rows": null,
            "height": null,
            "justify_content": null,
            "justify_items": null,
            "left": null,
            "margin": null,
            "max_height": null,
            "max_width": null,
            "min_height": null,
            "min_width": null,
            "object_fit": null,
            "object_position": null,
            "order": null,
            "overflow": null,
            "overflow_x": null,
            "overflow_y": null,
            "padding": null,
            "right": null,
            "top": null,
            "visibility": null,
            "width": null
          }
        },
        "34d0496da017421cb6df6422440814f5": {
          "model_module": "@jupyter-widgets/controls",
          "model_module_version": "1.5.0",
          "model_name": "DescriptionStyleModel",
          "state": {
            "_model_module": "@jupyter-widgets/controls",
            "_model_module_version": "1.5.0",
            "_model_name": "DescriptionStyleModel",
            "_view_count": null,
            "_view_module": "@jupyter-widgets/base",
            "_view_module_version": "1.2.0",
            "_view_name": "StyleView",
            "description_width": ""
          }
        },
        "354a78deb7364bea900c8889b1638c85": {
          "model_module": "@jupyter-widgets/controls",
          "model_module_version": "1.5.0",
          "model_name": "HTMLModel",
          "state": {
            "_dom_classes": [],
            "_model_module": "@jupyter-widgets/controls",
            "_model_module_version": "1.5.0",
            "_model_name": "HTMLModel",
            "_view_count": null,
            "_view_module": "@jupyter-widgets/controls",
            "_view_module_version": "1.5.0",
            "_view_name": "HTMLView",
            "description": "",
            "description_tooltip": null,
            "layout": "IPY_MODEL_6eee81fc749e4cad8083ed465e90874c",
            "placeholder": "​",
            "style": "IPY_MODEL_f9acbf044e564ac78708aa39b8a66960",
            "value": "config.json: 100%"
          }
        },
        "35c6e2628bd14a979fdb6aa5f9b5bf52": {
          "model_module": "@jupyter-widgets/controls",
          "model_module_version": "1.5.0",
          "model_name": "DescriptionStyleModel",
          "state": {
            "_model_module": "@jupyter-widgets/controls",
            "_model_module_version": "1.5.0",
            "_model_name": "DescriptionStyleModel",
            "_view_count": null,
            "_view_module": "@jupyter-widgets/base",
            "_view_module_version": "1.2.0",
            "_view_name": "StyleView",
            "description_width": ""
          }
        },
        "3d09347dd6e6428b8703e13e305921fa": {
          "model_module": "@jupyter-widgets/base",
          "model_module_version": "1.2.0",
          "model_name": "LayoutModel",
          "state": {
            "_model_module": "@jupyter-widgets/base",
            "_model_module_version": "1.2.0",
            "_model_name": "LayoutModel",
            "_view_count": null,
            "_view_module": "@jupyter-widgets/base",
            "_view_module_version": "1.2.0",
            "_view_name": "LayoutView",
            "align_content": null,
            "align_items": null,
            "align_self": null,
            "border": null,
            "bottom": null,
            "display": null,
            "flex": null,
            "flex_flow": null,
            "grid_area": null,
            "grid_auto_columns": null,
            "grid_auto_flow": null,
            "grid_auto_rows": null,
            "grid_column": null,
            "grid_gap": null,
            "grid_row": null,
            "grid_template_areas": null,
            "grid_template_columns": null,
            "grid_template_rows": null,
            "height": null,
            "justify_content": null,
            "justify_items": null,
            "left": null,
            "margin": null,
            "max_height": null,
            "max_width": null,
            "min_height": null,
            "min_width": null,
            "object_fit": null,
            "object_position": null,
            "order": null,
            "overflow": null,
            "overflow_x": null,
            "overflow_y": null,
            "padding": null,
            "right": null,
            "top": null,
            "visibility": null,
            "width": null
          }
        },
        "4221579343e840bea7b578904e17cfa1": {
          "model_module": "@jupyter-widgets/base",
          "model_module_version": "1.2.0",
          "model_name": "LayoutModel",
          "state": {
            "_model_module": "@jupyter-widgets/base",
            "_model_module_version": "1.2.0",
            "_model_name": "LayoutModel",
            "_view_count": null,
            "_view_module": "@jupyter-widgets/base",
            "_view_module_version": "1.2.0",
            "_view_name": "LayoutView",
            "align_content": null,
            "align_items": null,
            "align_self": null,
            "border": null,
            "bottom": null,
            "display": null,
            "flex": null,
            "flex_flow": null,
            "grid_area": null,
            "grid_auto_columns": null,
            "grid_auto_flow": null,
            "grid_auto_rows": null,
            "grid_column": null,
            "grid_gap": null,
            "grid_row": null,
            "grid_template_areas": null,
            "grid_template_columns": null,
            "grid_template_rows": null,
            "height": null,
            "justify_content": null,
            "justify_items": null,
            "left": null,
            "margin": null,
            "max_height": null,
            "max_width": null,
            "min_height": null,
            "min_width": null,
            "object_fit": null,
            "object_position": null,
            "order": null,
            "overflow": null,
            "overflow_x": null,
            "overflow_y": null,
            "padding": null,
            "right": null,
            "top": null,
            "visibility": null,
            "width": null
          }
        },
        "4376ce633aa14908843cff2aed4428e5": {
          "model_module": "@jupyter-widgets/controls",
          "model_module_version": "1.5.0",
          "model_name": "DescriptionStyleModel",
          "state": {
            "_model_module": "@jupyter-widgets/controls",
            "_model_module_version": "1.5.0",
            "_model_name": "DescriptionStyleModel",
            "_view_count": null,
            "_view_module": "@jupyter-widgets/base",
            "_view_module_version": "1.2.0",
            "_view_name": "StyleView",
            "description_width": ""
          }
        },
        "4b0784d8751e49d2ae9faa56e6626ad9": {
          "model_module": "@jupyter-widgets/controls",
          "model_module_version": "1.5.0",
          "model_name": "DescriptionStyleModel",
          "state": {
            "_model_module": "@jupyter-widgets/controls",
            "_model_module_version": "1.5.0",
            "_model_name": "DescriptionStyleModel",
            "_view_count": null,
            "_view_module": "@jupyter-widgets/base",
            "_view_module_version": "1.2.0",
            "_view_name": "StyleView",
            "description_width": ""
          }
        },
        "4d20984f430043a0aabe8a4aff4a2236": {
          "model_module": "@jupyter-widgets/base",
          "model_module_version": "1.2.0",
          "model_name": "LayoutModel",
          "state": {
            "_model_module": "@jupyter-widgets/base",
            "_model_module_version": "1.2.0",
            "_model_name": "LayoutModel",
            "_view_count": null,
            "_view_module": "@jupyter-widgets/base",
            "_view_module_version": "1.2.0",
            "_view_name": "LayoutView",
            "align_content": null,
            "align_items": null,
            "align_self": null,
            "border": null,
            "bottom": null,
            "display": null,
            "flex": null,
            "flex_flow": null,
            "grid_area": null,
            "grid_auto_columns": null,
            "grid_auto_flow": null,
            "grid_auto_rows": null,
            "grid_column": null,
            "grid_gap": null,
            "grid_row": null,
            "grid_template_areas": null,
            "grid_template_columns": null,
            "grid_template_rows": null,
            "height": null,
            "justify_content": null,
            "justify_items": null,
            "left": null,
            "margin": null,
            "max_height": null,
            "max_width": null,
            "min_height": null,
            "min_width": null,
            "object_fit": null,
            "object_position": null,
            "order": null,
            "overflow": null,
            "overflow_x": null,
            "overflow_y": null,
            "padding": null,
            "right": null,
            "top": null,
            "visibility": null,
            "width": null
          }
        },
        "4d3c928efaf84007b717a5ed2943189d": {
          "model_module": "@jupyter-widgets/controls",
          "model_module_version": "1.5.0",
          "model_name": "HTMLModel",
          "state": {
            "_dom_classes": [],
            "_model_module": "@jupyter-widgets/controls",
            "_model_module_version": "1.5.0",
            "_model_name": "HTMLModel",
            "_view_count": null,
            "_view_module": "@jupyter-widgets/controls",
            "_view_module_version": "1.5.0",
            "_view_name": "HTMLView",
            "description": "",
            "description_tooltip": null,
            "layout": "IPY_MODEL_70b5f7e74b9c4b4697f1dde63cda48d9",
            "placeholder": "​",
            "style": "IPY_MODEL_4b0784d8751e49d2ae9faa56e6626ad9",
            "value": " 259/259 [00:00&lt;00:00, 7.65kB/s]"
          }
        },
        "4dbe3d524fb742a5be398034b60c85f5": {
          "model_module": "@jupyter-widgets/base",
          "model_module_version": "1.2.0",
          "model_name": "LayoutModel",
          "state": {
            "_model_module": "@jupyter-widgets/base",
            "_model_module_version": "1.2.0",
            "_model_name": "LayoutModel",
            "_view_count": null,
            "_view_module": "@jupyter-widgets/base",
            "_view_module_version": "1.2.0",
            "_view_name": "LayoutView",
            "align_content": null,
            "align_items": null,
            "align_self": null,
            "border": null,
            "bottom": null,
            "display": null,
            "flex": null,
            "flex_flow": null,
            "grid_area": null,
            "grid_auto_columns": null,
            "grid_auto_flow": null,
            "grid_auto_rows": null,
            "grid_column": null,
            "grid_gap": null,
            "grid_row": null,
            "grid_template_areas": null,
            "grid_template_columns": null,
            "grid_template_rows": null,
            "height": null,
            "justify_content": null,
            "justify_items": null,
            "left": null,
            "margin": null,
            "max_height": null,
            "max_width": null,
            "min_height": null,
            "min_width": null,
            "object_fit": null,
            "object_position": null,
            "order": null,
            "overflow": null,
            "overflow_x": null,
            "overflow_y": null,
            "padding": null,
            "right": null,
            "top": null,
            "visibility": null,
            "width": null
          }
        },
        "4dc1a239db0a45d288a2d25b85c22767": {
          "model_module": "@jupyter-widgets/controls",
          "model_module_version": "1.5.0",
          "model_name": "HBoxModel",
          "state": {
            "_dom_classes": [],
            "_model_module": "@jupyter-widgets/controls",
            "_model_module_version": "1.5.0",
            "_model_name": "HBoxModel",
            "_view_count": null,
            "_view_module": "@jupyter-widgets/controls",
            "_view_module_version": "1.5.0",
            "_view_name": "HBoxView",
            "box_style": "",
            "children": [
              "IPY_MODEL_8fbcca1df97b4bc39ccca9266c4d9608",
              "IPY_MODEL_fb4c709b78d94ad684e081c54ed75ee6",
              "IPY_MODEL_054f5eb9c11440169c6c30ba672c55f3"
            ],
            "layout": "IPY_MODEL_f706f24098d34c428521bcce56004d7e"
          }
        },
        "4de505c715d34874a4e4ee6f6478138a": {
          "model_module": "@jupyter-widgets/controls",
          "model_module_version": "1.5.0",
          "model_name": "ProgressStyleModel",
          "state": {
            "_model_module": "@jupyter-widgets/controls",
            "_model_module_version": "1.5.0",
            "_model_name": "ProgressStyleModel",
            "_view_count": null,
            "_view_module": "@jupyter-widgets/base",
            "_view_module_version": "1.2.0",
            "_view_name": "StyleView",
            "bar_color": null,
            "description_width": ""
          }
        },
        "4efa7c6201684d69a75f6786312a372a": {
          "model_module": "@jupyter-widgets/base",
          "model_module_version": "1.2.0",
          "model_name": "LayoutModel",
          "state": {
            "_model_module": "@jupyter-widgets/base",
            "_model_module_version": "1.2.0",
            "_model_name": "LayoutModel",
            "_view_count": null,
            "_view_module": "@jupyter-widgets/base",
            "_view_module_version": "1.2.0",
            "_view_name": "LayoutView",
            "align_content": null,
            "align_items": null,
            "align_self": null,
            "border": null,
            "bottom": null,
            "display": null,
            "flex": null,
            "flex_flow": null,
            "grid_area": null,
            "grid_auto_columns": null,
            "grid_auto_flow": null,
            "grid_auto_rows": null,
            "grid_column": null,
            "grid_gap": null,
            "grid_row": null,
            "grid_template_areas": null,
            "grid_template_columns": null,
            "grid_template_rows": null,
            "height": null,
            "justify_content": null,
            "justify_items": null,
            "left": null,
            "margin": null,
            "max_height": null,
            "max_width": null,
            "min_height": null,
            "min_width": null,
            "object_fit": null,
            "object_position": null,
            "order": null,
            "overflow": null,
            "overflow_x": null,
            "overflow_y": null,
            "padding": null,
            "right": null,
            "top": null,
            "visibility": null,
            "width": null
          }
        },
        "4f1e4a9f69534630946a2ec6f92189bf": {
          "model_module": "@jupyter-widgets/base",
          "model_module_version": "1.2.0",
          "model_name": "LayoutModel",
          "state": {
            "_model_module": "@jupyter-widgets/base",
            "_model_module_version": "1.2.0",
            "_model_name": "LayoutModel",
            "_view_count": null,
            "_view_module": "@jupyter-widgets/base",
            "_view_module_version": "1.2.0",
            "_view_name": "LayoutView",
            "align_content": null,
            "align_items": null,
            "align_self": null,
            "border": null,
            "bottom": null,
            "display": null,
            "flex": null,
            "flex_flow": null,
            "grid_area": null,
            "grid_auto_columns": null,
            "grid_auto_flow": null,
            "grid_auto_rows": null,
            "grid_column": null,
            "grid_gap": null,
            "grid_row": null,
            "grid_template_areas": null,
            "grid_template_columns": null,
            "grid_template_rows": null,
            "height": null,
            "justify_content": null,
            "justify_items": null,
            "left": null,
            "margin": null,
            "max_height": null,
            "max_width": null,
            "min_height": null,
            "min_width": null,
            "object_fit": null,
            "object_position": null,
            "order": null,
            "overflow": null,
            "overflow_x": null,
            "overflow_y": null,
            "padding": null,
            "right": null,
            "top": null,
            "visibility": null,
            "width": null
          }
        },
        "5517a46914574fea96c1499f8c0b5756": {
          "model_module": "@jupyter-widgets/controls",
          "model_module_version": "1.5.0",
          "model_name": "HTMLModel",
          "state": {
            "_dom_classes": [],
            "_model_module": "@jupyter-widgets/controls",
            "_model_module_version": "1.5.0",
            "_model_name": "HTMLModel",
            "_view_count": null,
            "_view_module": "@jupyter-widgets/controls",
            "_view_module_version": "1.5.0",
            "_view_name": "HTMLView",
            "description": "",
            "description_tooltip": null,
            "layout": "IPY_MODEL_6f670bded1b74ed7982c7b15bb148e4d",
            "placeholder": "​",
            "style": "IPY_MODEL_fad7d923dc984fc2ba98c10a2e4f1177",
            "value": " 1.39k/1.39k [00:00&lt;00:00, 67.7kB/s]"
          }
        },
        "555e22febc94425baee64d1ee9e0c8a7": {
          "model_module": "@jupyter-widgets/controls",
          "model_module_version": "1.5.0",
          "model_name": "DescriptionStyleModel",
          "state": {
            "_model_module": "@jupyter-widgets/controls",
            "_model_module_version": "1.5.0",
            "_model_name": "DescriptionStyleModel",
            "_view_count": null,
            "_view_module": "@jupyter-widgets/base",
            "_view_module_version": "1.2.0",
            "_view_name": "StyleView",
            "description_width": ""
          }
        },
        "5571a0baaa674ac29a259167076d52af": {
          "model_module": "@jupyter-widgets/controls",
          "model_module_version": "1.5.0",
          "model_name": "HTMLModel",
          "state": {
            "_dom_classes": [],
            "_model_module": "@jupyter-widgets/controls",
            "_model_module_version": "1.5.0",
            "_model_name": "HTMLModel",
            "_view_count": null,
            "_view_module": "@jupyter-widgets/controls",
            "_view_module_version": "1.5.0",
            "_view_name": "HTMLView",
            "description": "",
            "description_tooltip": null,
            "layout": "IPY_MODEL_26d9b19b56524c90ba5e23bdb063ff24",
            "placeholder": "​",
            "style": "IPY_MODEL_097482d229b24116b281c14a99670b77",
            "value": " 3.52M/3.52M [00:00&lt;00:00, 45.8MB/s]"
          }
        },
        "576bbe98dd404e1ea04cd0d1043f0a20": {
          "model_module": "@jupyter-widgets/base",
          "model_module_version": "1.2.0",
          "model_name": "LayoutModel",
          "state": {
            "_model_module": "@jupyter-widgets/base",
            "_model_module_version": "1.2.0",
            "_model_name": "LayoutModel",
            "_view_count": null,
            "_view_module": "@jupyter-widgets/base",
            "_view_module_version": "1.2.0",
            "_view_name": "LayoutView",
            "align_content": null,
            "align_items": null,
            "align_self": null,
            "border": null,
            "bottom": null,
            "display": null,
            "flex": null,
            "flex_flow": null,
            "grid_area": null,
            "grid_auto_columns": null,
            "grid_auto_flow": null,
            "grid_auto_rows": null,
            "grid_column": null,
            "grid_gap": null,
            "grid_row": null,
            "grid_template_areas": null,
            "grid_template_columns": null,
            "grid_template_rows": null,
            "height": null,
            "justify_content": null,
            "justify_items": null,
            "left": null,
            "margin": null,
            "max_height": null,
            "max_width": null,
            "min_height": null,
            "min_width": null,
            "object_fit": null,
            "object_position": null,
            "order": null,
            "overflow": null,
            "overflow_x": null,
            "overflow_y": null,
            "padding": null,
            "right": null,
            "top": null,
            "visibility": null,
            "width": null
          }
        },
        "5838ef7f38164e6786834e80aa8a6d28": {
          "model_module": "@jupyter-widgets/controls",
          "model_module_version": "1.5.0",
          "model_name": "DescriptionStyleModel",
          "state": {
            "_model_module": "@jupyter-widgets/controls",
            "_model_module_version": "1.5.0",
            "_model_name": "DescriptionStyleModel",
            "_view_count": null,
            "_view_module": "@jupyter-widgets/base",
            "_view_module_version": "1.2.0",
            "_view_name": "StyleView",
            "description_width": ""
          }
        },
        "5920329df44648c19f5cbae6204e2709": {
          "model_module": "@jupyter-widgets/controls",
          "model_module_version": "1.5.0",
          "model_name": "HBoxModel",
          "state": {
            "_dom_classes": [],
            "_model_module": "@jupyter-widgets/controls",
            "_model_module_version": "1.5.0",
            "_model_name": "HBoxModel",
            "_view_count": null,
            "_view_module": "@jupyter-widgets/controls",
            "_view_module_version": "1.5.0",
            "_view_name": "HBoxView",
            "box_style": "",
            "children": [
              "IPY_MODEL_c64b65b65ac745ae8de24abe4aa5e148",
              "IPY_MODEL_dc53d44ce7564b2f8a96e9f10468bdc1",
              "IPY_MODEL_0c0c158967094684bac239bcbe610b65"
            ],
            "layout": "IPY_MODEL_1008049ed54b434da47349cafe588b78"
          }
        },
        "59e0e43a560e41438b3112dd078b5fb9": {
          "model_module": "@jupyter-widgets/controls",
          "model_module_version": "1.5.0",
          "model_name": "HBoxModel",
          "state": {
            "_dom_classes": [],
            "_model_module": "@jupyter-widgets/controls",
            "_model_module_version": "1.5.0",
            "_model_name": "HBoxModel",
            "_view_count": null,
            "_view_module": "@jupyter-widgets/controls",
            "_view_module_version": "1.5.0",
            "_view_name": "HBoxView",
            "box_style": "",
            "children": [
              "IPY_MODEL_354a78deb7364bea900c8889b1638c85",
              "IPY_MODEL_7696f222ce36421b9b8146fceb92638f",
              "IPY_MODEL_2ee36916a2c74cf48b9a803ba759ee2d"
            ],
            "layout": "IPY_MODEL_f7ce904489404e42bb94cded4c01d1ba"
          }
        },
        "5a49b65d7887406b8d08144aa64fe279": {
          "model_module": "@jupyter-widgets/base",
          "model_module_version": "1.2.0",
          "model_name": "LayoutModel",
          "state": {
            "_model_module": "@jupyter-widgets/base",
            "_model_module_version": "1.2.0",
            "_model_name": "LayoutModel",
            "_view_count": null,
            "_view_module": "@jupyter-widgets/base",
            "_view_module_version": "1.2.0",
            "_view_name": "LayoutView",
            "align_content": null,
            "align_items": null,
            "align_self": null,
            "border": null,
            "bottom": null,
            "display": null,
            "flex": null,
            "flex_flow": null,
            "grid_area": null,
            "grid_auto_columns": null,
            "grid_auto_flow": null,
            "grid_auto_rows": null,
            "grid_column": null,
            "grid_gap": null,
            "grid_row": null,
            "grid_template_areas": null,
            "grid_template_columns": null,
            "grid_template_rows": null,
            "height": null,
            "justify_content": null,
            "justify_items": null,
            "left": null,
            "margin": null,
            "max_height": null,
            "max_width": null,
            "min_height": null,
            "min_width": null,
            "object_fit": null,
            "object_position": null,
            "order": null,
            "overflow": null,
            "overflow_x": null,
            "overflow_y": null,
            "padding": null,
            "right": null,
            "top": null,
            "visibility": null,
            "width": null
          }
        },
        "5e6c7c91b0ab4577b935b1b51bc103dc": {
          "model_module": "@jupyter-widgets/controls",
          "model_module_version": "1.5.0",
          "model_name": "HBoxModel",
          "state": {
            "_dom_classes": [],
            "_model_module": "@jupyter-widgets/controls",
            "_model_module_version": "1.5.0",
            "_model_name": "HBoxModel",
            "_view_count": null,
            "_view_module": "@jupyter-widgets/controls",
            "_view_module_version": "1.5.0",
            "_view_name": "HBoxView",
            "box_style": "",
            "children": [
              "IPY_MODEL_13832130900d432aa509a17239ca57eb",
              "IPY_MODEL_f14c74a717364134b7309ac7c6ffda67",
              "IPY_MODEL_6de4ba31d30e4175abbf5a628bddce27"
            ],
            "layout": "IPY_MODEL_178e59a197804327b09bc499fd4abaff"
          }
        },
        "6045818047d94814819101ea141a4ede": {
          "model_module": "@jupyter-widgets/base",
          "model_module_version": "1.2.0",
          "model_name": "LayoutModel",
          "state": {
            "_model_module": "@jupyter-widgets/base",
            "_model_module_version": "1.2.0",
            "_model_name": "LayoutModel",
            "_view_count": null,
            "_view_module": "@jupyter-widgets/base",
            "_view_module_version": "1.2.0",
            "_view_name": "LayoutView",
            "align_content": null,
            "align_items": null,
            "align_self": null,
            "border": null,
            "bottom": null,
            "display": null,
            "flex": null,
            "flex_flow": null,
            "grid_area": null,
            "grid_auto_columns": null,
            "grid_auto_flow": null,
            "grid_auto_rows": null,
            "grid_column": null,
            "grid_gap": null,
            "grid_row": null,
            "grid_template_areas": null,
            "grid_template_columns": null,
            "grid_template_rows": null,
            "height": null,
            "justify_content": null,
            "justify_items": null,
            "left": null,
            "margin": null,
            "max_height": null,
            "max_width": null,
            "min_height": null,
            "min_width": null,
            "object_fit": null,
            "object_position": null,
            "order": null,
            "overflow": null,
            "overflow_x": null,
            "overflow_y": null,
            "padding": null,
            "right": null,
            "top": null,
            "visibility": null,
            "width": null
          }
        },
        "65cfa863237e45379efe283111aff253": {
          "model_module": "@jupyter-widgets/base",
          "model_module_version": "1.2.0",
          "model_name": "LayoutModel",
          "state": {
            "_model_module": "@jupyter-widgets/base",
            "_model_module_version": "1.2.0",
            "_model_name": "LayoutModel",
            "_view_count": null,
            "_view_module": "@jupyter-widgets/base",
            "_view_module_version": "1.2.0",
            "_view_name": "LayoutView",
            "align_content": null,
            "align_items": null,
            "align_self": null,
            "border": null,
            "bottom": null,
            "display": null,
            "flex": null,
            "flex_flow": null,
            "grid_area": null,
            "grid_auto_columns": null,
            "grid_auto_flow": null,
            "grid_auto_rows": null,
            "grid_column": null,
            "grid_gap": null,
            "grid_row": null,
            "grid_template_areas": null,
            "grid_template_columns": null,
            "grid_template_rows": null,
            "height": null,
            "justify_content": null,
            "justify_items": null,
            "left": null,
            "margin": null,
            "max_height": null,
            "max_width": null,
            "min_height": null,
            "min_width": null,
            "object_fit": null,
            "object_position": null,
            "order": null,
            "overflow": null,
            "overflow_x": null,
            "overflow_y": null,
            "padding": null,
            "right": null,
            "top": null,
            "visibility": null,
            "width": null
          }
        },
        "66a44e9123384068987177df16a4c62a": {
          "model_module": "@jupyter-widgets/controls",
          "model_module_version": "1.5.0",
          "model_name": "FloatProgressModel",
          "state": {
            "_dom_classes": [],
            "_model_module": "@jupyter-widgets/controls",
            "_model_module_version": "1.5.0",
            "_model_name": "FloatProgressModel",
            "_view_count": null,
            "_view_module": "@jupyter-widgets/controls",
            "_view_module_version": "1.5.0",
            "_view_name": "ProgressView",
            "bar_style": "success",
            "description": "",
            "description_tooltip": null,
            "layout": "IPY_MODEL_6045818047d94814819101ea141a4ede",
            "max": 259,
            "min": 0,
            "orientation": "horizontal",
            "style": "IPY_MODEL_ab60a741517447429f1bba3328718a87",
            "value": 259
          }
        },
        "681cc37c67e643f09428fe494f4ef1b6": {
          "model_module": "@jupyter-widgets/base",
          "model_module_version": "1.2.0",
          "model_name": "LayoutModel",
          "state": {
            "_model_module": "@jupyter-widgets/base",
            "_model_module_version": "1.2.0",
            "_model_name": "LayoutModel",
            "_view_count": null,
            "_view_module": "@jupyter-widgets/base",
            "_view_module_version": "1.2.0",
            "_view_name": "LayoutView",
            "align_content": null,
            "align_items": null,
            "align_self": null,
            "border": null,
            "bottom": null,
            "display": null,
            "flex": null,
            "flex_flow": null,
            "grid_area": null,
            "grid_auto_columns": null,
            "grid_auto_flow": null,
            "grid_auto_rows": null,
            "grid_column": null,
            "grid_gap": null,
            "grid_row": null,
            "grid_template_areas": null,
            "grid_template_columns": null,
            "grid_template_rows": null,
            "height": null,
            "justify_content": null,
            "justify_items": null,
            "left": null,
            "margin": null,
            "max_height": null,
            "max_width": null,
            "min_height": null,
            "min_width": null,
            "object_fit": null,
            "object_position": null,
            "order": null,
            "overflow": null,
            "overflow_x": null,
            "overflow_y": null,
            "padding": null,
            "right": null,
            "top": null,
            "visibility": null,
            "width": null
          }
        },
        "6de4ba31d30e4175abbf5a628bddce27": {
          "model_module": "@jupyter-widgets/controls",
          "model_module_version": "1.5.0",
          "model_name": "HTMLModel",
          "state": {
            "_dom_classes": [],
            "_model_module": "@jupyter-widgets/controls",
            "_model_module_version": "1.5.0",
            "_model_name": "HTMLModel",
            "_view_count": null,
            "_view_module": "@jupyter-widgets/controls",
            "_view_module_version": "1.5.0",
            "_view_name": "HTMLView",
            "description": "",
            "description_tooltip": null,
            "layout": "IPY_MODEL_33ad4a9d144746eca5a0519db8eb1f50",
            "placeholder": "​",
            "style": "IPY_MODEL_c780856b404943eea2877cbee27a24ca",
            "value": " 65.0/65.0 [00:00&lt;00:00, 2.12kB/s]"
          }
        },
        "6e086163b74442529c9f51328dafc6aa": {
          "model_module": "@jupyter-widgets/controls",
          "model_module_version": "1.5.0",
          "model_name": "ProgressStyleModel",
          "state": {
            "_model_module": "@jupyter-widgets/controls",
            "_model_module_version": "1.5.0",
            "_model_name": "ProgressStyleModel",
            "_view_count": null,
            "_view_module": "@jupyter-widgets/base",
            "_view_module_version": "1.2.0",
            "_view_name": "StyleView",
            "bar_color": null,
            "description_width": ""
          }
        },
        "6e9ec358178748ab8f5db39109307914": {
          "model_module": "@jupyter-widgets/base",
          "model_module_version": "1.2.0",
          "model_name": "LayoutModel",
          "state": {
            "_model_module": "@jupyter-widgets/base",
            "_model_module_version": "1.2.0",
            "_model_name": "LayoutModel",
            "_view_count": null,
            "_view_module": "@jupyter-widgets/base",
            "_view_module_version": "1.2.0",
            "_view_name": "LayoutView",
            "align_content": null,
            "align_items": null,
            "align_self": null,
            "border": null,
            "bottom": null,
            "display": null,
            "flex": null,
            "flex_flow": null,
            "grid_area": null,
            "grid_auto_columns": null,
            "grid_auto_flow": null,
            "grid_auto_rows": null,
            "grid_column": null,
            "grid_gap": null,
            "grid_row": null,
            "grid_template_areas": null,
            "grid_template_columns": null,
            "grid_template_rows": null,
            "height": null,
            "justify_content": null,
            "justify_items": null,
            "left": null,
            "margin": null,
            "max_height": null,
            "max_width": null,
            "min_height": null,
            "min_width": null,
            "object_fit": null,
            "object_position": null,
            "order": null,
            "overflow": null,
            "overflow_x": null,
            "overflow_y": null,
            "padding": null,
            "right": null,
            "top": null,
            "visibility": null,
            "width": null
          }
        },
        "6eee81fc749e4cad8083ed465e90874c": {
          "model_module": "@jupyter-widgets/base",
          "model_module_version": "1.2.0",
          "model_name": "LayoutModel",
          "state": {
            "_model_module": "@jupyter-widgets/base",
            "_model_module_version": "1.2.0",
            "_model_name": "LayoutModel",
            "_view_count": null,
            "_view_module": "@jupyter-widgets/base",
            "_view_module_version": "1.2.0",
            "_view_name": "LayoutView",
            "align_content": null,
            "align_items": null,
            "align_self": null,
            "border": null,
            "bottom": null,
            "display": null,
            "flex": null,
            "flex_flow": null,
            "grid_area": null,
            "grid_auto_columns": null,
            "grid_auto_flow": null,
            "grid_auto_rows": null,
            "grid_column": null,
            "grid_gap": null,
            "grid_row": null,
            "grid_template_areas": null,
            "grid_template_columns": null,
            "grid_template_rows": null,
            "height": null,
            "justify_content": null,
            "justify_items": null,
            "left": null,
            "margin": null,
            "max_height": null,
            "max_width": null,
            "min_height": null,
            "min_width": null,
            "object_fit": null,
            "object_position": null,
            "order": null,
            "overflow": null,
            "overflow_x": null,
            "overflow_y": null,
            "padding": null,
            "right": null,
            "top": null,
            "visibility": null,
            "width": null
          }
        },
        "6f670bded1b74ed7982c7b15bb148e4d": {
          "model_module": "@jupyter-widgets/base",
          "model_module_version": "1.2.0",
          "model_name": "LayoutModel",
          "state": {
            "_model_module": "@jupyter-widgets/base",
            "_model_module_version": "1.2.0",
            "_model_name": "LayoutModel",
            "_view_count": null,
            "_view_module": "@jupyter-widgets/base",
            "_view_module_version": "1.2.0",
            "_view_name": "LayoutView",
            "align_content": null,
            "align_items": null,
            "align_self": null,
            "border": null,
            "bottom": null,
            "display": null,
            "flex": null,
            "flex_flow": null,
            "grid_area": null,
            "grid_auto_columns": null,
            "grid_auto_flow": null,
            "grid_auto_rows": null,
            "grid_column": null,
            "grid_gap": null,
            "grid_row": null,
            "grid_template_areas": null,
            "grid_template_columns": null,
            "grid_template_rows": null,
            "height": null,
            "justify_content": null,
            "justify_items": null,
            "left": null,
            "margin": null,
            "max_height": null,
            "max_width": null,
            "min_height": null,
            "min_width": null,
            "object_fit": null,
            "object_position": null,
            "order": null,
            "overflow": null,
            "overflow_x": null,
            "overflow_y": null,
            "padding": null,
            "right": null,
            "top": null,
            "visibility": null,
            "width": null
          }
        },
        "70721cf3b9bb4fb587b64527ad2ac250": {
          "model_module": "@jupyter-widgets/controls",
          "model_module_version": "1.5.0",
          "model_name": "ProgressStyleModel",
          "state": {
            "_model_module": "@jupyter-widgets/controls",
            "_model_module_version": "1.5.0",
            "_model_name": "ProgressStyleModel",
            "_view_count": null,
            "_view_module": "@jupyter-widgets/base",
            "_view_module_version": "1.2.0",
            "_view_name": "StyleView",
            "bar_color": null,
            "description_width": ""
          }
        },
        "70b5f7e74b9c4b4697f1dde63cda48d9": {
          "model_module": "@jupyter-widgets/base",
          "model_module_version": "1.2.0",
          "model_name": "LayoutModel",
          "state": {
            "_model_module": "@jupyter-widgets/base",
            "_model_module_version": "1.2.0",
            "_model_name": "LayoutModel",
            "_view_count": null,
            "_view_module": "@jupyter-widgets/base",
            "_view_module_version": "1.2.0",
            "_view_name": "LayoutView",
            "align_content": null,
            "align_items": null,
            "align_self": null,
            "border": null,
            "bottom": null,
            "display": null,
            "flex": null,
            "flex_flow": null,
            "grid_area": null,
            "grid_auto_columns": null,
            "grid_auto_flow": null,
            "grid_auto_rows": null,
            "grid_column": null,
            "grid_gap": null,
            "grid_row": null,
            "grid_template_areas": null,
            "grid_template_columns": null,
            "grid_template_rows": null,
            "height": null,
            "justify_content": null,
            "justify_items": null,
            "left": null,
            "margin": null,
            "max_height": null,
            "max_width": null,
            "min_height": null,
            "min_width": null,
            "object_fit": null,
            "object_position": null,
            "order": null,
            "overflow": null,
            "overflow_x": null,
            "overflow_y": null,
            "padding": null,
            "right": null,
            "top": null,
            "visibility": null,
            "width": null
          }
        },
        "716a2dd69d4941c1b8f104631eb2e0a1": {
          "model_module": "@jupyter-widgets/controls",
          "model_module_version": "1.5.0",
          "model_name": "HBoxModel",
          "state": {
            "_dom_classes": [],
            "_model_module": "@jupyter-widgets/controls",
            "_model_module_version": "1.5.0",
            "_model_name": "HBoxModel",
            "_view_count": null,
            "_view_module": "@jupyter-widgets/controls",
            "_view_module_version": "1.5.0",
            "_view_name": "HBoxView",
            "box_style": "",
            "children": [
              "IPY_MODEL_23e9bb0728284e759c3a2ad3c835b6dc",
              "IPY_MODEL_b228e6ef93ec483aa7d2b3b32771b562",
              "IPY_MODEL_5571a0baaa674ac29a259167076d52af"
            ],
            "layout": "IPY_MODEL_2f51140da494436ea6c9ac3f8623b474"
          }
        },
        "73b4455b28c24e189c2cfeb1703654ff": {
          "model_module": "@jupyter-widgets/controls",
          "model_module_version": "1.5.0",
          "model_name": "FloatProgressModel",
          "state": {
            "_dom_classes": [],
            "_model_module": "@jupyter-widgets/controls",
            "_model_module_version": "1.5.0",
            "_model_name": "FloatProgressModel",
            "_view_count": null,
            "_view_module": "@jupyter-widgets/controls",
            "_view_module_version": "1.5.0",
            "_view_name": "ProgressView",
            "bar_style": "success",
            "description": "",
            "description_tooltip": null,
            "layout": "IPY_MODEL_d36959ff7c594defb0201410d89a57e1",
            "max": 1912529,
            "min": 0,
            "orientation": "horizontal",
            "style": "IPY_MODEL_25c611fdac874ffaaaa1344858a66793",
            "value": 1912529
          }
        },
        "74c4e918652245a2a7c91967ae5cf7ab": {
          "model_module": "@jupyter-widgets/controls",
          "model_module_version": "1.5.0",
          "model_name": "FloatProgressModel",
          "state": {
            "_dom_classes": [],
            "_model_module": "@jupyter-widgets/controls",
            "_model_module_version": "1.5.0",
            "_model_name": "FloatProgressModel",
            "_view_count": null,
            "_view_module": "@jupyter-widgets/controls",
            "_view_module_version": "1.5.0",
            "_view_name": "ProgressView",
            "bar_style": "success",
            "description": "",
            "description_tooltip": null,
            "layout": "IPY_MODEL_08632ca0d05348eb8dd0e747d2d502c5",
            "max": 2275264548,
            "min": 0,
            "orientation": "horizontal",
            "style": "IPY_MODEL_acda796737614572b75e93cfaae4a6a2",
            "value": 2275264548
          }
        },
        "7696f222ce36421b9b8146fceb92638f": {
          "model_module": "@jupyter-widgets/controls",
          "model_module_version": "1.5.0",
          "model_name": "FloatProgressModel",
          "state": {
            "_dom_classes": [],
            "_model_module": "@jupyter-widgets/controls",
            "_model_module_version": "1.5.0",
            "_model_name": "FloatProgressModel",
            "_view_count": null,
            "_view_module": "@jupyter-widgets/controls",
            "_view_module_version": "1.5.0",
            "_view_name": "ProgressView",
            "bar_style": "success",
            "description": "",
            "description_tooltip": null,
            "layout": "IPY_MODEL_d11ae72a2cfa46848efb23c1c2e963a1",
            "max": 1585,
            "min": 0,
            "orientation": "horizontal",
            "style": "IPY_MODEL_8a6bfe9667bb4761a5d5f4c9bc13a668",
            "value": 1585
          }
        },
        "79f751a6a9094170bdf6726569e8a320": {
          "model_module": "@jupyter-widgets/controls",
          "model_module_version": "1.5.0",
          "model_name": "DescriptionStyleModel",
          "state": {
            "_model_module": "@jupyter-widgets/controls",
            "_model_module_version": "1.5.0",
            "_model_name": "DescriptionStyleModel",
            "_view_count": null,
            "_view_module": "@jupyter-widgets/base",
            "_view_module_version": "1.2.0",
            "_view_name": "StyleView",
            "description_width": ""
          }
        },
        "7aeb08f3105140aa9a4f817519538d76": {
          "model_module": "@jupyter-widgets/base",
          "model_module_version": "1.2.0",
          "model_name": "LayoutModel",
          "state": {
            "_model_module": "@jupyter-widgets/base",
            "_model_module_version": "1.2.0",
            "_model_name": "LayoutModel",
            "_view_count": null,
            "_view_module": "@jupyter-widgets/base",
            "_view_module_version": "1.2.0",
            "_view_name": "LayoutView",
            "align_content": null,
            "align_items": null,
            "align_self": null,
            "border": null,
            "bottom": null,
            "display": null,
            "flex": null,
            "flex_flow": null,
            "grid_area": null,
            "grid_auto_columns": null,
            "grid_auto_flow": null,
            "grid_auto_rows": null,
            "grid_column": null,
            "grid_gap": null,
            "grid_row": null,
            "grid_template_areas": null,
            "grid_template_columns": null,
            "grid_template_rows": null,
            "height": null,
            "justify_content": null,
            "justify_items": null,
            "left": null,
            "margin": null,
            "max_height": null,
            "max_width": null,
            "min_height": null,
            "min_width": null,
            "object_fit": null,
            "object_position": null,
            "order": null,
            "overflow": null,
            "overflow_x": null,
            "overflow_y": null,
            "padding": null,
            "right": null,
            "top": null,
            "visibility": null,
            "width": null
          }
        },
        "7d84a8c4aa0b47529f30f616754aa169": {
          "model_module": "@jupyter-widgets/controls",
          "model_module_version": "1.5.0",
          "model_name": "ProgressStyleModel",
          "state": {
            "_model_module": "@jupyter-widgets/controls",
            "_model_module_version": "1.5.0",
            "_model_name": "ProgressStyleModel",
            "_view_count": null,
            "_view_module": "@jupyter-widgets/base",
            "_view_module_version": "1.2.0",
            "_view_name": "StyleView",
            "bar_color": null,
            "description_width": ""
          }
        },
        "7da0d3177b124de29b72cdfa57e4924b": {
          "model_module": "@jupyter-widgets/controls",
          "model_module_version": "1.5.0",
          "model_name": "DescriptionStyleModel",
          "state": {
            "_model_module": "@jupyter-widgets/controls",
            "_model_module_version": "1.5.0",
            "_model_name": "DescriptionStyleModel",
            "_view_count": null,
            "_view_module": "@jupyter-widgets/base",
            "_view_module_version": "1.2.0",
            "_view_name": "StyleView",
            "description_width": ""
          }
        },
        "821795eb89ce49bea46329032bfbbc29": {
          "model_module": "@jupyter-widgets/base",
          "model_module_version": "1.2.0",
          "model_name": "LayoutModel",
          "state": {
            "_model_module": "@jupyter-widgets/base",
            "_model_module_version": "1.2.0",
            "_model_name": "LayoutModel",
            "_view_count": null,
            "_view_module": "@jupyter-widgets/base",
            "_view_module_version": "1.2.0",
            "_view_name": "LayoutView",
            "align_content": null,
            "align_items": null,
            "align_self": null,
            "border": null,
            "bottom": null,
            "display": null,
            "flex": null,
            "flex_flow": null,
            "grid_area": null,
            "grid_auto_columns": null,
            "grid_auto_flow": null,
            "grid_auto_rows": null,
            "grid_column": null,
            "grid_gap": null,
            "grid_row": null,
            "grid_template_areas": null,
            "grid_template_columns": null,
            "grid_template_rows": null,
            "height": null,
            "justify_content": null,
            "justify_items": null,
            "left": null,
            "margin": null,
            "max_height": null,
            "max_width": null,
            "min_height": null,
            "min_width": null,
            "object_fit": null,
            "object_position": null,
            "order": null,
            "overflow": null,
            "overflow_x": null,
            "overflow_y": null,
            "padding": null,
            "right": null,
            "top": null,
            "visibility": null,
            "width": null
          }
        },
        "8224b4a1788a47fea32d50e7c9b5fd31": {
          "model_module": "@jupyter-widgets/controls",
          "model_module_version": "1.5.0",
          "model_name": "HBoxModel",
          "state": {
            "_dom_classes": [],
            "_model_module": "@jupyter-widgets/controls",
            "_model_module_version": "1.5.0",
            "_model_name": "HBoxModel",
            "_view_count": null,
            "_view_module": "@jupyter-widgets/controls",
            "_view_module_version": "1.5.0",
            "_view_name": "HBoxView",
            "box_style": "",
            "children": [
              "IPY_MODEL_c539d51580f34bd5af1a9669339e0662",
              "IPY_MODEL_d8c4572f11f341698659ef3c2ad098bc",
              "IPY_MODEL_ee471f3f74fd4b38acbc5dcd45bd581e"
            ],
            "layout": "IPY_MODEL_c47449b45fb94beca7da4498b3d4aeda"
          }
        },
        "875352ae93db4811ac5b31800b0fd26e": {
          "model_module": "@jupyter-widgets/base",
          "model_module_version": "1.2.0",
          "model_name": "LayoutModel",
          "state": {
            "_model_module": "@jupyter-widgets/base",
            "_model_module_version": "1.2.0",
            "_model_name": "LayoutModel",
            "_view_count": null,
            "_view_module": "@jupyter-widgets/base",
            "_view_module_version": "1.2.0",
            "_view_name": "LayoutView",
            "align_content": null,
            "align_items": null,
            "align_self": null,
            "border": null,
            "bottom": null,
            "display": null,
            "flex": null,
            "flex_flow": null,
            "grid_area": null,
            "grid_auto_columns": null,
            "grid_auto_flow": null,
            "grid_auto_rows": null,
            "grid_column": null,
            "grid_gap": null,
            "grid_row": null,
            "grid_template_areas": null,
            "grid_template_columns": null,
            "grid_template_rows": null,
            "height": null,
            "justify_content": null,
            "justify_items": null,
            "left": null,
            "margin": null,
            "max_height": null,
            "max_width": null,
            "min_height": null,
            "min_width": null,
            "object_fit": null,
            "object_position": null,
            "order": null,
            "overflow": null,
            "overflow_x": null,
            "overflow_y": null,
            "padding": null,
            "right": null,
            "top": null,
            "visibility": null,
            "width": null
          }
        },
        "8a6bfe9667bb4761a5d5f4c9bc13a668": {
          "model_module": "@jupyter-widgets/controls",
          "model_module_version": "1.5.0",
          "model_name": "ProgressStyleModel",
          "state": {
            "_model_module": "@jupyter-widgets/controls",
            "_model_module_version": "1.5.0",
            "_model_name": "ProgressStyleModel",
            "_view_count": null,
            "_view_module": "@jupyter-widgets/base",
            "_view_module_version": "1.2.0",
            "_view_name": "StyleView",
            "bar_color": null,
            "description_width": ""
          }
        },
        "8b2d8f9c5a154959ac4aac3d0843d064": {
          "model_module": "@jupyter-widgets/controls",
          "model_module_version": "1.5.0",
          "model_name": "HTMLModel",
          "state": {
            "_dom_classes": [],
            "_model_module": "@jupyter-widgets/controls",
            "_model_module_version": "1.5.0",
            "_model_name": "HTMLModel",
            "_view_count": null,
            "_view_module": "@jupyter-widgets/controls",
            "_view_module_version": "1.5.0",
            "_view_name": "HTMLView",
            "description": "",
            "description_tooltip": null,
            "layout": "IPY_MODEL_6e9ec358178748ab8f5db39109307914",
            "placeholder": "​",
            "style": "IPY_MODEL_b050c9215c16443ea9372cf9a5a7bac2",
            "value": "pytorch_model.bin: 100%"
          }
        },
        "8d4ae3c721884694a3e8706ccdb01579": {
          "model_module": "@jupyter-widgets/controls",
          "model_module_version": "1.5.0",
          "model_name": "DescriptionStyleModel",
          "state": {
            "_model_module": "@jupyter-widgets/controls",
            "_model_module_version": "1.5.0",
            "_model_name": "DescriptionStyleModel",
            "_view_count": null,
            "_view_module": "@jupyter-widgets/base",
            "_view_module_version": "1.2.0",
            "_view_name": "StyleView",
            "description_width": ""
          }
        },
        "8fbcca1df97b4bc39ccca9266c4d9608": {
          "model_module": "@jupyter-widgets/controls",
          "model_module_version": "1.5.0",
          "model_name": "HTMLModel",
          "state": {
            "_dom_classes": [],
            "_model_module": "@jupyter-widgets/controls",
            "_model_module_version": "1.5.0",
            "_model_name": "HTMLModel",
            "_view_count": null,
            "_view_module": "@jupyter-widgets/controls",
            "_view_module_version": "1.5.0",
            "_view_name": "HTMLView",
            "description": "",
            "description_tooltip": null,
            "layout": "IPY_MODEL_4221579343e840bea7b578904e17cfa1",
            "placeholder": "​",
            "style": "IPY_MODEL_12115b01b6e44b05a8bce32baddf6097",
            "value": "tokenizer.json: 100%"
          }
        },
        "903b4158ba084545a6c77e637bdb7b53": {
          "model_module": "@jupyter-widgets/controls",
          "model_module_version": "1.5.0",
          "model_name": "ProgressStyleModel",
          "state": {
            "_model_module": "@jupyter-widgets/controls",
            "_model_module_version": "1.5.0",
            "_model_name": "ProgressStyleModel",
            "_view_count": null,
            "_view_module": "@jupyter-widgets/base",
            "_view_module_version": "1.2.0",
            "_view_name": "StyleView",
            "bar_color": null,
            "description_width": ""
          }
        },
        "94cd40d6926c4434800498dd1e2b7971": {
          "model_module": "@jupyter-widgets/controls",
          "model_module_version": "1.5.0",
          "model_name": "HBoxModel",
          "state": {
            "_dom_classes": [],
            "_model_module": "@jupyter-widgets/controls",
            "_model_module_version": "1.5.0",
            "_model_name": "HBoxModel",
            "_view_count": null,
            "_view_module": "@jupyter-widgets/controls",
            "_view_module_version": "1.5.0",
            "_view_name": "HBoxView",
            "box_style": "",
            "children": [
              "IPY_MODEL_07e058a8701e4a7e86f6839a6aa638e5",
              "IPY_MODEL_73b4455b28c24e189c2cfeb1703654ff",
              "IPY_MODEL_e797425df87547f8878ed801f900c927"
            ],
            "layout": "IPY_MODEL_301e6960fb60448d87b82fb99bfedac0"
          }
        },
        "96f4011cb7db41779bc4b7c5faf5f687": {
          "model_module": "@jupyter-widgets/controls",
          "model_module_version": "1.5.0",
          "model_name": "HTMLModel",
          "state": {
            "_dom_classes": [],
            "_model_module": "@jupyter-widgets/controls",
            "_model_module_version": "1.5.0",
            "_model_name": "HTMLModel",
            "_view_count": null,
            "_view_module": "@jupyter-widgets/controls",
            "_view_module_version": "1.5.0",
            "_view_name": "HTMLView",
            "description": "",
            "description_tooltip": null,
            "layout": "IPY_MODEL_d80a91639236458d8df373a9790b457a",
            "placeholder": "​",
            "style": "IPY_MODEL_98c348b59d0e4752b3b56c89e31dfc33",
            "value": "vocab.json: 100%"
          }
        },
        "9748a50718bd474da9647ac62f0c4d27": {
          "model_module": "@jupyter-widgets/base",
          "model_module_version": "1.2.0",
          "model_name": "LayoutModel",
          "state": {
            "_model_module": "@jupyter-widgets/base",
            "_model_module_version": "1.2.0",
            "_model_name": "LayoutModel",
            "_view_count": null,
            "_view_module": "@jupyter-widgets/base",
            "_view_module_version": "1.2.0",
            "_view_name": "LayoutView",
            "align_content": null,
            "align_items": null,
            "align_self": null,
            "border": null,
            "bottom": null,
            "display": null,
            "flex": null,
            "flex_flow": null,
            "grid_area": null,
            "grid_auto_columns": null,
            "grid_auto_flow": null,
            "grid_auto_rows": null,
            "grid_column": null,
            "grid_gap": null,
            "grid_row": null,
            "grid_template_areas": null,
            "grid_template_columns": null,
            "grid_template_rows": null,
            "height": null,
            "justify_content": null,
            "justify_items": null,
            "left": null,
            "margin": null,
            "max_height": null,
            "max_width": null,
            "min_height": null,
            "min_width": null,
            "object_fit": null,
            "object_position": null,
            "order": null,
            "overflow": null,
            "overflow_x": null,
            "overflow_y": null,
            "padding": null,
            "right": null,
            "top": null,
            "visibility": null,
            "width": null
          }
        },
        "97d4832361d449e08ea0778ca654a16c": {
          "model_module": "@jupyter-widgets/base",
          "model_module_version": "1.2.0",
          "model_name": "LayoutModel",
          "state": {
            "_model_module": "@jupyter-widgets/base",
            "_model_module_version": "1.2.0",
            "_model_name": "LayoutModel",
            "_view_count": null,
            "_view_module": "@jupyter-widgets/base",
            "_view_module_version": "1.2.0",
            "_view_name": "LayoutView",
            "align_content": null,
            "align_items": null,
            "align_self": null,
            "border": null,
            "bottom": null,
            "display": null,
            "flex": null,
            "flex_flow": null,
            "grid_area": null,
            "grid_auto_columns": null,
            "grid_auto_flow": null,
            "grid_auto_rows": null,
            "grid_column": null,
            "grid_gap": null,
            "grid_row": null,
            "grid_template_areas": null,
            "grid_template_columns": null,
            "grid_template_rows": null,
            "height": null,
            "justify_content": null,
            "justify_items": null,
            "left": null,
            "margin": null,
            "max_height": null,
            "max_width": null,
            "min_height": null,
            "min_width": null,
            "object_fit": null,
            "object_position": null,
            "order": null,
            "overflow": null,
            "overflow_x": null,
            "overflow_y": null,
            "padding": null,
            "right": null,
            "top": null,
            "visibility": null,
            "width": null
          }
        },
        "98c348b59d0e4752b3b56c89e31dfc33": {
          "model_module": "@jupyter-widgets/controls",
          "model_module_version": "1.5.0",
          "model_name": "DescriptionStyleModel",
          "state": {
            "_model_module": "@jupyter-widgets/controls",
            "_model_module_version": "1.5.0",
            "_model_name": "DescriptionStyleModel",
            "_view_count": null,
            "_view_module": "@jupyter-widgets/base",
            "_view_module_version": "1.2.0",
            "_view_name": "StyleView",
            "description_width": ""
          }
        },
        "9996a40a88c24669aec084a804d03fb4": {
          "model_module": "@jupyter-widgets/controls",
          "model_module_version": "1.5.0",
          "model_name": "DescriptionStyleModel",
          "state": {
            "_model_module": "@jupyter-widgets/controls",
            "_model_module_version": "1.5.0",
            "_model_name": "DescriptionStyleModel",
            "_view_count": null,
            "_view_module": "@jupyter-widgets/base",
            "_view_module_version": "1.2.0",
            "_view_name": "StyleView",
            "description_width": ""
          }
        },
        "9bd86386ed5c4282a220f22711df61b9": {
          "model_module": "@jupyter-widgets/controls",
          "model_module_version": "1.5.0",
          "model_name": "FloatProgressModel",
          "state": {
            "_dom_classes": [],
            "_model_module": "@jupyter-widgets/controls",
            "_model_module_version": "1.5.0",
            "_model_name": "FloatProgressModel",
            "_view_count": null,
            "_view_module": "@jupyter-widgets/controls",
            "_view_module_version": "1.5.0",
            "_view_name": "ProgressView",
            "bar_style": "success",
            "description": "",
            "description_tooltip": null,
            "layout": "IPY_MODEL_7aeb08f3105140aa9a4f817519538d76",
            "max": 1625222120,
            "min": 0,
            "orientation": "horizontal",
            "style": "IPY_MODEL_6e086163b74442529c9f51328dafc6aa",
            "value": 1625222120
          }
        },
        "9c08b522c38a4f7f901506c823288b2c": {
          "model_module": "@jupyter-widgets/base",
          "model_module_version": "1.2.0",
          "model_name": "LayoutModel",
          "state": {
            "_model_module": "@jupyter-widgets/base",
            "_model_module_version": "1.2.0",
            "_model_name": "LayoutModel",
            "_view_count": null,
            "_view_module": "@jupyter-widgets/base",
            "_view_module_version": "1.2.0",
            "_view_name": "LayoutView",
            "align_content": null,
            "align_items": null,
            "align_self": null,
            "border": null,
            "bottom": null,
            "display": null,
            "flex": null,
            "flex_flow": null,
            "grid_area": null,
            "grid_auto_columns": null,
            "grid_auto_flow": null,
            "grid_auto_rows": null,
            "grid_column": null,
            "grid_gap": null,
            "grid_row": null,
            "grid_template_areas": null,
            "grid_template_columns": null,
            "grid_template_rows": null,
            "height": null,
            "justify_content": null,
            "justify_items": null,
            "left": null,
            "margin": null,
            "max_height": null,
            "max_width": null,
            "min_height": null,
            "min_width": null,
            "object_fit": null,
            "object_position": null,
            "order": null,
            "overflow": null,
            "overflow_x": null,
            "overflow_y": null,
            "padding": null,
            "right": null,
            "top": null,
            "visibility": null,
            "width": null
          }
        },
        "9d73c90076964056aa46b7e8c4e5fd8f": {
          "model_module": "@jupyter-widgets/controls",
          "model_module_version": "1.5.0",
          "model_name": "HTMLModel",
          "state": {
            "_dom_classes": [],
            "_model_module": "@jupyter-widgets/controls",
            "_model_module_version": "1.5.0",
            "_model_name": "HTMLModel",
            "_view_count": null,
            "_view_module": "@jupyter-widgets/controls",
            "_view_module_version": "1.5.0",
            "_view_name": "HTMLView",
            "description": "",
            "description_tooltip": null,
            "layout": "IPY_MODEL_e419af8f8a5f4431ac0e89a4a026cf83",
            "placeholder": "​",
            "style": "IPY_MODEL_fead1fb166ed401b9d1917a0039ca44e",
            "value": " 899k/899k [00:00&lt;00:00, 6.13MB/s]"
          }
        },
        "a2bf37bbb7c942c1b0a034b2d28ca845": {
          "model_module": "@jupyter-widgets/base",
          "model_module_version": "1.2.0",
          "model_name": "LayoutModel",
          "state": {
            "_model_module": "@jupyter-widgets/base",
            "_model_module_version": "1.2.0",
            "_model_name": "LayoutModel",
            "_view_count": null,
            "_view_module": "@jupyter-widgets/base",
            "_view_module_version": "1.2.0",
            "_view_name": "LayoutView",
            "align_content": null,
            "align_items": null,
            "align_self": null,
            "border": null,
            "bottom": null,
            "display": null,
            "flex": null,
            "flex_flow": null,
            "grid_area": null,
            "grid_auto_columns": null,
            "grid_auto_flow": null,
            "grid_auto_rows": null,
            "grid_column": null,
            "grid_gap": null,
            "grid_row": null,
            "grid_template_areas": null,
            "grid_template_columns": null,
            "grid_template_rows": null,
            "height": null,
            "justify_content": null,
            "justify_items": null,
            "left": null,
            "margin": null,
            "max_height": null,
            "max_width": null,
            "min_height": null,
            "min_width": null,
            "object_fit": null,
            "object_position": null,
            "order": null,
            "overflow": null,
            "overflow_x": null,
            "overflow_y": null,
            "padding": null,
            "right": null,
            "top": null,
            "visibility": null,
            "width": null
          }
        },
        "a8bafc93406e4758b8eebe690c1f2dcf": {
          "model_module": "@jupyter-widgets/controls",
          "model_module_version": "1.5.0",
          "model_name": "HBoxModel",
          "state": {
            "_dom_classes": [],
            "_model_module": "@jupyter-widgets/controls",
            "_model_module_version": "1.5.0",
            "_model_name": "HBoxModel",
            "_view_count": null,
            "_view_module": "@jupyter-widgets/controls",
            "_view_module_version": "1.5.0",
            "_view_name": "HBoxView",
            "box_style": "",
            "children": [
              "IPY_MODEL_8b2d8f9c5a154959ac4aac3d0843d064",
              "IPY_MODEL_fa651f6699d64d289fac9739bc1a4939",
              "IPY_MODEL_ffc2f024b20045fc9c6f6172248789f8"
            ],
            "layout": "IPY_MODEL_d6c8581bbde54a4f8ea101d7c152d7ec"
          }
        },
        "a8efe0294c4148d1980e41a234813cb2": {
          "model_module": "@jupyter-widgets/controls",
          "model_module_version": "1.5.0",
          "model_name": "DescriptionStyleModel",
          "state": {
            "_model_module": "@jupyter-widgets/controls",
            "_model_module_version": "1.5.0",
            "_model_name": "DescriptionStyleModel",
            "_view_count": null,
            "_view_module": "@jupyter-widgets/base",
            "_view_module_version": "1.2.0",
            "_view_name": "StyleView",
            "description_width": ""
          }
        },
        "ab60a741517447429f1bba3328718a87": {
          "model_module": "@jupyter-widgets/controls",
          "model_module_version": "1.5.0",
          "model_name": "ProgressStyleModel",
          "state": {
            "_model_module": "@jupyter-widgets/controls",
            "_model_module_version": "1.5.0",
            "_model_name": "ProgressStyleModel",
            "_view_count": null,
            "_view_module": "@jupyter-widgets/base",
            "_view_module_version": "1.2.0",
            "_view_name": "StyleView",
            "bar_color": null,
            "description_width": ""
          }
        },
        "acda796737614572b75e93cfaae4a6a2": {
          "model_module": "@jupyter-widgets/controls",
          "model_module_version": "1.5.0",
          "model_name": "ProgressStyleModel",
          "state": {
            "_model_module": "@jupyter-widgets/controls",
            "_model_module_version": "1.5.0",
            "_model_name": "ProgressStyleModel",
            "_view_count": null,
            "_view_module": "@jupyter-widgets/base",
            "_view_module_version": "1.2.0",
            "_view_name": "StyleView",
            "bar_color": null,
            "description_width": ""
          }
        },
        "ace82652f2574f048e9ce2be8307f190": {
          "model_module": "@jupyter-widgets/base",
          "model_module_version": "1.2.0",
          "model_name": "LayoutModel",
          "state": {
            "_model_module": "@jupyter-widgets/base",
            "_model_module_version": "1.2.0",
            "_model_name": "LayoutModel",
            "_view_count": null,
            "_view_module": "@jupyter-widgets/base",
            "_view_module_version": "1.2.0",
            "_view_name": "LayoutView",
            "align_content": null,
            "align_items": null,
            "align_self": null,
            "border": null,
            "bottom": null,
            "display": null,
            "flex": null,
            "flex_flow": null,
            "grid_area": null,
            "grid_auto_columns": null,
            "grid_auto_flow": null,
            "grid_auto_rows": null,
            "grid_column": null,
            "grid_gap": null,
            "grid_row": null,
            "grid_template_areas": null,
            "grid_template_columns": null,
            "grid_template_rows": null,
            "height": null,
            "justify_content": null,
            "justify_items": null,
            "left": null,
            "margin": null,
            "max_height": null,
            "max_width": null,
            "min_height": null,
            "min_width": null,
            "object_fit": null,
            "object_position": null,
            "order": null,
            "overflow": null,
            "overflow_x": null,
            "overflow_y": null,
            "padding": null,
            "right": null,
            "top": null,
            "visibility": null,
            "width": null
          }
        },
        "b050c9215c16443ea9372cf9a5a7bac2": {
          "model_module": "@jupyter-widgets/controls",
          "model_module_version": "1.5.0",
          "model_name": "DescriptionStyleModel",
          "state": {
            "_model_module": "@jupyter-widgets/controls",
            "_model_module_version": "1.5.0",
            "_model_name": "DescriptionStyleModel",
            "_view_count": null,
            "_view_module": "@jupyter-widgets/base",
            "_view_module_version": "1.2.0",
            "_view_name": "StyleView",
            "description_width": ""
          }
        },
        "b228e6ef93ec483aa7d2b3b32771b562": {
          "model_module": "@jupyter-widgets/controls",
          "model_module_version": "1.5.0",
          "model_name": "FloatProgressModel",
          "state": {
            "_dom_classes": [],
            "_model_module": "@jupyter-widgets/controls",
            "_model_module_version": "1.5.0",
            "_model_name": "FloatProgressModel",
            "_view_count": null,
            "_view_module": "@jupyter-widgets/controls",
            "_view_module_version": "1.5.0",
            "_view_name": "ProgressView",
            "bar_style": "success",
            "description": "",
            "description_tooltip": null,
            "layout": "IPY_MODEL_b9c579813dd145a283b8c65df6df43e4",
            "max": 3520083,
            "min": 0,
            "orientation": "horizontal",
            "style": "IPY_MODEL_e70d8ac003e842c38471d92505be6485",
            "value": 3520083
          }
        },
        "b4084ac70b2a433d903d44f422422bf2": {
          "model_module": "@jupyter-widgets/base",
          "model_module_version": "1.2.0",
          "model_name": "LayoutModel",
          "state": {
            "_model_module": "@jupyter-widgets/base",
            "_model_module_version": "1.2.0",
            "_model_name": "LayoutModel",
            "_view_count": null,
            "_view_module": "@jupyter-widgets/base",
            "_view_module_version": "1.2.0",
            "_view_name": "LayoutView",
            "align_content": null,
            "align_items": null,
            "align_self": null,
            "border": null,
            "bottom": null,
            "display": null,
            "flex": null,
            "flex_flow": null,
            "grid_area": null,
            "grid_auto_columns": null,
            "grid_auto_flow": null,
            "grid_auto_rows": null,
            "grid_column": null,
            "grid_gap": null,
            "grid_row": null,
            "grid_template_areas": null,
            "grid_template_columns": null,
            "grid_template_rows": null,
            "height": null,
            "justify_content": null,
            "justify_items": null,
            "left": null,
            "margin": null,
            "max_height": null,
            "max_width": null,
            "min_height": null,
            "min_width": null,
            "object_fit": null,
            "object_position": null,
            "order": null,
            "overflow": null,
            "overflow_x": null,
            "overflow_y": null,
            "padding": null,
            "right": null,
            "top": null,
            "visibility": null,
            "width": null
          }
        },
        "b64faafe41064750acba5708e17056dc": {
          "model_module": "@jupyter-widgets/controls",
          "model_module_version": "1.5.0",
          "model_name": "HBoxModel",
          "state": {
            "_dom_classes": [],
            "_model_module": "@jupyter-widgets/controls",
            "_model_module_version": "1.5.0",
            "_model_name": "HBoxModel",
            "_view_count": null,
            "_view_module": "@jupyter-widgets/controls",
            "_view_module_version": "1.5.0",
            "_view_name": "HBoxView",
            "box_style": "",
            "children": [
              "IPY_MODEL_f3ba629cb3214a19854c2b3b8e6dd190",
              "IPY_MODEL_cba5f3ebbbd74162a7fe3d9d1d549f71",
              "IPY_MODEL_199982183d2c4b63874f9bebda8d1966"
            ],
            "layout": "IPY_MODEL_4d20984f430043a0aabe8a4aff4a2236"
          }
        },
        "b73d91ad9e8545fbba6751dab2492ad1": {
          "model_module": "@jupyter-widgets/controls",
          "model_module_version": "1.5.0",
          "model_name": "DescriptionStyleModel",
          "state": {
            "_model_module": "@jupyter-widgets/controls",
            "_model_module_version": "1.5.0",
            "_model_name": "DescriptionStyleModel",
            "_view_count": null,
            "_view_module": "@jupyter-widgets/base",
            "_view_module_version": "1.2.0",
            "_view_name": "StyleView",
            "description_width": ""
          }
        },
        "b9c579813dd145a283b8c65df6df43e4": {
          "model_module": "@jupyter-widgets/base",
          "model_module_version": "1.2.0",
          "model_name": "LayoutModel",
          "state": {
            "_model_module": "@jupyter-widgets/base",
            "_model_module_version": "1.2.0",
            "_model_name": "LayoutModel",
            "_view_count": null,
            "_view_module": "@jupyter-widgets/base",
            "_view_module_version": "1.2.0",
            "_view_name": "LayoutView",
            "align_content": null,
            "align_items": null,
            "align_self": null,
            "border": null,
            "bottom": null,
            "display": null,
            "flex": null,
            "flex_flow": null,
            "grid_area": null,
            "grid_auto_columns": null,
            "grid_auto_flow": null,
            "grid_auto_rows": null,
            "grid_column": null,
            "grid_gap": null,
            "grid_row": null,
            "grid_template_areas": null,
            "grid_template_columns": null,
            "grid_template_rows": null,
            "height": null,
            "justify_content": null,
            "justify_items": null,
            "left": null,
            "margin": null,
            "max_height": null,
            "max_width": null,
            "min_height": null,
            "min_width": null,
            "object_fit": null,
            "object_position": null,
            "order": null,
            "overflow": null,
            "overflow_x": null,
            "overflow_y": null,
            "padding": null,
            "right": null,
            "top": null,
            "visibility": null,
            "width": null
          }
        },
        "bc88b2b74f1c4f4db4de96cc8f1a6086": {
          "model_module": "@jupyter-widgets/controls",
          "model_module_version": "1.5.0",
          "model_name": "DescriptionStyleModel",
          "state": {
            "_model_module": "@jupyter-widgets/controls",
            "_model_module_version": "1.5.0",
            "_model_name": "DescriptionStyleModel",
            "_view_count": null,
            "_view_module": "@jupyter-widgets/base",
            "_view_module_version": "1.2.0",
            "_view_name": "StyleView",
            "description_width": ""
          }
        },
        "bf50d83f23a249698bf3f0b0c89e8352": {
          "model_module": "@jupyter-widgets/controls",
          "model_module_version": "1.5.0",
          "model_name": "HBoxModel",
          "state": {
            "_dom_classes": [],
            "_model_module": "@jupyter-widgets/controls",
            "_model_module_version": "1.5.0",
            "_model_name": "HBoxModel",
            "_view_count": null,
            "_view_module": "@jupyter-widgets/controls",
            "_view_module_version": "1.5.0",
            "_view_name": "HBoxView",
            "box_style": "",
            "children": [
              "IPY_MODEL_fabe327b73404abf80d475d18ae46402",
              "IPY_MODEL_74c4e918652245a2a7c91967ae5cf7ab",
              "IPY_MODEL_d03de677cd6848b989c93db9e7ec2751"
            ],
            "layout": "IPY_MODEL_1b6afb7c02f04c06afe084ec4d9aecaa"
          }
        },
        "bf8fdc2435404186a6dcc782349ad2da": {
          "model_module": "@jupyter-widgets/controls",
          "model_module_version": "1.5.0",
          "model_name": "HBoxModel",
          "state": {
            "_dom_classes": [],
            "_model_module": "@jupyter-widgets/controls",
            "_model_module_version": "1.5.0",
            "_model_name": "HBoxModel",
            "_view_count": null,
            "_view_module": "@jupyter-widgets/controls",
            "_view_module_version": "1.5.0",
            "_view_name": "HBoxView",
            "box_style": "",
            "children": [
              "IPY_MODEL_1518716761e047108c1a9de94303f5f5",
              "IPY_MODEL_c8f305027bee489f8e882e035b91f792",
              "IPY_MODEL_5517a46914574fea96c1499f8c0b5756"
            ],
            "layout": "IPY_MODEL_e31f06154ae24a64a4e56c6837a9e3a7"
          }
        },
        "c38b389a95db43b68c2326816e3ca78e": {
          "model_module": "@jupyter-widgets/base",
          "model_module_version": "1.2.0",
          "model_name": "LayoutModel",
          "state": {
            "_model_module": "@jupyter-widgets/base",
            "_model_module_version": "1.2.0",
            "_model_name": "LayoutModel",
            "_view_count": null,
            "_view_module": "@jupyter-widgets/base",
            "_view_module_version": "1.2.0",
            "_view_name": "LayoutView",
            "align_content": null,
            "align_items": null,
            "align_self": null,
            "border": null,
            "bottom": null,
            "display": null,
            "flex": null,
            "flex_flow": null,
            "grid_area": null,
            "grid_auto_columns": null,
            "grid_auto_flow": null,
            "grid_auto_rows": null,
            "grid_column": null,
            "grid_gap": null,
            "grid_row": null,
            "grid_template_areas": null,
            "grid_template_columns": null,
            "grid_template_rows": null,
            "height": null,
            "justify_content": null,
            "justify_items": null,
            "left": null,
            "margin": null,
            "max_height": null,
            "max_width": null,
            "min_height": null,
            "min_width": null,
            "object_fit": null,
            "object_position": null,
            "order": null,
            "overflow": null,
            "overflow_x": null,
            "overflow_y": null,
            "padding": null,
            "right": null,
            "top": null,
            "visibility": null,
            "width": null
          }
        },
        "c47449b45fb94beca7da4498b3d4aeda": {
          "model_module": "@jupyter-widgets/base",
          "model_module_version": "1.2.0",
          "model_name": "LayoutModel",
          "state": {
            "_model_module": "@jupyter-widgets/base",
            "_model_module_version": "1.2.0",
            "_model_name": "LayoutModel",
            "_view_count": null,
            "_view_module": "@jupyter-widgets/base",
            "_view_module_version": "1.2.0",
            "_view_name": "LayoutView",
            "align_content": null,
            "align_items": null,
            "align_self": null,
            "border": null,
            "bottom": null,
            "display": null,
            "flex": null,
            "flex_flow": null,
            "grid_area": null,
            "grid_auto_columns": null,
            "grid_auto_flow": null,
            "grid_auto_rows": null,
            "grid_column": null,
            "grid_gap": null,
            "grid_row": null,
            "grid_template_areas": null,
            "grid_template_columns": null,
            "grid_template_rows": null,
            "height": null,
            "justify_content": null,
            "justify_items": null,
            "left": null,
            "margin": null,
            "max_height": null,
            "max_width": null,
            "min_height": null,
            "min_width": null,
            "object_fit": null,
            "object_position": null,
            "order": null,
            "overflow": null,
            "overflow_x": null,
            "overflow_y": null,
            "padding": null,
            "right": null,
            "top": null,
            "visibility": null,
            "width": null
          }
        },
        "c4cf219b254f4cb0804b16b1b64382cb": {
          "model_module": "@jupyter-widgets/controls",
          "model_module_version": "1.5.0",
          "model_name": "DescriptionStyleModel",
          "state": {
            "_model_module": "@jupyter-widgets/controls",
            "_model_module_version": "1.5.0",
            "_model_name": "DescriptionStyleModel",
            "_view_count": null,
            "_view_module": "@jupyter-widgets/base",
            "_view_module_version": "1.2.0",
            "_view_name": "StyleView",
            "description_width": ""
          }
        },
        "c539d51580f34bd5af1a9669339e0662": {
          "model_module": "@jupyter-widgets/controls",
          "model_module_version": "1.5.0",
          "model_name": "HTMLModel",
          "state": {
            "_dom_classes": [],
            "_model_module": "@jupyter-widgets/controls",
            "_model_module_version": "1.5.0",
            "_model_name": "HTMLModel",
            "_view_count": null,
            "_view_module": "@jupyter-widgets/controls",
            "_view_module_version": "1.5.0",
            "_view_name": "HTMLView",
            "description": "",
            "description_tooltip": null,
            "layout": "IPY_MODEL_2b3bfd3a685e40459a77bad7ee6561b8",
            "placeholder": "​",
            "style": "IPY_MODEL_8d4ae3c721884694a3e8706ccdb01579",
            "value": "merges.txt: 100%"
          }
        },
        "c64b65b65ac745ae8de24abe4aa5e148": {
          "model_module": "@jupyter-widgets/controls",
          "model_module_version": "1.5.0",
          "model_name": "HTMLModel",
          "state": {
            "_dom_classes": [],
            "_model_module": "@jupyter-widgets/controls",
            "_model_module_version": "1.5.0",
            "_model_name": "HTMLModel",
            "_view_count": null,
            "_view_module": "@jupyter-widgets/controls",
            "_view_module_version": "1.5.0",
            "_view_name": "HTMLView",
            "description": "",
            "description_tooltip": null,
            "layout": "IPY_MODEL_fa9916b67bc6403881a0ba2d478c38e0",
            "placeholder": "​",
            "style": "IPY_MODEL_bc88b2b74f1c4f4db4de96cc8f1a6086",
            "value": "generation_config.json: 100%"
          }
        },
        "c780856b404943eea2877cbee27a24ca": {
          "model_module": "@jupyter-widgets/controls",
          "model_module_version": "1.5.0",
          "model_name": "DescriptionStyleModel",
          "state": {
            "_model_module": "@jupyter-widgets/controls",
            "_model_module_version": "1.5.0",
            "_model_name": "DescriptionStyleModel",
            "_view_count": null,
            "_view_module": "@jupyter-widgets/base",
            "_view_module_version": "1.2.0",
            "_view_name": "StyleView",
            "description_width": ""
          }
        },
        "c792934ec0ee425f87e6cb2515de6dcd": {
          "model_module": "@jupyter-widgets/controls",
          "model_module_version": "1.5.0",
          "model_name": "HTMLModel",
          "state": {
            "_dom_classes": [],
            "_model_module": "@jupyter-widgets/controls",
            "_model_module_version": "1.5.0",
            "_model_name": "HTMLModel",
            "_view_count": null,
            "_view_module": "@jupyter-widgets/controls",
            "_view_module_version": "1.5.0",
            "_view_name": "HTMLView",
            "description": "",
            "description_tooltip": null,
            "layout": "IPY_MODEL_ca126d88b64f40b4bded7b4b7b5f388e",
            "placeholder": "​",
            "style": "IPY_MODEL_4376ce633aa14908843cff2aed4428e5",
            "value": "generation_config.json: 100%"
          }
        },
        "c814485b9cbe4dc59db40336e88aed7c": {
          "model_module": "@jupyter-widgets/controls",
          "model_module_version": "1.5.0",
          "model_name": "DescriptionStyleModel",
          "state": {
            "_model_module": "@jupyter-widgets/controls",
            "_model_module_version": "1.5.0",
            "_model_name": "DescriptionStyleModel",
            "_view_count": null,
            "_view_module": "@jupyter-widgets/base",
            "_view_module_version": "1.2.0",
            "_view_name": "StyleView",
            "description_width": ""
          }
        },
        "c8f305027bee489f8e882e035b91f792": {
          "model_module": "@jupyter-widgets/controls",
          "model_module_version": "1.5.0",
          "model_name": "FloatProgressModel",
          "state": {
            "_dom_classes": [],
            "_model_module": "@jupyter-widgets/controls",
            "_model_module_version": "1.5.0",
            "_model_name": "FloatProgressModel",
            "_view_count": null,
            "_view_module": "@jupyter-widgets/controls",
            "_view_module_version": "1.5.0",
            "_view_name": "ProgressView",
            "bar_style": "success",
            "description": "",
            "description_tooltip": null,
            "layout": "IPY_MODEL_278bfadbf0d84ab084a66c903fe379e1",
            "max": 1392,
            "min": 0,
            "orientation": "horizontal",
            "style": "IPY_MODEL_dd4efb19cead4d86a0051850b0a713af",
            "value": 1392
          }
        },
        "ca126d88b64f40b4bded7b4b7b5f388e": {
          "model_module": "@jupyter-widgets/base",
          "model_module_version": "1.2.0",
          "model_name": "LayoutModel",
          "state": {
            "_model_module": "@jupyter-widgets/base",
            "_model_module_version": "1.2.0",
            "_model_name": "LayoutModel",
            "_view_count": null,
            "_view_module": "@jupyter-widgets/base",
            "_view_module_version": "1.2.0",
            "_view_name": "LayoutView",
            "align_content": null,
            "align_items": null,
            "align_self": null,
            "border": null,
            "bottom": null,
            "display": null,
            "flex": null,
            "flex_flow": null,
            "grid_area": null,
            "grid_auto_columns": null,
            "grid_auto_flow": null,
            "grid_auto_rows": null,
            "grid_column": null,
            "grid_gap": null,
            "grid_row": null,
            "grid_template_areas": null,
            "grid_template_columns": null,
            "grid_template_rows": null,
            "height": null,
            "justify_content": null,
            "justify_items": null,
            "left": null,
            "margin": null,
            "max_height": null,
            "max_width": null,
            "min_height": null,
            "min_width": null,
            "object_fit": null,
            "object_position": null,
            "order": null,
            "overflow": null,
            "overflow_x": null,
            "overflow_y": null,
            "padding": null,
            "right": null,
            "top": null,
            "visibility": null,
            "width": null
          }
        },
        "ca26ff0962e14e9298eaa6fe4f3f731f": {
          "model_module": "@jupyter-widgets/controls",
          "model_module_version": "1.5.0",
          "model_name": "FloatProgressModel",
          "state": {
            "_dom_classes": [],
            "_model_module": "@jupyter-widgets/controls",
            "_model_module_version": "1.5.0",
            "_model_name": "FloatProgressModel",
            "_view_count": null,
            "_view_module": "@jupyter-widgets/controls",
            "_view_module_version": "1.5.0",
            "_view_name": "ProgressView",
            "bar_style": "success",
            "description": "",
            "description_tooltip": null,
            "layout": "IPY_MODEL_11fe9d723df048398cf0859e765ab77b",
            "max": 898823,
            "min": 0,
            "orientation": "horizontal",
            "style": "IPY_MODEL_7d84a8c4aa0b47529f30f616754aa169",
            "value": 898823
          }
        },
        "cba5f3ebbbd74162a7fe3d9d1d549f71": {
          "model_module": "@jupyter-widgets/controls",
          "model_module_version": "1.5.0",
          "model_name": "FloatProgressModel",
          "state": {
            "_dom_classes": [],
            "_model_module": "@jupyter-widgets/controls",
            "_model_module_version": "1.5.0",
            "_model_name": "FloatProgressModel",
            "_view_count": null,
            "_view_module": "@jupyter-widgets/controls",
            "_view_module_version": "1.5.0",
            "_view_name": "ProgressView",
            "bar_style": "success",
            "description": "",
            "description_tooltip": null,
            "layout": "IPY_MODEL_cf7a43b8ef0d42999710b0a39d97fd7e",
            "max": 87,
            "min": 0,
            "orientation": "horizontal",
            "style": "IPY_MODEL_70721cf3b9bb4fb587b64527ad2ac250",
            "value": 87
          }
        },
        "cf7a43b8ef0d42999710b0a39d97fd7e": {
          "model_module": "@jupyter-widgets/base",
          "model_module_version": "1.2.0",
          "model_name": "LayoutModel",
          "state": {
            "_model_module": "@jupyter-widgets/base",
            "_model_module_version": "1.2.0",
            "_model_name": "LayoutModel",
            "_view_count": null,
            "_view_module": "@jupyter-widgets/base",
            "_view_module_version": "1.2.0",
            "_view_name": "LayoutView",
            "align_content": null,
            "align_items": null,
            "align_self": null,
            "border": null,
            "bottom": null,
            "display": null,
            "flex": null,
            "flex_flow": null,
            "grid_area": null,
            "grid_auto_columns": null,
            "grid_auto_flow": null,
            "grid_auto_rows": null,
            "grid_column": null,
            "grid_gap": null,
            "grid_row": null,
            "grid_template_areas": null,
            "grid_template_columns": null,
            "grid_template_rows": null,
            "height": null,
            "justify_content": null,
            "justify_items": null,
            "left": null,
            "margin": null,
            "max_height": null,
            "max_width": null,
            "min_height": null,
            "min_width": null,
            "object_fit": null,
            "object_position": null,
            "order": null,
            "overflow": null,
            "overflow_x": null,
            "overflow_y": null,
            "padding": null,
            "right": null,
            "top": null,
            "visibility": null,
            "width": null
          }
        },
        "d03de677cd6848b989c93db9e7ec2751": {
          "model_module": "@jupyter-widgets/controls",
          "model_module_version": "1.5.0",
          "model_name": "HTMLModel",
          "state": {
            "_dom_classes": [],
            "_model_module": "@jupyter-widgets/controls",
            "_model_module_version": "1.5.0",
            "_model_name": "HTMLModel",
            "_view_count": null,
            "_view_module": "@jupyter-widgets/controls",
            "_view_module_version": "1.5.0",
            "_view_name": "HTMLView",
            "description": "",
            "description_tooltip": null,
            "layout": "IPY_MODEL_265dd543d9c3428298fcc384c003faaf",
            "placeholder": "​",
            "style": "IPY_MODEL_b73d91ad9e8545fbba6751dab2492ad1",
            "value": " 2.28G/2.28G [00:39&lt;00:00, 99.0MB/s]"
          }
        },
        "d11ae72a2cfa46848efb23c1c2e963a1": {
          "model_module": "@jupyter-widgets/base",
          "model_module_version": "1.2.0",
          "model_name": "LayoutModel",
          "state": {
            "_model_module": "@jupyter-widgets/base",
            "_model_module_version": "1.2.0",
            "_model_name": "LayoutModel",
            "_view_count": null,
            "_view_module": "@jupyter-widgets/base",
            "_view_module_version": "1.2.0",
            "_view_name": "LayoutView",
            "align_content": null,
            "align_items": null,
            "align_self": null,
            "border": null,
            "bottom": null,
            "display": null,
            "flex": null,
            "flex_flow": null,
            "grid_area": null,
            "grid_auto_columns": null,
            "grid_auto_flow": null,
            "grid_auto_rows": null,
            "grid_column": null,
            "grid_gap": null,
            "grid_row": null,
            "grid_template_areas": null,
            "grid_template_columns": null,
            "grid_template_rows": null,
            "height": null,
            "justify_content": null,
            "justify_items": null,
            "left": null,
            "margin": null,
            "max_height": null,
            "max_width": null,
            "min_height": null,
            "min_width": null,
            "object_fit": null,
            "object_position": null,
            "order": null,
            "overflow": null,
            "overflow_x": null,
            "overflow_y": null,
            "padding": null,
            "right": null,
            "top": null,
            "visibility": null,
            "width": null
          }
        },
        "d36959ff7c594defb0201410d89a57e1": {
          "model_module": "@jupyter-widgets/base",
          "model_module_version": "1.2.0",
          "model_name": "LayoutModel",
          "state": {
            "_model_module": "@jupyter-widgets/base",
            "_model_module_version": "1.2.0",
            "_model_name": "LayoutModel",
            "_view_count": null,
            "_view_module": "@jupyter-widgets/base",
            "_view_module_version": "1.2.0",
            "_view_name": "LayoutView",
            "align_content": null,
            "align_items": null,
            "align_self": null,
            "border": null,
            "bottom": null,
            "display": null,
            "flex": null,
            "flex_flow": null,
            "grid_area": null,
            "grid_auto_columns": null,
            "grid_auto_flow": null,
            "grid_auto_rows": null,
            "grid_column": null,
            "grid_gap": null,
            "grid_row": null,
            "grid_template_areas": null,
            "grid_template_columns": null,
            "grid_template_rows": null,
            "height": null,
            "justify_content": null,
            "justify_items": null,
            "left": null,
            "margin": null,
            "max_height": null,
            "max_width": null,
            "min_height": null,
            "min_width": null,
            "object_fit": null,
            "object_position": null,
            "order": null,
            "overflow": null,
            "overflow_x": null,
            "overflow_y": null,
            "padding": null,
            "right": null,
            "top": null,
            "visibility": null,
            "width": null
          }
        },
        "d6927e4383634800adea0e645e267d1c": {
          "model_module": "@jupyter-widgets/controls",
          "model_module_version": "1.5.0",
          "model_name": "ProgressStyleModel",
          "state": {
            "_model_module": "@jupyter-widgets/controls",
            "_model_module_version": "1.5.0",
            "_model_name": "ProgressStyleModel",
            "_view_count": null,
            "_view_module": "@jupyter-widgets/base",
            "_view_module_version": "1.2.0",
            "_view_name": "StyleView",
            "bar_color": null,
            "description_width": ""
          }
        },
        "d6c8581bbde54a4f8ea101d7c152d7ec": {
          "model_module": "@jupyter-widgets/base",
          "model_module_version": "1.2.0",
          "model_name": "LayoutModel",
          "state": {
            "_model_module": "@jupyter-widgets/base",
            "_model_module_version": "1.2.0",
            "_model_name": "LayoutModel",
            "_view_count": null,
            "_view_module": "@jupyter-widgets/base",
            "_view_module_version": "1.2.0",
            "_view_name": "LayoutView",
            "align_content": null,
            "align_items": null,
            "align_self": null,
            "border": null,
            "bottom": null,
            "display": null,
            "flex": null,
            "flex_flow": null,
            "grid_area": null,
            "grid_auto_columns": null,
            "grid_auto_flow": null,
            "grid_auto_rows": null,
            "grid_column": null,
            "grid_gap": null,
            "grid_row": null,
            "grid_template_areas": null,
            "grid_template_columns": null,
            "grid_template_rows": null,
            "height": null,
            "justify_content": null,
            "justify_items": null,
            "left": null,
            "margin": null,
            "max_height": null,
            "max_width": null,
            "min_height": null,
            "min_width": null,
            "object_fit": null,
            "object_position": null,
            "order": null,
            "overflow": null,
            "overflow_x": null,
            "overflow_y": null,
            "padding": null,
            "right": null,
            "top": null,
            "visibility": null,
            "width": null
          }
        },
        "d80a91639236458d8df373a9790b457a": {
          "model_module": "@jupyter-widgets/base",
          "model_module_version": "1.2.0",
          "model_name": "LayoutModel",
          "state": {
            "_model_module": "@jupyter-widgets/base",
            "_model_module_version": "1.2.0",
            "_model_name": "LayoutModel",
            "_view_count": null,
            "_view_module": "@jupyter-widgets/base",
            "_view_module_version": "1.2.0",
            "_view_name": "LayoutView",
            "align_content": null,
            "align_items": null,
            "align_self": null,
            "border": null,
            "bottom": null,
            "display": null,
            "flex": null,
            "flex_flow": null,
            "grid_area": null,
            "grid_auto_columns": null,
            "grid_auto_flow": null,
            "grid_auto_rows": null,
            "grid_column": null,
            "grid_gap": null,
            "grid_row": null,
            "grid_template_areas": null,
            "grid_template_columns": null,
            "grid_template_rows": null,
            "height": null,
            "justify_content": null,
            "justify_items": null,
            "left": null,
            "margin": null,
            "max_height": null,
            "max_width": null,
            "min_height": null,
            "min_width": null,
            "object_fit": null,
            "object_position": null,
            "order": null,
            "overflow": null,
            "overflow_x": null,
            "overflow_y": null,
            "padding": null,
            "right": null,
            "top": null,
            "visibility": null,
            "width": null
          }
        },
        "d8c4572f11f341698659ef3c2ad098bc": {
          "model_module": "@jupyter-widgets/controls",
          "model_module_version": "1.5.0",
          "model_name": "FloatProgressModel",
          "state": {
            "_dom_classes": [],
            "_model_module": "@jupyter-widgets/controls",
            "_model_module_version": "1.5.0",
            "_model_name": "FloatProgressModel",
            "_view_count": null,
            "_view_module": "@jupyter-widgets/controls",
            "_view_module_version": "1.5.0",
            "_view_name": "ProgressView",
            "bar_style": "success",
            "description": "",
            "description_tooltip": null,
            "layout": "IPY_MODEL_ed440886b1be40d89bcc9a996ac62212",
            "max": 456318,
            "min": 0,
            "orientation": "horizontal",
            "style": "IPY_MODEL_25238e9ff51349119d0df648d44c2e5e",
            "value": 456318
          }
        },
        "dc53d44ce7564b2f8a96e9f10468bdc1": {
          "model_module": "@jupyter-widgets/controls",
          "model_module_version": "1.5.0",
          "model_name": "FloatProgressModel",
          "state": {
            "_dom_classes": [],
            "_model_module": "@jupyter-widgets/controls",
            "_model_module_version": "1.5.0",
            "_model_name": "FloatProgressModel",
            "_view_count": null,
            "_view_module": "@jupyter-widgets/controls",
            "_view_module_version": "1.5.0",
            "_view_name": "ProgressView",
            "bar_style": "success",
            "description": "",
            "description_tooltip": null,
            "layout": "IPY_MODEL_65cfa863237e45379efe283111aff253",
            "max": 363,
            "min": 0,
            "orientation": "horizontal",
            "style": "IPY_MODEL_d6927e4383634800adea0e645e267d1c",
            "value": 363
          }
        },
        "dd4efb19cead4d86a0051850b0a713af": {
          "model_module": "@jupyter-widgets/controls",
          "model_module_version": "1.5.0",
          "model_name": "ProgressStyleModel",
          "state": {
            "_model_module": "@jupyter-widgets/controls",
            "_model_module_version": "1.5.0",
            "_model_name": "ProgressStyleModel",
            "_view_count": null,
            "_view_module": "@jupyter-widgets/base",
            "_view_module_version": "1.2.0",
            "_view_name": "StyleView",
            "bar_color": null,
            "description_width": ""
          }
        },
        "dfa4f7c219d94c8491b8185cf74252a9": {
          "model_module": "@jupyter-widgets/controls",
          "model_module_version": "1.5.0",
          "model_name": "HBoxModel",
          "state": {
            "_dom_classes": [],
            "_model_module": "@jupyter-widgets/controls",
            "_model_module_version": "1.5.0",
            "_model_name": "HBoxModel",
            "_view_count": null,
            "_view_module": "@jupyter-widgets/controls",
            "_view_module_version": "1.5.0",
            "_view_name": "HBoxView",
            "box_style": "",
            "children": [
              "IPY_MODEL_96f4011cb7db41779bc4b7c5faf5f687",
              "IPY_MODEL_ca26ff0962e14e9298eaa6fe4f3f731f",
              "IPY_MODEL_9d73c90076964056aa46b7e8c4e5fd8f"
            ],
            "layout": "IPY_MODEL_b4084ac70b2a433d903d44f422422bf2"
          }
        },
        "e31f06154ae24a64a4e56c6837a9e3a7": {
          "model_module": "@jupyter-widgets/base",
          "model_module_version": "1.2.0",
          "model_name": "LayoutModel",
          "state": {
            "_model_module": "@jupyter-widgets/base",
            "_model_module_version": "1.2.0",
            "_model_name": "LayoutModel",
            "_view_count": null,
            "_view_module": "@jupyter-widgets/base",
            "_view_module_version": "1.2.0",
            "_view_name": "LayoutView",
            "align_content": null,
            "align_items": null,
            "align_self": null,
            "border": null,
            "bottom": null,
            "display": null,
            "flex": null,
            "flex_flow": null,
            "grid_area": null,
            "grid_auto_columns": null,
            "grid_auto_flow": null,
            "grid_auto_rows": null,
            "grid_column": null,
            "grid_gap": null,
            "grid_row": null,
            "grid_template_areas": null,
            "grid_template_columns": null,
            "grid_template_rows": null,
            "height": null,
            "justify_content": null,
            "justify_items": null,
            "left": null,
            "margin": null,
            "max_height": null,
            "max_width": null,
            "min_height": null,
            "min_width": null,
            "object_fit": null,
            "object_position": null,
            "order": null,
            "overflow": null,
            "overflow_x": null,
            "overflow_y": null,
            "padding": null,
            "right": null,
            "top": null,
            "visibility": null,
            "width": null
          }
        },
        "e419af8f8a5f4431ac0e89a4a026cf83": {
          "model_module": "@jupyter-widgets/base",
          "model_module_version": "1.2.0",
          "model_name": "LayoutModel",
          "state": {
            "_model_module": "@jupyter-widgets/base",
            "_model_module_version": "1.2.0",
            "_model_name": "LayoutModel",
            "_view_count": null,
            "_view_module": "@jupyter-widgets/base",
            "_view_module_version": "1.2.0",
            "_view_name": "LayoutView",
            "align_content": null,
            "align_items": null,
            "align_self": null,
            "border": null,
            "bottom": null,
            "display": null,
            "flex": null,
            "flex_flow": null,
            "grid_area": null,
            "grid_auto_columns": null,
            "grid_auto_flow": null,
            "grid_auto_rows": null,
            "grid_column": null,
            "grid_gap": null,
            "grid_row": null,
            "grid_template_areas": null,
            "grid_template_columns": null,
            "grid_template_rows": null,
            "height": null,
            "justify_content": null,
            "justify_items": null,
            "left": null,
            "margin": null,
            "max_height": null,
            "max_width": null,
            "min_height": null,
            "min_width": null,
            "object_fit": null,
            "object_position": null,
            "order": null,
            "overflow": null,
            "overflow_x": null,
            "overflow_y": null,
            "padding": null,
            "right": null,
            "top": null,
            "visibility": null,
            "width": null
          }
        },
        "e4453c828e144ff08d33d324f816c3a7": {
          "model_module": "@jupyter-widgets/controls",
          "model_module_version": "1.5.0",
          "model_name": "DescriptionStyleModel",
          "state": {
            "_model_module": "@jupyter-widgets/controls",
            "_model_module_version": "1.5.0",
            "_model_name": "DescriptionStyleModel",
            "_view_count": null,
            "_view_module": "@jupyter-widgets/base",
            "_view_module_version": "1.2.0",
            "_view_name": "StyleView",
            "description_width": ""
          }
        },
        "e4725729c6a9494e9c9cefd7e9087e4a": {
          "model_module": "@jupyter-widgets/base",
          "model_module_version": "1.2.0",
          "model_name": "LayoutModel",
          "state": {
            "_model_module": "@jupyter-widgets/base",
            "_model_module_version": "1.2.0",
            "_model_name": "LayoutModel",
            "_view_count": null,
            "_view_module": "@jupyter-widgets/base",
            "_view_module_version": "1.2.0",
            "_view_name": "LayoutView",
            "align_content": null,
            "align_items": null,
            "align_self": null,
            "border": null,
            "bottom": null,
            "display": null,
            "flex": null,
            "flex_flow": null,
            "grid_area": null,
            "grid_auto_columns": null,
            "grid_auto_flow": null,
            "grid_auto_rows": null,
            "grid_column": null,
            "grid_gap": null,
            "grid_row": null,
            "grid_template_areas": null,
            "grid_template_columns": null,
            "grid_template_rows": null,
            "height": null,
            "justify_content": null,
            "justify_items": null,
            "left": null,
            "margin": null,
            "max_height": null,
            "max_width": null,
            "min_height": null,
            "min_width": null,
            "object_fit": null,
            "object_position": null,
            "order": null,
            "overflow": null,
            "overflow_x": null,
            "overflow_y": null,
            "padding": null,
            "right": null,
            "top": null,
            "visibility": null,
            "width": null
          }
        },
        "e70d8ac003e842c38471d92505be6485": {
          "model_module": "@jupyter-widgets/controls",
          "model_module_version": "1.5.0",
          "model_name": "ProgressStyleModel",
          "state": {
            "_model_module": "@jupyter-widgets/controls",
            "_model_module_version": "1.5.0",
            "_model_name": "ProgressStyleModel",
            "_view_count": null,
            "_view_module": "@jupyter-widgets/base",
            "_view_module_version": "1.2.0",
            "_view_name": "StyleView",
            "bar_color": null,
            "description_width": ""
          }
        },
        "e797425df87547f8878ed801f900c927": {
          "model_module": "@jupyter-widgets/controls",
          "model_module_version": "1.5.0",
          "model_name": "HTMLModel",
          "state": {
            "_dom_classes": [],
            "_model_module": "@jupyter-widgets/controls",
            "_model_module_version": "1.5.0",
            "_model_name": "HTMLModel",
            "_view_count": null,
            "_view_module": "@jupyter-widgets/controls",
            "_view_module_version": "1.5.0",
            "_view_name": "HTMLView",
            "description": "",
            "description_tooltip": null,
            "layout": "IPY_MODEL_c38b389a95db43b68c2326816e3ca78e",
            "placeholder": "​",
            "style": "IPY_MODEL_c4cf219b254f4cb0804b16b1b64382cb",
            "value": " 1.91M/1.91M [00:00&lt;00:00, 14.9MB/s]"
          }
        },
        "e7bca594c73e4708ba018c4e8e2444a2": {
          "model_module": "@jupyter-widgets/controls",
          "model_module_version": "1.5.0",
          "model_name": "HTMLModel",
          "state": {
            "_dom_classes": [],
            "_model_module": "@jupyter-widgets/controls",
            "_model_module_version": "1.5.0",
            "_model_name": "HTMLModel",
            "_view_count": null,
            "_view_module": "@jupyter-widgets/controls",
            "_view_module_version": "1.5.0",
            "_view_name": "HTMLView",
            "description": "",
            "description_tooltip": null,
            "layout": "IPY_MODEL_576bbe98dd404e1ea04cd0d1043f0a20",
            "placeholder": "​",
            "style": "IPY_MODEL_c814485b9cbe4dc59db40336e88aed7c",
            "value": " 1.63G/1.63G [00:24&lt;00:00, 78.3MB/s]"
          }
        },
        "ed440886b1be40d89bcc9a996ac62212": {
          "model_module": "@jupyter-widgets/base",
          "model_module_version": "1.2.0",
          "model_name": "LayoutModel",
          "state": {
            "_model_module": "@jupyter-widgets/base",
            "_model_module_version": "1.2.0",
            "_model_name": "LayoutModel",
            "_view_count": null,
            "_view_module": "@jupyter-widgets/base",
            "_view_module_version": "1.2.0",
            "_view_name": "LayoutView",
            "align_content": null,
            "align_items": null,
            "align_self": null,
            "border": null,
            "bottom": null,
            "display": null,
            "flex": null,
            "flex_flow": null,
            "grid_area": null,
            "grid_auto_columns": null,
            "grid_auto_flow": null,
            "grid_auto_rows": null,
            "grid_column": null,
            "grid_gap": null,
            "grid_row": null,
            "grid_template_areas": null,
            "grid_template_columns": null,
            "grid_template_rows": null,
            "height": null,
            "justify_content": null,
            "justify_items": null,
            "left": null,
            "margin": null,
            "max_height": null,
            "max_width": null,
            "min_height": null,
            "min_width": null,
            "object_fit": null,
            "object_position": null,
            "order": null,
            "overflow": null,
            "overflow_x": null,
            "overflow_y": null,
            "padding": null,
            "right": null,
            "top": null,
            "visibility": null,
            "width": null
          }
        },
        "ee471f3f74fd4b38acbc5dcd45bd581e": {
          "model_module": "@jupyter-widgets/controls",
          "model_module_version": "1.5.0",
          "model_name": "HTMLModel",
          "state": {
            "_dom_classes": [],
            "_model_module": "@jupyter-widgets/controls",
            "_model_module_version": "1.5.0",
            "_model_name": "HTMLModel",
            "_view_count": null,
            "_view_module": "@jupyter-widgets/controls",
            "_view_module_version": "1.5.0",
            "_view_name": "HTMLView",
            "description": "",
            "description_tooltip": null,
            "layout": "IPY_MODEL_3d09347dd6e6428b8703e13e305921fa",
            "placeholder": "​",
            "style": "IPY_MODEL_35c6e2628bd14a979fdb6aa5f9b5bf52",
            "value": " 456k/456k [00:00&lt;00:00, 6.00MB/s]"
          }
        },
        "ef024e1917b246c2b891835f4dd4926e": {
          "model_module": "@jupyter-widgets/controls",
          "model_module_version": "1.5.0",
          "model_name": "HTMLModel",
          "state": {
            "_dom_classes": [],
            "_model_module": "@jupyter-widgets/controls",
            "_model_module_version": "1.5.0",
            "_model_name": "HTMLModel",
            "_view_count": null,
            "_view_module": "@jupyter-widgets/controls",
            "_view_module_version": "1.5.0",
            "_view_name": "HTMLView",
            "description": "",
            "description_tooltip": null,
            "layout": "IPY_MODEL_4dbe3d524fb742a5be398034b60c85f5",
            "placeholder": "​",
            "style": "IPY_MODEL_e4453c828e144ff08d33d324f816c3a7",
            "value": "model.safetensors: 100%"
          }
        },
        "f14c74a717364134b7309ac7c6ffda67": {
          "model_module": "@jupyter-widgets/controls",
          "model_module_version": "1.5.0",
          "model_name": "FloatProgressModel",
          "state": {
            "_dom_classes": [],
            "_model_module": "@jupyter-widgets/controls",
            "_model_module_version": "1.5.0",
            "_model_name": "FloatProgressModel",
            "_view_count": null,
            "_view_module": "@jupyter-widgets/controls",
            "_view_module_version": "1.5.0",
            "_view_name": "ProgressView",
            "bar_style": "success",
            "description": "",
            "description_tooltip": null,
            "layout": "IPY_MODEL_a2bf37bbb7c942c1b0a034b2d28ca845",
            "max": 65,
            "min": 0,
            "orientation": "horizontal",
            "style": "IPY_MODEL_4de505c715d34874a4e4ee6f6478138a",
            "value": 65
          }
        },
        "f3ba629cb3214a19854c2b3b8e6dd190": {
          "model_module": "@jupyter-widgets/controls",
          "model_module_version": "1.5.0",
          "model_name": "HTMLModel",
          "state": {
            "_dom_classes": [],
            "_model_module": "@jupyter-widgets/controls",
            "_model_module_version": "1.5.0",
            "_model_name": "HTMLModel",
            "_view_count": null,
            "_view_module": "@jupyter-widgets/controls",
            "_view_module_version": "1.5.0",
            "_view_name": "HTMLView",
            "description": "",
            "description_tooltip": null,
            "layout": "IPY_MODEL_875352ae93db4811ac5b31800b0fd26e",
            "placeholder": "​",
            "style": "IPY_MODEL_a8efe0294c4148d1980e41a234813cb2",
            "value": "tokenizer_config.json: 100%"
          }
        },
        "f51a709891f74093a716ab663396d951": {
          "model_module": "@jupyter-widgets/controls",
          "model_module_version": "1.5.0",
          "model_name": "DescriptionStyleModel",
          "state": {
            "_model_module": "@jupyter-widgets/controls",
            "_model_module_version": "1.5.0",
            "_model_name": "DescriptionStyleModel",
            "_view_count": null,
            "_view_module": "@jupyter-widgets/base",
            "_view_module_version": "1.2.0",
            "_view_name": "StyleView",
            "description_width": ""
          }
        },
        "f6898bc33c1e4243979555297e14b6c1": {
          "model_module": "@jupyter-widgets/base",
          "model_module_version": "1.2.0",
          "model_name": "LayoutModel",
          "state": {
            "_model_module": "@jupyter-widgets/base",
            "_model_module_version": "1.2.0",
            "_model_name": "LayoutModel",
            "_view_count": null,
            "_view_module": "@jupyter-widgets/base",
            "_view_module_version": "1.2.0",
            "_view_name": "LayoutView",
            "align_content": null,
            "align_items": null,
            "align_self": null,
            "border": null,
            "bottom": null,
            "display": null,
            "flex": null,
            "flex_flow": null,
            "grid_area": null,
            "grid_auto_columns": null,
            "grid_auto_flow": null,
            "grid_auto_rows": null,
            "grid_column": null,
            "grid_gap": null,
            "grid_row": null,
            "grid_template_areas": null,
            "grid_template_columns": null,
            "grid_template_rows": null,
            "height": null,
            "justify_content": null,
            "justify_items": null,
            "left": null,
            "margin": null,
            "max_height": null,
            "max_width": null,
            "min_height": null,
            "min_width": null,
            "object_fit": null,
            "object_position": null,
            "order": null,
            "overflow": null,
            "overflow_x": null,
            "overflow_y": null,
            "padding": null,
            "right": null,
            "top": null,
            "visibility": null,
            "width": null
          }
        },
        "f706f24098d34c428521bcce56004d7e": {
          "model_module": "@jupyter-widgets/base",
          "model_module_version": "1.2.0",
          "model_name": "LayoutModel",
          "state": {
            "_model_module": "@jupyter-widgets/base",
            "_model_module_version": "1.2.0",
            "_model_name": "LayoutModel",
            "_view_count": null,
            "_view_module": "@jupyter-widgets/base",
            "_view_module_version": "1.2.0",
            "_view_name": "LayoutView",
            "align_content": null,
            "align_items": null,
            "align_self": null,
            "border": null,
            "bottom": null,
            "display": null,
            "flex": null,
            "flex_flow": null,
            "grid_area": null,
            "grid_auto_columns": null,
            "grid_auto_flow": null,
            "grid_auto_rows": null,
            "grid_column": null,
            "grid_gap": null,
            "grid_row": null,
            "grid_template_areas": null,
            "grid_template_columns": null,
            "grid_template_rows": null,
            "height": null,
            "justify_content": null,
            "justify_items": null,
            "left": null,
            "margin": null,
            "max_height": null,
            "max_width": null,
            "min_height": null,
            "min_width": null,
            "object_fit": null,
            "object_position": null,
            "order": null,
            "overflow": null,
            "overflow_x": null,
            "overflow_y": null,
            "padding": null,
            "right": null,
            "top": null,
            "visibility": null,
            "width": null
          }
        },
        "f7ce904489404e42bb94cded4c01d1ba": {
          "model_module": "@jupyter-widgets/base",
          "model_module_version": "1.2.0",
          "model_name": "LayoutModel",
          "state": {
            "_model_module": "@jupyter-widgets/base",
            "_model_module_version": "1.2.0",
            "_model_name": "LayoutModel",
            "_view_count": null,
            "_view_module": "@jupyter-widgets/base",
            "_view_module_version": "1.2.0",
            "_view_name": "LayoutView",
            "align_content": null,
            "align_items": null,
            "align_self": null,
            "border": null,
            "bottom": null,
            "display": null,
            "flex": null,
            "flex_flow": null,
            "grid_area": null,
            "grid_auto_columns": null,
            "grid_auto_flow": null,
            "grid_auto_rows": null,
            "grid_column": null,
            "grid_gap": null,
            "grid_row": null,
            "grid_template_areas": null,
            "grid_template_columns": null,
            "grid_template_rows": null,
            "height": null,
            "justify_content": null,
            "justify_items": null,
            "left": null,
            "margin": null,
            "max_height": null,
            "max_width": null,
            "min_height": null,
            "min_width": null,
            "object_fit": null,
            "object_position": null,
            "order": null,
            "overflow": null,
            "overflow_x": null,
            "overflow_y": null,
            "padding": null,
            "right": null,
            "top": null,
            "visibility": null,
            "width": null
          }
        },
        "f9acbf044e564ac78708aa39b8a66960": {
          "model_module": "@jupyter-widgets/controls",
          "model_module_version": "1.5.0",
          "model_name": "DescriptionStyleModel",
          "state": {
            "_model_module": "@jupyter-widgets/controls",
            "_model_module_version": "1.5.0",
            "_model_name": "DescriptionStyleModel",
            "_view_count": null,
            "_view_module": "@jupyter-widgets/base",
            "_view_module_version": "1.2.0",
            "_view_name": "StyleView",
            "description_width": ""
          }
        },
        "fa651f6699d64d289fac9739bc1a4939": {
          "model_module": "@jupyter-widgets/controls",
          "model_module_version": "1.5.0",
          "model_name": "FloatProgressModel",
          "state": {
            "_dom_classes": [],
            "_model_module": "@jupyter-widgets/controls",
            "_model_module_version": "1.5.0",
            "_model_name": "FloatProgressModel",
            "_view_count": null,
            "_view_module": "@jupyter-widgets/controls",
            "_view_module_version": "1.5.0",
            "_view_name": "ProgressView",
            "bar_style": "success",
            "description": "",
            "description_tooltip": null,
            "layout": "IPY_MODEL_24829be352cd43c5b69c0ac5df91de08",
            "max": 2275329241,
            "min": 0,
            "orientation": "horizontal",
            "style": "IPY_MODEL_0c9f592a3aac4cacbc888671798cc828",
            "value": 2275329241
          }
        },
        "fa9916b67bc6403881a0ba2d478c38e0": {
          "model_module": "@jupyter-widgets/base",
          "model_module_version": "1.2.0",
          "model_name": "LayoutModel",
          "state": {
            "_model_module": "@jupyter-widgets/base",
            "_model_module_version": "1.2.0",
            "_model_name": "LayoutModel",
            "_view_count": null,
            "_view_module": "@jupyter-widgets/base",
            "_view_module_version": "1.2.0",
            "_view_name": "LayoutView",
            "align_content": null,
            "align_items": null,
            "align_self": null,
            "border": null,
            "bottom": null,
            "display": null,
            "flex": null,
            "flex_flow": null,
            "grid_area": null,
            "grid_auto_columns": null,
            "grid_auto_flow": null,
            "grid_auto_rows": null,
            "grid_column": null,
            "grid_gap": null,
            "grid_row": null,
            "grid_template_areas": null,
            "grid_template_columns": null,
            "grid_template_rows": null,
            "height": null,
            "justify_content": null,
            "justify_items": null,
            "left": null,
            "margin": null,
            "max_height": null,
            "max_width": null,
            "min_height": null,
            "min_width": null,
            "object_fit": null,
            "object_position": null,
            "order": null,
            "overflow": null,
            "overflow_x": null,
            "overflow_y": null,
            "padding": null,
            "right": null,
            "top": null,
            "visibility": null,
            "width": null
          }
        },
        "fabe327b73404abf80d475d18ae46402": {
          "model_module": "@jupyter-widgets/controls",
          "model_module_version": "1.5.0",
          "model_name": "HTMLModel",
          "state": {
            "_dom_classes": [],
            "_model_module": "@jupyter-widgets/controls",
            "_model_module_version": "1.5.0",
            "_model_name": "HTMLModel",
            "_view_count": null,
            "_view_module": "@jupyter-widgets/controls",
            "_view_module_version": "1.5.0",
            "_view_name": "HTMLView",
            "description": "",
            "description_tooltip": null,
            "layout": "IPY_MODEL_97d4832361d449e08ea0778ca654a16c",
            "placeholder": "​",
            "style": "IPY_MODEL_34d0496da017421cb6df6422440814f5",
            "value": "model.safetensors: 100%"
          }
        },
        "fac41ce7fe0c4af690feb0cc5884c70f": {
          "model_module": "@jupyter-widgets/controls",
          "model_module_version": "1.5.0",
          "model_name": "DescriptionStyleModel",
          "state": {
            "_model_module": "@jupyter-widgets/controls",
            "_model_module_version": "1.5.0",
            "_model_name": "DescriptionStyleModel",
            "_view_count": null,
            "_view_module": "@jupyter-widgets/base",
            "_view_module_version": "1.2.0",
            "_view_name": "StyleView",
            "description_width": ""
          }
        },
        "fad7d923dc984fc2ba98c10a2e4f1177": {
          "model_module": "@jupyter-widgets/controls",
          "model_module_version": "1.5.0",
          "model_name": "DescriptionStyleModel",
          "state": {
            "_model_module": "@jupyter-widgets/controls",
            "_model_module_version": "1.5.0",
            "_model_name": "DescriptionStyleModel",
            "_view_count": null,
            "_view_module": "@jupyter-widgets/base",
            "_view_module_version": "1.2.0",
            "_view_name": "StyleView",
            "description_width": ""
          }
        },
        "fb4c709b78d94ad684e081c54ed75ee6": {
          "model_module": "@jupyter-widgets/controls",
          "model_module_version": "1.5.0",
          "model_name": "FloatProgressModel",
          "state": {
            "_dom_classes": [],
            "_model_module": "@jupyter-widgets/controls",
            "_model_module_version": "1.5.0",
            "_model_name": "FloatProgressModel",
            "_view_count": null,
            "_view_module": "@jupyter-widgets/controls",
            "_view_module_version": "1.5.0",
            "_view_name": "ProgressView",
            "bar_style": "success",
            "description": "",
            "description_tooltip": null,
            "layout": "IPY_MODEL_4f1e4a9f69534630946a2ec6f92189bf",
            "max": 1355863,
            "min": 0,
            "orientation": "horizontal",
            "style": "IPY_MODEL_903b4158ba084545a6c77e637bdb7b53",
            "value": 1355863
          }
        },
        "fead1fb166ed401b9d1917a0039ca44e": {
          "model_module": "@jupyter-widgets/controls",
          "model_module_version": "1.5.0",
          "model_name": "DescriptionStyleModel",
          "state": {
            "_model_module": "@jupyter-widgets/controls",
            "_model_module_version": "1.5.0",
            "_model_name": "DescriptionStyleModel",
            "_view_count": null,
            "_view_module": "@jupyter-widgets/base",
            "_view_module_version": "1.2.0",
            "_view_name": "StyleView",
            "description_width": ""
          }
        },
        "ffc2f024b20045fc9c6f6172248789f8": {
          "model_module": "@jupyter-widgets/controls",
          "model_module_version": "1.5.0",
          "model_name": "HTMLModel",
          "state": {
            "_dom_classes": [],
            "_model_module": "@jupyter-widgets/controls",
            "_model_module_version": "1.5.0",
            "_model_name": "HTMLModel",
            "_view_count": null,
            "_view_module": "@jupyter-widgets/controls",
            "_view_module_version": "1.5.0",
            "_view_name": "HTMLView",
            "description": "",
            "description_tooltip": null,
            "layout": "IPY_MODEL_2fb4b1415cb64157825a2f675c016e17",
            "placeholder": "​",
            "style": "IPY_MODEL_5838ef7f38164e6786834e80aa8a6d28",
            "value": " 2.28G/2.28G [00:31&lt;00:00, 99.9MB/s]"
          }
        }
      }
    }
  },
  "nbformat": 4,
  "nbformat_minor": 0
}
