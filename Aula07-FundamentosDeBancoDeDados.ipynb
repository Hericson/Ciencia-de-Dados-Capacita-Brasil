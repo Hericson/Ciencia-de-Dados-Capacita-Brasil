{
 "cells": [
  {
   "cell_type": "markdown",
   "id": "a14c834e",
   "metadata": {
    "id": "a14c834e"
   },
   "source": [
    "![Aula07capa.png](./figuras/Aula07capa.png)"
   ]
  },
  {
   "cell_type": "code",
   "execution_count": 57,
   "id": "8199af9c",
   "metadata": {},
   "outputs": [],
   "source": [
    "import warnings\n",
    "warnings.filterwarnings(\"ignore\")\n"
   ]
  },
  {
   "cell_type": "markdown",
   "id": "1a60496d",
   "metadata": {
    "id": "1a60496d"
   },
   "source": [
    "### Preparação....."
   ]
  },
  {
   "cell_type": "markdown",
   "id": "37f46802",
   "metadata": {
    "id": "37f46802"
   },
   "source": [
    "# 1. Mini Tutorial: Instalação do PostgreSQL\n",
    "\n",
    "## O que é PostgreSQL?\n",
    "PostgreSQL é um sistema de gerenciamento de banco de dados relacional avançado, open-source, com foco em extensibilidade e conformidade com padrões SQL.\n",
    "\n",
    "---\n",
    "\n",
    "## Passo a Passo para Instalação\n",
    "\n",
    "### 1. Baixando o PostgreSQL\n",
    "1. Acesse o site oficial do PostgreSQL: [https://www.postgresql.org/download/](https://www.postgresql.org/download/).\n",
    "2. Escolha o sistema operacional adequado (Windows, macOS, Linux) e siga para a página de download.\n",
    "\n",
    "---\n",
    "\n",
    "### 2. Instalando no Windows\n",
    "1. Baixe o **installer** correspondente ao seu sistema.\n",
    "2. Execute o arquivo baixado e siga as etapas:\n",
    "   - Escolha os componentes a instalar: **PostgreSQL Server**, **pgAdmin**, **Command Line Tools**.\n",
    "   - Defina uma senha para o usuário `postgres`.\n",
    "   - Escolha a porta (padrão: `5432`).\n",
    "3. Finalize a instalação.\n",
    "\n",
    "---\n",
    "\n",
    "### 3. Instalando no Linux\n",
    "#### Debian/Ubuntu\n",
    "Execute os comandos abaixo no terminal:\n",
    "```bash\n",
    "sudo apt update\n",
    "sudo apt install postgresql postgresql-contrib\n"
   ]
  },
  {
   "cell_type": "markdown",
   "id": "630552e5",
   "metadata": {
    "id": "630552e5"
   },
   "source": [
    "#### Instalaçao Bibliotecas"
   ]
  },
  {
   "cell_type": "code",
   "execution_count": 4,
   "id": "8b502761",
   "metadata": {
    "colab": {
     "base_uri": "https://localhost:8080/"
    },
    "id": "8b502761",
    "outputId": "b4065408-df16-4903-b116-eac56afd6cc8"
   },
   "outputs": [
    {
     "name": "stdout",
     "output_type": "stream",
     "text": [
      "Requirement already satisfied: psycopg2 in /home/hericson/anaconda3/envs/my_projects/lib/python3.9/site-packages (2.9.10)\n",
      "Requirement already satisfied: pandas in /home/hericson/anaconda3/envs/my_projects/lib/python3.9/site-packages (2.0.1)\n",
      "Requirement already satisfied: pytz>=2020.1 in /home/hericson/anaconda3/envs/my_projects/lib/python3.9/site-packages (from pandas) (2023.3)\n",
      "Requirement already satisfied: python-dateutil>=2.8.2 in /home/hericson/anaconda3/envs/my_projects/lib/python3.9/site-packages (from pandas) (2.8.2)\n",
      "Requirement already satisfied: tzdata>=2022.1 in /home/hericson/anaconda3/envs/my_projects/lib/python3.9/site-packages (from pandas) (2023.3)\n",
      "Requirement already satisfied: numpy>=1.20.3 in /home/hericson/anaconda3/envs/my_projects/lib/python3.9/site-packages (from pandas) (1.25.0)\n",
      "Requirement already satisfied: six>=1.5 in /home/hericson/anaconda3/envs/my_projects/lib/python3.9/site-packages (from python-dateutil>=2.8.2->pandas) (1.16.0)\n"
     ]
    }
   ],
   "source": [
    "!pip install psycopg2 pandas"
   ]
  },
  {
   "cell_type": "markdown",
   "id": "faf38d27",
   "metadata": {
    "id": "faf38d27"
   },
   "source": [
    "# 2. Introdução ao Banco de Dados\n",
    "\n",
    "## O que é um Banco de Dados?\n",
    "Um banco de dados é uma coleção organizada de dados. É amplamente utilizado para armazenar, recuperar e gerenciar informações.\n",
    "\n",
    "### Componentes principais:\n",
    "1. **Tabelas**: Estrutura que armazena dados em linhas e colunas.\n",
    "2. **Chave Primária**: Identificador único para cada registro.\n",
    "3. **Chave Estrangeira**: Conecta tabelas, criando relações.\n",
    "\n",
    "### Relacionamentos:\n",
    "- **1:1 (Um para Um)**: Exemplo: um funcionário e seu número de identificação.\n",
    "- **1:N (Um para Muitos)**: Exemplo: um cliente pode fazer vários pedidos.\n",
    "- **N:M (Muitos para Muitos)**: Exemplo: estudantes podem estar matriculados em vários cursos, e cursos podem ter vários estudantes.\n",
    "\n",
    "Nesta aula, usaremos PostgreSQL para manipular um banco de dados que contém:\n",
    "1. Clientes\n",
    "2. Pedidos\n",
    "3. Produtos\n",
    "4. Detalhes dos pedidos\n"
   ]
  },
  {
   "cell_type": "markdown",
   "id": "9910cee1",
   "metadata": {
    "id": "9910cee1"
   },
   "source": [
    "# 2.1 Criação de Banco de Dados e Tabelas\n",
    "\n",
    "## Comandos DDL\n",
    "Comandos de Data Definition Language (DDL) permitem criar e definir a estrutura do banco de dados. Os principais comandos são:\n",
    "- `CREATE TABLE`: Cria uma tabela.\n",
    "- `ALTER TABLE`: Modifica uma tabela existente.\n",
    "- `DROP TABLE`: Remove uma tabela.\n",
    "\n",
    "### Vamos criar tabelas para um sistema de gerenciamento de pedidos:\n",
    "1. **Clientes**: Informações sobre os clientes.\n",
    "2. **Pedidos**: Informações sobre os pedidos realizados.\n",
    "3. **Produtos**: Produtos disponíveis para venda.\n",
    "4. **DetalhesPedidos**: Detalhes de cada pedido (quantidade, produto, etc.).\n"
   ]
  },
  {
   "cell_type": "markdown",
   "id": "919e7a74",
   "metadata": {
    "id": "919e7a74"
   },
   "source": [
    "# 2.2 Conexão com PostgreSQL\n",
    "\n",
    "Vamos conectar ao PostgreSQL, criar um banco de dados chamado `auladb` e quatro tabelas: `Clientes` , `Produtos` , `Pedidos` , `DetalhesPedidos`.\n"
   ]
  },
  {
   "cell_type": "code",
   "execution_count": 1,
   "id": "3101d249",
   "metadata": {
    "colab": {
     "base_uri": "https://localhost:8080/",
     "height": 384
    },
    "id": "3101d249",
    "outputId": "2a035c0e-b437-45ef-920c-ad61ea78b3f7"
   },
   "outputs": [
    {
     "name": "stdout",
     "output_type": "stream",
     "text": [
      "Banco de dados 'auladb' criado com sucesso!\n"
     ]
    }
   ],
   "source": [
    "import psycopg2\n",
    "\n",
    "def execute_query(query, db_name='auladb'):\n",
    "    # Conexão com PostgreSQL\n",
    "    conn = psycopg2.connect(\n",
    "        dbname=db_name, # nome do banco\n",
    "        user=\"postgres\",  # usuário de acesso\n",
    "        password=\"userpassword\",  # senha de acesso\n",
    "        host=\"localhost\", # endereço do servidor do banco de dados\n",
    "        port=\"5432\" # porta de acesso\n",
    "    )\n",
    "    conn.autocommit = True\n",
    "    cursor = conn.cursor()\n",
    "\n",
    "    cursor.execute(query)\n",
    "\n",
    "    conn.close()\n",
    "\n",
    "execute_query(\"DROP DATABASE IF EXISTS auladb\", db_name='postgres')\n",
    "execute_query(\"CREATE DATABASE auladb\", db_name='postgres')\n",
    "\n",
    "\n",
    "print(\"Banco de dados 'auladb' criado com sucesso!\")\n",
    "\n",
    "# Fechar a Conexao"
   ]
  },
  {
   "cell_type": "markdown",
   "id": "1639a859",
   "metadata": {
    "id": "1639a859"
   },
   "source": [
    "## 2.2.1 Diagrama de Entidade-Relacionamento"
   ]
  },
  {
   "cell_type": "markdown",
   "id": "f950be73",
   "metadata": {
    "id": "f950be73"
   },
   "source": [
    "![ERD_diagram.png](./figuras/ERD_diagram.png)"
   ]
  },
  {
   "cell_type": "markdown",
   "id": "0f9ed9ae",
   "metadata": {
    "id": "0f9ed9ae"
   },
   "source": [
    "# 2.3 Criação de Tabelas - Data Definition Language (DDL)\n",
    "\n",
    "Vamos criar as tabelas `Clientes` , `Produtos` , `Pedidos` , `DetalhesPedidos`"
   ]
  },
  {
   "cell_type": "code",
   "execution_count": 2,
   "id": "197c50da",
   "metadata": {
    "id": "197c50da"
   },
   "outputs": [
    {
     "name": "stdout",
     "output_type": "stream",
     "text": [
      "Tabelas criadas com sucesso!\n"
     ]
    }
   ],
   "source": [
    "\n",
    "# Criar tabelas no PostgreSQL\n",
    "execute_query('''\n",
    "CREATE TABLE Clientes (\n",
    "    id_cliente SERIAL PRIMARY KEY,\n",
    "    nome VARCHAR(100) NOT NULL,\n",
    "    email VARCHAR(100) UNIQUE NOT NULL,\n",
    "    telefone VARCHAR(15)\n",
    ")\n",
    "''')\n",
    "\n",
    "execute_query('''\n",
    "CREATE TABLE Produtos (\n",
    "    id_produto SERIAL PRIMARY KEY,\n",
    "    nome_produto VARCHAR(100) NOT NULL,\n",
    "    preco DECIMAL(10, 2) NOT NULL\n",
    ")\n",
    "''')\n",
    "\n",
    "execute_query('''\n",
    "CREATE TABLE Pedidos (\n",
    "    id_pedido SERIAL PRIMARY KEY,\n",
    "    id_cliente INT NOT NULL,\n",
    "    data_pedido DATE NOT NULL DEFAULT CURRENT_DATE,\n",
    "    FOREIGN KEY (id_cliente) REFERENCES Clientes (id_cliente)\n",
    ")\n",
    "''')\n",
    "\n",
    "execute_query('''\n",
    "CREATE TABLE DetalhesPedidos (\n",
    "    id_detalhe SERIAL PRIMARY KEY,\n",
    "    id_pedido INT NOT NULL,\n",
    "    id_produto INT NOT NULL,\n",
    "    quantidade INT NOT NULL,\n",
    "    FOREIGN KEY (id_pedido) REFERENCES Pedidos (id_pedido),\n",
    "    FOREIGN KEY (id_produto) REFERENCES Produtos (id_produto)\n",
    ")\n",
    "''')\n",
    "\n",
    "# conn.commit()\n",
    "print(\"Tabelas criadas com sucesso!\")\n",
    "# conn.close()"
   ]
  },
  {
   "cell_type": "markdown",
   "id": "3d2c92e2",
   "metadata": {
    "id": "3d2c92e2"
   },
   "source": [
    "# 2.4 Inserção de Dados\n",
    "\n",
    "## Comandos DML - Data Manipulation Language\n",
    "Os comandos de Data Manipulation Language (DML) são usados para manipular dados no banco de dados. Exemplos:\n",
    "- `INSERT INTO`: Insere novos dados.\n",
    "- `UPDATE`: Atualiza dados existentes.\n",
    "- `DELETE`: Remove dados.\n",
    "\n",
    "Vamos adicionar dados fictícios às tabelas.\n"
   ]
  },
  {
   "cell_type": "code",
   "execution_count": 3,
   "id": "ec1ca558",
   "metadata": {
    "id": "ec1ca558",
    "scrolled": true
   },
   "outputs": [
    {
     "name": "stdout",
     "output_type": "stream",
     "text": [
      "Dados inseridos com sucesso\n"
     ]
    }
   ],
   "source": [
    "# Inserir dados fictícios diretamente por uma string sql\n",
    "execute_query(\"INSERT INTO Clientes (nome, email, telefone) VALUES ('Joana', 'joanarabelo2013@gmail.com', '123456789')\")\n",
    "execute_query(\"INSERT INTO Clientes (nome, email, telefone) VALUES ('Renato', 'renatostanz@alu.ufc.br', '987654321')\")\n",
    "execute_query(\"INSERT INTO Clientes (nome, email, telefone) VALUES ('Natiara', 'natiarac@gmail.com', '987654321')\")\n",
    "execute_query(\"INSERT INTO Clientes (nome, email, telefone) VALUES ('Antonio', 'antvitoralmeida@gmail.com', '987654321')\")\n",
    "\n",
    "# conn.commit()\n",
    "print('Dados inseridos com sucesso')\n",
    "# conn.close()"
   ]
  },
  {
   "cell_type": "markdown",
   "id": "13b073af",
   "metadata": {
    "id": "13b073af"
   },
   "source": [
    "## Inserindo dados a partir de um dicionário"
   ]
  },
  {
   "cell_type": "code",
   "execution_count": null,
   "id": "ce0f2107",
   "metadata": {},
   "outputs": [],
   "source": [
    "# Inserir dados fictícios a partir de um dicionário\n",
    "\n",
    "cliente = {'nome': 'Huan' , 'email': 'lilzzzhuan@gmail.com' , 'telefone': '(85)123456879'}\n",
    "\n",
    "execute_query(f\"INSERT INTO Clientes (nome, email, telefone) VALUES ('{cliente['nome']}', '{cliente['email']}', '{cliente['telefone']}')\")\n",
    "\n",
    "# print('Dados inseridos com sucesso')"
   ]
  },
  {
   "cell_type": "markdown",
   "id": "743f42f3",
   "metadata": {
    "id": "743f42f3"
   },
   "source": [
    "## Inserindo dados a partir de um dataframe"
   ]
  },
  {
   "cell_type": "code",
   "execution_count": 43,
   "id": "82f101d6",
   "metadata": {},
   "outputs": [
    {
     "data": {
      "text/html": [
       "<div>\n",
       "<style scoped>\n",
       "    .dataframe tbody tr th:only-of-type {\n",
       "        vertical-align: middle;\n",
       "    }\n",
       "\n",
       "    .dataframe tbody tr th {\n",
       "        vertical-align: top;\n",
       "    }\n",
       "\n",
       "    .dataframe thead th {\n",
       "        text-align: right;\n",
       "    }\n",
       "</style>\n",
       "<table border=\"1\" class=\"dataframe\">\n",
       "  <thead>\n",
       "    <tr style=\"text-align: right;\">\n",
       "      <th></th>\n",
       "      <th>nome</th>\n",
       "      <th>email</th>\n",
       "      <th>telefone</th>\n",
       "    </tr>\n",
       "  </thead>\n",
       "  <tbody>\n",
       "    <tr>\n",
       "      <th>0</th>\n",
       "      <td>Nivardo</td>\n",
       "      <td>nivardo2@gmail.com</td>\n",
       "      <td>12341344</td>\n",
       "    </tr>\n",
       "    <tr>\n",
       "      <th>1</th>\n",
       "      <td>Yago</td>\n",
       "      <td>yhagocastro91@gmail.com</td>\n",
       "      <td>345252542</td>\n",
       "    </tr>\n",
       "  </tbody>\n",
       "</table>\n",
       "</div>"
      ],
      "text/plain": [
       "      nome                    email   telefone\n",
       "0  Nivardo       nivardo2@gmail.com   12341344\n",
       "1     Yago  yhagocastro91@gmail.com  345252542"
      ]
     },
     "execution_count": 43,
     "metadata": {},
     "output_type": "execute_result"
    }
   ],
   "source": [
    "import pandas as pd\n",
    "\n",
    "nomes = ['Nivardo', 'Yago']\n",
    "emails = ['nivardo2@gmail.com', 'yhagocastro91@gmail.com']\n",
    "telefones = ['12341344', '345252542']\n",
    "\n",
    "alunos_df = pd.DataFrame({'nome': nomes,\n",
    "                   'email': emails,\n",
    "                   'telefone': telefones})\n",
    "\n",
    "alunos_df"
   ]
  },
  {
   "cell_type": "code",
   "execution_count": null,
   "id": "7e1e728a",
   "metadata": {
    "id": "7e1e728a"
   },
   "outputs": [
    {
     "name": "stdout",
     "output_type": "stream",
     "text": [
      "Dados inseridos com sucesso\n"
     ]
    }
   ],
   "source": [
    "# Percorrendo todos os valores do DF clientes\n",
    "for idx, aluno in alunos_df.iterrows():\n",
    "    execute_query(f\"INSERT INTO Clientes (nome, email, telefone) VALUES ( '{aluno['nome']}' , '{aluno['email']}' , '{aluno['telefone']}')\")\n",
    "\n",
    "print('Dados inseridos com sucesso')\n"
   ]
  },
  {
   "cell_type": "markdown",
   "id": "25c6a722",
   "metadata": {
    "id": "25c6a722"
   },
   "source": [
    "## Inserindo alguns produtos"
   ]
  },
  {
   "cell_type": "code",
   "execution_count": 46,
   "id": "5d1807fc",
   "metadata": {
    "id": "5d1807fc"
   },
   "outputs": [
    {
     "name": "stdout",
     "output_type": "stream",
     "text": [
      "Dados inseridos com sucesso\n"
     ]
    }
   ],
   "source": [
    "# Inserir produtos\n",
    "execute_query(\"INSERT INTO Produtos (nome_produto, preco) VALUES ('iPhone 15 Pro Max', 5000.00)\")\n",
    "execute_query(\"INSERT INTO Produtos (nome_produto, preco) VALUES ('Samsung A15', 1500.00)\")\n",
    "execute_query(\"INSERT INTO Produtos (nome_produto, preco) VALUES ('Rog ally', 7000.00)\")\n",
    "execute_query(\"INSERT INTO Produtos (nome_produto, preco) VALUES ('Fishers (1KG)', 15.00)\")\n",
    "\n",
    "print('Dados inseridos com sucesso')"
   ]
  },
  {
   "cell_type": "code",
   "execution_count": 47,
   "id": "5a8fe432",
   "metadata": {},
   "outputs": [],
   "source": [
    "execute_query(\"INSERT INTO Produtos (nome_produto, preco) VALUES ('Rog ally7', 7000.00)\")"
   ]
  },
  {
   "cell_type": "code",
   "execution_count": 48,
   "id": "145bf431",
   "metadata": {},
   "outputs": [],
   "source": [
    "execute_query(\"INSERT INTO Produtos (nome_produto, preco) VALUES ('Pata de Coelho', 10.00)\")\n",
    "execute_query(\"INSERT INTO Produtos (nome_produto, preco) VALUES ('Notebook Lenovo', 3500.00)\")\n",
    "execute_query(\"INSERT INTO Produtos (nome_produto, preco) VALUES ('Livro de IA', 130.00)\")\n",
    "execute_query(\"INSERT INTO Produtos (nome_produto, preco) VALUES ('Livro de Redes - Douglas Rocha', 45.00)\")"
   ]
  },
  {
   "cell_type": "markdown",
   "id": "32d72dc5",
   "metadata": {
    "id": "32d72dc5"
   },
   "source": [
    "## Inserindo alguns pedidos"
   ]
  },
  {
   "cell_type": "code",
   "execution_count": 49,
   "id": "e2bf453e",
   "metadata": {
    "id": "e2bf453e",
    "scrolled": true
   },
   "outputs": [
    {
     "name": "stdout",
     "output_type": "stream",
     "text": [
      "Dados inseridos com sucesso\n"
     ]
    }
   ],
   "source": [
    "# Inserir pedidos\n",
    "execute_query(\"INSERT INTO Pedidos (id_cliente) VALUES (11)\") ##Pedido do Nivardo\n",
    "execute_query(\"INSERT INTO Pedidos (id_cliente) VALUES (2)\") ##Pedido do Renato\n",
    "\n",
    "print('Dados inseridos com sucesso')"
   ]
  },
  {
   "cell_type": "code",
   "execution_count": 53,
   "id": "84cc9c8c",
   "metadata": {},
   "outputs": [],
   "source": [
    "execute_query(\"INSERT INTO Pedidos (id_cliente) VALUES (3)\") ##Pedido da Natiara\n"
   ]
  },
  {
   "cell_type": "markdown",
   "id": "ad70ec27",
   "metadata": {
    "id": "ad70ec27"
   },
   "source": [
    "## Inserindo detalhes dos pedidos"
   ]
  },
  {
   "cell_type": "code",
   "execution_count": 75,
   "id": "1d4767e5",
   "metadata": {
    "id": "1d4767e5"
   },
   "outputs": [
    {
     "name": "stdout",
     "output_type": "stream",
     "text": [
      "Dados inseridos com sucesso\n"
     ]
    }
   ],
   "source": [
    "# Inserir detalhes do pedido\n",
    "execute_query(\"INSERT INTO DetalhesPedidos (id_pedido, id_produto, quantidade) VALUES (1, 7, 1)\") ##Nivardo, notebook\n",
    "execute_query(\"INSERT INTO DetalhesPedidos (id_pedido, id_produto, quantidade) VALUES (2, 9, 1)\") ##Renato, livro de redes\n",
    "execute_query(\"INSERT INTO DetalhesPedidos (id_pedido, id_produto, quantidade) VALUES (4, 2, 1)\") ## Natiara, samsumg\n",
    "\n",
    "print('Dados inseridos com sucesso')"
   ]
  },
  {
   "cell_type": "code",
   "execution_count": 55,
   "id": "68f1d0c8",
   "metadata": {},
   "outputs": [],
   "source": [
    "def get_conn():\n",
    "    conn = psycopg2.connect(\n",
    "    dbname=\"auladb\", #  nome do banco\n",
    "    user=\"postgres\",  # usuário de acesso\n",
    "    password=\"userpassword\",  # senha de acesso\n",
    "    host=\"localhost\", # endereço do servidor do banco de dados\n",
    "    port=\"5432\" # porta de acesso\n",
    "    )\n",
    "\n",
    "    return conn"
   ]
  },
  {
   "cell_type": "markdown",
   "id": "dc162e5a",
   "metadata": {
    "id": "dc162e5a"
   },
   "source": [
    "# 2.5 Consultas SQL e pandas\n",
    "\n",
    "Nesta seção, exploraremos consultas mais avançadas, usando junções e funções de agregação. Além disso, utilizaremos pandas para carregar os dados em DataFrames e realizar análises diretamente no Python.\n"
   ]
  },
  {
   "cell_type": "code",
   "execution_count": 77,
   "id": "9cb06202",
   "metadata": {
    "id": "9cb06202"
   },
   "outputs": [
    {
     "name": "stdout",
     "output_type": "stream",
     "text": [
      "Clientes:\n",
      "   id_cliente     nome                   email   telefone\n",
      "0           2   Renato  renatostanz@alu.ufc.br  987654321\n",
      "1           3  Natiara      natiarac@gmail.com  987654321\n",
      "2          11  Nivardo       nivardo@gmail.com   12341344\n",
      "\n",
      "Produtos:\n",
      "   id_produto                    nome_produto   preco\n",
      "0           1               iPhone 15 Pro Max  5000.0\n",
      "1           2                     Samsung A15  1500.0\n",
      "2           3                        Rog ally  7000.0\n",
      "3           4                   Fishers (1KG)    15.0\n",
      "4           5                       Rog ally7  7000.0\n",
      "5           6                  Pata de Coelho    10.0\n",
      "6           8                     Livro de IA   130.0\n",
      "7           9  Livro de Redes - Douglas Rocha    45.0\n",
      "8           7                 Notebook Lenovo  2800.0\n",
      "\n",
      "Pedidos com Detalhes:\n",
      "   id_pedido  cliente                    nome_produto  quantidade   total\n",
      "0          1  Nivardo                 Notebook Lenovo           1  2800.0\n",
      "1          2   Renato  Livro de Redes - Douglas Rocha           1    45.0\n",
      "2          1  Nivardo                 Notebook Lenovo           1  2800.0\n",
      "3          2   Renato  Livro de Redes - Douglas Rocha           1    45.0\n",
      "4          4  Natiara                     Samsung A15           1  1500.0\n",
      "5          1  Nivardo                 Notebook Lenovo           1  2800.0\n",
      "6          2   Renato  Livro de Redes - Douglas Rocha           1    45.0\n",
      "7          4  Natiara                     Samsung A15           1  1500.0\n",
      "\n",
      "Total de Pedidos por Cliente:\n",
      "   cliente  total_pedidos  valor_total\n",
      "0  Nivardo              3       8400.0\n",
      "1  Natiara              2       3000.0\n",
      "2   Renato              3        135.0\n",
      "\n",
      "Produtos mais Vendidos:\n",
      "                     nome_produto  total_quantidade  receita_total\n",
      "0  Livro de Redes - Douglas Rocha                 3          135.0\n",
      "1                 Notebook Lenovo                 3         8400.0\n",
      "2                     Samsung A15                 2         3000.0\n"
     ]
    }
   ],
   "source": [
    "conn = get_conn()\n",
    "\n",
    "# 1. Consultar todos os clientes\n",
    "query = \"SELECT * FROM Clientes\"\n",
    "df_clientes = pd.read_sql(query, conn)\n",
    "print(\"Clientes:\")\n",
    "print(df_clientes)\n",
    "\n",
    "# 2. Consultar todos os produtos\n",
    "query = \"SELECT * FROM Produtos\"\n",
    "df_produtos = pd.read_sql(query, conn)\n",
    "print(\"\\nProdutos:\")\n",
    "print(df_produtos)\n",
    "\n",
    "# 3. Listar todos os pedidos com detalhes\n",
    "query = '''\n",
    "SELECT p.id_pedido, c.nome AS cliente, pr.nome_produto, dp.quantidade, dp.quantidade * pr.preco AS total\n",
    "FROM Pedidos p\n",
    "JOIN Clientes c ON p.id_cliente = c.id_cliente\n",
    "JOIN DetalhesPedidos dp ON p.id_pedido = dp.id_pedido\n",
    "JOIN Produtos pr ON dp.id_produto = pr.id_produto\n",
    "'''\n",
    "df_pedidos = pd.read_sql(query, conn)\n",
    "print(\"\\nPedidos com Detalhes:\")\n",
    "print(df_pedidos)\n",
    "\n",
    "# 4. Total de pedidos por cliente\n",
    "query = '''\n",
    "SELECT c.nome AS cliente, COUNT(p.id_pedido) AS total_pedidos, SUM(dp.quantidade * pr.preco) AS valor_total\n",
    "FROM Clientes c\n",
    "JOIN Pedidos p ON c.id_cliente = p.id_cliente\n",
    "JOIN DetalhesPedidos dp ON p.id_pedido = dp.id_pedido\n",
    "JOIN Produtos pr ON dp.id_produto = pr.id_produto\n",
    "GROUP BY c.nome\n",
    "ORDER BY valor_total DESC\n",
    "'''\n",
    "df_totais = pd.read_sql(query, conn)\n",
    "print(\"\\nTotal de Pedidos por Cliente:\")\n",
    "print(df_totais)\n",
    "\n",
    "# 5. Produtos mais vendidos (análise de quantidade)\n",
    "query = '''\n",
    "SELECT pr.nome_produto, SUM(dp.quantidade) AS total_quantidade, SUM(dp.quantidade * pr.preco) AS receita_total\n",
    "FROM Produtos pr\n",
    "JOIN DetalhesPedidos dp ON pr.id_produto = dp.id_produto\n",
    "GROUP BY pr.nome_produto\n",
    "ORDER BY total_quantidade DESC\n",
    "'''\n",
    "df_produtos_vendidos = pd.read_sql(query, conn)\n",
    "print(\"\\nProdutos mais Vendidos:\")\n",
    "print(df_produtos_vendidos)\n",
    "\n",
    "conn.close()"
   ]
  },
  {
   "cell_type": "markdown",
   "id": "5e4faa0b",
   "metadata": {
    "id": "5e4faa0b"
   },
   "source": [
    "## Explicação\n",
    "1. **Pedidos com Detalhes:** Mostramos todas as informações sobre pedidos, clientes e produtos usando múltiplas junções.\n",
    "2. **Total de Pedidos por Cliente:** Analisamos o número de pedidos e o valor total gasto por cada cliente.\n",
    "3. **Produtos mais Vendidos:** Identificamos os produtos mais populares em termos de quantidade e receita.\n"
   ]
  },
  {
   "cell_type": "code",
   "execution_count": 78,
   "id": "c3867734",
   "metadata": {},
   "outputs": [
    {
     "data": {
      "text/html": [
       "<div>\n",
       "<style scoped>\n",
       "    .dataframe tbody tr th:only-of-type {\n",
       "        vertical-align: middle;\n",
       "    }\n",
       "\n",
       "    .dataframe tbody tr th {\n",
       "        vertical-align: top;\n",
       "    }\n",
       "\n",
       "    .dataframe thead th {\n",
       "        text-align: right;\n",
       "    }\n",
       "</style>\n",
       "<table border=\"1\" class=\"dataframe\">\n",
       "  <thead>\n",
       "    <tr style=\"text-align: right;\">\n",
       "      <th></th>\n",
       "      <th>id_pedido</th>\n",
       "      <th>cliente</th>\n",
       "      <th>nome_produto</th>\n",
       "      <th>quantidade</th>\n",
       "      <th>total</th>\n",
       "    </tr>\n",
       "  </thead>\n",
       "  <tbody>\n",
       "    <tr>\n",
       "      <th>0</th>\n",
       "      <td>1</td>\n",
       "      <td>Nivardo</td>\n",
       "      <td>Notebook Lenovo</td>\n",
       "      <td>1</td>\n",
       "      <td>2800.0</td>\n",
       "    </tr>\n",
       "    <tr>\n",
       "      <th>2</th>\n",
       "      <td>1</td>\n",
       "      <td>Nivardo</td>\n",
       "      <td>Notebook Lenovo</td>\n",
       "      <td>1</td>\n",
       "      <td>2800.0</td>\n",
       "    </tr>\n",
       "    <tr>\n",
       "      <th>4</th>\n",
       "      <td>4</td>\n",
       "      <td>Natiara</td>\n",
       "      <td>Samsung A15</td>\n",
       "      <td>1</td>\n",
       "      <td>1500.0</td>\n",
       "    </tr>\n",
       "    <tr>\n",
       "      <th>5</th>\n",
       "      <td>1</td>\n",
       "      <td>Nivardo</td>\n",
       "      <td>Notebook Lenovo</td>\n",
       "      <td>1</td>\n",
       "      <td>2800.0</td>\n",
       "    </tr>\n",
       "    <tr>\n",
       "      <th>7</th>\n",
       "      <td>4</td>\n",
       "      <td>Natiara</td>\n",
       "      <td>Samsung A15</td>\n",
       "      <td>1</td>\n",
       "      <td>1500.0</td>\n",
       "    </tr>\n",
       "  </tbody>\n",
       "</table>\n",
       "</div>"
      ],
      "text/plain": [
       "   id_pedido  cliente     nome_produto  quantidade   total\n",
       "0          1  Nivardo  Notebook Lenovo           1  2800.0\n",
       "2          1  Nivardo  Notebook Lenovo           1  2800.0\n",
       "4          4  Natiara      Samsung A15           1  1500.0\n",
       "5          1  Nivardo  Notebook Lenovo           1  2800.0\n",
       "7          4  Natiara      Samsung A15           1  1500.0"
      ]
     },
     "execution_count": 78,
     "metadata": {},
     "output_type": "execute_result"
    }
   ],
   "source": [
    "mask_preco = df_pedidos['total'] > 1000\n",
    "df_pedidos[mask_preco]"
   ]
  },
  {
   "cell_type": "code",
   "execution_count": 80,
   "id": "8318bfc5",
   "metadata": {},
   "outputs": [
    {
     "data": {
      "text/plain": [
       "cliente\n",
       "Natiara    2\n",
       "Nivardo    3\n",
       "Renato     3\n",
       "Name: quantidade, dtype: int64"
      ]
     },
     "execution_count": 80,
     "metadata": {},
     "output_type": "execute_result"
    }
   ],
   "source": [
    "df_pedidos.groupby(by='cliente').sum()['quantidade']"
   ]
  },
  {
   "cell_type": "code",
   "execution_count": 38,
   "id": "47988ac6",
   "metadata": {
    "id": "47988ac6"
   },
   "outputs": [
    {
     "data": {
      "text/html": [
       "<div>\n",
       "<style scoped>\n",
       "    .dataframe tbody tr th:only-of-type {\n",
       "        vertical-align: middle;\n",
       "    }\n",
       "\n",
       "    .dataframe tbody tr th {\n",
       "        vertical-align: top;\n",
       "    }\n",
       "\n",
       "    .dataframe thead th {\n",
       "        text-align: right;\n",
       "    }\n",
       "</style>\n",
       "<table border=\"1\" class=\"dataframe\">\n",
       "  <thead>\n",
       "    <tr style=\"text-align: right;\">\n",
       "      <th></th>\n",
       "      <th>id_pedido</th>\n",
       "      <th>cliente</th>\n",
       "      <th>nome_produto</th>\n",
       "      <th>quantidade</th>\n",
       "      <th>total</th>\n",
       "    </tr>\n",
       "  </thead>\n",
       "  <tbody>\n",
       "  </tbody>\n",
       "</table>\n",
       "</div>"
      ],
      "text/plain": [
       "Empty DataFrame\n",
       "Columns: [id_pedido, cliente, nome_produto, quantidade, total]\n",
       "Index: []"
      ]
     },
     "execution_count": 38,
     "metadata": {},
     "output_type": "execute_result"
    }
   ],
   "source": [
    "df_pedidos[df_pedidos['quantidade']>1] # algum pedido com a quantidade de um produto maior que 1\n",
    "\n",
    "# Query semelhante da filtragem em SQL\n",
    "# SELECT p.id_pedido, c.nome, pr.nome_produto, dp.quantidade, dp.quantidade * pr.preco AS total\n",
    "# FROM Pedidos p\n",
    "# JOIN Clientes c ON p.id_cliente = c.id_cliente\n",
    "# JOIN DetalhesPedidos dp ON p.id_pedido = dp.id_pedido\n",
    "# JOIN Produtos pr ON dp.id_produto = pr.id_produto\n",
    "# WHERE dp.quantidade > 1"
   ]
  },
  {
   "cell_type": "code",
   "execution_count": 62,
   "id": "70d4bcb0",
   "metadata": {
    "id": "70d4bcb0",
    "scrolled": false
   },
   "outputs": [
    {
     "data": {
      "text/html": [
       "<div>\n",
       "<style scoped>\n",
       "    .dataframe tbody tr th:only-of-type {\n",
       "        vertical-align: middle;\n",
       "    }\n",
       "\n",
       "    .dataframe tbody tr th {\n",
       "        vertical-align: top;\n",
       "    }\n",
       "\n",
       "    .dataframe thead th {\n",
       "        text-align: right;\n",
       "    }\n",
       "</style>\n",
       "<table border=\"1\" class=\"dataframe\">\n",
       "  <thead>\n",
       "    <tr style=\"text-align: right;\">\n",
       "      <th></th>\n",
       "      <th>id_cliente</th>\n",
       "      <th>nome</th>\n",
       "      <th>email</th>\n",
       "      <th>telefone</th>\n",
       "    </tr>\n",
       "  </thead>\n",
       "  <tbody>\n",
       "    <tr>\n",
       "      <th>2</th>\n",
       "      <td>3</td>\n",
       "      <td>Natiara</td>\n",
       "      <td>natiarac@gmail.com</td>\n",
       "      <td>987654321</td>\n",
       "    </tr>\n",
       "  </tbody>\n",
       "</table>\n",
       "</div>"
      ],
      "text/plain": [
       "   id_cliente     nome               email   telefone\n",
       "2           3  Natiara  natiarac@gmail.com  987654321"
      ]
     },
     "execution_count": 62,
     "metadata": {},
     "output_type": "execute_result"
    }
   ],
   "source": [
    "df_clientes.query('nome == \"Natiara\"') # Filtrando a cliente Maria"
   ]
  },
  {
   "cell_type": "code",
   "execution_count": 63,
   "id": "b412d4ea",
   "metadata": {
    "id": "b412d4ea",
    "scrolled": false
   },
   "outputs": [
    {
     "data": {
      "text/html": [
       "<div>\n",
       "<style scoped>\n",
       "    .dataframe tbody tr th:only-of-type {\n",
       "        vertical-align: middle;\n",
       "    }\n",
       "\n",
       "    .dataframe tbody tr th {\n",
       "        vertical-align: top;\n",
       "    }\n",
       "\n",
       "    .dataframe thead th {\n",
       "        text-align: right;\n",
       "    }\n",
       "</style>\n",
       "<table border=\"1\" class=\"dataframe\">\n",
       "  <thead>\n",
       "    <tr style=\"text-align: right;\">\n",
       "      <th></th>\n",
       "      <th>id_cliente</th>\n",
       "      <th>nome</th>\n",
       "      <th>email</th>\n",
       "      <th>telefone</th>\n",
       "    </tr>\n",
       "  </thead>\n",
       "  <tbody>\n",
       "    <tr>\n",
       "      <th>0</th>\n",
       "      <td>1</td>\n",
       "      <td>Joana</td>\n",
       "      <td>joanarabelo2013@gmail.com</td>\n",
       "      <td>123456789</td>\n",
       "    </tr>\n",
       "    <tr>\n",
       "      <th>2</th>\n",
       "      <td>3</td>\n",
       "      <td>Natiara</td>\n",
       "      <td>natiarac@gmail.com</td>\n",
       "      <td>987654321</td>\n",
       "    </tr>\n",
       "    <tr>\n",
       "      <th>3</th>\n",
       "      <td>4</td>\n",
       "      <td>Antonio</td>\n",
       "      <td>antvitoralmeida@gmail.com</td>\n",
       "      <td>987654321</td>\n",
       "    </tr>\n",
       "    <tr>\n",
       "      <th>4</th>\n",
       "      <td>5</td>\n",
       "      <td>Mariana</td>\n",
       "      <td>mariana6568@gmail.com</td>\n",
       "      <td>987654321</td>\n",
       "    </tr>\n",
       "    <tr>\n",
       "      <th>5</th>\n",
       "      <td>6</td>\n",
       "      <td>João</td>\n",
       "      <td>joao@gmail.com</td>\n",
       "      <td>(85) 123456879</td>\n",
       "    </tr>\n",
       "    <tr>\n",
       "      <th>6</th>\n",
       "      <td>9</td>\n",
       "      <td>Huan</td>\n",
       "      <td>lilzzzhuan@gmail.com</td>\n",
       "      <td>(85)123456879</td>\n",
       "    </tr>\n",
       "    <tr>\n",
       "      <th>7</th>\n",
       "      <td>11</td>\n",
       "      <td>Nivardo</td>\n",
       "      <td>nivardo@gmail.com</td>\n",
       "      <td>12341344</td>\n",
       "    </tr>\n",
       "    <tr>\n",
       "      <th>8</th>\n",
       "      <td>12</td>\n",
       "      <td>Yago</td>\n",
       "      <td>yhagocastro9@gmail.com</td>\n",
       "      <td>345252542</td>\n",
       "    </tr>\n",
       "    <tr>\n",
       "      <th>9</th>\n",
       "      <td>15</td>\n",
       "      <td>Nivardo</td>\n",
       "      <td>nivardo2@gmail.com</td>\n",
       "      <td>12341344</td>\n",
       "    </tr>\n",
       "    <tr>\n",
       "      <th>10</th>\n",
       "      <td>16</td>\n",
       "      <td>Yago</td>\n",
       "      <td>yhagocastro91@gmail.com</td>\n",
       "      <td>345252542</td>\n",
       "    </tr>\n",
       "  </tbody>\n",
       "</table>\n",
       "</div>"
      ],
      "text/plain": [
       "    id_cliente     nome                      email        telefone\n",
       "0            1    Joana  joanarabelo2013@gmail.com       123456789\n",
       "2            3  Natiara         natiarac@gmail.com       987654321\n",
       "3            4  Antonio  antvitoralmeida@gmail.com       987654321\n",
       "4            5  Mariana      mariana6568@gmail.com       987654321\n",
       "5            6     João             joao@gmail.com  (85) 123456879\n",
       "6            9     Huan       lilzzzhuan@gmail.com   (85)123456879\n",
       "7           11  Nivardo          nivardo@gmail.com        12341344\n",
       "8           12     Yago     yhagocastro9@gmail.com       345252542\n",
       "9           15  Nivardo         nivardo2@gmail.com        12341344\n",
       "10          16     Yago    yhagocastro91@gmail.com       345252542"
      ]
     },
     "execution_count": 63,
     "metadata": {},
     "output_type": "execute_result"
    }
   ],
   "source": [
    "df_filtrado = df_clientes.query(\"email.str.endswith('@gmail.com')\", engine=\"python\")\n",
    "df_filtrado"
   ]
  },
  {
   "cell_type": "markdown",
   "id": "523b0327",
   "metadata": {
    "id": "523b0327"
   },
   "source": [
    "## Explicação do Comando: `df.query(\"email.str.endswith('.com')\", engine=\"python\")`\n",
    "\n",
    "O comando é utilizado para filtrar um DataFrame `df`, retornando apenas as linhas onde o valor na coluna `email` termina com a string **\".com\"**. Aqui está uma explicação detalhada de cada parte:\n",
    "\n",
    "---\n",
    "\n",
    "## Desmembrando o Comando\n",
    "\n",
    "1. **`query`**:\n",
    "   - É um método do pandas que permite filtrar dados utilizando uma string com expressões condicionais de forma legível.\n",
    "   - A string passada ao `query` define a condição a ser aplicada.\n",
    "\n",
    "2. **`email`**:\n",
    "   - Refere-se à coluna chamada `email` do DataFrame.\n",
    "\n",
    "3. **`str.endswith('.com')`**:\n",
    "   - `str` é um acessador de strings no pandas, que permite aplicar métodos de manipulação de texto em colunas do tipo string.\n",
    "   - `endswith('.com')` retorna um **booleano (True ou False)** para cada valor da coluna, indicando se a string termina com `'.com'`.\n",
    "\n",
    "4. **`engine=\"python\"`**:\n",
    "   - O pandas permite que você use dois \"motores\" para o método `query`: o padrão, que é baseado em expressões numéricas simples, e o Python, que é necessário para usar métodos de manipulação de strings ou outras operações mais complexas.\n",
    "   - Aqui, como estamos usando `str.endswith`, que é um método do pandas baseado em Python, o `engine=\"python\"` é necessário.\n",
    "\n",
    "5. **`df.query`**:\n",
    "   - Filtra o DataFrame com base na condição que avalia a coluna `email`.\n",
    "\n",
    "---\n",
    "\n",
    "## O Que Está Acontecendo?\n",
    "\n",
    "- A expressão **`email.str.endswith('@gmail.com')`** verifica cada valor na coluna `email` do DataFrame.\n",
    "- Para cada linha:\n",
    "  - Se o valor da coluna `email` terminar com `'@gmail.com'`, a linha será incluída no DataFrame filtrado.\n",
    "  - Caso contrário, será excluída.\n",
    "\n",
    "---\n"
   ]
  },
  {
   "cell_type": "markdown",
   "id": "7c1e8a37",
   "metadata": {
    "id": "7c1e8a37"
   },
   "source": [
    "# 2.6 Update e Remoção de Dados\n",
    "\n",
    "Os comandos de **atualização** e **remoção** permitem modificar ou excluir registros no banco de dados. São especialmente úteis para manter os dados consistentes e atualizados.\n",
    "\n",
    "## Comandos SQL\n",
    "- `UPDATE`: Atualiza um ou mais campos em registros existentes.\n",
    "- `DELETE`: Remove registros de uma tabela.\n",
    "\n",
    "Vamos explorar esses comandos com exemplos práticos.\n"
   ]
  },
  {
   "cell_type": "code",
   "execution_count": 64,
   "id": "6735392c",
   "metadata": {
    "id": "6735392c",
    "scrolled": true
   },
   "outputs": [
    {
     "name": "stdout",
     "output_type": "stream",
     "text": [
      "\n",
      "Clientes antes atualização:\n",
      "    id_cliente     nome                      email        telefone\n",
      "0            1    Joana  joanarabelo2013@gmail.com       123456789\n",
      "1            2   Renato     renatostanz@alu.ufc.br       987654321\n",
      "2            3  Natiara         natiarac@gmail.com       987654321\n",
      "3            4  Antonio  antvitoralmeida@gmail.com       987654321\n",
      "4            5  Mariana      mariana6568@gmail.com       987654321\n",
      "5            6     João             joao@gmail.com  (85) 123456879\n",
      "6            9     Huan       lilzzzhuan@gmail.com   (85)123456879\n",
      "7           11  Nivardo          nivardo@gmail.com        12341344\n",
      "8           12     Yago     yhagocastro9@gmail.com       345252542\n",
      "9           15  Nivardo         nivardo2@gmail.com        12341344\n",
      "10          16     Yago    yhagocastro91@gmail.com       345252542\n",
      "\n",
      "Clientes após atualização:\n",
      "    id_cliente     nome                      email        telefone\n",
      "0            2   Renato     renatostanz@alu.ufc.br       987654321\n",
      "1            3  Natiara         natiarac@gmail.com       987654321\n",
      "2            4  Antonio  antvitoralmeida@gmail.com       987654321\n",
      "3            5  Mariana      mariana6568@gmail.com       987654321\n",
      "4            6     João             joao@gmail.com  (85) 123456879\n",
      "5            9     Huan       lilzzzhuan@gmail.com   (85)123456879\n",
      "6           11  Nivardo          nivardo@gmail.com        12341344\n",
      "7           12     Yago     yhagocastro9@gmail.com       345252542\n",
      "8           15  Nivardo         nivardo2@gmail.com        12341344\n",
      "9           16     Yago    yhagocastro91@gmail.com       345252542\n",
      "10           1    Joana          joana@outlook.com       123456789\n"
     ]
    }
   ],
   "source": [
    "# 1. Atualizar o e-mail de um cliente\n",
    "\n",
    "conn = get_conn()\n",
    "\n",
    "# Consultar os dados atualizados\n",
    "query = \"SELECT * FROM Clientes\"\n",
    "df_clientes_antes = pd.read_sql(query, conn)\n",
    "print(\"\\nClientes antes atualização:\")\n",
    "print(df_clientes_antes)\n",
    "\n",
    "cursor = conn.cursor()\n",
    "execute_query(\"UPDATE Clientes SET email = 'joana@outlook.com' WHERE nome = 'Joana'\")\n",
    "conn.commit()\n",
    "\n",
    "# Consultar os dados atualizados\n",
    "query = \"SELECT * FROM Clientes\"\n",
    "df_clientes_atualizados = pd.read_sql(query, conn)\n",
    "print(\"\\nClientes após atualização:\")\n",
    "print(df_clientes_atualizados)\n",
    "conn.close()\n"
   ]
  },
  {
   "cell_type": "markdown",
   "id": "cc441011",
   "metadata": {
    "id": "cc441011"
   },
   "source": [
    "## Atualização na tabela de produtos"
   ]
  },
  {
   "cell_type": "code",
   "execution_count": 65,
   "id": "d175bce9",
   "metadata": {
    "id": "d175bce9",
    "scrolled": true
   },
   "outputs": [
    {
     "name": "stdout",
     "output_type": "stream",
     "text": [
      "\n",
      "Produtos antes da atualização de preço:\n",
      "   id_produto                    nome_produto   preco\n",
      "0           1               iPhone 15 Pro Max  5000.0\n",
      "1           2                     Samsung A15  1500.0\n",
      "2           3                        Rog ally  7000.0\n",
      "3           4                   Fishers (1KG)    15.0\n",
      "4           5                       Rog ally7  7000.0\n",
      "5           6                  Pata de Coelho    10.0\n",
      "6           7                 Notebook Lenovo  3500.0\n",
      "7           8                     Livro de IA   130.0\n",
      "8           9  Livro de Redes - Douglas Rocha    45.0\n",
      "\n",
      "Produtos após atualização de preço:\n",
      "   id_produto                    nome_produto   preco\n",
      "0           1               iPhone 15 Pro Max  5000.0\n",
      "1           2                     Samsung A15  1500.0\n",
      "2           3                        Rog ally  7000.0\n",
      "3           4                   Fishers (1KG)    15.0\n",
      "4           5                       Rog ally7  7000.0\n",
      "5           6                  Pata de Coelho    10.0\n",
      "6           8                     Livro de IA   130.0\n",
      "7           9  Livro de Redes - Douglas Rocha    45.0\n",
      "8           7                 Notebook Lenovo  2800.0\n"
     ]
    }
   ],
   "source": [
    "conn = get_conn()\n",
    "\n",
    "# Consultar os produtos antes\n",
    "query = \"SELECT * FROM Produtos\"\n",
    "df_produtos_antes = pd.read_sql(query, conn)\n",
    "print(\"\\nProdutos antes da atualização de preço:\")\n",
    "print(df_produtos_antes)\n",
    "\n",
    "# 2. Atualizar o preço de um produto\n",
    "cursor = conn.cursor()\n",
    "execute_query(\"UPDATE Produtos SET preco = preco * 0.8 WHERE nome_produto = 'Notebook Lenovo'\")\n",
    "conn.commit()\n",
    "\n",
    "# Consultar os produtos atualizados\n",
    "query = \"SELECT * FROM Produtos\"\n",
    "df_produtos_atualizados = pd.read_sql(query, conn)\n",
    "print(\"\\nProdutos após atualização de preço:\")\n",
    "print(df_produtos_atualizados)\n",
    "\n",
    "conn.close()"
   ]
  },
  {
   "cell_type": "markdown",
   "id": "de6cba29",
   "metadata": {
    "id": "de6cba29"
   },
   "source": [
    "## Deletando informações na tabela de pedidos... Restrição de integridade"
   ]
  },
  {
   "cell_type": "code",
   "execution_count": 66,
   "id": "031af10e",
   "metadata": {
    "id": "031af10e"
   },
   "outputs": [
    {
     "name": "stdout",
     "output_type": "stream",
     "text": [
      "\n",
      "Pedidos após remoção:\n",
      "   id_pedido  id_cliente data_pedido\n",
      "0          1          11  2024-11-28\n",
      "1          2           2  2024-11-28\n",
      "2          3           2  2024-11-28\n",
      "3          4           3  2024-11-28\n",
      "\n",
      "Pedidos após remoção:\n",
      "   id_pedido  id_cliente data_pedido\n",
      "0          1          11  2024-11-28\n",
      "1          2           2  2024-11-28\n",
      "2          4           3  2024-11-28\n"
     ]
    }
   ],
   "source": [
    "conn = get_conn()\n",
    "\n",
    "# Consultar os pedidos após exclusão\n",
    "query = \"SELECT * FROM Pedidos\"\n",
    "df_pedidos_antes_removidos = pd.read_sql(query, conn)\n",
    "print(\"\\nPedidos após remoção:\")\n",
    "print(df_pedidos_antes_removidos)\n",
    "\n",
    "# 3. Excluir um pedido específico\n",
    "cursor = conn.cursor()\n",
    "execute_query(\"DELETE FROM Pedidos WHERE id_pedido = 3\")\n",
    "conn.commit()\n",
    "\n",
    "# Consultar os pedidos após exclusão\n",
    "query = \"SELECT * FROM Pedidos\"\n",
    "df_pedidos_removidos = pd.read_sql(query, conn)\n",
    "print(\"\\nPedidos após remoção:\")\n",
    "print(df_pedidos_removidos)\n",
    "\n",
    "conn.close()\n"
   ]
  },
  {
   "cell_type": "code",
   "execution_count": 67,
   "id": "8119fb81",
   "metadata": {},
   "outputs": [],
   "source": [
    "execute_query(\"DELETE FROM Pedidos WHERE id_pedido = 10\")"
   ]
  },
  {
   "cell_type": "code",
   "execution_count": 68,
   "id": "d8e94f33",
   "metadata": {
    "id": "d8e94f33"
   },
   "outputs": [
    {
     "name": "stdout",
     "output_type": "stream",
     "text": [
      "\n",
      "Clientes após remoção de inativos:\n",
      "   id_cliente     nome                   email   telefone\n",
      "0           2   Renato  renatostanz@alu.ufc.br  987654321\n",
      "1           3  Natiara      natiarac@gmail.com  987654321\n",
      "2          11  Nivardo       nivardo@gmail.com   12341344\n"
     ]
    }
   ],
   "source": [
    "conn = get_conn()\n",
    "\n",
    "cursor = conn.cursor()\n",
    "\n",
    "# 4. Excluir todos os clientes sem pedidos\n",
    "execute_query('''\n",
    "DELETE FROM Clientes\n",
    "WHERE id_cliente NOT IN (SELECT DISTINCT id_cliente FROM Pedidos)\n",
    "''')\n",
    "conn.commit()\n",
    "\n",
    "# Consultar clientes após remoção\n",
    "query = \"SELECT * FROM Clientes\"\n",
    "df_clientes_final = pd.read_sql(query, conn)\n",
    "print(\"\\nClientes após remoção de inativos:\")\n",
    "print(df_clientes_final)\n",
    "\n",
    "conn.close()"
   ]
  },
  {
   "cell_type": "markdown",
   "id": "93a1ee43",
   "metadata": {
    "id": "93a1ee43"
   },
   "source": [
    "## Explicação\n",
    "1. Atualizamos o e-mail de um cliente e o preço de um produto.\n",
    "2. Excluímos um pedido específico.\n",
    "3. Removemos clientes que não possuem pedidos associados, garantindo um banco de dados mais limpo e eficiente.\n",
    "\n",
    "### Observação:\n",
    "Use sempre critérios claros no comando `DELETE` para evitar remoções acidentais.\n"
   ]
  },
  {
   "cell_type": "markdown",
   "id": "da8de40c",
   "metadata": {
    "id": "da8de40c"
   },
   "source": [
    "# 3. Conceitos Importantes de Banco de Dados NoSQL Usando MongoDB\n",
    "\n",
    "## O que é um Banco de Dados NoSQL?\n",
    "- **NoSQL** refere-se a uma categoria de bancos de dados que não utiliza o modelo relacional tradicional.\n",
    "- Projetados para lidar com grandes volumes de dados distribuídos e não estruturados.\n",
    "- Exemplos de bancos de dados NoSQL incluem: MongoDB, Cassandra, CouchDB, Redis, entre outros.\n",
    "\n",
    "---\n",
    "\n",
    "## Tipos de Bancos de Dados NoSQL\n",
    "1. **Orientados a Documentos**:\n",
    "   - Armazenam dados no formato JSON ou BSON.\n",
    "   - Exemplos: MongoDB, CouchDB.\n",
    "   \n",
    "   \n",
    "2. **Chave-Valor**:\n",
    "   - Cada item é armazenado como um par de chave e valor.\n",
    "   - Exemplos: Redis, DynamoDB.\n",
    "   \n",
    "   \n",
    "3. **Colunas Largas**:\n",
    "   - Armazenam dados em tabelas, mas permitem flexibilidade no número de colunas por linha.\n",
    "   - Exemplos: Cassandra, HBase.\n",
    "   \n",
    "   \n",
    "4. **Grafos**:\n",
    "   - Armazenam dados na forma de nós e arestas, ideais para representar relações complexas.\n",
    "   - Exemplos: Neo4j, ArangoDB.\n",
    "\n",
    "---\n",
    "\n",
    "## 3.1 Principais Conceitos no MongoDB\n",
    "\n",
    "### 1. **Coleções**\n",
    "- Conjuntos de documentos, equivalentes a tabelas em bancos de dados relacionais.\n",
    "- Não exigem um esquema fixo, permitindo flexibilidade nos dados armazenados.\n",
    "\n",
    "### 2. **Documentos**\n",
    "- Unidade básica de dados no MongoDB.\n",
    "- Representados em JSON ou BSON (Binária).\n",
    "- Contêm pares de chave-valor e podem ser aninhados (ou seja, conter subdocumentos).\n",
    "\n",
    "Exemplo de Documento:\n",
    "```json\n",
    "{\n",
    "  \"nome\": \"João\",\n",
    "  \"idade\": 30,\n",
    "  \"enderecos\": [\n",
    "    { \"rua\": \"Rua A\", \"cidade\": \"São Paulo\" },\n",
    "    { \"rua\": \"Rua B\", \"cidade\": \"Rio de Janeiro\" }\n",
    "  ]\n",
    "}\n"
   ]
  },
  {
   "cell_type": "markdown",
   "id": "161c818f",
   "metadata": {
    "id": "161c818f"
   },
   "source": [
    "## 3.2 Tutorial: Usando MongoDB com Python e Pandas\n",
    "\n",
    "## Pré-requisitos\n",
    "\n",
    "Antes de começar, certifique-se de que você possui as bibliotecas necessárias instaladas:\n",
    "\n",
    "1. Instale o driver do MongoDB para Python:\n",
    "   ```bash\n",
    "   pip install pymongo\n"
   ]
  },
  {
   "cell_type": "markdown",
   "id": "0c73fb52",
   "metadata": {
    "id": "0c73fb52"
   },
   "source": [
    "## Mini Tutorial: Instalação do MongoDB\n",
    "\n",
    "## O que é MongoDB?\n",
    "MongoDB é um banco de dados NoSQL, orientado a documentos, que armazena dados no formato JSON/BSON. É amplamente utilizado por sua flexibilidade e escalabilidade.\n",
    "\n",
    "---\n",
    "\n",
    "## Passo a Passo para Instalação\n",
    "\n",
    "### 1. Baixando o MongoDB\n",
    "1. Acesse o site oficial do MongoDB: [https://www.mongodb.com/try/download/community](https://www.mongodb.com/try/download/community).\n",
    "2. Escolha sua plataforma (Windows, macOS, Linux).\n",
    "3. Baixe a versão **Community Server**.\n",
    "\n",
    "---\n",
    "\n",
    "### 2. Instalando no Windows\n",
    "1. Execute o instalador baixado.\n",
    "2. Siga as etapas do assistente de instalação:\n",
    "   - Aceite os termos de licença.\n",
    "   - Escolha a opção **Complete**.\n",
    "   - Marque a opção para instalar o **MongoDB Compass** (interface gráfica opcional).\n",
    "3. Após a instalação, adicione o diretório `bin` do MongoDB ao **PATH** do sistema:\n",
    "   - Vá até `Configurações > Sistema > Sobre > Configurações avançadas do sistema`.\n",
    "   - Adicione `C:\\Program Files\\MongoDB\\Server\\<versão>\\bin` ao PATH.\n",
    "4. Abra o Prompt de Comando e verifique a instalação:\n",
    "   ```bash\n",
    "   mongod --version\n",
    "\n",
    "5. Ferramentas Adicionais\n",
    "- MongoDB Compass: Interface gráfica para gerenciar seus bancos de dados.\n",
    "- MongoDB Atlas: Serviço de MongoDB na nuvem."
   ]
  },
  {
   "cell_type": "code",
   "execution_count": 14,
   "id": "d1464ad7",
   "metadata": {
    "id": "d1464ad7"
   },
   "outputs": [
    {
     "name": "stdout",
     "output_type": "stream",
     "text": [
      "Collecting pymongo\n",
      "  Downloading pymongo-4.10.1-cp39-cp39-manylinux_2_17_x86_64.manylinux2014_x86_64.whl (1.2 MB)\n",
      "\u001b[2K     \u001b[90m━━━━━━━━━━━━━━━━━━━━━━━━━━━━━━━━━━━━━━━━\u001b[0m \u001b[32m1.2/1.2 MB\u001b[0m \u001b[31m15.5 MB/s\u001b[0m eta \u001b[36m0:00:00\u001b[0m00:01\u001b[0m00:01\u001b[0m\n",
      "\u001b[?25hCollecting dnspython<3.0.0,>=1.16.0\n",
      "  Downloading dnspython-2.7.0-py3-none-any.whl (313 kB)\n",
      "\u001b[2K     \u001b[90m━━━━━━━━━━━━━━━━━━━━━━━━━━━━━━━━━━━━━━\u001b[0m \u001b[32m313.6/313.6 kB\u001b[0m \u001b[31m19.0 MB/s\u001b[0m eta \u001b[36m0:00:00\u001b[0m\n",
      "\u001b[?25hInstalling collected packages: dnspython, pymongo\n",
      "Successfully installed dnspython-2.7.0 pymongo-4.10.1\n"
     ]
    }
   ],
   "source": [
    "!pip install pymongo"
   ]
  },
  {
   "cell_type": "markdown",
   "id": "3dc836ec",
   "metadata": {
    "id": "3dc836ec"
   },
   "source": [
    "## 3.3 Conectando ao MongoDB\n",
    "\n",
    "O primeiro passo é estabelecer uma conexão com o servidor MongoDB."
   ]
  },
  {
   "cell_type": "code",
   "execution_count": 81,
   "id": "89d87ff9",
   "metadata": {
    "id": "89d87ff9",
    "outputId": "57193bcc-bd36-48ed-a7f4-98e3d59a34b4"
   },
   "outputs": [
    {
     "name": "stdout",
     "output_type": "stream",
     "text": [
      "Conexão com o MongoDB estabelecida!\n"
     ]
    }
   ],
   "source": [
    "from pymongo import MongoClient\n",
    "\n",
    "# Conecte ao servidor MongoDB\n",
    "client = MongoClient('mongodb://localhost:27017/')\n",
    "\n",
    "# Crie ou conecte-se ao banco de dados\n",
    "db = client['exemplo_db']\n",
    "\n",
    "# Crie ou conecte-se à coleção\n",
    "collection = db['exemplo_colecao']\n",
    "\n",
    "print(\"Conexão com o MongoDB estabelecida!\")"
   ]
  },
  {
   "cell_type": "markdown",
   "id": "648c1ab2",
   "metadata": {
    "id": "648c1ab2"
   },
   "source": [
    "### Inserindo Dados\n",
    "\n",
    "#### Inserir um único documento"
   ]
  },
  {
   "cell_type": "code",
   "execution_count": 82,
   "id": "b6b0ffed",
   "metadata": {
    "id": "b6b0ffed",
    "outputId": "1bc09dd8-2b51-4f4b-b40b-f316f612d30e",
    "scrolled": false
   },
   "outputs": [
    {
     "name": "stdout",
     "output_type": "stream",
     "text": [
      "Documento inserido com sucesso!\n"
     ]
    }
   ],
   "source": [
    "# Inserir um único documento\n",
    "documento = {\"nome\": \"Nivardo\", \"idade\": 30, \"cidade\": \"Fortaleza\"}\n",
    "collection.insert_one(documento)\n",
    "print(\"Documento inserido com sucesso!\")\n"
   ]
  },
  {
   "cell_type": "markdown",
   "id": "7ee6e086",
   "metadata": {
    "id": "7ee6e086"
   },
   "source": [
    "#### Inserir múltiplos documento"
   ]
  },
  {
   "cell_type": "code",
   "execution_count": 83,
   "id": "2e447515",
   "metadata": {
    "id": "2e447515",
    "outputId": "f4117717-55de-4a7f-cf18-5d0b438c8886"
   },
   "outputs": [
    {
     "name": "stdout",
     "output_type": "stream",
     "text": [
      "Múltiplos documentos inseridos com sucesso!\n"
     ]
    }
   ],
   "source": [
    "# Inserir múltiplos documentos\n",
    "documentos = [\n",
    "    {\"nome\": \"Natiara\", \"idade\": 25, \"cidade\": \"Rio de Janeiro\"},\n",
    "    {\"nome\": \"mariana\", \"idade\": 35, \"cidade\": \"Belo Horizonte\"},\n",
    "    {\"nome\": \"Antonio\", \"idade\": 28, \"cidade\": \"Fortaleza\"}\n",
    "]\n",
    "collection.insert_many(documentos)\n",
    "print(\"Múltiplos documentos inseridos com sucesso!\")"
   ]
  },
  {
   "cell_type": "markdown",
   "id": "1cb517cf",
   "metadata": {
    "id": "1cb517cf"
   },
   "source": [
    "### Selecionando Dados\n",
    "\n",
    "#### Selecionar todos os documentos"
   ]
  },
  {
   "cell_type": "code",
   "execution_count": 85,
   "id": "ba6b84b8",
   "metadata": {
    "id": "ba6b84b8",
    "outputId": "beea772d-25f4-430d-814d-f9616ee51230"
   },
   "outputs": [
    {
     "data": {
      "text/html": [
       "<div>\n",
       "<style scoped>\n",
       "    .dataframe tbody tr th:only-of-type {\n",
       "        vertical-align: middle;\n",
       "    }\n",
       "\n",
       "    .dataframe tbody tr th {\n",
       "        vertical-align: top;\n",
       "    }\n",
       "\n",
       "    .dataframe thead th {\n",
       "        text-align: right;\n",
       "    }\n",
       "</style>\n",
       "<table border=\"1\" class=\"dataframe\">\n",
       "  <thead>\n",
       "    <tr style=\"text-align: right;\">\n",
       "      <th></th>\n",
       "      <th>_id</th>\n",
       "      <th>nome</th>\n",
       "      <th>idade</th>\n",
       "      <th>cidade</th>\n",
       "    </tr>\n",
       "  </thead>\n",
       "  <tbody>\n",
       "    <tr>\n",
       "      <th>0</th>\n",
       "      <td>674890f8741ddf4ca663dfbb</td>\n",
       "      <td>João</td>\n",
       "      <td>30</td>\n",
       "      <td>Curitiba</td>\n",
       "    </tr>\n",
       "    <tr>\n",
       "      <th>1</th>\n",
       "      <td>674890fa741ddf4ca663dfbd</td>\n",
       "      <td>Pedro</td>\n",
       "      <td>35</td>\n",
       "      <td>Belo Horizonte</td>\n",
       "    </tr>\n",
       "    <tr>\n",
       "      <th>2</th>\n",
       "      <td>674890fd741ddf4ca663dfc0</td>\n",
       "      <td>Pedro</td>\n",
       "      <td>35</td>\n",
       "      <td>Belo Horizonte</td>\n",
       "    </tr>\n",
       "    <tr>\n",
       "      <th>3</th>\n",
       "      <td>674890fd741ddf4ca663dfc2</td>\n",
       "      <td>Carlos</td>\n",
       "      <td>40</td>\n",
       "      <td>Brasília</td>\n",
       "    </tr>\n",
       "    <tr>\n",
       "      <th>4</th>\n",
       "      <td>674890fd741ddf4ca663dfc3</td>\n",
       "      <td>Fernanda</td>\n",
       "      <td>32</td>\n",
       "      <td>Salvador</td>\n",
       "    </tr>\n",
       "    <tr>\n",
       "      <th>5</th>\n",
       "      <td>6748945c741ddf4ca663dfc4</td>\n",
       "      <td>João</td>\n",
       "      <td>30</td>\n",
       "      <td>São Paulo</td>\n",
       "    </tr>\n",
       "    <tr>\n",
       "      <th>6</th>\n",
       "      <td>674894a0741ddf4ca663dfc5</td>\n",
       "      <td>Carlos</td>\n",
       "      <td>40</td>\n",
       "      <td>Brasília</td>\n",
       "    </tr>\n",
       "    <tr>\n",
       "      <th>7</th>\n",
       "      <td>674894a0741ddf4ca663dfc6</td>\n",
       "      <td>Fernanda</td>\n",
       "      <td>32</td>\n",
       "      <td>Salvador</td>\n",
       "    </tr>\n",
       "    <tr>\n",
       "      <th>8</th>\n",
       "      <td>6748b37ad59003f746df97e0</td>\n",
       "      <td>Nivardo</td>\n",
       "      <td>30</td>\n",
       "      <td>Fortaleza</td>\n",
       "    </tr>\n",
       "    <tr>\n",
       "      <th>9</th>\n",
       "      <td>6748b3a0d59003f746df97e1</td>\n",
       "      <td>Natiara</td>\n",
       "      <td>25</td>\n",
       "      <td>Rio de Janeiro</td>\n",
       "    </tr>\n",
       "    <tr>\n",
       "      <th>10</th>\n",
       "      <td>6748b3a0d59003f746df97e2</td>\n",
       "      <td>mariana</td>\n",
       "      <td>35</td>\n",
       "      <td>Belo Horizonte</td>\n",
       "    </tr>\n",
       "    <tr>\n",
       "      <th>11</th>\n",
       "      <td>6748b3a0d59003f746df97e3</td>\n",
       "      <td>Antonio</td>\n",
       "      <td>28</td>\n",
       "      <td>Fortaleza</td>\n",
       "    </tr>\n",
       "  </tbody>\n",
       "</table>\n",
       "</div>"
      ],
      "text/plain": [
       "                         _id      nome  idade          cidade\n",
       "0   674890f8741ddf4ca663dfbb      João     30        Curitiba\n",
       "1   674890fa741ddf4ca663dfbd     Pedro     35  Belo Horizonte\n",
       "2   674890fd741ddf4ca663dfc0     Pedro     35  Belo Horizonte\n",
       "3   674890fd741ddf4ca663dfc2    Carlos     40        Brasília\n",
       "4   674890fd741ddf4ca663dfc3  Fernanda     32        Salvador\n",
       "5   6748945c741ddf4ca663dfc4      João     30       São Paulo\n",
       "6   674894a0741ddf4ca663dfc5    Carlos     40        Brasília\n",
       "7   674894a0741ddf4ca663dfc6  Fernanda     32        Salvador\n",
       "8   6748b37ad59003f746df97e0   Nivardo     30       Fortaleza\n",
       "9   6748b3a0d59003f746df97e1   Natiara     25  Rio de Janeiro\n",
       "10  6748b3a0d59003f746df97e2   mariana     35  Belo Horizonte\n",
       "11  6748b3a0d59003f746df97e3   Antonio     28       Fortaleza"
      ]
     },
     "execution_count": 85,
     "metadata": {},
     "output_type": "execute_result"
    }
   ],
   "source": [
    "import pandas as pd\n",
    "\n",
    "# Buscar todos os documentos\n",
    "resultados = collection.find()\n",
    "\n",
    "# Converter os resultados em um DataFrame do pandas\n",
    "df = pd.DataFrame(resultados)\n",
    "df"
   ]
  },
  {
   "cell_type": "markdown",
   "id": "92dc9dda",
   "metadata": {
    "id": "92dc9dda"
   },
   "source": [
    "#### Selecionar com critérios (filtro)"
   ]
  },
  {
   "cell_type": "code",
   "execution_count": 87,
   "id": "84d8d08f",
   "metadata": {
    "id": "84d8d08f",
    "outputId": "4e6dbf19-3058-4af3-b669-5b514de09876",
    "scrolled": true
   },
   "outputs": [
    {
     "data": {
      "text/html": [
       "<div>\n",
       "<style scoped>\n",
       "    .dataframe tbody tr th:only-of-type {\n",
       "        vertical-align: middle;\n",
       "    }\n",
       "\n",
       "    .dataframe tbody tr th {\n",
       "        vertical-align: top;\n",
       "    }\n",
       "\n",
       "    .dataframe thead th {\n",
       "        text-align: right;\n",
       "    }\n",
       "</style>\n",
       "<table border=\"1\" class=\"dataframe\">\n",
       "  <thead>\n",
       "    <tr style=\"text-align: right;\">\n",
       "      <th></th>\n",
       "      <th>_id</th>\n",
       "      <th>nome</th>\n",
       "      <th>idade</th>\n",
       "      <th>cidade</th>\n",
       "    </tr>\n",
       "  </thead>\n",
       "  <tbody>\n",
       "    <tr>\n",
       "      <th>0</th>\n",
       "      <td>674890f8741ddf4ca663dfbb</td>\n",
       "      <td>João</td>\n",
       "      <td>30</td>\n",
       "      <td>Curitiba</td>\n",
       "    </tr>\n",
       "    <tr>\n",
       "      <th>1</th>\n",
       "      <td>674890fa741ddf4ca663dfbd</td>\n",
       "      <td>Pedro</td>\n",
       "      <td>35</td>\n",
       "      <td>Belo Horizonte</td>\n",
       "    </tr>\n",
       "    <tr>\n",
       "      <th>2</th>\n",
       "      <td>674890fd741ddf4ca663dfc0</td>\n",
       "      <td>Pedro</td>\n",
       "      <td>35</td>\n",
       "      <td>Belo Horizonte</td>\n",
       "    </tr>\n",
       "    <tr>\n",
       "      <th>3</th>\n",
       "      <td>674890fd741ddf4ca663dfc2</td>\n",
       "      <td>Carlos</td>\n",
       "      <td>40</td>\n",
       "      <td>Brasília</td>\n",
       "    </tr>\n",
       "    <tr>\n",
       "      <th>4</th>\n",
       "      <td>674890fd741ddf4ca663dfc3</td>\n",
       "      <td>Fernanda</td>\n",
       "      <td>32</td>\n",
       "      <td>Salvador</td>\n",
       "    </tr>\n",
       "    <tr>\n",
       "      <th>5</th>\n",
       "      <td>6748945c741ddf4ca663dfc4</td>\n",
       "      <td>João</td>\n",
       "      <td>30</td>\n",
       "      <td>São Paulo</td>\n",
       "    </tr>\n",
       "    <tr>\n",
       "      <th>6</th>\n",
       "      <td>674894a0741ddf4ca663dfc5</td>\n",
       "      <td>Carlos</td>\n",
       "      <td>40</td>\n",
       "      <td>Brasília</td>\n",
       "    </tr>\n",
       "    <tr>\n",
       "      <th>7</th>\n",
       "      <td>674894a0741ddf4ca663dfc6</td>\n",
       "      <td>Fernanda</td>\n",
       "      <td>32</td>\n",
       "      <td>Salvador</td>\n",
       "    </tr>\n",
       "    <tr>\n",
       "      <th>8</th>\n",
       "      <td>6748b37ad59003f746df97e0</td>\n",
       "      <td>Nivardo</td>\n",
       "      <td>30</td>\n",
       "      <td>Fortaleza</td>\n",
       "    </tr>\n",
       "    <tr>\n",
       "      <th>9</th>\n",
       "      <td>6748b3a0d59003f746df97e1</td>\n",
       "      <td>Natiara</td>\n",
       "      <td>25</td>\n",
       "      <td>Rio de Janeiro</td>\n",
       "    </tr>\n",
       "    <tr>\n",
       "      <th>10</th>\n",
       "      <td>6748b3a0d59003f746df97e2</td>\n",
       "      <td>mariana</td>\n",
       "      <td>35</td>\n",
       "      <td>Belo Horizonte</td>\n",
       "    </tr>\n",
       "    <tr>\n",
       "      <th>11</th>\n",
       "      <td>6748b3a0d59003f746df97e3</td>\n",
       "      <td>Antonio</td>\n",
       "      <td>28</td>\n",
       "      <td>Fortaleza</td>\n",
       "    </tr>\n",
       "  </tbody>\n",
       "</table>\n",
       "</div>"
      ],
      "text/plain": [
       "                         _id      nome  idade          cidade\n",
       "0   674890f8741ddf4ca663dfbb      João     30        Curitiba\n",
       "1   674890fa741ddf4ca663dfbd     Pedro     35  Belo Horizonte\n",
       "2   674890fd741ddf4ca663dfc0     Pedro     35  Belo Horizonte\n",
       "3   674890fd741ddf4ca663dfc2    Carlos     40        Brasília\n",
       "4   674890fd741ddf4ca663dfc3  Fernanda     32        Salvador\n",
       "5   6748945c741ddf4ca663dfc4      João     30       São Paulo\n",
       "6   674894a0741ddf4ca663dfc5    Carlos     40        Brasília\n",
       "7   674894a0741ddf4ca663dfc6  Fernanda     32        Salvador\n",
       "8   6748b37ad59003f746df97e0   Nivardo     30       Fortaleza\n",
       "9   6748b3a0d59003f746df97e1   Natiara     25  Rio de Janeiro\n",
       "10  6748b3a0d59003f746df97e2   mariana     35  Belo Horizonte\n",
       "11  6748b3a0d59003f746df97e3   Antonio     28       Fortaleza"
      ]
     },
     "execution_count": 87,
     "metadata": {},
     "output_type": "execute_result"
    }
   ],
   "source": [
    "# Buscar documentos com idade maior que 30:\n",
    "\n",
    "resultados = collection.find({\"idade\": {\"$gt\": 20}}) # greater than ($gt) -> Maior que\n",
    "df_filtrado = pd.DataFrame(resultados)\n",
    "df_filtrado"
   ]
  },
  {
   "cell_type": "code",
   "execution_count": 89,
   "id": "d062e1e1",
   "metadata": {
    "id": "d062e1e1",
    "outputId": "93da4c64-da15-4458-a867-fa77a88fb5e2"
   },
   "outputs": [
    {
     "data": {
      "text/html": [
       "<div>\n",
       "<style scoped>\n",
       "    .dataframe tbody tr th:only-of-type {\n",
       "        vertical-align: middle;\n",
       "    }\n",
       "\n",
       "    .dataframe tbody tr th {\n",
       "        vertical-align: top;\n",
       "    }\n",
       "\n",
       "    .dataframe thead th {\n",
       "        text-align: right;\n",
       "    }\n",
       "</style>\n",
       "<table border=\"1\" class=\"dataframe\">\n",
       "  <thead>\n",
       "    <tr style=\"text-align: right;\">\n",
       "      <th></th>\n",
       "      <th>_id</th>\n",
       "      <th>nome</th>\n",
       "      <th>idade</th>\n",
       "      <th>cidade</th>\n",
       "    </tr>\n",
       "  </thead>\n",
       "  <tbody>\n",
       "    <tr>\n",
       "      <th>0</th>\n",
       "      <td>674890f8741ddf4ca663dfbb</td>\n",
       "      <td>João</td>\n",
       "      <td>30</td>\n",
       "      <td>Curitiba</td>\n",
       "    </tr>\n",
       "    <tr>\n",
       "      <th>1</th>\n",
       "      <td>674890fd741ddf4ca663dfc3</td>\n",
       "      <td>Fernanda</td>\n",
       "      <td>32</td>\n",
       "      <td>Salvador</td>\n",
       "    </tr>\n",
       "    <tr>\n",
       "      <th>2</th>\n",
       "      <td>6748945c741ddf4ca663dfc4</td>\n",
       "      <td>João</td>\n",
       "      <td>30</td>\n",
       "      <td>São Paulo</td>\n",
       "    </tr>\n",
       "    <tr>\n",
       "      <th>3</th>\n",
       "      <td>674894a0741ddf4ca663dfc6</td>\n",
       "      <td>Fernanda</td>\n",
       "      <td>32</td>\n",
       "      <td>Salvador</td>\n",
       "    </tr>\n",
       "    <tr>\n",
       "      <th>4</th>\n",
       "      <td>6748b37ad59003f746df97e0</td>\n",
       "      <td>Nivardo</td>\n",
       "      <td>30</td>\n",
       "      <td>Fortaleza</td>\n",
       "    </tr>\n",
       "    <tr>\n",
       "      <th>5</th>\n",
       "      <td>6748b3a0d59003f746df97e1</td>\n",
       "      <td>Natiara</td>\n",
       "      <td>25</td>\n",
       "      <td>Rio de Janeiro</td>\n",
       "    </tr>\n",
       "    <tr>\n",
       "      <th>6</th>\n",
       "      <td>6748b3a0d59003f746df97e3</td>\n",
       "      <td>Antonio</td>\n",
       "      <td>28</td>\n",
       "      <td>Fortaleza</td>\n",
       "    </tr>\n",
       "  </tbody>\n",
       "</table>\n",
       "</div>"
      ],
      "text/plain": [
       "                        _id      nome  idade          cidade\n",
       "0  674890f8741ddf4ca663dfbb      João     30        Curitiba\n",
       "1  674890fd741ddf4ca663dfc3  Fernanda     32        Salvador\n",
       "2  6748945c741ddf4ca663dfc4      João     30       São Paulo\n",
       "3  674894a0741ddf4ca663dfc6  Fernanda     32        Salvador\n",
       "4  6748b37ad59003f746df97e0   Nivardo     30       Fortaleza\n",
       "5  6748b3a0d59003f746df97e1   Natiara     25  Rio de Janeiro\n",
       "6  6748b3a0d59003f746df97e3   Antonio     28       Fortaleza"
      ]
     },
     "execution_count": 89,
     "metadata": {},
     "output_type": "execute_result"
    }
   ],
   "source": [
    "# Buscar documentos onde a idade seja menor ou igual a 32:\n",
    "\n",
    "resultados = collection.find({\"idade\": {\"$lte\": 32}})\n",
    "df = pd.DataFrame(resultados)\n",
    "df"
   ]
  },
  {
   "cell_type": "code",
   "execution_count": 92,
   "id": "58e75349",
   "metadata": {
    "id": "58e75349",
    "outputId": "e7dcd879-bb60-4fa0-d02e-6a50df3fd4c7"
   },
   "outputs": [
    {
     "data": {
      "text/html": [
       "<div>\n",
       "<style scoped>\n",
       "    .dataframe tbody tr th:only-of-type {\n",
       "        vertical-align: middle;\n",
       "    }\n",
       "\n",
       "    .dataframe tbody tr th {\n",
       "        vertical-align: top;\n",
       "    }\n",
       "\n",
       "    .dataframe thead th {\n",
       "        text-align: right;\n",
       "    }\n",
       "</style>\n",
       "<table border=\"1\" class=\"dataframe\">\n",
       "  <thead>\n",
       "    <tr style=\"text-align: right;\">\n",
       "      <th></th>\n",
       "      <th>_id</th>\n",
       "      <th>nome</th>\n",
       "      <th>idade</th>\n",
       "      <th>cidade</th>\n",
       "    </tr>\n",
       "  </thead>\n",
       "  <tbody>\n",
       "    <tr>\n",
       "      <th>0</th>\n",
       "      <td>6748b3a0d59003f746df97e1</td>\n",
       "      <td>Natiara</td>\n",
       "      <td>25</td>\n",
       "      <td>Rio de Janeiro</td>\n",
       "    </tr>\n",
       "  </tbody>\n",
       "</table>\n",
       "</div>"
      ],
      "text/plain": [
       "                        _id     nome  idade          cidade\n",
       "0  6748b3a0d59003f746df97e1  Natiara     25  Rio de Janeiro"
      ]
     },
     "execution_count": 92,
     "metadata": {},
     "output_type": "execute_result"
    }
   ],
   "source": [
    "# Buscar documentos onde a cidade seja \"Salvador\":\n",
    "\n",
    "resultados = collection.find({\"cidade\": \"Rio de Janeiro\"})\n",
    "df = pd.DataFrame(resultados)\n",
    "df"
   ]
  },
  {
   "cell_type": "code",
   "execution_count": 96,
   "id": "94419cf7",
   "metadata": {
    "id": "94419cf7"
   },
   "outputs": [
    {
     "data": {
      "text/html": [
       "<div>\n",
       "<style scoped>\n",
       "    .dataframe tbody tr th:only-of-type {\n",
       "        vertical-align: middle;\n",
       "    }\n",
       "\n",
       "    .dataframe tbody tr th {\n",
       "        vertical-align: top;\n",
       "    }\n",
       "\n",
       "    .dataframe thead th {\n",
       "        text-align: right;\n",
       "    }\n",
       "</style>\n",
       "<table border=\"1\" class=\"dataframe\">\n",
       "  <thead>\n",
       "    <tr style=\"text-align: right;\">\n",
       "      <th></th>\n",
       "      <th>_id</th>\n",
       "      <th>nome</th>\n",
       "      <th>idade</th>\n",
       "      <th>cidade</th>\n",
       "    </tr>\n",
       "  </thead>\n",
       "  <tbody>\n",
       "    <tr>\n",
       "      <th>0</th>\n",
       "      <td>6748b3a0d59003f746df97e1</td>\n",
       "      <td>Natiara</td>\n",
       "      <td>25</td>\n",
       "      <td>Rio de Janeiro</td>\n",
       "    </tr>\n",
       "  </tbody>\n",
       "</table>\n",
       "</div>"
      ],
      "text/plain": [
       "                        _id     nome  idade          cidade\n",
       "0  6748b3a0d59003f746df97e1  Natiara     25  Rio de Janeiro"
      ]
     },
     "execution_count": 96,
     "metadata": {},
     "output_type": "execute_result"
    }
   ],
   "source": [
    "# Buscar documentos onde a idade seja 28 e a cidade seja \"Fortaleza\":\n",
    "\n",
    "resultados = collection.find({\"idade\": 25, \"cidade\": \"Rio de Janeiro\"})\n",
    "df = pd.DataFrame(resultados)\n",
    "df"
   ]
  },
  {
   "cell_type": "code",
   "execution_count": 97,
   "id": "1ae592c4",
   "metadata": {
    "id": "1ae592c4"
   },
   "outputs": [
    {
     "data": {
      "text/html": [
       "<div>\n",
       "<style scoped>\n",
       "    .dataframe tbody tr th:only-of-type {\n",
       "        vertical-align: middle;\n",
       "    }\n",
       "\n",
       "    .dataframe tbody tr th {\n",
       "        vertical-align: top;\n",
       "    }\n",
       "\n",
       "    .dataframe thead th {\n",
       "        text-align: right;\n",
       "    }\n",
       "</style>\n",
       "<table border=\"1\" class=\"dataframe\">\n",
       "  <thead>\n",
       "    <tr style=\"text-align: right;\">\n",
       "      <th></th>\n",
       "      <th>_id</th>\n",
       "      <th>nome</th>\n",
       "      <th>idade</th>\n",
       "      <th>cidade</th>\n",
       "    </tr>\n",
       "  </thead>\n",
       "  <tbody>\n",
       "    <tr>\n",
       "      <th>0</th>\n",
       "      <td>674890f8741ddf4ca663dfbb</td>\n",
       "      <td>João</td>\n",
       "      <td>30</td>\n",
       "      <td>Curitiba</td>\n",
       "    </tr>\n",
       "    <tr>\n",
       "      <th>1</th>\n",
       "      <td>6748945c741ddf4ca663dfc4</td>\n",
       "      <td>João</td>\n",
       "      <td>30</td>\n",
       "      <td>São Paulo</td>\n",
       "    </tr>\n",
       "    <tr>\n",
       "      <th>2</th>\n",
       "      <td>6748b37ad59003f746df97e0</td>\n",
       "      <td>Nivardo</td>\n",
       "      <td>30</td>\n",
       "      <td>Fortaleza</td>\n",
       "    </tr>\n",
       "    <tr>\n",
       "      <th>3</th>\n",
       "      <td>6748b3a0d59003f746df97e1</td>\n",
       "      <td>Natiara</td>\n",
       "      <td>25</td>\n",
       "      <td>Rio de Janeiro</td>\n",
       "    </tr>\n",
       "  </tbody>\n",
       "</table>\n",
       "</div>"
      ],
      "text/plain": [
       "                        _id     nome  idade          cidade\n",
       "0  674890f8741ddf4ca663dfbb     João     30        Curitiba\n",
       "1  6748945c741ddf4ca663dfc4     João     30       São Paulo\n",
       "2  6748b37ad59003f746df97e0  Nivardo     30       Fortaleza\n",
       "3  6748b3a0d59003f746df97e1  Natiara     25  Rio de Janeiro"
      ]
     },
     "execution_count": 97,
     "metadata": {},
     "output_type": "execute_result"
    }
   ],
   "source": [
    "# Buscar documentos onde a idade seja 30 ou a cidade seja \"Rio de Janeiro\":\n",
    "\n",
    "resultados = collection.find({\"$or\": [{\"idade\": 30}, {\"cidade\": \"Rio de Janeiro\"}]})\n",
    "df = pd.DataFrame(resultados)\n",
    "df"
   ]
  },
  {
   "cell_type": "code",
   "execution_count": 98,
   "id": "154f681e",
   "metadata": {
    "id": "154f681e"
   },
   "outputs": [
    {
     "data": {
      "text/html": [
       "<div>\n",
       "<style scoped>\n",
       "    .dataframe tbody tr th:only-of-type {\n",
       "        vertical-align: middle;\n",
       "    }\n",
       "\n",
       "    .dataframe tbody tr th {\n",
       "        vertical-align: top;\n",
       "    }\n",
       "\n",
       "    .dataframe thead th {\n",
       "        text-align: right;\n",
       "    }\n",
       "</style>\n",
       "<table border=\"1\" class=\"dataframe\">\n",
       "  <thead>\n",
       "    <tr style=\"text-align: right;\">\n",
       "      <th></th>\n",
       "      <th>_id</th>\n",
       "      <th>nome</th>\n",
       "      <th>idade</th>\n",
       "      <th>cidade</th>\n",
       "    </tr>\n",
       "  </thead>\n",
       "  <tbody>\n",
       "    <tr>\n",
       "      <th>0</th>\n",
       "      <td>6748945c741ddf4ca663dfc4</td>\n",
       "      <td>João</td>\n",
       "      <td>30</td>\n",
       "      <td>São Paulo</td>\n",
       "    </tr>\n",
       "  </tbody>\n",
       "</table>\n",
       "</div>"
      ],
      "text/plain": [
       "                        _id  nome  idade     cidade\n",
       "0  6748945c741ddf4ca663dfc4  João     30  São Paulo"
      ]
     },
     "execution_count": 98,
     "metadata": {},
     "output_type": "execute_result"
    }
   ],
   "source": [
    "# Buscar documentos onde a idade seja maior que 25 e a cidade seja \"São Paulo\":\n",
    "resultados = collection.find({\"$and\": [{\"idade\": {\"$gt\": 25}}, {\"cidade\": \"São Paulo\"}]})\n",
    "df = pd.DataFrame(resultados)\n",
    "df"
   ]
  },
  {
   "cell_type": "code",
   "execution_count": 99,
   "id": "bef8e42e",
   "metadata": {
    "id": "bef8e42e",
    "outputId": "62377a6d-2a52-491d-82df-437c8a586be9",
    "scrolled": true
   },
   "outputs": [
    {
     "data": {
      "text/html": [
       "<div>\n",
       "<style scoped>\n",
       "    .dataframe tbody tr th:only-of-type {\n",
       "        vertical-align: middle;\n",
       "    }\n",
       "\n",
       "    .dataframe tbody tr th {\n",
       "        vertical-align: top;\n",
       "    }\n",
       "\n",
       "    .dataframe thead th {\n",
       "        text-align: right;\n",
       "    }\n",
       "</style>\n",
       "<table border=\"1\" class=\"dataframe\">\n",
       "  <thead>\n",
       "    <tr style=\"text-align: right;\">\n",
       "      <th></th>\n",
       "    </tr>\n",
       "  </thead>\n",
       "  <tbody>\n",
       "  </tbody>\n",
       "</table>\n",
       "</div>"
      ],
      "text/plain": [
       "Empty DataFrame\n",
       "Columns: []\n",
       "Index: []"
      ]
     },
     "execution_count": 99,
     "metadata": {},
     "output_type": "execute_result"
    }
   ],
   "source": [
    "# Buscar documentos que não possuem o campo idade:\n",
    "resultados = collection.find({\"idade\": {\"$exists\": False}})\n",
    "df = pd.DataFrame(resultados)\n",
    "df"
   ]
  },
  {
   "cell_type": "code",
   "execution_count": 101,
   "id": "8c78e357",
   "metadata": {
    "id": "8c78e357",
    "outputId": "35cd3b00-cd62-4194-99d2-1df0441d4022"
   },
   "outputs": [
    {
     "data": {
      "text/html": [
       "<div>\n",
       "<style scoped>\n",
       "    .dataframe tbody tr th:only-of-type {\n",
       "        vertical-align: middle;\n",
       "    }\n",
       "\n",
       "    .dataframe tbody tr th {\n",
       "        vertical-align: top;\n",
       "    }\n",
       "\n",
       "    .dataframe thead th {\n",
       "        text-align: right;\n",
       "    }\n",
       "</style>\n",
       "<table border=\"1\" class=\"dataframe\">\n",
       "  <thead>\n",
       "    <tr style=\"text-align: right;\">\n",
       "      <th></th>\n",
       "      <th>nome</th>\n",
       "      <th>cidade</th>\n",
       "    </tr>\n",
       "  </thead>\n",
       "  <tbody>\n",
       "    <tr>\n",
       "      <th>0</th>\n",
       "      <td>João</td>\n",
       "      <td>Curitiba</td>\n",
       "    </tr>\n",
       "    <tr>\n",
       "      <th>1</th>\n",
       "      <td>Pedro</td>\n",
       "      <td>Belo Horizonte</td>\n",
       "    </tr>\n",
       "    <tr>\n",
       "      <th>2</th>\n",
       "      <td>Pedro</td>\n",
       "      <td>Belo Horizonte</td>\n",
       "    </tr>\n",
       "    <tr>\n",
       "      <th>3</th>\n",
       "      <td>Carlos</td>\n",
       "      <td>Brasília</td>\n",
       "    </tr>\n",
       "    <tr>\n",
       "      <th>4</th>\n",
       "      <td>Fernanda</td>\n",
       "      <td>Salvador</td>\n",
       "    </tr>\n",
       "    <tr>\n",
       "      <th>5</th>\n",
       "      <td>João</td>\n",
       "      <td>São Paulo</td>\n",
       "    </tr>\n",
       "    <tr>\n",
       "      <th>6</th>\n",
       "      <td>Carlos</td>\n",
       "      <td>Brasília</td>\n",
       "    </tr>\n",
       "    <tr>\n",
       "      <th>7</th>\n",
       "      <td>Fernanda</td>\n",
       "      <td>Salvador</td>\n",
       "    </tr>\n",
       "    <tr>\n",
       "      <th>8</th>\n",
       "      <td>Nivardo</td>\n",
       "      <td>Fortaleza</td>\n",
       "    </tr>\n",
       "    <tr>\n",
       "      <th>9</th>\n",
       "      <td>Natiara</td>\n",
       "      <td>Rio de Janeiro</td>\n",
       "    </tr>\n",
       "    <tr>\n",
       "      <th>10</th>\n",
       "      <td>mariana</td>\n",
       "      <td>Belo Horizonte</td>\n",
       "    </tr>\n",
       "    <tr>\n",
       "      <th>11</th>\n",
       "      <td>Antonio</td>\n",
       "      <td>Fortaleza</td>\n",
       "    </tr>\n",
       "  </tbody>\n",
       "</table>\n",
       "</div>"
      ],
      "text/plain": [
       "        nome          cidade\n",
       "0       João        Curitiba\n",
       "1      Pedro  Belo Horizonte\n",
       "2      Pedro  Belo Horizonte\n",
       "3     Carlos        Brasília\n",
       "4   Fernanda        Salvador\n",
       "5       João       São Paulo\n",
       "6     Carlos        Brasília\n",
       "7   Fernanda        Salvador\n",
       "8    Nivardo       Fortaleza\n",
       "9    Natiara  Rio de Janeiro\n",
       "10   mariana  Belo Horizonte\n",
       "11   Antonio       Fortaleza"
      ]
     },
     "execution_count": 101,
     "metadata": {},
     "output_type": "execute_result"
    }
   ],
   "source": [
    "# Buscar documentos, retornando apenas os campos nome e cidade:\n",
    "resultados = collection.find({}, {\"_id\": 0, \"nome\": 1, \"cidade\": 1})\n",
    "df = pd.DataFrame(resultados)\n",
    "df"
   ]
  },
  {
   "cell_type": "markdown",
   "id": "2c9edd9f",
   "metadata": {
    "id": "2c9edd9f"
   },
   "source": [
    "### Atualizando Dados\n",
    "\n",
    "#### Atualizar um único documento"
   ]
  },
  {
   "cell_type": "code",
   "execution_count": 102,
   "id": "291b80f7",
   "metadata": {
    "id": "291b80f7",
    "outputId": "e00e905b-2035-4f5f-ffce-83a8da426894"
   },
   "outputs": [
    {
     "name": "stdout",
     "output_type": "stream",
     "text": [
      "Documento atualizado com sucesso!\n"
     ]
    }
   ],
   "source": [
    "# Atualizar a cidade de um documento com nome \"João\"\n",
    "collection.update_one({\"nome\": \"Natiara\"}, {\"$set\": {\"cidade\": \"Florianópolis\"}})\n",
    "print(\"Documento atualizado com sucesso!\")"
   ]
  },
  {
   "cell_type": "markdown",
   "id": "1f701cd3",
   "metadata": {
    "id": "1f701cd3"
   },
   "source": [
    "#### Atualizar múltiplos documentos"
   ]
  },
  {
   "cell_type": "code",
   "execution_count": 103,
   "id": "38a13df5",
   "metadata": {
    "id": "38a13df5",
    "outputId": "bb77a5c0-e4bc-4e8d-af00-ace466c905b6"
   },
   "outputs": [
    {
     "name": "stdout",
     "output_type": "stream",
     "text": [
      "Múltiplos documentos atualizados com sucesso!\n"
     ]
    }
   ],
   "source": [
    "# Atualizar a idade para 29 para todos com a cidade \"Fortaleza\"\n",
    "collection.update_many({\"cidade\": \"Fortaleza\"}, {\"$set\": {\"idade\": 29}})\n",
    "print(\"Múltiplos documentos atualizados com sucesso!\")"
   ]
  },
  {
   "cell_type": "markdown",
   "id": "a7cf4822",
   "metadata": {
    "id": "a7cf4822"
   },
   "source": [
    "### Removendo Dados\n",
    "\n",
    "#### Remover um único documento"
   ]
  },
  {
   "cell_type": "code",
   "execution_count": 104,
   "id": "23d82a40",
   "metadata": {
    "id": "23d82a40",
    "outputId": "170624df-b90b-46be-a862-48d6537b6e9d"
   },
   "outputs": [
    {
     "name": "stdout",
     "output_type": "stream",
     "text": [
      "Documento removido com sucesso!\n"
     ]
    }
   ],
   "source": [
    "# Remover o documento com nome \"Maria\"\n",
    "collection.delete_one({\"nome\": \"Nivardo\"})\n",
    "print(\"Documento removido com sucesso!\")"
   ]
  },
  {
   "cell_type": "markdown",
   "id": "5ddbc58f",
   "metadata": {
    "id": "5ddbc58f"
   },
   "source": [
    "#### Remover múltiplos documentos\n"
   ]
  },
  {
   "cell_type": "code",
   "execution_count": 105,
   "id": "75baad2b",
   "metadata": {
    "id": "75baad2b",
    "outputId": "3193ac62-a9aa-4d5d-8b37-5c9d7020c442",
    "scrolled": true
   },
   "outputs": [
    {
     "name": "stdout",
     "output_type": "stream",
     "text": [
      "Múltiplos documentos removidos com sucesso!\n"
     ]
    }
   ],
   "source": [
    "# Remover todos os documentos com idade menor que 30\n",
    "collection.delete_many({\"idade\": {\"$lt\": 30}})\n",
    "print(\"Múltiplos documentos removidos com sucesso!\")\n"
   ]
  },
  {
   "cell_type": "markdown",
   "id": "3550443d",
   "metadata": {
    "id": "3550443d"
   },
   "source": [
    "### Integração com Pandas\n",
    "#### Ler dados diretamente do MongoDB em um DataFrame"
   ]
  },
  {
   "cell_type": "code",
   "execution_count": 107,
   "id": "de73e116",
   "metadata": {
    "id": "de73e116",
    "outputId": "3a007b65-0a2a-48d8-ade4-2e856359fd12"
   },
   "outputs": [
    {
     "data": {
      "text/html": [
       "<div>\n",
       "<style scoped>\n",
       "    .dataframe tbody tr th:only-of-type {\n",
       "        vertical-align: middle;\n",
       "    }\n",
       "\n",
       "    .dataframe tbody tr th {\n",
       "        vertical-align: top;\n",
       "    }\n",
       "\n",
       "    .dataframe thead th {\n",
       "        text-align: right;\n",
       "    }\n",
       "</style>\n",
       "<table border=\"1\" class=\"dataframe\">\n",
       "  <thead>\n",
       "    <tr style=\"text-align: right;\">\n",
       "      <th></th>\n",
       "      <th>_id</th>\n",
       "      <th>nome</th>\n",
       "      <th>idade</th>\n",
       "      <th>cidade</th>\n",
       "    </tr>\n",
       "  </thead>\n",
       "  <tbody>\n",
       "    <tr>\n",
       "      <th>0</th>\n",
       "      <td>674890f8741ddf4ca663dfbb</td>\n",
       "      <td>João</td>\n",
       "      <td>30</td>\n",
       "      <td>Curitiba</td>\n",
       "    </tr>\n",
       "    <tr>\n",
       "      <th>1</th>\n",
       "      <td>674890fa741ddf4ca663dfbd</td>\n",
       "      <td>Pedro</td>\n",
       "      <td>35</td>\n",
       "      <td>Belo Horizonte</td>\n",
       "    </tr>\n",
       "    <tr>\n",
       "      <th>2</th>\n",
       "      <td>674890fd741ddf4ca663dfc0</td>\n",
       "      <td>Pedro</td>\n",
       "      <td>35</td>\n",
       "      <td>Belo Horizonte</td>\n",
       "    </tr>\n",
       "    <tr>\n",
       "      <th>3</th>\n",
       "      <td>674890fd741ddf4ca663dfc2</td>\n",
       "      <td>Carlos</td>\n",
       "      <td>40</td>\n",
       "      <td>Brasília</td>\n",
       "    </tr>\n",
       "    <tr>\n",
       "      <th>4</th>\n",
       "      <td>674890fd741ddf4ca663dfc3</td>\n",
       "      <td>Fernanda</td>\n",
       "      <td>32</td>\n",
       "      <td>Salvador</td>\n",
       "    </tr>\n",
       "    <tr>\n",
       "      <th>5</th>\n",
       "      <td>6748945c741ddf4ca663dfc4</td>\n",
       "      <td>João</td>\n",
       "      <td>30</td>\n",
       "      <td>São Paulo</td>\n",
       "    </tr>\n",
       "    <tr>\n",
       "      <th>6</th>\n",
       "      <td>674894a0741ddf4ca663dfc5</td>\n",
       "      <td>Carlos</td>\n",
       "      <td>40</td>\n",
       "      <td>Brasília</td>\n",
       "    </tr>\n",
       "    <tr>\n",
       "      <th>7</th>\n",
       "      <td>674894a0741ddf4ca663dfc6</td>\n",
       "      <td>Fernanda</td>\n",
       "      <td>32</td>\n",
       "      <td>Salvador</td>\n",
       "    </tr>\n",
       "    <tr>\n",
       "      <th>8</th>\n",
       "      <td>6748b3a0d59003f746df97e2</td>\n",
       "      <td>mariana</td>\n",
       "      <td>35</td>\n",
       "      <td>Belo Horizonte</td>\n",
       "    </tr>\n",
       "  </tbody>\n",
       "</table>\n",
       "</div>"
      ],
      "text/plain": [
       "                        _id      nome  idade          cidade\n",
       "0  674890f8741ddf4ca663dfbb      João     30        Curitiba\n",
       "1  674890fa741ddf4ca663dfbd     Pedro     35  Belo Horizonte\n",
       "2  674890fd741ddf4ca663dfc0     Pedro     35  Belo Horizonte\n",
       "3  674890fd741ddf4ca663dfc2    Carlos     40        Brasília\n",
       "4  674890fd741ddf4ca663dfc3  Fernanda     32        Salvador\n",
       "5  6748945c741ddf4ca663dfc4      João     30       São Paulo\n",
       "6  674894a0741ddf4ca663dfc5    Carlos     40        Brasília\n",
       "7  674894a0741ddf4ca663dfc6  Fernanda     32        Salvador\n",
       "8  6748b3a0d59003f746df97e2   mariana     35  Belo Horizonte"
      ]
     },
     "execution_count": 107,
     "metadata": {},
     "output_type": "execute_result"
    }
   ],
   "source": [
    "# Buscar todos os documentos\n",
    "resultados = collection.find()\n",
    "\n",
    "# Converter para DataFrame\n",
    "df = pd.DataFrame(resultados)\n",
    "\n",
    "# Exibir o DataFrame\n",
    "df"
   ]
  },
  {
   "cell_type": "code",
   "execution_count": 110,
   "id": "f7cc03e4",
   "metadata": {},
   "outputs": [
    {
     "data": {
      "text/html": [
       "<div>\n",
       "<style scoped>\n",
       "    .dataframe tbody tr th:only-of-type {\n",
       "        vertical-align: middle;\n",
       "    }\n",
       "\n",
       "    .dataframe tbody tr th {\n",
       "        vertical-align: top;\n",
       "    }\n",
       "\n",
       "    .dataframe thead th {\n",
       "        text-align: right;\n",
       "    }\n",
       "</style>\n",
       "<table border=\"1\" class=\"dataframe\">\n",
       "  <thead>\n",
       "    <tr style=\"text-align: right;\">\n",
       "      <th></th>\n",
       "      <th>_id</th>\n",
       "      <th>nome</th>\n",
       "      <th>idade</th>\n",
       "      <th>cidade</th>\n",
       "    </tr>\n",
       "  </thead>\n",
       "  <tbody>\n",
       "    <tr>\n",
       "      <th>1</th>\n",
       "      <td>674890fa741ddf4ca663dfbd</td>\n",
       "      <td>Pedro</td>\n",
       "      <td>35</td>\n",
       "      <td>Belo Horizonte</td>\n",
       "    </tr>\n",
       "    <tr>\n",
       "      <th>2</th>\n",
       "      <td>674890fd741ddf4ca663dfc0</td>\n",
       "      <td>Pedro</td>\n",
       "      <td>35</td>\n",
       "      <td>Belo Horizonte</td>\n",
       "    </tr>\n",
       "    <tr>\n",
       "      <th>3</th>\n",
       "      <td>674890fd741ddf4ca663dfc2</td>\n",
       "      <td>Carlos</td>\n",
       "      <td>40</td>\n",
       "      <td>Brasília</td>\n",
       "    </tr>\n",
       "    <tr>\n",
       "      <th>4</th>\n",
       "      <td>674890fd741ddf4ca663dfc3</td>\n",
       "      <td>Fernanda</td>\n",
       "      <td>32</td>\n",
       "      <td>Salvador</td>\n",
       "    </tr>\n",
       "    <tr>\n",
       "      <th>6</th>\n",
       "      <td>674894a0741ddf4ca663dfc5</td>\n",
       "      <td>Carlos</td>\n",
       "      <td>40</td>\n",
       "      <td>Brasília</td>\n",
       "    </tr>\n",
       "    <tr>\n",
       "      <th>7</th>\n",
       "      <td>674894a0741ddf4ca663dfc6</td>\n",
       "      <td>Fernanda</td>\n",
       "      <td>32</td>\n",
       "      <td>Salvador</td>\n",
       "    </tr>\n",
       "    <tr>\n",
       "      <th>8</th>\n",
       "      <td>6748b3a0d59003f746df97e2</td>\n",
       "      <td>mariana</td>\n",
       "      <td>35</td>\n",
       "      <td>Belo Horizonte</td>\n",
       "    </tr>\n",
       "  </tbody>\n",
       "</table>\n",
       "</div>"
      ],
      "text/plain": [
       "                        _id      nome  idade          cidade\n",
       "1  674890fa741ddf4ca663dfbd     Pedro     35  Belo Horizonte\n",
       "2  674890fd741ddf4ca663dfc0     Pedro     35  Belo Horizonte\n",
       "3  674890fd741ddf4ca663dfc2    Carlos     40        Brasília\n",
       "4  674890fd741ddf4ca663dfc3  Fernanda     32        Salvador\n",
       "6  674894a0741ddf4ca663dfc5    Carlos     40        Brasília\n",
       "7  674894a0741ddf4ca663dfc6  Fernanda     32        Salvador\n",
       "8  6748b3a0d59003f746df97e2   mariana     35  Belo Horizonte"
      ]
     },
     "execution_count": 110,
     "metadata": {},
     "output_type": "execute_result"
    }
   ],
   "source": [
    "mask_idade = df['idade'] > 30\n",
    "df[mask_idade]"
   ]
  },
  {
   "cell_type": "markdown",
   "id": "8107b3e3",
   "metadata": {
    "id": "8107b3e3"
   },
   "source": [
    "#### Inserir dados de um DataFrame no MongoDB"
   ]
  },
  {
   "cell_type": "code",
   "execution_count": 71,
   "id": "ce7f1e24",
   "metadata": {
    "id": "ce7f1e24",
    "outputId": "15eb3b82-7494-407a-eb94-a1626d882686"
   },
   "outputs": [
    {
     "name": "stdout",
     "output_type": "stream",
     "text": [
      "Dados do DataFrame inseridos no MongoDB com sucesso!\n"
     ]
    }
   ],
   "source": [
    "# Criar um DataFrame\n",
    "novos_dados = pd.DataFrame({\n",
    "    \"nome\": [\"Carlos\", \"Fernanda\"],\n",
    "    \"idade\": [40, 32],\n",
    "    \"cidade\": [\"Brasília\", \"Salvador\"]\n",
    "})\n",
    "\n",
    "# Inserir cada linha do DataFrame como um documento no MongoDB\n",
    "collection.insert_many(novos_dados.to_dict('records'))\n",
    "print(\"Dados do DataFrame inseridos no MongoDB com sucesso!\")\n"
   ]
  },
  {
   "cell_type": "markdown",
   "id": "986b2d4a",
   "metadata": {
    "id": "986b2d4a"
   },
   "source": [
    "## 4. Comparação Resumida\n",
    "\n",
    "| Aspecto                  | SQL                             | NoSQL                         |\n",
    "|--------------------------|---------------------------------|-------------------------------|\n",
    "| **Estrutura de Dados**   | Tabelas fixas, esquema rígido  | Flexível (documentos, grafos, etc.) |\n",
    "| **Consistência**         | ACID (forte)                   | Eventual          |\n",
    "| **Escalabilidade**       | Vertical                       | Horizontal                    |\n",
    "| **Consultas Complexas**  | Suporte robusto (joins)        | Limitado                      |\n",
    "| **Facilidade de Mudança**| Difícil (alterar esquema)      | Fácil                         |\n",
    "| **Volume de Dados**      | Moderado                       | Altamente escalável           |\n",
    "\n",
    "---\n",
    "\n",
    "#### Estrutura de Dados\n",
    "- **SQL**: Utiliza tabelas com esquemas rígidos. Cada tabela tem colunas predefinidas e os dados inseridos devem seguir esse esquema. Isso garante organização, mas dificulta mudanças rápidas.\n",
    "- **NoSQL**: Oferece maior flexibilidade, permitindo diferentes formatos de dados, como documentos (JSON), chave-valor, grafos ou colunas. Ideal para cenários onde o formato dos dados muda frequentemente.\n",
    "\n",
    "#### Consistência\n",
    "- **SQL**: Segue o modelo ACID, garantindo que as transações sejam completamente consistentes. Por exemplo, em um sistema bancário, uma transferência entre contas não pode ser confirmada até que ambas as alterações (débito e crédito) sejam concluídas.\n",
    "- **NoSQL**: Prioriza disponibilidade e desempenho, muitas vezes adotando consistência eventual. Os dados podem levar algum tempo para sincronizar em todos os nós do sistema, o que pode ser aceitável em sistemas como redes sociais.\n",
    "\n",
    "#### Escalabilidade\n",
    "- **SQL**: Escalabilidade vertical, ou seja, para lidar com mais dados ou usuários, é necessário investir em hardware mais potente (e.g., mais memória, processadores).\n",
    "- **NoSQL**: Escalabilidade horizontal, que permite adicionar mais servidores para distribuir a carga. Isso torna o NoSQL mais adequado para grandes volumes de dados e tráfego.\n",
    "\n",
    "#### Consultas Complexas\n",
    "- **SQL**: Excelente para operações avançadas, como junções (joins) entre várias tabelas, agregações e análises complexas.\n",
    "- **NoSQL**: Não suporta operações complexas com a mesma facilidade. Algumas consultas avançadas podem ser difíceis ou até impossíveis sem criar lógica extra na aplicação.\n",
    "\n",
    "#### Facilidade de Mudança\n",
    "- **SQL**: Esquema rígido dificulta mudanças. Alterar a estrutura de uma tabela existente (e.g., adicionar uma nova coluna) pode ser demorado e causar interrupções no sistema.\n",
    "- **NoSQL**: Esquema flexível permite adicionar ou alterar atributos nos dados sem impactos significativos, tornando-o mais adaptável a mudanças frequentes.\n",
    "\n",
    "#### Volume de Dados\n",
    "- **SQL**: Projetado para volumes moderados, como bancos de dados corporativos ou aplicativos de médio porte. O desempenho pode se degradar em cenários com bilhões de registros.\n",
    "- **NoSQL**: Ideal para lidar com grandes volumes de dados, como logs, dados de sensores IoT ou redes sociais. Sua arquitetura distribuída facilita o gerenciamento de enormes quantidades de informações.\n",
    "\n"
   ]
  },
  {
   "cell_type": "markdown",
   "id": "486dd45f",
   "metadata": {
    "id": "486dd45f"
   },
   "source": [
    "### 4.1 Quando Usar Cada Um\n",
    "\n",
    "#### SQL\n",
    "- Quando a **consistência e integridade** dos dados são cruciais.\n",
    "- Em sistemas que têm **dados bem estruturados** e um esquema fixo.\n",
    "- Quando há necessidade de **consultas complexas**.\n",
    "\n",
    "#### NoSQL\n",
    "- Quando se lida com **grandes volumes de dados** ou dados em constante mudança.\n",
    "- Quando a **escalabilidade horizontal** é essencial.\n",
    "- Para armazenar dados **não estruturados** ou semi-estruturados.\n"
   ]
  },
  {
   "cell_type": "code",
   "execution_count": null,
   "id": "14f5916f",
   "metadata": {
    "id": "14f5916f"
   },
   "outputs": [],
   "source": []
  }
 ],
 "metadata": {
  "colab": {
   "provenance": []
  },
  "kernelspec": {
   "display_name": "my_projects",
   "language": "python",
   "name": "python3"
  },
  "language_info": {
   "codemirror_mode": {
    "name": "ipython",
    "version": 3
   },
   "file_extension": ".py",
   "mimetype": "text/x-python",
   "name": "python",
   "nbconvert_exporter": "python",
   "pygments_lexer": "ipython3",
   "version": "3.9.16"
  }
 },
 "nbformat": 4,
 "nbformat_minor": 5
}
