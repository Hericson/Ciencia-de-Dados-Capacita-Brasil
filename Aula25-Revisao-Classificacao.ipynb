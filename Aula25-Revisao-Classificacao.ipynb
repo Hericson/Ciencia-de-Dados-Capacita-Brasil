{
 "cells": [
  {
   "cell_type": "code",
   "execution_count": 148,
   "metadata": {},
   "outputs": [],
   "source": [
    "import numpy as np\n",
    "import pandas as pd\n",
    "import matplotlib.pyplot as plt\n",
    "import seaborn as sns"
   ]
  },
  {
   "cell_type": "markdown",
   "metadata": {},
   "source": [
    "## Projeto de Classificação"
   ]
  },
  {
   "cell_type": "code",
   "execution_count": 149,
   "metadata": {},
   "outputs": [],
   "source": [
    "## Informações de pacientes, o objetivo é classificar em doente ou saudável\n",
    "\n",
    "n_persons = 10000\n",
    "#0: Saudável\n",
    "#1: Doente\n",
    "\n",
    "data = {\n",
    "    'Idade': np.random.randint(20, 80, n_persons),\n",
    "    'IMC': np.random.uniform(10,40, n_persons),\n",
    "    'Nivel de Glicose': np.random.uniform(70, 200, n_persons),\n",
    "    'Pressao': np.random.uniform(60, 80, n_persons),\n",
    "    'Temperatura': np.random.uniform(35, 40, n_persons),\n",
    "    'Estado': np.random.choice([0,1], size=n_persons, p=[0.5, 0.5])\n",
    "}"
   ]
  },
  {
   "cell_type": "code",
   "execution_count": 150,
   "metadata": {},
   "outputs": [
    {
     "data": {
      "text/html": [
       "<div>\n",
       "<style scoped>\n",
       "    .dataframe tbody tr th:only-of-type {\n",
       "        vertical-align: middle;\n",
       "    }\n",
       "\n",
       "    .dataframe tbody tr th {\n",
       "        vertical-align: top;\n",
       "    }\n",
       "\n",
       "    .dataframe thead th {\n",
       "        text-align: right;\n",
       "    }\n",
       "</style>\n",
       "<table border=\"1\" class=\"dataframe\">\n",
       "  <thead>\n",
       "    <tr style=\"text-align: right;\">\n",
       "      <th></th>\n",
       "      <th>Idade</th>\n",
       "      <th>IMC</th>\n",
       "      <th>Nivel de Glicose</th>\n",
       "      <th>Pressao</th>\n",
       "      <th>Temperatura</th>\n",
       "      <th>Estado</th>\n",
       "    </tr>\n",
       "  </thead>\n",
       "  <tbody>\n",
       "    <tr>\n",
       "      <th>0</th>\n",
       "      <td>41</td>\n",
       "      <td>10.265684</td>\n",
       "      <td>99.849644</td>\n",
       "      <td>60.774265</td>\n",
       "      <td>35.005951</td>\n",
       "      <td>0</td>\n",
       "    </tr>\n",
       "    <tr>\n",
       "      <th>1</th>\n",
       "      <td>31</td>\n",
       "      <td>29.249874</td>\n",
       "      <td>137.359735</td>\n",
       "      <td>70.053028</td>\n",
       "      <td>37.326140</td>\n",
       "      <td>0</td>\n",
       "    </tr>\n",
       "    <tr>\n",
       "      <th>2</th>\n",
       "      <td>71</td>\n",
       "      <td>15.422324</td>\n",
       "      <td>130.446392</td>\n",
       "      <td>71.184012</td>\n",
       "      <td>38.453074</td>\n",
       "      <td>1</td>\n",
       "    </tr>\n",
       "    <tr>\n",
       "      <th>3</th>\n",
       "      <td>59</td>\n",
       "      <td>35.103688</td>\n",
       "      <td>111.424026</td>\n",
       "      <td>64.570048</td>\n",
       "      <td>37.939929</td>\n",
       "      <td>1</td>\n",
       "    </tr>\n",
       "    <tr>\n",
       "      <th>4</th>\n",
       "      <td>64</td>\n",
       "      <td>31.482174</td>\n",
       "      <td>138.062939</td>\n",
       "      <td>69.345169</td>\n",
       "      <td>35.017729</td>\n",
       "      <td>0</td>\n",
       "    </tr>\n",
       "    <tr>\n",
       "      <th>...</th>\n",
       "      <td>...</td>\n",
       "      <td>...</td>\n",
       "      <td>...</td>\n",
       "      <td>...</td>\n",
       "      <td>...</td>\n",
       "      <td>...</td>\n",
       "    </tr>\n",
       "    <tr>\n",
       "      <th>9995</th>\n",
       "      <td>77</td>\n",
       "      <td>10.587110</td>\n",
       "      <td>174.285447</td>\n",
       "      <td>71.933726</td>\n",
       "      <td>35.893256</td>\n",
       "      <td>0</td>\n",
       "    </tr>\n",
       "    <tr>\n",
       "      <th>9996</th>\n",
       "      <td>54</td>\n",
       "      <td>34.313532</td>\n",
       "      <td>76.852245</td>\n",
       "      <td>74.006980</td>\n",
       "      <td>37.358108</td>\n",
       "      <td>0</td>\n",
       "    </tr>\n",
       "    <tr>\n",
       "      <th>9997</th>\n",
       "      <td>46</td>\n",
       "      <td>29.137068</td>\n",
       "      <td>97.416654</td>\n",
       "      <td>66.586330</td>\n",
       "      <td>37.748561</td>\n",
       "      <td>1</td>\n",
       "    </tr>\n",
       "    <tr>\n",
       "      <th>9998</th>\n",
       "      <td>68</td>\n",
       "      <td>11.656462</td>\n",
       "      <td>129.089919</td>\n",
       "      <td>75.964427</td>\n",
       "      <td>38.763448</td>\n",
       "      <td>0</td>\n",
       "    </tr>\n",
       "    <tr>\n",
       "      <th>9999</th>\n",
       "      <td>77</td>\n",
       "      <td>35.935207</td>\n",
       "      <td>94.804876</td>\n",
       "      <td>65.003388</td>\n",
       "      <td>37.285932</td>\n",
       "      <td>1</td>\n",
       "    </tr>\n",
       "  </tbody>\n",
       "</table>\n",
       "<p>10000 rows × 6 columns</p>\n",
       "</div>"
      ],
      "text/plain": [
       "      Idade        IMC  Nivel de Glicose    Pressao  Temperatura  Estado\n",
       "0        41  10.265684         99.849644  60.774265    35.005951       0\n",
       "1        31  29.249874        137.359735  70.053028    37.326140       0\n",
       "2        71  15.422324        130.446392  71.184012    38.453074       1\n",
       "3        59  35.103688        111.424026  64.570048    37.939929       1\n",
       "4        64  31.482174        138.062939  69.345169    35.017729       0\n",
       "...     ...        ...               ...        ...          ...     ...\n",
       "9995     77  10.587110        174.285447  71.933726    35.893256       0\n",
       "9996     54  34.313532         76.852245  74.006980    37.358108       0\n",
       "9997     46  29.137068         97.416654  66.586330    37.748561       1\n",
       "9998     68  11.656462        129.089919  75.964427    38.763448       0\n",
       "9999     77  35.935207         94.804876  65.003388    37.285932       1\n",
       "\n",
       "[10000 rows x 6 columns]"
      ]
     },
     "execution_count": 150,
     "metadata": {},
     "output_type": "execute_result"
    }
   ],
   "source": [
    "df = pd.DataFrame(data) #Convertendo dicionário para dataframe\n",
    "df"
   ]
  },
  {
   "cell_type": "code",
   "execution_count": 151,
   "metadata": {},
   "outputs": [],
   "source": [
    "## Adicionar valores nulos de propósito\n",
    "\n",
    "columns_to_add_nan = ['Temperatura', 'IMC']\n",
    "\n",
    "for col in columns_to_add_nan:\n",
    "    selected_person_index = np.random.choice(df.index, size=500)\n",
    "    df.loc[selected_person_index, col] = np.nan"
   ]
  },
  {
   "cell_type": "code",
   "execution_count": 152,
   "metadata": {},
   "outputs": [],
   "source": [
    "size_outliers = 100\n",
    "outlier_temp_high = np.random.uniform(40, 50, size_outliers)\n",
    "outlier_temp_low = np.random.uniform(15, 35, size_outliers)\n",
    "selected_person_index_temp = np.random.choice(df.index, size=size_outliers)\n",
    "df.loc[selected_person_index_temp, 'Temperatura'] = outlier_temp_high\n",
    "\n",
    "selected_person_index_temp = np.random.choice(df.index, size=size_outliers)\n",
    "df.loc[selected_person_index_temp, 'Temperatura'] = outlier_temp_low"
   ]
  },
  {
   "cell_type": "markdown",
   "metadata": {},
   "source": [
    "### Análise Exploratória"
   ]
  },
  {
   "cell_type": "code",
   "execution_count": 153,
   "metadata": {},
   "outputs": [
    {
     "data": {
      "text/html": [
       "<div>\n",
       "<style scoped>\n",
       "    .dataframe tbody tr th:only-of-type {\n",
       "        vertical-align: middle;\n",
       "    }\n",
       "\n",
       "    .dataframe tbody tr th {\n",
       "        vertical-align: top;\n",
       "    }\n",
       "\n",
       "    .dataframe thead th {\n",
       "        text-align: right;\n",
       "    }\n",
       "</style>\n",
       "<table border=\"1\" class=\"dataframe\">\n",
       "  <thead>\n",
       "    <tr style=\"text-align: right;\">\n",
       "      <th></th>\n",
       "      <th>Idade</th>\n",
       "      <th>IMC</th>\n",
       "      <th>Nivel de Glicose</th>\n",
       "      <th>Pressao</th>\n",
       "      <th>Temperatura</th>\n",
       "      <th>Estado</th>\n",
       "    </tr>\n",
       "  </thead>\n",
       "  <tbody>\n",
       "    <tr>\n",
       "      <th>count</th>\n",
       "      <td>10000.000000</td>\n",
       "      <td>9509.000000</td>\n",
       "      <td>10000.000000</td>\n",
       "      <td>10000.000000</td>\n",
       "      <td>9523.000000</td>\n",
       "      <td>10000.000000</td>\n",
       "    </tr>\n",
       "    <tr>\n",
       "      <th>mean</th>\n",
       "      <td>49.552700</td>\n",
       "      <td>24.977812</td>\n",
       "      <td>135.436342</td>\n",
       "      <td>69.930504</td>\n",
       "      <td>37.497676</td>\n",
       "      <td>0.500700</td>\n",
       "    </tr>\n",
       "    <tr>\n",
       "      <th>std</th>\n",
       "      <td>17.458628</td>\n",
       "      <td>8.596970</td>\n",
       "      <td>37.434071</td>\n",
       "      <td>5.760434</td>\n",
       "      <td>2.057040</td>\n",
       "      <td>0.500025</td>\n",
       "    </tr>\n",
       "    <tr>\n",
       "      <th>min</th>\n",
       "      <td>20.000000</td>\n",
       "      <td>10.004175</td>\n",
       "      <td>70.021447</td>\n",
       "      <td>60.001943</td>\n",
       "      <td>15.341953</td>\n",
       "      <td>0.000000</td>\n",
       "    </tr>\n",
       "    <tr>\n",
       "      <th>25%</th>\n",
       "      <td>35.000000</td>\n",
       "      <td>17.659989</td>\n",
       "      <td>102.871868</td>\n",
       "      <td>64.934763</td>\n",
       "      <td>36.261877</td>\n",
       "      <td>0.000000</td>\n",
       "    </tr>\n",
       "    <tr>\n",
       "      <th>50%</th>\n",
       "      <td>49.000000</td>\n",
       "      <td>24.937905</td>\n",
       "      <td>136.495233</td>\n",
       "      <td>69.861068</td>\n",
       "      <td>37.559254</td>\n",
       "      <td>1.000000</td>\n",
       "    </tr>\n",
       "    <tr>\n",
       "      <th>75%</th>\n",
       "      <td>65.000000</td>\n",
       "      <td>32.318929</td>\n",
       "      <td>167.651097</td>\n",
       "      <td>74.980571</td>\n",
       "      <td>38.794194</td>\n",
       "      <td>1.000000</td>\n",
       "    </tr>\n",
       "    <tr>\n",
       "      <th>max</th>\n",
       "      <td>79.000000</td>\n",
       "      <td>39.997901</td>\n",
       "      <td>199.999818</td>\n",
       "      <td>79.999326</td>\n",
       "      <td>49.975540</td>\n",
       "      <td>1.000000</td>\n",
       "    </tr>\n",
       "  </tbody>\n",
       "</table>\n",
       "</div>"
      ],
      "text/plain": [
       "              Idade          IMC  Nivel de Glicose       Pressao  Temperatura  \\\n",
       "count  10000.000000  9509.000000      10000.000000  10000.000000  9523.000000   \n",
       "mean      49.552700    24.977812        135.436342     69.930504    37.497676   \n",
       "std       17.458628     8.596970         37.434071      5.760434     2.057040   \n",
       "min       20.000000    10.004175         70.021447     60.001943    15.341953   \n",
       "25%       35.000000    17.659989        102.871868     64.934763    36.261877   \n",
       "50%       49.000000    24.937905        136.495233     69.861068    37.559254   \n",
       "75%       65.000000    32.318929        167.651097     74.980571    38.794194   \n",
       "max       79.000000    39.997901        199.999818     79.999326    49.975540   \n",
       "\n",
       "             Estado  \n",
       "count  10000.000000  \n",
       "mean       0.500700  \n",
       "std        0.500025  \n",
       "min        0.000000  \n",
       "25%        0.000000  \n",
       "50%        1.000000  \n",
       "75%        1.000000  \n",
       "max        1.000000  "
      ]
     },
     "execution_count": 153,
     "metadata": {},
     "output_type": "execute_result"
    }
   ],
   "source": [
    "## Verificar se o dataframe tem valores nulos\n",
    "\n",
    "df.describe()"
   ]
  },
  {
   "cell_type": "code",
   "execution_count": 154,
   "metadata": {},
   "outputs": [
    {
     "name": "stdout",
     "output_type": "stream",
     "text": [
      "<class 'pandas.core.frame.DataFrame'>\n",
      "RangeIndex: 10000 entries, 0 to 9999\n",
      "Data columns (total 6 columns):\n",
      " #   Column            Non-Null Count  Dtype  \n",
      "---  ------            --------------  -----  \n",
      " 0   Idade             10000 non-null  int64  \n",
      " 1   IMC               9509 non-null   float64\n",
      " 2   Nivel de Glicose  10000 non-null  float64\n",
      " 3   Pressao           10000 non-null  float64\n",
      " 4   Temperatura       9523 non-null   float64\n",
      " 5   Estado            10000 non-null  int64  \n",
      "dtypes: float64(4), int64(2)\n",
      "memory usage: 468.9 KB\n"
     ]
    }
   ],
   "source": [
    "df.info()"
   ]
  },
  {
   "cell_type": "code",
   "execution_count": 155,
   "metadata": {},
   "outputs": [
    {
     "name": "stderr",
     "output_type": "stream",
     "text": [
      "/home/hericson/anaconda3/envs/my_projects/lib/python3.9/site-packages/seaborn/categorical.py:632: FutureWarning: SeriesGroupBy.grouper is deprecated and will be removed in a future version of pandas.\n",
      "  positions = grouped.grouper.result_index.to_numpy(dtype=float)\n"
     ]
    },
    {
     "data": {
      "image/png": "[encoded data removed]",
      "text/plain": [
       "<Figure size 1000x500 with 1 Axes>"
      ]
     },
     "metadata": {},
     "output_type": "display_data"
    }
   ],
   "source": [
    "plt.figure(figsize=[10,5]);\n",
    "sns.boxplot(x=df['Temperatura']);\n",
    "plt.title('Boxplot da Temperatura');"
   ]
  },
  {
   "cell_type": "code",
   "execution_count": 156,
   "metadata": {},
   "outputs": [],
   "source": [
    "## O que fazer com dados faltantes?\n",
    "## Podemos substituir os valores faltantes pela média ou mediana\n",
    "df.fillna(df.median(), inplace=True)"
   ]
  },
  {
   "cell_type": "code",
   "execution_count": 157,
   "metadata": {},
   "outputs": [
    {
     "name": "stdout",
     "output_type": "stream",
     "text": [
      "<class 'pandas.core.frame.DataFrame'>\n",
      "RangeIndex: 10000 entries, 0 to 9999\n",
      "Data columns (total 6 columns):\n",
      " #   Column            Non-Null Count  Dtype  \n",
      "---  ------            --------------  -----  \n",
      " 0   Idade             10000 non-null  int64  \n",
      " 1   IMC               10000 non-null  float64\n",
      " 2   Nivel de Glicose  10000 non-null  float64\n",
      " 3   Pressao           10000 non-null  float64\n",
      " 4   Temperatura       10000 non-null  float64\n",
      " 5   Estado            10000 non-null  int64  \n",
      "dtypes: float64(4), int64(2)\n",
      "memory usage: 468.9 KB\n"
     ]
    }
   ],
   "source": [
    "df.info()"
   ]
  },
  {
   "cell_type": "markdown",
   "metadata": {},
   "source": [
    "### Pré-Processamento dos dados"
   ]
  },
  {
   "cell_type": "code",
   "execution_count": 158,
   "metadata": {},
   "outputs": [
    {
     "data": {
      "text/html": [
       "<div>\n",
       "<style scoped>\n",
       "    .dataframe tbody tr th:only-of-type {\n",
       "        vertical-align: middle;\n",
       "    }\n",
       "\n",
       "    .dataframe tbody tr th {\n",
       "        vertical-align: top;\n",
       "    }\n",
       "\n",
       "    .dataframe thead th {\n",
       "        text-align: right;\n",
       "    }\n",
       "</style>\n",
       "<table border=\"1\" class=\"dataframe\">\n",
       "  <thead>\n",
       "    <tr style=\"text-align: right;\">\n",
       "      <th></th>\n",
       "      <th>Idade</th>\n",
       "      <th>IMC</th>\n",
       "      <th>Nivel de Glicose</th>\n",
       "      <th>Pressao</th>\n",
       "      <th>Temperatura</th>\n",
       "      <th>Estado</th>\n",
       "    </tr>\n",
       "  </thead>\n",
       "  <tbody>\n",
       "    <tr>\n",
       "      <th>0</th>\n",
       "      <td>41</td>\n",
       "      <td>10.265684</td>\n",
       "      <td>99.849644</td>\n",
       "      <td>60.774265</td>\n",
       "      <td>35.005951</td>\n",
       "      <td>0</td>\n",
       "    </tr>\n",
       "    <tr>\n",
       "      <th>1</th>\n",
       "      <td>31</td>\n",
       "      <td>29.249874</td>\n",
       "      <td>137.359735</td>\n",
       "      <td>70.053028</td>\n",
       "      <td>37.326140</td>\n",
       "      <td>0</td>\n",
       "    </tr>\n",
       "    <tr>\n",
       "      <th>2</th>\n",
       "      <td>71</td>\n",
       "      <td>15.422324</td>\n",
       "      <td>130.446392</td>\n",
       "      <td>71.184012</td>\n",
       "      <td>38.453074</td>\n",
       "      <td>1</td>\n",
       "    </tr>\n",
       "    <tr>\n",
       "      <th>3</th>\n",
       "      <td>59</td>\n",
       "      <td>35.103688</td>\n",
       "      <td>111.424026</td>\n",
       "      <td>64.570048</td>\n",
       "      <td>37.939929</td>\n",
       "      <td>1</td>\n",
       "    </tr>\n",
       "    <tr>\n",
       "      <th>4</th>\n",
       "      <td>64</td>\n",
       "      <td>31.482174</td>\n",
       "      <td>138.062939</td>\n",
       "      <td>69.345169</td>\n",
       "      <td>35.017729</td>\n",
       "      <td>0</td>\n",
       "    </tr>\n",
       "  </tbody>\n",
       "</table>\n",
       "</div>"
      ],
      "text/plain": [
       "   Idade        IMC  Nivel de Glicose    Pressao  Temperatura  Estado\n",
       "0     41  10.265684         99.849644  60.774265    35.005951       0\n",
       "1     31  29.249874        137.359735  70.053028    37.326140       0\n",
       "2     71  15.422324        130.446392  71.184012    38.453074       1\n",
       "3     59  35.103688        111.424026  64.570048    37.939929       1\n",
       "4     64  31.482174        138.062939  69.345169    35.017729       0"
      ]
     },
     "execution_count": 158,
     "metadata": {},
     "output_type": "execute_result"
    }
   ],
   "source": [
    "df.head()"
   ]
  },
  {
   "cell_type": "code",
   "execution_count": 159,
   "metadata": {},
   "outputs": [],
   "source": [
    "#Divisão em atributos e rótulos\n",
    "X = df.drop(columns=['Estado'])\n",
    "y = df['Estado']"
   ]
  },
  {
   "cell_type": "code",
   "execution_count": 160,
   "metadata": {},
   "outputs": [],
   "source": [
    "from sklearn.model_selection import train_test_split\n",
    "from sklearn.preprocessing import MinMaxScaler\n",
    "\n",
    "X_train, X_test, y_train, y_test = train_test_split(X, y, test_size=0.2)\n",
    "\n",
    "scaler = MinMaxScaler()\n",
    "X_train_scaled = scaler.fit_transform(X_train)\n",
    "X_test_scaled = scaler.transform(X_test)"
   ]
  },
  {
   "cell_type": "markdown",
   "metadata": {},
   "source": [
    "### Treinar os modelos de classificação"
   ]
  },
  {
   "cell_type": "code",
   "execution_count": 162,
   "metadata": {},
   "outputs": [
    {
     "name": "stdout",
     "output_type": "stream",
     "text": [
      "Fitting 5 folds for each of 10 candidates, totalling 50 fits\n",
      "[CV] END max_depth=10, min_samples_leaf=4, min_samples_split=5, n_estimators=300; total time=   6.0s\n",
      "[CV] END max_depth=10, min_samples_leaf=4, min_samples_split=5, n_estimators=300; total time=   6.6s\n",
      "[CV] END max_depth=10, min_samples_leaf=4, min_samples_split=5, n_estimators=300; total time=   7.1s\n",
      "[CV] END max_depth=10, min_samples_leaf=4, min_samples_split=5, n_estimators=300; total time=  11.6s\n",
      "[CV] END max_depth=10, min_samples_leaf=4, min_samples_split=5, n_estimators=300; total time=  13.4s\n",
      "[CV] END max_depth=20, min_samples_leaf=1, min_samples_split=5, n_estimators=300; total time=  13.9s\n",
      "[CV] END max_depth=20, min_samples_leaf=1, min_samples_split=5, n_estimators=300; total time=   9.7s\n",
      "[CV] END max_depth=20, min_samples_leaf=1, min_samples_split=5, n_estimators=300; total time=   9.6s\n",
      "[CV] END max_depth=20, min_samples_leaf=1, min_samples_split=5, n_estimators=300; total time=  18.8s\n",
      "[CV] END max_depth=20, min_samples_leaf=1, min_samples_split=5, n_estimators=300; total time=  21.2s\n",
      "[CV] END max_depth=10, min_samples_leaf=1, min_samples_split=10, n_estimators=500; total time=  18.1s\n",
      "[CV] END max_depth=10, min_samples_leaf=1, min_samples_split=10, n_estimators=500; total time=  10.9s\n",
      "[CV] END max_depth=10, min_samples_leaf=4, min_samples_split=2, n_estimators=500; total time=  10.7s\n",
      "[CV] END max_depth=10, min_samples_leaf=1, min_samples_split=10, n_estimators=500; total time=  13.9s\n",
      "[CV] END max_depth=10, min_samples_leaf=1, min_samples_split=10, n_estimators=500; total time=  16.9s\n",
      "[CV] END max_depth=10, min_samples_leaf=4, min_samples_split=2, n_estimators=500; total time=  14.3s\n",
      "[CV] END max_depth=10, min_samples_leaf=1, min_samples_split=10, n_estimators=500; total time=  20.9s\n",
      "[CV] END max_depth=10, min_samples_leaf=4, min_samples_split=2, n_estimators=500; total time=  11.2s\n",
      "[CV] END max_depth=10, min_samples_leaf=4, min_samples_split=2, n_estimators=500; total time=  15.5s\n",
      "[CV] END max_depth=10, min_samples_leaf=4, min_samples_split=2, n_estimators=500; total time=  19.0s\n",
      "[CV] END max_depth=20, min_samples_leaf=1, min_samples_split=5, n_estimators=500; total time=  19.4s\n",
      "[CV] END max_depth=10, min_samples_leaf=6, min_samples_split=10, n_estimators=500; total time=  11.0s\n",
      "[CV] END max_depth=20, min_samples_leaf=1, min_samples_split=5, n_estimators=500; total time=  17.0s\n",
      "[CV] END max_depth=10, min_samples_leaf=6, min_samples_split=10, n_estimators=500; total time=  16.1s\n",
      "[CV] END max_depth=20, min_samples_leaf=1, min_samples_split=5, n_estimators=500; total time=  27.4s\n",
      "[CV] END max_depth=20, min_samples_leaf=1, min_samples_split=5, n_estimators=500; total time=  30.3s\n",
      "[CV] END max_depth=10, min_samples_leaf=6, min_samples_split=10, n_estimators=500; total time=  15.9s\n",
      "[CV] END max_depth=10, min_samples_leaf=6, min_samples_split=10, n_estimators=500; total time=  15.3s\n",
      "[CV] END max_depth=10, min_samples_leaf=6, min_samples_split=10, n_estimators=500; total time=  14.1s\n",
      "[CV] END max_depth=20, min_samples_leaf=1, min_samples_split=5, n_estimators=500; total time=  30.1s\n",
      "[CV] END max_depth=30, min_samples_leaf=6, min_samples_split=10, n_estimators=500; total time=  19.9s\n",
      "[CV] END max_depth=30, min_samples_leaf=6, min_samples_split=10, n_estimators=500; total time=  24.1s\n",
      "[CV] END max_depth=30, min_samples_leaf=6, min_samples_split=10, n_estimators=500; total time=  20.4s\n",
      "[CV] END max_depth=30, min_samples_leaf=6, min_samples_split=10, n_estimators=500; total time=  25.7s\n",
      "[CV] END max_depth=30, min_samples_leaf=6, min_samples_split=10, n_estimators=500; total time=  24.6s\n",
      "[CV] END max_depth=30, min_samples_leaf=4, min_samples_split=10, n_estimators=500; total time=  19.5s\n",
      "[CV] END max_depth=30, min_samples_leaf=4, min_samples_split=10, n_estimators=500; total time=  23.1s\n",
      "[CV] END max_depth=30, min_samples_leaf=4, min_samples_split=10, n_estimators=500; total time=  23.5s\n",
      "[CV] END max_depth=20, min_samples_leaf=4, min_samples_split=2, n_estimators=300; total time=   8.9s\n",
      "[CV] END max_depth=20, min_samples_leaf=4, min_samples_split=2, n_estimators=300; total time=  10.9s\n",
      "[CV] END max_depth=20, min_samples_leaf=4, min_samples_split=2, n_estimators=300; total time=  13.7s\n",
      "[CV] END max_depth=20, min_samples_leaf=4, min_samples_split=2, n_estimators=300; total time=  14.0s\n",
      "[CV] END max_depth=30, min_samples_leaf=4, min_samples_split=10, n_estimators=500; total time=  23.0s\n",
      "[CV] END max_depth=20, min_samples_leaf=4, min_samples_split=2, n_estimators=300; total time=  14.1s\n",
      "[CV] END max_depth=30, min_samples_leaf=4, min_samples_split=10, n_estimators=500; total time=  25.4s\n",
      "[CV] END max_depth=None, min_samples_leaf=6, min_samples_split=2, n_estimators=500; total time=  17.2s\n",
      "[CV] END max_depth=None, min_samples_leaf=6, min_samples_split=2, n_estimators=500; total time=  15.4s\n",
      "[CV] END max_depth=None, min_samples_leaf=6, min_samples_split=2, n_estimators=500; total time=  14.7s\n",
      "[CV] END max_depth=None, min_samples_leaf=6, min_samples_split=2, n_estimators=500; total time=  14.4s\n",
      "[CV] END max_depth=None, min_samples_leaf=6, min_samples_split=2, n_estimators=500; total time=  13.7s\n",
      "Melhores Hiperparâmetros: {'n_estimators': 500, 'min_samples_split': 5, 'min_samples_leaf': 1, 'max_depth': 20}\n"
     ]
    }
   ],
   "source": [
    "from sklearn.ensemble import RandomForestClassifier\n",
    "from sklearn.model_selection import train_test_split, GridSearchCV\n",
    "\n",
    "from sklearn.model_selection import RandomizedSearchCV\n",
    "\n",
    "random_search = RandomizedSearchCV(RandomForestClassifier(random_state=42), param_grid,\n",
    "                                   n_iter=10, cv=5, n_jobs=-1, verbose=2, random_state=42)\n",
    "\n",
    "# Definir os hiperparâmetros para buscar os melhores valores\n",
    "param_grid = {\n",
    "    'n_estimators': [300,500],\n",
    "    'max_depth': [None, 10, 20, 30],\n",
    "    'min_samples_split': [2, 5, 10],\n",
    "    'min_samples_leaf': [1, 2, 4, 6]\n",
    "}\n",
    "\n",
    "grid_search = RandomizedSearchCV(RandomForestClassifier(random_state=42), param_grid, cv=5, n_jobs=-1, verbose=2)\n",
    "grid_search.fit(X_train_scaled, y_train)\n",
    "\n",
    "# Melhor modelo encontrado\n",
    "best_model = grid_search.best_estimator_\n",
    "print(\"Melhores Hiperparâmetros:\", grid_search.best_params_)"
   ]
  },
  {
   "cell_type": "code",
   "execution_count": 163,
   "metadata": {},
   "outputs": [],
   "source": [
    "rf = grid_search.best_estimator_"
   ]
  },
  {
   "cell_type": "code",
   "execution_count": 164,
   "metadata": {},
   "outputs": [],
   "source": [
    "y_pred = rf.predict(X_test_scaled)"
   ]
  },
  {
   "cell_type": "code",
   "execution_count": 165,
   "metadata": {},
   "outputs": [
    {
     "name": "stdout",
     "output_type": "stream",
     "text": [
      "              precision    recall  f1-score   support\n",
      "\n",
      "           0       0.52      0.49      0.51      1005\n",
      "           1       0.52      0.55      0.53       995\n",
      "\n",
      "    accuracy                           0.52      2000\n",
      "   macro avg       0.52      0.52      0.52      2000\n",
      "weighted avg       0.52      0.52      0.52      2000\n",
      "\n"
     ]
    }
   ],
   "source": [
    "from sklearn.metrics import classification_report, confusion_matrix\n",
    "\n",
    "print(classification_report(y_test, y_pred))"
   ]
  },
  {
   "cell_type": "markdown",
   "metadata": {},
   "source": [
    "### Avaliar a qualidade/desempenho do modelo"
   ]
  },
  {
   "cell_type": "code",
   "execution_count": null,
   "metadata": {},
   "outputs": [
    {
     "name": "stdout",
     "output_type": "stream",
     "text": [
      "              precision    recall  f1-score   support\n",
      "\n",
      "           0       0.50      0.53      0.52     10031\n",
      "           1       0.50      0.47      0.49      9969\n",
      "\n",
      "    accuracy                           0.50     20000\n",
      "   macro avg       0.50      0.50      0.50     20000\n",
      "weighted avg       0.50      0.50      0.50     20000\n",
      "\n"
     ]
    }
   ],
   "source": [
    "from sklearn.metrics import classification_report, confusion_matrix\n",
    "\n",
    "print(classification_report(y_test, y_pred))"
   ]
  },
  {
   "cell_type": "code",
   "execution_count": null,
   "metadata": {},
   "outputs": [
    {
     "data": {
      "text/plain": [
       "Text(70.72222222222221, 0.5, 'true')"
      ]
     },
     "execution_count": 132,
     "metadata": {},
     "output_type": "execute_result"
    },
    {
     "data": {
      "image/png": "[encoded data removed]",
      "text/plain": [
       "<Figure size 800x500 with 2 Axes>"
      ]
     },
     "metadata": {},
     "output_type": "display_data"
    }
   ],
   "source": [
    "cf_matrix = confusion_matrix(y_test, y_pred)\n",
    "\n",
    "plt.figure(figsize=[8,5])\n",
    "sns.heatmap(cf_matrix, annot=True, fmt='d', xticklabels=['Saudável', 'Doente'], yticklabels=['Sauavel', 'Doente'], cmap='Blues')\n",
    "plt.xlabel('predict')\n",
    "plt.ylabel('true')"
   ]
  },
  {
   "cell_type": "code",
   "execution_count": 166,
   "metadata": {},
   "outputs": [
    {
     "data": {
      "text/plain": [
       "Text(70.72222222222221, 0.5, 'true')"
      ]
     },
     "execution_count": 166,
     "metadata": {},
     "output_type": "execute_result"
    },
    {
     "data": {
      "image/png": "[encoded data removed]",
      "text/plain": [
       "<Figure size 800x500 with 2 Axes>"
      ]
     },
     "metadata": {},
     "output_type": "display_data"
    }
   ],
   "source": [
    "cf_matrix = confusion_matrix(y_test, y_pred)\n",
    "\n",
    "plt.figure(figsize=[8,5])\n",
    "sns.heatmap(cf_matrix, annot=True, fmt='d', xticklabels=['Saudável', 'Doente'], yticklabels=['Sauavel', 'Doente'], cmap='Blues')\n",
    "plt.xlabel('predict')\n",
    "plt.ylabel('true')"
   ]
  },
  {
   "cell_type": "markdown",
   "metadata": {},
   "source": [
    "### Testar outros modelos de classificação"
   ]
  }
 ],
 "metadata": {
  "kernelspec": {
   "display_name": "my_projects",
   "language": "python",
   "name": "python3"
  },
  "language_info": {
   "codemirror_mode": {
    "name": "ipython",
    "version": 3
   },
   "file_extension": ".py",
   "mimetype": "text/x-python",
   "name": "python",
   "nbconvert_exporter": "python",
   "pygments_lexer": "ipython3",
   "version": "3.9.16"
  }
 },
 "nbformat": 4,
 "nbformat_minor": 2
}
